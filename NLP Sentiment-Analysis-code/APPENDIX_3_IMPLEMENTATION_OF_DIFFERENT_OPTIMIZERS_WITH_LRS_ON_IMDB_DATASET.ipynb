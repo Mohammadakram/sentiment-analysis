{
  "cells": [
    {
      "cell_type": "code",
      "execution_count": null,
      "metadata": {
        "colab": {
          "base_uri": "https://localhost:8080/"
        },
        "id": "6pTNOOd0yNU9",
        "outputId": "b9194279-d79e-44e2-fd74-8fd9b7fb5b39"
      },
      "outputs": [
        {
          "output_type": "stream",
          "name": "stdout",
          "text": [
            "Collecting transformers\n",
            "  Downloading transformers-4.33.1-py3-none-any.whl (7.6 MB)\n",
            "\u001b[2K     \u001b[90m━━━━━━━━━━━━━━━━━━━━━━━━━━━━━━━━━━━━━━━━\u001b[0m \u001b[32m7.6/7.6 MB\u001b[0m \u001b[31m59.6 MB/s\u001b[0m eta \u001b[36m0:00:00\u001b[0m\n",
            "\u001b[?25hRequirement already satisfied: filelock in /usr/local/lib/python3.10/dist-packages (from transformers) (3.12.2)\n",
            "Collecting huggingface-hub<1.0,>=0.15.1 (from transformers)\n",
            "  Downloading huggingface_hub-0.16.4-py3-none-any.whl (268 kB)\n",
            "\u001b[2K     \u001b[90m━━━━━━━━━━━━━━━━━━━━━━━━━━━━━━━━━━━━━━\u001b[0m \u001b[32m268.8/268.8 kB\u001b[0m \u001b[31m33.4 MB/s\u001b[0m eta \u001b[36m0:00:00\u001b[0m\n",
            "\u001b[?25hRequirement already satisfied: numpy>=1.17 in /usr/local/lib/python3.10/dist-packages (from transformers) (1.23.5)\n",
            "Requirement already satisfied: packaging>=20.0 in /usr/local/lib/python3.10/dist-packages (from transformers) (23.1)\n",
            "Requirement already satisfied: pyyaml>=5.1 in /usr/local/lib/python3.10/dist-packages (from transformers) (6.0.1)\n",
            "Requirement already satisfied: regex!=2019.12.17 in /usr/local/lib/python3.10/dist-packages (from transformers) (2023.6.3)\n",
            "Requirement already satisfied: requests in /usr/local/lib/python3.10/dist-packages (from transformers) (2.31.0)\n",
            "Collecting tokenizers!=0.11.3,<0.14,>=0.11.1 (from transformers)\n",
            "  Downloading tokenizers-0.13.3-cp310-cp310-manylinux_2_17_x86_64.manylinux2014_x86_64.whl (7.8 MB)\n",
            "\u001b[2K     \u001b[90m━━━━━━━━━━━━━━━━━━━━━━━━━━━━━━━━━━━━━━━━\u001b[0m \u001b[32m7.8/7.8 MB\u001b[0m \u001b[31m108.1 MB/s\u001b[0m eta \u001b[36m0:00:00\u001b[0m\n",
            "\u001b[?25hCollecting safetensors>=0.3.1 (from transformers)\n",
            "  Downloading safetensors-0.3.3-cp310-cp310-manylinux_2_17_x86_64.manylinux2014_x86_64.whl (1.3 MB)\n",
            "\u001b[2K     \u001b[90m━━━━━━━━━━━━━━━━━━━━━━━━━━━━━━━━━━━━━━━━\u001b[0m \u001b[32m1.3/1.3 MB\u001b[0m \u001b[31m67.8 MB/s\u001b[0m eta \u001b[36m0:00:00\u001b[0m\n",
            "\u001b[?25hRequirement already satisfied: tqdm>=4.27 in /usr/local/lib/python3.10/dist-packages (from transformers) (4.66.1)\n",
            "Requirement already satisfied: fsspec in /usr/local/lib/python3.10/dist-packages (from huggingface-hub<1.0,>=0.15.1->transformers) (2023.6.0)\n",
            "Requirement already satisfied: typing-extensions>=3.7.4.3 in /usr/local/lib/python3.10/dist-packages (from huggingface-hub<1.0,>=0.15.1->transformers) (4.5.0)\n",
            "Requirement already satisfied: charset-normalizer<4,>=2 in /usr/local/lib/python3.10/dist-packages (from requests->transformers) (3.2.0)\n",
            "Requirement already satisfied: idna<4,>=2.5 in /usr/local/lib/python3.10/dist-packages (from requests->transformers) (3.4)\n",
            "Requirement already satisfied: urllib3<3,>=1.21.1 in /usr/local/lib/python3.10/dist-packages (from requests->transformers) (2.0.4)\n",
            "Requirement already satisfied: certifi>=2017.4.17 in /usr/local/lib/python3.10/dist-packages (from requests->transformers) (2023.7.22)\n",
            "Installing collected packages: tokenizers, safetensors, huggingface-hub, transformers\n",
            "Successfully installed huggingface-hub-0.16.4 safetensors-0.3.3 tokenizers-0.13.3 transformers-4.33.1\n"
          ]
        }
      ],
      "source": [
        "pip install transformers"
      ],
      "id": "6pTNOOd0yNU9"
    },
    {
      "cell_type": "code",
      "execution_count": null,
      "metadata": {
        "id": "2c9d64ac"
      },
      "outputs": [],
      "source": [
        "#importing all the essential libraries\n",
        "import pandas as pd\n",
        "from sklearn.model_selection import train_test_split\n",
        "from google.colab import drive\n",
        "import matplotlib.pyplot as plt\n",
        "import re #for data pre-processing\n",
        "import unicodedata #library for data pre-processing\n",
        "from transformers import BertTokenizer, BertForSequenceClassification, BertConfig, BertModel\n",
        "import torch\n",
        "import torch.nn as nn\n",
        "import torch.optim as optim\n",
        "import torch.optim.lr_scheduler as lr_scheduler\n",
        "from torch.utils.data import DataLoader, TensorDataset\n",
        "from sklearn.metrics import accuracy_score, classification_report, confusion_matrix"
      ],
      "id": "2c9d64ac"
    },
    {
      "cell_type": "code",
      "execution_count": null,
      "metadata": {
        "colab": {
          "base_uri": "https://localhost:8080/"
        },
        "id": "S8wckJC6jhOZ",
        "outputId": "5e2fffbe-fa51-4bef-b834-e74123a94e5b"
      },
      "outputs": [
        {
          "output_type": "stream",
          "name": "stdout",
          "text": [
            "Mounted at /content/drive\n"
          ]
        }
      ],
      "source": [
        "#mounting drive to collab\n",
        "drive.mount('/content/drive')"
      ],
      "id": "S8wckJC6jhOZ"
    },
    {
      "cell_type": "code",
      "execution_count": null,
      "metadata": {
        "id": "HXCbexQYjff8"
      },
      "outputs": [],
      "source": [
        "#Reading file from drive\n",
        "df = pd.read_csv('/content/drive/MyDrive/Colab Notebooks/IMDB_Dataset.csv')"
      ],
      "id": "HXCbexQYjff8"
    },
    {
      "cell_type": "code",
      "execution_count": null,
      "metadata": {
        "colab": {
          "base_uri": "https://localhost:8080/",
          "height": 206
        },
        "id": "9a90d8c5",
        "outputId": "b69024bd-8601-49ef-f99b-e30d63a8492b"
      },
      "outputs": [
        {
          "output_type": "execute_result",
          "data": {
            "text/plain": [
              "                                              review sentiment\n",
              "0  One of the other reviewers has mentioned that ...  positive\n",
              "1  A wonderful little production. <br /><br />The...  positive\n",
              "2  I thought this was a wonderful way to spend ti...  positive\n",
              "3  Basically there's a family where a little boy ...  negative\n",
              "4  Petter Mattei's \"Love in the Time of Money\" is...  positive"
            ],
            "text/html": [
              "\n",
              "  <div id=\"df-ad3d824d-2b77-40ea-9c6c-e81c68c153b9\" class=\"colab-df-container\">\n",
              "    <div>\n",
              "<style scoped>\n",
              "    .dataframe tbody tr th:only-of-type {\n",
              "        vertical-align: middle;\n",
              "    }\n",
              "\n",
              "    .dataframe tbody tr th {\n",
              "        vertical-align: top;\n",
              "    }\n",
              "\n",
              "    .dataframe thead th {\n",
              "        text-align: right;\n",
              "    }\n",
              "</style>\n",
              "<table border=\"1\" class=\"dataframe\">\n",
              "  <thead>\n",
              "    <tr style=\"text-align: right;\">\n",
              "      <th></th>\n",
              "      <th>review</th>\n",
              "      <th>sentiment</th>\n",
              "    </tr>\n",
              "  </thead>\n",
              "  <tbody>\n",
              "    <tr>\n",
              "      <th>0</th>\n",
              "      <td>One of the other reviewers has mentioned that ...</td>\n",
              "      <td>positive</td>\n",
              "    </tr>\n",
              "    <tr>\n",
              "      <th>1</th>\n",
              "      <td>A wonderful little production. &lt;br /&gt;&lt;br /&gt;The...</td>\n",
              "      <td>positive</td>\n",
              "    </tr>\n",
              "    <tr>\n",
              "      <th>2</th>\n",
              "      <td>I thought this was a wonderful way to spend ti...</td>\n",
              "      <td>positive</td>\n",
              "    </tr>\n",
              "    <tr>\n",
              "      <th>3</th>\n",
              "      <td>Basically there's a family where a little boy ...</td>\n",
              "      <td>negative</td>\n",
              "    </tr>\n",
              "    <tr>\n",
              "      <th>4</th>\n",
              "      <td>Petter Mattei's \"Love in the Time of Money\" is...</td>\n",
              "      <td>positive</td>\n",
              "    </tr>\n",
              "  </tbody>\n",
              "</table>\n",
              "</div>\n",
              "    <div class=\"colab-df-buttons\">\n",
              "\n",
              "  <div class=\"colab-df-container\">\n",
              "    <button class=\"colab-df-convert\" onclick=\"convertToInteractive('df-ad3d824d-2b77-40ea-9c6c-e81c68c153b9')\"\n",
              "            title=\"Convert this dataframe to an interactive table.\"\n",
              "            style=\"display:none;\">\n",
              "\n",
              "  <svg xmlns=\"http://www.w3.org/2000/svg\" height=\"24px\" viewBox=\"0 -960 960 960\">\n",
              "    <path d=\"M120-120v-720h720v720H120Zm60-500h600v-160H180v160Zm220 220h160v-160H400v160Zm0 220h160v-160H400v160ZM180-400h160v-160H180v160Zm440 0h160v-160H620v160ZM180-180h160v-160H180v160Zm440 0h160v-160H620v160Z\"/>\n",
              "  </svg>\n",
              "    </button>\n",
              "\n",
              "  <style>\n",
              "    .colab-df-container {\n",
              "      display:flex;\n",
              "      gap: 12px;\n",
              "    }\n",
              "\n",
              "    .colab-df-convert {\n",
              "      background-color: #E8F0FE;\n",
              "      border: none;\n",
              "      border-radius: 50%;\n",
              "      cursor: pointer;\n",
              "      display: none;\n",
              "      fill: #1967D2;\n",
              "      height: 32px;\n",
              "      padding: 0 0 0 0;\n",
              "      width: 32px;\n",
              "    }\n",
              "\n",
              "    .colab-df-convert:hover {\n",
              "      background-color: #E2EBFA;\n",
              "      box-shadow: 0px 1px 2px rgba(60, 64, 67, 0.3), 0px 1px 3px 1px rgba(60, 64, 67, 0.15);\n",
              "      fill: #174EA6;\n",
              "    }\n",
              "\n",
              "    .colab-df-buttons div {\n",
              "      margin-bottom: 4px;\n",
              "    }\n",
              "\n",
              "    [theme=dark] .colab-df-convert {\n",
              "      background-color: #3B4455;\n",
              "      fill: #D2E3FC;\n",
              "    }\n",
              "\n",
              "    [theme=dark] .colab-df-convert:hover {\n",
              "      background-color: #434B5C;\n",
              "      box-shadow: 0px 1px 3px 1px rgba(0, 0, 0, 0.15);\n",
              "      filter: drop-shadow(0px 1px 2px rgba(0, 0, 0, 0.3));\n",
              "      fill: #FFFFFF;\n",
              "    }\n",
              "  </style>\n",
              "\n",
              "    <script>\n",
              "      const buttonEl =\n",
              "        document.querySelector('#df-ad3d824d-2b77-40ea-9c6c-e81c68c153b9 button.colab-df-convert');\n",
              "      buttonEl.style.display =\n",
              "        google.colab.kernel.accessAllowed ? 'block' : 'none';\n",
              "\n",
              "      async function convertToInteractive(key) {\n",
              "        const element = document.querySelector('#df-ad3d824d-2b77-40ea-9c6c-e81c68c153b9');\n",
              "        const dataTable =\n",
              "          await google.colab.kernel.invokeFunction('convertToInteractive',\n",
              "                                                    [key], {});\n",
              "        if (!dataTable) return;\n",
              "\n",
              "        const docLinkHtml = 'Like what you see? Visit the ' +\n",
              "          '<a target=\"_blank\" href=https://colab.research.google.com/notebooks/data_table.ipynb>data table notebook</a>'\n",
              "          + ' to learn more about interactive tables.';\n",
              "        element.innerHTML = '';\n",
              "        dataTable['output_type'] = 'display_data';\n",
              "        await google.colab.output.renderOutput(dataTable, element);\n",
              "        const docLink = document.createElement('div');\n",
              "        docLink.innerHTML = docLinkHtml;\n",
              "        element.appendChild(docLink);\n",
              "      }\n",
              "    </script>\n",
              "  </div>\n",
              "\n",
              "\n",
              "<div id=\"df-351c8574-5975-4f72-9518-f8b278d11904\">\n",
              "  <button class=\"colab-df-quickchart\" onclick=\"quickchart('df-351c8574-5975-4f72-9518-f8b278d11904')\"\n",
              "            title=\"Suggest charts.\"\n",
              "            style=\"display:none;\">\n",
              "\n",
              "<svg xmlns=\"http://www.w3.org/2000/svg\" height=\"24px\"viewBox=\"0 0 24 24\"\n",
              "     width=\"24px\">\n",
              "    <g>\n",
              "        <path d=\"M19 3H5c-1.1 0-2 .9-2 2v14c0 1.1.9 2 2 2h14c1.1 0 2-.9 2-2V5c0-1.1-.9-2-2-2zM9 17H7v-7h2v7zm4 0h-2V7h2v10zm4 0h-2v-4h2v4z\"/>\n",
              "    </g>\n",
              "</svg>\n",
              "  </button>\n",
              "\n",
              "<style>\n",
              "  .colab-df-quickchart {\n",
              "      --bg-color: #E8F0FE;\n",
              "      --fill-color: #1967D2;\n",
              "      --hover-bg-color: #E2EBFA;\n",
              "      --hover-fill-color: #174EA6;\n",
              "      --disabled-fill-color: #AAA;\n",
              "      --disabled-bg-color: #DDD;\n",
              "  }\n",
              "\n",
              "  [theme=dark] .colab-df-quickchart {\n",
              "      --bg-color: #3B4455;\n",
              "      --fill-color: #D2E3FC;\n",
              "      --hover-bg-color: #434B5C;\n",
              "      --hover-fill-color: #FFFFFF;\n",
              "      --disabled-bg-color: #3B4455;\n",
              "      --disabled-fill-color: #666;\n",
              "  }\n",
              "\n",
              "  .colab-df-quickchart {\n",
              "    background-color: var(--bg-color);\n",
              "    border: none;\n",
              "    border-radius: 50%;\n",
              "    cursor: pointer;\n",
              "    display: none;\n",
              "    fill: var(--fill-color);\n",
              "    height: 32px;\n",
              "    padding: 0;\n",
              "    width: 32px;\n",
              "  }\n",
              "\n",
              "  .colab-df-quickchart:hover {\n",
              "    background-color: var(--hover-bg-color);\n",
              "    box-shadow: 0 1px 2px rgba(60, 64, 67, 0.3), 0 1px 3px 1px rgba(60, 64, 67, 0.15);\n",
              "    fill: var(--button-hover-fill-color);\n",
              "  }\n",
              "\n",
              "  .colab-df-quickchart-complete:disabled,\n",
              "  .colab-df-quickchart-complete:disabled:hover {\n",
              "    background-color: var(--disabled-bg-color);\n",
              "    fill: var(--disabled-fill-color);\n",
              "    box-shadow: none;\n",
              "  }\n",
              "\n",
              "  .colab-df-spinner {\n",
              "    border: 2px solid var(--fill-color);\n",
              "    border-color: transparent;\n",
              "    border-bottom-color: var(--fill-color);\n",
              "    animation:\n",
              "      spin 1s steps(1) infinite;\n",
              "  }\n",
              "\n",
              "  @keyframes spin {\n",
              "    0% {\n",
              "      border-color: transparent;\n",
              "      border-bottom-color: var(--fill-color);\n",
              "      border-left-color: var(--fill-color);\n",
              "    }\n",
              "    20% {\n",
              "      border-color: transparent;\n",
              "      border-left-color: var(--fill-color);\n",
              "      border-top-color: var(--fill-color);\n",
              "    }\n",
              "    30% {\n",
              "      border-color: transparent;\n",
              "      border-left-color: var(--fill-color);\n",
              "      border-top-color: var(--fill-color);\n",
              "      border-right-color: var(--fill-color);\n",
              "    }\n",
              "    40% {\n",
              "      border-color: transparent;\n",
              "      border-right-color: var(--fill-color);\n",
              "      border-top-color: var(--fill-color);\n",
              "    }\n",
              "    60% {\n",
              "      border-color: transparent;\n",
              "      border-right-color: var(--fill-color);\n",
              "    }\n",
              "    80% {\n",
              "      border-color: transparent;\n",
              "      border-right-color: var(--fill-color);\n",
              "      border-bottom-color: var(--fill-color);\n",
              "    }\n",
              "    90% {\n",
              "      border-color: transparent;\n",
              "      border-bottom-color: var(--fill-color);\n",
              "    }\n",
              "  }\n",
              "</style>\n",
              "\n",
              "  <script>\n",
              "    async function quickchart(key) {\n",
              "      const quickchartButtonEl =\n",
              "        document.querySelector('#' + key + ' button');\n",
              "      quickchartButtonEl.disabled = true;  // To prevent multiple clicks.\n",
              "      quickchartButtonEl.classList.add('colab-df-spinner');\n",
              "      try {\n",
              "        const charts = await google.colab.kernel.invokeFunction(\n",
              "            'suggestCharts', [key], {});\n",
              "      } catch (error) {\n",
              "        console.error('Error during call to suggestCharts:', error);\n",
              "      }\n",
              "      quickchartButtonEl.classList.remove('colab-df-spinner');\n",
              "      quickchartButtonEl.classList.add('colab-df-quickchart-complete');\n",
              "    }\n",
              "    (() => {\n",
              "      let quickchartButtonEl =\n",
              "        document.querySelector('#df-351c8574-5975-4f72-9518-f8b278d11904 button');\n",
              "      quickchartButtonEl.style.display =\n",
              "        google.colab.kernel.accessAllowed ? 'block' : 'none';\n",
              "    })();\n",
              "  </script>\n",
              "</div>\n",
              "    </div>\n",
              "  </div>\n"
            ]
          },
          "metadata": {},
          "execution_count": 5
        }
      ],
      "source": [
        "#Printing top 5 rows\n",
        "df.head()"
      ],
      "id": "9a90d8c5"
    },
    {
      "cell_type": "code",
      "execution_count": null,
      "metadata": {
        "colab": {
          "base_uri": "https://localhost:8080/"
        },
        "id": "17b1641f",
        "outputId": "bbba13b7-5763-4932-d402-9f80a7baae01"
      },
      "outputs": [
        {
          "output_type": "execute_result",
          "data": {
            "text/plain": [
              "0        False\n",
              "1        False\n",
              "2        False\n",
              "3        False\n",
              "4        False\n",
              "         ...  \n",
              "49995    False\n",
              "49996    False\n",
              "49997    False\n",
              "49998    False\n",
              "49999    False\n",
              "Name: sentiment, Length: 50000, dtype: bool"
            ]
          },
          "metadata": {},
          "execution_count": 6
        }
      ],
      "source": [
        "#checking for any null values\n",
        "\n",
        "df['sentiment'].isnull()"
      ],
      "id": "17b1641f"
    },
    {
      "cell_type": "code",
      "execution_count": null,
      "metadata": {
        "colab": {
          "base_uri": "https://localhost:8080/"
        },
        "id": "d8e79f07",
        "outputId": "1942e306-93fc-455b-f8a1-d32024b51bd7"
      },
      "outputs": [
        {
          "output_type": "stream",
          "name": "stdout",
          "text": [
            "<class 'pandas.core.frame.DataFrame'>\n",
            "RangeIndex: 50000 entries, 0 to 49999\n",
            "Data columns (total 2 columns):\n",
            " #   Column     Non-Null Count  Dtype \n",
            "---  ------     --------------  ----- \n",
            " 0   review     50000 non-null  object\n",
            " 1   sentiment  50000 non-null  object\n",
            "dtypes: object(2)\n",
            "memory usage: 781.4+ KB\n"
          ]
        }
      ],
      "source": [
        "df.info()"
      ],
      "id": "d8e79f07"
    },
    {
      "cell_type": "code",
      "execution_count": null,
      "metadata": {
        "id": "751db7a6"
      },
      "outputs": [],
      "source": [
        "#Assigning X & y with review and sentiment respectively\n",
        "\n",
        "X = df['review']\n",
        "y = df['sentiment']"
      ],
      "id": "751db7a6"
    },
    {
      "cell_type": "code",
      "source": [
        "#splitting values in to train, validation and test sets\n",
        "X_train, X_temp, y_train, y_temp = train_test_split(X, y, test_size=0.7,stratify=y, random_state=42)\n",
        "X_val, X_test, y_val, y_test = train_test_split(X_temp, y_temp, test_size=0.57, random_state=42)"
      ],
      "metadata": {
        "id": "zg6tiVgi6mfx"
      },
      "id": "zg6tiVgi6mfx",
      "execution_count": null,
      "outputs": []
    },
    {
      "cell_type": "code",
      "execution_count": null,
      "metadata": {
        "colab": {
          "base_uri": "https://localhost:8080/"
        },
        "id": "fa8a27d9",
        "outputId": "ea421058-bf6c-44f0-d13e-64823611f98a"
      },
      "outputs": [
        {
          "output_type": "stream",
          "name": "stdout",
          "text": [
            "Training set size: 15000\n",
            "Test set size: 19950\n",
            "Validation set size: 15050\n"
          ]
        }
      ],
      "source": [
        "#chceking the length of the train, validation and test sets\n",
        "\n",
        "print(\"Training set size:\", len(X_train))\n",
        "print(\"Test set size:\", len(X_test))\n",
        "print(\"Validation set size:\", len(X_val))"
      ],
      "id": "fa8a27d9"
    },
    {
      "cell_type": "code",
      "execution_count": null,
      "metadata": {
        "colab": {
          "base_uri": "https://localhost:8080/"
        },
        "id": "c16cb1a2",
        "outputId": "2ba75c75-1063-4686-afbc-758825c30741",
        "scrolled": true
      },
      "outputs": [
        {
          "output_type": "stream",
          "name": "stdout",
          "text": [
            "Int64Index([12276,  4319,  4210, 20735, 49290, 39716, 45480,  6587, 17792,\n",
            "            42351,\n",
            "            ...\n",
            "            42187, 36288, 22917,   710, 11540, 17731, 25976, 36837, 35597,\n",
            "            23156],\n",
            "           dtype='int64', length=15000)\n",
            "Int64Index([37705, 15809, 25154, 10620,  6067, 11681, 46162, 44805,  4023,\n",
            "            18822,\n",
            "            ...\n",
            "            14298, 49558, 37247, 48609, 42453,  4235,  2155, 26268, 42437,\n",
            "            21006],\n",
            "           dtype='int64', length=19950)\n",
            "Int64Index([  861, 15012, 42736, 20335, 47365, 43667, 29783,  7072, 14691,\n",
            "            44643,\n",
            "            ...\n",
            "            44013, 26105, 39106,   796, 22364, 33486,  9510, 24406, 45997,\n",
            "            18961],\n",
            "           dtype='int64', length=15050)\n"
          ]
        }
      ],
      "source": [
        "#seeing the index locations for the variables\n",
        "\n",
        "print(X_train.index)\n",
        "print(X_test.index)\n",
        "print(X_val.index)"
      ],
      "id": "c16cb1a2"
    },
    {
      "cell_type": "code",
      "execution_count": null,
      "metadata": {
        "id": "6e6f1bc5"
      },
      "outputs": [],
      "source": [
        "#resetting the index locations\n",
        "\n",
        "X_train = X_train.reset_index(drop=True)\n",
        "X_test = X_test.reset_index(drop=True)\n",
        "X_val = X_val.reset_index(drop=True)"
      ],
      "id": "6e6f1bc5"
    },
    {
      "cell_type": "code",
      "execution_count": null,
      "metadata": {
        "colab": {
          "base_uri": "https://localhost:8080/"
        },
        "id": "cb865597",
        "outputId": "386ec074-c7bf-4045-ff8b-6e36814a3667"
      },
      "outputs": [
        {
          "output_type": "stream",
          "name": "stdout",
          "text": [
            "RangeIndex(start=0, stop=15000, step=1)\n",
            "RangeIndex(start=0, stop=19950, step=1)\n",
            "RangeIndex(start=0, stop=15050, step=1)\n"
          ]
        }
      ],
      "source": [
        "# Verifying the updated index values\n",
        "\n",
        "print(X_train.index)\n",
        "print(X_test.index)\n",
        "print(X_val.index)"
      ],
      "id": "cb865597"
    },
    {
      "cell_type": "code",
      "execution_count": null,
      "metadata": {
        "colab": {
          "base_uri": "https://localhost:8080/"
        },
        "id": "6d46f9da",
        "outputId": "a63dfa85-1837-4cf1-a1f2-740b11d52da5"
      },
      "outputs": [
        {
          "output_type": "stream",
          "name": "stdout",
          "text": [
            "The 4th Pokemon movie made me cry when Celebi died. Don't you dare say that Pokemon sucks! I don't like it when people say that.... I've liked Pokemon for 5 or 6 years, so everyone should enjoy Pokemon, including this movie and other Pokemon movies. So, without further ado, please say that Pokemon is great and should be enjoyed by people for all ages. And also, why do Pokemon-haters give low ratings for all or most of the Pokemon movies? I don't understand.... They shouldn't do that.... There's absolutely no reason why people should just vote without proving that Pokemon sucks besides the fact that: 1) Pokemon is for little kids ONLY. 2) Pokemon is stupid. and 3) People shouldn't like Pokemon. I think this is why people don't like Pokemon.\n",
            "The gimmick, as it were, of this 1934 Paramount comedy is the six comedy performers, paired off into three man-and-woman teams, who all appear together. W. C. Fields and his frequent screen partner Alsion Skipworth appear in the second half of the film and shine in their roles as a small-town sheriff and innkeeper. Fields seems to have been given the latitude to inject plenty of his own one-of-a-kind brand of misanthropic, surreal comedy into his part, and it works wonderfully, especially where he is allowed to do his famous pool table routine, a digression that is totally welcome since it is hilarious.<br /><br />At first thought it might have seemed like a mismatch to conceive of a film to be carried by the subtle domestic comedy of Charlie Ruggles and Mary Boland next to the broad, jokey Vaudeville patter of the great husband-and-wife comedy team of George Burns and Gracie Allen, but here it works perfectly because of the parts George and Gracie are given in the script. They are there are freeloaders hitching a ride to California on Ruggles' and Boland's honeymoon trip and consistently find ways to annoy them at every step, including, brilliantly, while they are each holding on to the side of a cliff for dear life.<br /><br />Making Burns and Allen comic annoyances to two sympathetic characters turns out to be a perfect way to fit their far-out, larger-than-life comedy characters into a real world setting -- the comedy of people reacting to them in a believable way turns out to be as much as a gold-mine as Gracie's famous naive delivery itself.<br /><br />Charlie Ruggles deserves special mention for his performance as the fussy banker \"Pinky\" Whinney. He's marvelously subtle and underplayed, and draws laughs from lines that in another actor's hands might not even have been heard.<br /><br />The script is wonderfully witty all through, and most of the way it's a perfectly extended comedy of frustration in which our sympathies are with the poor Whinneys who can't get a moment alone, and the extra bonus is that what frustrates them is just more first-rate comedy material from Burns and Allen. <br /><br />For the pre-code watchers out there, there is some rather suggestive material in some of the most amusing scenes, as Whinney tries to get across to George just WHY he and his wife want to be alone for a while.<br /><br />There are a few signs of a rushed production here -- the occasional jump cut, one of the most obvious drop sets you will ever see in a movie (right up there with W. C. Field's own short \"The Golf Specialist\"), and the knot in Field's tie is constantly changing in shape. These don't bother me, though, and they shouldn't bother anybody who is enjoying the film.<br /><br />\"Six of a Kind\" is a real little-known gem and one of the funniest movies I've seen in a while. If you're thinking about whether to watch it, the answer should be yes.\n",
            "It isn't TOO bad, but ultimately it lacks the quality that the Australian series has.<br /><br />The jokes are few and far between, the actors are attractive (they shouldn't be), the film makers think far too much about the cinematography (it's supposed to look like a home video) and it's just like a serious version of Kath and Kim... it's stupid.<br /><br />It's too normal to be Kath and Kim. Kath and Kim are supposed to be two curvy, middle-aged women who think they are hot and wear ridiculous clothes. There are no \"Look at me Kimmy!\" jokes. The fat friend of Kim is not fat at all and she's not even slightly stupid. She's a stereotypical black/Latino chick.<br /><br />It's just not as stupid or funny as the Australian series. It doesn't compare. Nothing is the same. I admit, this show is pretty funny at times, but it is NOT anything like the Aussie series. I was looking forward to an American take on a bogan family. They failed. It's supposed to be REALLY stupid and hilarious, but the actors don't act stupid! To me, this is just a typical American TV show. It's a let down if you want it to be anything like the Aussie show.<br /><br />2 Stars because it is an OKAY show, just nothing like what it should be.\n"
          ]
        }
      ],
      "source": [
        "#Printing the data brfore pre processing\n",
        "\n",
        "print(X_train[0])\n",
        "print(X_test[0])\n",
        "print(X_val[0])"
      ],
      "id": "6d46f9da"
    },
    {
      "cell_type": "code",
      "execution_count": null,
      "metadata": {
        "colab": {
          "base_uri": "https://localhost:8080/"
        },
        "id": "a6ed3979",
        "outputId": "b56aa3cb-9748-4c44-8e38-9a05b4dde222"
      },
      "outputs": [
        {
          "output_type": "stream",
          "name": "stdout",
          "text": [
            "Int64Index([12276,  4319,  4210, 20735, 49290, 39716, 45480,  6587, 17792,\n",
            "            42351,\n",
            "            ...\n",
            "            42187, 36288, 22917,   710, 11540, 17731, 25976, 36837, 35597,\n",
            "            23156],\n",
            "           dtype='int64', length=15000)\n",
            "Int64Index([37705, 15809, 25154, 10620,  6067, 11681, 46162, 44805,  4023,\n",
            "            18822,\n",
            "            ...\n",
            "            14298, 49558, 37247, 48609, 42453,  4235,  2155, 26268, 42437,\n",
            "            21006],\n",
            "           dtype='int64', length=19950)\n",
            "Int64Index([  861, 15012, 42736, 20335, 47365, 43667, 29783,  7072, 14691,\n",
            "            44643,\n",
            "            ...\n",
            "            44013, 26105, 39106,   796, 22364, 33486,  9510, 24406, 45997,\n",
            "            18961],\n",
            "           dtype='int64', length=15050)\n"
          ]
        }
      ],
      "source": [
        "#seeing the index locations for the variables\n",
        "\n",
        "print(y_train.index)\n",
        "print(y_test.index)\n",
        "print(y_val.index)"
      ],
      "id": "a6ed3979"
    },
    {
      "cell_type": "code",
      "execution_count": null,
      "metadata": {
        "id": "aa429b55"
      },
      "outputs": [],
      "source": [
        "#resetting the index locations\n",
        "\n",
        "y_train = y_train.reset_index(drop=True)\n",
        "y_test = y_test.reset_index(drop=True)\n",
        "y_val = y_val.reset_index(drop=True)"
      ],
      "id": "aa429b55"
    },
    {
      "cell_type": "code",
      "execution_count": null,
      "metadata": {
        "colab": {
          "base_uri": "https://localhost:8080/"
        },
        "id": "266952ff",
        "outputId": "6f3b5b58-6e97-4e68-fd8a-b648b70002ec"
      },
      "outputs": [
        {
          "output_type": "stream",
          "name": "stdout",
          "text": [
            "RangeIndex(start=0, stop=15000, step=1)\n",
            "RangeIndex(start=0, stop=19950, step=1)\n",
            "RangeIndex(start=0, stop=15050, step=1)\n"
          ]
        }
      ],
      "source": [
        "print(y_train.index)\n",
        "print(y_test.index)\n",
        "print(y_val.index)"
      ],
      "id": "266952ff"
    },
    {
      "cell_type": "code",
      "execution_count": null,
      "metadata": {
        "colab": {
          "base_uri": "https://localhost:8080/"
        },
        "id": "35190789",
        "outputId": "e4f07edd-f475-4bf7-8bb5-a0f798e4223e"
      },
      "outputs": [
        {
          "output_type": "stream",
          "name": "stdout",
          "text": [
            "positive\n",
            "positive\n",
            "negative\n"
          ]
        }
      ],
      "source": [
        "print(y_train[0])\n",
        "print(y_test[0])\n",
        "print(y_val[0])"
      ],
      "id": "35190789"
    },
    {
      "cell_type": "code",
      "execution_count": null,
      "metadata": {
        "id": "WfzB5KuXRWf-"
      },
      "outputs": [],
      "source": [
        "def preprocess_text(text):\n",
        "    # Removing HTML tags\n",
        "    text = re.sub('<.*?>', '', text)\n",
        "\n",
        "    # Removing accented characters by normalizing to ASCII\n",
        "    text = unicodedata.normalize('NFKD', text).encode('ascii', 'ignore').decode('utf-8', 'ignore')\n",
        "\n",
        "    # Replacing patterns like n't, nt, and n t with not\n",
        "    text = re.sub(r\"\\b(n['’]?t|n\\s?t)\\b\", ' not', text)\n",
        "\n",
        "    # Removing special characters\n",
        "    text = re.sub(\"[^a-zA-Z0-9,'!]\", ' ', text)\n",
        "\n",
        "    # Converting text to lowercase\n",
        "    text = text.lower()\n",
        "\n",
        "    # Separating text into sentences based on punctuations and then removing punctuations\n",
        "    sentences = re.split(r'[.!?]', text)\n",
        "    sentences = [re.sub('[,]', '', sentence) for sentence in sentences]\n",
        "\n",
        "    # Removing extra spaces\n",
        "    text = ' '.join(' '.join(sentence.split()) for sentence in sentences)\n",
        "\n",
        "    return text"
      ],
      "id": "WfzB5KuXRWf-"
    },
    {
      "cell_type": "code",
      "execution_count": null,
      "metadata": {
        "id": "dc48330c"
      },
      "outputs": [],
      "source": [
        "# Preprocessing the data\n",
        "\n",
        "X_train_preprocessed = [preprocess_text(text) for text in X_train]\n",
        "\n",
        "X_test_preprocessed = [preprocess_text(text) for text in X_test]\n",
        "\n",
        "X_val_preprocessed = [preprocess_text(text) for text in X_val]\n"
      ],
      "id": "dc48330c"
    },
    {
      "cell_type": "code",
      "source": [
        "# Preprocessing the data\n",
        "\n",
        "y_train_preprocessed = [preprocess_text(text) for text in y_train]\n",
        "\n",
        "y_test_preprocessed = [preprocess_text(text) for text in y_test]\n",
        "\n",
        "y_val_preprocessed = [preprocess_text(text) for text in y_val]\n"
      ],
      "metadata": {
        "id": "b5A_WZqOoQlR"
      },
      "id": "b5A_WZqOoQlR",
      "execution_count": null,
      "outputs": []
    },
    {
      "cell_type": "code",
      "execution_count": null,
      "metadata": {
        "colab": {
          "base_uri": "https://localhost:8080/"
        },
        "id": "244e45ff",
        "outputId": "a94eb290-ac2f-4221-fd8b-5e5111e48772",
        "scrolled": true
      },
      "outputs": [
        {
          "output_type": "stream",
          "name": "stdout",
          "text": [
            "the 4th pokemon movie made me cry when celebi died don't you dare say that pokemon sucks i don't like it when people say that i've liked pokemon for 5 or 6 years so everyone should enjoy pokemon including this movie and other pokemon movies so without further ado please say that pokemon is great and should be enjoyed by people for all ages and also why do pokemon haters give low ratings for all or most of the pokemon movies i don't understand they shouldn't do that there's absolutely no reason why people should just vote without proving that pokemon sucks besides the fact that 1 pokemon is for little kids only 2 pokemon is stupid and 3 people shouldn't like pokemon i think this is why people don't like pokemon\n",
            "the gimmick as it were of this 1934 paramount comedy is the six comedy performers paired off into three man and woman teams who all appear together w c fields and his frequent screen partner alsion skipworth appear in the second half of the film and shine in their roles as a small town sheriff and innkeeper fields seems to have been given the latitude to inject plenty of his own one of a kind brand of misanthropic surreal comedy into his part and it works wonderfully especially where he is allowed to do his famous pool table routine a digression that is totally welcome since it is hilarious at first thought it might have seemed like a mismatch to conceive of a film to be carried by the subtle domestic comedy of charlie ruggles and mary boland next to the broad jokey vaudeville patter of the great husband and wife comedy team of george burns and gracie allen but here it works perfectly because of the parts george and gracie are given in the script they are there are freeloaders hitching a ride to california on ruggles' and boland's honeymoon trip and consistently find ways to annoy them at every step including brilliantly while they are each holding on to the side of a cliff for dear life making burns and allen comic annoyances to two sympathetic characters turns out to be a perfect way to fit their far out larger than life comedy characters into a real world setting the comedy of people reacting to them in a believable way turns out to be as much as a gold mine as gracie's famous naive delivery itself charlie ruggles deserves special mention for his performance as the fussy banker pinky whinney he's marvelously subtle and underplayed and draws laughs from lines that in another actor's hands might not even have been heard the script is wonderfully witty all through and most of the way it's a perfectly extended comedy of frustration in which our sympathies are with the poor whinneys who can't get a moment alone and the extra bonus is that what frustrates them is just more first rate comedy material from burns and allen for the pre code watchers out there there is some rather suggestive material in some of the most amusing scenes as whinney tries to get across to george just why he and his wife want to be alone for a while there are a few signs of a rushed production here the occasional jump cut one of the most obvious drop sets you will ever see in a movie right up there with w c field's own short the golf specialist and the knot in field's tie is constantly changing in shape these don't bother me though and they shouldn't bother anybody who is enjoying the film six of a kind is a real little known gem and one of the funniest movies i've seen in a while if you're thinking about whether to watch it the answer should be yes\n",
            "it isn't too bad but ultimately it lacks the quality that the australian series has the jokes are few and far between the actors are attractive they shouldn't be the film makers think far too much about the cinematography it's supposed to look like a home video and it's just like a serious version of kath and kim it's stupid it's too normal to be kath and kim kath and kim are supposed to be two curvy middle aged women who think they are hot and wear ridiculous clothes there are no look at me kimmy jokes the fat friend of kim is not fat at all and she's not even slightly stupid she's a stereotypical black latino chick it's just not as stupid or funny as the australian series it doesn't compare nothing is the same i admit this show is pretty funny at times but it is not anything like the aussie series i was looking forward to an american take on a bogan family they failed it's supposed to be really stupid and hilarious but the actors don't act stupid to me this is just a typical american tv show it's a let down if you want it to be anything like the aussie show 2 stars because it is an okay show just nothing like what it should be\n"
          ]
        }
      ],
      "source": [
        "#Printing pre processed data\n",
        "\n",
        "print(X_train_preprocessed[0])\n",
        "print(X_test_preprocessed[0])\n",
        "print(X_val_preprocessed[0])"
      ],
      "id": "244e45ff"
    },
    {
      "cell_type": "markdown",
      "source": [
        "Tokenizing and creating datasets for train, validation and test sets so they can be used through out different types of training sessions and evaluation of diferent models"
      ],
      "metadata": {
        "id": "g8cgsBICNtdQ"
      },
      "id": "g8cgsBICNtdQ"
    },
    {
      "cell_type": "code",
      "execution_count": null,
      "metadata": {
        "colab": {
          "base_uri": "https://localhost:8080/",
          "height": 197,
          "referenced_widgets": [
            "5af35e30e48d4c7888e37ca52929fad0",
            "0da990f6d24142c0a13a5b28a9de8c3b",
            "12a3cf3ef8e049488ab73d2b9d46ecba",
            "9206fef28fff48d0b9b491fc9d6fd8e6",
            "c7de44d49a9b4da6bcbd73d3b2108a0d",
            "c284b45de31c490ba66e91e6fd6b3019",
            "c5969cbd701846b49e1850a37c86adcb",
            "163e5b0583fb41c0bb0304e9a604934b",
            "8dc22e0afc2744ce85df9e8fffd0b71e",
            "31506d7df13140b190a0ca457838efa6",
            "646193fa362145e6b7d6f4498859b165",
            "d3bcf758b4364fe08117720310561331",
            "f288591071bf4d79a8db92722e6855b0",
            "06f3a9c736a948bfbcbf0496db1ceca7",
            "cdfbff997bb74123b3f2d91d50eef61c",
            "ac6dca107aed4852a0013aa14a203a74",
            "41ef31b7f20243599797646424f1644a",
            "1e4b5f5a36ba4137abc2996dd597b50b",
            "b3881b9e9f724d0f94d7e19063ce8528",
            "d9fb00e01f594e5dbd46af7a28af943e",
            "f67f9bf2617e46a480be7aaadb05a52e",
            "8e627f0fbe104227a907abd019b9a030",
            "8a773316736e401eafc7d1460a6e312a",
            "44e539fbce36415aa5de68f08aa0f142",
            "01b7bbd30a8c45a68542478d1c8b297d",
            "451da110dc264e5d8646f45bab4f6bd1",
            "623129230b474cf98d1f1e4e9361962a",
            "9d5bce3ab63941a88a6824c69f46897d",
            "e9fcbc89fc78486380b2c31ba164dec2",
            "53e6a1d361a847fdae448c749db3202a",
            "a482d054afc9417cb098561130d76fc6",
            "389aea05dfe54c3e819e356ac7cf43e5",
            "2a4707e101f242fe89d00ea51ad6fafd"
          ]
        },
        "id": "1e9c29f9",
        "outputId": "0a07807c-1af5-4ed9-df18-442bbe2dd309",
        "scrolled": false
      },
      "outputs": [
        {
          "output_type": "display_data",
          "data": {
            "text/plain": [
              "Downloading (…)solve/main/vocab.txt:   0%|          | 0.00/232k [00:00<?, ?B/s]"
            ],
            "application/vnd.jupyter.widget-view+json": {
              "version_major": 2,
              "version_minor": 0,
              "model_id": "5af35e30e48d4c7888e37ca52929fad0"
            }
          },
          "metadata": {}
        },
        {
          "output_type": "display_data",
          "data": {
            "text/plain": [
              "Downloading (…)okenizer_config.json:   0%|          | 0.00/28.0 [00:00<?, ?B/s]"
            ],
            "application/vnd.jupyter.widget-view+json": {
              "version_major": 2,
              "version_minor": 0,
              "model_id": "d3bcf758b4364fe08117720310561331"
            }
          },
          "metadata": {}
        },
        {
          "output_type": "display_data",
          "data": {
            "text/plain": [
              "Downloading (…)lve/main/config.json:   0%|          | 0.00/570 [00:00<?, ?B/s]"
            ],
            "application/vnd.jupyter.widget-view+json": {
              "version_major": 2,
              "version_minor": 0,
              "model_id": "8a773316736e401eafc7d1460a6e312a"
            }
          },
          "metadata": {}
        }
      ],
      "source": [
        "tokenizer = BertTokenizer.from_pretrained('bert-base-uncased')"
      ],
      "id": "1e9c29f9"
    },
    {
      "cell_type": "code",
      "source": [
        "# Tokenizing and encoding the train data\n",
        "X_train_encoded = tokenizer.batch_encode_plus(\n",
        "    X_train_preprocessed,\n",
        "    padding=True,\n",
        "    truncation=True,\n",
        "    max_length=512,\n",
        "    return_tensors='pt'\n",
        ")\n",
        "# Tokenizing and encoding the validation data\n",
        "X_val_encoded = tokenizer.batch_encode_plus(\n",
        "    X_val_preprocessed,\n",
        "    padding=True,\n",
        "    truncation=True,\n",
        "    max_length=512,\n",
        "    return_tensors='pt'\n",
        ")"
      ],
      "metadata": {
        "id": "7H9Kbj8altls"
      },
      "id": "7H9Kbj8altls",
      "execution_count": null,
      "outputs": []
    },
    {
      "cell_type": "code",
      "source": [
        "label_map = {\"positive\": 1, \"negative\": 0}\n",
        "\n",
        "# Extracting input tensors from the encoded data\n",
        "input_ids_train = X_train_encoded['input_ids']\n",
        "attention_masks_train = X_train_encoded['attention_mask']\n",
        "labels_train = torch.tensor([label_map[label] for label in y_train_preprocessed])\n",
        "\n",
        "input_ids_val = X_val_encoded['input_ids']\n",
        "attention_masks_val = X_val_encoded['attention_mask']\n",
        "labels_val = torch.tensor([label_map[label] for label in y_val_preprocessed])\n",
        "\n",
        "# Creating datasets\n",
        "train_dataset = TensorDataset(input_ids_train, attention_masks_train, labels_train)\n",
        "val_dataset = TensorDataset(input_ids_val, attention_masks_val, labels_val)"
      ],
      "metadata": {
        "id": "2UHfvfiFlycP"
      },
      "id": "2UHfvfiFlycP",
      "execution_count": null,
      "outputs": []
    },
    {
      "cell_type": "code",
      "source": [
        "# Tokenizing and encoding the test data\n",
        "X_test_encoded = tokenizer.batch_encode_plus(\n",
        "    X_test_preprocessed,\n",
        "    padding=True,\n",
        "    truncation=True,\n",
        "    max_length=512,\n",
        "    return_tensors='pt'\n",
        ")"
      ],
      "metadata": {
        "id": "W9ilC5yKNfx2"
      },
      "execution_count": null,
      "outputs": [],
      "id": "W9ilC5yKNfx2"
    },
    {
      "cell_type": "code",
      "source": [
        "# Extracting input tensors and attention masks from the encoded data\n",
        "label_map = {\"positive\": 1, \"negative\": 0}\n",
        "\n",
        "input_ids_test = X_test_encoded['input_ids']\n",
        "attention_masks_test = X_test_encoded['attention_mask']\n",
        "labels_test = torch.tensor([label_map[label] for label in y_test_preprocessed])\n",
        "\n",
        "# Creating datasets\n",
        "test_dataset = TensorDataset(input_ids_test, attention_masks_test, labels_test)"
      ],
      "metadata": {
        "id": "2NqSgZcGNfx2"
      },
      "execution_count": null,
      "outputs": [],
      "id": "2NqSgZcGNfx2"
    },
    {
      "cell_type": "code",
      "execution_count": null,
      "metadata": {
        "id": "32035a33",
        "scrolled": true
      },
      "outputs": [],
      "source": [
        "# Setting the device (CPU or GPU)\n",
        "device = torch.device('cuda' if torch.cuda.is_available() else 'cpu')"
      ],
      "id": "32035a33"
    },
    {
      "cell_type": "markdown",
      "source": [
        "# 1. Adam Optimizer"
      ],
      "metadata": {
        "id": "OL__KiCqBavl"
      },
      "id": "OL__KiCqBavl"
    },
    {
      "cell_type": "code",
      "source": [
        "model = BertForSequenceClassification.from_pretrained('bert-base-uncased', num_labels=2).to(device)\n",
        "\n",
        "# declaring Hyperparameters\n",
        "batch_size = 32\n",
        "early_stopping_patience = 3\n",
        "epochs_without_improvement = 0\n",
        "num_cpu = 12\n",
        "num_epochs = 5\n",
        "best_accuracy = 0.0\n",
        "train_losses = []\n",
        "val_accuracies = []\n",
        "train_losses.clear()\n",
        "val_accuracies.clear()\n",
        "\n",
        "# optimizer\n",
        "optimizer = optim.Adam(model.parameters(), lr=2e-5)\n",
        "\n",
        "# Creating data loaders\n",
        "train_dataloader = DataLoader(train_dataset, batch_size=batch_size, num_workers=num_cpu, pin_memory=True, shuffle=True)\n",
        "val_dataloader = DataLoader(val_dataset, batch_size=batch_size, num_workers=num_cpu, pin_memory=True, shuffle=False)\n",
        "\n",
        "for epoch in range(num_epochs):\n",
        "    running_loss = 0.0\n",
        "\n",
        "    # Training\n",
        "    model.train()\n",
        "    for inputs, attention_masks, labels in train_dataloader:\n",
        "        inputs = inputs.to(device)\n",
        "        attention_masks = attention_masks.to(device)\n",
        "        labels = labels.to(device)\n",
        "\n",
        "        optimizer.zero_grad()\n",
        "        outputs = model(inputs, attention_mask=attention_masks, labels = labels)\n",
        "\n",
        "        loss = outputs.loss\n",
        "\n",
        "        loss.backward()\n",
        "\n",
        "        optimizer.step()\n",
        "\n",
        "        running_loss += loss.item() * inputs.size(0)\n",
        "\n",
        "\n",
        "    # Calculate average loss for the epoch\n",
        "    epoch_loss = running_loss / len(train_dataset)\n",
        "    train_losses.append(epoch_loss)\n",
        "\n",
        "\n",
        "   # Validation\n",
        "    model.eval()  # Setting model to evaluation mode\n",
        "    correct_predictions = 0\n",
        "    total_predictions = 0\n",
        "\n",
        "    with torch.no_grad():\n",
        "        for inputs, attention_masks, labels in val_dataloader:\n",
        "            inputs = inputs.to(device)\n",
        "            attention_masks = attention_masks.to(device)\n",
        "            labels = labels.to(device)\n",
        "\n",
        "            # Get model's predictions\n",
        "            outputs = model(inputs, attention_mask=attention_masks)\n",
        "            predicted_labels = torch.argmax(outputs.logits, dim=1)\n",
        "\n",
        "            correct_predictions += (predicted_labels == labels).sum().item()\n",
        "            total_predictions += labels.size(0)\n",
        "\n",
        "    accuracy = correct_predictions / total_predictions\n",
        "    val_accuracies.append(accuracy)\n",
        "\n",
        "\n",
        "    if accuracy > best_accuracy:\n",
        "        best_accuracy = accuracy\n",
        "        epochs_without_improvement = 0\n",
        "        best_model_state = model.state_dict()\n",
        "    else:\n",
        "        epochs_without_improvement += 1\n",
        "        if epochs_without_improvement >= early_stopping_patience:\n",
        "            print(\"Early stopping triggered.\")\n",
        "            break\n",
        "\n",
        "    # Printing the loss and accuracy for each epoch\n",
        "    print(f\"Epoch {epoch+1}/{num_epochs}, Loss: {epoch_loss}, Validation Accuracy: {accuracy}\")\n",
        "\n",
        "# Saving the trained model\n",
        "BERT_Tuned_file = \"/content/drive/MyDrive/Colab Notebooks/BBAO.pt\"\n",
        "torch.save(best_model_state, BERT_Tuned_file)"
      ],
      "metadata": {
        "id": "M1sJZs6wB1bE",
        "colab": {
          "base_uri": "https://localhost:8080/",
          "height": 218,
          "referenced_widgets": [
            "12ba31a45ef34f34b8a7c0c21d8710d8",
            "11126d89e8a04824a24dbfa867a35b5b",
            "e77e55d8210a49c3acd7bb026ea55f07",
            "de985bb061974da18843f2da36a55359",
            "48d5410d9b5642659af8a8454de85f31",
            "3fd59bfca86c4b1ebea1c00d855a0083",
            "93b8e3aa42224ce88e3cd73b1612f04d",
            "45b64d682ed34fc1b933a3924644c166",
            "d64c2427783d4c099dd5c8e5484a65ee",
            "f316435ef2904001908245b53c33613e",
            "5e3992f080b149a8a3ef764aabdd6663"
          ]
        },
        "outputId": "f3a5ca18-1068-4eee-8d04-dfe3e74f6fcd"
      },
      "execution_count": null,
      "outputs": [
        {
          "output_type": "display_data",
          "data": {
            "text/plain": [
              "Downloading model.safetensors:   0%|          | 0.00/440M [00:00<?, ?B/s]"
            ],
            "application/vnd.jupyter.widget-view+json": {
              "version_major": 2,
              "version_minor": 0,
              "model_id": "12ba31a45ef34f34b8a7c0c21d8710d8"
            }
          },
          "metadata": {}
        },
        {
          "output_type": "stream",
          "name": "stderr",
          "text": [
            "Some weights of BertForSequenceClassification were not initialized from the model checkpoint at bert-base-uncased and are newly initialized: ['classifier.bias', 'classifier.weight']\n",
            "You should probably TRAIN this model on a down-stream task to be able to use it for predictions and inference.\n"
          ]
        },
        {
          "output_type": "stream",
          "name": "stdout",
          "text": [
            "Epoch 1/5, Loss: 0.2660405912955602, Validation Accuracy: 0.9193355481727574\n",
            "Epoch 2/5, Loss: 0.13391959950725238, Validation Accuracy: 0.9283056478405316\n",
            "Epoch 3/5, Loss: 0.06999243488311768, Validation Accuracy: 0.9271760797342192\n",
            "Epoch 4/5, Loss: 0.042737980132053294, Validation Accuracy: 0.9294352159468439\n",
            "Epoch 5/5, Loss: 0.02929773399606347, Validation Accuracy: 0.9291029900332226\n"
          ]
        }
      ],
      "id": "M1sJZs6wB1bE"
    },
    {
      "cell_type": "code",
      "source": [
        "# Plotting epoch loss and validation accuracy graphs\n",
        "num_epochs = len(train_losses)\n",
        "plt.figure(figsize=(10, 5))\n",
        "plt.subplot(1, 2, 1)\n",
        "plt.plot(range(1, num_epochs + 1), train_losses, label='Train Loss', color='red')\n",
        "plt.xlabel('Epoch')\n",
        "plt.ylabel('Loss')\n",
        "plt.title('Epoch Loss')\n",
        "plt.legend()\n",
        "\n",
        "plt.subplot(1, 2, 2)\n",
        "plt.plot(range(1, num_epochs + 1), val_accuracies, label='Validation Accuracy', color='green')\n",
        "plt.xlabel('Epoch')\n",
        "plt.ylabel('Accuracy')\n",
        "plt.title('Validation Accuracy')\n",
        "plt.legend()\n",
        "\n",
        "save_path = \"/content/drive/MyDrive/Colab Notebooks/BBAO_plot.png\"\n",
        "plt.savefig(save_path)\n",
        "\n",
        "plt.tight_layout()\n",
        "plt.show()"
      ],
      "metadata": {
        "id": "KeepJ2JVB1bF",
        "colab": {
          "base_uri": "https://localhost:8080/",
          "height": 348
        },
        "outputId": "e4ed8d02-05c3-47f4-d8b7-38aabab793e1"
      },
      "execution_count": null,
      "outputs": [
        {
          "output_type": "display_data",
          "data": {
            "text/plain": [
              "<Figure size 1000x500 with 2 Axes>"
            ],
            "image/png": "[encoded data removed]"
          },
          "metadata": {}
        }
      ],
      "id": "KeepJ2JVB1bF"
    },
    {
      "cell_type": "code",
      "execution_count": null,
      "metadata": {
        "colab": {
          "base_uri": "https://localhost:8080/"
        },
        "outputId": "076404d7-7ab0-44bb-a726-7cf826b3714e",
        "id": "dIwQyh8RB1bF"
      },
      "outputs": [
        {
          "output_type": "execute_result",
          "data": {
            "text/plain": [
              "BertForSequenceClassification(\n",
              "  (bert): BertModel(\n",
              "    (embeddings): BertEmbeddings(\n",
              "      (word_embeddings): Embedding(30522, 768, padding_idx=0)\n",
              "      (position_embeddings): Embedding(512, 768)\n",
              "      (token_type_embeddings): Embedding(2, 768)\n",
              "      (LayerNorm): LayerNorm((768,), eps=1e-12, elementwise_affine=True)\n",
              "      (dropout): Dropout(p=0.1, inplace=False)\n",
              "    )\n",
              "    (encoder): BertEncoder(\n",
              "      (layer): ModuleList(\n",
              "        (0-11): 12 x BertLayer(\n",
              "          (attention): BertAttention(\n",
              "            (self): BertSelfAttention(\n",
              "              (query): Linear(in_features=768, out_features=768, bias=True)\n",
              "              (key): Linear(in_features=768, out_features=768, bias=True)\n",
              "              (value): Linear(in_features=768, out_features=768, bias=True)\n",
              "              (dropout): Dropout(p=0.1, inplace=False)\n",
              "            )\n",
              "            (output): BertSelfOutput(\n",
              "              (dense): Linear(in_features=768, out_features=768, bias=True)\n",
              "              (LayerNorm): LayerNorm((768,), eps=1e-12, elementwise_affine=True)\n",
              "              (dropout): Dropout(p=0.1, inplace=False)\n",
              "            )\n",
              "          )\n",
              "          (intermediate): BertIntermediate(\n",
              "            (dense): Linear(in_features=768, out_features=3072, bias=True)\n",
              "            (intermediate_act_fn): GELUActivation()\n",
              "          )\n",
              "          (output): BertOutput(\n",
              "            (dense): Linear(in_features=3072, out_features=768, bias=True)\n",
              "            (LayerNorm): LayerNorm((768,), eps=1e-12, elementwise_affine=True)\n",
              "            (dropout): Dropout(p=0.1, inplace=False)\n",
              "          )\n",
              "        )\n",
              "      )\n",
              "    )\n",
              "    (pooler): BertPooler(\n",
              "      (dense): Linear(in_features=768, out_features=768, bias=True)\n",
              "      (activation): Tanh()\n",
              "    )\n",
              "  )\n",
              "  (dropout): Dropout(p=0.1, inplace=False)\n",
              "  (classifier): Linear(in_features=768, out_features=2, bias=True)\n",
              ")"
            ]
          },
          "metadata": {},
          "execution_count": 33
        }
      ],
      "source": [
        "# Loading trained model\n",
        "BERT_Tuned_file = \"/content/drive/MyDrive/Colab Notebooks/BBAO.pt\"\n",
        "model.load_state_dict(torch.load(BERT_Tuned_file))\n",
        "model.eval()"
      ],
      "id": "dIwQyh8RB1bF"
    },
    {
      "cell_type": "code",
      "execution_count": null,
      "metadata": {
        "colab": {
          "base_uri": "https://localhost:8080/"
        },
        "outputId": "2fef058a-2349-428e-c894-b8a6a78a1969",
        "id": "7AiuuIiSB1bG"
      },
      "outputs": [
        {
          "output_type": "stream",
          "name": "stdout",
          "text": [
            "Accuracy: 92.99%\n",
            "Classification Report:\n",
            "               precision    recall  f1-score   support\n",
            "\n",
            "    negative       0.92      0.95      0.93     10012\n",
            "    positive       0.94      0.91      0.93      9938\n",
            "\n",
            "    accuracy                           0.93     19950\n",
            "   macro avg       0.93      0.93      0.93     19950\n",
            "weighted avg       0.93      0.93      0.93     19950\n",
            "\n",
            "Confusion Matrix:\n",
            " [[9464  548]\n",
            " [ 851 9087]]\n"
          ]
        }
      ],
      "source": [
        "model.to(device)\n",
        "\n",
        "# Creating dataloaders for test\n",
        "batch_size = 32\n",
        "num_cpu = 12\n",
        "\n",
        "test_dataloader = DataLoader(test_dataset, batch_size=batch_size, num_workers=num_cpu, pin_memory=True, shuffle=False)\n",
        "\n",
        "# Evaluating the model on the test set\n",
        "all_preds = []\n",
        "all_labels = []\n",
        "\n",
        "all_preds.clear()\n",
        "all_labels.clear()\n",
        "\n",
        "with torch.no_grad():\n",
        "        for inputs, attention_masks, labels in test_dataloader:\n",
        "            inputs = inputs.to(device)\n",
        "            attention_masks = attention_masks.to(device)\n",
        "            labels = labels.to(device)\n",
        "\n",
        "            outputs = model(inputs, attention_mask=attention_masks)\n",
        "            _, preds = torch.max(outputs.logits, dim=1)\n",
        "\n",
        "            all_preds.extend(preds.cpu().numpy())\n",
        "            all_labels.extend(labels.cpu().numpy())\n",
        "\n",
        "# Calculating evaluation metrics\n",
        "accuracy = accuracy_score(all_labels, all_preds) * 100\n",
        "\n",
        "class_names = [\"negative\", \"positive\"]\n",
        "class_report = classification_report(all_labels, all_preds, target_names=class_names)\n",
        "conf_matrix = confusion_matrix(all_labels, all_preds)\n",
        "\n",
        "print(f\"Accuracy: {accuracy:.2f}%\")\n",
        "print(\"Classification Report:\\n\", class_report)\n",
        "print(\"Confusion Matrix:\\n\", conf_matrix)"
      ],
      "id": "7AiuuIiSB1bG"
    },
    {
      "cell_type": "markdown",
      "source": [
        "# 2 Adam Optimizer with Cosine Anneaing LR Scheduler\n",
        "\n",
        "\n"
      ],
      "metadata": {
        "id": "ekByAwlVhdyq"
      },
      "id": "ekByAwlVhdyq"
    },
    {
      "cell_type": "code",
      "source": [
        "from torch.optim.lr_scheduler import CosineAnnealingLR"
      ],
      "metadata": {
        "id": "fMhS5GD9gFAS"
      },
      "id": "fMhS5GD9gFAS",
      "execution_count": null,
      "outputs": []
    },
    {
      "cell_type": "code",
      "source": [
        "model = BertForSequenceClassification.from_pretrained('bert-base-uncased', num_labels=2).to(device)\n",
        "\n",
        "# declaring Hyperparameters\n",
        "batch_size = 32\n",
        "early_stopping_patience = 3\n",
        "epochs_without_improvement = 0\n",
        "num_cpu = 12\n",
        "num_epochs = 5\n",
        "best_accuracy = 0.0\n",
        "train_losses = []\n",
        "val_accuracies = []\n",
        "train_losses.clear()\n",
        "val_accuracies.clear()\n",
        "\n",
        "# optimizer\n",
        "optimizer = optim.Adam(model.parameters(), lr=2e-5)\n",
        "scheduler = CosineAnnealingLR(optimizer, T_max=5, eta_min=1e-6)\n",
        "\n",
        "# Creating data loaders\n",
        "train_dataloader = DataLoader(train_dataset, batch_size=batch_size, num_workers=num_cpu, pin_memory=True, shuffle=True)\n",
        "val_dataloader = DataLoader(val_dataset, batch_size=batch_size, num_workers=num_cpu, pin_memory=True, shuffle=False)\n",
        "\n",
        "for epoch in range(num_epochs):\n",
        "    running_loss = 0.0\n",
        "\n",
        "    # Training\n",
        "    model.train()\n",
        "    for inputs, attention_masks, labels in train_dataloader:\n",
        "        inputs = inputs.to(device)\n",
        "        attention_masks = attention_masks.to(device)\n",
        "        labels = labels.to(device)\n",
        "\n",
        "        optimizer.zero_grad()\n",
        "        outputs = model(inputs, attention_mask=attention_masks, labels = labels)\n",
        "\n",
        "        loss = outputs.loss\n",
        "\n",
        "        loss.backward()\n",
        "        optimizer.step()\n",
        "\n",
        "        running_loss += loss.item() * inputs.size(0)\n",
        "\n",
        "\n",
        "    # Calculate average loss for the epoch\n",
        "    epoch_loss = running_loss / len(train_dataset)\n",
        "    train_losses.append(epoch_loss)\n",
        "\n",
        "    scheduler.step()\n",
        "\n",
        "\n",
        "   # Validation\n",
        "    model.eval()  # Setting model to evaluation mode\n",
        "    correct_predictions = 0\n",
        "    total_predictions = 0\n",
        "\n",
        "    with torch.no_grad():\n",
        "        for inputs, attention_masks, labels in val_dataloader:\n",
        "            inputs = inputs.to(device)\n",
        "            attention_masks = attention_masks.to(device)\n",
        "            labels = labels.to(device)\n",
        "\n",
        "            # Get model's predictions\n",
        "            outputs = model(inputs, attention_mask=attention_masks)\n",
        "            predicted_labels = torch.argmax(outputs.logits, dim=1)\n",
        "\n",
        "            correct_predictions += (predicted_labels == labels).sum().item()\n",
        "            total_predictions += labels.size(0)\n",
        "\n",
        "    accuracy = correct_predictions / total_predictions\n",
        "    val_accuracies.append(accuracy)\n",
        "\n",
        "\n",
        "    if accuracy > best_accuracy:\n",
        "        best_accuracy = accuracy\n",
        "        epochs_without_improvement = 0\n",
        "        best_model_state = model.state_dict()\n",
        "    else:\n",
        "        epochs_without_improvement += 1\n",
        "        if epochs_without_improvement >= early_stopping_patience:\n",
        "            print(\"Early stopping triggered.\")\n",
        "            break\n",
        "\n",
        "    # Printing the loss and accuracy for each epoch\n",
        "    print(f\"Epoch {epoch+1}/{num_epochs}, Loss: {epoch_loss}, Validation Accuracy: {accuracy}\")\n",
        "\n",
        "# Saving the trained model\n",
        "BERT_Tuned_file = \"/content/drive/MyDrive/Colab Notebooks/BBAO1.pt\"\n",
        "torch.save(best_model_state, BERT_Tuned_file)"
      ],
      "metadata": {
        "id": "qwvT0_T9bosk",
        "colab": {
          "base_uri": "https://localhost:8080/",
          "height": 218,
          "referenced_widgets": [
            "18324d31dbe8439b9dea595fc9124404",
            "66557bbf55b9430c8693848d7ac12933",
            "16660a0c59654dddbe76d31f1218c082",
            "be5767a686494ef8bcf89ac9ae8ecebc",
            "40a5ce6e06374618870bf2ee779d2954",
            "8ed51f00cd384b23b1b2c4bf45187a12",
            "5ed896af5a9d4e078d7f6fc1c939cb06",
            "c5f43532e86f4c8e95c51ca516cf7954",
            "c885b6393259488ab36ac9f7af1fecc4",
            "166cfefb37cc494cb003213976bf1e10",
            "f3799b4fec8143c7b48659d91d6aea54"
          ]
        },
        "outputId": "b1f266dd-8dfa-4bc0-abd1-275c66b0a0a8"
      },
      "execution_count": null,
      "outputs": [
        {
          "output_type": "display_data",
          "data": {
            "text/plain": [
              "Downloading model.safetensors:   0%|          | 0.00/440M [00:00<?, ?B/s]"
            ],
            "application/vnd.jupyter.widget-view+json": {
              "version_major": 2,
              "version_minor": 0,
              "model_id": "18324d31dbe8439b9dea595fc9124404"
            }
          },
          "metadata": {}
        },
        {
          "output_type": "stream",
          "name": "stderr",
          "text": [
            "Some weights of BertForSequenceClassification were not initialized from the model checkpoint at bert-base-uncased and are newly initialized: ['classifier.weight', 'classifier.bias']\n",
            "You should probably TRAIN this model on a down-stream task to be able to use it for predictions and inference.\n"
          ]
        },
        {
          "output_type": "stream",
          "name": "stdout",
          "text": [
            "Epoch 1/5, Loss: 0.26649824399550753, Validation Accuracy: 0.9271760797342192\n",
            "Epoch 2/5, Loss: 0.1292419227262338, Validation Accuracy: 0.9293687707641196\n",
            "Epoch 3/5, Loss: 0.06456349008580049, Validation Accuracy: 0.913687707641196\n",
            "Epoch 4/5, Loss: 0.029287665987511476, Validation Accuracy: 0.9315614617940199\n",
            "Epoch 5/5, Loss: 0.017684972951437037, Validation Accuracy: 0.9302325581395349\n"
          ]
        }
      ],
      "id": "qwvT0_T9bosk"
    },
    {
      "cell_type": "code",
      "source": [
        "# Plotting epoch loss and validation accuracy graphs\n",
        "num_epochs = len(train_losses)\n",
        "plt.figure(figsize=(10, 5))\n",
        "plt.subplot(1, 2, 1)\n",
        "plt.plot(range(1, num_epochs + 1), train_losses, label='Train Loss', color='red')\n",
        "plt.xlabel('Epoch')\n",
        "plt.ylabel('Loss')\n",
        "plt.title('Epoch Loss')\n",
        "plt.legend()\n",
        "\n",
        "plt.subplot(1, 2, 2)\n",
        "plt.plot(range(1, num_epochs + 1), val_accuracies, label='Validation Accuracy', color='green')\n",
        "plt.xlabel('Epoch')\n",
        "plt.ylabel('Accuracy')\n",
        "plt.title('Validation Accuracy')\n",
        "plt.legend()\n",
        "\n",
        "save_path = \"/content/drive/MyDrive/Colab Notebooks/BBAO1_plot.png\"\n",
        "plt.savefig(save_path)\n",
        "\n",
        "plt.tight_layout()\n",
        "plt.show()"
      ],
      "metadata": {
        "id": "Nd4yp5aJbosk",
        "colab": {
          "base_uri": "https://localhost:8080/",
          "height": 348
        },
        "outputId": "0611e32c-3831-40f6-de9f-7581883e5c30"
      },
      "execution_count": null,
      "outputs": [
        {
          "output_type": "display_data",
          "data": {
            "text/plain": [
              "<Figure size 1000x500 with 2 Axes>"
            ],
            "image/png": "[encoded data removed]"
          },
          "metadata": {}
        }
      ],
      "id": "Nd4yp5aJbosk"
    },
    {
      "cell_type": "code",
      "execution_count": null,
      "metadata": {
        "id": "SIjvJPJHbosk",
        "colab": {
          "base_uri": "https://localhost:8080/"
        },
        "outputId": "643c84a4-cdf7-4cfc-dfe7-d7104e7758c6"
      },
      "outputs": [
        {
          "output_type": "execute_result",
          "data": {
            "text/plain": [
              "BertForSequenceClassification(\n",
              "  (bert): BertModel(\n",
              "    (embeddings): BertEmbeddings(\n",
              "      (word_embeddings): Embedding(30522, 768, padding_idx=0)\n",
              "      (position_embeddings): Embedding(512, 768)\n",
              "      (token_type_embeddings): Embedding(2, 768)\n",
              "      (LayerNorm): LayerNorm((768,), eps=1e-12, elementwise_affine=True)\n",
              "      (dropout): Dropout(p=0.1, inplace=False)\n",
              "    )\n",
              "    (encoder): BertEncoder(\n",
              "      (layer): ModuleList(\n",
              "        (0-11): 12 x BertLayer(\n",
              "          (attention): BertAttention(\n",
              "            (self): BertSelfAttention(\n",
              "              (query): Linear(in_features=768, out_features=768, bias=True)\n",
              "              (key): Linear(in_features=768, out_features=768, bias=True)\n",
              "              (value): Linear(in_features=768, out_features=768, bias=True)\n",
              "              (dropout): Dropout(p=0.1, inplace=False)\n",
              "            )\n",
              "            (output): BertSelfOutput(\n",
              "              (dense): Linear(in_features=768, out_features=768, bias=True)\n",
              "              (LayerNorm): LayerNorm((768,), eps=1e-12, elementwise_affine=True)\n",
              "              (dropout): Dropout(p=0.1, inplace=False)\n",
              "            )\n",
              "          )\n",
              "          (intermediate): BertIntermediate(\n",
              "            (dense): Linear(in_features=768, out_features=3072, bias=True)\n",
              "            (intermediate_act_fn): GELUActivation()\n",
              "          )\n",
              "          (output): BertOutput(\n",
              "            (dense): Linear(in_features=3072, out_features=768, bias=True)\n",
              "            (LayerNorm): LayerNorm((768,), eps=1e-12, elementwise_affine=True)\n",
              "            (dropout): Dropout(p=0.1, inplace=False)\n",
              "          )\n",
              "        )\n",
              "      )\n",
              "    )\n",
              "    (pooler): BertPooler(\n",
              "      (dense): Linear(in_features=768, out_features=768, bias=True)\n",
              "      (activation): Tanh()\n",
              "    )\n",
              "  )\n",
              "  (dropout): Dropout(p=0.1, inplace=False)\n",
              "  (classifier): Linear(in_features=768, out_features=2, bias=True)\n",
              ")"
            ]
          },
          "metadata": {},
          "execution_count": 32
        }
      ],
      "source": [
        "# Loading trained model\n",
        "BERT_Tuned_file = \"/content/drive/MyDrive/Colab Notebooks/BBAO1.pt\"\n",
        "model.load_state_dict(torch.load(BERT_Tuned_file))\n",
        "model.eval()"
      ],
      "id": "SIjvJPJHbosk"
    },
    {
      "cell_type": "code",
      "execution_count": null,
      "metadata": {
        "id": "LoctLc5Hbosl",
        "colab": {
          "base_uri": "https://localhost:8080/"
        },
        "outputId": "21813b7a-8222-44c9-d9d0-24b285722b9f"
      },
      "outputs": [
        {
          "output_type": "stream",
          "name": "stdout",
          "text": [
            "Accuracy: 92.78%\n",
            "Classification Report:\n",
            "               precision    recall  f1-score   support\n",
            "\n",
            "    negative       0.91      0.95      0.93     10012\n",
            "    positive       0.94      0.91      0.93      9938\n",
            "\n",
            "    accuracy                           0.93     19950\n",
            "   macro avg       0.93      0.93      0.93     19950\n",
            "weighted avg       0.93      0.93      0.93     19950\n",
            "\n",
            "Confusion Matrix:\n",
            " [[9482  530]\n",
            " [ 911 9027]]\n"
          ]
        }
      ],
      "source": [
        "model.to(device)\n",
        "\n",
        "# Creating dataloaders for test\n",
        "batch_size = 32\n",
        "num_cpu = 12\n",
        "\n",
        "test_dataloader = DataLoader(test_dataset, batch_size=batch_size, num_workers=num_cpu, pin_memory=True, shuffle=False)\n",
        "\n",
        "# Evaluating the model on the test set\n",
        "all_preds = []\n",
        "all_labels = []\n",
        "\n",
        "all_preds.clear()\n",
        "all_labels.clear()\n",
        "\n",
        "with torch.no_grad():\n",
        "        for inputs, attention_masks, labels in test_dataloader:\n",
        "            inputs = inputs.to(device)\n",
        "            attention_masks = attention_masks.to(device)\n",
        "            labels = labels.to(device)\n",
        "\n",
        "            outputs = model(inputs, attention_mask=attention_masks)\n",
        "            _, preds = torch.max(outputs.logits, dim=1)\n",
        "\n",
        "            all_preds.extend(preds.cpu().numpy())\n",
        "            all_labels.extend(labels.cpu().numpy())\n",
        "\n",
        "# Calculating evaluation metrics\n",
        "accuracy = accuracy_score(all_labels, all_preds) * 100\n",
        "\n",
        "class_names = [\"negative\", \"positive\"]\n",
        "class_report = classification_report(all_labels, all_preds, target_names=class_names)\n",
        "conf_matrix = confusion_matrix(all_labels, all_preds)\n",
        "\n",
        "print(f\"Accuracy: {accuracy:.2f}%\")\n",
        "print(\"Classification Report:\\n\", class_report)\n",
        "print(\"Confusion Matrix:\\n\", conf_matrix)"
      ],
      "id": "LoctLc5Hbosl"
    },
    {
      "cell_type": "markdown",
      "source": [
        "# 3 Lamb Optimizer with Exponential LR Scheduler\n",
        "\n",
        "\n"
      ],
      "metadata": {
        "id": "tkoH2gqZhl-w"
      },
      "id": "tkoH2gqZhl-w"
    },
    {
      "cell_type": "code",
      "source": [
        "!pip install torch_optimizer"
      ],
      "metadata": {
        "id": "h0zpJ5n6q-I5",
        "colab": {
          "base_uri": "https://localhost:8080/"
        },
        "outputId": "ff52df8c-0689-4c65-a66c-b8ca7d6c592e"
      },
      "id": "h0zpJ5n6q-I5",
      "execution_count": null,
      "outputs": [
        {
          "output_type": "stream",
          "name": "stdout",
          "text": [
            "Collecting torch_optimizer\n",
            "  Downloading torch_optimizer-0.3.0-py3-none-any.whl (61 kB)\n",
            "\u001b[?25l     \u001b[90m━━━━━━━━━━━━━━━━━━━━━━━━━━━━━━━━━━━━━━━━\u001b[0m \u001b[32m0.0/61.9 kB\u001b[0m \u001b[31m?\u001b[0m eta \u001b[36m-:--:--\u001b[0m\r\u001b[2K     \u001b[91m━━━━━━━━━━━━━━━━━━━━━━━━━━━━━━━━━━━━━━━\u001b[0m\u001b[91m╸\u001b[0m \u001b[32m61.4/61.9 kB\u001b[0m \u001b[31m1.7 MB/s\u001b[0m eta \u001b[36m0:00:01\u001b[0m\r\u001b[2K     \u001b[90m━━━━━━━━━━━━━━━━━━━━━━━━━━━━━━━━━━━━━━━━\u001b[0m \u001b[32m61.9/61.9 kB\u001b[0m \u001b[31m1.4 MB/s\u001b[0m eta \u001b[36m0:00:00\u001b[0m\n",
            "\u001b[?25hRequirement already satisfied: torch>=1.5.0 in /usr/local/lib/python3.10/dist-packages (from torch_optimizer) (2.0.1+cu118)\n",
            "Collecting pytorch-ranger>=0.1.1 (from torch_optimizer)\n",
            "  Downloading pytorch_ranger-0.1.1-py3-none-any.whl (14 kB)\n",
            "Requirement already satisfied: filelock in /usr/local/lib/python3.10/dist-packages (from torch>=1.5.0->torch_optimizer) (3.12.2)\n",
            "Requirement already satisfied: typing-extensions in /usr/local/lib/python3.10/dist-packages (from torch>=1.5.0->torch_optimizer) (4.5.0)\n",
            "Requirement already satisfied: sympy in /usr/local/lib/python3.10/dist-packages (from torch>=1.5.0->torch_optimizer) (1.12)\n",
            "Requirement already satisfied: networkx in /usr/local/lib/python3.10/dist-packages (from torch>=1.5.0->torch_optimizer) (3.1)\n",
            "Requirement already satisfied: jinja2 in /usr/local/lib/python3.10/dist-packages (from torch>=1.5.0->torch_optimizer) (3.1.2)\n",
            "Requirement already satisfied: triton==2.0.0 in /usr/local/lib/python3.10/dist-packages (from torch>=1.5.0->torch_optimizer) (2.0.0)\n",
            "Requirement already satisfied: cmake in /usr/local/lib/python3.10/dist-packages (from triton==2.0.0->torch>=1.5.0->torch_optimizer) (3.27.4.1)\n",
            "Requirement already satisfied: lit in /usr/local/lib/python3.10/dist-packages (from triton==2.0.0->torch>=1.5.0->torch_optimizer) (16.0.6)\n",
            "Requirement already satisfied: MarkupSafe>=2.0 in /usr/local/lib/python3.10/dist-packages (from jinja2->torch>=1.5.0->torch_optimizer) (2.1.3)\n",
            "Requirement already satisfied: mpmath>=0.19 in /usr/local/lib/python3.10/dist-packages (from sympy->torch>=1.5.0->torch_optimizer) (1.3.0)\n",
            "Installing collected packages: pytorch-ranger, torch_optimizer\n",
            "Successfully installed pytorch-ranger-0.1.1 torch_optimizer-0.3.0\n"
          ]
        }
      ]
    },
    {
      "cell_type": "code",
      "source": [
        "from torch_optimizer import Lamb\n",
        "from torch.optim.lr_scheduler import ExponentialLR"
      ],
      "metadata": {
        "id": "4INZgzRwmdCI"
      },
      "id": "4INZgzRwmdCI",
      "execution_count": null,
      "outputs": []
    },
    {
      "cell_type": "code",
      "source": [
        "model = BertForSequenceClassification.from_pretrained('bert-base-uncased', num_labels=2).to(device)\n",
        "\n",
        "# declaring Hyperparameters\n",
        "batch_size = 32\n",
        "early_stopping_patience = 3\n",
        "epochs_without_improvement = 0\n",
        "num_cpu = 12\n",
        "num_epochs = 5\n",
        "best_accuracy = 0.0\n",
        "train_losses = []\n",
        "val_accuracies = []\n",
        "train_losses.clear()\n",
        "val_accuracies.clear()\n",
        "\n",
        "# optimizer\n",
        "optimizer = Lamb(model.parameters(), lr= 2e-5)\n",
        "scheduler = ExponentialLR(optimizer, gamma=0.95)\n",
        "\n",
        "# Creating data loaders\n",
        "train_dataloader = DataLoader(train_dataset, batch_size=batch_size, num_workers=num_cpu, pin_memory=True, shuffle=True)\n",
        "val_dataloader = DataLoader(val_dataset, batch_size=batch_size, num_workers=num_cpu, pin_memory=True, shuffle=False)\n",
        "\n",
        "for epoch in range(num_epochs):\n",
        "    running_loss = 0.0\n",
        "\n",
        "    # Training\n",
        "    model.train()\n",
        "    for inputs, attention_masks, labels in train_dataloader:\n",
        "        inputs = inputs.to(device)\n",
        "        attention_masks = attention_masks.to(device)\n",
        "        labels = labels.to(device)\n",
        "\n",
        "        optimizer.zero_grad()\n",
        "        outputs = model(inputs, attention_mask=attention_masks, labels = labels)\n",
        "\n",
        "        loss = outputs.loss\n",
        "\n",
        "        loss.backward()\n",
        "        optimizer.step()\n",
        "\n",
        "        running_loss += loss.item() * inputs.size(0)\n",
        "\n",
        "\n",
        "    # Calculate average loss for the epoch\n",
        "    epoch_loss = running_loss / len(train_dataset)\n",
        "    train_losses.append(epoch_loss)\n",
        "\n",
        "    scheduler.step()\n",
        "\n",
        "\n",
        "   # Validation\n",
        "    model.eval()  # Setting model to evaluation mode\n",
        "    correct_predictions = 0\n",
        "    total_predictions = 0\n",
        "\n",
        "    with torch.no_grad():\n",
        "        for inputs, attention_masks, labels in val_dataloader:\n",
        "            inputs = inputs.to(device)\n",
        "            attention_masks = attention_masks.to(device)\n",
        "            labels = labels.to(device)\n",
        "\n",
        "            # Get model's predictions\n",
        "            outputs = model(inputs, attention_mask=attention_masks)\n",
        "            predicted_labels = torch.argmax(outputs.logits, dim=1)\n",
        "\n",
        "            correct_predictions += (predicted_labels == labels).sum().item()\n",
        "            total_predictions += labels.size(0)\n",
        "\n",
        "    accuracy = correct_predictions / total_predictions\n",
        "    val_accuracies.append(accuracy)\n",
        "\n",
        "\n",
        "    if accuracy > best_accuracy:\n",
        "        best_accuracy = accuracy\n",
        "        epochs_without_improvement = 0\n",
        "        best_model_state = model.state_dict()\n",
        "    else:\n",
        "        epochs_without_improvement += 1\n",
        "        if epochs_without_improvement >= early_stopping_patience:\n",
        "            print(\"Early stopping triggered.\")\n",
        "            break\n",
        "\n",
        "    # Printing the loss and accuracy for each epoch\n",
        "    print(f\"Epoch {epoch+1}/{num_epochs}, Loss: {epoch_loss}, Validation Accuracy: {accuracy}\")\n",
        "\n",
        "# Saving the trained model\n",
        "BERT_Tuned_file = \"/content/drive/MyDrive/Colab Notebooks/BBLO.pt\"\n",
        "torch.save(best_model_state, BERT_Tuned_file)"
      ],
      "metadata": {
        "id": "wfxXe0Rxhl-x",
        "colab": {
          "base_uri": "https://localhost:8080/"
        },
        "outputId": "78f3651e-7a80-4093-c784-c791012c4cbb"
      },
      "execution_count": null,
      "outputs": [
        {
          "output_type": "stream",
          "name": "stderr",
          "text": [
            "Some weights of BertForSequenceClassification were not initialized from the model checkpoint at bert-base-uncased and are newly initialized: ['classifier.weight', 'classifier.bias']\n",
            "You should probably TRAIN this model on a down-stream task to be able to use it for predictions and inference.\n"
          ]
        },
        {
          "output_type": "stream",
          "name": "stdout",
          "text": [
            "Epoch 1/5, Loss: 0.6431287627220154, Validation Accuracy: 0.8220598006644518\n",
            "Epoch 2/5, Loss: 0.3987905101299286, Validation Accuracy: 0.892624584717608\n",
            "Epoch 3/5, Loss: 0.28291732834180194, Validation Accuracy: 0.9009966777408638\n",
            "Epoch 4/5, Loss: 0.24704967075983683, Validation Accuracy: 0.9085049833887043\n",
            "Epoch 5/5, Loss: 0.2295321567773819, Validation Accuracy: 0.912890365448505\n"
          ]
        }
      ],
      "id": "wfxXe0Rxhl-x"
    },
    {
      "cell_type": "code",
      "source": [
        "# Plotting epoch loss and validation accuracy graphs\n",
        "num_epochs = len(train_losses)\n",
        "plt.figure(figsize=(10, 5))\n",
        "plt.subplot(1, 2, 1)\n",
        "plt.plot(range(1, num_epochs + 1), train_losses, label='Train Loss', color='red')\n",
        "plt.xlabel('Epoch')\n",
        "plt.ylabel('Loss')\n",
        "plt.title('Epoch Loss')\n",
        "plt.legend()\n",
        "\n",
        "plt.subplot(1, 2, 2)\n",
        "plt.plot(range(1, num_epochs + 1), val_accuracies, label='Validation Accuracy', color='green')\n",
        "plt.xlabel('Epoch')\n",
        "plt.ylabel('Accuracy')\n",
        "plt.title('Validation Accuracy')\n",
        "plt.legend()\n",
        "\n",
        "save_path = \"/content/drive/MyDrive/Colab Notebooks/BBLO_plot.png\"\n",
        "plt.savefig(save_path)\n",
        "\n",
        "plt.tight_layout()\n",
        "plt.show()"
      ],
      "metadata": {
        "id": "_izoIpSHhl-y",
        "colab": {
          "base_uri": "https://localhost:8080/",
          "height": 348
        },
        "outputId": "187b0e3c-62df-4629-9f63-74d4cb955bdb"
      },
      "execution_count": null,
      "outputs": [
        {
          "output_type": "display_data",
          "data": {
            "text/plain": [
              "<Figure size 1000x500 with 2 Axes>"
            ],
            "image/png": "[encoded data removed]"
          },
          "metadata": {}
        }
      ],
      "id": "_izoIpSHhl-y"
    },
    {
      "cell_type": "code",
      "execution_count": null,
      "metadata": {
        "id": "EtCCehvEhl-y",
        "colab": {
          "base_uri": "https://localhost:8080/"
        },
        "outputId": "d3d6e84e-f3b0-429d-e57c-41fc42c3c2f0"
      },
      "outputs": [
        {
          "output_type": "execute_result",
          "data": {
            "text/plain": [
              "BertForSequenceClassification(\n",
              "  (bert): BertModel(\n",
              "    (embeddings): BertEmbeddings(\n",
              "      (word_embeddings): Embedding(30522, 768, padding_idx=0)\n",
              "      (position_embeddings): Embedding(512, 768)\n",
              "      (token_type_embeddings): Embedding(2, 768)\n",
              "      (LayerNorm): LayerNorm((768,), eps=1e-12, elementwise_affine=True)\n",
              "      (dropout): Dropout(p=0.1, inplace=False)\n",
              "    )\n",
              "    (encoder): BertEncoder(\n",
              "      (layer): ModuleList(\n",
              "        (0-11): 12 x BertLayer(\n",
              "          (attention): BertAttention(\n",
              "            (self): BertSelfAttention(\n",
              "              (query): Linear(in_features=768, out_features=768, bias=True)\n",
              "              (key): Linear(in_features=768, out_features=768, bias=True)\n",
              "              (value): Linear(in_features=768, out_features=768, bias=True)\n",
              "              (dropout): Dropout(p=0.1, inplace=False)\n",
              "            )\n",
              "            (output): BertSelfOutput(\n",
              "              (dense): Linear(in_features=768, out_features=768, bias=True)\n",
              "              (LayerNorm): LayerNorm((768,), eps=1e-12, elementwise_affine=True)\n",
              "              (dropout): Dropout(p=0.1, inplace=False)\n",
              "            )\n",
              "          )\n",
              "          (intermediate): BertIntermediate(\n",
              "            (dense): Linear(in_features=768, out_features=3072, bias=True)\n",
              "            (intermediate_act_fn): GELUActivation()\n",
              "          )\n",
              "          (output): BertOutput(\n",
              "            (dense): Linear(in_features=3072, out_features=768, bias=True)\n",
              "            (LayerNorm): LayerNorm((768,), eps=1e-12, elementwise_affine=True)\n",
              "            (dropout): Dropout(p=0.1, inplace=False)\n",
              "          )\n",
              "        )\n",
              "      )\n",
              "    )\n",
              "    (pooler): BertPooler(\n",
              "      (dense): Linear(in_features=768, out_features=768, bias=True)\n",
              "      (activation): Tanh()\n",
              "    )\n",
              "  )\n",
              "  (dropout): Dropout(p=0.1, inplace=False)\n",
              "  (classifier): Linear(in_features=768, out_features=2, bias=True)\n",
              ")"
            ]
          },
          "metadata": {},
          "execution_count": 38
        }
      ],
      "source": [
        "# Loading trained model\n",
        "BERT_Tuned_file = \"/content/drive/MyDrive/Colab Notebooks/BBLO.pt\"\n",
        "model.load_state_dict(torch.load(BERT_Tuned_file))\n",
        "model.eval()"
      ],
      "id": "EtCCehvEhl-y"
    },
    {
      "cell_type": "code",
      "execution_count": null,
      "metadata": {
        "id": "3QQaZIFkhl-z",
        "colab": {
          "base_uri": "https://localhost:8080/"
        },
        "outputId": "cfd8da56-c303-4f7f-a6c1-633bb4f29f46"
      },
      "outputs": [
        {
          "output_type": "stream",
          "name": "stdout",
          "text": [
            "Accuracy: 90.77%\n",
            "Classification Report:\n",
            "               precision    recall  f1-score   support\n",
            "\n",
            "    negative       0.92      0.89      0.91     10012\n",
            "    positive       0.89      0.92      0.91      9938\n",
            "\n",
            "    accuracy                           0.91     19950\n",
            "   macro avg       0.91      0.91      0.91     19950\n",
            "weighted avg       0.91      0.91      0.91     19950\n",
            "\n",
            "Confusion Matrix:\n",
            " [[8929 1083]\n",
            " [ 758 9180]]\n"
          ]
        }
      ],
      "source": [
        "model.to(device)\n",
        "\n",
        "# Creating dataloaders for test\n",
        "batch_size = 32\n",
        "num_cpu = 12\n",
        "\n",
        "test_dataloader = DataLoader(test_dataset, batch_size=batch_size, num_workers=num_cpu, pin_memory=True, shuffle=False)\n",
        "\n",
        "# Evaluating the model on the test set\n",
        "all_preds = []\n",
        "all_labels = []\n",
        "\n",
        "all_preds.clear()\n",
        "all_labels.clear()\n",
        "\n",
        "with torch.no_grad():\n",
        "        for inputs, attention_masks, labels in test_dataloader:\n",
        "            inputs = inputs.to(device)\n",
        "            attention_masks = attention_masks.to(device)\n",
        "            labels = labels.to(device)\n",
        "\n",
        "            outputs = model(inputs, attention_mask=attention_masks)\n",
        "            _, preds = torch.max(outputs.logits, dim=1)\n",
        "\n",
        "            all_preds.extend(preds.cpu().numpy())\n",
        "            all_labels.extend(labels.cpu().numpy())\n",
        "\n",
        "# Calculating evaluation metrics\n",
        "accuracy = accuracy_score(all_labels, all_preds) * 100\n",
        "\n",
        "class_names = [\"negative\", \"positive\"]\n",
        "class_report = classification_report(all_labels, all_preds, target_names=class_names)\n",
        "conf_matrix = confusion_matrix(all_labels, all_preds)\n",
        "\n",
        "print(f\"Accuracy: {accuracy:.2f}%\")\n",
        "print(\"Classification Report:\\n\", class_report)\n",
        "print(\"Confusion Matrix:\\n\", conf_matrix)"
      ],
      "id": "3QQaZIFkhl-z"
    },
    {
      "cell_type": "markdown",
      "source": [
        "# 4 Adagrad Optimizer with Reduce LR on Plataeu LR Scheduler\n",
        "\n",
        "\n"
      ],
      "metadata": {
        "id": "nTIX36MnhpEu"
      },
      "id": "nTIX36MnhpEu"
    },
    {
      "cell_type": "code",
      "source": [
        "from torch.optim.lr_scheduler import ReduceLROnPlateau"
      ],
      "metadata": {
        "id": "hzVxQp6kr_8i"
      },
      "id": "hzVxQp6kr_8i",
      "execution_count": null,
      "outputs": []
    },
    {
      "cell_type": "code",
      "source": [
        "model = BertForSequenceClassification.from_pretrained('bert-base-uncased', num_labels=2).to(device)\n",
        "\n",
        "\n",
        "# declaring Hyperparameters\n",
        "batch_size = 32\n",
        "early_stopping_patience = 3\n",
        "epochs_without_improvement = 0\n",
        "num_cpu = 12\n",
        "num_epochs = 5\n",
        "best_accuracy = 0.0\n",
        "train_losses = []\n",
        "val_accuracies = []\n",
        "train_losses.clear()\n",
        "val_accuracies.clear()\n",
        "\n",
        "# optimizer\n",
        "optimizer = optimizer = optim.Adagrad(model.parameters(), lr=2e-5)\n",
        "scheduler = ReduceLROnPlateau(optimizer, mode='min', factor=0.1, patience=1, verbose=True)\n",
        "# Creating data loaders\n",
        "train_dataloader = DataLoader(train_dataset, batch_size=batch_size, num_workers=num_cpu, pin_memory=True, shuffle=True)\n",
        "val_dataloader = DataLoader(val_dataset, batch_size=batch_size, num_workers=num_cpu, pin_memory=True, shuffle=False)\n",
        "\n",
        "for epoch in range(num_epochs):\n",
        "    running_loss = 0.0\n",
        "\n",
        "    # Training\n",
        "    model.train()\n",
        "    for inputs, attention_masks, labels in train_dataloader:\n",
        "        inputs = inputs.to(device)\n",
        "        attention_masks = attention_masks.to(device)\n",
        "        labels = labels.to(device)\n",
        "\n",
        "        optimizer.zero_grad()\n",
        "        outputs = model(inputs, attention_mask=attention_masks, labels = labels)\n",
        "\n",
        "        loss = outputs.loss\n",
        "\n",
        "        loss.backward()\n",
        "        optimizer.step()\n",
        "\n",
        "        running_loss += loss.item() * inputs.size(0)\n",
        "\n",
        "\n",
        "    # Calculate average loss for the epoch\n",
        "    epoch_loss = running_loss / len(train_dataset)\n",
        "    train_losses.append(epoch_loss)\n",
        "\n",
        "    scheduler.step(epoch_loss)\n",
        "\n",
        "\n",
        "   # Validation\n",
        "    model.eval()  # Setting model to evaluation mode\n",
        "    correct_predictions = 0\n",
        "    total_predictions = 0\n",
        "\n",
        "    with torch.no_grad():\n",
        "        for inputs, attention_masks, labels in val_dataloader:\n",
        "            inputs = inputs.to(device)\n",
        "            attention_masks = attention_masks.to(device)\n",
        "            labels = labels.to(device)\n",
        "\n",
        "            # Get model's predictions\n",
        "            outputs = model(inputs, attention_mask=attention_masks)\n",
        "            predicted_labels = torch.argmax(outputs.logits, dim=1)\n",
        "\n",
        "            correct_predictions += (predicted_labels == labels).sum().item()\n",
        "            total_predictions += labels.size(0)\n",
        "\n",
        "    accuracy = correct_predictions / total_predictions\n",
        "    val_accuracies.append(accuracy)\n",
        "\n",
        "\n",
        "    if accuracy > best_accuracy:\n",
        "        best_accuracy = accuracy\n",
        "        epochs_without_improvement = 0\n",
        "        best_model_state = model.state_dict()\n",
        "    else:\n",
        "        epochs_without_improvement += 1\n",
        "        if epochs_without_improvement >= early_stopping_patience:\n",
        "            print(\"Early stopping triggered.\")\n",
        "            break\n",
        "\n",
        "    # Printing the loss and accuracy for each epoch\n",
        "    print(f\"Epoch {epoch+1}/{num_epochs}, Loss: {epoch_loss}, Validation Accuracy: {accuracy}\")\n",
        "\n",
        "# Saving the trained model\n",
        "BERT_Tuned_file = \"/content/drive/MyDrive/Colab Notebooks/BBAG.pt\"\n",
        "torch.save(best_model_state, BERT_Tuned_file)"
      ],
      "metadata": {
        "id": "5KmrqIoYhpEv",
        "colab": {
          "base_uri": "https://localhost:8080/"
        },
        "outputId": "72219e30-aab0-4e41-815c-6285deeff01e"
      },
      "execution_count": null,
      "outputs": [
        {
          "output_type": "stream",
          "name": "stderr",
          "text": [
            "Some weights of BertForSequenceClassification were not initialized from the model checkpoint at bert-base-uncased and are newly initialized: ['classifier.weight', 'classifier.bias']\n",
            "You should probably TRAIN this model on a down-stream task to be able to use it for predictions and inference.\n"
          ]
        },
        {
          "output_type": "stream",
          "name": "stdout",
          "text": [
            "Epoch 1/5, Loss: 0.38965675727526344, Validation Accuracy: 0.8974750830564784\n",
            "Epoch 2/5, Loss: 0.2637374885956446, Validation Accuracy: 0.9079069767441861\n",
            "Epoch 3/5, Loss: 0.23524835333029429, Validation Accuracy: 0.9114950166112957\n",
            "Epoch 4/5, Loss: 0.21798213673432668, Validation Accuracy: 0.9141528239202658\n",
            "Epoch 5/5, Loss: 0.20760013174215952, Validation Accuracy: 0.9164119601328904\n"
          ]
        }
      ],
      "id": "5KmrqIoYhpEv"
    },
    {
      "cell_type": "code",
      "source": [
        "# Plotting epoch loss and validation accuracy graphs\n",
        "num_epochs = len(train_losses)\n",
        "plt.figure(figsize=(10, 5))\n",
        "plt.subplot(1, 2, 1)\n",
        "plt.plot(range(1, num_epochs + 1), train_losses, label='Train Loss', color='red')\n",
        "plt.xlabel('Epoch')\n",
        "plt.ylabel('Loss')\n",
        "plt.title('Epoch Loss')\n",
        "plt.legend()\n",
        "\n",
        "plt.subplot(1, 2, 2)\n",
        "plt.plot(range(1, num_epochs + 1), val_accuracies, label='Validation Accuracy', color='green')\n",
        "plt.xlabel('Epoch')\n",
        "plt.ylabel('Accuracy')\n",
        "plt.title('Validation Accuracy')\n",
        "plt.legend()\n",
        "\n",
        "save_path = \"/content/drive/MyDrive/Colab Notebooks/BBAG_plot.png\"\n",
        "plt.savefig(save_path)\n",
        "\n",
        "plt.tight_layout()\n",
        "plt.show()"
      ],
      "metadata": {
        "id": "3Xu31KzchpEv",
        "colab": {
          "base_uri": "https://localhost:8080/",
          "height": 348
        },
        "outputId": "78d4e121-f9b2-43e4-82a5-90a1518632dc"
      },
      "execution_count": null,
      "outputs": [
        {
          "output_type": "display_data",
          "data": {
            "text/plain": [
              "<Figure size 1000x500 with 2 Axes>"
            ],
            "image/png": "[encoded data removed]"
          },
          "metadata": {}
        }
      ],
      "id": "3Xu31KzchpEv"
    },
    {
      "cell_type": "code",
      "execution_count": null,
      "metadata": {
        "id": "eYUYAHCGhpEw",
        "colab": {
          "base_uri": "https://localhost:8080/"
        },
        "outputId": "052ad7c6-4c8d-46f9-8267-103c3f3181c0"
      },
      "outputs": [
        {
          "output_type": "execute_result",
          "data": {
            "text/plain": [
              "BertForSequenceClassification(\n",
              "  (bert): BertModel(\n",
              "    (embeddings): BertEmbeddings(\n",
              "      (word_embeddings): Embedding(30522, 768, padding_idx=0)\n",
              "      (position_embeddings): Embedding(512, 768)\n",
              "      (token_type_embeddings): Embedding(2, 768)\n",
              "      (LayerNorm): LayerNorm((768,), eps=1e-12, elementwise_affine=True)\n",
              "      (dropout): Dropout(p=0.1, inplace=False)\n",
              "    )\n",
              "    (encoder): BertEncoder(\n",
              "      (layer): ModuleList(\n",
              "        (0-11): 12 x BertLayer(\n",
              "          (attention): BertAttention(\n",
              "            (self): BertSelfAttention(\n",
              "              (query): Linear(in_features=768, out_features=768, bias=True)\n",
              "              (key): Linear(in_features=768, out_features=768, bias=True)\n",
              "              (value): Linear(in_features=768, out_features=768, bias=True)\n",
              "              (dropout): Dropout(p=0.1, inplace=False)\n",
              "            )\n",
              "            (output): BertSelfOutput(\n",
              "              (dense): Linear(in_features=768, out_features=768, bias=True)\n",
              "              (LayerNorm): LayerNorm((768,), eps=1e-12, elementwise_affine=True)\n",
              "              (dropout): Dropout(p=0.1, inplace=False)\n",
              "            )\n",
              "          )\n",
              "          (intermediate): BertIntermediate(\n",
              "            (dense): Linear(in_features=768, out_features=3072, bias=True)\n",
              "            (intermediate_act_fn): GELUActivation()\n",
              "          )\n",
              "          (output): BertOutput(\n",
              "            (dense): Linear(in_features=3072, out_features=768, bias=True)\n",
              "            (LayerNorm): LayerNorm((768,), eps=1e-12, elementwise_affine=True)\n",
              "            (dropout): Dropout(p=0.1, inplace=False)\n",
              "          )\n",
              "        )\n",
              "      )\n",
              "    )\n",
              "    (pooler): BertPooler(\n",
              "      (dense): Linear(in_features=768, out_features=768, bias=True)\n",
              "      (activation): Tanh()\n",
              "    )\n",
              "  )\n",
              "  (dropout): Dropout(p=0.1, inplace=False)\n",
              "  (classifier): Linear(in_features=768, out_features=2, bias=True)\n",
              ")"
            ]
          },
          "metadata": {},
          "execution_count": 43
        }
      ],
      "source": [
        "# Loading trained model\n",
        "BERT_Tuned_file = \"/content/drive/MyDrive/Colab Notebooks/BBAG.pt\"\n",
        "model.load_state_dict(torch.load(BERT_Tuned_file))\n",
        "model.eval()"
      ],
      "id": "eYUYAHCGhpEw"
    },
    {
      "cell_type": "code",
      "execution_count": null,
      "metadata": {
        "id": "y1sVndIWhpEw",
        "colab": {
          "base_uri": "https://localhost:8080/"
        },
        "outputId": "42411597-92e2-493d-b857-e95d3111513c"
      },
      "outputs": [
        {
          "output_type": "stream",
          "name": "stdout",
          "text": [
            "Accuracy: 91.21%\n",
            "Classification Report:\n",
            "               precision    recall  f1-score   support\n",
            "\n",
            "    negative       0.91      0.91      0.91     10012\n",
            "    positive       0.91      0.91      0.91      9938\n",
            "\n",
            "    accuracy                           0.91     19950\n",
            "   macro avg       0.91      0.91      0.91     19950\n",
            "weighted avg       0.91      0.91      0.91     19950\n",
            "\n",
            "Confusion Matrix:\n",
            " [[9124  888]\n",
            " [ 865 9073]]\n"
          ]
        }
      ],
      "source": [
        "model.to(device)\n",
        "\n",
        "# Creating dataloaders for test\n",
        "batch_size = 32\n",
        "num_cpu = 12\n",
        "\n",
        "test_dataloader = DataLoader(test_dataset, batch_size=batch_size, num_workers=num_cpu, pin_memory=True, shuffle=False)\n",
        "\n",
        "# Evaluating the model on the test set\n",
        "all_preds = []\n",
        "all_labels = []\n",
        "\n",
        "all_preds.clear()\n",
        "all_labels.clear()\n",
        "\n",
        "with torch.no_grad():\n",
        "        for inputs, attention_masks, labels in test_dataloader:\n",
        "            inputs = inputs.to(device)\n",
        "            attention_masks = attention_masks.to(device)\n",
        "            labels = labels.to(device)\n",
        "\n",
        "            outputs = model(inputs, attention_mask=attention_masks)\n",
        "            _, preds = torch.max(outputs.logits, dim=1)\n",
        "\n",
        "            all_preds.extend(preds.cpu().numpy())\n",
        "            all_labels.extend(labels.cpu().numpy())\n",
        "\n",
        "# Calculating evaluation metrics\n",
        "accuracy = accuracy_score(all_labels, all_preds) * 100\n",
        "\n",
        "class_names = [\"negative\", \"positive\"]\n",
        "class_report = classification_report(all_labels, all_preds, target_names=class_names)\n",
        "conf_matrix = confusion_matrix(all_labels, all_preds)\n",
        "\n",
        "print(f\"Accuracy: {accuracy:.2f}%\")\n",
        "print(\"Classification Report:\\n\", class_report)\n",
        "print(\"Confusion Matrix:\\n\", conf_matrix)"
      ],
      "id": "y1sVndIWhpEw"
    },
    {
      "cell_type": "markdown",
      "source": [
        "# 5 AdamW Optimizer with get linear schedule with warm up LR Scheduler\n",
        "\n",
        "\n"
      ],
      "metadata": {
        "id": "FtTaRS3IhpX6"
      },
      "id": "FtTaRS3IhpX6"
    },
    {
      "cell_type": "code",
      "source": [
        "from transformers import get_linear_schedule_with_warmup"
      ],
      "metadata": {
        "id": "tk1e6y45h_qb"
      },
      "id": "tk1e6y45h_qb",
      "execution_count": null,
      "outputs": []
    },
    {
      "cell_type": "code",
      "source": [
        "model = BertForSequenceClassification.from_pretrained('bert-base-uncased', num_labels=2).to(device)\n",
        "\n",
        "batch_size = 32\n",
        "num_cpu = 12\n",
        "\n",
        "# Creating data loaders\n",
        "train_dataloader = DataLoader(train_dataset, batch_size=batch_size, num_workers=num_cpu, pin_memory=True, shuffle=True)\n",
        "val_dataloader = DataLoader(val_dataset, batch_size=batch_size, num_workers=num_cpu, pin_memory=True, shuffle=False)\n",
        "\n",
        "# declaring Hyperparameters\n",
        "\n",
        "early_stopping_patience = 3\n",
        "epochs_without_improvement = 0\n",
        "num_epochs = 5\n",
        "steps_per_epoch = len(train_dataloader)\n",
        "total_steps = num_epochs * steps_per_epoch\n",
        "best_accuracy = 0.0\n",
        "train_losses = []\n",
        "val_accuracies = []\n",
        "train_losses.clear()\n",
        "val_accuracies.clear()\n",
        "\n",
        "# optimizer\n",
        "optimizer = optim.AdamW(model.parameters(), lr=2e-5, eps=1e-08)\n",
        "scheduler = get_linear_schedule_with_warmup(optimizer, num_warmup_steps=0.1 * total_steps, num_training_steps=total_steps)\n",
        "\n",
        "\n",
        "\n",
        "for epoch in range(num_epochs):\n",
        "    running_loss = 0.0\n",
        "\n",
        "    # Training\n",
        "    model.train()\n",
        "    for inputs, attention_masks, labels in train_dataloader:\n",
        "        inputs = inputs.to(device)\n",
        "        attention_masks = attention_masks.to(device)\n",
        "        labels = labels.to(device)\n",
        "\n",
        "        optimizer.zero_grad()\n",
        "        outputs = model(inputs, attention_mask=attention_masks, labels = labels)\n",
        "\n",
        "        loss = outputs.loss\n",
        "\n",
        "        loss.backward()\n",
        "\n",
        "        optimizer.step()\n",
        "\n",
        "        running_loss += loss.item() * inputs.size(0)\n",
        "\n",
        "\n",
        "    # Calculate average loss for the epoch\n",
        "    epoch_loss = running_loss / len(train_dataset)\n",
        "    train_losses.append(epoch_loss)\n",
        "\n",
        "    scheduler.step()\n",
        "\n",
        "\n",
        "   # Validation\n",
        "    model.eval()  # Setting model to evaluation mode\n",
        "    correct_predictions = 0\n",
        "    total_predictions = 0\n",
        "\n",
        "    with torch.no_grad():\n",
        "        for inputs, attention_masks, labels in val_dataloader:\n",
        "            inputs = inputs.to(device)\n",
        "            attention_masks = attention_masks.to(device)\n",
        "            labels = labels.to(device)\n",
        "\n",
        "            # Get model's predictions\n",
        "            outputs = model(inputs, attention_mask=attention_masks)\n",
        "            predicted_labels = torch.argmax(outputs.logits, dim=1)\n",
        "\n",
        "            correct_predictions += (predicted_labels == labels).sum().item()\n",
        "            total_predictions += labels.size(0)\n",
        "\n",
        "    accuracy = correct_predictions / total_predictions\n",
        "    val_accuracies.append(accuracy)\n",
        "\n",
        "\n",
        "    if accuracy > best_accuracy:\n",
        "        best_accuracy = accuracy\n",
        "        epochs_without_improvement = 0\n",
        "        best_model_state = model.state_dict()\n",
        "    else:\n",
        "        epochs_without_improvement += 1\n",
        "        if epochs_without_improvement >= early_stopping_patience:\n",
        "            print(\"Early stopping triggered.\")\n",
        "            break\n",
        "\n",
        "    # Printing the loss and accuracy for each epoch\n",
        "    print(f\"Epoch {epoch+1}/{num_epochs}, Loss: {epoch_loss}, Validation Accuracy: {accuracy}\")\n",
        "\n",
        "# Saving the trained model\n",
        "BERT_Tuned_file = \"/content/drive/MyDrive/Colab Notebooks/BBAW.pt\"\n",
        "torch.save(best_model_state, BERT_Tuned_file)"
      ],
      "metadata": {
        "id": "3tsGoENehpX7",
        "colab": {
          "base_uri": "https://localhost:8080/"
        },
        "outputId": "ec1d077e-3c54-43a0-a4b6-b96996daf138"
      },
      "execution_count": null,
      "outputs": [
        {
          "output_type": "stream",
          "name": "stderr",
          "text": [
            "Some weights of BertForSequenceClassification were not initialized from the model checkpoint at bert-base-uncased and are newly initialized: ['classifier.weight', 'classifier.bias']\n",
            "You should probably TRAIN this model on a down-stream task to be able to use it for predictions and inference.\n"
          ]
        },
        {
          "output_type": "stream",
          "name": "stdout",
          "text": [
            "Epoch 1/5, Loss: 0.7121395010948182, Validation Accuracy: 0.4780066445182724\n",
            "Epoch 2/5, Loss: 0.7005604430834452, Validation Accuracy: 0.5466445182724252\n",
            "Epoch 3/5, Loss: 0.6770737242062886, Validation Accuracy: 0.6885049833887044\n",
            "Epoch 4/5, Loss: 0.5918555398146311, Validation Accuracy: 0.8203322259136213\n",
            "Epoch 5/5, Loss: 0.3933550851821899, Validation Accuracy: 0.8857807308970099\n"
          ]
        }
      ],
      "id": "3tsGoENehpX7"
    },
    {
      "cell_type": "code",
      "source": [
        "# Plotting epoch loss and validation accuracy graphs\n",
        "num_epochs = len(train_losses)\n",
        "plt.figure(figsize=(10, 5))\n",
        "plt.subplot(1, 2, 1)\n",
        "plt.plot(range(1, num_epochs + 1), train_losses, label='Train Loss', color='red')\n",
        "plt.xlabel('Epoch')\n",
        "plt.ylabel('Loss')\n",
        "plt.title('Epoch Loss')\n",
        "plt.legend()\n",
        "\n",
        "plt.subplot(1, 2, 2)\n",
        "plt.plot(range(1, num_epochs + 1), val_accuracies, label='Validation Accuracy', color='green')\n",
        "plt.xlabel('Epoch')\n",
        "plt.ylabel('Accuracy')\n",
        "plt.title('Validation Accuracy')\n",
        "plt.legend()\n",
        "\n",
        "save_path = \"/content/drive/MyDrive/Colab Notebooks/BBAW_plot.png\"\n",
        "plt.savefig(save_path)\n",
        "\n",
        "plt.tight_layout()\n",
        "plt.show()"
      ],
      "metadata": {
        "id": "LdAuhtj_hpX7",
        "colab": {
          "base_uri": "https://localhost:8080/",
          "height": 348
        },
        "outputId": "d1b50dbe-7e74-4fc0-efa3-8167c7bc5343"
      },
      "execution_count": null,
      "outputs": [
        {
          "output_type": "display_data",
          "data": {
            "text/plain": [
              "<Figure size 1000x500 with 2 Axes>"
            ],
            "image/png": "[encoded data removed]"
          },
          "metadata": {}
        }
      ],
      "id": "LdAuhtj_hpX7"
    },
    {
      "cell_type": "code",
      "execution_count": null,
      "metadata": {
        "id": "wJS8JdjChpX7",
        "colab": {
          "base_uri": "https://localhost:8080/"
        },
        "outputId": "b1c576a9-4c41-4543-828e-7036b17b51a1"
      },
      "outputs": [
        {
          "output_type": "execute_result",
          "data": {
            "text/plain": [
              "BertForSequenceClassification(\n",
              "  (bert): BertModel(\n",
              "    (embeddings): BertEmbeddings(\n",
              "      (word_embeddings): Embedding(30522, 768, padding_idx=0)\n",
              "      (position_embeddings): Embedding(512, 768)\n",
              "      (token_type_embeddings): Embedding(2, 768)\n",
              "      (LayerNorm): LayerNorm((768,), eps=1e-12, elementwise_affine=True)\n",
              "      (dropout): Dropout(p=0.1, inplace=False)\n",
              "    )\n",
              "    (encoder): BertEncoder(\n",
              "      (layer): ModuleList(\n",
              "        (0-11): 12 x BertLayer(\n",
              "          (attention): BertAttention(\n",
              "            (self): BertSelfAttention(\n",
              "              (query): Linear(in_features=768, out_features=768, bias=True)\n",
              "              (key): Linear(in_features=768, out_features=768, bias=True)\n",
              "              (value): Linear(in_features=768, out_features=768, bias=True)\n",
              "              (dropout): Dropout(p=0.1, inplace=False)\n",
              "            )\n",
              "            (output): BertSelfOutput(\n",
              "              (dense): Linear(in_features=768, out_features=768, bias=True)\n",
              "              (LayerNorm): LayerNorm((768,), eps=1e-12, elementwise_affine=True)\n",
              "              (dropout): Dropout(p=0.1, inplace=False)\n",
              "            )\n",
              "          )\n",
              "          (intermediate): BertIntermediate(\n",
              "            (dense): Linear(in_features=768, out_features=3072, bias=True)\n",
              "            (intermediate_act_fn): GELUActivation()\n",
              "          )\n",
              "          (output): BertOutput(\n",
              "            (dense): Linear(in_features=3072, out_features=768, bias=True)\n",
              "            (LayerNorm): LayerNorm((768,), eps=1e-12, elementwise_affine=True)\n",
              "            (dropout): Dropout(p=0.1, inplace=False)\n",
              "          )\n",
              "        )\n",
              "      )\n",
              "    )\n",
              "    (pooler): BertPooler(\n",
              "      (dense): Linear(in_features=768, out_features=768, bias=True)\n",
              "      (activation): Tanh()\n",
              "    )\n",
              "  )\n",
              "  (dropout): Dropout(p=0.1, inplace=False)\n",
              "  (classifier): Linear(in_features=768, out_features=2, bias=True)\n",
              ")"
            ]
          },
          "metadata": {},
          "execution_count": 48
        }
      ],
      "source": [
        "# Loading trained model\n",
        "BERT_Tuned_file = \"/content/drive/MyDrive/Colab Notebooks/BBAW.pt\"\n",
        "model.load_state_dict(torch.load(BERT_Tuned_file))\n",
        "model.eval()"
      ],
      "id": "wJS8JdjChpX7"
    },
    {
      "cell_type": "code",
      "execution_count": null,
      "metadata": {
        "id": "jZDSP3GPhpX7",
        "colab": {
          "base_uri": "https://localhost:8080/"
        },
        "outputId": "ff25fd08-96bf-4ea7-ab9c-6822d7a513a3"
      },
      "outputs": [
        {
          "output_type": "stream",
          "name": "stdout",
          "text": [
            "Accuracy: 88.14%\n",
            "Classification Report:\n",
            "               precision    recall  f1-score   support\n",
            "\n",
            "    negative       0.88      0.88      0.88     10012\n",
            "    positive       0.88      0.88      0.88      9938\n",
            "\n",
            "    accuracy                           0.88     19950\n",
            "   macro avg       0.88      0.88      0.88     19950\n",
            "weighted avg       0.88      0.88      0.88     19950\n",
            "\n",
            "Confusion Matrix:\n",
            " [[8844 1168]\n",
            " [1199 8739]]\n"
          ]
        }
      ],
      "source": [
        "model.to(device)\n",
        "\n",
        "# Creating dataloaders for test\n",
        "batch_size = 32\n",
        "num_cpu = 12\n",
        "\n",
        "test_dataloader = DataLoader(test_dataset, batch_size=batch_size, num_workers=num_cpu, pin_memory=True, shuffle=False)\n",
        "\n",
        "# Evaluating the model on the test set\n",
        "all_preds = []\n",
        "all_labels = []\n",
        "\n",
        "all_preds.clear()\n",
        "all_labels.clear()\n",
        "\n",
        "with torch.no_grad():\n",
        "        for inputs, attention_masks, labels in test_dataloader:\n",
        "            inputs = inputs.to(device)\n",
        "            attention_masks = attention_masks.to(device)\n",
        "            labels = labels.to(device)\n",
        "\n",
        "            outputs = model(inputs, attention_mask=attention_masks)\n",
        "            _, preds = torch.max(outputs.logits, dim=1)\n",
        "\n",
        "            all_preds.extend(preds.cpu().numpy())\n",
        "            all_labels.extend(labels.cpu().numpy())\n",
        "\n",
        "# Calculating evaluation metrics\n",
        "accuracy = accuracy_score(all_labels, all_preds) * 100\n",
        "\n",
        "class_names = [\"negative\", \"positive\"]\n",
        "class_report = classification_report(all_labels, all_preds, target_names=class_names)\n",
        "conf_matrix = confusion_matrix(all_labels, all_preds)\n",
        "\n",
        "print(f\"Accuracy: {accuracy:.2f}%\")\n",
        "print(\"Classification Report:\\n\", class_report)\n",
        "print(\"Confusion Matrix:\\n\", conf_matrix)"
      ],
      "id": "jZDSP3GPhpX7"
    },
    {
      "cell_type": "code",
      "source": [
        "user_input = input(\"Enter a sentence: \")\n",
        "preprocessed_input = preprocess_text(user_input)\n",
        "encoded_input= tokenizer.batch_encode_plus(\n",
        "    [preprocessed_input],\n",
        "    padding=True,\n",
        "    truncation=True,\n",
        "    max_length=512,\n",
        "    return_tensors='pt'\n",
        ")\n",
        "input_ids = encoded_input['input_ids'].to(device)\n",
        "attention_masks_test = encoded_input['attention_mask'].to(device)\n",
        "\n",
        "with torch.no_grad():\n",
        "    outputs = model(input_ids, attention_mask=attention_masks_test)\n",
        "    logits = outputs.logits\n",
        "    predicted_label = torch.argmax(logits, dim=1).item()\n",
        "\n",
        "class_names = [\"negative\", \"positive\"]\n",
        "predicted_sentiment = class_names[predicted_label]\n",
        "print(\"Predicted sentiment:\", predicted_sentiment)"
      ],
      "metadata": {
        "id": "xTkADjqcFgyM",
        "colab": {
          "base_uri": "https://localhost:8080/"
        },
        "outputId": "0b1a04d6-138b-4782-f4ba-ca88f144c8d1"
      },
      "id": "xTkADjqcFgyM",
      "execution_count": null,
      "outputs": [
        {
          "output_type": "stream",
          "name": "stdout",
          "text": [
            "Enter a sentence: nic one\n",
            "Predicted sentiment: positive\n"
          ]
        }
      ]
    }
  ],
  "metadata": {
    "accelerator": "GPU",
    "colab": {
      "machine_shape": "hm",
      "provenance": [],
      "gpuType": "A100"
    },
    "kernelspec": {
      "display_name": "Python 3",
      "name": "python3"
    },
    "language_info": {
      "codemirror_mode": {
        "name": "ipython",
        "version": 3
      },
      "file_extension": ".py",
      "mimetype": "text/x-python",
      "name": "python",
      "nbconvert_exporter": "python",
      "pygments_lexer": "ipython3",
      "version": "3.10.9"
    },
    "widgets": {
      "application/vnd.jupyter.widget-state+json": {
        "12ba31a45ef34f34b8a7c0c21d8710d8": {
          "model_module": "@jupyter-widgets/controls",
          "model_name": "HBoxModel",
          "model_module_version": "1.5.0",
          "state": {
            "_dom_classes": [],
            "_model_module": "@jupyter-widgets/controls",
            "_model_module_version": "1.5.0",
            "_model_name": "HBoxModel",
            "_view_count": null,
            "_view_module": "@jupyter-widgets/controls",
            "_view_module_version": "1.5.0",
            "_view_name": "HBoxView",
            "box_style": "",
            "children": [
              "IPY_MODEL_11126d89e8a04824a24dbfa867a35b5b",
              "IPY_MODEL_e77e55d8210a49c3acd7bb026ea55f07",
              "IPY_MODEL_de985bb061974da18843f2da36a55359"
            ],
            "layout": "IPY_MODEL_48d5410d9b5642659af8a8454de85f31"
          }
        },
        "11126d89e8a04824a24dbfa867a35b5b": {
          "model_module": "@jupyter-widgets/controls",
          "model_name": "HTMLModel",
          "model_module_version": "1.5.0",
          "state": {
            "_dom_classes": [],
            "_model_module": "@jupyter-widgets/controls",
            "_model_module_version": "1.5.0",
            "_model_name": "HTMLModel",
            "_view_count": null,
            "_view_module": "@jupyter-widgets/controls",
            "_view_module_version": "1.5.0",
            "_view_name": "HTMLView",
            "description": "",
            "description_tooltip": null,
            "layout": "IPY_MODEL_3fd59bfca86c4b1ebea1c00d855a0083",
            "placeholder": "​",
            "style": "IPY_MODEL_93b8e3aa42224ce88e3cd73b1612f04d",
            "value": "Downloading model.safetensors: 100%"
          }
        },
        "e77e55d8210a49c3acd7bb026ea55f07": {
          "model_module": "@jupyter-widgets/controls",
          "model_name": "FloatProgressModel",
          "model_module_version": "1.5.0",
          "state": {
            "_dom_classes": [],
            "_model_module": "@jupyter-widgets/controls",
            "_model_module_version": "1.5.0",
            "_model_name": "FloatProgressModel",
            "_view_count": null,
            "_view_module": "@jupyter-widgets/controls",
            "_view_module_version": "1.5.0",
            "_view_name": "ProgressView",
            "bar_style": "success",
            "description": "",
            "description_tooltip": null,
            "layout": "IPY_MODEL_45b64d682ed34fc1b933a3924644c166",
            "max": 440449768,
            "min": 0,
            "orientation": "horizontal",
            "style": "IPY_MODEL_d64c2427783d4c099dd5c8e5484a65ee",
            "value": 440449768
          }
        },
        "de985bb061974da18843f2da36a55359": {
          "model_module": "@jupyter-widgets/controls",
          "model_name": "HTMLModel",
          "model_module_version": "1.5.0",
          "state": {
            "_dom_classes": [],
            "_model_module": "@jupyter-widgets/controls",
            "_model_module_version": "1.5.0",
            "_model_name": "HTMLModel",
            "_view_count": null,
            "_view_module": "@jupyter-widgets/controls",
            "_view_module_version": "1.5.0",
            "_view_name": "HTMLView",
            "description": "",
            "description_tooltip": null,
            "layout": "IPY_MODEL_f316435ef2904001908245b53c33613e",
            "placeholder": "​",
            "style": "IPY_MODEL_5e3992f080b149a8a3ef764aabdd6663",
            "value": " 440M/440M [00:00&lt;00:00, 538MB/s]"
          }
        },
        "48d5410d9b5642659af8a8454de85f31": {
          "model_module": "@jupyter-widgets/base",
          "model_name": "LayoutModel",
          "model_module_version": "1.2.0",
          "state": {
            "_model_module": "@jupyter-widgets/base",
            "_model_module_version": "1.2.0",
            "_model_name": "LayoutModel",
            "_view_count": null,
            "_view_module": "@jupyter-widgets/base",
            "_view_module_version": "1.2.0",
            "_view_name": "LayoutView",
            "align_content": null,
            "align_items": null,
            "align_self": null,
            "border": null,
            "bottom": null,
            "display": null,
            "flex": null,
            "flex_flow": null,
            "grid_area": null,
            "grid_auto_columns": null,
            "grid_auto_flow": null,
            "grid_auto_rows": null,
            "grid_column": null,
            "grid_gap": null,
            "grid_row": null,
            "grid_template_areas": null,
            "grid_template_columns": null,
            "grid_template_rows": null,
            "height": null,
            "justify_content": null,
            "justify_items": null,
            "left": null,
            "margin": null,
            "max_height": null,
            "max_width": null,
            "min_height": null,
            "min_width": null,
            "object_fit": null,
            "object_position": null,
            "order": null,
            "overflow": null,
            "overflow_x": null,
            "overflow_y": null,
            "padding": null,
            "right": null,
            "top": null,
            "visibility": null,
            "width": null
          }
        },
        "3fd59bfca86c4b1ebea1c00d855a0083": {
          "model_module": "@jupyter-widgets/base",
          "model_name": "LayoutModel",
          "model_module_version": "1.2.0",
          "state": {
            "_model_module": "@jupyter-widgets/base",
            "_model_module_version": "1.2.0",
            "_model_name": "LayoutModel",
            "_view_count": null,
            "_view_module": "@jupyter-widgets/base",
            "_view_module_version": "1.2.0",
            "_view_name": "LayoutView",
            "align_content": null,
            "align_items": null,
            "align_self": null,
            "border": null,
            "bottom": null,
            "display": null,
            "flex": null,
            "flex_flow": null,
            "grid_area": null,
            "grid_auto_columns": null,
            "grid_auto_flow": null,
            "grid_auto_rows": null,
            "grid_column": null,
            "grid_gap": null,
            "grid_row": null,
            "grid_template_areas": null,
            "grid_template_columns": null,
            "grid_template_rows": null,
            "height": null,
            "justify_content": null,
            "justify_items": null,
            "left": null,
            "margin": null,
            "max_height": null,
            "max_width": null,
            "min_height": null,
            "min_width": null,
            "object_fit": null,
            "object_position": null,
            "order": null,
            "overflow": null,
            "overflow_x": null,
            "overflow_y": null,
            "padding": null,
            "right": null,
            "top": null,
            "visibility": null,
            "width": null
          }
        },
        "93b8e3aa42224ce88e3cd73b1612f04d": {
          "model_module": "@jupyter-widgets/controls",
          "model_name": "DescriptionStyleModel",
          "model_module_version": "1.5.0",
          "state": {
            "_model_module": "@jupyter-widgets/controls",
            "_model_module_version": "1.5.0",
            "_model_name": "DescriptionStyleModel",
            "_view_count": null,
            "_view_module": "@jupyter-widgets/base",
            "_view_module_version": "1.2.0",
            "_view_name": "StyleView",
            "description_width": ""
          }
        },
        "45b64d682ed34fc1b933a3924644c166": {
          "model_module": "@jupyter-widgets/base",
          "model_name": "LayoutModel",
          "model_module_version": "1.2.0",
          "state": {
            "_model_module": "@jupyter-widgets/base",
            "_model_module_version": "1.2.0",
            "_model_name": "LayoutModel",
            "_view_count": null,
            "_view_module": "@jupyter-widgets/base",
            "_view_module_version": "1.2.0",
            "_view_name": "LayoutView",
            "align_content": null,
            "align_items": null,
            "align_self": null,
            "border": null,
            "bottom": null,
            "display": null,
            "flex": null,
            "flex_flow": null,
            "grid_area": null,
            "grid_auto_columns": null,
            "grid_auto_flow": null,
            "grid_auto_rows": null,
            "grid_column": null,
            "grid_gap": null,
            "grid_row": null,
            "grid_template_areas": null,
            "grid_template_columns": null,
            "grid_template_rows": null,
            "height": null,
            "justify_content": null,
            "justify_items": null,
            "left": null,
            "margin": null,
            "max_height": null,
            "max_width": null,
            "min_height": null,
            "min_width": null,
            "object_fit": null,
            "object_position": null,
            "order": null,
            "overflow": null,
            "overflow_x": null,
            "overflow_y": null,
            "padding": null,
            "right": null,
            "top": null,
            "visibility": null,
            "width": null
          }
        },
        "d64c2427783d4c099dd5c8e5484a65ee": {
          "model_module": "@jupyter-widgets/controls",
          "model_name": "ProgressStyleModel",
          "model_module_version": "1.5.0",
          "state": {
            "_model_module": "@jupyter-widgets/controls",
            "_model_module_version": "1.5.0",
            "_model_name": "ProgressStyleModel",
            "_view_count": null,
            "_view_module": "@jupyter-widgets/base",
            "_view_module_version": "1.2.0",
            "_view_name": "StyleView",
            "bar_color": null,
            "description_width": ""
          }
        },
        "f316435ef2904001908245b53c33613e": {
          "model_module": "@jupyter-widgets/base",
          "model_name": "LayoutModel",
          "model_module_version": "1.2.0",
          "state": {
            "_model_module": "@jupyter-widgets/base",
            "_model_module_version": "1.2.0",
            "_model_name": "LayoutModel",
            "_view_count": null,
            "_view_module": "@jupyter-widgets/base",
            "_view_module_version": "1.2.0",
            "_view_name": "LayoutView",
            "align_content": null,
            "align_items": null,
            "align_self": null,
            "border": null,
            "bottom": null,
            "display": null,
            "flex": null,
            "flex_flow": null,
            "grid_area": null,
            "grid_auto_columns": null,
            "grid_auto_flow": null,
            "grid_auto_rows": null,
            "grid_column": null,
            "grid_gap": null,
            "grid_row": null,
            "grid_template_areas": null,
            "grid_template_columns": null,
            "grid_template_rows": null,
            "height": null,
            "justify_content": null,
            "justify_items": null,
            "left": null,
            "margin": null,
            "max_height": null,
            "max_width": null,
            "min_height": null,
            "min_width": null,
            "object_fit": null,
            "object_position": null,
            "order": null,
            "overflow": null,
            "overflow_x": null,
            "overflow_y": null,
            "padding": null,
            "right": null,
            "top": null,
            "visibility": null,
            "width": null
          }
        },
        "5e3992f080b149a8a3ef764aabdd6663": {
          "model_module": "@jupyter-widgets/controls",
          "model_name": "DescriptionStyleModel",
          "model_module_version": "1.5.0",
          "state": {
            "_model_module": "@jupyter-widgets/controls",
            "_model_module_version": "1.5.0",
            "_model_name": "DescriptionStyleModel",
            "_view_count": null,
            "_view_module": "@jupyter-widgets/base",
            "_view_module_version": "1.2.0",
            "_view_name": "StyleView",
            "description_width": ""
          }
        },
        "5af35e30e48d4c7888e37ca52929fad0": {
          "model_module": "@jupyter-widgets/controls",
          "model_name": "HBoxModel",
          "model_module_version": "1.5.0",
          "state": {
            "_dom_classes": [],
            "_model_module": "@jupyter-widgets/controls",
            "_model_module_version": "1.5.0",
            "_model_name": "HBoxModel",
            "_view_count": null,
            "_view_module": "@jupyter-widgets/controls",
            "_view_module_version": "1.5.0",
            "_view_name": "HBoxView",
            "box_style": "",
            "children": [
              "IPY_MODEL_0da990f6d24142c0a13a5b28a9de8c3b",
              "IPY_MODEL_12a3cf3ef8e049488ab73d2b9d46ecba",
              "IPY_MODEL_9206fef28fff48d0b9b491fc9d6fd8e6"
            ],
            "layout": "IPY_MODEL_c7de44d49a9b4da6bcbd73d3b2108a0d"
          }
        },
        "0da990f6d24142c0a13a5b28a9de8c3b": {
          "model_module": "@jupyter-widgets/controls",
          "model_name": "HTMLModel",
          "model_module_version": "1.5.0",
          "state": {
            "_dom_classes": [],
            "_model_module": "@jupyter-widgets/controls",
            "_model_module_version": "1.5.0",
            "_model_name": "HTMLModel",
            "_view_count": null,
            "_view_module": "@jupyter-widgets/controls",
            "_view_module_version": "1.5.0",
            "_view_name": "HTMLView",
            "description": "",
            "description_tooltip": null,
            "layout": "IPY_MODEL_c284b45de31c490ba66e91e6fd6b3019",
            "placeholder": "​",
            "style": "IPY_MODEL_c5969cbd701846b49e1850a37c86adcb",
            "value": "Downloading (…)solve/main/vocab.txt: 100%"
          }
        },
        "12a3cf3ef8e049488ab73d2b9d46ecba": {
          "model_module": "@jupyter-widgets/controls",
          "model_name": "FloatProgressModel",
          "model_module_version": "1.5.0",
          "state": {
            "_dom_classes": [],
            "_model_module": "@jupyter-widgets/controls",
            "_model_module_version": "1.5.0",
            "_model_name": "FloatProgressModel",
            "_view_count": null,
            "_view_module": "@jupyter-widgets/controls",
            "_view_module_version": "1.5.0",
            "_view_name": "ProgressView",
            "bar_style": "success",
            "description": "",
            "description_tooltip": null,
            "layout": "IPY_MODEL_163e5b0583fb41c0bb0304e9a604934b",
            "max": 231508,
            "min": 0,
            "orientation": "horizontal",
            "style": "IPY_MODEL_8dc22e0afc2744ce85df9e8fffd0b71e",
            "value": 231508
          }
        },
        "9206fef28fff48d0b9b491fc9d6fd8e6": {
          "model_module": "@jupyter-widgets/controls",
          "model_name": "HTMLModel",
          "model_module_version": "1.5.0",
          "state": {
            "_dom_classes": [],
            "_model_module": "@jupyter-widgets/controls",
            "_model_module_version": "1.5.0",
            "_model_name": "HTMLModel",
            "_view_count": null,
            "_view_module": "@jupyter-widgets/controls",
            "_view_module_version": "1.5.0",
            "_view_name": "HTMLView",
            "description": "",
            "description_tooltip": null,
            "layout": "IPY_MODEL_31506d7df13140b190a0ca457838efa6",
            "placeholder": "​",
            "style": "IPY_MODEL_646193fa362145e6b7d6f4498859b165",
            "value": " 232k/232k [00:00&lt;00:00, 473kB/s]"
          }
        },
        "c7de44d49a9b4da6bcbd73d3b2108a0d": {
          "model_module": "@jupyter-widgets/base",
          "model_name": "LayoutModel",
          "model_module_version": "1.2.0",
          "state": {
            "_model_module": "@jupyter-widgets/base",
            "_model_module_version": "1.2.0",
            "_model_name": "LayoutModel",
            "_view_count": null,
            "_view_module": "@jupyter-widgets/base",
            "_view_module_version": "1.2.0",
            "_view_name": "LayoutView",
            "align_content": null,
            "align_items": null,
            "align_self": null,
            "border": null,
            "bottom": null,
            "display": null,
            "flex": null,
            "flex_flow": null,
            "grid_area": null,
            "grid_auto_columns": null,
            "grid_auto_flow": null,
            "grid_auto_rows": null,
            "grid_column": null,
            "grid_gap": null,
            "grid_row": null,
            "grid_template_areas": null,
            "grid_template_columns": null,
            "grid_template_rows": null,
            "height": null,
            "justify_content": null,
            "justify_items": null,
            "left": null,
            "margin": null,
            "max_height": null,
            "max_width": null,
            "min_height": null,
            "min_width": null,
            "object_fit": null,
            "object_position": null,
            "order": null,
            "overflow": null,
            "overflow_x": null,
            "overflow_y": null,
            "padding": null,
            "right": null,
            "top": null,
            "visibility": null,
            "width": null
          }
        },
        "c284b45de31c490ba66e91e6fd6b3019": {
          "model_module": "@jupyter-widgets/base",
          "model_name": "LayoutModel",
          "model_module_version": "1.2.0",
          "state": {
            "_model_module": "@jupyter-widgets/base",
            "_model_module_version": "1.2.0",
            "_model_name": "LayoutModel",
            "_view_count": null,
            "_view_module": "@jupyter-widgets/base",
            "_view_module_version": "1.2.0",
            "_view_name": "LayoutView",
            "align_content": null,
            "align_items": null,
            "align_self": null,
            "border": null,
            "bottom": null,
            "display": null,
            "flex": null,
            "flex_flow": null,
            "grid_area": null,
            "grid_auto_columns": null,
            "grid_auto_flow": null,
            "grid_auto_rows": null,
            "grid_column": null,
            "grid_gap": null,
            "grid_row": null,
            "grid_template_areas": null,
            "grid_template_columns": null,
            "grid_template_rows": null,
            "height": null,
            "justify_content": null,
            "justify_items": null,
            "left": null,
            "margin": null,
            "max_height": null,
            "max_width": null,
            "min_height": null,
            "min_width": null,
            "object_fit": null,
            "object_position": null,
            "order": null,
            "overflow": null,
            "overflow_x": null,
            "overflow_y": null,
            "padding": null,
            "right": null,
            "top": null,
            "visibility": null,
            "width": null
          }
        },
        "c5969cbd701846b49e1850a37c86adcb": {
          "model_module": "@jupyter-widgets/controls",
          "model_name": "DescriptionStyleModel",
          "model_module_version": "1.5.0",
          "state": {
            "_model_module": "@jupyter-widgets/controls",
            "_model_module_version": "1.5.0",
            "_model_name": "DescriptionStyleModel",
            "_view_count": null,
            "_view_module": "@jupyter-widgets/base",
            "_view_module_version": "1.2.0",
            "_view_name": "StyleView",
            "description_width": ""
          }
        },
        "163e5b0583fb41c0bb0304e9a604934b": {
          "model_module": "@jupyter-widgets/base",
          "model_name": "LayoutModel",
          "model_module_version": "1.2.0",
          "state": {
            "_model_module": "@jupyter-widgets/base",
            "_model_module_version": "1.2.0",
            "_model_name": "LayoutModel",
            "_view_count": null,
            "_view_module": "@jupyter-widgets/base",
            "_view_module_version": "1.2.0",
            "_view_name": "LayoutView",
            "align_content": null,
            "align_items": null,
            "align_self": null,
            "border": null,
            "bottom": null,
            "display": null,
            "flex": null,
            "flex_flow": null,
            "grid_area": null,
            "grid_auto_columns": null,
            "grid_auto_flow": null,
            "grid_auto_rows": null,
            "grid_column": null,
            "grid_gap": null,
            "grid_row": null,
            "grid_template_areas": null,
            "grid_template_columns": null,
            "grid_template_rows": null,
            "height": null,
            "justify_content": null,
            "justify_items": null,
            "left": null,
            "margin": null,
            "max_height": null,
            "max_width": null,
            "min_height": null,
            "min_width": null,
            "object_fit": null,
            "object_position": null,
            "order": null,
            "overflow": null,
            "overflow_x": null,
            "overflow_y": null,
            "padding": null,
            "right": null,
            "top": null,
            "visibility": null,
            "width": null
          }
        },
        "8dc22e0afc2744ce85df9e8fffd0b71e": {
          "model_module": "@jupyter-widgets/controls",
          "model_name": "ProgressStyleModel",
          "model_module_version": "1.5.0",
          "state": {
            "_model_module": "@jupyter-widgets/controls",
            "_model_module_version": "1.5.0",
            "_model_name": "ProgressStyleModel",
            "_view_count": null,
            "_view_module": "@jupyter-widgets/base",
            "_view_module_version": "1.2.0",
            "_view_name": "StyleView",
            "bar_color": null,
            "description_width": ""
          }
        },
        "31506d7df13140b190a0ca457838efa6": {
          "model_module": "@jupyter-widgets/base",
          "model_name": "LayoutModel",
          "model_module_version": "1.2.0",
          "state": {
            "_model_module": "@jupyter-widgets/base",
            "_model_module_version": "1.2.0",
            "_model_name": "LayoutModel",
            "_view_count": null,
            "_view_module": "@jupyter-widgets/base",
            "_view_module_version": "1.2.0",
            "_view_name": "LayoutView",
            "align_content": null,
            "align_items": null,
            "align_self": null,
            "border": null,
            "bottom": null,
            "display": null,
            "flex": null,
            "flex_flow": null,
            "grid_area": null,
            "grid_auto_columns": null,
            "grid_auto_flow": null,
            "grid_auto_rows": null,
            "grid_column": null,
            "grid_gap": null,
            "grid_row": null,
            "grid_template_areas": null,
            "grid_template_columns": null,
            "grid_template_rows": null,
            "height": null,
            "justify_content": null,
            "justify_items": null,
            "left": null,
            "margin": null,
            "max_height": null,
            "max_width": null,
            "min_height": null,
            "min_width": null,
            "object_fit": null,
            "object_position": null,
            "order": null,
            "overflow": null,
            "overflow_x": null,
            "overflow_y": null,
            "padding": null,
            "right": null,
            "top": null,
            "visibility": null,
            "width": null
          }
        },
        "646193fa362145e6b7d6f4498859b165": {
          "model_module": "@jupyter-widgets/controls",
          "model_name": "DescriptionStyleModel",
          "model_module_version": "1.5.0",
          "state": {
            "_model_module": "@jupyter-widgets/controls",
            "_model_module_version": "1.5.0",
            "_model_name": "DescriptionStyleModel",
            "_view_count": null,
            "_view_module": "@jupyter-widgets/base",
            "_view_module_version": "1.2.0",
            "_view_name": "StyleView",
            "description_width": ""
          }
        },
        "d3bcf758b4364fe08117720310561331": {
          "model_module": "@jupyter-widgets/controls",
          "model_name": "HBoxModel",
          "model_module_version": "1.5.0",
          "state": {
            "_dom_classes": [],
            "_model_module": "@jupyter-widgets/controls",
            "_model_module_version": "1.5.0",
            "_model_name": "HBoxModel",
            "_view_count": null,
            "_view_module": "@jupyter-widgets/controls",
            "_view_module_version": "1.5.0",
            "_view_name": "HBoxView",
            "box_style": "",
            "children": [
              "IPY_MODEL_f288591071bf4d79a8db92722e6855b0",
              "IPY_MODEL_06f3a9c736a948bfbcbf0496db1ceca7",
              "IPY_MODEL_cdfbff997bb74123b3f2d91d50eef61c"
            ],
            "layout": "IPY_MODEL_ac6dca107aed4852a0013aa14a203a74"
          }
        },
        "f288591071bf4d79a8db92722e6855b0": {
          "model_module": "@jupyter-widgets/controls",
          "model_name": "HTMLModel",
          "model_module_version": "1.5.0",
          "state": {
            "_dom_classes": [],
            "_model_module": "@jupyter-widgets/controls",
            "_model_module_version": "1.5.0",
            "_model_name": "HTMLModel",
            "_view_count": null,
            "_view_module": "@jupyter-widgets/controls",
            "_view_module_version": "1.5.0",
            "_view_name": "HTMLView",
            "description": "",
            "description_tooltip": null,
            "layout": "IPY_MODEL_41ef31b7f20243599797646424f1644a",
            "placeholder": "​",
            "style": "IPY_MODEL_1e4b5f5a36ba4137abc2996dd597b50b",
            "value": "Downloading (…)okenizer_config.json: 100%"
          }
        },
        "06f3a9c736a948bfbcbf0496db1ceca7": {
          "model_module": "@jupyter-widgets/controls",
          "model_name": "FloatProgressModel",
          "model_module_version": "1.5.0",
          "state": {
            "_dom_classes": [],
            "_model_module": "@jupyter-widgets/controls",
            "_model_module_version": "1.5.0",
            "_model_name": "FloatProgressModel",
            "_view_count": null,
            "_view_module": "@jupyter-widgets/controls",
            "_view_module_version": "1.5.0",
            "_view_name": "ProgressView",
            "bar_style": "success",
            "description": "",
            "description_tooltip": null,
            "layout": "IPY_MODEL_b3881b9e9f724d0f94d7e19063ce8528",
            "max": 28,
            "min": 0,
            "orientation": "horizontal",
            "style": "IPY_MODEL_d9fb00e01f594e5dbd46af7a28af943e",
            "value": 28
          }
        },
        "cdfbff997bb74123b3f2d91d50eef61c": {
          "model_module": "@jupyter-widgets/controls",
          "model_name": "HTMLModel",
          "model_module_version": "1.5.0",
          "state": {
            "_dom_classes": [],
            "_model_module": "@jupyter-widgets/controls",
            "_model_module_version": "1.5.0",
            "_model_name": "HTMLModel",
            "_view_count": null,
            "_view_module": "@jupyter-widgets/controls",
            "_view_module_version": "1.5.0",
            "_view_name": "HTMLView",
            "description": "",
            "description_tooltip": null,
            "layout": "IPY_MODEL_f67f9bf2617e46a480be7aaadb05a52e",
            "placeholder": "​",
            "style": "IPY_MODEL_8e627f0fbe104227a907abd019b9a030",
            "value": " 28.0/28.0 [00:00&lt;00:00, 2.29kB/s]"
          }
        },
        "ac6dca107aed4852a0013aa14a203a74": {
          "model_module": "@jupyter-widgets/base",
          "model_name": "LayoutModel",
          "model_module_version": "1.2.0",
          "state": {
            "_model_module": "@jupyter-widgets/base",
            "_model_module_version": "1.2.0",
            "_model_name": "LayoutModel",
            "_view_count": null,
            "_view_module": "@jupyter-widgets/base",
            "_view_module_version": "1.2.0",
            "_view_name": "LayoutView",
            "align_content": null,
            "align_items": null,
            "align_self": null,
            "border": null,
            "bottom": null,
            "display": null,
            "flex": null,
            "flex_flow": null,
            "grid_area": null,
            "grid_auto_columns": null,
            "grid_auto_flow": null,
            "grid_auto_rows": null,
            "grid_column": null,
            "grid_gap": null,
            "grid_row": null,
            "grid_template_areas": null,
            "grid_template_columns": null,
            "grid_template_rows": null,
            "height": null,
            "justify_content": null,
            "justify_items": null,
            "left": null,
            "margin": null,
            "max_height": null,
            "max_width": null,
            "min_height": null,
            "min_width": null,
            "object_fit": null,
            "object_position": null,
            "order": null,
            "overflow": null,
            "overflow_x": null,
            "overflow_y": null,
            "padding": null,
            "right": null,
            "top": null,
            "visibility": null,
            "width": null
          }
        },
        "41ef31b7f20243599797646424f1644a": {
          "model_module": "@jupyter-widgets/base",
          "model_name": "LayoutModel",
          "model_module_version": "1.2.0",
          "state": {
            "_model_module": "@jupyter-widgets/base",
            "_model_module_version": "1.2.0",
            "_model_name": "LayoutModel",
            "_view_count": null,
            "_view_module": "@jupyter-widgets/base",
            "_view_module_version": "1.2.0",
            "_view_name": "LayoutView",
            "align_content": null,
            "align_items": null,
            "align_self": null,
            "border": null,
            "bottom": null,
            "display": null,
            "flex": null,
            "flex_flow": null,
            "grid_area": null,
            "grid_auto_columns": null,
            "grid_auto_flow": null,
            "grid_auto_rows": null,
            "grid_column": null,
            "grid_gap": null,
            "grid_row": null,
            "grid_template_areas": null,
            "grid_template_columns": null,
            "grid_template_rows": null,
            "height": null,
            "justify_content": null,
            "justify_items": null,
            "left": null,
            "margin": null,
            "max_height": null,
            "max_width": null,
            "min_height": null,
            "min_width": null,
            "object_fit": null,
            "object_position": null,
            "order": null,
            "overflow": null,
            "overflow_x": null,
            "overflow_y": null,
            "padding": null,
            "right": null,
            "top": null,
            "visibility": null,
            "width": null
          }
        },
        "1e4b5f5a36ba4137abc2996dd597b50b": {
          "model_module": "@jupyter-widgets/controls",
          "model_name": "DescriptionStyleModel",
          "model_module_version": "1.5.0",
          "state": {
            "_model_module": "@jupyter-widgets/controls",
            "_model_module_version": "1.5.0",
            "_model_name": "DescriptionStyleModel",
            "_view_count": null,
            "_view_module": "@jupyter-widgets/base",
            "_view_module_version": "1.2.0",
            "_view_name": "StyleView",
            "description_width": ""
          }
        },
        "b3881b9e9f724d0f94d7e19063ce8528": {
          "model_module": "@jupyter-widgets/base",
          "model_name": "LayoutModel",
          "model_module_version": "1.2.0",
          "state": {
            "_model_module": "@jupyter-widgets/base",
            "_model_module_version": "1.2.0",
            "_model_name": "LayoutModel",
            "_view_count": null,
            "_view_module": "@jupyter-widgets/base",
            "_view_module_version": "1.2.0",
            "_view_name": "LayoutView",
            "align_content": null,
            "align_items": null,
            "align_self": null,
            "border": null,
            "bottom": null,
            "display": null,
            "flex": null,
            "flex_flow": null,
            "grid_area": null,
            "grid_auto_columns": null,
            "grid_auto_flow": null,
            "grid_auto_rows": null,
            "grid_column": null,
            "grid_gap": null,
            "grid_row": null,
            "grid_template_areas": null,
            "grid_template_columns": null,
            "grid_template_rows": null,
            "height": null,
            "justify_content": null,
            "justify_items": null,
            "left": null,
            "margin": null,
            "max_height": null,
            "max_width": null,
            "min_height": null,
            "min_width": null,
            "object_fit": null,
            "object_position": null,
            "order": null,
            "overflow": null,
            "overflow_x": null,
            "overflow_y": null,
            "padding": null,
            "right": null,
            "top": null,
            "visibility": null,
            "width": null
          }
        },
        "d9fb00e01f594e5dbd46af7a28af943e": {
          "model_module": "@jupyter-widgets/controls",
          "model_name": "ProgressStyleModel",
          "model_module_version": "1.5.0",
          "state": {
            "_model_module": "@jupyter-widgets/controls",
            "_model_module_version": "1.5.0",
            "_model_name": "ProgressStyleModel",
            "_view_count": null,
            "_view_module": "@jupyter-widgets/base",
            "_view_module_version": "1.2.0",
            "_view_name": "StyleView",
            "bar_color": null,
            "description_width": ""
          }
        },
        "f67f9bf2617e46a480be7aaadb05a52e": {
          "model_module": "@jupyter-widgets/base",
          "model_name": "LayoutModel",
          "model_module_version": "1.2.0",
          "state": {
            "_model_module": "@jupyter-widgets/base",
            "_model_module_version": "1.2.0",
            "_model_name": "LayoutModel",
            "_view_count": null,
            "_view_module": "@jupyter-widgets/base",
            "_view_module_version": "1.2.0",
            "_view_name": "LayoutView",
            "align_content": null,
            "align_items": null,
            "align_self": null,
            "border": null,
            "bottom": null,
            "display": null,
            "flex": null,
            "flex_flow": null,
            "grid_area": null,
            "grid_auto_columns": null,
            "grid_auto_flow": null,
            "grid_auto_rows": null,
            "grid_column": null,
            "grid_gap": null,
            "grid_row": null,
            "grid_template_areas": null,
            "grid_template_columns": null,
            "grid_template_rows": null,
            "height": null,
            "justify_content": null,
            "justify_items": null,
            "left": null,
            "margin": null,
            "max_height": null,
            "max_width": null,
            "min_height": null,
            "min_width": null,
            "object_fit": null,
            "object_position": null,
            "order": null,
            "overflow": null,
            "overflow_x": null,
            "overflow_y": null,
            "padding": null,
            "right": null,
            "top": null,
            "visibility": null,
            "width": null
          }
        },
        "8e627f0fbe104227a907abd019b9a030": {
          "model_module": "@jupyter-widgets/controls",
          "model_name": "DescriptionStyleModel",
          "model_module_version": "1.5.0",
          "state": {
            "_model_module": "@jupyter-widgets/controls",
            "_model_module_version": "1.5.0",
            "_model_name": "DescriptionStyleModel",
            "_view_count": null,
            "_view_module": "@jupyter-widgets/base",
            "_view_module_version": "1.2.0",
            "_view_name": "StyleView",
            "description_width": ""
          }
        },
        "8a773316736e401eafc7d1460a6e312a": {
          "model_module": "@jupyter-widgets/controls",
          "model_name": "HBoxModel",
          "model_module_version": "1.5.0",
          "state": {
            "_dom_classes": [],
            "_model_module": "@jupyter-widgets/controls",
            "_model_module_version": "1.5.0",
            "_model_name": "HBoxModel",
            "_view_count": null,
            "_view_module": "@jupyter-widgets/controls",
            "_view_module_version": "1.5.0",
            "_view_name": "HBoxView",
            "box_style": "",
            "children": [
              "IPY_MODEL_44e539fbce36415aa5de68f08aa0f142",
              "IPY_MODEL_01b7bbd30a8c45a68542478d1c8b297d",
              "IPY_MODEL_451da110dc264e5d8646f45bab4f6bd1"
            ],
            "layout": "IPY_MODEL_623129230b474cf98d1f1e4e9361962a"
          }
        },
        "44e539fbce36415aa5de68f08aa0f142": {
          "model_module": "@jupyter-widgets/controls",
          "model_name": "HTMLModel",
          "model_module_version": "1.5.0",
          "state": {
            "_dom_classes": [],
            "_model_module": "@jupyter-widgets/controls",
            "_model_module_version": "1.5.0",
            "_model_name": "HTMLModel",
            "_view_count": null,
            "_view_module": "@jupyter-widgets/controls",
            "_view_module_version": "1.5.0",
            "_view_name": "HTMLView",
            "description": "",
            "description_tooltip": null,
            "layout": "IPY_MODEL_9d5bce3ab63941a88a6824c69f46897d",
            "placeholder": "​",
            "style": "IPY_MODEL_e9fcbc89fc78486380b2c31ba164dec2",
            "value": "Downloading (…)lve/main/config.json: 100%"
          }
        },
        "01b7bbd30a8c45a68542478d1c8b297d": {
          "model_module": "@jupyter-widgets/controls",
          "model_name": "FloatProgressModel",
          "model_module_version": "1.5.0",
          "state": {
            "_dom_classes": [],
            "_model_module": "@jupyter-widgets/controls",
            "_model_module_version": "1.5.0",
            "_model_name": "FloatProgressModel",
            "_view_count": null,
            "_view_module": "@jupyter-widgets/controls",
            "_view_module_version": "1.5.0",
            "_view_name": "ProgressView",
            "bar_style": "success",
            "description": "",
            "description_tooltip": null,
            "layout": "IPY_MODEL_53e6a1d361a847fdae448c749db3202a",
            "max": 570,
            "min": 0,
            "orientation": "horizontal",
            "style": "IPY_MODEL_a482d054afc9417cb098561130d76fc6",
            "value": 570
          }
        },
        "451da110dc264e5d8646f45bab4f6bd1": {
          "model_module": "@jupyter-widgets/controls",
          "model_name": "HTMLModel",
          "model_module_version": "1.5.0",
          "state": {
            "_dom_classes": [],
            "_model_module": "@jupyter-widgets/controls",
            "_model_module_version": "1.5.0",
            "_model_name": "HTMLModel",
            "_view_count": null,
            "_view_module": "@jupyter-widgets/controls",
            "_view_module_version": "1.5.0",
            "_view_name": "HTMLView",
            "description": "",
            "description_tooltip": null,
            "layout": "IPY_MODEL_389aea05dfe54c3e819e356ac7cf43e5",
            "placeholder": "​",
            "style": "IPY_MODEL_2a4707e101f242fe89d00ea51ad6fafd",
            "value": " 570/570 [00:00&lt;00:00, 37.4kB/s]"
          }
        },
        "623129230b474cf98d1f1e4e9361962a": {
          "model_module": "@jupyter-widgets/base",
          "model_name": "LayoutModel",
          "model_module_version": "1.2.0",
          "state": {
            "_model_module": "@jupyter-widgets/base",
            "_model_module_version": "1.2.0",
            "_model_name": "LayoutModel",
            "_view_count": null,
            "_view_module": "@jupyter-widgets/base",
            "_view_module_version": "1.2.0",
            "_view_name": "LayoutView",
            "align_content": null,
            "align_items": null,
            "align_self": null,
            "border": null,
            "bottom": null,
            "display": null,
            "flex": null,
            "flex_flow": null,
            "grid_area": null,
            "grid_auto_columns": null,
            "grid_auto_flow": null,
            "grid_auto_rows": null,
            "grid_column": null,
            "grid_gap": null,
            "grid_row": null,
            "grid_template_areas": null,
            "grid_template_columns": null,
            "grid_template_rows": null,
            "height": null,
            "justify_content": null,
            "justify_items": null,
            "left": null,
            "margin": null,
            "max_height": null,
            "max_width": null,
            "min_height": null,
            "min_width": null,
            "object_fit": null,
            "object_position": null,
            "order": null,
            "overflow": null,
            "overflow_x": null,
            "overflow_y": null,
            "padding": null,
            "right": null,
            "top": null,
            "visibility": null,
            "width": null
          }
        },
        "9d5bce3ab63941a88a6824c69f46897d": {
          "model_module": "@jupyter-widgets/base",
          "model_name": "LayoutModel",
          "model_module_version": "1.2.0",
          "state": {
            "_model_module": "@jupyter-widgets/base",
            "_model_module_version": "1.2.0",
            "_model_name": "LayoutModel",
            "_view_count": null,
            "_view_module": "@jupyter-widgets/base",
            "_view_module_version": "1.2.0",
            "_view_name": "LayoutView",
            "align_content": null,
            "align_items": null,
            "align_self": null,
            "border": null,
            "bottom": null,
            "display": null,
            "flex": null,
            "flex_flow": null,
            "grid_area": null,
            "grid_auto_columns": null,
            "grid_auto_flow": null,
            "grid_auto_rows": null,
            "grid_column": null,
            "grid_gap": null,
            "grid_row": null,
            "grid_template_areas": null,
            "grid_template_columns": null,
            "grid_template_rows": null,
            "height": null,
            "justify_content": null,
            "justify_items": null,
            "left": null,
            "margin": null,
            "max_height": null,
            "max_width": null,
            "min_height": null,
            "min_width": null,
            "object_fit": null,
            "object_position": null,
            "order": null,
            "overflow": null,
            "overflow_x": null,
            "overflow_y": null,
            "padding": null,
            "right": null,
            "top": null,
            "visibility": null,
            "width": null
          }
        },
        "e9fcbc89fc78486380b2c31ba164dec2": {
          "model_module": "@jupyter-widgets/controls",
          "model_name": "DescriptionStyleModel",
          "model_module_version": "1.5.0",
          "state": {
            "_model_module": "@jupyter-widgets/controls",
            "_model_module_version": "1.5.0",
            "_model_name": "DescriptionStyleModel",
            "_view_count": null,
            "_view_module": "@jupyter-widgets/base",
            "_view_module_version": "1.2.0",
            "_view_name": "StyleView",
            "description_width": ""
          }
        },
        "53e6a1d361a847fdae448c749db3202a": {
          "model_module": "@jupyter-widgets/base",
          "model_name": "LayoutModel",
          "model_module_version": "1.2.0",
          "state": {
            "_model_module": "@jupyter-widgets/base",
            "_model_module_version": "1.2.0",
            "_model_name": "LayoutModel",
            "_view_count": null,
            "_view_module": "@jupyter-widgets/base",
            "_view_module_version": "1.2.0",
            "_view_name": "LayoutView",
            "align_content": null,
            "align_items": null,
            "align_self": null,
            "border": null,
            "bottom": null,
            "display": null,
            "flex": null,
            "flex_flow": null,
            "grid_area": null,
            "grid_auto_columns": null,
            "grid_auto_flow": null,
            "grid_auto_rows": null,
            "grid_column": null,
            "grid_gap": null,
            "grid_row": null,
            "grid_template_areas": null,
            "grid_template_columns": null,
            "grid_template_rows": null,
            "height": null,
            "justify_content": null,
            "justify_items": null,
            "left": null,
            "margin": null,
            "max_height": null,
            "max_width": null,
            "min_height": null,
            "min_width": null,
            "object_fit": null,
            "object_position": null,
            "order": null,
            "overflow": null,
            "overflow_x": null,
            "overflow_y": null,
            "padding": null,
            "right": null,
            "top": null,
            "visibility": null,
            "width": null
          }
        },
        "a482d054afc9417cb098561130d76fc6": {
          "model_module": "@jupyter-widgets/controls",
          "model_name": "ProgressStyleModel",
          "model_module_version": "1.5.0",
          "state": {
            "_model_module": "@jupyter-widgets/controls",
            "_model_module_version": "1.5.0",
            "_model_name": "ProgressStyleModel",
            "_view_count": null,
            "_view_module": "@jupyter-widgets/base",
            "_view_module_version": "1.2.0",
            "_view_name": "StyleView",
            "bar_color": null,
            "description_width": ""
          }
        },
        "389aea05dfe54c3e819e356ac7cf43e5": {
          "model_module": "@jupyter-widgets/base",
          "model_name": "LayoutModel",
          "model_module_version": "1.2.0",
          "state": {
            "_model_module": "@jupyter-widgets/base",
            "_model_module_version": "1.2.0",
            "_model_name": "LayoutModel",
            "_view_count": null,
            "_view_module": "@jupyter-widgets/base",
            "_view_module_version": "1.2.0",
            "_view_name": "LayoutView",
            "align_content": null,
            "align_items": null,
            "align_self": null,
            "border": null,
            "bottom": null,
            "display": null,
            "flex": null,
            "flex_flow": null,
            "grid_area": null,
            "grid_auto_columns": null,
            "grid_auto_flow": null,
            "grid_auto_rows": null,
            "grid_column": null,
            "grid_gap": null,
            "grid_row": null,
            "grid_template_areas": null,
            "grid_template_columns": null,
            "grid_template_rows": null,
            "height": null,
            "justify_content": null,
            "justify_items": null,
            "left": null,
            "margin": null,
            "max_height": null,
            "max_width": null,
            "min_height": null,
            "min_width": null,
            "object_fit": null,
            "object_position": null,
            "order": null,
            "overflow": null,
            "overflow_x": null,
            "overflow_y": null,
            "padding": null,
            "right": null,
            "top": null,
            "visibility": null,
            "width": null
          }
        },
        "2a4707e101f242fe89d00ea51ad6fafd": {
          "model_module": "@jupyter-widgets/controls",
          "model_name": "DescriptionStyleModel",
          "model_module_version": "1.5.0",
          "state": {
            "_model_module": "@jupyter-widgets/controls",
            "_model_module_version": "1.5.0",
            "_model_name": "DescriptionStyleModel",
            "_view_count": null,
            "_view_module": "@jupyter-widgets/base",
            "_view_module_version": "1.2.0",
            "_view_name": "StyleView",
            "description_width": ""
          }
        },
        "18324d31dbe8439b9dea595fc9124404": {
          "model_module": "@jupyter-widgets/controls",
          "model_name": "HBoxModel",
          "model_module_version": "1.5.0",
          "state": {
            "_dom_classes": [],
            "_model_module": "@jupyter-widgets/controls",
            "_model_module_version": "1.5.0",
            "_model_name": "HBoxModel",
            "_view_count": null,
            "_view_module": "@jupyter-widgets/controls",
            "_view_module_version": "1.5.0",
            "_view_name": "HBoxView",
            "box_style": "",
            "children": [
              "IPY_MODEL_66557bbf55b9430c8693848d7ac12933",
              "IPY_MODEL_16660a0c59654dddbe76d31f1218c082",
              "IPY_MODEL_be5767a686494ef8bcf89ac9ae8ecebc"
            ],
            "layout": "IPY_MODEL_40a5ce6e06374618870bf2ee779d2954"
          }
        },
        "66557bbf55b9430c8693848d7ac12933": {
          "model_module": "@jupyter-widgets/controls",
          "model_name": "HTMLModel",
          "model_module_version": "1.5.0",
          "state": {
            "_dom_classes": [],
            "_model_module": "@jupyter-widgets/controls",
            "_model_module_version": "1.5.0",
            "_model_name": "HTMLModel",
            "_view_count": null,
            "_view_module": "@jupyter-widgets/controls",
            "_view_module_version": "1.5.0",
            "_view_name": "HTMLView",
            "description": "",
            "description_tooltip": null,
            "layout": "IPY_MODEL_8ed51f00cd384b23b1b2c4bf45187a12",
            "placeholder": "​",
            "style": "IPY_MODEL_5ed896af5a9d4e078d7f6fc1c939cb06",
            "value": "Downloading model.safetensors: 100%"
          }
        },
        "16660a0c59654dddbe76d31f1218c082": {
          "model_module": "@jupyter-widgets/controls",
          "model_name": "FloatProgressModel",
          "model_module_version": "1.5.0",
          "state": {
            "_dom_classes": [],
            "_model_module": "@jupyter-widgets/controls",
            "_model_module_version": "1.5.0",
            "_model_name": "FloatProgressModel",
            "_view_count": null,
            "_view_module": "@jupyter-widgets/controls",
            "_view_module_version": "1.5.0",
            "_view_name": "ProgressView",
            "bar_style": "success",
            "description": "",
            "description_tooltip": null,
            "layout": "IPY_MODEL_c5f43532e86f4c8e95c51ca516cf7954",
            "max": 440449768,
            "min": 0,
            "orientation": "horizontal",
            "style": "IPY_MODEL_c885b6393259488ab36ac9f7af1fecc4",
            "value": 440449768
          }
        },
        "be5767a686494ef8bcf89ac9ae8ecebc": {
          "model_module": "@jupyter-widgets/controls",
          "model_name": "HTMLModel",
          "model_module_version": "1.5.0",
          "state": {
            "_dom_classes": [],
            "_model_module": "@jupyter-widgets/controls",
            "_model_module_version": "1.5.0",
            "_model_name": "HTMLModel",
            "_view_count": null,
            "_view_module": "@jupyter-widgets/controls",
            "_view_module_version": "1.5.0",
            "_view_name": "HTMLView",
            "description": "",
            "description_tooltip": null,
            "layout": "IPY_MODEL_166cfefb37cc494cb003213976bf1e10",
            "placeholder": "​",
            "style": "IPY_MODEL_f3799b4fec8143c7b48659d91d6aea54",
            "value": " 440M/440M [00:00&lt;00:00, 517MB/s]"
          }
        },
        "40a5ce6e06374618870bf2ee779d2954": {
          "model_module": "@jupyter-widgets/base",
          "model_name": "LayoutModel",
          "model_module_version": "1.2.0",
          "state": {
            "_model_module": "@jupyter-widgets/base",
            "_model_module_version": "1.2.0",
            "_model_name": "LayoutModel",
            "_view_count": null,
            "_view_module": "@jupyter-widgets/base",
            "_view_module_version": "1.2.0",
            "_view_name": "LayoutView",
            "align_content": null,
            "align_items": null,
            "align_self": null,
            "border": null,
            "bottom": null,
            "display": null,
            "flex": null,
            "flex_flow": null,
            "grid_area": null,
            "grid_auto_columns": null,
            "grid_auto_flow": null,
            "grid_auto_rows": null,
            "grid_column": null,
            "grid_gap": null,
            "grid_row": null,
            "grid_template_areas": null,
            "grid_template_columns": null,
            "grid_template_rows": null,
            "height": null,
            "justify_content": null,
            "justify_items": null,
            "left": null,
            "margin": null,
            "max_height": null,
            "max_width": null,
            "min_height": null,
            "min_width": null,
            "object_fit": null,
            "object_position": null,
            "order": null,
            "overflow": null,
            "overflow_x": null,
            "overflow_y": null,
            "padding": null,
            "right": null,
            "top": null,
            "visibility": null,
            "width": null
          }
        },
        "8ed51f00cd384b23b1b2c4bf45187a12": {
          "model_module": "@jupyter-widgets/base",
          "model_name": "LayoutModel",
          "model_module_version": "1.2.0",
          "state": {
            "_model_module": "@jupyter-widgets/base",
            "_model_module_version": "1.2.0",
            "_model_name": "LayoutModel",
            "_view_count": null,
            "_view_module": "@jupyter-widgets/base",
            "_view_module_version": "1.2.0",
            "_view_name": "LayoutView",
            "align_content": null,
            "align_items": null,
            "align_self": null,
            "border": null,
            "bottom": null,
            "display": null,
            "flex": null,
            "flex_flow": null,
            "grid_area": null,
            "grid_auto_columns": null,
            "grid_auto_flow": null,
            "grid_auto_rows": null,
            "grid_column": null,
            "grid_gap": null,
            "grid_row": null,
            "grid_template_areas": null,
            "grid_template_columns": null,
            "grid_template_rows": null,
            "height": null,
            "justify_content": null,
            "justify_items": null,
            "left": null,
            "margin": null,
            "max_height": null,
            "max_width": null,
            "min_height": null,
            "min_width": null,
            "object_fit": null,
            "object_position": null,
            "order": null,
            "overflow": null,
            "overflow_x": null,
            "overflow_y": null,
            "padding": null,
            "right": null,
            "top": null,
            "visibility": null,
            "width": null
          }
        },
        "5ed896af5a9d4e078d7f6fc1c939cb06": {
          "model_module": "@jupyter-widgets/controls",
          "model_name": "DescriptionStyleModel",
          "model_module_version": "1.5.0",
          "state": {
            "_model_module": "@jupyter-widgets/controls",
            "_model_module_version": "1.5.0",
            "_model_name": "DescriptionStyleModel",
            "_view_count": null,
            "_view_module": "@jupyter-widgets/base",
            "_view_module_version": "1.2.0",
            "_view_name": "StyleView",
            "description_width": ""
          }
        },
        "c5f43532e86f4c8e95c51ca516cf7954": {
          "model_module": "@jupyter-widgets/base",
          "model_name": "LayoutModel",
          "model_module_version": "1.2.0",
          "state": {
            "_model_module": "@jupyter-widgets/base",
            "_model_module_version": "1.2.0",
            "_model_name": "LayoutModel",
            "_view_count": null,
            "_view_module": "@jupyter-widgets/base",
            "_view_module_version": "1.2.0",
            "_view_name": "LayoutView",
            "align_content": null,
            "align_items": null,
            "align_self": null,
            "border": null,
            "bottom": null,
            "display": null,
            "flex": null,
            "flex_flow": null,
            "grid_area": null,
            "grid_auto_columns": null,
            "grid_auto_flow": null,
            "grid_auto_rows": null,
            "grid_column": null,
            "grid_gap": null,
            "grid_row": null,
            "grid_template_areas": null,
            "grid_template_columns": null,
            "grid_template_rows": null,
            "height": null,
            "justify_content": null,
            "justify_items": null,
            "left": null,
            "margin": null,
            "max_height": null,
            "max_width": null,
            "min_height": null,
            "min_width": null,
            "object_fit": null,
            "object_position": null,
            "order": null,
            "overflow": null,
            "overflow_x": null,
            "overflow_y": null,
            "padding": null,
            "right": null,
            "top": null,
            "visibility": null,
            "width": null
          }
        },
        "c885b6393259488ab36ac9f7af1fecc4": {
          "model_module": "@jupyter-widgets/controls",
          "model_name": "ProgressStyleModel",
          "model_module_version": "1.5.0",
          "state": {
            "_model_module": "@jupyter-widgets/controls",
            "_model_module_version": "1.5.0",
            "_model_name": "ProgressStyleModel",
            "_view_count": null,
            "_view_module": "@jupyter-widgets/base",
            "_view_module_version": "1.2.0",
            "_view_name": "StyleView",
            "bar_color": null,
            "description_width": ""
          }
        },
        "166cfefb37cc494cb003213976bf1e10": {
          "model_module": "@jupyter-widgets/base",
          "model_name": "LayoutModel",
          "model_module_version": "1.2.0",
          "state": {
            "_model_module": "@jupyter-widgets/base",
            "_model_module_version": "1.2.0",
            "_model_name": "LayoutModel",
            "_view_count": null,
            "_view_module": "@jupyter-widgets/base",
            "_view_module_version": "1.2.0",
            "_view_name": "LayoutView",
            "align_content": null,
            "align_items": null,
            "align_self": null,
            "border": null,
            "bottom": null,
            "display": null,
            "flex": null,
            "flex_flow": null,
            "grid_area": null,
            "grid_auto_columns": null,
            "grid_auto_flow": null,
            "grid_auto_rows": null,
            "grid_column": null,
            "grid_gap": null,
            "grid_row": null,
            "grid_template_areas": null,
            "grid_template_columns": null,
            "grid_template_rows": null,
            "height": null,
            "justify_content": null,
            "justify_items": null,
            "left": null,
            "margin": null,
            "max_height": null,
            "max_width": null,
            "min_height": null,
            "min_width": null,
            "object_fit": null,
            "object_position": null,
            "order": null,
            "overflow": null,
            "overflow_x": null,
            "overflow_y": null,
            "padding": null,
            "right": null,
            "top": null,
            "visibility": null,
            "width": null
          }
        },
        "f3799b4fec8143c7b48659d91d6aea54": {
          "model_module": "@jupyter-widgets/controls",
          "model_name": "DescriptionStyleModel",
          "model_module_version": "1.5.0",
          "state": {
            "_model_module": "@jupyter-widgets/controls",
            "_model_module_version": "1.5.0",
            "_model_name": "DescriptionStyleModel",
            "_view_count": null,
            "_view_module": "@jupyter-widgets/base",
            "_view_module_version": "1.2.0",
            "_view_name": "StyleView",
            "description_width": ""
          }
        }
      }
    }
  },
  "nbformat": 4,
  "nbformat_minor": 5
}