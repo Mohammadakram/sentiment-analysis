{
  "cells": [
    {
      "cell_type": "code",
      "execution_count": null,
      "metadata": {
        "id": "6pTNOOd0yNU9"
      },
      "outputs": [],
      "source": [
        "#installing while silencing the outputs\n",
        "\n",
        "pip install transformers > NUL 2>&1"
      ],
      "id": "6pTNOOd0yNU9"
    },
    {
      "cell_type": "code",
      "execution_count": null,
      "metadata": {
        "id": "2c9d64ac"
      },
      "outputs": [],
      "source": [
        "#importing all the essential libraries\n",
        "import pandas as pd\n",
        "from sklearn.model_selection import train_test_split\n",
        "from google.colab import drive\n",
        "import matplotlib.pyplot as plt\n",
        "import re #for data pre-processing\n",
        "import unicodedata #library for data pre-processing\n",
        "from transformers import BertTokenizer, BertForSequenceClassification, BertConfig, BertModel\n",
        "import torch\n",
        "import torch.nn as nn\n",
        "import torch.optim as optim\n",
        "import torch.optim.lr_scheduler as lr_scheduler\n",
        "from torch.utils.data import DataLoader, TensorDataset\n",
        "from sklearn.metrics import accuracy_score, classification_report, confusion_matrix"
      ],
      "id": "2c9d64ac"
    },
    {
      "cell_type": "code",
      "execution_count": null,
      "metadata": {
        "colab": {
          "base_uri": "https://localhost:8080/"
        },
        "id": "S8wckJC6jhOZ",
        "outputId": "45a2201f-231d-43e5-fa47-73af4121f770"
      },
      "outputs": [
        {
          "output_type": "stream",
          "name": "stdout",
          "text": [
            "Mounted at /content/drive\n"
          ]
        }
      ],
      "source": [
        "#mounting drive to collab\n",
        "drive.mount('/content/drive')"
      ],
      "id": "S8wckJC6jhOZ"
    },
    {
      "cell_type": "code",
      "execution_count": null,
      "metadata": {
        "id": "HXCbexQYjff8"
      },
      "outputs": [],
      "source": [
        "#Reading file from drive\n",
        "df = pd.read_csv('/content/drive/MyDrive/Colab Notebooks/IMDB_Dataset.csv')"
      ],
      "id": "HXCbexQYjff8"
    },
    {
      "cell_type": "code",
      "execution_count": null,
      "metadata": {
        "colab": {
          "base_uri": "https://localhost:8080/",
          "height": 206
        },
        "id": "9a90d8c5",
        "outputId": "037c60e2-26e6-42a5-fbb3-aa0839e2c2dd"
      },
      "outputs": [
        {
          "output_type": "execute_result",
          "data": {
            "text/plain": [
              "                                              review sentiment\n",
              "0  One of the other reviewers has mentioned that ...  positive\n",
              "1  A wonderful little production. <br /><br />The...  positive\n",
              "2  I thought this was a wonderful way to spend ti...  positive\n",
              "3  Basically there's a family where a little boy ...  negative\n",
              "4  Petter Mattei's \"Love in the Time of Money\" is...  positive"
            ],
            "text/html": [
              "\n",
              "  <div id=\"df-0e4e007f-9d6d-47aa-99ad-94eda2deee1b\" class=\"colab-df-container\">\n",
              "    <div>\n",
              "<style scoped>\n",
              "    .dataframe tbody tr th:only-of-type {\n",
              "        vertical-align: middle;\n",
              "    }\n",
              "\n",
              "    .dataframe tbody tr th {\n",
              "        vertical-align: top;\n",
              "    }\n",
              "\n",
              "    .dataframe thead th {\n",
              "        text-align: right;\n",
              "    }\n",
              "</style>\n",
              "<table border=\"1\" class=\"dataframe\">\n",
              "  <thead>\n",
              "    <tr style=\"text-align: right;\">\n",
              "      <th></th>\n",
              "      <th>review</th>\n",
              "      <th>sentiment</th>\n",
              "    </tr>\n",
              "  </thead>\n",
              "  <tbody>\n",
              "    <tr>\n",
              "      <th>0</th>\n",
              "      <td>One of the other reviewers has mentioned that ...</td>\n",
              "      <td>positive</td>\n",
              "    </tr>\n",
              "    <tr>\n",
              "      <th>1</th>\n",
              "      <td>A wonderful little production. &lt;br /&gt;&lt;br /&gt;The...</td>\n",
              "      <td>positive</td>\n",
              "    </tr>\n",
              "    <tr>\n",
              "      <th>2</th>\n",
              "      <td>I thought this was a wonderful way to spend ti...</td>\n",
              "      <td>positive</td>\n",
              "    </tr>\n",
              "    <tr>\n",
              "      <th>3</th>\n",
              "      <td>Basically there's a family where a little boy ...</td>\n",
              "      <td>negative</td>\n",
              "    </tr>\n",
              "    <tr>\n",
              "      <th>4</th>\n",
              "      <td>Petter Mattei's \"Love in the Time of Money\" is...</td>\n",
              "      <td>positive</td>\n",
              "    </tr>\n",
              "  </tbody>\n",
              "</table>\n",
              "</div>\n",
              "    <div class=\"colab-df-buttons\">\n",
              "\n",
              "  <div class=\"colab-df-container\">\n",
              "    <button class=\"colab-df-convert\" onclick=\"convertToInteractive('df-0e4e007f-9d6d-47aa-99ad-94eda2deee1b')\"\n",
              "            title=\"Convert this dataframe to an interactive table.\"\n",
              "            style=\"display:none;\">\n",
              "\n",
              "  <svg xmlns=\"http://www.w3.org/2000/svg\" height=\"24px\" viewBox=\"0 -960 960 960\">\n",
              "    <path d=\"M120-120v-720h720v720H120Zm60-500h600v-160H180v160Zm220 220h160v-160H400v160Zm0 220h160v-160H400v160ZM180-400h160v-160H180v160Zm440 0h160v-160H620v160ZM180-180h160v-160H180v160Zm440 0h160v-160H620v160Z\"/>\n",
              "  </svg>\n",
              "    </button>\n",
              "\n",
              "  <style>\n",
              "    .colab-df-container {\n",
              "      display:flex;\n",
              "      gap: 12px;\n",
              "    }\n",
              "\n",
              "    .colab-df-convert {\n",
              "      background-color: #E8F0FE;\n",
              "      border: none;\n",
              "      border-radius: 50%;\n",
              "      cursor: pointer;\n",
              "      display: none;\n",
              "      fill: #1967D2;\n",
              "      height: 32px;\n",
              "      padding: 0 0 0 0;\n",
              "      width: 32px;\n",
              "    }\n",
              "\n",
              "    .colab-df-convert:hover {\n",
              "      background-color: #E2EBFA;\n",
              "      box-shadow: 0px 1px 2px rgba(60, 64, 67, 0.3), 0px 1px 3px 1px rgba(60, 64, 67, 0.15);\n",
              "      fill: #174EA6;\n",
              "    }\n",
              "\n",
              "    .colab-df-buttons div {\n",
              "      margin-bottom: 4px;\n",
              "    }\n",
              "\n",
              "    [theme=dark] .colab-df-convert {\n",
              "      background-color: #3B4455;\n",
              "      fill: #D2E3FC;\n",
              "    }\n",
              "\n",
              "    [theme=dark] .colab-df-convert:hover {\n",
              "      background-color: #434B5C;\n",
              "      box-shadow: 0px 1px 3px 1px rgba(0, 0, 0, 0.15);\n",
              "      filter: drop-shadow(0px 1px 2px rgba(0, 0, 0, 0.3));\n",
              "      fill: #FFFFFF;\n",
              "    }\n",
              "  </style>\n",
              "\n",
              "    <script>\n",
              "      const buttonEl =\n",
              "        document.querySelector('#df-0e4e007f-9d6d-47aa-99ad-94eda2deee1b button.colab-df-convert');\n",
              "      buttonEl.style.display =\n",
              "        google.colab.kernel.accessAllowed ? 'block' : 'none';\n",
              "\n",
              "      async function convertToInteractive(key) {\n",
              "        const element = document.querySelector('#df-0e4e007f-9d6d-47aa-99ad-94eda2deee1b');\n",
              "        const dataTable =\n",
              "          await google.colab.kernel.invokeFunction('convertToInteractive',\n",
              "                                                    [key], {});\n",
              "        if (!dataTable) return;\n",
              "\n",
              "        const docLinkHtml = 'Like what you see? Visit the ' +\n",
              "          '<a target=\"_blank\" href=https://colab.research.google.com/notebooks/data_table.ipynb>data table notebook</a>'\n",
              "          + ' to learn more about interactive tables.';\n",
              "        element.innerHTML = '';\n",
              "        dataTable['output_type'] = 'display_data';\n",
              "        await google.colab.output.renderOutput(dataTable, element);\n",
              "        const docLink = document.createElement('div');\n",
              "        docLink.innerHTML = docLinkHtml;\n",
              "        element.appendChild(docLink);\n",
              "      }\n",
              "    </script>\n",
              "  </div>\n",
              "\n",
              "\n",
              "<div id=\"df-06e0a491-228d-4ca0-a66b-1431bf59e218\">\n",
              "  <button class=\"colab-df-quickchart\" onclick=\"quickchart('df-06e0a491-228d-4ca0-a66b-1431bf59e218')\"\n",
              "            title=\"Suggest charts.\"\n",
              "            style=\"display:none;\">\n",
              "\n",
              "<svg xmlns=\"http://www.w3.org/2000/svg\" height=\"24px\"viewBox=\"0 0 24 24\"\n",
              "     width=\"24px\">\n",
              "    <g>\n",
              "        <path d=\"M19 3H5c-1.1 0-2 .9-2 2v14c0 1.1.9 2 2 2h14c1.1 0 2-.9 2-2V5c0-1.1-.9-2-2-2zM9 17H7v-7h2v7zm4 0h-2V7h2v10zm4 0h-2v-4h2v4z\"/>\n",
              "    </g>\n",
              "</svg>\n",
              "  </button>\n",
              "\n",
              "<style>\n",
              "  .colab-df-quickchart {\n",
              "      --bg-color: #E8F0FE;\n",
              "      --fill-color: #1967D2;\n",
              "      --hover-bg-color: #E2EBFA;\n",
              "      --hover-fill-color: #174EA6;\n",
              "      --disabled-fill-color: #AAA;\n",
              "      --disabled-bg-color: #DDD;\n",
              "  }\n",
              "\n",
              "  [theme=dark] .colab-df-quickchart {\n",
              "      --bg-color: #3B4455;\n",
              "      --fill-color: #D2E3FC;\n",
              "      --hover-bg-color: #434B5C;\n",
              "      --hover-fill-color: #FFFFFF;\n",
              "      --disabled-bg-color: #3B4455;\n",
              "      --disabled-fill-color: #666;\n",
              "  }\n",
              "\n",
              "  .colab-df-quickchart {\n",
              "    background-color: var(--bg-color);\n",
              "    border: none;\n",
              "    border-radius: 50%;\n",
              "    cursor: pointer;\n",
              "    display: none;\n",
              "    fill: var(--fill-color);\n",
              "    height: 32px;\n",
              "    padding: 0;\n",
              "    width: 32px;\n",
              "  }\n",
              "\n",
              "  .colab-df-quickchart:hover {\n",
              "    background-color: var(--hover-bg-color);\n",
              "    box-shadow: 0 1px 2px rgba(60, 64, 67, 0.3), 0 1px 3px 1px rgba(60, 64, 67, 0.15);\n",
              "    fill: var(--button-hover-fill-color);\n",
              "  }\n",
              "\n",
              "  .colab-df-quickchart-complete:disabled,\n",
              "  .colab-df-quickchart-complete:disabled:hover {\n",
              "    background-color: var(--disabled-bg-color);\n",
              "    fill: var(--disabled-fill-color);\n",
              "    box-shadow: none;\n",
              "  }\n",
              "\n",
              "  .colab-df-spinner {\n",
              "    border: 2px solid var(--fill-color);\n",
              "    border-color: transparent;\n",
              "    border-bottom-color: var(--fill-color);\n",
              "    animation:\n",
              "      spin 1s steps(1) infinite;\n",
              "  }\n",
              "\n",
              "  @keyframes spin {\n",
              "    0% {\n",
              "      border-color: transparent;\n",
              "      border-bottom-color: var(--fill-color);\n",
              "      border-left-color: var(--fill-color);\n",
              "    }\n",
              "    20% {\n",
              "      border-color: transparent;\n",
              "      border-left-color: var(--fill-color);\n",
              "      border-top-color: var(--fill-color);\n",
              "    }\n",
              "    30% {\n",
              "      border-color: transparent;\n",
              "      border-left-color: var(--fill-color);\n",
              "      border-top-color: var(--fill-color);\n",
              "      border-right-color: var(--fill-color);\n",
              "    }\n",
              "    40% {\n",
              "      border-color: transparent;\n",
              "      border-right-color: var(--fill-color);\n",
              "      border-top-color: var(--fill-color);\n",
              "    }\n",
              "    60% {\n",
              "      border-color: transparent;\n",
              "      border-right-color: var(--fill-color);\n",
              "    }\n",
              "    80% {\n",
              "      border-color: transparent;\n",
              "      border-right-color: var(--fill-color);\n",
              "      border-bottom-color: var(--fill-color);\n",
              "    }\n",
              "    90% {\n",
              "      border-color: transparent;\n",
              "      border-bottom-color: var(--fill-color);\n",
              "    }\n",
              "  }\n",
              "</style>\n",
              "\n",
              "  <script>\n",
              "    async function quickchart(key) {\n",
              "      const quickchartButtonEl =\n",
              "        document.querySelector('#' + key + ' button');\n",
              "      quickchartButtonEl.disabled = true;  // To prevent multiple clicks.\n",
              "      quickchartButtonEl.classList.add('colab-df-spinner');\n",
              "      try {\n",
              "        const charts = await google.colab.kernel.invokeFunction(\n",
              "            'suggestCharts', [key], {});\n",
              "      } catch (error) {\n",
              "        console.error('Error during call to suggestCharts:', error);\n",
              "      }\n",
              "      quickchartButtonEl.classList.remove('colab-df-spinner');\n",
              "      quickchartButtonEl.classList.add('colab-df-quickchart-complete');\n",
              "    }\n",
              "    (() => {\n",
              "      let quickchartButtonEl =\n",
              "        document.querySelector('#df-06e0a491-228d-4ca0-a66b-1431bf59e218 button');\n",
              "      quickchartButtonEl.style.display =\n",
              "        google.colab.kernel.accessAllowed ? 'block' : 'none';\n",
              "    })();\n",
              "  </script>\n",
              "</div>\n",
              "    </div>\n",
              "  </div>\n"
            ]
          },
          "metadata": {},
          "execution_count": 5
        }
      ],
      "source": [
        "#Printing top 5 rows\n",
        "df.head()"
      ],
      "id": "9a90d8c5"
    },
    {
      "cell_type": "code",
      "execution_count": null,
      "metadata": {
        "colab": {
          "base_uri": "https://localhost:8080/"
        },
        "id": "d8e79f07",
        "outputId": "3665eb4e-691c-49d0-e28b-a3e828d8e656"
      },
      "outputs": [
        {
          "output_type": "stream",
          "name": "stdout",
          "text": [
            "<class 'pandas.core.frame.DataFrame'>\n",
            "RangeIndex: 50000 entries, 0 to 49999\n",
            "Data columns (total 2 columns):\n",
            " #   Column     Non-Null Count  Dtype \n",
            "---  ------     --------------  ----- \n",
            " 0   review     50000 non-null  object\n",
            " 1   sentiment  50000 non-null  object\n",
            "dtypes: object(2)\n",
            "memory usage: 781.4+ KB\n"
          ]
        }
      ],
      "source": [
        "df.info()"
      ],
      "id": "d8e79f07"
    },
    {
      "cell_type": "code",
      "execution_count": null,
      "metadata": {
        "id": "751db7a6"
      },
      "outputs": [],
      "source": [
        "#Assigning X & y with review and sentiment respectively\n",
        "\n",
        "X = df['review']\n",
        "y = df['sentiment']"
      ],
      "id": "751db7a6"
    },
    {
      "cell_type": "code",
      "source": [
        "#splitting values in to train, validation and test sets\n",
        "X_train, X_temp, y_train, y_temp = train_test_split(X, y, test_size=0.7,stratify=y, random_state=42)\n",
        "X_val, X_test, y_val, y_test = train_test_split(X_temp, y_temp, test_size=0.57, random_state=42)"
      ],
      "metadata": {
        "id": "zg6tiVgi6mfx"
      },
      "id": "zg6tiVgi6mfx",
      "execution_count": null,
      "outputs": []
    },
    {
      "cell_type": "code",
      "execution_count": null,
      "metadata": {
        "colab": {
          "base_uri": "https://localhost:8080/"
        },
        "id": "fa8a27d9",
        "outputId": "59bc5119-7120-4389-f2b6-72123605eebd"
      },
      "outputs": [
        {
          "output_type": "stream",
          "name": "stdout",
          "text": [
            "Training set size: 15000\n",
            "Test set size: 19950\n",
            "Validation set size: 15050\n"
          ]
        }
      ],
      "source": [
        "#chceking the length of the train, validation and test sets\n",
        "\n",
        "print(\"Training set size:\", len(X_train))\n",
        "print(\"Test set size:\", len(X_test))\n",
        "print(\"Validation set size:\", len(X_val))"
      ],
      "id": "fa8a27d9"
    },
    {
      "cell_type": "code",
      "execution_count": null,
      "metadata": {
        "colab": {
          "base_uri": "https://localhost:8080/"
        },
        "id": "c16cb1a2",
        "outputId": "f5bbd9a0-63c4-48a9-c148-d653b6c470bd",
        "scrolled": true
      },
      "outputs": [
        {
          "output_type": "stream",
          "name": "stdout",
          "text": [
            "Int64Index([12276,  4319,  4210, 20735, 49290, 39716, 45480,  6587, 17792,\n",
            "            42351,\n",
            "            ...\n",
            "            42187, 36288, 22917,   710, 11540, 17731, 25976, 36837, 35597,\n",
            "            23156],\n",
            "           dtype='int64', length=15000)\n",
            "Int64Index([37705, 15809, 25154, 10620,  6067, 11681, 46162, 44805,  4023,\n",
            "            18822,\n",
            "            ...\n",
            "            14298, 49558, 37247, 48609, 42453,  4235,  2155, 26268, 42437,\n",
            "            21006],\n",
            "           dtype='int64', length=19950)\n",
            "Int64Index([  861, 15012, 42736, 20335, 47365, 43667, 29783,  7072, 14691,\n",
            "            44643,\n",
            "            ...\n",
            "            44013, 26105, 39106,   796, 22364, 33486,  9510, 24406, 45997,\n",
            "            18961],\n",
            "           dtype='int64', length=15050)\n"
          ]
        }
      ],
      "source": [
        "#seeing the index locations for the variables\n",
        "\n",
        "print(X_train.index)\n",
        "print(X_test.index)\n",
        "print(X_val.index)"
      ],
      "id": "c16cb1a2"
    },
    {
      "cell_type": "code",
      "execution_count": null,
      "metadata": {
        "id": "6e6f1bc5"
      },
      "outputs": [],
      "source": [
        "#resetting the index locations\n",
        "\n",
        "X_train = X_train.reset_index(drop=True)\n",
        "X_test = X_test.reset_index(drop=True)\n",
        "X_val = X_val.reset_index(drop=True)"
      ],
      "id": "6e6f1bc5"
    },
    {
      "cell_type": "code",
      "execution_count": null,
      "metadata": {
        "colab": {
          "base_uri": "https://localhost:8080/"
        },
        "id": "cb865597",
        "outputId": "417859c8-ddc3-4154-e31b-58c40b0c68bd"
      },
      "outputs": [
        {
          "output_type": "stream",
          "name": "stdout",
          "text": [
            "RangeIndex(start=0, stop=15000, step=1)\n",
            "RangeIndex(start=0, stop=19950, step=1)\n",
            "RangeIndex(start=0, stop=15050, step=1)\n"
          ]
        }
      ],
      "source": [
        "# Verifying the updated index values\n",
        "\n",
        "print(X_train.index)\n",
        "print(X_test.index)\n",
        "print(X_val.index)"
      ],
      "id": "cb865597"
    },
    {
      "cell_type": "code",
      "execution_count": null,
      "metadata": {
        "colab": {
          "base_uri": "https://localhost:8080/"
        },
        "id": "6d46f9da",
        "outputId": "fd1934b1-d2d7-439b-d7bc-610afc8f0314"
      },
      "outputs": [
        {
          "output_type": "stream",
          "name": "stdout",
          "text": [
            "The 4th Pokemon movie made me cry when Celebi died. Don't you dare say that Pokemon sucks! I don't like it when people say that.... I've liked Pokemon for 5 or 6 years, so everyone should enjoy Pokemon, including this movie and other Pokemon movies. So, without further ado, please say that Pokemon is great and should be enjoyed by people for all ages. And also, why do Pokemon-haters give low ratings for all or most of the Pokemon movies? I don't understand.... They shouldn't do that.... There's absolutely no reason why people should just vote without proving that Pokemon sucks besides the fact that: 1) Pokemon is for little kids ONLY. 2) Pokemon is stupid. and 3) People shouldn't like Pokemon. I think this is why people don't like Pokemon.\n",
            "The gimmick, as it were, of this 1934 Paramount comedy is the six comedy performers, paired off into three man-and-woman teams, who all appear together. W. C. Fields and his frequent screen partner Alsion Skipworth appear in the second half of the film and shine in their roles as a small-town sheriff and innkeeper. Fields seems to have been given the latitude to inject plenty of his own one-of-a-kind brand of misanthropic, surreal comedy into his part, and it works wonderfully, especially where he is allowed to do his famous pool table routine, a digression that is totally welcome since it is hilarious.<br /><br />At first thought it might have seemed like a mismatch to conceive of a film to be carried by the subtle domestic comedy of Charlie Ruggles and Mary Boland next to the broad, jokey Vaudeville patter of the great husband-and-wife comedy team of George Burns and Gracie Allen, but here it works perfectly because of the parts George and Gracie are given in the script. They are there are freeloaders hitching a ride to California on Ruggles' and Boland's honeymoon trip and consistently find ways to annoy them at every step, including, brilliantly, while they are each holding on to the side of a cliff for dear life.<br /><br />Making Burns and Allen comic annoyances to two sympathetic characters turns out to be a perfect way to fit their far-out, larger-than-life comedy characters into a real world setting -- the comedy of people reacting to them in a believable way turns out to be as much as a gold-mine as Gracie's famous naive delivery itself.<br /><br />Charlie Ruggles deserves special mention for his performance as the fussy banker \"Pinky\" Whinney. He's marvelously subtle and underplayed, and draws laughs from lines that in another actor's hands might not even have been heard.<br /><br />The script is wonderfully witty all through, and most of the way it's a perfectly extended comedy of frustration in which our sympathies are with the poor Whinneys who can't get a moment alone, and the extra bonus is that what frustrates them is just more first-rate comedy material from Burns and Allen. <br /><br />For the pre-code watchers out there, there is some rather suggestive material in some of the most amusing scenes, as Whinney tries to get across to George just WHY he and his wife want to be alone for a while.<br /><br />There are a few signs of a rushed production here -- the occasional jump cut, one of the most obvious drop sets you will ever see in a movie (right up there with W. C. Field's own short \"The Golf Specialist\"), and the knot in Field's tie is constantly changing in shape. These don't bother me, though, and they shouldn't bother anybody who is enjoying the film.<br /><br />\"Six of a Kind\" is a real little-known gem and one of the funniest movies I've seen in a while. If you're thinking about whether to watch it, the answer should be yes.\n",
            "It isn't TOO bad, but ultimately it lacks the quality that the Australian series has.<br /><br />The jokes are few and far between, the actors are attractive (they shouldn't be), the film makers think far too much about the cinematography (it's supposed to look like a home video) and it's just like a serious version of Kath and Kim... it's stupid.<br /><br />It's too normal to be Kath and Kim. Kath and Kim are supposed to be two curvy, middle-aged women who think they are hot and wear ridiculous clothes. There are no \"Look at me Kimmy!\" jokes. The fat friend of Kim is not fat at all and she's not even slightly stupid. She's a stereotypical black/Latino chick.<br /><br />It's just not as stupid or funny as the Australian series. It doesn't compare. Nothing is the same. I admit, this show is pretty funny at times, but it is NOT anything like the Aussie series. I was looking forward to an American take on a bogan family. They failed. It's supposed to be REALLY stupid and hilarious, but the actors don't act stupid! To me, this is just a typical American TV show. It's a let down if you want it to be anything like the Aussie show.<br /><br />2 Stars because it is an OKAY show, just nothing like what it should be.\n"
          ]
        }
      ],
      "source": [
        "#Printing the data brfore pre processing\n",
        "\n",
        "print(X_train[0])\n",
        "print(X_test[0])\n",
        "print(X_val[0])"
      ],
      "id": "6d46f9da"
    },
    {
      "cell_type": "code",
      "execution_count": null,
      "metadata": {
        "colab": {
          "base_uri": "https://localhost:8080/"
        },
        "id": "a6ed3979",
        "outputId": "f9cd561c-63c5-4985-f416-458646eff184"
      },
      "outputs": [
        {
          "output_type": "stream",
          "name": "stdout",
          "text": [
            "Int64Index([12276,  4319,  4210, 20735, 49290, 39716, 45480,  6587, 17792,\n",
            "            42351,\n",
            "            ...\n",
            "            42187, 36288, 22917,   710, 11540, 17731, 25976, 36837, 35597,\n",
            "            23156],\n",
            "           dtype='int64', length=15000)\n",
            "Int64Index([37705, 15809, 25154, 10620,  6067, 11681, 46162, 44805,  4023,\n",
            "            18822,\n",
            "            ...\n",
            "            14298, 49558, 37247, 48609, 42453,  4235,  2155, 26268, 42437,\n",
            "            21006],\n",
            "           dtype='int64', length=19950)\n",
            "Int64Index([  861, 15012, 42736, 20335, 47365, 43667, 29783,  7072, 14691,\n",
            "            44643,\n",
            "            ...\n",
            "            44013, 26105, 39106,   796, 22364, 33486,  9510, 24406, 45997,\n",
            "            18961],\n",
            "           dtype='int64', length=15050)\n"
          ]
        }
      ],
      "source": [
        "#seeing the index locations for the variables\n",
        "\n",
        "print(y_train.index)\n",
        "print(y_test.index)\n",
        "print(y_val.index)"
      ],
      "id": "a6ed3979"
    },
    {
      "cell_type": "code",
      "execution_count": null,
      "metadata": {
        "id": "aa429b55"
      },
      "outputs": [],
      "source": [
        "#resetting the index locations\n",
        "\n",
        "y_train = y_train.reset_index(drop=True)\n",
        "y_test = y_test.reset_index(drop=True)\n",
        "y_val = y_val.reset_index(drop=True)"
      ],
      "id": "aa429b55"
    },
    {
      "cell_type": "code",
      "execution_count": null,
      "metadata": {
        "colab": {
          "base_uri": "https://localhost:8080/"
        },
        "id": "266952ff",
        "outputId": "c3ebf183-7c26-42a6-be36-5c183ddd19d6"
      },
      "outputs": [
        {
          "output_type": "stream",
          "name": "stdout",
          "text": [
            "RangeIndex(start=0, stop=15000, step=1)\n",
            "RangeIndex(start=0, stop=19950, step=1)\n",
            "RangeIndex(start=0, stop=15050, step=1)\n"
          ]
        }
      ],
      "source": [
        "print(y_train.index)\n",
        "print(y_test.index)\n",
        "print(y_val.index)"
      ],
      "id": "266952ff"
    },
    {
      "cell_type": "code",
      "execution_count": null,
      "metadata": {
        "colab": {
          "base_uri": "https://localhost:8080/"
        },
        "id": "35190789",
        "outputId": "2a060751-918e-4d57-878c-2f0496ed96aa"
      },
      "outputs": [
        {
          "output_type": "stream",
          "name": "stdout",
          "text": [
            "positive\n",
            "positive\n",
            "negative\n"
          ]
        }
      ],
      "source": [
        "print(y_train[0])\n",
        "print(y_test[0])\n",
        "print(y_val[0])"
      ],
      "id": "35190789"
    },
    {
      "cell_type": "code",
      "execution_count": null,
      "metadata": {
        "id": "WfzB5KuXRWf-"
      },
      "outputs": [],
      "source": [
        "def preprocess_text(text):\n",
        "    # Removing HTML tags\n",
        "    text = re.sub('<.*?>', '', text)\n",
        "\n",
        "    # Removing accented characters by normalizing to ASCII\n",
        "    text = unicodedata.normalize('NFKD', text).encode('ascii', 'ignore').decode('utf-8', 'ignore')\n",
        "\n",
        "    # Replacing patterns like n't, nt, and n t with not\n",
        "    text = re.sub(r\"\\b(n['’]?t|n\\s?t)\\b\", ' not', text)\n",
        "\n",
        "    # Removing special characters\n",
        "    text = re.sub(\"[^a-zA-Z0-9,'!]\", ' ', text)\n",
        "\n",
        "    # Converting text to lowercase\n",
        "    text = text.lower()\n",
        "\n",
        "    # Separating text into sentences based on punctuations and then removing punctuations\n",
        "    sentences = re.split(r'[.!?]', text)\n",
        "    sentences = [re.sub('[,]', '', sentence) for sentence in sentences]\n",
        "\n",
        "    # Removing extra spaces\n",
        "    text = ' '.join(' '.join(sentence.split()) for sentence in sentences)\n",
        "\n",
        "    return text"
      ],
      "id": "WfzB5KuXRWf-"
    },
    {
      "cell_type": "code",
      "execution_count": null,
      "metadata": {
        "id": "dc48330c"
      },
      "outputs": [],
      "source": [
        "# Preprocessing the data\n",
        "\n",
        "X_train_preprocessed = [preprocess_text(text) for text in X_train]\n",
        "\n",
        "X_test_preprocessed = [preprocess_text(text) for text in X_test]\n",
        "\n",
        "X_val_preprocessed = [preprocess_text(text) for text in X_val]\n"
      ],
      "id": "dc48330c"
    },
    {
      "cell_type": "code",
      "execution_count": null,
      "metadata": {
        "colab": {
          "base_uri": "https://localhost:8080/"
        },
        "id": "244e45ff",
        "outputId": "a21e2603-962f-4b9a-ab59-9c772c50502e",
        "scrolled": true
      },
      "outputs": [
        {
          "output_type": "stream",
          "name": "stdout",
          "text": [
            "the 4th pokemon movie made me cry when celebi died don't you dare say that pokemon sucks i don't like it when people say that i've liked pokemon for 5 or 6 years so everyone should enjoy pokemon including this movie and other pokemon movies so without further ado please say that pokemon is great and should be enjoyed by people for all ages and also why do pokemon haters give low ratings for all or most of the pokemon movies i don't understand they shouldn't do that there's absolutely no reason why people should just vote without proving that pokemon sucks besides the fact that 1 pokemon is for little kids only 2 pokemon is stupid and 3 people shouldn't like pokemon i think this is why people don't like pokemon\n",
            "the gimmick as it were of this 1934 paramount comedy is the six comedy performers paired off into three man and woman teams who all appear together w c fields and his frequent screen partner alsion skipworth appear in the second half of the film and shine in their roles as a small town sheriff and innkeeper fields seems to have been given the latitude to inject plenty of his own one of a kind brand of misanthropic surreal comedy into his part and it works wonderfully especially where he is allowed to do his famous pool table routine a digression that is totally welcome since it is hilarious at first thought it might have seemed like a mismatch to conceive of a film to be carried by the subtle domestic comedy of charlie ruggles and mary boland next to the broad jokey vaudeville patter of the great husband and wife comedy team of george burns and gracie allen but here it works perfectly because of the parts george and gracie are given in the script they are there are freeloaders hitching a ride to california on ruggles' and boland's honeymoon trip and consistently find ways to annoy them at every step including brilliantly while they are each holding on to the side of a cliff for dear life making burns and allen comic annoyances to two sympathetic characters turns out to be a perfect way to fit their far out larger than life comedy characters into a real world setting the comedy of people reacting to them in a believable way turns out to be as much as a gold mine as gracie's famous naive delivery itself charlie ruggles deserves special mention for his performance as the fussy banker pinky whinney he's marvelously subtle and underplayed and draws laughs from lines that in another actor's hands might not even have been heard the script is wonderfully witty all through and most of the way it's a perfectly extended comedy of frustration in which our sympathies are with the poor whinneys who can't get a moment alone and the extra bonus is that what frustrates them is just more first rate comedy material from burns and allen for the pre code watchers out there there is some rather suggestive material in some of the most amusing scenes as whinney tries to get across to george just why he and his wife want to be alone for a while there are a few signs of a rushed production here the occasional jump cut one of the most obvious drop sets you will ever see in a movie right up there with w c field's own short the golf specialist and the knot in field's tie is constantly changing in shape these don't bother me though and they shouldn't bother anybody who is enjoying the film six of a kind is a real little known gem and one of the funniest movies i've seen in a while if you're thinking about whether to watch it the answer should be yes\n",
            "it isn't too bad but ultimately it lacks the quality that the australian series has the jokes are few and far between the actors are attractive they shouldn't be the film makers think far too much about the cinematography it's supposed to look like a home video and it's just like a serious version of kath and kim it's stupid it's too normal to be kath and kim kath and kim are supposed to be two curvy middle aged women who think they are hot and wear ridiculous clothes there are no look at me kimmy jokes the fat friend of kim is not fat at all and she's not even slightly stupid she's a stereotypical black latino chick it's just not as stupid or funny as the australian series it doesn't compare nothing is the same i admit this show is pretty funny at times but it is not anything like the aussie series i was looking forward to an american take on a bogan family they failed it's supposed to be really stupid and hilarious but the actors don't act stupid to me this is just a typical american tv show it's a let down if you want it to be anything like the aussie show 2 stars because it is an okay show just nothing like what it should be\n"
          ]
        }
      ],
      "source": [
        "#Printing pre processed data\n",
        "\n",
        "print(X_train_preprocessed[0])\n",
        "print(X_test_preprocessed[0])\n",
        "print(X_val_preprocessed[0])"
      ],
      "id": "244e45ff"
    },
    {
      "cell_type": "code",
      "source": [
        "# Preprocessing the data\n",
        "\n",
        "y_train_preprocessed = [preprocess_text(text) for text in y_train]\n",
        "\n",
        "y_test_preprocessed = [preprocess_text(text) for text in y_test]\n",
        "\n",
        "y_val_preprocessed = [preprocess_text(text) for text in y_val]\n"
      ],
      "metadata": {
        "id": "b5A_WZqOoQlR"
      },
      "execution_count": null,
      "outputs": [],
      "id": "b5A_WZqOoQlR"
    },
    {
      "cell_type": "markdown",
      "source": [
        "Tokenizing and creating datasets for train, validation and test sets so they can be used through out different types of training sessions and evaluation of diferent models"
      ],
      "metadata": {
        "id": "g8cgsBICNtdQ"
      },
      "id": "g8cgsBICNtdQ"
    },
    {
      "cell_type": "code",
      "execution_count": null,
      "metadata": {
        "id": "1e9c29f9",
        "scrolled": false
      },
      "outputs": [],
      "source": [
        "tokenizer = BertTokenizer.from_pretrained('bert-base-uncased')"
      ],
      "id": "1e9c29f9"
    },
    {
      "cell_type": "code",
      "source": [
        "# Tokenizing and encoding the train data\n",
        "X_train_encoded = tokenizer.batch_encode_plus(\n",
        "    X_train_preprocessed,\n",
        "    padding=True,\n",
        "    truncation=True,\n",
        "    max_length=512,\n",
        "    return_tensors='pt'\n",
        ")\n",
        "# Tokenizing and encoding the validation data\n",
        "X_val_encoded = tokenizer.batch_encode_plus(\n",
        "    X_val_preprocessed,\n",
        "    padding=True,\n",
        "    truncation=True,\n",
        "    max_length=512,\n",
        "    return_tensors='pt'\n",
        ")"
      ],
      "metadata": {
        "id": "7H9Kbj8altls"
      },
      "id": "7H9Kbj8altls",
      "execution_count": null,
      "outputs": []
    },
    {
      "cell_type": "code",
      "source": [
        "label_map = {\"positive\": 1, \"negative\": 0}\n",
        "\n",
        "# Extracting input tensors from the encoded data\n",
        "input_ids_train = X_train_encoded['input_ids']\n",
        "attention_masks_train = X_train_encoded['attention_mask']\n",
        "labels_train = torch.tensor([label_map[label] for label in y_train_preprocessed])\n",
        "\n",
        "input_ids_val = X_val_encoded['input_ids']\n",
        "attention_masks_val = X_val_encoded['attention_mask']\n",
        "labels_val = torch.tensor([label_map[label] for label in y_val_preprocessed])\n",
        "\n",
        "# Creating datasets\n",
        "train_dataset = TensorDataset(input_ids_train, attention_masks_train, labels_train)\n",
        "val_dataset = TensorDataset(input_ids_val, attention_masks_val, labels_val)"
      ],
      "metadata": {
        "id": "2UHfvfiFlycP"
      },
      "id": "2UHfvfiFlycP",
      "execution_count": null,
      "outputs": []
    },
    {
      "cell_type": "code",
      "source": [
        "# Tokenizing and encoding the test data\n",
        "X_test_encoded = tokenizer.batch_encode_plus(\n",
        "    X_test_preprocessed,\n",
        "    padding=True,\n",
        "    truncation=True,\n",
        "    max_length=512,\n",
        "    return_tensors='pt'\n",
        ")"
      ],
      "metadata": {
        "id": "W9ilC5yKNfx2"
      },
      "execution_count": null,
      "outputs": [],
      "id": "W9ilC5yKNfx2"
    },
    {
      "cell_type": "code",
      "source": [
        "# Extracting input tensors and attention masks from the encoded data\n",
        "label_map = {\"positive\": 1, \"negative\": 0}\n",
        "\n",
        "input_ids_test = X_test_encoded['input_ids']\n",
        "attention_masks_test = X_test_encoded['attention_mask']\n",
        "labels_test = torch.tensor([label_map[label] for label in y_test_preprocessed])\n",
        "\n",
        "# Creating datasets\n",
        "test_dataset = TensorDataset(input_ids_test, attention_masks_test, labels_test)"
      ],
      "metadata": {
        "id": "2NqSgZcGNfx2"
      },
      "execution_count": null,
      "outputs": [],
      "id": "2NqSgZcGNfx2"
    },
    {
      "cell_type": "code",
      "execution_count": null,
      "metadata": {
        "id": "32035a33",
        "scrolled": true
      },
      "outputs": [],
      "source": [
        "# Setting the device (CPU or GPU)\n",
        "device = torch.device('cuda' if torch.cuda.is_available() else 'cpu')"
      ],
      "id": "32035a33"
    },
    {
      "cell_type": "markdown",
      "source": [
        "# 1. Optimization using Hidden Layers\n"
      ],
      "metadata": {
        "id": "JXBiE9RKO_8E"
      },
      "id": "JXBiE9RKO_8E"
    },
    {
      "cell_type": "code",
      "source": [
        "class CustomBERTModel(nn.Module):\n",
        "    def __init__(self, num_bert_layers=12):\n",
        "        super(CustomBERTModel, self).__init__()\n",
        "        self.bert = BertModel.from_pretrained(\"bert-base-uncased\")\n",
        "\n",
        "        # Learnable weights for each layer\n",
        "        self.layer_weights = nn.Parameter(torch.ones(num_bert_layers) / num_bert_layers)\n",
        "\n",
        "        # New layers\n",
        "        self.linear1 = nn.Linear(768, 256)\n",
        "        self.linear2 = nn.Linear(256, 2)\n",
        "\n",
        "    def forward(self, input_ids, attention_mask):\n",
        "        # Get all hidden states\n",
        "        outputs = self.bert(input_ids, attention_mask=attention_mask, output_hidden_states=True)\n",
        "        all_hidden_states = outputs[2]\n",
        "\n",
        "        # Weighted combination of all layers\n",
        "        weighted_sum = sum(w * hidden_state for w, hidden_state in zip(self.layer_weights, all_hidden_states))\n",
        "\n",
        "        linear1_output = self.linear1(weighted_sum[:,0,:].view(-1,768))\n",
        "        linear2_output = self.linear2(linear1_output).squeeze()\n",
        "\n",
        "\n",
        "        return linear2_output"
      ],
      "metadata": {
        "id": "iS-HnuV0GAGC"
      },
      "id": "iS-HnuV0GAGC",
      "execution_count": null,
      "outputs": []
    },
    {
      "cell_type": "code",
      "source": [
        "model = CustomBERTModel()"
      ],
      "metadata": {
        "id": "9g8-hwNWGAI9"
      },
      "id": "9g8-hwNWGAI9",
      "execution_count": null,
      "outputs": []
    },
    {
      "cell_type": "code",
      "source": [
        "from torch.optim.lr_scheduler import LambdaLR\n",
        "from torch.nn import CrossEntropyLoss"
      ],
      "metadata": {
        "id": "NATaTCKXux7H"
      },
      "id": "NATaTCKXux7H",
      "execution_count": null,
      "outputs": []
    },
    {
      "cell_type": "code",
      "source": [
        "# Moving the model to the device\n",
        "model.to(device)\n",
        "\n",
        "# declaring Hyperparameters\n",
        "batch_size = 32\n",
        "early_stopping_patience = 3\n",
        "epochs_without_improvement = 0\n",
        "stop_training = 0\n",
        "num_cpu = 12\n",
        "num_epochs = 5\n",
        "best_accuracy = 0.0\n",
        "train_losses = []\n",
        "val_accuracies = []\n",
        "train_losses.clear()\n",
        "val_accuracies.clear()\n",
        "\n",
        "\n",
        "# optimizer\n",
        "optimizer = optim.Adam(model.parameters(), lr=2e-5)\n",
        "lambda_lr = lambda epoch: 0.95 ** epoch\n",
        "scheduler = LambdaLR(optimizer, lr_lambda=lambda_lr)\n",
        "loss_fn = CrossEntropyLoss()\n",
        "\n",
        "\n",
        "# Creating data loaders\n",
        "train_dataloader = DataLoader(train_dataset, batch_size=batch_size, num_workers=num_cpu, pin_memory=True, shuffle=True)\n",
        "val_dataloader = DataLoader(val_dataset, batch_size=batch_size, num_workers=num_cpu, pin_memory=True, shuffle=False)\n",
        "\n",
        "for epoch in range(num_epochs):\n",
        "    running_loss = 0.0\n",
        "\n",
        "    # Training\n",
        "    model.train()\n",
        "    for inputs, attention_masks, labels in train_dataloader:\n",
        "        inputs = inputs.to(device)\n",
        "        attention_masks = attention_masks.to(device)\n",
        "        labels = labels.to(device)\n",
        "\n",
        "        optimizer.zero_grad()\n",
        "        outputs = model(inputs, attention_mask=attention_masks)\n",
        "\n",
        "        loss = loss_fn(outputs, labels)\n",
        "\n",
        "        loss.backward()\n",
        "\n",
        "        optimizer.step()\n",
        "\n",
        "        running_loss += loss.item() * inputs.size(0)\n",
        "\n",
        "\n",
        "    # Calculate average loss for the epoch\n",
        "    epoch_loss = running_loss / len(train_dataset)\n",
        "    train_losses.append(epoch_loss)\n",
        "\n",
        "    scheduler.step()\n",
        "\n",
        "\n",
        "# Validation\n",
        "    model.eval()  # Setting model to evaluation mode\n",
        "    correct_predictions = 0\n",
        "    total_predictions = 0\n",
        "\n",
        "    with torch.no_grad():\n",
        "        for inputs, attention_masks, labels in val_dataloader:\n",
        "            inputs = inputs.to(device)\n",
        "            attention_masks = attention_masks.to(device)\n",
        "            labels = labels.to(device)\n",
        "\n",
        "            # Get model's predictions\n",
        "            outputs = model(inputs, attention_mask=attention_masks)\n",
        "            predicted_labels = torch.argmax(outputs, dim=1)\n",
        "\n",
        "            correct_predictions += (predicted_labels == labels).sum().item()\n",
        "            total_predictions += labels.size(0)\n",
        "\n",
        "    accuracy = correct_predictions / total_predictions\n",
        "    val_accuracies.append(accuracy)\n",
        "\n",
        "\n",
        "    if accuracy > best_accuracy:\n",
        "        best_accuracy = accuracy\n",
        "        epochs_without_improvement = 0\n",
        "        best_model_state = model.state_dict()\n",
        "    else:\n",
        "        epochs_without_improvement += 1\n",
        "        if epochs_without_improvement >= early_stopping_patience:\n",
        "            print(\"Early stopping triggered.\")\n",
        "            stop_training = 1\n",
        "            break\n",
        "\n",
        "    # Printing the loss and accuracy for each epoch\n",
        "    print(f\"Epoch {epoch+1}/{num_epochs}, Loss: {epoch_loss}, Validation Accuracy: {accuracy}\")\n",
        "\n",
        "# Saving the trained model\n",
        "BERT_Tuned_file = \"/content/drive/MyDrive/Colab Notebooks/BBHLO1.pt\"\n",
        "torch.save(best_model_state, BERT_Tuned_file)"
      ],
      "metadata": {
        "id": "eyTpftl4GAMg",
        "colab": {
          "base_uri": "https://localhost:8080/"
        },
        "outputId": "6109263b-ec58-42af-d529-274bc79f5173"
      },
      "id": "eyTpftl4GAMg",
      "execution_count": null,
      "outputs": [
        {
          "output_type": "stream",
          "name": "stdout",
          "text": [
            "Epoch 1/5, Loss: 0.29907179664373396, Validation Accuracy: 0.9216611295681063\n",
            "Epoch 2/5, Loss: 0.1404722452978293, Validation Accuracy: 0.9255813953488372\n",
            "Epoch 3/5, Loss: 0.07089786670108636, Validation Accuracy: 0.9269102990033222\n",
            "Epoch 4/5, Loss: 0.042841025534520544, Validation Accuracy: 0.920797342192691\n",
            "Epoch 5/5, Loss: 0.02608099684069554, Validation Accuracy: 0.92\n"
          ]
        }
      ]
    },
    {
      "cell_type": "code",
      "source": [
        "# Plotting epoch loss and validation accuracy graphs\n",
        "num_epochs = len(train_losses)\n",
        "plt.figure(figsize=(10, 5))\n",
        "plt.subplot(1, 2, 1)\n",
        "plt.plot(range(1, num_epochs + 1), train_losses, label='Train Loss', color='red')\n",
        "plt.xlabel('Epoch')\n",
        "plt.ylabel('Loss')\n",
        "plt.title('Epoch Loss')\n",
        "plt.legend()\n",
        "\n",
        "plt.subplot(1, 2, 2)\n",
        "plt.plot(range(1, num_epochs + 1), val_accuracies, label='Validation Accuracy', color='green')\n",
        "plt.xlabel('Epoch')\n",
        "plt.ylabel('Accuracy')\n",
        "plt.title('Validation Accuracy')\n",
        "plt.legend()\n",
        "\n",
        "save_path = \"/content/drive/MyDrive/Colab Notebooks/BBHLO1_plot.png\"\n",
        "plt.savefig(save_path)\n",
        "\n",
        "plt.tight_layout()\n",
        "plt.show()"
      ],
      "metadata": {
        "id": "4urNufgWP_bn",
        "colab": {
          "base_uri": "https://localhost:8080/",
          "height": 329
        },
        "outputId": "45a1cf9c-88d0-48f5-a1d5-13948b1ef41b"
      },
      "execution_count": null,
      "outputs": [
        {
          "output_type": "display_data",
          "data": {
            "text/plain": [
              "<Figure size 1000x500 with 2 Axes>"
            ],
            "image/png": "[encoded data removed]"
          },
          "metadata": {}
        }
      ],
      "id": "4urNufgWP_bn"
    },
    {
      "cell_type": "code",
      "execution_count": null,
      "metadata": {
        "colab": {
          "base_uri": "https://localhost:8080/"
        },
        "outputId": "8785cbb4-5198-4752-96d5-dcc18c06b408",
        "id": "884uqZ0PjMJg"
      },
      "outputs": [
        {
          "output_type": "execute_result",
          "data": {
            "text/plain": [
              "<All keys matched successfully>"
            ]
          },
          "metadata": {},
          "execution_count": 8
        }
      ],
      "source": [
        "# Loading trained model\n",
        "BERT_Tuned_file = \"/content/drive/MyDrive/Colab Notebooks/BBHLO1.pt\"\n",
        "model.load_state_dict(torch.load(BERT_Tuned_file))"
      ],
      "id": "884uqZ0PjMJg"
    },
    {
      "cell_type": "code",
      "execution_count": null,
      "metadata": {
        "colab": {
          "base_uri": "https://localhost:8080/"
        },
        "outputId": "36e3a6c7-4ece-43cb-c32f-17ba81ce485c",
        "id": "xnz-qlv4jMJh"
      },
      "outputs": [
        {
          "output_type": "stream",
          "name": "stdout",
          "text": [
            "Accuracy: 92.11%\n",
            "Classification Report:\n",
            "               precision    recall  f1-score   support\n",
            "\n",
            "    negative       0.91      0.94      0.92     10012\n",
            "    positive       0.94      0.90      0.92      9938\n",
            "\n",
            "    accuracy                           0.92     19950\n",
            "   macro avg       0.92      0.92      0.92     19950\n",
            "weighted avg       0.92      0.92      0.92     19950\n",
            "\n",
            "Confusion Matrix:\n",
            " [[9422  590]\n",
            " [ 984 8954]]\n"
          ]
        }
      ],
      "source": [
        "model.to(device)\n",
        "model.eval()\n",
        "\n",
        "# Creating dataloaders for test\n",
        "batch_size = 32\n",
        "num_cpu = 12\n",
        "\n",
        "test_dataloader = DataLoader(test_dataset, batch_size=batch_size, num_workers=num_cpu, pin_memory=True, shuffle=False)\n",
        "\n",
        "# Evaluating the model on the test set\n",
        "all_preds = []\n",
        "all_labels = []\n",
        "\n",
        "all_preds.clear()\n",
        "all_labels.clear()\n",
        "\n",
        "\n",
        "with torch.no_grad():\n",
        "        for inputs, attention_masks, labels in test_dataloader:\n",
        "            inputs = inputs.to(device)\n",
        "            attention_masks = attention_masks.to(device)\n",
        "            labels = labels.to(device)\n",
        "\n",
        "            outputs = model(inputs, attention_mask=attention_masks)\n",
        "            _, preds = torch.max(outputs, dim=1)\n",
        "\n",
        "            all_preds.extend(preds.cpu().numpy())\n",
        "            all_labels.extend(labels.cpu().numpy())\n",
        "\n",
        "# Calculating evaluation metrics\n",
        "accuracy = accuracy_score(all_labels, all_preds) * 100\n",
        "\n",
        "class_names = [\"negative\", \"positive\"]\n",
        "class_report = classification_report(all_labels, all_preds, target_names=class_names)\n",
        "conf_matrix = confusion_matrix(all_labels, all_preds)\n",
        "\n",
        "print(f\"Accuracy: {accuracy:.2f}%\")\n",
        "print(\"Classification Report:\\n\", class_report)\n",
        "print(\"Confusion Matrix:\\n\", conf_matrix)"
      ],
      "id": "xnz-qlv4jMJh"
    },
    {
      "cell_type": "markdown",
      "source": [
        "# 2. Tezting the Pre-Training of BERT for better accuracy!"
      ],
      "metadata": {
        "id": "8HkPt80YoX9g"
      },
      "id": "8HkPt80YoX9g"
    },
    {
      "cell_type": "code",
      "source": [
        "from transformers import BertForMaskedLM, DataCollatorForLanguageModeling\n",
        "from torch.optim.lr_scheduler import CosineAnnealingLR\n",
        "import copy"
      ],
      "metadata": {
        "id": "teDeJ47GUfey"
      },
      "id": "teDeJ47GUfey",
      "execution_count": null,
      "outputs": []
    },
    {
      "cell_type": "code",
      "source": [
        "#Data Pre-processing\n",
        "with open('/content/drive/MyDrive/Colab Notebooks/wikitext-2/wiki.train.tokens', 'r') as file:\n",
        "    wikitext_data = file.readlines()\n",
        "\n",
        "pretrain_preprocessed = [preprocess_text(text) for text in wikitext_data]\n",
        "\n",
        "pretrain_encoded = tokenizer.batch_encode_plus(\n",
        "    pretrain_preprocessed,\n",
        "    padding=True,\n",
        "    truncation=True,\n",
        "    max_length=512,\n",
        "    return_tensors='pt'\n",
        ")\n",
        "\n",
        "pretrain_dataset = pretrain_encoded\n",
        "\n",
        "# Data Pre-processing for validation data\n",
        "with open('/content/drive/MyDrive/Colab Notebooks/wikitext-2/wiki.valid.tokens', 'r') as file:\n",
        "    wikitext_val_data = file.readlines()\n",
        "\n",
        "preval_preprocessed = [preprocess_text(text) for text in wikitext_val_data]\n",
        "\n",
        "# Encoding the validation data\n",
        "preval_encoded = tokenizer.batch_encode_plus(\n",
        "    preval_preprocessed,\n",
        "    padding=True,\n",
        "    truncation=True,\n",
        "    max_length=512,\n",
        "    return_tensors='pt'\n",
        ")\n",
        "\n",
        "preval_dataset = preval_encoded"
      ],
      "metadata": {
        "id": "OXZlfBz7wHEL"
      },
      "id": "OXZlfBz7wHEL",
      "execution_count": null,
      "outputs": []
    },
    {
      "cell_type": "code",
      "source": [
        "pretrain_dataset_list = [{k: v[i] for k, v in pretrain_encoded.items()} for i in range(len(pretrain_encoded['input_ids']))]\n",
        "preval_dataset_list = [{k: v[i] for k, v in preval_encoded.items()} for i in range(len(preval_encoded['input_ids']))]"
      ],
      "metadata": {
        "id": "KUWgNBnU5ZBi"
      },
      "id": "KUWgNBnU5ZBi",
      "execution_count": null,
      "outputs": []
    },
    {
      "cell_type": "code",
      "source": [
        "model = BertForMaskedLM.from_pretrained('bert-base-uncased').to(device)"
      ],
      "metadata": {
        "id": "5uG2-cC7oUO5",
        "colab": {
          "base_uri": "https://localhost:8080/",
          "height": 149,
          "referenced_widgets": [
            "66b47aafb57949d793b470ed816cd405",
            "dc6e906e176946669281ef9ca4a32562",
            "b13161aab05347a4a8a8fb9840e772ca",
            "9dcb9e4253744b75a0e52c679c07863f",
            "1ab72a3125b54109b4a60903e08c3240",
            "544e3dd7ed164d36bac8f7c20670d103",
            "eef0915666b74465a9b78ddd0d849d7b",
            "cc206d92fd794419ab80d569dd8713cd",
            "f460075cf42e41bfb17b1ddfd2fb283f",
            "7063fd0e3e744e2cb43d45cd310e2fc9",
            "fdd966b9c1934687b3d577723ad5fa8d"
          ]
        },
        "outputId": "b64bc871-a203-4be7-fcca-0d1dd29ccf4d"
      },
      "id": "5uG2-cC7oUO5",
      "execution_count": null,
      "outputs": [
        {
          "output_type": "display_data",
          "data": {
            "text/plain": [
              "Downloading model.safetensors:   0%|          | 0.00/440M [00:00<?, ?B/s]"
            ],
            "application/vnd.jupyter.widget-view+json": {
              "version_major": 2,
              "version_minor": 0,
              "model_id": "66b47aafb57949d793b470ed816cd405"
            }
          },
          "metadata": {}
        },
        {
          "output_type": "stream",
          "name": "stderr",
          "text": [
            "Some weights of the model checkpoint at bert-base-uncased were not used when initializing BertForMaskedLM: ['cls.seq_relationship.bias', 'bert.pooler.dense.weight', 'cls.seq_relationship.weight', 'bert.pooler.dense.bias']\n",
            "- This IS expected if you are initializing BertForMaskedLM from the checkpoint of a model trained on another task or with another architecture (e.g. initializing a BertForSequenceClassification model from a BertForPreTraining model).\n",
            "- This IS NOT expected if you are initializing BertForMaskedLM from the checkpoint of a model that you expect to be exactly identical (initializing a BertForSequenceClassification model from a BertForSequenceClassification model).\n"
          ]
        }
      ]
    },
    {
      "cell_type": "code",
      "source": [
        "batch_size = 16\n",
        "num_cpu = 12\n",
        "num_epochs_pretrain = 3\n",
        "early_stopping_patience = 2\n",
        "epochs_without_improvement = 0\n",
        "best_accuracy = 0.0\n",
        "pre_train_losses = []\n",
        "pre_train_accuracies = []\n",
        "pre_train_losses.clear()\n",
        "pre_train_accuracies.clear()\n",
        "\n",
        "data_collator = DataCollatorForLanguageModeling(tokenizer=tokenizer, mlm=True, mlm_probability=0.15)\n",
        "pretrain_dataloader = DataLoader(pretrain_dataset_list, batch_size=batch_size, num_workers=num_cpu, shuffle=True, collate_fn=data_collator)\n",
        "val_dataloader = DataLoader(preval_dataset_list, batch_size=batch_size, num_workers=num_cpu, shuffle=False, collate_fn=data_collator)\n",
        "\n",
        "# Pre-training\n",
        "\n",
        "optimizer = torch.optim.Adam(model.parameters(), lr=5e-5)\n",
        "scheduler = CosineAnnealingLR(optimizer, T_max=num_epochs_pretrain, eta_min=1e-6)\n",
        "\n",
        "for epoch in range(num_epochs_pretrain):\n",
        "    running_loss = 0.0\n",
        "    model.train()\n",
        "\n",
        "    for batch in pretrain_dataloader:\n",
        "        inputs = batch['input_ids'].to(device)\n",
        "        attention_masks = batch['attention_mask'].to(device)\n",
        "        labels = inputs.clone()\n",
        "\n",
        "        optimizer.zero_grad()\n",
        "\n",
        "        outputs = model(inputs, attention_mask=attention_masks, labels=labels)\n",
        "        loss = outputs.loss\n",
        "        loss.backward()\n",
        "        optimizer.step()\n",
        "\n",
        "        running_loss += loss.item() * inputs.size(0)\n",
        "\n",
        "\n",
        "    # Calculate average loss for the epoch\n",
        "    epoch_loss = running_loss / len(train_dataset)\n",
        "    pre_train_losses.append(epoch_loss)\n",
        "\n",
        "    scheduler.step()\n",
        "\n",
        "    #Validation\n",
        "    model.eval()\n",
        "    correct_predictions = 0\n",
        "    total_predictions = 0\n",
        "\n",
        "    with torch.no_grad():\n",
        "        for batch in pretrain_dataloader:\n",
        "            inputs = batch['input_ids'].to(device)\n",
        "            attention_masks = batch['attention_mask'].to(device)\n",
        "            labels = inputs.clone()\n",
        "\n",
        "            outputs = model(inputs, attention_mask=attention_masks)\n",
        "            logits = outputs.logits\n",
        "\n",
        "            predicted_indices = torch.argmax(logits, 2)\n",
        "            valid_positions = (labels != tokenizer.pad_token_id) & (labels != tokenizer.cls_token_id) & (labels != tokenizer.sep_token_id)\n",
        "            valid_predictions = (predicted_indices == labels) & valid_positions\n",
        "            correct_predictions += valid_predictions.sum().item()\n",
        "            total_predictions += valid_positions.sum().item()\n",
        "\n",
        "    accuracy = correct_predictions / total_predictions\n",
        "    pre_train_accuracies.append(accuracy)\n",
        "\n",
        "\n",
        "    if accuracy > best_accuracy:\n",
        "        best_accuracy = accuracy\n",
        "        epochs_without_improvement = 0\n",
        "        best_model = copy.deepcopy(model)\n",
        "    else:\n",
        "        epochs_without_improvement += 1\n",
        "        if epochs_without_improvement >= early_stopping_patience:\n",
        "            print(\"Early stopping triggered.\")\n",
        "            break\n",
        "\n",
        "    # Printing the loss and accuracy for each epoch\n",
        "    print(f\"Epoch {epoch+1}/{num_epochs_pretrain}, Loss: {epoch_loss}, Validation Accuracy: {accuracy}\")\n",
        "\n",
        "# Saving the trained model\n",
        "BERT_Tuned_file = \"/content/drive/MyDrive/Colab Notebooks/bert_pretrained\"\n",
        "best_model.save_pretrained(BERT_Tuned_file)"
      ],
      "metadata": {
        "colab": {
          "base_uri": "https://localhost:8080/"
        },
        "id": "4L0TU675cVTn",
        "outputId": "543838cf-4bda-4890-cf4b-807a77b5c698"
      },
      "execution_count": null,
      "outputs": [
        {
          "output_type": "stream",
          "name": "stdout",
          "text": [
            "Epoch 1/3, Loss: 0.16461184686029445, Validation Accuracy: 0.9994730842082789\n",
            "Epoch 2/3, Loss: 0.0011593572791365053, Validation Accuracy: 0.9995126015550645\n",
            "Epoch 3/3, Loss: 0.0009702207408481627, Validation Accuracy: 0.9995493772239551\n"
          ]
        }
      ],
      "id": "4L0TU675cVTn"
    },
    {
      "cell_type": "code",
      "source": [
        "# Plotting epoch loss and validation accuracy graphs\n",
        "plt.figure(figsize=(10, 5))\n",
        "plt.subplot(1, 2, 1)\n",
        "num_epochs_pretrain = len(pre_train_losses)\n",
        "plt.plot(range(1, num_epochs_pretrain + 1), pre_train_losses, label='Train Loss', color='red')\n",
        "plt.xlabel('Epoch')\n",
        "plt.ylabel('Loss')\n",
        "plt.title('Epoch Loss')\n",
        "plt.legend()\n",
        "\n",
        "plt.subplot(1, 2, 2)\n",
        "plt.plot(range(1, num_epochs_pretrain + 1), pre_train_accuracies, label='Accuracy', color='green')\n",
        "plt.xlabel('Epoch')\n",
        "plt.ylabel('Accuracy')\n",
        "plt.title('Accuracy')\n",
        "plt.legend()\n",
        "\n",
        "save_path = \"/content/drive/MyDrive/Colab Notebooks/BBPre_Training_plot.png\"\n",
        "plt.savefig(save_path)\n",
        "\n",
        "plt.tight_layout()\n",
        "plt.show()"
      ],
      "metadata": {
        "id": "USDfgtRGHpPj",
        "colab": {
          "base_uri": "https://localhost:8080/",
          "height": 348
        },
        "outputId": "b70d1503-bd77-407c-e9f1-e01a994811db"
      },
      "id": "USDfgtRGHpPj",
      "execution_count": null,
      "outputs": [
        {
          "output_type": "display_data",
          "data": {
            "text/plain": [
              "<Figure size 1000x500 with 2 Axes>"
            ],
            "image/png": "[encoded data removed]"
          },
          "metadata": {}
        }
      ]
    },
    {
      "cell_type": "code",
      "source": [
        "from transformers import BertForSequenceClassification\n",
        "\n",
        "model = BertForSequenceClassification.from_pretrained(\"/content/drive/MyDrive/Colab Notebooks/bert_pretrained\", num_labels=2)"
      ],
      "metadata": {
        "colab": {
          "base_uri": "https://localhost:8080/"
        },
        "id": "Eh1I9JZ4Uf5v",
        "outputId": "f73ca9ca-fc3d-45a6-c93e-ffc4022218c4"
      },
      "id": "Eh1I9JZ4Uf5v",
      "execution_count": null,
      "outputs": [
        {
          "output_type": "stream",
          "name": "stderr",
          "text": [
            "Some weights of BertForSequenceClassification were not initialized from the model checkpoint at /content/drive/MyDrive/Colab Notebooks/bert_pretrained and are newly initialized: ['bert.pooler.dense.weight', 'bert.pooler.dense.bias', 'classifier.weight', 'classifier.bias']\n",
            "You should probably TRAIN this model on a down-stream task to be able to use it for predictions and inference.\n"
          ]
        }
      ]
    },
    {
      "cell_type": "code",
      "source": [
        "model.to(device)\n",
        "# declaring Hyperparameters\n",
        "batch_size = 32\n",
        "early_stopping_patience = 3\n",
        "epochs_without_improvement = 0\n",
        "num_cpu = 12\n",
        "num_epochs = 5\n",
        "best_accuracy = 0.0\n",
        "train_losses = []\n",
        "val_accuracies = []\n",
        "train_losses.clear()\n",
        "val_accuracies.clear()\n",
        "\n",
        "# optimizer\n",
        "optimizer = optim.Adam(model.parameters(), lr=2e-5)\n",
        "scheduler = CosineAnnealingLR(optimizer, T_max=num_epochs, eta_min=1e-6)\n",
        "\n",
        "# Creating data loaders\n",
        "train_dataloader = DataLoader(train_dataset, batch_size=batch_size, num_workers=num_cpu, pin_memory=True, shuffle=True)\n",
        "val_dataloader = DataLoader(val_dataset, batch_size=batch_size, num_workers=num_cpu, pin_memory=True, shuffle=False)\n",
        "\n",
        "for epoch in range(num_epochs):\n",
        "    running_loss = 0.0\n",
        "\n",
        "    # Training\n",
        "    model.train()\n",
        "    for inputs, attention_masks, labels in train_dataloader:\n",
        "        inputs = inputs.to(device)\n",
        "        attention_masks = attention_masks.to(device)\n",
        "        labels = labels.to(device)\n",
        "\n",
        "        optimizer.zero_grad()\n",
        "        outputs = model(inputs, attention_mask=attention_masks, labels =labels)\n",
        "\n",
        "        loss = outputs.loss\n",
        "        loss.backward()\n",
        "\n",
        "        optimizer.step()\n",
        "\n",
        "        running_loss += loss.item() * inputs.size(0)\n",
        "\n",
        "\n",
        "    # Calculate average loss for the epoch\n",
        "    epoch_loss = running_loss / len(train_dataset)\n",
        "    train_losses.append(epoch_loss)\n",
        "\n",
        "    scheduler.step()\n",
        "\n",
        "\n",
        "   # Validation\n",
        "    model.eval()  # Setting model to evaluation mode\n",
        "    correct_predictions = 0\n",
        "    total_predictions = 0\n",
        "\n",
        "    with torch.no_grad():\n",
        "        for inputs, attention_masks, labels in val_dataloader:\n",
        "            inputs = inputs.to(device)\n",
        "            attention_masks = attention_masks.to(device)\n",
        "            labels = labels.to(device)\n",
        "\n",
        "            # Get model's predictions\n",
        "            outputs = model(inputs, attention_mask=attention_masks)\n",
        "            predicted_labels = torch.argmax(outputs.logits, dim=1)\n",
        "\n",
        "            correct_predictions += (predicted_labels == labels).sum().item()\n",
        "            total_predictions += labels.size(0)\n",
        "\n",
        "    accuracy = correct_predictions / total_predictions\n",
        "    val_accuracies.append(accuracy)\n",
        "\n",
        "\n",
        "    if accuracy > best_accuracy:\n",
        "        best_accuracy = accuracy\n",
        "        epochs_without_improvement = 0\n",
        "        best_model_state = model.state_dict()\n",
        "    else:\n",
        "        epochs_without_improvement += 1\n",
        "        if epochs_without_improvement >= early_stopping_patience:\n",
        "            print(\"Early stopping triggered.\")\n",
        "            break\n",
        "\n",
        "    # Printing the loss and accuracy for each epoch\n",
        "    print(f\"Epoch {epoch+1}/{num_epochs}, Loss: {epoch_loss}, Validation Accuracy: {accuracy}\")\n",
        "\n",
        "# Saving the trained model\n",
        "BERT_Tuned_file = \"/content/drive/MyDrive/Colab Notebooks/BBPT.pt\"\n",
        "torch.save(best_model_state, BERT_Tuned_file)"
      ],
      "metadata": {
        "id": "AgcnOwKjUfnz",
        "colab": {
          "base_uri": "https://localhost:8080/"
        },
        "outputId": "f6cba12f-00ed-48ca-ff0f-d51c074ac4b1"
      },
      "id": "AgcnOwKjUfnz",
      "execution_count": null,
      "outputs": [
        {
          "output_type": "stream",
          "name": "stdout",
          "text": [
            "Epoch 1/5, Loss: 0.31055562959512073, Validation Accuracy: 0.9215282392026578\n",
            "Epoch 2/5, Loss: 0.13700937451322873, Validation Accuracy: 0.9285049833887044\n",
            "Epoch 3/5, Loss: 0.06287818431829413, Validation Accuracy: 0.926843853820598\n",
            "Epoch 4/5, Loss: 0.027129021782179675, Validation Accuracy: 0.9278405315614618\n",
            "Early stopping triggered.\n"
          ]
        }
      ]
    },
    {
      "cell_type": "code",
      "source": [
        "# Plotting epoch loss and validation accuracy graphs\n",
        "num_epochs = len(train_losses)\n",
        "plt.figure(figsize=(10, 5))\n",
        "plt.subplot(1, 2, 1)\n",
        "plt.plot(range(1, num_epochs + 1), train_losses, label='Train Loss', color='red')\n",
        "plt.xlabel('Epoch')\n",
        "plt.ylabel('Loss')\n",
        "plt.title('Epoch Loss')\n",
        "plt.legend()\n",
        "\n",
        "plt.subplot(1, 2, 2)\n",
        "plt.plot(range(1, num_epochs + 1), val_accuracies, label='Validation Accuracy', color='green')\n",
        "plt.xlabel('Epoch')\n",
        "plt.ylabel('Accuracy')\n",
        "plt.title('Validation Accuracy')\n",
        "plt.legend()\n",
        "\n",
        "save_path = \"/content/drive/MyDrive/Colab Notebooks/BBPT_plot.png\"\n",
        "plt.savefig(save_path)\n",
        "\n",
        "plt.tight_layout()\n",
        "plt.show()"
      ],
      "metadata": {
        "id": "2KZosjcoJTes",
        "colab": {
          "base_uri": "https://localhost:8080/",
          "height": 348
        },
        "outputId": "83cdc66b-19da-4776-e786-12714d62a306"
      },
      "execution_count": null,
      "outputs": [
        {
          "output_type": "display_data",
          "data": {
            "text/plain": [
              "<Figure size 1000x500 with 2 Axes>"
            ],
            "image/png": "[encoded data removed]"
          },
          "metadata": {}
        }
      ],
      "id": "2KZosjcoJTes"
    },
    {
      "cell_type": "code",
      "execution_count": null,
      "metadata": {
        "colab": {
          "base_uri": "https://localhost:8080/"
        },
        "outputId": "e12ceab1-36c4-49d4-9bae-f2d9aa7b2f2b",
        "id": "lK9YpspUJTet"
      },
      "outputs": [
        {
          "output_type": "execute_result",
          "data": {
            "text/plain": [
              "<All keys matched successfully>"
            ]
          },
          "metadata": {},
          "execution_count": 12
        }
      ],
      "source": [
        "# Loading trained model\n",
        "BERT_Tuned_file = \"/content/drive/MyDrive/Colab Notebooks/BBPT.pt\"\n",
        "model.load_state_dict(torch.load(BERT_Tuned_file))"
      ],
      "id": "lK9YpspUJTet"
    },
    {
      "cell_type": "code",
      "execution_count": null,
      "metadata": {
        "colab": {
          "base_uri": "https://localhost:8080/"
        },
        "outputId": "5650a0b9-1d7a-4e37-b171-7fdd75803b96",
        "id": "jqi7pyq7JTeu"
      },
      "outputs": [
        {
          "output_type": "stream",
          "name": "stdout",
          "text": [
            "Accuracy: 92.41%\n",
            "Classification Report:\n",
            "               precision    recall  f1-score   support\n",
            "\n",
            "    negative       0.92      0.92      0.92     10012\n",
            "    positive       0.92      0.92      0.92      9938\n",
            "\n",
            "    accuracy                           0.92     19950\n",
            "   macro avg       0.92      0.92      0.92     19950\n",
            "weighted avg       0.92      0.92      0.92     19950\n",
            "\n",
            "Confusion Matrix:\n",
            " [[9254  758]\n",
            " [ 756 9182]]\n"
          ]
        }
      ],
      "source": [
        "model.to(device)\n",
        "model.eval()\n",
        "\n",
        "# Creating dataloaders for test\n",
        "batch_size = 32\n",
        "num_cpu = 12\n",
        "\n",
        "test_dataloader = DataLoader(test_dataset, batch_size=batch_size, num_workers=num_cpu, pin_memory=True, shuffle=False)\n",
        "\n",
        "# Evaluating the model on the test set\n",
        "all_preds = []\n",
        "all_labels = []\n",
        "\n",
        "all_preds.clear()\n",
        "all_labels.clear()\n",
        "\n",
        "with torch.no_grad():\n",
        "        for inputs, attention_masks, labels in test_dataloader:\n",
        "            inputs = inputs.to(device)\n",
        "            attention_masks = attention_masks.to(device)\n",
        "            labels = labels.to(device)\n",
        "\n",
        "            outputs = model(inputs, attention_mask=attention_masks)\n",
        "            _, preds = torch.max(outputs.logits, dim=1)\n",
        "\n",
        "            all_preds.extend(preds.cpu().numpy())\n",
        "            all_labels.extend(labels.cpu().numpy())\n",
        "\n",
        "# Calculating evaluation metrics\n",
        "accuracy = accuracy_score(all_labels, all_preds) * 100\n",
        "\n",
        "class_names = [\"negative\", \"positive\"]\n",
        "class_report = classification_report(all_labels, all_preds, target_names=class_names)\n",
        "conf_matrix = confusion_matrix(all_labels, all_preds)\n",
        "\n",
        "print(f\"Accuracy: {accuracy:.2f}%\")\n",
        "print(\"Classification Report:\\n\", class_report)\n",
        "print(\"Confusion Matrix:\\n\", conf_matrix)"
      ],
      "id": "jqi7pyq7JTeu"
    },
    {
      "cell_type": "markdown",
      "source": [
        "# 3 Trying Distil BERT"
      ],
      "metadata": {
        "id": "ThJoyIrk2JOQ"
      },
      "id": "ThJoyIrk2JOQ"
    },
    {
      "cell_type": "code",
      "source": [
        "from transformers import DistilBertForSequenceClassification\n",
        "from torch.optim.lr_scheduler import CosineAnnealingLR\n",
        "import torch.nn.functional as F"
      ],
      "metadata": {
        "id": "qiMikE0OpzIK"
      },
      "id": "qiMikE0OpzIK",
      "execution_count": null,
      "outputs": []
    },
    {
      "cell_type": "code",
      "source": [
        "batch_size = 32\n",
        "early_stopping_patience = 3\n",
        "epochs_without_improvement = 0\n",
        "num_cpu = 12\n",
        "num_epochs = 5\n",
        "best_accuracy = 0.0\n",
        "temperature = 5.0\n",
        "train_losses = []\n",
        "val_accuracies = []\n",
        "train_losses.clear()\n",
        "val_accuracies.clear()\n",
        "loss_fn = nn.CrossEntropyLoss()\n",
        "\n",
        "# Initializing the BERT teacher model\n",
        "teacher_model = BertForSequenceClassification.from_pretrained('bert-base-uncased', num_labels = 2).to(device)\n",
        "teacher_model.eval()  # Setting to evaluation mode\n",
        "\n",
        "# Initializing the DistilBERT student model and tokenizer\n",
        "student_model = DistilBertForSequenceClassification.from_pretrained('distilbert-base-uncased', num_labels = 2).to(device)\n",
        "\n",
        "optimizer = optim.Adam(student_model.parameters(), lr=2e-5)\n",
        "scheduler = CosineAnnealingLR(optimizer, T_max=num_epochs, eta_min=1e-6)\n",
        "\n",
        "# Creating data loaders\n",
        "train_dataloader = DataLoader(train_dataset, batch_size=batch_size, num_workers=num_cpu, pin_memory=True, shuffle=True)\n",
        "val_dataloader = DataLoader(val_dataset, batch_size=batch_size, num_workers=num_cpu, pin_memory=True, shuffle=False)\n",
        "\n",
        "for epoch in range(num_epochs):\n",
        "    running_loss = 0.0\n",
        "    student_model.train()  # Setting to training mode\n",
        "\n",
        "    for inputs, attention_masks, labels in train_dataloader:\n",
        "        inputs = inputs.to(device)\n",
        "        attention_masks = attention_masks.to(device)\n",
        "        labels = labels.to(device)\n",
        "\n",
        "        with torch.no_grad():\n",
        "            teacher_outputs = teacher_model(inputs, attention_mask=attention_masks)\n",
        "            teacher_logits =  teacher_outputs.logits\n",
        "\n",
        "        student_outputs = student_model(inputs, attention_mask=attention_masks)\n",
        "        student_logits = student_outputs.logits\n",
        "\n",
        "        soft_loss = loss_fn((student_logits / temperature), (teacher_logits / temperature))\n",
        "        hard_loss = loss_fn(student_logits, labels)\n",
        "        loss = 0.75 * soft_loss + 0.25 * hard_loss\n",
        "\n",
        "        optimizer.zero_grad()\n",
        "        loss.backward()\n",
        "        optimizer.step()\n",
        "\n",
        "        running_loss += loss.item() * inputs.size(0)\n",
        "\n",
        "    # Calculate average loss for the epoch\n",
        "    epoch_loss = running_loss / len(train_dataset)\n",
        "    train_losses.append(epoch_loss)\n",
        "\n",
        "    scheduler.step()\n",
        "\n",
        "# Validation\n",
        "    student_model.eval()  # Setting model to evaluation mode\n",
        "    correct_predictions = 0\n",
        "    total_predictions = 0\n",
        "\n",
        "    with torch.no_grad():\n",
        "        for inputs, attention_masks, labels in val_dataloader:\n",
        "            inputs = inputs.to(device)\n",
        "            attention_masks = attention_masks.to(device)\n",
        "            labels = labels.to(device)\n",
        "\n",
        "            # Get model's predictions\n",
        "            student_outputs = student_model(inputs, attention_mask=attention_masks)\n",
        "            predicted_labels = torch.argmax(student_outputs.logits, dim=1)\n",
        "\n",
        "            correct_predictions += (predicted_labels == labels).sum().item()\n",
        "            total_predictions += labels.size(0)\n",
        "\n",
        "    accuracy = correct_predictions / total_predictions\n",
        "    val_accuracies.append(accuracy)\n",
        "\n",
        "\n",
        "    if accuracy > best_accuracy:\n",
        "        best_accuracy = accuracy\n",
        "        epochs_without_improvement = 0\n",
        "        best_model_state = student_model.state_dict()\n",
        "    else:\n",
        "        epochs_without_improvement += 1\n",
        "        if epochs_without_improvement >= early_stopping_patience:\n",
        "            print(\"Early stopping triggered.\")\n",
        "            break\n",
        "\n",
        "    # Printing the loss and accuracy for each epoch\n",
        "    print(f\"Epoch {epoch+1}/{num_epochs}, Loss: {epoch_loss}, Validation Accuracy: {accuracy}\")\n",
        "\n",
        "# Saving the trained model\n",
        "BERT_Tuned_file = \"/content/drive/MyDrive/Colab Notebooks/DB1-1.pt\"\n",
        "torch.save(best_model_state, BERT_Tuned_file)"
      ],
      "metadata": {
        "colab": {
          "base_uri": "https://localhost:8080/"
        },
        "outputId": "f5483d58-4789-4a0b-cf22-6b954cf7af28",
        "id": "iTFlOttX-iGZ"
      },
      "execution_count": null,
      "outputs": [
        {
          "output_type": "stream",
          "name": "stderr",
          "text": [
            "Some weights of BertForSequenceClassification were not initialized from the model checkpoint at bert-base-uncased and are newly initialized: ['classifier.bias', 'classifier.weight']\n",
            "You should probably TRAIN this model on a down-stream task to be able to use it for predictions and inference.\n",
            "Some weights of DistilBertForSequenceClassification were not initialized from the model checkpoint at distilbert-base-uncased and are newly initialized: ['classifier.bias', 'classifier.weight', 'pre_classifier.weight', 'pre_classifier.bias']\n",
            "You should probably TRAIN this model on a down-stream task to be able to use it for predictions and inference.\n"
          ]
        },
        {
          "output_type": "stream",
          "name": "stdout",
          "text": [
            "Epoch 1/5, Loss: 0.07682712168296178, Validation Accuracy: 0.9168106312292359\n",
            "Epoch 2/5, Loss: 0.04379948103527228, Validation Accuracy: 0.9145514950166113\n",
            "Epoch 3/5, Loss: 0.024498089819401502, Validation Accuracy: 0.9186046511627907\n",
            "Epoch 4/5, Loss: 0.01327551091015339, Validation Accuracy: 0.9182724252491694\n",
            "Epoch 5/5, Loss: 0.008310438812027376, Validation Accuracy: 0.9178073089700997\n"
          ]
        }
      ],
      "id": "iTFlOttX-iGZ"
    },
    {
      "cell_type": "code",
      "source": [
        "# Plotting epoch loss and validation accuracy graphs\n",
        "num_epochs = len(train_losses)\n",
        "plt.figure(figsize=(10, 5))\n",
        "plt.subplot(1, 2, 1)\n",
        "plt.plot(range(1, num_epochs + 1), train_losses, label='Train Loss', color='red')\n",
        "plt.xlabel('Epoch')\n",
        "plt.ylabel('Loss')\n",
        "plt.title('Epoch Loss')\n",
        "plt.legend()\n",
        "\n",
        "plt.subplot(1, 2, 2)\n",
        "plt.plot(range(1, num_epochs + 1), val_accuracies, label='Validation Accuracy', color='green')\n",
        "plt.xlabel('Epoch')\n",
        "plt.ylabel('Accuracy')\n",
        "plt.title('Validation Accuracy')\n",
        "plt.legend()\n",
        "\n",
        "save_path = \"/content/drive/MyDrive/Colab Notebooks/DB1-1_plot.png\"\n",
        "plt.savefig(save_path)\n",
        "\n",
        "plt.tight_layout()\n",
        "plt.show()"
      ],
      "metadata": {
        "colab": {
          "base_uri": "https://localhost:8080/",
          "height": 348
        },
        "outputId": "4601e58e-2173-4705-b548-b2f2773a9d24",
        "id": "bG1Zrr68-iGa"
      },
      "execution_count": null,
      "outputs": [
        {
          "output_type": "display_data",
          "data": {
            "text/plain": [
              "<Figure size 1000x500 with 2 Axes>"
            ],
            "image/png": "[encoded data removed]"
          },
          "metadata": {}
        }
      ],
      "id": "bG1Zrr68-iGa"
    },
    {
      "cell_type": "code",
      "execution_count": null,
      "metadata": {
        "id": "xoxrfbit-iGa"
      },
      "outputs": [],
      "source": [
        "# Loading trained model\n",
        "BERT_Tuned_file = \"/content/drive/MyDrive/Colab Notebooks/DB1-1.pt\"\n",
        "student_model.load_state_dict(torch.load(BERT_Tuned_file))"
      ],
      "id": "xoxrfbit-iGa"
    },
    {
      "cell_type": "code",
      "execution_count": null,
      "metadata": {
        "colab": {
          "base_uri": "https://localhost:8080/"
        },
        "id": "uXGlchfz-iGa",
        "outputId": "25743a3f-ee3e-4cb3-9f85-1a5a777d2cba"
      },
      "outputs": [
        {
          "output_type": "stream",
          "name": "stdout",
          "text": [
            "Accuracy: 91.78%\n",
            "Classification Report:\n",
            "               precision    recall  f1-score   support\n",
            "\n",
            "    negative       0.92      0.91      0.92     10012\n",
            "    positive       0.91      0.92      0.92      9938\n",
            "\n",
            "    accuracy                           0.92     19950\n",
            "   macro avg       0.92      0.92      0.92     19950\n",
            "weighted avg       0.92      0.92      0.92     19950\n",
            "\n",
            "Confusion Matrix:\n",
            " [[9132  880]\n",
            " [ 759 9179]]\n"
          ]
        }
      ],
      "source": [
        "student_model.to(device)\n",
        "student_model.eval()\n",
        "\n",
        "# Creating dataloaders for test\n",
        "batch_size = 32\n",
        "num_cpu = 12\n",
        "\n",
        "test_dataloader = DataLoader(test_dataset, batch_size=batch_size, num_workers=num_cpu, pin_memory=True, shuffle=False)\n",
        "\n",
        "# Evaluating the model on the test set\n",
        "all_preds = []\n",
        "all_labels = []\n",
        "\n",
        "all_preds.clear()\n",
        "all_labels.clear()\n",
        "\n",
        "with torch.no_grad():\n",
        "        for inputs, attention_masks, labels in test_dataloader:\n",
        "            inputs = inputs.to(device)\n",
        "            attention_masks = attention_masks.to(device)\n",
        "            labels = labels.to(device)\n",
        "\n",
        "            student_outputs = student_model(inputs, attention_mask=attention_masks)\n",
        "            _, preds = torch.max(student_outputs.logits, dim=1)\n",
        "\n",
        "            all_preds.extend(preds.cpu().numpy())\n",
        "            all_labels.extend(labels.cpu().numpy())\n",
        "\n",
        "# Calculating evaluation metrics\n",
        "accuracy = accuracy_score(all_labels, all_preds) * 100\n",
        "\n",
        "class_names = [\"negative\", \"positive\"]\n",
        "class_report = classification_report(all_labels, all_preds, target_names=class_names)\n",
        "conf_matrix = confusion_matrix(all_labels, all_preds)\n",
        "\n",
        "print(f\"Accuracy: {accuracy:.2f}%\")\n",
        "print(\"Classification Report:\\n\", class_report)\n",
        "print(\"Confusion Matrix:\\n\", conf_matrix)"
      ],
      "id": "uXGlchfz-iGa"
    },
    {
      "cell_type": "markdown",
      "source": [
        "# 3.1 Trying Distil BERT with Kullback-Leibler Loss function"
      ],
      "metadata": {
        "id": "wI9s2uSJNVIk"
      },
      "id": "wI9s2uSJNVIk"
    },
    {
      "cell_type": "code",
      "source": [
        "batch_size = 32\n",
        "early_stopping_patience = 3\n",
        "epochs_without_improvement = 0\n",
        "num_cpu = 12\n",
        "num_epochs = 5\n",
        "best_accuracy = 0.0\n",
        "temperature = 5.0\n",
        "train_losses = []\n",
        "val_accuracies = []\n",
        "train_losses.clear()\n",
        "val_accuracies.clear()\n",
        "loss_fn = nn.CrossEntropyLoss()\n",
        "\n",
        "# Initializing the BERT teacher model\n",
        "teacher_model = BertForSequenceClassification.from_pretrained('bert-base-uncased', num_labels = 2).to(device)\n",
        "teacher_model.eval()  # Setting to evaluation mode\n",
        "\n",
        "# Initializing the DistilBERT student model and tokenizer\n",
        "student_model = DistilBertForSequenceClassification.from_pretrained('distilbert-base-uncased', num_labels = 2).to(device)\n",
        "\n",
        "optimizer = optim.Adam(student_model.parameters(), lr=2e-5)\n",
        "scheduler = CosineAnnealingLR(optimizer, T_max=num_epochs, eta_min=1e-6)\n",
        "\n",
        "# Creating data loaders\n",
        "train_dataloader = DataLoader(train_dataset, batch_size=batch_size, num_workers=num_cpu, pin_memory=True, shuffle=True)\n",
        "val_dataloader = DataLoader(val_dataset, batch_size=batch_size, num_workers=num_cpu, pin_memory=True, shuffle=False)\n",
        "\n",
        "for epoch in range(num_epochs):\n",
        "    running_loss = 0.0\n",
        "    student_model.train()  # Setting to training mode\n",
        "\n",
        "    for inputs, attention_masks, labels in train_dataloader:\n",
        "        inputs = inputs.to(device)\n",
        "        attention_masks = attention_masks.to(device)\n",
        "        labels = labels.to(device)\n",
        "\n",
        "        with torch.no_grad():\n",
        "            teacher_outputs = teacher_model(inputs, attention_mask=attention_masks)\n",
        "            teacher_logits =  teacher_outputs.logits\n",
        "\n",
        "        student_outputs = student_model(inputs, attention_mask=attention_masks)\n",
        "        student_logits = student_outputs.logits\n",
        "\n",
        "        soft_loss = F.kl_div(F.log_softmax(student_logits / temperature, dim=1), F.softmax(teacher_logits / temperature, dim=1), reduction='batchmean')\n",
        "\n",
        "        hard_loss = loss_fn(student_logits, labels)\n",
        "        loss = 0.75 * soft_loss + 0.25 * hard_loss\n",
        "\n",
        "        optimizer.zero_grad()\n",
        "        loss.backward()\n",
        "        optimizer.step()\n",
        "\n",
        "        running_loss += loss.item() * inputs.size(0)\n",
        "\n",
        "    # Calculate average loss for the epoch\n",
        "    epoch_loss = running_loss / len(train_dataset)\n",
        "    train_losses.append(epoch_loss)\n",
        "\n",
        "    scheduler.step()\n",
        "\n",
        "# Validation\n",
        "    student_model.eval()  # Setting model to evaluation mode\n",
        "    correct_predictions = 0\n",
        "    total_predictions = 0\n",
        "\n",
        "    with torch.no_grad():\n",
        "        for inputs, attention_masks, labels in val_dataloader:\n",
        "            inputs = inputs.to(device)\n",
        "            attention_masks = attention_masks.to(device)\n",
        "            labels = labels.to(device)\n",
        "\n",
        "            # Get model's predictions\n",
        "            student_outputs = student_model(inputs, attention_mask=attention_masks)\n",
        "            predicted_labels = torch.argmax(student_outputs.logits, dim=1)\n",
        "\n",
        "            correct_predictions += (predicted_labels == labels).sum().item()\n",
        "            total_predictions += labels.size(0)\n",
        "\n",
        "    accuracy = correct_predictions / total_predictions\n",
        "    val_accuracies.append(accuracy)\n",
        "\n",
        "\n",
        "    if accuracy > best_accuracy:\n",
        "        best_accuracy = accuracy\n",
        "        epochs_without_improvement = 0\n",
        "        best_model_state = student_model.state_dict()\n",
        "    else:\n",
        "        epochs_without_improvement += 1\n",
        "        if epochs_without_improvement >= early_stopping_patience:\n",
        "            print(\"Early stopping triggered.\")\n",
        "            break\n",
        "\n",
        "    # Printing the loss and accuracy for each epoch\n",
        "    print(f\"Epoch {epoch+1}/{num_epochs}, Loss: {epoch_loss}, Validation Accuracy: {accuracy}\")\n",
        "\n",
        "# Saving the trained model\n",
        "BERT_Tuned_file = \"/content/drive/MyDrive/Colab Notebooks/DB2.pt\"\n",
        "torch.save(best_model_state, BERT_Tuned_file)"
      ],
      "metadata": {
        "colab": {
          "base_uri": "https://localhost:8080/"
        },
        "outputId": "54c1886b-1eb6-4ba2-f5dd-ecf05e3dc036",
        "id": "7XgxYkgGNVIl"
      },
      "execution_count": null,
      "outputs": [
        {
          "output_type": "stream",
          "name": "stderr",
          "text": [
            "Some weights of BertForSequenceClassification were not initialized from the model checkpoint at bert-base-uncased and are newly initialized: ['classifier.bias', 'classifier.weight']\n",
            "You should probably TRAIN this model on a down-stream task to be able to use it for predictions and inference.\n",
            "Some weights of DistilBertForSequenceClassification were not initialized from the model checkpoint at distilbert-base-uncased and are newly initialized: ['classifier.bias', 'classifier.weight', 'pre_classifier.weight', 'pre_classifier.bias']\n",
            "You should probably TRAIN this model on a down-stream task to be able to use it for predictions and inference.\n"
          ]
        },
        {
          "output_type": "stream",
          "name": "stdout",
          "text": [
            "Epoch 1/5, Loss: 0.09336680314938227, Validation Accuracy: 0.913953488372093\n",
            "Epoch 2/5, Loss: 0.06812902481953304, Validation Accuracy: 0.9133554817275747\n",
            "Epoch 3/5, Loss: 0.05699150208234787, Validation Accuracy: 0.9172093023255814\n",
            "Epoch 4/5, Loss: 0.05091104418039322, Validation Accuracy: 0.9182724252491694\n",
            "Epoch 5/5, Loss: 0.04849560304482778, Validation Accuracy: 0.9195348837209303\n"
          ]
        }
      ],
      "id": "7XgxYkgGNVIl"
    },
    {
      "cell_type": "code",
      "source": [
        "# Plotting epoch loss and validation accuracy graphs\n",
        "num_epochs = len(train_losses)\n",
        "plt.figure(figsize=(10, 5))\n",
        "plt.subplot(1, 2, 1)\n",
        "plt.plot(range(1, num_epochs + 1), train_losses, label='Train Loss', color='red')\n",
        "plt.xlabel('Epoch')\n",
        "plt.ylabel('Loss')\n",
        "plt.title('Epoch Loss')\n",
        "plt.legend()\n",
        "\n",
        "plt.subplot(1, 2, 2)\n",
        "plt.plot(range(1, num_epochs + 1), val_accuracies, label='Validation Accuracy', color='green')\n",
        "plt.xlabel('Epoch')\n",
        "plt.ylabel('Accuracy')\n",
        "plt.title('Validation Accuracy')\n",
        "plt.legend()\n",
        "\n",
        "save_path = \"/content/drive/MyDrive/Colab Notebooks/DB2_plot.png\"\n",
        "plt.savefig(save_path)\n",
        "\n",
        "plt.tight_layout()\n",
        "plt.show()"
      ],
      "metadata": {
        "colab": {
          "base_uri": "https://localhost:8080/",
          "height": 348
        },
        "id": "bZjyhyS8NVIl",
        "outputId": "4189c13d-9580-4ac8-a2a0-1af2c4e1d665"
      },
      "execution_count": null,
      "outputs": [
        {
          "output_type": "display_data",
          "data": {
            "text/plain": [
              "<Figure size 1000x500 with 2 Axes>"
            ],
            "image/png": "[encoded data removed]"
          },
          "metadata": {}
        }
      ],
      "id": "bZjyhyS8NVIl"
    },
    {
      "cell_type": "code",
      "execution_count": null,
      "metadata": {
        "id": "VlVkvb8SNVIm"
      },
      "outputs": [],
      "source": [
        "# Loading trained model\n",
        "BERT_Tuned_file = \"/content/drive/MyDrive/Colab Notebooks/DB2.pt\"\n",
        "student_model.load_state_dict(torch.load(BERT_Tuned_file))"
      ],
      "id": "VlVkvb8SNVIm"
    },
    {
      "cell_type": "code",
      "execution_count": null,
      "metadata": {
        "colab": {
          "base_uri": "https://localhost:8080/"
        },
        "outputId": "e4f97c1f-b7e4-4a09-e00a-17256d3aad2c",
        "id": "VyuWBkBXNVIm"
      },
      "outputs": [
        {
          "output_type": "stream",
          "name": "stdout",
          "text": [
            "Accuracy: 91.89%\n",
            "Classification Report:\n",
            "               precision    recall  f1-score   support\n",
            "\n",
            "    negative       0.92      0.91      0.92     10012\n",
            "    positive       0.91      0.93      0.92      9938\n",
            "\n",
            "    accuracy                           0.92     19950\n",
            "   macro avg       0.92      0.92      0.92     19950\n",
            "weighted avg       0.92      0.92      0.92     19950\n",
            "\n",
            "Confusion Matrix:\n",
            " [[9140  872]\n",
            " [ 745 9193]]\n"
          ]
        }
      ],
      "source": [
        "student_model.to(device)\n",
        "student_model.eval()\n",
        "\n",
        "# Creating dataloaders for test\n",
        "batch_size = 32\n",
        "num_cpu = 12\n",
        "\n",
        "test_dataloader = DataLoader(test_dataset, batch_size=batch_size, num_workers=num_cpu, pin_memory=True, shuffle=False)\n",
        "\n",
        "# Evaluating the model on the test set\n",
        "all_preds = []\n",
        "all_labels = []\n",
        "\n",
        "all_preds.clear()\n",
        "all_labels.clear()\n",
        "\n",
        "with torch.no_grad():\n",
        "        for inputs, attention_masks, labels in test_dataloader:\n",
        "            inputs = inputs.to(device)\n",
        "            attention_masks = attention_masks.to(device)\n",
        "            labels = labels.to(device)\n",
        "\n",
        "            student_outputs = student_model(inputs, attention_mask=attention_masks)\n",
        "            _, preds = torch.max(student_outputs.logits, dim=1)\n",
        "\n",
        "            all_preds.extend(preds.cpu().numpy())\n",
        "            all_labels.extend(labels.cpu().numpy())\n",
        "\n",
        "# Calculating evaluation metrics\n",
        "accuracy = accuracy_score(all_labels, all_preds) * 100\n",
        "\n",
        "class_names = [\"negative\", \"positive\"]\n",
        "class_report = classification_report(all_labels, all_preds, target_names=class_names)\n",
        "conf_matrix = confusion_matrix(all_labels, all_preds)\n",
        "\n",
        "print(f\"Accuracy: {accuracy:.2f}%\")\n",
        "print(\"Classification Report:\\n\", class_report)\n",
        "print(\"Confusion Matrix:\\n\", conf_matrix)"
      ],
      "id": "VyuWBkBXNVIm"
    },
    {
      "cell_type": "markdown",
      "source": [
        "# 3.1.1 Trying Distil BERT with Kullback-Leibler Loss function adjusting the weights"
      ],
      "metadata": {
        "id": "DI96ff5i2dK-"
      },
      "id": "DI96ff5i2dK-"
    },
    {
      "cell_type": "code",
      "source": [
        "batch_size = 32\n",
        "early_stopping_patience = 3\n",
        "epochs_without_improvement = 0\n",
        "num_cpu = 12\n",
        "num_epochs = 5\n",
        "best_accuracy = 0.0\n",
        "temperature = 5.0\n",
        "train_losses = []\n",
        "val_accuracies = []\n",
        "train_losses.clear()\n",
        "val_accuracies.clear()\n",
        "loss_fn = nn.CrossEntropyLoss()\n",
        "\n",
        "# Initializing the BERT teacher model\n",
        "teacher_model = BertForSequenceClassification.from_pretrained('bert-base-uncased', num_labels = 2).to(device)\n",
        "teacher_model.eval()  # Setting to evaluation mode\n",
        "\n",
        "# Initializing the DistilBERT student model and tokenizer\n",
        "student_model = DistilBertForSequenceClassification.from_pretrained('distilbert-base-uncased', num_labels = 2).to(device)\n",
        "\n",
        "optimizer = optim.Adam(student_model.parameters(), lr=2e-5)\n",
        "scheduler = CosineAnnealingLR(optimizer, T_max=num_epochs, eta_min=1e-6)\n",
        "\n",
        "# Creating data loaders\n",
        "train_dataloader = DataLoader(train_dataset, batch_size=batch_size, num_workers=num_cpu, pin_memory=True, shuffle=True)\n",
        "val_dataloader = DataLoader(val_dataset, batch_size=batch_size, num_workers=num_cpu, pin_memory=True, shuffle=False)\n",
        "\n",
        "for epoch in range(num_epochs):\n",
        "    running_loss = 0.0\n",
        "    student_model.train()  # Setting to training mode\n",
        "\n",
        "    for inputs, attention_masks, labels in train_dataloader:\n",
        "        inputs = inputs.to(device)\n",
        "        attention_masks = attention_masks.to(device)\n",
        "        labels = labels.to(device)\n",
        "\n",
        "        with torch.no_grad():\n",
        "            teacher_outputs = teacher_model(inputs, attention_mask=attention_masks)\n",
        "            teacher_logits =  teacher_outputs.logits\n",
        "\n",
        "        student_outputs = student_model(inputs, attention_mask=attention_masks)\n",
        "        student_logits = student_outputs.logits\n",
        "\n",
        "        soft_loss = F.kl_div(F.log_softmax(student_logits / temperature, dim=1), F.softmax(teacher_logits / temperature, dim=1), reduction='batchmean')\n",
        "\n",
        "        hard_loss = loss_fn(student_logits, labels)\n",
        "        loss = 0.95 * soft_loss + 0.05 * hard_loss\n",
        "\n",
        "        optimizer.zero_grad()\n",
        "        loss.backward()\n",
        "        optimizer.step()\n",
        "\n",
        "        running_loss += loss.item() * inputs.size(0)\n",
        "\n",
        "    # Calculate average loss for the epoch\n",
        "    epoch_loss = running_loss / len(train_dataset)\n",
        "    train_losses.append(epoch_loss)\n",
        "\n",
        "    scheduler.step()\n",
        "\n",
        "# Validation\n",
        "    student_model.eval()  # Setting model to evaluation mode\n",
        "    correct_predictions = 0\n",
        "    total_predictions = 0\n",
        "\n",
        "    with torch.no_grad():\n",
        "        for inputs, attention_masks, labels in val_dataloader:\n",
        "            inputs = inputs.to(device)\n",
        "            attention_masks = attention_masks.to(device)\n",
        "            labels = labels.to(device)\n",
        "\n",
        "            # Get model's predictions\n",
        "            student_outputs = student_model(inputs, attention_mask=attention_masks)\n",
        "            predicted_labels = torch.argmax(student_outputs.logits, dim=1)\n",
        "\n",
        "            correct_predictions += (predicted_labels == labels).sum().item()\n",
        "            total_predictions += labels.size(0)\n",
        "\n",
        "    accuracy = correct_predictions / total_predictions\n",
        "    val_accuracies.append(accuracy)\n",
        "\n",
        "\n",
        "    if accuracy > best_accuracy:\n",
        "        best_accuracy = accuracy\n",
        "        epochs_without_improvement = 0\n",
        "        best_model_state = student_model.state_dict()\n",
        "    else:\n",
        "        epochs_without_improvement += 1\n",
        "        if epochs_without_improvement >= early_stopping_patience:\n",
        "            print(\"Early stopping triggered.\")\n",
        "            break\n",
        "\n",
        "    # Printing the loss and accuracy for each epoch\n",
        "    print(f\"Epoch {epoch+1}/{num_epochs}, Loss: {epoch_loss}, Validation Accuracy: {accuracy}\")\n",
        "\n",
        "# Saving the trained model\n",
        "BERT_Tuned_file = \"/content/drive/MyDrive/Colab Notebooks/DB2-1.pt\"\n",
        "torch.save(best_model_state, BERT_Tuned_file)"
      ],
      "metadata": {
        "id": "gukGmlGL2abm",
        "colab": {
          "base_uri": "https://localhost:8080/"
        },
        "outputId": "266ca0b5-3e6d-45b6-968d-e500b3820f8d"
      },
      "execution_count": null,
      "outputs": [
        {
          "output_type": "stream",
          "name": "stderr",
          "text": [
            "Some weights of BertForSequenceClassification were not initialized from the model checkpoint at bert-base-uncased and are newly initialized: ['classifier.bias', 'classifier.weight']\n",
            "You should probably TRAIN this model on a down-stream task to be able to use it for predictions and inference.\n",
            "Some weights of DistilBertForSequenceClassification were not initialized from the model checkpoint at distilbert-base-uncased and are newly initialized: ['classifier.bias', 'classifier.weight', 'pre_classifier.weight', 'pre_classifier.bias']\n",
            "You should probably TRAIN this model on a down-stream task to be able to use it for predictions and inference.\n"
          ]
        },
        {
          "output_type": "stream",
          "name": "stdout",
          "text": [
            "Epoch 1/5, Loss: 0.025729692857464154, Validation Accuracy: 0.8864451827242525\n",
            "Epoch 2/5, Loss: 0.023247328745325407, Validation Accuracy: 0.9151495016611295\n",
            "Epoch 3/5, Loss: 0.021918411765495936, Validation Accuracy: 0.9104983388704319\n",
            "Epoch 4/5, Loss: 0.02127955854535103, Validation Accuracy: 0.919468438538206\n",
            "Epoch 5/5, Loss: 0.02102666530609131, Validation Accuracy: 0.9190697674418604\n"
          ]
        }
      ],
      "id": "gukGmlGL2abm"
    },
    {
      "cell_type": "code",
      "source": [
        "# Plotting epoch loss and validation accuracy graphs\n",
        "num_epochs = len(train_losses)\n",
        "plt.figure(figsize=(10, 5))\n",
        "plt.subplot(1, 2, 1)\n",
        "plt.plot(range(1, num_epochs + 1), train_losses, label='Train Loss', color='red')\n",
        "plt.xlabel('Epoch')\n",
        "plt.ylabel('Loss')\n",
        "plt.title('Epoch Loss')\n",
        "plt.legend()\n",
        "\n",
        "plt.subplot(1, 2, 2)\n",
        "plt.plot(range(1, num_epochs + 1), val_accuracies, label='Validation Accuracy', color='green')\n",
        "plt.xlabel('Epoch')\n",
        "plt.ylabel('Accuracy')\n",
        "plt.title('Validation Accuracy')\n",
        "plt.legend()\n",
        "\n",
        "save_path = \"/content/drive/MyDrive/Colab Notebooks/DB2-1_plot.png\"\n",
        "plt.savefig(save_path)\n",
        "\n",
        "plt.tight_layout()\n",
        "plt.show()"
      ],
      "metadata": {
        "id": "v5cTS1AT2abo",
        "colab": {
          "base_uri": "https://localhost:8080/",
          "height": 348
        },
        "outputId": "2375af6d-e387-43be-b82d-ae2ee7cd58a2"
      },
      "execution_count": null,
      "outputs": [
        {
          "output_type": "display_data",
          "data": {
            "text/plain": [
              "<Figure size 1000x500 with 2 Axes>"
            ],
            "image/png": "[encoded data removed]"
          },
          "metadata": {}
        }
      ],
      "id": "v5cTS1AT2abo"
    },
    {
      "cell_type": "code",
      "execution_count": null,
      "metadata": {
        "id": "AXejLQkh2abq"
      },
      "outputs": [],
      "source": [
        "# Loading trained model\n",
        "BERT_Tuned_file = \"/content/drive/MyDrive/Colab Notebooks/DB2-1.pt\"\n",
        "student_model.load_state_dict(torch.load(BERT_Tuned_file))"
      ],
      "id": "AXejLQkh2abq"
    },
    {
      "cell_type": "code",
      "execution_count": null,
      "metadata": {
        "colab": {
          "base_uri": "https://localhost:8080/"
        },
        "outputId": "6881ab8c-e092-4eb2-da2b-7cadde3cecee",
        "id": "RY1HWfx02abs"
      },
      "outputs": [
        {
          "output_type": "stream",
          "name": "stdout",
          "text": [
            "Accuracy: 91.83%\n",
            "Classification Report:\n",
            "               precision    recall  f1-score   support\n",
            "\n",
            "    negative       0.92      0.91      0.92     10012\n",
            "    positive       0.91      0.92      0.92      9938\n",
            "\n",
            "    accuracy                           0.92     19950\n",
            "   macro avg       0.92      0.92      0.92     19950\n",
            "weighted avg       0.92      0.92      0.92     19950\n",
            "\n",
            "Confusion Matrix:\n",
            " [[9155  857]\n",
            " [ 773 9165]]\n"
          ]
        }
      ],
      "source": [
        "student_model.to(device)\n",
        "student_model.eval()\n",
        "\n",
        "# Creating dataloaders for test\n",
        "batch_size = 32\n",
        "num_cpu = 12\n",
        "\n",
        "test_dataloader = DataLoader(test_dataset, batch_size=batch_size, num_workers=num_cpu, pin_memory=True, shuffle=False)\n",
        "\n",
        "# Evaluating the model on the test set\n",
        "all_preds = []\n",
        "all_labels = []\n",
        "\n",
        "all_preds.clear()\n",
        "all_labels.clear()\n",
        "\n",
        "with torch.no_grad():\n",
        "        for inputs, attention_masks, labels in test_dataloader:\n",
        "            inputs = inputs.to(device)\n",
        "            attention_masks = attention_masks.to(device)\n",
        "            labels = labels.to(device)\n",
        "\n",
        "            student_outputs = student_model(inputs, attention_mask=attention_masks)\n",
        "            _, preds = torch.max(student_outputs.logits, dim=1)\n",
        "\n",
        "            all_preds.extend(preds.cpu().numpy())\n",
        "            all_labels.extend(labels.cpu().numpy())\n",
        "\n",
        "# Calculating evaluation metrics\n",
        "accuracy = accuracy_score(all_labels, all_preds) * 100\n",
        "\n",
        "class_names = [\"negative\", \"positive\"]\n",
        "class_report = classification_report(all_labels, all_preds, target_names=class_names)\n",
        "conf_matrix = confusion_matrix(all_labels, all_preds)\n",
        "\n",
        "print(f\"Accuracy: {accuracy:.2f}%\")\n",
        "print(\"Classification Report:\\n\", class_report)\n",
        "print(\"Confusion Matrix:\\n\", conf_matrix)"
      ],
      "id": "RY1HWfx02abs"
    },
    {
      "cell_type": "markdown",
      "source": [
        "# 4. Gradient Clipping Technique"
      ],
      "metadata": {
        "id": "4nZSjcEr1uHR"
      },
      "id": "4nZSjcEr1uHR"
    },
    {
      "cell_type": "code",
      "source": [
        "from torch.optim.lr_scheduler import LambdaLR"
      ],
      "metadata": {
        "id": "cC552IE4Vs7R"
      },
      "execution_count": null,
      "outputs": [],
      "id": "cC552IE4Vs7R"
    },
    {
      "cell_type": "code",
      "source": [
        "model = BertForSequenceClassification.from_pretrained('bert-base-uncased', num_labels=2).to(device)\n",
        "\n",
        "# declaring Hyperparameters\n",
        "batch_size = 32\n",
        "early_stopping_patience = 3\n",
        "epochs_without_improvement = 0\n",
        "num_cpu = 12\n",
        "num_epochs = 5\n",
        "best_accuracy = 0.0\n",
        "train_losses = []\n",
        "val_accuracies = []\n",
        "train_losses.clear()\n",
        "val_accuracies.clear()\n",
        "\n",
        "# optimizer\n",
        "optimizer = optim.Adam(model.parameters(), lr=2e-5)\n",
        "lambda_lr = lambda epoch: 0.90 ** epoch\n",
        "scheduler = LambdaLR(optimizer, lr_lambda=lambda_lr)\n",
        "\n",
        "\n",
        "# Creating data loaders\n",
        "train_dataloader = DataLoader(train_dataset, batch_size=batch_size, num_workers=num_cpu, pin_memory=True, shuffle=True)\n",
        "val_dataloader = DataLoader(val_dataset, batch_size=batch_size, num_workers=num_cpu, pin_memory=True, shuffle=False)\n",
        "\n",
        "for epoch in range(num_epochs):\n",
        "    running_loss = 0.0\n",
        "\n",
        "    # Training\n",
        "    model.train()\n",
        "    for inputs, attention_masks, labels in train_dataloader:\n",
        "        inputs = inputs.to(device)\n",
        "        attention_masks = attention_masks.to(device)\n",
        "        labels = labels.to(device)\n",
        "\n",
        "        optimizer.zero_grad()\n",
        "        outputs = model(inputs, attention_mask=attention_masks,labels =labels)\n",
        "\n",
        "        loss = outputs.loss\n",
        "\n",
        "        loss.backward()\n",
        "\n",
        "        # Gradient clipping\n",
        "        torch.nn.utils.clip_grad_norm_(model.parameters(), 1.0)\n",
        "\n",
        "        optimizer.step()\n",
        "\n",
        "        running_loss += loss.item() * inputs.size(0)\n",
        "\n",
        "\n",
        "    # Calculate average loss for the epoch\n",
        "    epoch_loss = running_loss / len(train_dataset)\n",
        "    train_losses.append(epoch_loss)\n",
        "\n",
        "    scheduler.step()\n",
        "\n",
        "\n",
        "   # Validation\n",
        "    model.eval()  # Setting model to evaluation mode\n",
        "    correct_predictions = 0\n",
        "    total_predictions = 0\n",
        "\n",
        "    with torch.no_grad():\n",
        "        for inputs, attention_masks, labels in val_dataloader:\n",
        "            inputs = inputs.to(device)\n",
        "            attention_masks = attention_masks.to(device)\n",
        "            labels = labels.to(device)\n",
        "\n",
        "            # Get model's predictions\n",
        "            outputs = model(inputs, attention_mask=attention_masks)\n",
        "            predicted_labels = torch.argmax(outputs.logits, dim=1)\n",
        "\n",
        "            correct_predictions += (predicted_labels == labels).sum().item()\n",
        "            total_predictions += labels.size(0)\n",
        "\n",
        "    accuracy = correct_predictions / total_predictions\n",
        "    val_accuracies.append(accuracy)\n",
        "\n",
        "\n",
        "    if accuracy > best_accuracy:\n",
        "        best_accuracy = accuracy\n",
        "        epochs_without_improvement = 0\n",
        "        best_model_state = model.state_dict()\n",
        "    else:\n",
        "        epochs_without_improvement += 1\n",
        "        if epochs_without_improvement >= early_stopping_patience:\n",
        "            print(\"Early stopping triggered.\")\n",
        "            break\n",
        "\n",
        "    # Printing the loss and accuracy for each epoch\n",
        "    print(f\"Epoch {epoch+1}/{num_epochs}, Loss: {epoch_loss}, Validation Accuracy: {accuracy}\")\n",
        "\n",
        "# Saving the trained model\n",
        "BERT_Tuned_file = \"/content/drive/MyDrive/Colab Notebooks/BBGC.pt\"\n",
        "torch.save(best_model_state, BERT_Tuned_file)"
      ],
      "metadata": {
        "colab": {
          "base_uri": "https://localhost:8080/"
        },
        "id": "8d_1UvGQ1uHR",
        "outputId": "e3194c12-c5ff-43f4-c211-ae5008f77cf4"
      },
      "execution_count": null,
      "outputs": [
        {
          "output_type": "stream",
          "name": "stderr",
          "text": [
            "Some weights of BertForSequenceClassification were not initialized from the model checkpoint at bert-base-uncased and are newly initialized: ['classifier.weight', 'classifier.bias']\n",
            "You should probably TRAIN this model on a down-stream task to be able to use it for predictions and inference.\n"
          ]
        },
        {
          "output_type": "stream",
          "name": "stdout",
          "text": [
            "Epoch 1/5, Loss: 0.2726807434161504, Validation Accuracy: 0.9217940199335548\n",
            "Epoch 2/5, Loss: 0.14087557433048883, Validation Accuracy: 0.9289700996677741\n",
            "Epoch 3/5, Loss: 0.08128276056051255, Validation Accuracy: 0.9296345514950166\n",
            "Epoch 4/5, Loss: 0.04775056019922098, Validation Accuracy: 0.9300996677740864\n",
            "Epoch 5/5, Loss: 0.02886162898267309, Validation Accuracy: 0.9178737541528239\n"
          ]
        }
      ],
      "id": "8d_1UvGQ1uHR"
    },
    {
      "cell_type": "code",
      "source": [
        "# Plotting epoch loss and validation accuracy graphs\n",
        "num_epochs = len(train_losses)\n",
        "plt.figure(figsize=(10, 5))\n",
        "plt.subplot(1, 2, 1)\n",
        "plt.plot(range(1, num_epochs + 1), train_losses, label='Train Loss', color='red')\n",
        "plt.xlabel('Epoch')\n",
        "plt.ylabel('Loss')\n",
        "plt.title('Epoch Loss')\n",
        "plt.legend()\n",
        "\n",
        "plt.subplot(1, 2, 2)\n",
        "plt.plot(range(1, num_epochs + 1), val_accuracies, label='Validation Accuracy', color='green')\n",
        "plt.xlabel('Epoch')\n",
        "plt.ylabel('Accuracy')\n",
        "plt.title('Validation Accuracy')\n",
        "plt.legend()\n",
        "\n",
        "save_path = \"/content/drive/MyDrive/Colab Notebooks/BBGC_plot.png\"\n",
        "plt.savefig(save_path)\n",
        "\n",
        "plt.tight_layout()\n",
        "plt.show()"
      ],
      "metadata": {
        "colab": {
          "base_uri": "https://localhost:8080/",
          "height": 348
        },
        "id": "WqsXQFT41uHS",
        "outputId": "d8299382-9725-46d2-a9b4-5ead82559c48"
      },
      "execution_count": null,
      "outputs": [
        {
          "output_type": "display_data",
          "data": {
            "text/plain": [
              "<Figure size 1000x500 with 2 Axes>"
            ],
            "image/png": "[encoded data removed]"
          },
          "metadata": {}
        }
      ],
      "id": "WqsXQFT41uHS"
    },
    {
      "cell_type": "code",
      "execution_count": null,
      "metadata": {
        "id": "nCGPCHcs1uHS"
      },
      "outputs": [],
      "source": [
        "# Loading trained model\n",
        "BERT_Tuned_file = \"/content/drive/MyDrive/Colab Notebooks/BBGC.pt\"\n",
        "model.load_state_dict(torch.load(BERT_Tuned_file))"
      ],
      "id": "nCGPCHcs1uHS"
    },
    {
      "cell_type": "code",
      "execution_count": null,
      "metadata": {
        "colab": {
          "base_uri": "https://localhost:8080/"
        },
        "outputId": "d4e79107-eecc-4591-fe26-5c691c648750",
        "id": "gR_q7DEM1uHS"
      },
      "outputs": [
        {
          "output_type": "stream",
          "name": "stdout",
          "text": [
            "Accuracy: 91.81%\n",
            "Classification Report:\n",
            "               precision    recall  f1-score   support\n",
            "\n",
            "    negative       0.88      0.96      0.92     10012\n",
            "    positive       0.96      0.87      0.91      9938\n",
            "\n",
            "    accuracy                           0.92     19950\n",
            "   macro avg       0.92      0.92      0.92     19950\n",
            "weighted avg       0.92      0.92      0.92     19950\n",
            "\n",
            "Confusion Matrix:\n",
            " [[9632  380]\n",
            " [1253 8685]]\n"
          ]
        }
      ],
      "source": [
        "model.to(device)\n",
        "model.eval()\n",
        "\n",
        "# Creating dataloaders for test\n",
        "batch_size = 32\n",
        "num_cpu = 12\n",
        "\n",
        "test_dataloader = DataLoader(test_dataset, batch_size=batch_size, num_workers=num_cpu, pin_memory=True, shuffle=False)\n",
        "\n",
        "# Evaluating the model on the test set\n",
        "all_preds = []\n",
        "all_labels = []\n",
        "\n",
        "all_preds.clear()\n",
        "all_labels.clear()\n",
        "\n",
        "with torch.no_grad():\n",
        "        for inputs, attention_masks, labels in test_dataloader:\n",
        "            inputs = inputs.to(device)\n",
        "            attention_masks = attention_masks.to(device)\n",
        "            labels = labels.to(device)\n",
        "\n",
        "            outputs = model(inputs, attention_mask=attention_masks)\n",
        "            _, preds = torch.max(outputs.logits, dim=1)\n",
        "\n",
        "            all_preds.extend(preds.cpu().numpy())\n",
        "            all_labels.extend(labels.cpu().numpy())\n",
        "\n",
        "# Calculating evaluation metrics\n",
        "accuracy = accuracy_score(all_labels, all_preds) * 100\n",
        "\n",
        "class_names = [\"negative\", \"positive\"]\n",
        "class_report = classification_report(all_labels, all_preds, target_names=class_names)\n",
        "conf_matrix = confusion_matrix(all_labels, all_preds)\n",
        "\n",
        "print(f\"Accuracy: {accuracy:.2f}%\")\n",
        "print(\"Classification Report:\\n\", class_report)\n",
        "print(\"Confusion Matrix:\\n\", conf_matrix)"
      ],
      "id": "gR_q7DEM1uHS"
    },
    {
      "cell_type": "markdown",
      "source": [
        "# 4.1 Reducing Gradient Clipping"
      ],
      "metadata": {
        "id": "US3Se5La1uHS"
      },
      "id": "US3Se5La1uHS"
    },
    {
      "cell_type": "code",
      "source": [
        "model = BertForSequenceClassification.from_pretrained('bert-base-uncased', num_labels=2).to(device)\n",
        "\n",
        "# declaring Hyperparameters\n",
        "batch_size = 32\n",
        "early_stopping_patience = 3\n",
        "epochs_without_improvement = 0\n",
        "num_cpu = 12\n",
        "num_epochs = 5\n",
        "best_accuracy = 0.0\n",
        "train_losses = []\n",
        "val_accuracies = []\n",
        "train_losses.clear()\n",
        "val_accuracies.clear()\n",
        "\n",
        "# optimizer\n",
        "optimizer = optim.Adam(model.parameters(), lr=2e-5)\n",
        "lambda_lr = lambda epoch: 0.90 ** epoch\n",
        "scheduler = LambdaLR(optimizer, lr_lambda=lambda_lr)\n",
        "\n",
        "\n",
        "# Creating data loaders\n",
        "train_dataloader = DataLoader(train_dataset, batch_size=batch_size, num_workers=num_cpu, pin_memory=True, shuffle=True)\n",
        "val_dataloader = DataLoader(val_dataset, batch_size=batch_size, num_workers=num_cpu, pin_memory=True, shuffle=False)\n",
        "\n",
        "for epoch in range(num_epochs):\n",
        "    running_loss = 0.0\n",
        "\n",
        "    # Training\n",
        "    model.train()\n",
        "    for inputs, attention_masks, labels in train_dataloader:\n",
        "        inputs = inputs.to(device)\n",
        "        attention_masks = attention_masks.to(device)\n",
        "        labels = labels.to(device)\n",
        "\n",
        "        optimizer.zero_grad()\n",
        "        outputs = model(inputs, attention_mask=attention_masks, labels = labels)\n",
        "\n",
        "        loss = outputs.loss\n",
        "\n",
        "        loss.backward()\n",
        "\n",
        "        # Gradient clipping\n",
        "        torch.nn.utils.clip_grad_norm_(model.parameters(), 0.7)\n",
        "\n",
        "        optimizer.step()\n",
        "\n",
        "        running_loss += loss.item() * inputs.size(0)\n",
        "\n",
        "\n",
        "    # Calculate average loss for the epoch\n",
        "    epoch_loss = running_loss / len(train_dataset)\n",
        "    train_losses.append(epoch_loss)\n",
        "\n",
        "    scheduler.step()\n",
        "\n",
        "\n",
        "   # Validation\n",
        "    model.eval()  # Setting model to evaluation mode\n",
        "    correct_predictions = 0\n",
        "    total_predictions = 0\n",
        "\n",
        "    with torch.no_grad():\n",
        "        for inputs, attention_masks, labels in val_dataloader:\n",
        "            inputs = inputs.to(device)\n",
        "            attention_masks = attention_masks.to(device)\n",
        "            labels = labels.to(device)\n",
        "\n",
        "            # Get model's predictions\n",
        "            outputs = model(inputs, attention_mask=attention_masks)\n",
        "            predicted_labels = torch.argmax(outputs.logits, dim=1)\n",
        "\n",
        "            correct_predictions += (predicted_labels == labels).sum().item()\n",
        "            total_predictions += labels.size(0)\n",
        "\n",
        "    accuracy = correct_predictions / total_predictions\n",
        "    val_accuracies.append(accuracy)\n",
        "\n",
        "\n",
        "    if accuracy > best_accuracy:\n",
        "        best_accuracy = accuracy\n",
        "        epochs_without_improvement = 0\n",
        "        best_model_state = model.state_dict()\n",
        "    else:\n",
        "        epochs_without_improvement += 1\n",
        "        if epochs_without_improvement >= early_stopping_patience:\n",
        "            print(\"Early stopping triggered.\")\n",
        "            break\n",
        "\n",
        "    # Printing the loss and accuracy for each epoch\n",
        "    print(f\"Epoch {epoch+1}/{num_epochs}, Loss: {epoch_loss}, Validation Accuracy: {accuracy}\")\n",
        "\n",
        "# Saving the trained model\n",
        "BERT_Tuned_file = \"/content/drive/MyDrive/Colab Notebooks/BBGC1.pt\"\n",
        "torch.save(best_model_state, BERT_Tuned_file)"
      ],
      "metadata": {
        "colab": {
          "base_uri": "https://localhost:8080/"
        },
        "id": "xDiO_DNU1uHS",
        "outputId": "1784e6c0-3a3c-491e-fd2e-957e741144fe"
      },
      "execution_count": null,
      "outputs": [
        {
          "output_type": "stream",
          "name": "stderr",
          "text": [
            "Some weights of BertForSequenceClassification were not initialized from the model checkpoint at bert-base-uncased and are newly initialized: ['classifier.weight', 'classifier.bias']\n",
            "You should probably TRAIN this model on a down-stream task to be able to use it for predictions and inference.\n"
          ]
        },
        {
          "output_type": "stream",
          "name": "stdout",
          "text": [
            "Epoch 1/5, Loss: 0.2828793835322062, Validation Accuracy: 0.92\n",
            "Epoch 2/5, Loss: 0.14921502476533255, Validation Accuracy: 0.9217275747508306\n",
            "Epoch 3/5, Loss: 0.08871156468143065, Validation Accuracy: 0.9267109634551495\n",
            "Epoch 4/5, Loss: 0.05736571402847767, Validation Accuracy: 0.9246511627906977\n",
            "Epoch 5/5, Loss: 0.035739976880823573, Validation Accuracy: 0.9285714285714286\n"
          ]
        }
      ],
      "id": "xDiO_DNU1uHS"
    },
    {
      "cell_type": "code",
      "source": [
        "# Plotting epoch loss and validation accuracy graphs\n",
        "num_epochs = len(train_losses)\n",
        "plt.figure(figsize=(10, 5))\n",
        "plt.subplot(1, 2, 1)\n",
        "plt.plot(range(1, num_epochs + 1), train_losses, label='Train Loss', color='red')\n",
        "plt.xlabel('Epoch')\n",
        "plt.ylabel('Loss')\n",
        "plt.title('Epoch Loss')\n",
        "plt.legend()\n",
        "\n",
        "plt.subplot(1, 2, 2)\n",
        "plt.plot(range(1, num_epochs + 1), val_accuracies, label='Validation Accuracy', color='green')\n",
        "plt.xlabel('Epoch')\n",
        "plt.ylabel('Accuracy')\n",
        "plt.title('Validation Accuracy')\n",
        "plt.legend()\n",
        "\n",
        "save_path = \"/content/drive/MyDrive/Colab Notebooks/BBGC1_plot.png\"\n",
        "plt.savefig(save_path)\n",
        "\n",
        "plt.tight_layout()\n",
        "plt.show()"
      ],
      "metadata": {
        "colab": {
          "base_uri": "https://localhost:8080/",
          "height": 348
        },
        "id": "YE9wr0Y21uHS",
        "outputId": "0b8dd94d-f108-4a42-859e-132fda6b687e"
      },
      "execution_count": null,
      "outputs": [
        {
          "output_type": "display_data",
          "data": {
            "text/plain": [
              "<Figure size 1000x500 with 2 Axes>"
            ],
            "image/png": "[encoded data removed]"
          },
          "metadata": {}
        }
      ],
      "id": "YE9wr0Y21uHS"
    },
    {
      "cell_type": "code",
      "execution_count": null,
      "metadata": {
        "id": "BaqEFA181uHT"
      },
      "outputs": [],
      "source": [
        "# Loading trained model\n",
        "BERT_Tuned_file = \"/content/drive/MyDrive/Colab Notebooks/BBGC1.pt\"\n",
        "model.load_state_dict(torch.load(BERT_Tuned_file))"
      ],
      "id": "BaqEFA181uHT"
    },
    {
      "cell_type": "code",
      "execution_count": null,
      "metadata": {
        "colab": {
          "base_uri": "https://localhost:8080/"
        },
        "outputId": "6fa9c196-8b69-432f-8de6-b901c5339c9a",
        "id": "TqOtwscD1uHT"
      },
      "outputs": [
        {
          "output_type": "stream",
          "name": "stdout",
          "text": [
            "Accuracy: 92.63%\n",
            "Classification Report:\n",
            "               precision    recall  f1-score   support\n",
            "\n",
            "    negative       0.94      0.91      0.93     10012\n",
            "    positive       0.92      0.94      0.93      9938\n",
            "\n",
            "    accuracy                           0.93     19950\n",
            "   macro avg       0.93      0.93      0.93     19950\n",
            "weighted avg       0.93      0.93      0.93     19950\n",
            "\n",
            "Confusion Matrix:\n",
            " [[9154  858]\n",
            " [ 613 9325]]\n"
          ]
        }
      ],
      "source": [
        "model.to(device)\n",
        "model.eval()\n",
        "\n",
        "# Creating dataloaders for test\n",
        "batch_size = 32\n",
        "num_cpu = 12\n",
        "\n",
        "test_dataloader = DataLoader(test_dataset, batch_size=batch_size, num_workers=num_cpu, pin_memory=True, shuffle=False)\n",
        "\n",
        "# Evaluating the model on the test set\n",
        "all_preds = []\n",
        "all_labels = []\n",
        "\n",
        "all_preds.clear()\n",
        "all_labels.clear()\n",
        "\n",
        "with torch.no_grad():\n",
        "        for inputs, attention_masks, labels in test_dataloader:\n",
        "            inputs = inputs.to(device)\n",
        "            attention_masks = attention_masks.to(device)\n",
        "            labels = labels.to(device)\n",
        "\n",
        "            outputs = model(inputs, attention_mask=attention_masks)\n",
        "            _, preds = torch.max(outputs.logits, dim=1)\n",
        "\n",
        "            all_preds.extend(preds.cpu().numpy())\n",
        "            all_labels.extend(labels.cpu().numpy())\n",
        "\n",
        "# Calculating evaluation metrics\n",
        "accuracy = accuracy_score(all_labels, all_preds) * 100\n",
        "\n",
        "class_names = [\"negative\", \"positive\"]\n",
        "class_report = classification_report(all_labels, all_preds, target_names=class_names)\n",
        "conf_matrix = confusion_matrix(all_labels, all_preds)\n",
        "\n",
        "print(f\"Accuracy: {accuracy:.2f}%\")\n",
        "print(\"Classification Report:\\n\", class_report)\n",
        "print(\"Confusion Matrix:\\n\", conf_matrix)"
      ],
      "id": "TqOtwscD1uHT"
    },
    {
      "cell_type": "markdown",
      "source": [
        "# 4.2 Further Reducing Gradient Clipping"
      ],
      "metadata": {
        "id": "iSD3gcPVJxOU"
      },
      "id": "iSD3gcPVJxOU"
    },
    {
      "cell_type": "code",
      "source": [
        "model = BertForSequenceClassification.from_pretrained('bert-base-uncased', num_labels=2).to(device)\n",
        "\n",
        "# declaring Hyperparameters\n",
        "batch_size = 32\n",
        "early_stopping_patience = 3\n",
        "epochs_without_improvement = 0\n",
        "num_cpu = 12\n",
        "num_epochs = 5\n",
        "best_accuracy = 0.0\n",
        "train_losses = []\n",
        "val_accuracies = []\n",
        "train_losses.clear()\n",
        "val_accuracies.clear()\n",
        "\n",
        "# optimizer\n",
        "optimizer = optim.Adam(model.parameters(), lr=2e-5)\n",
        "lambda_lr = lambda epoch: 0.90 ** epoch\n",
        "scheduler = LambdaLR(optimizer, lr_lambda=lambda_lr)\n",
        "\n",
        "\n",
        "# Creating data loaders\n",
        "train_dataloader = DataLoader(train_dataset, batch_size=batch_size, num_workers=num_cpu, pin_memory=True, shuffle=True)\n",
        "val_dataloader = DataLoader(val_dataset, batch_size=batch_size, num_workers=num_cpu, pin_memory=True, shuffle=False)\n",
        "\n",
        "for epoch in range(num_epochs):\n",
        "    running_loss = 0.0\n",
        "\n",
        "    # Training\n",
        "    model.train()\n",
        "    for inputs, attention_masks, labels in train_dataloader:\n",
        "        inputs = inputs.to(device)\n",
        "        attention_masks = attention_masks.to(device)\n",
        "        labels = labels.to(device)\n",
        "\n",
        "        optimizer.zero_grad()\n",
        "        outputs = model(inputs, attention_mask=attention_masks, labels = labels)\n",
        "\n",
        "        loss = outputs.loss\n",
        "\n",
        "        loss.backward()\n",
        "\n",
        "        # Gradient clipping\n",
        "        torch.nn.utils.clip_grad_norm_(model.parameters(), 0.55)\n",
        "\n",
        "        optimizer.step()\n",
        "\n",
        "        running_loss += loss.item() * inputs.size(0)\n",
        "\n",
        "\n",
        "    # Calculate average loss for the epoch\n",
        "    epoch_loss = running_loss / len(train_dataset)\n",
        "    train_losses.append(epoch_loss)\n",
        "\n",
        "    scheduler.step()\n",
        "\n",
        "\n",
        "   # Validation\n",
        "    model.eval()  # Setting model to evaluation mode\n",
        "    correct_predictions = 0\n",
        "    total_predictions = 0\n",
        "\n",
        "    with torch.no_grad():\n",
        "        for inputs, attention_masks, labels in val_dataloader:\n",
        "            inputs = inputs.to(device)\n",
        "            attention_masks = attention_masks.to(device)\n",
        "            labels = labels.to(device)\n",
        "\n",
        "            # Get model's predictions\n",
        "            outputs = model(inputs, attention_mask=attention_masks)\n",
        "            predicted_labels = torch.argmax(outputs.logits, dim=1)\n",
        "\n",
        "            correct_predictions += (predicted_labels == labels).sum().item()\n",
        "            total_predictions += labels.size(0)\n",
        "\n",
        "    accuracy = correct_predictions / total_predictions\n",
        "    val_accuracies.append(accuracy)\n",
        "\n",
        "\n",
        "    if accuracy > best_accuracy:\n",
        "        best_accuracy = accuracy\n",
        "        epochs_without_improvement = 0\n",
        "        best_model_state = model.state_dict()\n",
        "    else:\n",
        "        epochs_without_improvement += 1\n",
        "        if epochs_without_improvement >= early_stopping_patience:\n",
        "            print(\"Early stopping triggered.\")\n",
        "            break\n",
        "\n",
        "    # Printing the loss and accuracy for each epoch\n",
        "    print(f\"Epoch {epoch+1}/{num_epochs}, Loss: {epoch_loss}, Validation Accuracy: {accuracy}\")\n",
        "\n",
        "# Saving the trained model\n",
        "BERT_Tuned_file = \"/content/drive/MyDrive/Colab Notebooks/BBGC2.pt\"\n",
        "torch.save(best_model_state, BERT_Tuned_file)"
      ],
      "metadata": {
        "colab": {
          "base_uri": "https://localhost:8080/"
        },
        "outputId": "698c82ed-eb39-4913-b630-a5d6a4455740",
        "id": "P_N-35q2JxOU"
      },
      "execution_count": null,
      "outputs": [
        {
          "output_type": "stream",
          "name": "stderr",
          "text": [
            "Some weights of BertForSequenceClassification were not initialized from the model checkpoint at bert-base-uncased and are newly initialized: ['classifier.weight', 'classifier.bias']\n",
            "You should probably TRAIN this model on a down-stream task to be able to use it for predictions and inference.\n"
          ]
        },
        {
          "output_type": "stream",
          "name": "stdout",
          "text": [
            "Epoch 1/5, Loss: 0.27350833708047867, Validation Accuracy: 0.8968106312292359\n",
            "Epoch 2/5, Loss: 0.14032256883382796, Validation Accuracy: 0.9267109634551495\n",
            "Epoch 3/5, Loss: 0.0830341739843289, Validation Accuracy: 0.9190033222591362\n",
            "Epoch 4/5, Loss: 0.049553095600008965, Validation Accuracy: 0.9273089700996677\n",
            "Epoch 5/5, Loss: 0.03168813774436712, Validation Accuracy: 0.9306312292358804\n"
          ]
        }
      ],
      "id": "P_N-35q2JxOU"
    },
    {
      "cell_type": "code",
      "source": [
        "# Plotting epoch loss and validation accuracy graphs\n",
        "num_epochs = len(train_losses)\n",
        "plt.figure(figsize=(10, 5))\n",
        "plt.subplot(1, 2, 1)\n",
        "plt.plot(range(1, num_epochs + 1), train_losses, label='Train Loss', color='red')\n",
        "plt.xlabel('Epoch')\n",
        "plt.ylabel('Loss')\n",
        "plt.title('Epoch Loss')\n",
        "plt.legend()\n",
        "\n",
        "plt.subplot(1, 2, 2)\n",
        "plt.plot(range(1, num_epochs + 1), val_accuracies, label='Validation Accuracy', color='green')\n",
        "plt.xlabel('Epoch')\n",
        "plt.ylabel('Accuracy')\n",
        "plt.title('Validation Accuracy')\n",
        "plt.legend()\n",
        "\n",
        "save_path = \"/content/drive/MyDrive/Colab Notebooks/BBGC2_plot.png\"\n",
        "plt.savefig(save_path)\n",
        "\n",
        "plt.tight_layout()\n",
        "plt.show()"
      ],
      "metadata": {
        "colab": {
          "base_uri": "https://localhost:8080/",
          "height": 348
        },
        "outputId": "d6cbd424-3c08-439b-9cf7-f55b9d6d3853",
        "id": "ERcGhYtIJxOV"
      },
      "execution_count": null,
      "outputs": [
        {
          "output_type": "display_data",
          "data": {
            "text/plain": [
              "<Figure size 1000x500 with 2 Axes>"
            ],
            "image/png": "[encoded data removed]"
          },
          "metadata": {}
        }
      ],
      "id": "ERcGhYtIJxOV"
    },
    {
      "cell_type": "code",
      "execution_count": null,
      "metadata": {
        "id": "UWZyYH7OJxOV"
      },
      "outputs": [],
      "source": [
        "# Loading trained model\n",
        "BERT_Tuned_file = \"/content/drive/MyDrive/Colab Notebooks/BBGC2.pt\"\n",
        "model.load_state_dict(torch.load(BERT_Tuned_file))"
      ],
      "id": "UWZyYH7OJxOV"
    },
    {
      "cell_type": "code",
      "execution_count": null,
      "metadata": {
        "colab": {
          "base_uri": "https://localhost:8080/"
        },
        "id": "PF0kjOsCJxOV",
        "outputId": "b6c7f1b6-7922-49e1-926e-16d8ce76f200"
      },
      "outputs": [
        {
          "output_type": "stream",
          "name": "stdout",
          "text": [
            "Accuracy: 92.72%\n",
            "Classification Report:\n",
            "               precision    recall  f1-score   support\n",
            "\n",
            "    negative       0.93      0.93      0.93     10012\n",
            "    positive       0.93      0.93      0.93      9938\n",
            "\n",
            "    accuracy                           0.93     19950\n",
            "   macro avg       0.93      0.93      0.93     19950\n",
            "weighted avg       0.93      0.93      0.93     19950\n",
            "\n",
            "Confusion Matrix:\n",
            " [[9289  723]\n",
            " [ 729 9209]]\n"
          ]
        }
      ],
      "source": [
        "model.to(device)\n",
        "model.eval()\n",
        "\n",
        "# Creating dataloaders for test\n",
        "batch_size = 32\n",
        "num_cpu = 12\n",
        "\n",
        "test_dataloader = DataLoader(test_dataset, batch_size=batch_size, num_workers=num_cpu, pin_memory=True, shuffle=False)\n",
        "\n",
        "# Evaluating the model on the test set\n",
        "all_preds = []\n",
        "all_labels = []\n",
        "\n",
        "all_preds.clear()\n",
        "all_labels.clear()\n",
        "\n",
        "with torch.no_grad():\n",
        "        for inputs, attention_masks, labels in test_dataloader:\n",
        "            inputs = inputs.to(device)\n",
        "            attention_masks = attention_masks.to(device)\n",
        "            labels = labels.to(device)\n",
        "\n",
        "            outputs = model(inputs, attention_mask=attention_masks)\n",
        "            _, preds = torch.max(outputs.logits, dim=1)\n",
        "\n",
        "            all_preds.extend(preds.cpu().numpy())\n",
        "            all_labels.extend(labels.cpu().numpy())\n",
        "\n",
        "# Calculating evaluation metrics\n",
        "accuracy = accuracy_score(all_labels, all_preds) * 100\n",
        "\n",
        "class_names = [\"negative\", \"positive\"]\n",
        "class_report = classification_report(all_labels, all_preds, target_names=class_names)\n",
        "conf_matrix = confusion_matrix(all_labels, all_preds)\n",
        "\n",
        "print(f\"Accuracy: {accuracy:.2f}%\")\n",
        "print(\"Classification Report:\\n\", class_report)\n",
        "print(\"Confusion Matrix:\\n\", conf_matrix)"
      ],
      "id": "PF0kjOsCJxOV"
    },
    {
      "cell_type": "code",
      "source": [
        "user_input = input(\"Enter a sentence: \")\n",
        "preprocessed_input = preprocess_text(user_input)\n",
        "encoded_input= tokenizer.batch_encode_plus(\n",
        "    [preprocessed_input],\n",
        "    padding=True,\n",
        "    truncation=True,\n",
        "    max_length=512,\n",
        "    return_tensors='pt'\n",
        ")\n",
        "input_ids = encoded_input['input_ids'].to(device)\n",
        "attention_masks_test = encoded_input['attention_mask'].to(device)\n",
        "\n",
        "with torch.no_grad():\n",
        "    outputs = model(input_ids, attention_mask=attention_masks_test)\n",
        "    logits = outputs.logits\n",
        "    predicted_label = torch.argmax(logits, dim=1).item()\n",
        "\n",
        "class_names = [\"negative\", \"positive\"]\n",
        "predicted_sentiment = class_names[predicted_label]\n",
        "print(\"Predicted sentiment:\", predicted_sentiment)"
      ],
      "metadata": {
        "colab": {
          "base_uri": "https://localhost:8080/"
        },
        "id": "xTkADjqcFgyM",
        "outputId": "479dc0c1-2fbc-4339-f5e2-ad74a6ae0171"
      },
      "id": "xTkADjqcFgyM",
      "execution_count": null,
      "outputs": [
        {
          "output_type": "stream",
          "name": "stdout",
          "text": [
            "Enter a sentence: really linked to it\n",
            "Predicted sentiment: positive\n"
          ]
        }
      ]
    }
  ],
  "metadata": {
    "accelerator": "GPU",
    "colab": {
      "machine_shape": "hm",
      "provenance": [],
      "gpuType": "T4"
    },
    "kernelspec": {
      "display_name": "Python 3",
      "name": "python3"
    },
    "language_info": {
      "codemirror_mode": {
        "name": "ipython",
        "version": 3
      },
      "file_extension": ".py",
      "mimetype": "text/x-python",
      "name": "python",
      "nbconvert_exporter": "python",
      "pygments_lexer": "ipython3",
      "version": "3.10.9"
    },
    "widgets": {
      "application/vnd.jupyter.widget-state+json": {
        "66b47aafb57949d793b470ed816cd405": {
          "model_module": "@jupyter-widgets/controls",
          "model_name": "HBoxModel",
          "model_module_version": "1.5.0",
          "state": {
            "_dom_classes": [],
            "_model_module": "@jupyter-widgets/controls",
            "_model_module_version": "1.5.0",
            "_model_name": "HBoxModel",
            "_view_count": null,
            "_view_module": "@jupyter-widgets/controls",
            "_view_module_version": "1.5.0",
            "_view_name": "HBoxView",
            "box_style": "",
            "children": [
              "IPY_MODEL_dc6e906e176946669281ef9ca4a32562",
              "IPY_MODEL_b13161aab05347a4a8a8fb9840e772ca",
              "IPY_MODEL_9dcb9e4253744b75a0e52c679c07863f"
            ],
            "layout": "IPY_MODEL_1ab72a3125b54109b4a60903e08c3240"
          }
        },
        "dc6e906e176946669281ef9ca4a32562": {
          "model_module": "@jupyter-widgets/controls",
          "model_name": "HTMLModel",
          "model_module_version": "1.5.0",
          "state": {
            "_dom_classes": [],
            "_model_module": "@jupyter-widgets/controls",
            "_model_module_version": "1.5.0",
            "_model_name": "HTMLModel",
            "_view_count": null,
            "_view_module": "@jupyter-widgets/controls",
            "_view_module_version": "1.5.0",
            "_view_name": "HTMLView",
            "description": "",
            "description_tooltip": null,
            "layout": "IPY_MODEL_544e3dd7ed164d36bac8f7c20670d103",
            "placeholder": "​",
            "style": "IPY_MODEL_eef0915666b74465a9b78ddd0d849d7b",
            "value": "Downloading model.safetensors: 100%"
          }
        },
        "b13161aab05347a4a8a8fb9840e772ca": {
          "model_module": "@jupyter-widgets/controls",
          "model_name": "FloatProgressModel",
          "model_module_version": "1.5.0",
          "state": {
            "_dom_classes": [],
            "_model_module": "@jupyter-widgets/controls",
            "_model_module_version": "1.5.0",
            "_model_name": "FloatProgressModel",
            "_view_count": null,
            "_view_module": "@jupyter-widgets/controls",
            "_view_module_version": "1.5.0",
            "_view_name": "ProgressView",
            "bar_style": "success",
            "description": "",
            "description_tooltip": null,
            "layout": "IPY_MODEL_cc206d92fd794419ab80d569dd8713cd",
            "max": 440449768,
            "min": 0,
            "orientation": "horizontal",
            "style": "IPY_MODEL_f460075cf42e41bfb17b1ddfd2fb283f",
            "value": 440449768
          }
        },
        "9dcb9e4253744b75a0e52c679c07863f": {
          "model_module": "@jupyter-widgets/controls",
          "model_name": "HTMLModel",
          "model_module_version": "1.5.0",
          "state": {
            "_dom_classes": [],
            "_model_module": "@jupyter-widgets/controls",
            "_model_module_version": "1.5.0",
            "_model_name": "HTMLModel",
            "_view_count": null,
            "_view_module": "@jupyter-widgets/controls",
            "_view_module_version": "1.5.0",
            "_view_name": "HTMLView",
            "description": "",
            "description_tooltip": null,
            "layout": "IPY_MODEL_7063fd0e3e744e2cb43d45cd310e2fc9",
            "placeholder": "​",
            "style": "IPY_MODEL_fdd966b9c1934687b3d577723ad5fa8d",
            "value": " 440M/440M [00:00&lt;00:00, 498MB/s]"
          }
        },
        "1ab72a3125b54109b4a60903e08c3240": {
          "model_module": "@jupyter-widgets/base",
          "model_name": "LayoutModel",
          "model_module_version": "1.2.0",
          "state": {
            "_model_module": "@jupyter-widgets/base",
            "_model_module_version": "1.2.0",
            "_model_name": "LayoutModel",
            "_view_count": null,
            "_view_module": "@jupyter-widgets/base",
            "_view_module_version": "1.2.0",
            "_view_name": "LayoutView",
            "align_content": null,
            "align_items": null,
            "align_self": null,
            "border": null,
            "bottom": null,
            "display": null,
            "flex": null,
            "flex_flow": null,
            "grid_area": null,
            "grid_auto_columns": null,
            "grid_auto_flow": null,
            "grid_auto_rows": null,
            "grid_column": null,
            "grid_gap": null,
            "grid_row": null,
            "grid_template_areas": null,
            "grid_template_columns": null,
            "grid_template_rows": null,
            "height": null,
            "justify_content": null,
            "justify_items": null,
            "left": null,
            "margin": null,
            "max_height": null,
            "max_width": null,
            "min_height": null,
            "min_width": null,
            "object_fit": null,
            "object_position": null,
            "order": null,
            "overflow": null,
            "overflow_x": null,
            "overflow_y": null,
            "padding": null,
            "right": null,
            "top": null,
            "visibility": null,
            "width": null
          }
        },
        "544e3dd7ed164d36bac8f7c20670d103": {
          "model_module": "@jupyter-widgets/base",
          "model_name": "LayoutModel",
          "model_module_version": "1.2.0",
          "state": {
            "_model_module": "@jupyter-widgets/base",
            "_model_module_version": "1.2.0",
            "_model_name": "LayoutModel",
            "_view_count": null,
            "_view_module": "@jupyter-widgets/base",
            "_view_module_version": "1.2.0",
            "_view_name": "LayoutView",
            "align_content": null,
            "align_items": null,
            "align_self": null,
            "border": null,
            "bottom": null,
            "display": null,
            "flex": null,
            "flex_flow": null,
            "grid_area": null,
            "grid_auto_columns": null,
            "grid_auto_flow": null,
            "grid_auto_rows": null,
            "grid_column": null,
            "grid_gap": null,
            "grid_row": null,
            "grid_template_areas": null,
            "grid_template_columns": null,
            "grid_template_rows": null,
            "height": null,
            "justify_content": null,
            "justify_items": null,
            "left": null,
            "margin": null,
            "max_height": null,
            "max_width": null,
            "min_height": null,
            "min_width": null,
            "object_fit": null,
            "object_position": null,
            "order": null,
            "overflow": null,
            "overflow_x": null,
            "overflow_y": null,
            "padding": null,
            "right": null,
            "top": null,
            "visibility": null,
            "width": null
          }
        },
        "eef0915666b74465a9b78ddd0d849d7b": {
          "model_module": "@jupyter-widgets/controls",
          "model_name": "DescriptionStyleModel",
          "model_module_version": "1.5.0",
          "state": {
            "_model_module": "@jupyter-widgets/controls",
            "_model_module_version": "1.5.0",
            "_model_name": "DescriptionStyleModel",
            "_view_count": null,
            "_view_module": "@jupyter-widgets/base",
            "_view_module_version": "1.2.0",
            "_view_name": "StyleView",
            "description_width": ""
          }
        },
        "cc206d92fd794419ab80d569dd8713cd": {
          "model_module": "@jupyter-widgets/base",
          "model_name": "LayoutModel",
          "model_module_version": "1.2.0",
          "state": {
            "_model_module": "@jupyter-widgets/base",
            "_model_module_version": "1.2.0",
            "_model_name": "LayoutModel",
            "_view_count": null,
            "_view_module": "@jupyter-widgets/base",
            "_view_module_version": "1.2.0",
            "_view_name": "LayoutView",
            "align_content": null,
            "align_items": null,
            "align_self": null,
            "border": null,
            "bottom": null,
            "display": null,
            "flex": null,
            "flex_flow": null,
            "grid_area": null,
            "grid_auto_columns": null,
            "grid_auto_flow": null,
            "grid_auto_rows": null,
            "grid_column": null,
            "grid_gap": null,
            "grid_row": null,
            "grid_template_areas": null,
            "grid_template_columns": null,
            "grid_template_rows": null,
            "height": null,
            "justify_content": null,
            "justify_items": null,
            "left": null,
            "margin": null,
            "max_height": null,
            "max_width": null,
            "min_height": null,
            "min_width": null,
            "object_fit": null,
            "object_position": null,
            "order": null,
            "overflow": null,
            "overflow_x": null,
            "overflow_y": null,
            "padding": null,
            "right": null,
            "top": null,
            "visibility": null,
            "width": null
          }
        },
        "f460075cf42e41bfb17b1ddfd2fb283f": {
          "model_module": "@jupyter-widgets/controls",
          "model_name": "ProgressStyleModel",
          "model_module_version": "1.5.0",
          "state": {
            "_model_module": "@jupyter-widgets/controls",
            "_model_module_version": "1.5.0",
            "_model_name": "ProgressStyleModel",
            "_view_count": null,
            "_view_module": "@jupyter-widgets/base",
            "_view_module_version": "1.2.0",
            "_view_name": "StyleView",
            "bar_color": null,
            "description_width": ""
          }
        },
        "7063fd0e3e744e2cb43d45cd310e2fc9": {
          "model_module": "@jupyter-widgets/base",
          "model_name": "LayoutModel",
          "model_module_version": "1.2.0",
          "state": {
            "_model_module": "@jupyter-widgets/base",
            "_model_module_version": "1.2.0",
            "_model_name": "LayoutModel",
            "_view_count": null,
            "_view_module": "@jupyter-widgets/base",
            "_view_module_version": "1.2.0",
            "_view_name": "LayoutView",
            "align_content": null,
            "align_items": null,
            "align_self": null,
            "border": null,
            "bottom": null,
            "display": null,
            "flex": null,
            "flex_flow": null,
            "grid_area": null,
            "grid_auto_columns": null,
            "grid_auto_flow": null,
            "grid_auto_rows": null,
            "grid_column": null,
            "grid_gap": null,
            "grid_row": null,
            "grid_template_areas": null,
            "grid_template_columns": null,
            "grid_template_rows": null,
            "height": null,
            "justify_content": null,
            "justify_items": null,
            "left": null,
            "margin": null,
            "max_height": null,
            "max_width": null,
            "min_height": null,
            "min_width": null,
            "object_fit": null,
            "object_position": null,
            "order": null,
            "overflow": null,
            "overflow_x": null,
            "overflow_y": null,
            "padding": null,
            "right": null,
            "top": null,
            "visibility": null,
            "width": null
          }
        },
        "fdd966b9c1934687b3d577723ad5fa8d": {
          "model_module": "@jupyter-widgets/controls",
          "model_name": "DescriptionStyleModel",
          "model_module_version": "1.5.0",
          "state": {
            "_model_module": "@jupyter-widgets/controls",
            "_model_module_version": "1.5.0",
            "_model_name": "DescriptionStyleModel",
            "_view_count": null,
            "_view_module": "@jupyter-widgets/base",
            "_view_module_version": "1.2.0",
            "_view_name": "StyleView",
            "description_width": ""
          }
        }
      }
    }
  },
  "nbformat": 4,
  "nbformat_minor": 5
}