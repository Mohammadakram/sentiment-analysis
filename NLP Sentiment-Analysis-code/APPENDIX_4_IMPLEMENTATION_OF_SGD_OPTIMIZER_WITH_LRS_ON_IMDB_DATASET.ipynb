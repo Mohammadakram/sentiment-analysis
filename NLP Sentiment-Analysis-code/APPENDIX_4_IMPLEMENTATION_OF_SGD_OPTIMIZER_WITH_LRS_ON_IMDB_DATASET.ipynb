{
  "cells": [
    {
      "cell_type": "code",
      "execution_count": null,
      "metadata": {
        "colab": {
          "base_uri": "https://localhost:8080/"
        },
        "id": "6pTNOOd0yNU9",
        "outputId": "cbe6010b-f8fb-453a-b4ab-3a8176b4eead"
      },
      "outputs": [
        {
          "output_type": "stream",
          "name": "stdout",
          "text": [
            "Collecting transformers\n",
            "  Downloading transformers-4.33.1-py3-none-any.whl (7.6 MB)\n",
            "\u001b[2K     \u001b[90m━━━━━━━━━━━━━━━━━━━━━━━━━━━━━━━━━━━━━━━━\u001b[0m \u001b[32m7.6/7.6 MB\u001b[0m \u001b[31m28.6 MB/s\u001b[0m eta \u001b[36m0:00:00\u001b[0m\n",
            "\u001b[?25hRequirement already satisfied: filelock in /usr/local/lib/python3.10/dist-packages (from transformers) (3.12.2)\n",
            "Collecting huggingface-hub<1.0,>=0.15.1 (from transformers)\n",
            "  Downloading huggingface_hub-0.16.4-py3-none-any.whl (268 kB)\n",
            "\u001b[2K     \u001b[90m━━━━━━━━━━━━━━━━━━━━━━━━━━━━━━━━━━━━━━\u001b[0m \u001b[32m268.8/268.8 kB\u001b[0m \u001b[31m31.0 MB/s\u001b[0m eta \u001b[36m0:00:00\u001b[0m\n",
            "\u001b[?25hRequirement already satisfied: numpy>=1.17 in /usr/local/lib/python3.10/dist-packages (from transformers) (1.23.5)\n",
            "Requirement already satisfied: packaging>=20.0 in /usr/local/lib/python3.10/dist-packages (from transformers) (23.1)\n",
            "Requirement already satisfied: pyyaml>=5.1 in /usr/local/lib/python3.10/dist-packages (from transformers) (6.0.1)\n",
            "Requirement already satisfied: regex!=2019.12.17 in /usr/local/lib/python3.10/dist-packages (from transformers) (2023.6.3)\n",
            "Requirement already satisfied: requests in /usr/local/lib/python3.10/dist-packages (from transformers) (2.31.0)\n",
            "Collecting tokenizers!=0.11.3,<0.14,>=0.11.1 (from transformers)\n",
            "  Downloading tokenizers-0.13.3-cp310-cp310-manylinux_2_17_x86_64.manylinux2014_x86_64.whl (7.8 MB)\n",
            "\u001b[2K     \u001b[90m━━━━━━━━━━━━━━━━━━━━━━━━━━━━━━━━━━━━━━━━\u001b[0m \u001b[32m7.8/7.8 MB\u001b[0m \u001b[31m89.1 MB/s\u001b[0m eta \u001b[36m0:00:00\u001b[0m\n",
            "\u001b[?25hCollecting safetensors>=0.3.1 (from transformers)\n",
            "  Downloading safetensors-0.3.3-cp310-cp310-manylinux_2_17_x86_64.manylinux2014_x86_64.whl (1.3 MB)\n",
            "\u001b[2K     \u001b[90m━━━━━━━━━━━━━━━━━━━━━━━━━━━━━━━━━━━━━━━━\u001b[0m \u001b[32m1.3/1.3 MB\u001b[0m \u001b[31m77.8 MB/s\u001b[0m eta \u001b[36m0:00:00\u001b[0m\n",
            "\u001b[?25hRequirement already satisfied: tqdm>=4.27 in /usr/local/lib/python3.10/dist-packages (from transformers) (4.66.1)\n",
            "Requirement already satisfied: fsspec in /usr/local/lib/python3.10/dist-packages (from huggingface-hub<1.0,>=0.15.1->transformers) (2023.6.0)\n",
            "Requirement already satisfied: typing-extensions>=3.7.4.3 in /usr/local/lib/python3.10/dist-packages (from huggingface-hub<1.0,>=0.15.1->transformers) (4.5.0)\n",
            "Requirement already satisfied: charset-normalizer<4,>=2 in /usr/local/lib/python3.10/dist-packages (from requests->transformers) (3.2.0)\n",
            "Requirement already satisfied: idna<4,>=2.5 in /usr/local/lib/python3.10/dist-packages (from requests->transformers) (3.4)\n",
            "Requirement already satisfied: urllib3<3,>=1.21.1 in /usr/local/lib/python3.10/dist-packages (from requests->transformers) (2.0.4)\n",
            "Requirement already satisfied: certifi>=2017.4.17 in /usr/local/lib/python3.10/dist-packages (from requests->transformers) (2023.7.22)\n",
            "Installing collected packages: tokenizers, safetensors, huggingface-hub, transformers\n",
            "Successfully installed huggingface-hub-0.16.4 safetensors-0.3.3 tokenizers-0.13.3 transformers-4.33.1\n"
          ]
        }
      ],
      "source": [
        "pip install transformers"
      ],
      "id": "6pTNOOd0yNU9"
    },
    {
      "cell_type": "code",
      "execution_count": null,
      "metadata": {
        "id": "2c9d64ac"
      },
      "outputs": [],
      "source": [
        "#importing all the essential libraries\n",
        "import pandas as pd\n",
        "from sklearn.model_selection import train_test_split\n",
        "from google.colab import drive\n",
        "import matplotlib.pyplot as plt\n",
        "import re #for data pre-processing\n",
        "import unicodedata #library for data pre-processing\n",
        "from transformers import BertTokenizer, BertForSequenceClassification, BertConfig, BertModel\n",
        "import torch\n",
        "import torch.nn as nn\n",
        "import torch.optim as optim\n",
        "import torch.optim.lr_scheduler as lr_scheduler\n",
        "from torch.utils.data import DataLoader, TensorDataset\n",
        "from sklearn.metrics import accuracy_score, classification_report, confusion_matrix"
      ],
      "id": "2c9d64ac"
    },
    {
      "cell_type": "code",
      "execution_count": null,
      "metadata": {
        "colab": {
          "base_uri": "https://localhost:8080/"
        },
        "id": "S8wckJC6jhOZ",
        "outputId": "497f8e43-6fe4-47b9-ba79-bb2cfda63070"
      },
      "outputs": [
        {
          "output_type": "stream",
          "name": "stdout",
          "text": [
            "Mounted at /content/drive\n"
          ]
        }
      ],
      "source": [
        "#mounting drive to collab\n",
        "drive.mount('/content/drive')"
      ],
      "id": "S8wckJC6jhOZ"
    },
    {
      "cell_type": "code",
      "execution_count": null,
      "metadata": {
        "id": "HXCbexQYjff8"
      },
      "outputs": [],
      "source": [
        "#Reading file from drive\n",
        "df = pd.read_csv('/content/drive/MyDrive/Colab Notebooks/IMDB_Dataset.csv')"
      ],
      "id": "HXCbexQYjff8"
    },
    {
      "cell_type": "code",
      "execution_count": null,
      "metadata": {
        "colab": {
          "base_uri": "https://localhost:8080/",
          "height": 206
        },
        "id": "9a90d8c5",
        "outputId": "9d54b5f9-255e-4f94-ae20-06357ca3358f"
      },
      "outputs": [
        {
          "output_type": "execute_result",
          "data": {
            "text/plain": [
              "                                              review sentiment\n",
              "0  One of the other reviewers has mentioned that ...  positive\n",
              "1  A wonderful little production. <br /><br />The...  positive\n",
              "2  I thought this was a wonderful way to spend ti...  positive\n",
              "3  Basically there's a family where a little boy ...  negative\n",
              "4  Petter Mattei's \"Love in the Time of Money\" is...  positive"
            ],
            "text/html": [
              "\n",
              "  <div id=\"df-a4bd274e-8403-4867-ac5a-69d68b4322fb\" class=\"colab-df-container\">\n",
              "    <div>\n",
              "<style scoped>\n",
              "    .dataframe tbody tr th:only-of-type {\n",
              "        vertical-align: middle;\n",
              "    }\n",
              "\n",
              "    .dataframe tbody tr th {\n",
              "        vertical-align: top;\n",
              "    }\n",
              "\n",
              "    .dataframe thead th {\n",
              "        text-align: right;\n",
              "    }\n",
              "</style>\n",
              "<table border=\"1\" class=\"dataframe\">\n",
              "  <thead>\n",
              "    <tr style=\"text-align: right;\">\n",
              "      <th></th>\n",
              "      <th>review</th>\n",
              "      <th>sentiment</th>\n",
              "    </tr>\n",
              "  </thead>\n",
              "  <tbody>\n",
              "    <tr>\n",
              "      <th>0</th>\n",
              "      <td>One of the other reviewers has mentioned that ...</td>\n",
              "      <td>positive</td>\n",
              "    </tr>\n",
              "    <tr>\n",
              "      <th>1</th>\n",
              "      <td>A wonderful little production. &lt;br /&gt;&lt;br /&gt;The...</td>\n",
              "      <td>positive</td>\n",
              "    </tr>\n",
              "    <tr>\n",
              "      <th>2</th>\n",
              "      <td>I thought this was a wonderful way to spend ti...</td>\n",
              "      <td>positive</td>\n",
              "    </tr>\n",
              "    <tr>\n",
              "      <th>3</th>\n",
              "      <td>Basically there's a family where a little boy ...</td>\n",
              "      <td>negative</td>\n",
              "    </tr>\n",
              "    <tr>\n",
              "      <th>4</th>\n",
              "      <td>Petter Mattei's \"Love in the Time of Money\" is...</td>\n",
              "      <td>positive</td>\n",
              "    </tr>\n",
              "  </tbody>\n",
              "</table>\n",
              "</div>\n",
              "    <div class=\"colab-df-buttons\">\n",
              "\n",
              "  <div class=\"colab-df-container\">\n",
              "    <button class=\"colab-df-convert\" onclick=\"convertToInteractive('df-a4bd274e-8403-4867-ac5a-69d68b4322fb')\"\n",
              "            title=\"Convert this dataframe to an interactive table.\"\n",
              "            style=\"display:none;\">\n",
              "\n",
              "  <svg xmlns=\"http://www.w3.org/2000/svg\" height=\"24px\" viewBox=\"0 -960 960 960\">\n",
              "    <path d=\"M120-120v-720h720v720H120Zm60-500h600v-160H180v160Zm220 220h160v-160H400v160Zm0 220h160v-160H400v160ZM180-400h160v-160H180v160Zm440 0h160v-160H620v160ZM180-180h160v-160H180v160Zm440 0h160v-160H620v160Z\"/>\n",
              "  </svg>\n",
              "    </button>\n",
              "\n",
              "  <style>\n",
              "    .colab-df-container {\n",
              "      display:flex;\n",
              "      gap: 12px;\n",
              "    }\n",
              "\n",
              "    .colab-df-convert {\n",
              "      background-color: #E8F0FE;\n",
              "      border: none;\n",
              "      border-radius: 50%;\n",
              "      cursor: pointer;\n",
              "      display: none;\n",
              "      fill: #1967D2;\n",
              "      height: 32px;\n",
              "      padding: 0 0 0 0;\n",
              "      width: 32px;\n",
              "    }\n",
              "\n",
              "    .colab-df-convert:hover {\n",
              "      background-color: #E2EBFA;\n",
              "      box-shadow: 0px 1px 2px rgba(60, 64, 67, 0.3), 0px 1px 3px 1px rgba(60, 64, 67, 0.15);\n",
              "      fill: #174EA6;\n",
              "    }\n",
              "\n",
              "    .colab-df-buttons div {\n",
              "      margin-bottom: 4px;\n",
              "    }\n",
              "\n",
              "    [theme=dark] .colab-df-convert {\n",
              "      background-color: #3B4455;\n",
              "      fill: #D2E3FC;\n",
              "    }\n",
              "\n",
              "    [theme=dark] .colab-df-convert:hover {\n",
              "      background-color: #434B5C;\n",
              "      box-shadow: 0px 1px 3px 1px rgba(0, 0, 0, 0.15);\n",
              "      filter: drop-shadow(0px 1px 2px rgba(0, 0, 0, 0.3));\n",
              "      fill: #FFFFFF;\n",
              "    }\n",
              "  </style>\n",
              "\n",
              "    <script>\n",
              "      const buttonEl =\n",
              "        document.querySelector('#df-a4bd274e-8403-4867-ac5a-69d68b4322fb button.colab-df-convert');\n",
              "      buttonEl.style.display =\n",
              "        google.colab.kernel.accessAllowed ? 'block' : 'none';\n",
              "\n",
              "      async function convertToInteractive(key) {\n",
              "        const element = document.querySelector('#df-a4bd274e-8403-4867-ac5a-69d68b4322fb');\n",
              "        const dataTable =\n",
              "          await google.colab.kernel.invokeFunction('convertToInteractive',\n",
              "                                                    [key], {});\n",
              "        if (!dataTable) return;\n",
              "\n",
              "        const docLinkHtml = 'Like what you see? Visit the ' +\n",
              "          '<a target=\"_blank\" href=https://colab.research.google.com/notebooks/data_table.ipynb>data table notebook</a>'\n",
              "          + ' to learn more about interactive tables.';\n",
              "        element.innerHTML = '';\n",
              "        dataTable['output_type'] = 'display_data';\n",
              "        await google.colab.output.renderOutput(dataTable, element);\n",
              "        const docLink = document.createElement('div');\n",
              "        docLink.innerHTML = docLinkHtml;\n",
              "        element.appendChild(docLink);\n",
              "      }\n",
              "    </script>\n",
              "  </div>\n",
              "\n",
              "\n",
              "<div id=\"df-4e8e1f62-bf4f-4744-bf9e-06d8160e9142\">\n",
              "  <button class=\"colab-df-quickchart\" onclick=\"quickchart('df-4e8e1f62-bf4f-4744-bf9e-06d8160e9142')\"\n",
              "            title=\"Suggest charts.\"\n",
              "            style=\"display:none;\">\n",
              "\n",
              "<svg xmlns=\"http://www.w3.org/2000/svg\" height=\"24px\"viewBox=\"0 0 24 24\"\n",
              "     width=\"24px\">\n",
              "    <g>\n",
              "        <path d=\"M19 3H5c-1.1 0-2 .9-2 2v14c0 1.1.9 2 2 2h14c1.1 0 2-.9 2-2V5c0-1.1-.9-2-2-2zM9 17H7v-7h2v7zm4 0h-2V7h2v10zm4 0h-2v-4h2v4z\"/>\n",
              "    </g>\n",
              "</svg>\n",
              "  </button>\n",
              "\n",
              "<style>\n",
              "  .colab-df-quickchart {\n",
              "      --bg-color: #E8F0FE;\n",
              "      --fill-color: #1967D2;\n",
              "      --hover-bg-color: #E2EBFA;\n",
              "      --hover-fill-color: #174EA6;\n",
              "      --disabled-fill-color: #AAA;\n",
              "      --disabled-bg-color: #DDD;\n",
              "  }\n",
              "\n",
              "  [theme=dark] .colab-df-quickchart {\n",
              "      --bg-color: #3B4455;\n",
              "      --fill-color: #D2E3FC;\n",
              "      --hover-bg-color: #434B5C;\n",
              "      --hover-fill-color: #FFFFFF;\n",
              "      --disabled-bg-color: #3B4455;\n",
              "      --disabled-fill-color: #666;\n",
              "  }\n",
              "\n",
              "  .colab-df-quickchart {\n",
              "    background-color: var(--bg-color);\n",
              "    border: none;\n",
              "    border-radius: 50%;\n",
              "    cursor: pointer;\n",
              "    display: none;\n",
              "    fill: var(--fill-color);\n",
              "    height: 32px;\n",
              "    padding: 0;\n",
              "    width: 32px;\n",
              "  }\n",
              "\n",
              "  .colab-df-quickchart:hover {\n",
              "    background-color: var(--hover-bg-color);\n",
              "    box-shadow: 0 1px 2px rgba(60, 64, 67, 0.3), 0 1px 3px 1px rgba(60, 64, 67, 0.15);\n",
              "    fill: var(--button-hover-fill-color);\n",
              "  }\n",
              "\n",
              "  .colab-df-quickchart-complete:disabled,\n",
              "  .colab-df-quickchart-complete:disabled:hover {\n",
              "    background-color: var(--disabled-bg-color);\n",
              "    fill: var(--disabled-fill-color);\n",
              "    box-shadow: none;\n",
              "  }\n",
              "\n",
              "  .colab-df-spinner {\n",
              "    border: 2px solid var(--fill-color);\n",
              "    border-color: transparent;\n",
              "    border-bottom-color: var(--fill-color);\n",
              "    animation:\n",
              "      spin 1s steps(1) infinite;\n",
              "  }\n",
              "\n",
              "  @keyframes spin {\n",
              "    0% {\n",
              "      border-color: transparent;\n",
              "      border-bottom-color: var(--fill-color);\n",
              "      border-left-color: var(--fill-color);\n",
              "    }\n",
              "    20% {\n",
              "      border-color: transparent;\n",
              "      border-left-color: var(--fill-color);\n",
              "      border-top-color: var(--fill-color);\n",
              "    }\n",
              "    30% {\n",
              "      border-color: transparent;\n",
              "      border-left-color: var(--fill-color);\n",
              "      border-top-color: var(--fill-color);\n",
              "      border-right-color: var(--fill-color);\n",
              "    }\n",
              "    40% {\n",
              "      border-color: transparent;\n",
              "      border-right-color: var(--fill-color);\n",
              "      border-top-color: var(--fill-color);\n",
              "    }\n",
              "    60% {\n",
              "      border-color: transparent;\n",
              "      border-right-color: var(--fill-color);\n",
              "    }\n",
              "    80% {\n",
              "      border-color: transparent;\n",
              "      border-right-color: var(--fill-color);\n",
              "      border-bottom-color: var(--fill-color);\n",
              "    }\n",
              "    90% {\n",
              "      border-color: transparent;\n",
              "      border-bottom-color: var(--fill-color);\n",
              "    }\n",
              "  }\n",
              "</style>\n",
              "\n",
              "  <script>\n",
              "    async function quickchart(key) {\n",
              "      const quickchartButtonEl =\n",
              "        document.querySelector('#' + key + ' button');\n",
              "      quickchartButtonEl.disabled = true;  // To prevent multiple clicks.\n",
              "      quickchartButtonEl.classList.add('colab-df-spinner');\n",
              "      try {\n",
              "        const charts = await google.colab.kernel.invokeFunction(\n",
              "            'suggestCharts', [key], {});\n",
              "      } catch (error) {\n",
              "        console.error('Error during call to suggestCharts:', error);\n",
              "      }\n",
              "      quickchartButtonEl.classList.remove('colab-df-spinner');\n",
              "      quickchartButtonEl.classList.add('colab-df-quickchart-complete');\n",
              "    }\n",
              "    (() => {\n",
              "      let quickchartButtonEl =\n",
              "        document.querySelector('#df-4e8e1f62-bf4f-4744-bf9e-06d8160e9142 button');\n",
              "      quickchartButtonEl.style.display =\n",
              "        google.colab.kernel.accessAllowed ? 'block' : 'none';\n",
              "    })();\n",
              "  </script>\n",
              "</div>\n",
              "    </div>\n",
              "  </div>\n"
            ]
          },
          "metadata": {},
          "execution_count": 5
        }
      ],
      "source": [
        "#Printing top 5 rows\n",
        "df.head()"
      ],
      "id": "9a90d8c5"
    },
    {
      "cell_type": "code",
      "execution_count": null,
      "metadata": {
        "colab": {
          "base_uri": "https://localhost:8080/"
        },
        "id": "17b1641f",
        "outputId": "a87d3d03-71f3-47c5-ffcf-a599051aef2a"
      },
      "outputs": [
        {
          "output_type": "execute_result",
          "data": {
            "text/plain": [
              "0        False\n",
              "1        False\n",
              "2        False\n",
              "3        False\n",
              "4        False\n",
              "         ...  \n",
              "49995    False\n",
              "49996    False\n",
              "49997    False\n",
              "49998    False\n",
              "49999    False\n",
              "Name: sentiment, Length: 50000, dtype: bool"
            ]
          },
          "metadata": {},
          "execution_count": 6
        }
      ],
      "source": [
        "#checking for any null values\n",
        "\n",
        "df['sentiment'].isnull()"
      ],
      "id": "17b1641f"
    },
    {
      "cell_type": "code",
      "execution_count": null,
      "metadata": {
        "colab": {
          "base_uri": "https://localhost:8080/"
        },
        "id": "d8e79f07",
        "outputId": "eb6ecc56-5188-4949-a7ef-9c84476e52b8"
      },
      "outputs": [
        {
          "output_type": "stream",
          "name": "stdout",
          "text": [
            "<class 'pandas.core.frame.DataFrame'>\n",
            "RangeIndex: 50000 entries, 0 to 49999\n",
            "Data columns (total 2 columns):\n",
            " #   Column     Non-Null Count  Dtype \n",
            "---  ------     --------------  ----- \n",
            " 0   review     50000 non-null  object\n",
            " 1   sentiment  50000 non-null  object\n",
            "dtypes: object(2)\n",
            "memory usage: 781.4+ KB\n"
          ]
        }
      ],
      "source": [
        "df.info()"
      ],
      "id": "d8e79f07"
    },
    {
      "cell_type": "code",
      "execution_count": null,
      "metadata": {
        "id": "751db7a6"
      },
      "outputs": [],
      "source": [
        "#Assigning X & y with review and sentiment respectively\n",
        "\n",
        "X = df['review']\n",
        "y = df['sentiment']"
      ],
      "id": "751db7a6"
    },
    {
      "cell_type": "code",
      "execution_count": null,
      "metadata": {
        "id": "zg6tiVgi6mfx"
      },
      "outputs": [],
      "source": [
        "#splitting values in to train, validation and test sets\n",
        "X_train, X_temp, y_train, y_temp = train_test_split(X, y, test_size=0.7,stratify=y, random_state=42)\n",
        "X_val, X_test, y_val, y_test = train_test_split(X_temp, y_temp, test_size=0.57, random_state=42)"
      ],
      "id": "zg6tiVgi6mfx"
    },
    {
      "cell_type": "code",
      "execution_count": null,
      "metadata": {
        "colab": {
          "base_uri": "https://localhost:8080/"
        },
        "id": "fa8a27d9",
        "outputId": "1837a96d-f5a7-4011-9397-bbd9272db780"
      },
      "outputs": [
        {
          "output_type": "stream",
          "name": "stdout",
          "text": [
            "Training set size: 15000\n",
            "Test set size: 19950\n",
            "Validation set size: 15050\n"
          ]
        }
      ],
      "source": [
        "#chceking the length of the train, validation and test sets\n",
        "\n",
        "print(\"Training set size:\", len(X_train))\n",
        "print(\"Test set size:\", len(X_test))\n",
        "print(\"Validation set size:\", len(X_val))"
      ],
      "id": "fa8a27d9"
    },
    {
      "cell_type": "code",
      "execution_count": null,
      "metadata": {
        "colab": {
          "base_uri": "https://localhost:8080/"
        },
        "id": "c16cb1a2",
        "outputId": "1ff1d932-26bb-4461-e0eb-7379f8efa508",
        "scrolled": true
      },
      "outputs": [
        {
          "output_type": "stream",
          "name": "stdout",
          "text": [
            "Int64Index([12276,  4319,  4210, 20735, 49290, 39716, 45480,  6587, 17792,\n",
            "            42351,\n",
            "            ...\n",
            "            42187, 36288, 22917,   710, 11540, 17731, 25976, 36837, 35597,\n",
            "            23156],\n",
            "           dtype='int64', length=15000)\n",
            "Int64Index([37705, 15809, 25154, 10620,  6067, 11681, 46162, 44805,  4023,\n",
            "            18822,\n",
            "            ...\n",
            "            14298, 49558, 37247, 48609, 42453,  4235,  2155, 26268, 42437,\n",
            "            21006],\n",
            "           dtype='int64', length=19950)\n",
            "Int64Index([  861, 15012, 42736, 20335, 47365, 43667, 29783,  7072, 14691,\n",
            "            44643,\n",
            "            ...\n",
            "            44013, 26105, 39106,   796, 22364, 33486,  9510, 24406, 45997,\n",
            "            18961],\n",
            "           dtype='int64', length=15050)\n"
          ]
        }
      ],
      "source": [
        "#seeing the index locations for the variables\n",
        "\n",
        "print(X_train.index)\n",
        "print(X_test.index)\n",
        "print(X_val.index)"
      ],
      "id": "c16cb1a2"
    },
    {
      "cell_type": "code",
      "execution_count": null,
      "metadata": {
        "id": "6e6f1bc5"
      },
      "outputs": [],
      "source": [
        "#resetting the index locations\n",
        "\n",
        "X_train = X_train.reset_index(drop=True)\n",
        "X_test = X_test.reset_index(drop=True)\n",
        "X_val = X_val.reset_index(drop=True)"
      ],
      "id": "6e6f1bc5"
    },
    {
      "cell_type": "code",
      "execution_count": null,
      "metadata": {
        "colab": {
          "base_uri": "https://localhost:8080/"
        },
        "id": "cb865597",
        "outputId": "1ac52eb9-0cdd-4699-dd79-6f57005fc858"
      },
      "outputs": [
        {
          "output_type": "stream",
          "name": "stdout",
          "text": [
            "RangeIndex(start=0, stop=15000, step=1)\n",
            "RangeIndex(start=0, stop=19950, step=1)\n",
            "RangeIndex(start=0, stop=15050, step=1)\n"
          ]
        }
      ],
      "source": [
        "# Verifying the updated index values\n",
        "\n",
        "print(X_train.index)\n",
        "print(X_test.index)\n",
        "print(X_val.index)"
      ],
      "id": "cb865597"
    },
    {
      "cell_type": "code",
      "execution_count": null,
      "metadata": {
        "colab": {
          "base_uri": "https://localhost:8080/"
        },
        "id": "6d46f9da",
        "outputId": "34cfdad2-3b39-46af-dc0e-8088d6976d08"
      },
      "outputs": [
        {
          "output_type": "stream",
          "name": "stdout",
          "text": [
            "The 4th Pokemon movie made me cry when Celebi died. Don't you dare say that Pokemon sucks! I don't like it when people say that.... I've liked Pokemon for 5 or 6 years, so everyone should enjoy Pokemon, including this movie and other Pokemon movies. So, without further ado, please say that Pokemon is great and should be enjoyed by people for all ages. And also, why do Pokemon-haters give low ratings for all or most of the Pokemon movies? I don't understand.... They shouldn't do that.... There's absolutely no reason why people should just vote without proving that Pokemon sucks besides the fact that: 1) Pokemon is for little kids ONLY. 2) Pokemon is stupid. and 3) People shouldn't like Pokemon. I think this is why people don't like Pokemon.\n",
            "The gimmick, as it were, of this 1934 Paramount comedy is the six comedy performers, paired off into three man-and-woman teams, who all appear together. W. C. Fields and his frequent screen partner Alsion Skipworth appear in the second half of the film and shine in their roles as a small-town sheriff and innkeeper. Fields seems to have been given the latitude to inject plenty of his own one-of-a-kind brand of misanthropic, surreal comedy into his part, and it works wonderfully, especially where he is allowed to do his famous pool table routine, a digression that is totally welcome since it is hilarious.<br /><br />At first thought it might have seemed like a mismatch to conceive of a film to be carried by the subtle domestic comedy of Charlie Ruggles and Mary Boland next to the broad, jokey Vaudeville patter of the great husband-and-wife comedy team of George Burns and Gracie Allen, but here it works perfectly because of the parts George and Gracie are given in the script. They are there are freeloaders hitching a ride to California on Ruggles' and Boland's honeymoon trip and consistently find ways to annoy them at every step, including, brilliantly, while they are each holding on to the side of a cliff for dear life.<br /><br />Making Burns and Allen comic annoyances to two sympathetic characters turns out to be a perfect way to fit their far-out, larger-than-life comedy characters into a real world setting -- the comedy of people reacting to them in a believable way turns out to be as much as a gold-mine as Gracie's famous naive delivery itself.<br /><br />Charlie Ruggles deserves special mention for his performance as the fussy banker \"Pinky\" Whinney. He's marvelously subtle and underplayed, and draws laughs from lines that in another actor's hands might not even have been heard.<br /><br />The script is wonderfully witty all through, and most of the way it's a perfectly extended comedy of frustration in which our sympathies are with the poor Whinneys who can't get a moment alone, and the extra bonus is that what frustrates them is just more first-rate comedy material from Burns and Allen. <br /><br />For the pre-code watchers out there, there is some rather suggestive material in some of the most amusing scenes, as Whinney tries to get across to George just WHY he and his wife want to be alone for a while.<br /><br />There are a few signs of a rushed production here -- the occasional jump cut, one of the most obvious drop sets you will ever see in a movie (right up there with W. C. Field's own short \"The Golf Specialist\"), and the knot in Field's tie is constantly changing in shape. These don't bother me, though, and they shouldn't bother anybody who is enjoying the film.<br /><br />\"Six of a Kind\" is a real little-known gem and one of the funniest movies I've seen in a while. If you're thinking about whether to watch it, the answer should be yes.\n",
            "It isn't TOO bad, but ultimately it lacks the quality that the Australian series has.<br /><br />The jokes are few and far between, the actors are attractive (they shouldn't be), the film makers think far too much about the cinematography (it's supposed to look like a home video) and it's just like a serious version of Kath and Kim... it's stupid.<br /><br />It's too normal to be Kath and Kim. Kath and Kim are supposed to be two curvy, middle-aged women who think they are hot and wear ridiculous clothes. There are no \"Look at me Kimmy!\" jokes. The fat friend of Kim is not fat at all and she's not even slightly stupid. She's a stereotypical black/Latino chick.<br /><br />It's just not as stupid or funny as the Australian series. It doesn't compare. Nothing is the same. I admit, this show is pretty funny at times, but it is NOT anything like the Aussie series. I was looking forward to an American take on a bogan family. They failed. It's supposed to be REALLY stupid and hilarious, but the actors don't act stupid! To me, this is just a typical American TV show. It's a let down if you want it to be anything like the Aussie show.<br /><br />2 Stars because it is an OKAY show, just nothing like what it should be.\n"
          ]
        }
      ],
      "source": [
        "#Printing the data brfore pre processing\n",
        "\n",
        "print(X_train[0])\n",
        "print(X_test[0])\n",
        "print(X_val[0])"
      ],
      "id": "6d46f9da"
    },
    {
      "cell_type": "code",
      "execution_count": null,
      "metadata": {
        "colab": {
          "base_uri": "https://localhost:8080/"
        },
        "id": "a6ed3979",
        "outputId": "90df60e4-ef36-4bb9-8395-0d5cffd65b0e"
      },
      "outputs": [
        {
          "output_type": "stream",
          "name": "stdout",
          "text": [
            "Int64Index([12276,  4319,  4210, 20735, 49290, 39716, 45480,  6587, 17792,\n",
            "            42351,\n",
            "            ...\n",
            "            42187, 36288, 22917,   710, 11540, 17731, 25976, 36837, 35597,\n",
            "            23156],\n",
            "           dtype='int64', length=15000)\n",
            "Int64Index([37705, 15809, 25154, 10620,  6067, 11681, 46162, 44805,  4023,\n",
            "            18822,\n",
            "            ...\n",
            "            14298, 49558, 37247, 48609, 42453,  4235,  2155, 26268, 42437,\n",
            "            21006],\n",
            "           dtype='int64', length=19950)\n",
            "Int64Index([  861, 15012, 42736, 20335, 47365, 43667, 29783,  7072, 14691,\n",
            "            44643,\n",
            "            ...\n",
            "            44013, 26105, 39106,   796, 22364, 33486,  9510, 24406, 45997,\n",
            "            18961],\n",
            "           dtype='int64', length=15050)\n"
          ]
        }
      ],
      "source": [
        "#seeing the index locations for the variables\n",
        "\n",
        "print(y_train.index)\n",
        "print(y_test.index)\n",
        "print(y_val.index)"
      ],
      "id": "a6ed3979"
    },
    {
      "cell_type": "code",
      "execution_count": null,
      "metadata": {
        "id": "aa429b55"
      },
      "outputs": [],
      "source": [
        "#resetting the index locations\n",
        "\n",
        "y_train = y_train.reset_index(drop=True)\n",
        "y_test = y_test.reset_index(drop=True)\n",
        "y_val = y_val.reset_index(drop=True)"
      ],
      "id": "aa429b55"
    },
    {
      "cell_type": "code",
      "execution_count": null,
      "metadata": {
        "colab": {
          "base_uri": "https://localhost:8080/"
        },
        "id": "266952ff",
        "outputId": "06577682-0ba0-4fc9-9e43-1789d647d10e"
      },
      "outputs": [
        {
          "output_type": "stream",
          "name": "stdout",
          "text": [
            "RangeIndex(start=0, stop=15000, step=1)\n",
            "RangeIndex(start=0, stop=19950, step=1)\n",
            "RangeIndex(start=0, stop=15050, step=1)\n"
          ]
        }
      ],
      "source": [
        "print(y_train.index)\n",
        "print(y_test.index)\n",
        "print(y_val.index)"
      ],
      "id": "266952ff"
    },
    {
      "cell_type": "code",
      "execution_count": null,
      "metadata": {
        "colab": {
          "base_uri": "https://localhost:8080/"
        },
        "id": "35190789",
        "outputId": "9b21f662-3e7e-4e3a-d52b-ba9b2bba14d1"
      },
      "outputs": [
        {
          "output_type": "stream",
          "name": "stdout",
          "text": [
            "positive\n",
            "positive\n",
            "negative\n"
          ]
        }
      ],
      "source": [
        "print(y_train[0])\n",
        "print(y_test[0])\n",
        "print(y_val[0])"
      ],
      "id": "35190789"
    },
    {
      "cell_type": "code",
      "execution_count": null,
      "metadata": {
        "id": "WfzB5KuXRWf-"
      },
      "outputs": [],
      "source": [
        "def preprocess_text(text):\n",
        "    # Removing HTML tags\n",
        "    text = re.sub('<.*?>', '', text)\n",
        "\n",
        "    # Removing accented characters by normalizing to ASCII\n",
        "    text = unicodedata.normalize('NFKD', text).encode('ascii', 'ignore').decode('utf-8', 'ignore')\n",
        "\n",
        "    # Replacing patterns like n't, nt, and n t with not\n",
        "    text = re.sub(r\"\\b(n['’]?t|n\\s?t)\\b\", ' not', text)\n",
        "\n",
        "    # Removing special characters\n",
        "    text = re.sub(\"[^a-zA-Z0-9,'!]\", ' ', text)\n",
        "\n",
        "    # Converting text to lowercase\n",
        "    text = text.lower()\n",
        "\n",
        "    # Separating text into sentences based on punctuations and then removing punctuations\n",
        "    sentences = re.split(r'[.!?]', text)\n",
        "    sentences = [re.sub('[,]', '', sentence) for sentence in sentences]\n",
        "\n",
        "    # Removing extra spaces\n",
        "    text = ' '.join(' '.join(sentence.split()) for sentence in sentences)\n",
        "\n",
        "    return text"
      ],
      "id": "WfzB5KuXRWf-"
    },
    {
      "cell_type": "code",
      "execution_count": null,
      "metadata": {
        "id": "dc48330c"
      },
      "outputs": [],
      "source": [
        "# Preprocessing the data\n",
        "\n",
        "X_train_preprocessed = [preprocess_text(text) for text in X_train]\n",
        "\n",
        "X_test_preprocessed = [preprocess_text(text) for text in X_test]\n",
        "\n",
        "X_val_preprocessed = [preprocess_text(text) for text in X_val]\n"
      ],
      "id": "dc48330c"
    },
    {
      "cell_type": "code",
      "execution_count": null,
      "metadata": {
        "id": "b5A_WZqOoQlR"
      },
      "outputs": [],
      "source": [
        "# Preprocessing the data\n",
        "\n",
        "y_train_preprocessed = [preprocess_text(text) for text in y_train]\n",
        "\n",
        "y_test_preprocessed = [preprocess_text(text) for text in y_test]\n",
        "\n",
        "y_val_preprocessed = [preprocess_text(text) for text in y_val]\n"
      ],
      "id": "b5A_WZqOoQlR"
    },
    {
      "cell_type": "code",
      "execution_count": null,
      "metadata": {
        "colab": {
          "base_uri": "https://localhost:8080/"
        },
        "id": "244e45ff",
        "outputId": "cb1b8bd7-308d-4162-d29f-542d3053a9f0",
        "scrolled": true
      },
      "outputs": [
        {
          "output_type": "stream",
          "name": "stdout",
          "text": [
            "the 4th pokemon movie made me cry when celebi died don't you dare say that pokemon sucks i don't like it when people say that i've liked pokemon for 5 or 6 years so everyone should enjoy pokemon including this movie and other pokemon movies so without further ado please say that pokemon is great and should be enjoyed by people for all ages and also why do pokemon haters give low ratings for all or most of the pokemon movies i don't understand they shouldn't do that there's absolutely no reason why people should just vote without proving that pokemon sucks besides the fact that 1 pokemon is for little kids only 2 pokemon is stupid and 3 people shouldn't like pokemon i think this is why people don't like pokemon\n",
            "the gimmick as it were of this 1934 paramount comedy is the six comedy performers paired off into three man and woman teams who all appear together w c fields and his frequent screen partner alsion skipworth appear in the second half of the film and shine in their roles as a small town sheriff and innkeeper fields seems to have been given the latitude to inject plenty of his own one of a kind brand of misanthropic surreal comedy into his part and it works wonderfully especially where he is allowed to do his famous pool table routine a digression that is totally welcome since it is hilarious at first thought it might have seemed like a mismatch to conceive of a film to be carried by the subtle domestic comedy of charlie ruggles and mary boland next to the broad jokey vaudeville patter of the great husband and wife comedy team of george burns and gracie allen but here it works perfectly because of the parts george and gracie are given in the script they are there are freeloaders hitching a ride to california on ruggles' and boland's honeymoon trip and consistently find ways to annoy them at every step including brilliantly while they are each holding on to the side of a cliff for dear life making burns and allen comic annoyances to two sympathetic characters turns out to be a perfect way to fit their far out larger than life comedy characters into a real world setting the comedy of people reacting to them in a believable way turns out to be as much as a gold mine as gracie's famous naive delivery itself charlie ruggles deserves special mention for his performance as the fussy banker pinky whinney he's marvelously subtle and underplayed and draws laughs from lines that in another actor's hands might not even have been heard the script is wonderfully witty all through and most of the way it's a perfectly extended comedy of frustration in which our sympathies are with the poor whinneys who can't get a moment alone and the extra bonus is that what frustrates them is just more first rate comedy material from burns and allen for the pre code watchers out there there is some rather suggestive material in some of the most amusing scenes as whinney tries to get across to george just why he and his wife want to be alone for a while there are a few signs of a rushed production here the occasional jump cut one of the most obvious drop sets you will ever see in a movie right up there with w c field's own short the golf specialist and the knot in field's tie is constantly changing in shape these don't bother me though and they shouldn't bother anybody who is enjoying the film six of a kind is a real little known gem and one of the funniest movies i've seen in a while if you're thinking about whether to watch it the answer should be yes\n",
            "it isn't too bad but ultimately it lacks the quality that the australian series has the jokes are few and far between the actors are attractive they shouldn't be the film makers think far too much about the cinematography it's supposed to look like a home video and it's just like a serious version of kath and kim it's stupid it's too normal to be kath and kim kath and kim are supposed to be two curvy middle aged women who think they are hot and wear ridiculous clothes there are no look at me kimmy jokes the fat friend of kim is not fat at all and she's not even slightly stupid she's a stereotypical black latino chick it's just not as stupid or funny as the australian series it doesn't compare nothing is the same i admit this show is pretty funny at times but it is not anything like the aussie series i was looking forward to an american take on a bogan family they failed it's supposed to be really stupid and hilarious but the actors don't act stupid to me this is just a typical american tv show it's a let down if you want it to be anything like the aussie show 2 stars because it is an okay show just nothing like what it should be\n"
          ]
        }
      ],
      "source": [
        "#Printing pre processed data\n",
        "\n",
        "print(X_train_preprocessed[0])\n",
        "print(X_test_preprocessed[0])\n",
        "print(X_val_preprocessed[0])"
      ],
      "id": "244e45ff"
    },
    {
      "cell_type": "markdown",
      "metadata": {
        "id": "g8cgsBICNtdQ"
      },
      "source": [
        "Tokenizing and creating datasets for train, validation and test sets so they can be used through out different types of training sessions and evaluation of diferent models"
      ],
      "id": "g8cgsBICNtdQ"
    },
    {
      "cell_type": "code",
      "execution_count": null,
      "metadata": {
        "colab": {
          "base_uri": "https://localhost:8080/",
          "height": 197,
          "referenced_widgets": [
            "fdebcf7051514ed2872d6f308913256e",
            "8d9a58e5d0fa4ef1b11cd7830a49b8b2",
            "a979c023f3424eff8452c82b56c03f28",
            "66678f1de34247f2ab1d9de36ac81a1b",
            "9e2288289ee44c80a190449f9ac6972e",
            "7561ee9f8ced4c249dd4e6f56d6b79b7",
            "08051f5cb89b47d9be388ea1f4121376",
            "e15737bbac0f417083c084d58beaff62",
            "7a3ee31a2c0749ea9fcdf093950c1216",
            "738ac38fae4042a0bf83139a15786acd",
            "e65f97cdd5f242e8b7b1e6aa3bc26f89",
            "6c58d21c19284f9692ad00236c7de052",
            "064ec1ab11c34e3488acf240d6658b82",
            "894e88594c124158807a16bb115d11fb",
            "90f31f840dc448fb8f969fe7e33aeccf",
            "d7a1a394243c4c0fba271ea8485f053f",
            "76c1aa6677294abb87ea82900484d742",
            "8d475030810341beabd4964184725040",
            "7fec0dfb0dee47a9aee407a8d265bd6b",
            "d5eff3e8bb744c89b4bbce8aecf88510",
            "a4f085d8830e4dfd9cf917a873cb3aae",
            "114ab3c61fbb463c81896b5b39dc88cb",
            "7ee5941c2d2c43a6808c95ef597233b7",
            "305b788f622d480281e6feff1ecbf393",
            "f0022620a4464e05a687f2ad613942ce",
            "726a8a518c9a41a2b95c76a1389c6473",
            "0a319abd8e22467ead954086a03bee45",
            "153f069ef26843f5b83b6072b66dbf0d",
            "fea0f67bec6648e19db2b3c3b6098c7f",
            "5aedca8cb55c48fc8892291d385708d5",
            "cb36ce9d4b804faa93c92a9b377a690e",
            "6fd2dafd1afa4705a2c91e9dfad9a622",
            "bfce6ea8dd2d48fe9bb1e38eccd58f6d"
          ]
        },
        "id": "1e9c29f9",
        "outputId": "ba4f8894-bea3-4080-895a-ba67fd9ebe0d",
        "scrolled": false
      },
      "outputs": [
        {
          "output_type": "display_data",
          "data": {
            "text/plain": [
              "Downloading (…)solve/main/vocab.txt:   0%|          | 0.00/232k [00:00<?, ?B/s]"
            ],
            "application/vnd.jupyter.widget-view+json": {
              "version_major": 2,
              "version_minor": 0,
              "model_id": "fdebcf7051514ed2872d6f308913256e"
            }
          },
          "metadata": {}
        },
        {
          "output_type": "display_data",
          "data": {
            "text/plain": [
              "Downloading (…)okenizer_config.json:   0%|          | 0.00/28.0 [00:00<?, ?B/s]"
            ],
            "application/vnd.jupyter.widget-view+json": {
              "version_major": 2,
              "version_minor": 0,
              "model_id": "6c58d21c19284f9692ad00236c7de052"
            }
          },
          "metadata": {}
        },
        {
          "output_type": "display_data",
          "data": {
            "text/plain": [
              "Downloading (…)lve/main/config.json:   0%|          | 0.00/570 [00:00<?, ?B/s]"
            ],
            "application/vnd.jupyter.widget-view+json": {
              "version_major": 2,
              "version_minor": 0,
              "model_id": "7ee5941c2d2c43a6808c95ef597233b7"
            }
          },
          "metadata": {}
        }
      ],
      "source": [
        "tokenizer = BertTokenizer.from_pretrained('bert-base-uncased')"
      ],
      "id": "1e9c29f9"
    },
    {
      "cell_type": "code",
      "execution_count": null,
      "metadata": {
        "id": "7H9Kbj8altls"
      },
      "outputs": [],
      "source": [
        "# Tokenizing and encoding the train data\n",
        "X_train_encoded = tokenizer.batch_encode_plus(\n",
        "    X_train_preprocessed,\n",
        "    padding=True,\n",
        "    truncation=True,\n",
        "    max_length=512,\n",
        "    return_tensors='pt'\n",
        ")\n",
        "# Tokenizing and encoding the validation data\n",
        "X_val_encoded = tokenizer.batch_encode_plus(\n",
        "    X_val_preprocessed,\n",
        "    padding=True,\n",
        "    truncation=True,\n",
        "    max_length=512,\n",
        "    return_tensors='pt'\n",
        ")"
      ],
      "id": "7H9Kbj8altls"
    },
    {
      "cell_type": "code",
      "execution_count": null,
      "metadata": {
        "id": "2UHfvfiFlycP"
      },
      "outputs": [],
      "source": [
        "label_map = {\"positive\": 1, \"negative\": 0}\n",
        "\n",
        "# Extracting input tensors from the encoded data\n",
        "input_ids_train = X_train_encoded['input_ids']\n",
        "attention_masks_train = X_train_encoded['attention_mask']\n",
        "labels_train = torch.tensor([label_map[label] for label in y_train_preprocessed])\n",
        "\n",
        "input_ids_val = X_val_encoded['input_ids']\n",
        "attention_masks_val = X_val_encoded['attention_mask']\n",
        "labels_val = torch.tensor([label_map[label] for label in y_val_preprocessed])\n",
        "\n",
        "# Creating datasets\n",
        "train_dataset = TensorDataset(input_ids_train, attention_masks_train, labels_train)\n",
        "val_dataset = TensorDataset(input_ids_val, attention_masks_val, labels_val)"
      ],
      "id": "2UHfvfiFlycP"
    },
    {
      "cell_type": "code",
      "execution_count": null,
      "metadata": {
        "id": "W9ilC5yKNfx2"
      },
      "outputs": [],
      "source": [
        "# Tokenizing and encoding the test data\n",
        "X_test_encoded = tokenizer.batch_encode_plus(\n",
        "    X_test_preprocessed,\n",
        "    padding=True,\n",
        "    truncation=True,\n",
        "    max_length=512,\n",
        "    return_tensors='pt'\n",
        ")"
      ],
      "id": "W9ilC5yKNfx2"
    },
    {
      "cell_type": "code",
      "execution_count": null,
      "metadata": {
        "id": "2NqSgZcGNfx2"
      },
      "outputs": [],
      "source": [
        "# Extracting input tensors and attention masks from the encoded data\n",
        "label_map = {\"positive\": 1, \"negative\": 0}\n",
        "\n",
        "input_ids_test = X_test_encoded['input_ids']\n",
        "attention_masks_test = X_test_encoded['attention_mask']\n",
        "labels_test = torch.tensor([label_map[label] for label in y_test_preprocessed])\n",
        "\n",
        "# Creating datasets\n",
        "test_dataset = TensorDataset(input_ids_test, attention_masks_test, labels_test)"
      ],
      "id": "2NqSgZcGNfx2"
    },
    {
      "cell_type": "code",
      "execution_count": null,
      "metadata": {
        "id": "32035a33",
        "scrolled": true
      },
      "outputs": [],
      "source": [
        "# Setting the device (CPU or GPU)\n",
        "device = torch.device('cuda' if torch.cuda.is_available() else 'cpu')"
      ],
      "id": "32035a33"
    },
    {
      "cell_type": "markdown",
      "metadata": {
        "id": "OL__KiCqBavl"
      },
      "source": [
        "# 1. SGD Optimizer"
      ],
      "id": "OL__KiCqBavl"
    },
    {
      "cell_type": "code",
      "execution_count": null,
      "metadata": {
        "colab": {
          "base_uri": "https://localhost:8080/",
          "height": 218,
          "referenced_widgets": [
            "6e0ae22bd645491a9ace88994806a05d",
            "5ecfafd4923a4048a089ba0bd80abb67",
            "e8a46ee4e06945ffa6346275bcbbff15",
            "340e56c96f55473590cb905eb5cc4166",
            "6fa04d76665f482fafa789858148fcc0",
            "b78fb5f6264147e498919f2d5056a9cd",
            "b9f004436675402bbdb03de5c1e20220",
            "d46c5dbcf9214178921fcf75e7d615e0",
            "463686cf7bd04421aaa5b144f39fddbb",
            "264be7099d144cabb854b6d814bd3080",
            "809e478cf6ab4eb8aea4fda602d91fab"
          ]
        },
        "id": "M1sJZs6wB1bE",
        "outputId": "4a701683-7f6a-4e74-a730-56a1af9f8750"
      },
      "outputs": [
        {
          "data": {
            "application/vnd.jupyter.widget-view+json": {
              "model_id": "6e0ae22bd645491a9ace88994806a05d",
              "version_major": 2,
              "version_minor": 0
            },
            "text/plain": [
              "Downloading model.safetensors:   0%|          | 0.00/440M [00:00<?, ?B/s]"
            ]
          },
          "metadata": {},
          "output_type": "display_data"
        },
        {
          "name": "stderr",
          "output_type": "stream",
          "text": [
            "Some weights of BertForSequenceClassification were not initialized from the model checkpoint at bert-base-uncased and are newly initialized: ['classifier.bias', 'classifier.weight']\n",
            "You should probably TRAIN this model on a down-stream task to be able to use it for predictions and inference.\n"
          ]
        },
        {
          "name": "stdout",
          "output_type": "stream",
          "text": [
            "Epoch 1/5, Loss: 0.6860734655698141, Validation Accuracy: 0.6585382059800664\n",
            "Epoch 2/5, Loss: 0.5821970030148824, Validation Accuracy: 0.8019269102990033\n",
            "Epoch 3/5, Loss: 0.3858882559776306, Validation Accuracy: 0.8728239202657807\n",
            "Epoch 4/5, Loss: 0.32177854239145914, Validation Accuracy: 0.8837873754152824\n",
            "Epoch 5/5, Loss: 0.2935196684837341, Validation Accuracy: 0.8885049833887043\n"
          ]
        }
      ],
      "source": [
        "model = BertForSequenceClassification.from_pretrained('bert-base-uncased', num_labels=2).to(device)\n",
        "\n",
        "# declaring Hyperparameters\n",
        "batch_size = 32\n",
        "early_stopping_patience = 3\n",
        "epochs_without_improvement = 0\n",
        "num_cpu = 12\n",
        "num_epochs = 5\n",
        "best_accuracy = 0.0\n",
        "train_losses = []\n",
        "val_accuracies = []\n",
        "train_losses.clear()\n",
        "val_accuracies.clear()\n",
        "\n",
        "# optimizer\n",
        "optimizer = optim.SGD(model.parameters(), lr= 2e-5, momentum=0.9)\n",
        "\n",
        "# Creating data loaders\n",
        "train_dataloader = DataLoader(train_dataset, batch_size=batch_size, num_workers=num_cpu, pin_memory=True, shuffle=True)\n",
        "val_dataloader = DataLoader(val_dataset, batch_size=batch_size, num_workers=num_cpu, pin_memory=True, shuffle=False)\n",
        "\n",
        "for epoch in range(num_epochs):\n",
        "    running_loss = 0.0\n",
        "\n",
        "    # Training\n",
        "    model.train()\n",
        "    for inputs, attention_masks, labels in train_dataloader:\n",
        "        inputs = inputs.to(device)\n",
        "        attention_masks = attention_masks.to(device)\n",
        "        labels = labels.to(device)\n",
        "\n",
        "        optimizer.zero_grad()\n",
        "        outputs = model(inputs, attention_mask=attention_masks, labels = labels)\n",
        "\n",
        "        loss = outputs.loss\n",
        "\n",
        "        loss.backward()\n",
        "\n",
        "        optimizer.step()\n",
        "\n",
        "        running_loss += loss.item() * inputs.size(0)\n",
        "\n",
        "\n",
        "    # Calculate average loss for the epoch\n",
        "    epoch_loss = running_loss / len(train_dataset)\n",
        "    train_losses.append(epoch_loss)\n",
        "\n",
        "\n",
        "   # Validation\n",
        "    model.eval()  # Setting model to evaluation mode\n",
        "    correct_predictions = 0\n",
        "    total_predictions = 0\n",
        "\n",
        "    with torch.no_grad():\n",
        "        for inputs, attention_masks, labels in val_dataloader:\n",
        "            inputs = inputs.to(device)\n",
        "            attention_masks = attention_masks.to(device)\n",
        "            labels = labels.to(device)\n",
        "\n",
        "            # Get model's predictions\n",
        "            outputs = model(inputs, attention_mask=attention_masks)\n",
        "            predicted_labels = torch.argmax(outputs.logits, dim=1)\n",
        "\n",
        "            correct_predictions += (predicted_labels == labels).sum().item()\n",
        "            total_predictions += labels.size(0)\n",
        "\n",
        "    accuracy = correct_predictions / total_predictions\n",
        "    val_accuracies.append(accuracy)\n",
        "\n",
        "\n",
        "    if accuracy > best_accuracy:\n",
        "        best_accuracy = accuracy\n",
        "        epochs_without_improvement = 0\n",
        "        best_model_state = model.state_dict()\n",
        "    else:\n",
        "        epochs_without_improvement += 1\n",
        "        if epochs_without_improvement >= early_stopping_patience:\n",
        "            print(\"Early stopping triggered.\")\n",
        "            break\n",
        "\n",
        "    # Printing the loss and accuracy for each epoch\n",
        "    print(f\"Epoch {epoch+1}/{num_epochs}, Loss: {epoch_loss}, Validation Accuracy: {accuracy}\")\n",
        "\n",
        "# Saving the trained model\n",
        "BERT_Tuned_file = \"/content/drive/MyDrive/Colab Notebooks/BBSGD.pt\"\n",
        "torch.save(best_model_state, BERT_Tuned_file)"
      ],
      "id": "M1sJZs6wB1bE"
    },
    {
      "cell_type": "code",
      "execution_count": null,
      "metadata": {
        "colab": {
          "base_uri": "https://localhost:8080/",
          "height": 348
        },
        "id": "KeepJ2JVB1bF",
        "outputId": "e655abc4-e09d-4c04-dc73-36684cbd728d"
      },
      "outputs": [
        {
          "data": {
            "image/png": "[encoded data removed]",
            "text/plain": [
              "<Figure size 1000x500 with 2 Axes>"
            ]
          },
          "metadata": {},
          "output_type": "display_data"
        }
      ],
      "source": [
        "# Plotting epoch loss and validation accuracy graphs\n",
        "num_epochs = len(train_losses)\n",
        "plt.figure(figsize=(10, 5))\n",
        "plt.subplot(1, 2, 1)\n",
        "plt.plot(range(1, num_epochs + 1), train_losses, label='Train Loss', color='red')\n",
        "plt.xlabel('Epoch')\n",
        "plt.ylabel('Loss')\n",
        "plt.title('Epoch Loss')\n",
        "plt.legend()\n",
        "\n",
        "plt.subplot(1, 2, 2)\n",
        "plt.plot(range(1, num_epochs + 1), val_accuracies, label='Validation Accuracy', color='green')\n",
        "plt.xlabel('Epoch')\n",
        "plt.ylabel('Accuracy')\n",
        "plt.title('Validation Accuracy')\n",
        "plt.legend()\n",
        "\n",
        "save_path = \"/content/drive/MyDrive/Colab Notebooks/BBSGD_plot.png\"\n",
        "plt.savefig(save_path)\n",
        "\n",
        "plt.tight_layout()\n",
        "plt.show()"
      ],
      "id": "KeepJ2JVB1bF"
    },
    {
      "cell_type": "code",
      "execution_count": null,
      "metadata": {
        "colab": {
          "base_uri": "https://localhost:8080/",
          "height": 913,
          "referenced_widgets": [
            "1ea1de01f8c144b6ac7e52000860ea19",
            "eca39bb8cfe04d0c9a92ac8b3993a35b",
            "6b13a767893e47cba67dd7d75f507e47",
            "c8156e05b82e498e88250f6769eb8d53",
            "315926e762db48cbb60a797d0d80b60a",
            "ff2f32dccfc744528c2b06d47d362ebc",
            "3967140ae04f43de89acade7c21642c9",
            "d6cc90e28980446682e357e24b5bae6d",
            "6a908e423d9e4c9dba980b8a474694a2",
            "e6d8ecb054e445aeb6335474ba55e5c5",
            "dec1dbd77afc4b23abeb5cc0e1ccb0b4"
          ]
        },
        "id": "dIwQyh8RB1bF",
        "outputId": "8023ebd9-205e-4466-eb8f-aab3c7776b1d"
      },
      "outputs": [
        {
          "output_type": "display_data",
          "data": {
            "text/plain": [
              "Downloading model.safetensors:   0%|          | 0.00/440M [00:00<?, ?B/s]"
            ],
            "application/vnd.jupyter.widget-view+json": {
              "version_major": 2,
              "version_minor": 0,
              "model_id": "1ea1de01f8c144b6ac7e52000860ea19"
            }
          },
          "metadata": {}
        },
        {
          "output_type": "stream",
          "name": "stderr",
          "text": [
            "Some weights of BertForSequenceClassification were not initialized from the model checkpoint at bert-base-uncased and are newly initialized: ['classifier.weight', 'classifier.bias']\n",
            "You should probably TRAIN this model on a down-stream task to be able to use it for predictions and inference.\n"
          ]
        },
        {
          "output_type": "execute_result",
          "data": {
            "text/plain": [
              "BertForSequenceClassification(\n",
              "  (bert): BertModel(\n",
              "    (embeddings): BertEmbeddings(\n",
              "      (word_embeddings): Embedding(30522, 768, padding_idx=0)\n",
              "      (position_embeddings): Embedding(512, 768)\n",
              "      (token_type_embeddings): Embedding(2, 768)\n",
              "      (LayerNorm): LayerNorm((768,), eps=1e-12, elementwise_affine=True)\n",
              "      (dropout): Dropout(p=0.1, inplace=False)\n",
              "    )\n",
              "    (encoder): BertEncoder(\n",
              "      (layer): ModuleList(\n",
              "        (0-11): 12 x BertLayer(\n",
              "          (attention): BertAttention(\n",
              "            (self): BertSelfAttention(\n",
              "              (query): Linear(in_features=768, out_features=768, bias=True)\n",
              "              (key): Linear(in_features=768, out_features=768, bias=True)\n",
              "              (value): Linear(in_features=768, out_features=768, bias=True)\n",
              "              (dropout): Dropout(p=0.1, inplace=False)\n",
              "            )\n",
              "            (output): BertSelfOutput(\n",
              "              (dense): Linear(in_features=768, out_features=768, bias=True)\n",
              "              (LayerNorm): LayerNorm((768,), eps=1e-12, elementwise_affine=True)\n",
              "              (dropout): Dropout(p=0.1, inplace=False)\n",
              "            )\n",
              "          )\n",
              "          (intermediate): BertIntermediate(\n",
              "            (dense): Linear(in_features=768, out_features=3072, bias=True)\n",
              "            (intermediate_act_fn): GELUActivation()\n",
              "          )\n",
              "          (output): BertOutput(\n",
              "            (dense): Linear(in_features=3072, out_features=768, bias=True)\n",
              "            (LayerNorm): LayerNorm((768,), eps=1e-12, elementwise_affine=True)\n",
              "            (dropout): Dropout(p=0.1, inplace=False)\n",
              "          )\n",
              "        )\n",
              "      )\n",
              "    )\n",
              "    (pooler): BertPooler(\n",
              "      (dense): Linear(in_features=768, out_features=768, bias=True)\n",
              "      (activation): Tanh()\n",
              "    )\n",
              "  )\n",
              "  (dropout): Dropout(p=0.1, inplace=False)\n",
              "  (classifier): Linear(in_features=768, out_features=2, bias=True)\n",
              ")"
            ]
          },
          "metadata": {},
          "execution_count": 29
        }
      ],
      "source": [
        "# Loading trained model\n",
        "BERT_Tuned_file = \"/content/drive/MyDrive/Colab Notebooks/BBSGD.pt\"\n",
        "model.load_state_dict(torch.load(BERT_Tuned_file))\n",
        "model.eval()"
      ],
      "id": "dIwQyh8RB1bF"
    },
    {
      "cell_type": "code",
      "execution_count": null,
      "metadata": {
        "id": "7AiuuIiSB1bG",
        "colab": {
          "base_uri": "https://localhost:8080/"
        },
        "outputId": "98d1f771-e206-412d-93ca-effc1e31935e"
      },
      "outputs": [
        {
          "output_type": "stream",
          "name": "stdout",
          "text": [
            "Accuracy: 88.45%\n",
            "Classification Report:\n",
            "               precision    recall  f1-score   support\n",
            "\n",
            "    negative       0.91      0.86      0.88     10012\n",
            "    positive       0.86      0.91      0.89      9938\n",
            "\n",
            "    accuracy                           0.88     19950\n",
            "   macro avg       0.89      0.88      0.88     19950\n",
            "weighted avg       0.89      0.88      0.88     19950\n",
            "\n",
            "Confusion Matrix:\n",
            " [[8588 1424]\n",
            " [ 880 9058]]\n"
          ]
        }
      ],
      "source": [
        "model.to(device)\n",
        "\n",
        "# Creating dataloaders for test\n",
        "batch_size = 32\n",
        "num_cpu = 12\n",
        "\n",
        "test_dataloader = DataLoader(test_dataset, batch_size=batch_size, num_workers=num_cpu, pin_memory=True, shuffle=False)\n",
        "\n",
        "# Evaluating the model on the test set\n",
        "all_preds = []\n",
        "all_labels = []\n",
        "\n",
        "all_preds.clear()\n",
        "all_labels.clear()\n",
        "\n",
        "with torch.no_grad():\n",
        "        for inputs, attention_masks, labels in test_dataloader:\n",
        "            inputs = inputs.to(device)\n",
        "            attention_masks = attention_masks.to(device)\n",
        "            labels = labels.to(device)\n",
        "\n",
        "            outputs = model(inputs, attention_mask=attention_masks)\n",
        "            _, preds = torch.max(outputs.logits, dim=1)\n",
        "\n",
        "            all_preds.extend(preds.cpu().numpy())\n",
        "            all_labels.extend(labels.cpu().numpy())\n",
        "\n",
        "# Calculating evaluation metrics\n",
        "accuracy = accuracy_score(all_labels, all_preds) * 100\n",
        "\n",
        "class_names = [\"negative\", \"positive\"]\n",
        "class_report = classification_report(all_labels, all_preds, target_names=class_names)\n",
        "conf_matrix = confusion_matrix(all_labels, all_preds)\n",
        "\n",
        "print(f\"Accuracy: {accuracy:.2f}%\")\n",
        "print(\"Classification Report:\\n\", class_report)\n",
        "print(\"Confusion Matrix:\\n\", conf_matrix)"
      ],
      "id": "7AiuuIiSB1bG"
    },
    {
      "cell_type": "markdown",
      "metadata": {
        "id": "ekByAwlVhdyq"
      },
      "source": [
        "# 2 SGD Optimizer with RLrOnPlateu LR Scheduler\n",
        "\n",
        "\n"
      ],
      "id": "ekByAwlVhdyq"
    },
    {
      "cell_type": "code",
      "execution_count": null,
      "metadata": {
        "id": "fMhS5GD9gFAS"
      },
      "outputs": [],
      "source": [
        "from torch.optim.lr_scheduler import ReduceLROnPlateau"
      ],
      "id": "fMhS5GD9gFAS"
    },
    {
      "cell_type": "code",
      "execution_count": null,
      "metadata": {
        "colab": {
          "base_uri": "https://localhost:8080/"
        },
        "id": "qwvT0_T9bosk",
        "outputId": "6f319a38-d914-4467-ab2e-5904547e03d8"
      },
      "outputs": [
        {
          "name": "stderr",
          "output_type": "stream",
          "text": [
            "Some weights of BertForSequenceClassification were not initialized from the model checkpoint at bert-base-uncased and are newly initialized: ['classifier.bias', 'classifier.weight']\n",
            "You should probably TRAIN this model on a down-stream task to be able to use it for predictions and inference.\n"
          ]
        },
        {
          "name": "stdout",
          "output_type": "stream",
          "text": [
            "Epoch 1/5, Loss: 0.6926908199310303, Validation Accuracy: 0.6078405315614618\n",
            "Epoch 2/5, Loss: 0.6677060813903809, Validation Accuracy: 0.661594684385382\n",
            "Epoch 3/5, Loss: 0.597913783899943, Validation Accuracy: 0.7772757475083056\n",
            "Epoch 4/5, Loss: 0.4133301480611165, Validation Accuracy: 0.8601993355481727\n",
            "Epoch 5/5, Loss: 0.3253521229902903, Validation Accuracy: 0.878139534883721\n"
          ]
        }
      ],
      "source": [
        "model = BertForSequenceClassification.from_pretrained('bert-base-uncased', num_labels=2).to(device)\n",
        "\n",
        "# declaring Hyperparameters\n",
        "batch_size = 32\n",
        "early_stopping_patience = 3\n",
        "epochs_without_improvement = 0\n",
        "num_cpu = 12\n",
        "num_epochs = 5\n",
        "best_accuracy = 0.0\n",
        "train_losses = []\n",
        "val_accuracies = []\n",
        "train_losses.clear()\n",
        "val_accuracies.clear()\n",
        "\n",
        "# optimizer\n",
        "optimizer = optim.SGD(model.parameters(), lr= 2e-5, momentum=0.9)\n",
        "scheduler = ReduceLROnPlateau(optimizer, mode='min', factor=0.1, patience=1, verbose=True)\n",
        "\n",
        "# Creating data loaders\n",
        "train_dataloader = DataLoader(train_dataset, batch_size=batch_size, num_workers=num_cpu, pin_memory=True, shuffle=True)\n",
        "val_dataloader = DataLoader(val_dataset, batch_size=batch_size, num_workers=num_cpu, pin_memory=True, shuffle=False)\n",
        "\n",
        "for epoch in range(num_epochs):\n",
        "    running_loss = 0.0\n",
        "\n",
        "    # Training\n",
        "    model.train()\n",
        "    for inputs, attention_masks, labels in train_dataloader:\n",
        "        inputs = inputs.to(device)\n",
        "        attention_masks = attention_masks.to(device)\n",
        "        labels = labels.to(device)\n",
        "\n",
        "        optimizer.zero_grad()\n",
        "        outputs = model(inputs, attention_mask=attention_masks, labels = labels)\n",
        "\n",
        "        loss = outputs.loss\n",
        "\n",
        "        loss.backward()\n",
        "        optimizer.step()\n",
        "\n",
        "        running_loss += loss.item() * inputs.size(0)\n",
        "\n",
        "\n",
        "    # Calculate average loss for the epoch\n",
        "    epoch_loss = running_loss / len(train_dataset)\n",
        "    train_losses.append(epoch_loss)\n",
        "\n",
        "    scheduler.step(epoch_loss)\n",
        "\n",
        "\n",
        "   # Validation\n",
        "    model.eval()  # Setting model to evaluation mode\n",
        "    correct_predictions = 0\n",
        "    total_predictions = 0\n",
        "\n",
        "    with torch.no_grad():\n",
        "        for inputs, attention_masks, labels in val_dataloader:\n",
        "            inputs = inputs.to(device)\n",
        "            attention_masks = attention_masks.to(device)\n",
        "            labels = labels.to(device)\n",
        "\n",
        "            # Get model's predictions\n",
        "            outputs = model(inputs, attention_mask=attention_masks)\n",
        "            predicted_labels = torch.argmax(outputs.logits, dim=1)\n",
        "\n",
        "            correct_predictions += (predicted_labels == labels).sum().item()\n",
        "            total_predictions += labels.size(0)\n",
        "\n",
        "    accuracy = correct_predictions / total_predictions\n",
        "    val_accuracies.append(accuracy)\n",
        "\n",
        "\n",
        "    if accuracy > best_accuracy:\n",
        "        best_accuracy = accuracy\n",
        "        epochs_without_improvement = 0\n",
        "        best_model_state = model.state_dict()\n",
        "    else:\n",
        "        epochs_without_improvement += 1\n",
        "        if epochs_without_improvement >= early_stopping_patience:\n",
        "            print(\"Early stopping triggered.\")\n",
        "            break\n",
        "\n",
        "    # Printing the loss and accuracy for each epoch\n",
        "    print(f\"Epoch {epoch+1}/{num_epochs}, Loss: {epoch_loss}, Validation Accuracy: {accuracy}\")\n",
        "\n",
        "# Saving the trained model\n",
        "BERT_Tuned_file = \"/content/drive/MyDrive/Colab Notebooks/BBSGD1.pt\"\n",
        "torch.save(best_model_state, BERT_Tuned_file)"
      ],
      "id": "qwvT0_T9bosk"
    },
    {
      "cell_type": "code",
      "execution_count": null,
      "metadata": {
        "colab": {
          "base_uri": "https://localhost:8080/",
          "height": 348
        },
        "id": "Nd4yp5aJbosk",
        "outputId": "3dba206d-fb67-4b9a-b49a-a65190eb7bda"
      },
      "outputs": [
        {
          "data": {
            "image/png": "[encoded data removed]",
            "text/plain": [
              "<Figure size 1000x500 with 2 Axes>"
            ]
          },
          "metadata": {},
          "output_type": "display_data"
        }
      ],
      "source": [
        "# Plotting epoch loss and validation accuracy graphs\n",
        "num_epochs = len(train_losses)\n",
        "plt.figure(figsize=(10, 5))\n",
        "plt.subplot(1, 2, 1)\n",
        "plt.plot(range(1, num_epochs + 1), train_losses, label='Train Loss', color='red')\n",
        "plt.xlabel('Epoch')\n",
        "plt.ylabel('Loss')\n",
        "plt.title('Epoch Loss')\n",
        "plt.legend()\n",
        "\n",
        "plt.subplot(1, 2, 2)\n",
        "plt.plot(range(1, num_epochs + 1), val_accuracies, label='Validation Accuracy', color='green')\n",
        "plt.xlabel('Epoch')\n",
        "plt.ylabel('Accuracy')\n",
        "plt.title('Validation Accuracy')\n",
        "plt.legend()\n",
        "\n",
        "save_path = \"/content/drive/MyDrive/Colab Notebooks/BBSGD1_plot.png\"\n",
        "plt.savefig(save_path)\n",
        "\n",
        "plt.tight_layout()\n",
        "plt.show()"
      ],
      "id": "Nd4yp5aJbosk"
    },
    {
      "cell_type": "code",
      "execution_count": null,
      "metadata": {
        "colab": {
          "base_uri": "https://localhost:8080/"
        },
        "id": "SIjvJPJHbosk",
        "outputId": "5caf366d-a70b-4758-e0bd-73536a6033a2"
      },
      "outputs": [
        {
          "data": {
            "text/plain": [
              "BertForSequenceClassification(\n",
              "  (bert): BertModel(\n",
              "    (embeddings): BertEmbeddings(\n",
              "      (word_embeddings): Embedding(30522, 768, padding_idx=0)\n",
              "      (position_embeddings): Embedding(512, 768)\n",
              "      (token_type_embeddings): Embedding(2, 768)\n",
              "      (LayerNorm): LayerNorm((768,), eps=1e-12, elementwise_affine=True)\n",
              "      (dropout): Dropout(p=0.1, inplace=False)\n",
              "    )\n",
              "    (encoder): BertEncoder(\n",
              "      (layer): ModuleList(\n",
              "        (0-11): 12 x BertLayer(\n",
              "          (attention): BertAttention(\n",
              "            (self): BertSelfAttention(\n",
              "              (query): Linear(in_features=768, out_features=768, bias=True)\n",
              "              (key): Linear(in_features=768, out_features=768, bias=True)\n",
              "              (value): Linear(in_features=768, out_features=768, bias=True)\n",
              "              (dropout): Dropout(p=0.1, inplace=False)\n",
              "            )\n",
              "            (output): BertSelfOutput(\n",
              "              (dense): Linear(in_features=768, out_features=768, bias=True)\n",
              "              (LayerNorm): LayerNorm((768,), eps=1e-12, elementwise_affine=True)\n",
              "              (dropout): Dropout(p=0.1, inplace=False)\n",
              "            )\n",
              "          )\n",
              "          (intermediate): BertIntermediate(\n",
              "            (dense): Linear(in_features=768, out_features=3072, bias=True)\n",
              "            (intermediate_act_fn): GELUActivation()\n",
              "          )\n",
              "          (output): BertOutput(\n",
              "            (dense): Linear(in_features=3072, out_features=768, bias=True)\n",
              "            (LayerNorm): LayerNorm((768,), eps=1e-12, elementwise_affine=True)\n",
              "            (dropout): Dropout(p=0.1, inplace=False)\n",
              "          )\n",
              "        )\n",
              "      )\n",
              "    )\n",
              "    (pooler): BertPooler(\n",
              "      (dense): Linear(in_features=768, out_features=768, bias=True)\n",
              "      (activation): Tanh()\n",
              "    )\n",
              "  )\n",
              "  (dropout): Dropout(p=0.1, inplace=False)\n",
              "  (classifier): Linear(in_features=768, out_features=2, bias=True)\n",
              ")"
            ]
          },
          "execution_count": 36,
          "metadata": {},
          "output_type": "execute_result"
        }
      ],
      "source": [
        "# Loading trained model\n",
        "BERT_Tuned_file = \"/content/drive/MyDrive/Colab Notebooks/BBSGD1.pt\"\n",
        "model.load_state_dict(torch.load(BERT_Tuned_file))\n",
        "model.eval()"
      ],
      "id": "SIjvJPJHbosk"
    },
    {
      "cell_type": "code",
      "execution_count": null,
      "metadata": {
        "colab": {
          "base_uri": "https://localhost:8080/"
        },
        "id": "LoctLc5Hbosl",
        "outputId": "e3942d50-f178-4a01-8d50-8cd962f2bfb7"
      },
      "outputs": [
        {
          "name": "stdout",
          "output_type": "stream",
          "text": [
            "Accuracy: 87.19%\n",
            "Classification Report:\n",
            "               precision    recall  f1-score   support\n",
            "\n",
            "    negative       0.90      0.84      0.87     10012\n",
            "    positive       0.85      0.91      0.88      9938\n",
            "\n",
            "    accuracy                           0.87     19950\n",
            "   macro avg       0.87      0.87      0.87     19950\n",
            "weighted avg       0.87      0.87      0.87     19950\n",
            "\n",
            "Confusion Matrix:\n",
            " [[8371 1641]\n",
            " [ 914 9024]]\n"
          ]
        }
      ],
      "source": [
        "model.to(device)\n",
        "\n",
        "# Creating dataloaders for test\n",
        "batch_size = 32\n",
        "num_cpu = 12\n",
        "\n",
        "test_dataloader = DataLoader(test_dataset, batch_size=batch_size, num_workers=num_cpu, pin_memory=True, shuffle=False)\n",
        "\n",
        "# Evaluating the model on the test set\n",
        "all_preds = []\n",
        "all_labels = []\n",
        "\n",
        "all_preds.clear()\n",
        "all_labels.clear()\n",
        "\n",
        "with torch.no_grad():\n",
        "        for inputs, attention_masks, labels in test_dataloader:\n",
        "            inputs = inputs.to(device)\n",
        "            attention_masks = attention_masks.to(device)\n",
        "            labels = labels.to(device)\n",
        "\n",
        "            outputs = model(inputs, attention_mask=attention_masks)\n",
        "            _, preds = torch.max(outputs.logits, dim=1)\n",
        "\n",
        "            all_preds.extend(preds.cpu().numpy())\n",
        "            all_labels.extend(labels.cpu().numpy())\n",
        "\n",
        "# Calculating evaluation metrics\n",
        "accuracy = accuracy_score(all_labels, all_preds) * 100\n",
        "\n",
        "class_names = [\"negative\", \"positive\"]\n",
        "class_report = classification_report(all_labels, all_preds, target_names=class_names)\n",
        "conf_matrix = confusion_matrix(all_labels, all_preds)\n",
        "\n",
        "print(f\"Accuracy: {accuracy:.2f}%\")\n",
        "print(\"Classification Report:\\n\", class_report)\n",
        "print(\"Confusion Matrix:\\n\", conf_matrix)"
      ],
      "id": "LoctLc5Hbosl"
    },
    {
      "cell_type": "markdown",
      "metadata": {
        "id": "tkoH2gqZhl-w"
      },
      "source": [
        "# 3 SGD Optimizer with Cosineannealing LR Scheduler\n",
        "\n",
        "\n"
      ],
      "id": "tkoH2gqZhl-w"
    },
    {
      "cell_type": "code",
      "execution_count": null,
      "metadata": {
        "id": "4INZgzRwmdCI"
      },
      "outputs": [],
      "source": [
        "from torch.optim.lr_scheduler import CosineAnnealingLR"
      ],
      "id": "4INZgzRwmdCI"
    },
    {
      "cell_type": "code",
      "execution_count": null,
      "metadata": {
        "colab": {
          "base_uri": "https://localhost:8080/"
        },
        "id": "wfxXe0Rxhl-x",
        "outputId": "42c9438d-9f56-43f1-8a89-9c3fb2afdd45"
      },
      "outputs": [
        {
          "name": "stderr",
          "output_type": "stream",
          "text": [
            "Some weights of BertForSequenceClassification were not initialized from the model checkpoint at bert-base-uncased and are newly initialized: ['classifier.bias', 'classifier.weight']\n",
            "You should probably TRAIN this model on a down-stream task to be able to use it for predictions and inference.\n"
          ]
        },
        {
          "name": "stdout",
          "output_type": "stream",
          "text": [
            "Epoch 1/5, Loss: 0.6772805302937825, Validation Accuracy: 0.6517607973421927\n",
            "Epoch 2/5, Loss: 0.5370457231680552, Validation Accuracy: 0.8250498338870432\n",
            "Epoch 3/5, Loss: 0.3754733378569285, Validation Accuracy: 0.8700332225913622\n",
            "Epoch 4/5, Loss: 0.3370068101644516, Validation Accuracy: 0.8777408637873754\n",
            "Epoch 5/5, Loss: 0.3239988421440125, Validation Accuracy: 0.8785382059800665\n"
          ]
        }
      ],
      "source": [
        "model = BertForSequenceClassification.from_pretrained('bert-base-uncased', num_labels=2).to(device)\n",
        "\n",
        "# declaring Hyperparameters\n",
        "batch_size = 32\n",
        "early_stopping_patience = 3\n",
        "epochs_without_improvement = 0\n",
        "num_cpu = 12\n",
        "num_epochs = 5\n",
        "best_accuracy = 0.0\n",
        "train_losses = []\n",
        "val_accuracies = []\n",
        "train_losses.clear()\n",
        "val_accuracies.clear()\n",
        "\n",
        "# optimizer\n",
        "optimizer = optim.SGD(model.parameters(), lr= 2e-5, momentum=0.9)\n",
        "scheduler = CosineAnnealingLR(optimizer, T_max=5, eta_min=1e-6)\n",
        "\n",
        "# Creating data loaders\n",
        "train_dataloader = DataLoader(train_dataset, batch_size=batch_size, num_workers=num_cpu, pin_memory=True, shuffle=True)\n",
        "val_dataloader = DataLoader(val_dataset, batch_size=batch_size, num_workers=num_cpu, pin_memory=True, shuffle=False)\n",
        "\n",
        "for epoch in range(num_epochs):\n",
        "    running_loss = 0.0\n",
        "\n",
        "    # Training\n",
        "    model.train()\n",
        "    for inputs, attention_masks, labels in train_dataloader:\n",
        "        inputs = inputs.to(device)\n",
        "        attention_masks = attention_masks.to(device)\n",
        "        labels = labels.to(device)\n",
        "\n",
        "        optimizer.zero_grad()\n",
        "        outputs = model(inputs, attention_mask=attention_masks, labels = labels)\n",
        "\n",
        "        loss = outputs.loss\n",
        "\n",
        "        loss.backward()\n",
        "        optimizer.step()\n",
        "\n",
        "        running_loss += loss.item() * inputs.size(0)\n",
        "\n",
        "\n",
        "    # Calculate average loss for the epoch\n",
        "    epoch_loss = running_loss / len(train_dataset)\n",
        "    train_losses.append(epoch_loss)\n",
        "\n",
        "    scheduler.step()\n",
        "\n",
        "\n",
        "   # Validation\n",
        "    model.eval()  # Setting model to evaluation mode\n",
        "    correct_predictions = 0\n",
        "    total_predictions = 0\n",
        "\n",
        "    with torch.no_grad():\n",
        "        for inputs, attention_masks, labels in val_dataloader:\n",
        "            inputs = inputs.to(device)\n",
        "            attention_masks = attention_masks.to(device)\n",
        "            labels = labels.to(device)\n",
        "\n",
        "            # Get model's predictions\n",
        "            outputs = model(inputs, attention_mask=attention_masks)\n",
        "            predicted_labels = torch.argmax(outputs.logits, dim=1)\n",
        "\n",
        "            correct_predictions += (predicted_labels == labels).sum().item()\n",
        "            total_predictions += labels.size(0)\n",
        "\n",
        "    accuracy = correct_predictions / total_predictions\n",
        "    val_accuracies.append(accuracy)\n",
        "\n",
        "\n",
        "    if accuracy > best_accuracy:\n",
        "        best_accuracy = accuracy\n",
        "        epochs_without_improvement = 0\n",
        "        best_model_state = model.state_dict()\n",
        "    else:\n",
        "        epochs_without_improvement += 1\n",
        "        if epochs_without_improvement >= early_stopping_patience:\n",
        "            print(\"Early stopping triggered.\")\n",
        "            break\n",
        "\n",
        "    # Printing the loss and accuracy for each epoch\n",
        "    print(f\"Epoch {epoch+1}/{num_epochs}, Loss: {epoch_loss}, Validation Accuracy: {accuracy}\")\n",
        "\n",
        "# Saving the trained model\n",
        "BERT_Tuned_file = \"/content/drive/MyDrive/Colab Notebooks/BBSGD2.pt\"\n",
        "torch.save(best_model_state, BERT_Tuned_file)"
      ],
      "id": "wfxXe0Rxhl-x"
    },
    {
      "cell_type": "code",
      "execution_count": null,
      "metadata": {
        "colab": {
          "base_uri": "https://localhost:8080/",
          "height": 348
        },
        "id": "_izoIpSHhl-y",
        "outputId": "bde78c7a-dbd3-4e75-9e23-0324edd50e7f"
      },
      "outputs": [
        {
          "data": {
            "image/png": "[encoded data removed]",
            "text/plain": [
              "<Figure size 1000x500 with 2 Axes>"
            ]
          },
          "metadata": {},
          "output_type": "display_data"
        }
      ],
      "source": [
        "# Plotting epoch loss and validation accuracy graphs\n",
        "num_epochs = len(train_losses)\n",
        "plt.figure(figsize=(10, 5))\n",
        "plt.subplot(1, 2, 1)\n",
        "plt.plot(range(1, num_epochs + 1), train_losses, label='Train Loss', color='red')\n",
        "plt.xlabel('Epoch')\n",
        "plt.ylabel('Loss')\n",
        "plt.title('Epoch Loss')\n",
        "plt.legend()\n",
        "\n",
        "plt.subplot(1, 2, 2)\n",
        "plt.plot(range(1, num_epochs + 1), val_accuracies, label='Validation Accuracy', color='green')\n",
        "plt.xlabel('Epoch')\n",
        "plt.ylabel('Accuracy')\n",
        "plt.title('Validation Accuracy')\n",
        "plt.legend()\n",
        "\n",
        "save_path = \"/content/drive/MyDrive/Colab Notebooks/BBSGD2_plot.png\"\n",
        "plt.savefig(save_path)\n",
        "\n",
        "plt.tight_layout()\n",
        "plt.show()"
      ],
      "id": "_izoIpSHhl-y"
    },
    {
      "cell_type": "code",
      "execution_count": null,
      "metadata": {
        "colab": {
          "base_uri": "https://localhost:8080/"
        },
        "id": "EtCCehvEhl-y",
        "outputId": "8a586db5-911d-4274-c54b-46d50e9daef0"
      },
      "outputs": [
        {
          "data": {
            "text/plain": [
              "BertForSequenceClassification(\n",
              "  (bert): BertModel(\n",
              "    (embeddings): BertEmbeddings(\n",
              "      (word_embeddings): Embedding(30522, 768, padding_idx=0)\n",
              "      (position_embeddings): Embedding(512, 768)\n",
              "      (token_type_embeddings): Embedding(2, 768)\n",
              "      (LayerNorm): LayerNorm((768,), eps=1e-12, elementwise_affine=True)\n",
              "      (dropout): Dropout(p=0.1, inplace=False)\n",
              "    )\n",
              "    (encoder): BertEncoder(\n",
              "      (layer): ModuleList(\n",
              "        (0-11): 12 x BertLayer(\n",
              "          (attention): BertAttention(\n",
              "            (self): BertSelfAttention(\n",
              "              (query): Linear(in_features=768, out_features=768, bias=True)\n",
              "              (key): Linear(in_features=768, out_features=768, bias=True)\n",
              "              (value): Linear(in_features=768, out_features=768, bias=True)\n",
              "              (dropout): Dropout(p=0.1, inplace=False)\n",
              "            )\n",
              "            (output): BertSelfOutput(\n",
              "              (dense): Linear(in_features=768, out_features=768, bias=True)\n",
              "              (LayerNorm): LayerNorm((768,), eps=1e-12, elementwise_affine=True)\n",
              "              (dropout): Dropout(p=0.1, inplace=False)\n",
              "            )\n",
              "          )\n",
              "          (intermediate): BertIntermediate(\n",
              "            (dense): Linear(in_features=768, out_features=3072, bias=True)\n",
              "            (intermediate_act_fn): GELUActivation()\n",
              "          )\n",
              "          (output): BertOutput(\n",
              "            (dense): Linear(in_features=3072, out_features=768, bias=True)\n",
              "            (LayerNorm): LayerNorm((768,), eps=1e-12, elementwise_affine=True)\n",
              "            (dropout): Dropout(p=0.1, inplace=False)\n",
              "          )\n",
              "        )\n",
              "      )\n",
              "    )\n",
              "    (pooler): BertPooler(\n",
              "      (dense): Linear(in_features=768, out_features=768, bias=True)\n",
              "      (activation): Tanh()\n",
              "    )\n",
              "  )\n",
              "  (dropout): Dropout(p=0.1, inplace=False)\n",
              "  (classifier): Linear(in_features=768, out_features=2, bias=True)\n",
              ")"
            ]
          },
          "execution_count": 43,
          "metadata": {},
          "output_type": "execute_result"
        }
      ],
      "source": [
        "# Loading trained model\n",
        "BERT_Tuned_file = \"/content/drive/MyDrive/Colab Notebooks/BBSGD2.pt\"\n",
        "model.load_state_dict(torch.load(BERT_Tuned_file))\n",
        "model.eval()"
      ],
      "id": "EtCCehvEhl-y"
    },
    {
      "cell_type": "code",
      "execution_count": null,
      "metadata": {
        "colab": {
          "base_uri": "https://localhost:8080/"
        },
        "id": "3QQaZIFkhl-z",
        "outputId": "59d0cb66-5ec0-4c04-d920-07729d734899"
      },
      "outputs": [
        {
          "name": "stdout",
          "output_type": "stream",
          "text": [
            "Accuracy: 87.30%\n",
            "Classification Report:\n",
            "               precision    recall  f1-score   support\n",
            "\n",
            "    negative       0.87      0.88      0.87     10012\n",
            "    positive       0.88      0.87      0.87      9938\n",
            "\n",
            "    accuracy                           0.87     19950\n",
            "   macro avg       0.87      0.87      0.87     19950\n",
            "weighted avg       0.87      0.87      0.87     19950\n",
            "\n",
            "Confusion Matrix:\n",
            " [[8784 1228]\n",
            " [1306 8632]]\n"
          ]
        }
      ],
      "source": [
        "model.to(device)\n",
        "\n",
        "# Creating dataloaders for test\n",
        "batch_size = 32\n",
        "num_cpu = 12\n",
        "\n",
        "test_dataloader = DataLoader(test_dataset, batch_size=batch_size, num_workers=num_cpu, pin_memory=True, shuffle=False)\n",
        "\n",
        "# Evaluating the model on the test set\n",
        "all_preds = []\n",
        "all_labels = []\n",
        "\n",
        "all_preds.clear()\n",
        "all_labels.clear()\n",
        "\n",
        "with torch.no_grad():\n",
        "        for inputs, attention_masks, labels in test_dataloader:\n",
        "            inputs = inputs.to(device)\n",
        "            attention_masks = attention_masks.to(device)\n",
        "            labels = labels.to(device)\n",
        "\n",
        "            outputs = model(inputs, attention_mask=attention_masks)\n",
        "            _, preds = torch.max(outputs.logits, dim=1)\n",
        "\n",
        "            all_preds.extend(preds.cpu().numpy())\n",
        "            all_labels.extend(labels.cpu().numpy())\n",
        "\n",
        "# Calculating evaluation metrics\n",
        "accuracy = accuracy_score(all_labels, all_preds) * 100\n",
        "\n",
        "class_names = [\"negative\", \"positive\"]\n",
        "class_report = classification_report(all_labels, all_preds, target_names=class_names)\n",
        "conf_matrix = confusion_matrix(all_labels, all_preds)\n",
        "\n",
        "print(f\"Accuracy: {accuracy:.2f}%\")\n",
        "print(\"Classification Report:\\n\", class_report)\n",
        "print(\"Confusion Matrix:\\n\", conf_matrix)"
      ],
      "id": "3QQaZIFkhl-z"
    },
    {
      "cell_type": "markdown",
      "metadata": {
        "id": "nTIX36MnhpEu"
      },
      "source": [
        "# 4 SGD Optimizer with Exponential LR Scheduler\n",
        "\n",
        "\n"
      ],
      "id": "nTIX36MnhpEu"
    },
    {
      "cell_type": "code",
      "execution_count": null,
      "metadata": {
        "id": "tk1e6y45h_qb"
      },
      "outputs": [],
      "source": [
        "from torch.optim.lr_scheduler import ExponentialLR"
      ],
      "id": "tk1e6y45h_qb"
    },
    {
      "cell_type": "code",
      "execution_count": null,
      "metadata": {
        "colab": {
          "base_uri": "https://localhost:8080/"
        },
        "id": "5KmrqIoYhpEv",
        "outputId": "8fbb6e03-fb82-4dc2-b933-eb166d82d06b"
      },
      "outputs": [
        {
          "name": "stderr",
          "output_type": "stream",
          "text": [
            "Some weights of BertForSequenceClassification were not initialized from the model checkpoint at bert-base-uncased and are newly initialized: ['classifier.bias', 'classifier.weight']\n",
            "You should probably TRAIN this model on a down-stream task to be able to use it for predictions and inference.\n"
          ]
        },
        {
          "name": "stdout",
          "output_type": "stream",
          "text": [
            "Epoch 1/5, Loss: 0.689520813147227, Validation Accuracy: 0.6003986710963455\n",
            "Epoch 2/5, Loss: 0.6763040335337321, Validation Accuracy: 0.6261794019933555\n",
            "Epoch 3/5, Loss: 0.650568005847931, Validation Accuracy: 0.7275083056478405\n",
            "Epoch 4/5, Loss: 0.5616558903535207, Validation Accuracy: 0.819734219269103\n",
            "Epoch 5/5, Loss: 0.389730973426501, Validation Accuracy: 0.8657142857142858\n"
          ]
        }
      ],
      "source": [
        "model = BertForSequenceClassification.from_pretrained('bert-base-uncased', num_labels=2).to(device)\n",
        "\n",
        "# declaring Hyperparameters\n",
        "batch_size = 32\n",
        "early_stopping_patience = 3\n",
        "epochs_without_improvement = 0\n",
        "num_cpu = 12\n",
        "num_epochs = 5\n",
        "best_accuracy = 0.0\n",
        "train_losses = []\n",
        "val_accuracies = []\n",
        "train_losses.clear()\n",
        "val_accuracies.clear()\n",
        "\n",
        "# optimizer\n",
        "optimizer = optim.SGD(model.parameters(), lr= 2e-5, momentum=0.9)\n",
        "scheduler = ExponentialLR(optimizer, gamma=0.95)\n",
        "\n",
        "# Creating data loaders\n",
        "train_dataloader = DataLoader(train_dataset, batch_size=batch_size, num_workers=num_cpu, pin_memory=True, shuffle=True)\n",
        "val_dataloader = DataLoader(val_dataset, batch_size=batch_size, num_workers=num_cpu, pin_memory=True, shuffle=False)\n",
        "\n",
        "for epoch in range(num_epochs):\n",
        "    running_loss = 0.0\n",
        "\n",
        "    # Training\n",
        "    model.train()\n",
        "    for inputs, attention_masks, labels in train_dataloader:\n",
        "        inputs = inputs.to(device)\n",
        "        attention_masks = attention_masks.to(device)\n",
        "        labels = labels.to(device)\n",
        "\n",
        "        optimizer.zero_grad()\n",
        "        outputs = model(inputs, attention_mask=attention_masks, labels = labels)\n",
        "\n",
        "        loss = outputs.loss\n",
        "\n",
        "        loss.backward()\n",
        "        optimizer.step()\n",
        "\n",
        "        running_loss += loss.item() * inputs.size(0)\n",
        "\n",
        "\n",
        "    # Calculate average loss for the epoch\n",
        "    epoch_loss = running_loss / len(train_dataset)\n",
        "    train_losses.append(epoch_loss)\n",
        "\n",
        "    scheduler.step()\n",
        "\n",
        "\n",
        "   # Validation\n",
        "    model.eval()  # Setting model to evaluation mode\n",
        "    correct_predictions = 0\n",
        "    total_predictions = 0\n",
        "\n",
        "    with torch.no_grad():\n",
        "        for inputs, attention_masks, labels in val_dataloader:\n",
        "            inputs = inputs.to(device)\n",
        "            attention_masks = attention_masks.to(device)\n",
        "            labels = labels.to(device)\n",
        "\n",
        "            # Get model's predictions\n",
        "            outputs = model(inputs, attention_mask=attention_masks)\n",
        "            predicted_labels = torch.argmax(outputs.logits, dim=1)\n",
        "\n",
        "            correct_predictions += (predicted_labels == labels).sum().item()\n",
        "            total_predictions += labels.size(0)\n",
        "\n",
        "    accuracy = correct_predictions / total_predictions\n",
        "    val_accuracies.append(accuracy)\n",
        "\n",
        "\n",
        "    if accuracy > best_accuracy:\n",
        "        best_accuracy = accuracy\n",
        "        epochs_without_improvement = 0\n",
        "        best_model_state = model.state_dict()\n",
        "    else:\n",
        "        epochs_without_improvement += 1\n",
        "        if epochs_without_improvement >= early_stopping_patience:\n",
        "            print(\"Early stopping triggered.\")\n",
        "            break\n",
        "\n",
        "    # Printing the loss and accuracy for each epoch\n",
        "    print(f\"Epoch {epoch+1}/{num_epochs}, Loss: {epoch_loss}, Validation Accuracy: {accuracy}\")\n",
        "\n",
        "# Saving the trained model\n",
        "BERT_Tuned_file = \"/content/drive/MyDrive/Colab Notebooks/BBSGD3.pt\"\n",
        "torch.save(best_model_state, BERT_Tuned_file)"
      ],
      "id": "5KmrqIoYhpEv"
    },
    {
      "cell_type": "code",
      "execution_count": null,
      "metadata": {
        "colab": {
          "base_uri": "https://localhost:8080/",
          "height": 348
        },
        "id": "3Xu31KzchpEv",
        "outputId": "10bf9a35-fc1f-4dc8-b2d6-591246d3ffb0"
      },
      "outputs": [
        {
          "data": {
            "image/png": "[encoded data removed]",
            "text/plain": [
              "<Figure size 1000x500 with 2 Axes>"
            ]
          },
          "metadata": {},
          "output_type": "display_data"
        }
      ],
      "source": [
        "# Plotting epoch loss and validation accuracy graphs\n",
        "num_epochs = len(train_losses)\n",
        "plt.figure(figsize=(10, 5))\n",
        "plt.subplot(1, 2, 1)\n",
        "plt.plot(range(1, num_epochs + 1), train_losses, label='Train Loss', color='red')\n",
        "plt.xlabel('Epoch')\n",
        "plt.ylabel('Loss')\n",
        "plt.title('Epoch Loss')\n",
        "plt.legend()\n",
        "\n",
        "plt.subplot(1, 2, 2)\n",
        "plt.plot(range(1, num_epochs + 1), val_accuracies, label='Validation Accuracy', color='green')\n",
        "plt.xlabel('Epoch')\n",
        "plt.ylabel('Accuracy')\n",
        "plt.title('Validation Accuracy')\n",
        "plt.legend()\n",
        "\n",
        "save_path = \"/content/drive/MyDrive/Colab Notebooks/BBSGD3_plot.png\"\n",
        "plt.savefig(save_path)\n",
        "\n",
        "plt.tight_layout()\n",
        "plt.show()"
      ],
      "id": "3Xu31KzchpEv"
    },
    {
      "cell_type": "code",
      "execution_count": null,
      "metadata": {
        "colab": {
          "base_uri": "https://localhost:8080/"
        },
        "id": "eYUYAHCGhpEw",
        "outputId": "d477eb1c-98c3-406e-c1f9-eae2672fa591"
      },
      "outputs": [
        {
          "data": {
            "text/plain": [
              "BertForSequenceClassification(\n",
              "  (bert): BertModel(\n",
              "    (embeddings): BertEmbeddings(\n",
              "      (word_embeddings): Embedding(30522, 768, padding_idx=0)\n",
              "      (position_embeddings): Embedding(512, 768)\n",
              "      (token_type_embeddings): Embedding(2, 768)\n",
              "      (LayerNorm): LayerNorm((768,), eps=1e-12, elementwise_affine=True)\n",
              "      (dropout): Dropout(p=0.1, inplace=False)\n",
              "    )\n",
              "    (encoder): BertEncoder(\n",
              "      (layer): ModuleList(\n",
              "        (0-11): 12 x BertLayer(\n",
              "          (attention): BertAttention(\n",
              "            (self): BertSelfAttention(\n",
              "              (query): Linear(in_features=768, out_features=768, bias=True)\n",
              "              (key): Linear(in_features=768, out_features=768, bias=True)\n",
              "              (value): Linear(in_features=768, out_features=768, bias=True)\n",
              "              (dropout): Dropout(p=0.1, inplace=False)\n",
              "            )\n",
              "            (output): BertSelfOutput(\n",
              "              (dense): Linear(in_features=768, out_features=768, bias=True)\n",
              "              (LayerNorm): LayerNorm((768,), eps=1e-12, elementwise_affine=True)\n",
              "              (dropout): Dropout(p=0.1, inplace=False)\n",
              "            )\n",
              "          )\n",
              "          (intermediate): BertIntermediate(\n",
              "            (dense): Linear(in_features=768, out_features=3072, bias=True)\n",
              "            (intermediate_act_fn): GELUActivation()\n",
              "          )\n",
              "          (output): BertOutput(\n",
              "            (dense): Linear(in_features=3072, out_features=768, bias=True)\n",
              "            (LayerNorm): LayerNorm((768,), eps=1e-12, elementwise_affine=True)\n",
              "            (dropout): Dropout(p=0.1, inplace=False)\n",
              "          )\n",
              "        )\n",
              "      )\n",
              "    )\n",
              "    (pooler): BertPooler(\n",
              "      (dense): Linear(in_features=768, out_features=768, bias=True)\n",
              "      (activation): Tanh()\n",
              "    )\n",
              "  )\n",
              "  (dropout): Dropout(p=0.1, inplace=False)\n",
              "  (classifier): Linear(in_features=768, out_features=2, bias=True)\n",
              ")"
            ]
          },
          "execution_count": 51,
          "metadata": {},
          "output_type": "execute_result"
        }
      ],
      "source": [
        "# Loading trained model\n",
        "BERT_Tuned_file = \"/content/drive/MyDrive/Colab Notebooks/BBSGD3.pt\"\n",
        "model.load_state_dict(torch.load(BERT_Tuned_file))\n",
        "model.eval()"
      ],
      "id": "eYUYAHCGhpEw"
    },
    {
      "cell_type": "code",
      "execution_count": null,
      "metadata": {
        "colab": {
          "base_uri": "https://localhost:8080/"
        },
        "id": "y1sVndIWhpEw",
        "outputId": "13ff07b0-4fa0-44d3-f9e3-f5092dd55e57"
      },
      "outputs": [
        {
          "name": "stdout",
          "output_type": "stream",
          "text": [
            "Accuracy: 85.75%\n",
            "Classification Report:\n",
            "               precision    recall  f1-score   support\n",
            "\n",
            "    negative       0.88      0.82      0.85     10012\n",
            "    positive       0.83      0.89      0.86      9938\n",
            "\n",
            "    accuracy                           0.86     19950\n",
            "   macro avg       0.86      0.86      0.86     19950\n",
            "weighted avg       0.86      0.86      0.86     19950\n",
            "\n",
            "Confusion Matrix:\n",
            " [[8240 1772]\n",
            " [1071 8867]]\n"
          ]
        }
      ],
      "source": [
        "model.to(device)\n",
        "\n",
        "# Creating dataloaders for test\n",
        "batch_size = 32\n",
        "num_cpu = 12\n",
        "\n",
        "test_dataloader = DataLoader(test_dataset, batch_size=batch_size, num_workers=num_cpu, pin_memory=True, shuffle=False)\n",
        "\n",
        "# Evaluating the model on the test set\n",
        "all_preds = []\n",
        "all_labels = []\n",
        "\n",
        "all_preds.clear()\n",
        "all_labels.clear()\n",
        "\n",
        "with torch.no_grad():\n",
        "        for inputs, attention_masks, labels in test_dataloader:\n",
        "            inputs = inputs.to(device)\n",
        "            attention_masks = attention_masks.to(device)\n",
        "            labels = labels.to(device)\n",
        "\n",
        "            outputs = model(inputs, attention_mask=attention_masks)\n",
        "            _, preds = torch.max(outputs.logits, dim=1)\n",
        "\n",
        "            all_preds.extend(preds.cpu().numpy())\n",
        "            all_labels.extend(labels.cpu().numpy())\n",
        "\n",
        "# Calculating evaluation metrics\n",
        "accuracy = accuracy_score(all_labels, all_preds) * 100\n",
        "\n",
        "class_names = [\"negative\", \"positive\"]\n",
        "class_report = classification_report(all_labels, all_preds, target_names=class_names)\n",
        "conf_matrix = confusion_matrix(all_labels, all_preds)\n",
        "\n",
        "print(f\"Accuracy: {accuracy:.2f}%\")\n",
        "print(\"Classification Report:\\n\", class_report)\n",
        "print(\"Confusion Matrix:\\n\", conf_matrix)"
      ],
      "id": "y1sVndIWhpEw"
    },
    {
      "cell_type": "markdown",
      "metadata": {
        "id": "FtTaRS3IhpX6"
      },
      "source": [
        "# 5 SGD Optimizer with Cyclic LR Scheduler\n",
        "\n",
        "\n"
      ],
      "id": "FtTaRS3IhpX6"
    },
    {
      "cell_type": "code",
      "execution_count": null,
      "metadata": {
        "id": "VsBqF7xKiIQ9"
      },
      "outputs": [],
      "source": [
        "from torch.optim.lr_scheduler import CyclicLR"
      ],
      "id": "VsBqF7xKiIQ9"
    },
    {
      "cell_type": "code",
      "execution_count": null,
      "metadata": {
        "colab": {
          "base_uri": "https://localhost:8080/"
        },
        "id": "3tsGoENehpX7",
        "outputId": "f78226e1-114a-4ded-f046-d63813af5f2a"
      },
      "outputs": [
        {
          "name": "stderr",
          "output_type": "stream",
          "text": [
            "Some weights of BertForSequenceClassification were not initialized from the model checkpoint at bert-base-uncased and are newly initialized: ['classifier.bias', 'classifier.weight']\n",
            "You should probably TRAIN this model on a down-stream task to be able to use it for predictions and inference.\n"
          ]
        },
        {
          "name": "stdout",
          "output_type": "stream",
          "text": [
            "Epoch 1/5, Loss: 0.6920832803090413, Validation Accuracy: 0.5356146179401994\n",
            "Epoch 2/5, Loss: 0.690021827284495, Validation Accuracy: 0.5450498338870432\n",
            "Epoch 3/5, Loss: 0.6900685089111328, Validation Accuracy: 0.5512292358803986\n",
            "Epoch 4/5, Loss: 0.6895559894879659, Validation Accuracy: 0.555016611295681\n",
            "Epoch 5/5, Loss: 0.6896322936058045, Validation Accuracy: 0.5610631229235881\n"
          ]
        }
      ],
      "source": [
        "model = BertForSequenceClassification.from_pretrained('bert-base-uncased', num_labels=2).to(device)\n",
        "\n",
        "# declaring Hyperparameters\n",
        "batch_size = 32\n",
        "early_stopping_patience = 3\n",
        "epochs_without_improvement = 0\n",
        "num_cpu = 12\n",
        "num_epochs = 5\n",
        "best_accuracy = 0.0\n",
        "train_losses = []\n",
        "val_accuracies = []\n",
        "train_losses.clear()\n",
        "val_accuracies.clear()\n",
        "\n",
        "# optimizer\n",
        "optimizer = optim.SGD(model.parameters(), lr= 2e-5, momentum=0.9)\n",
        "scheduler = CyclicLR(optimizer, base_lr=1e-6, max_lr=2e-5, step_size_up=2000, mode='triangular')\n",
        "\n",
        "# Creating data loaders\n",
        "train_dataloader = DataLoader(train_dataset, batch_size=batch_size, num_workers=num_cpu, pin_memory=True, shuffle=True)\n",
        "val_dataloader = DataLoader(val_dataset, batch_size=batch_size, num_workers=num_cpu, pin_memory=True, shuffle=False)\n",
        "\n",
        "for epoch in range(num_epochs):\n",
        "    running_loss = 0.0\n",
        "\n",
        "    # Training\n",
        "    model.train()\n",
        "    for inputs, attention_masks, labels in train_dataloader:\n",
        "        inputs = inputs.to(device)\n",
        "        attention_masks = attention_masks.to(device)\n",
        "        labels = labels.to(device)\n",
        "\n",
        "        optimizer.zero_grad()\n",
        "        outputs = model(inputs, attention_mask=attention_masks,labels = labels)\n",
        "\n",
        "        loss = outputs.loss\n",
        "\n",
        "        loss.backward()\n",
        "\n",
        "        optimizer.step()\n",
        "\n",
        "        running_loss += loss.item() * inputs.size(0)\n",
        "\n",
        "\n",
        "    # Calculate average loss for the epoch\n",
        "    epoch_loss = running_loss / len(train_dataset)\n",
        "    train_losses.append(epoch_loss)\n",
        "\n",
        "    scheduler.step()\n",
        "\n",
        "\n",
        "   # Validation\n",
        "    model.eval()  # Setting model to evaluation mode\n",
        "    correct_predictions = 0\n",
        "    total_predictions = 0\n",
        "\n",
        "    with torch.no_grad():\n",
        "        for inputs, attention_masks, labels in val_dataloader:\n",
        "            inputs = inputs.to(device)\n",
        "            attention_masks = attention_masks.to(device)\n",
        "            labels = labels.to(device)\n",
        "\n",
        "            # Get model's predictions\n",
        "            outputs = model(inputs, attention_mask=attention_masks)\n",
        "            predicted_labels = torch.argmax(outputs.logits, dim=1)\n",
        "\n",
        "            correct_predictions += (predicted_labels == labels).sum().item()\n",
        "            total_predictions += labels.size(0)\n",
        "\n",
        "    accuracy = correct_predictions / total_predictions\n",
        "    val_accuracies.append(accuracy)\n",
        "\n",
        "\n",
        "    if accuracy > best_accuracy:\n",
        "        best_accuracy = accuracy\n",
        "        epochs_without_improvement = 0\n",
        "        best_model_state = model.state_dict()\n",
        "    else:\n",
        "        epochs_without_improvement += 1\n",
        "        if epochs_without_improvement >= early_stopping_patience:\n",
        "            print(\"Early stopping triggered.\")\n",
        "            break\n",
        "\n",
        "    # Printing the loss and accuracy for each epoch\n",
        "    print(f\"Epoch {epoch+1}/{num_epochs}, Loss: {epoch_loss}, Validation Accuracy: {accuracy}\")\n",
        "\n",
        "# Saving the trained model\n",
        "BERT_Tuned_file = \"/content/drive/MyDrive/Colab Notebooks/BBSGD4.pt\"\n",
        "torch.save(best_model_state, BERT_Tuned_file)"
      ],
      "id": "3tsGoENehpX7"
    },
    {
      "cell_type": "code",
      "execution_count": null,
      "metadata": {
        "colab": {
          "base_uri": "https://localhost:8080/",
          "height": 348
        },
        "id": "LdAuhtj_hpX7",
        "outputId": "8780e38c-54f3-431f-98b0-6f74281b6f7e"
      },
      "outputs": [
        {
          "data": {
            "image/png": "[encoded data removed]",
            "text/plain": [
              "<Figure size 1000x500 with 2 Axes>"
            ]
          },
          "metadata": {},
          "output_type": "display_data"
        }
      ],
      "source": [
        "# Plotting epoch loss and validation accuracy graphs\n",
        "num_epochs = len(train_losses)\n",
        "plt.figure(figsize=(10, 5))\n",
        "plt.subplot(1, 2, 1)\n",
        "plt.plot(range(1, num_epochs + 1), train_losses, label='Train Loss', color='red')\n",
        "plt.xlabel('Epoch')\n",
        "plt.ylabel('Loss')\n",
        "plt.title('Epoch Loss')\n",
        "plt.legend()\n",
        "\n",
        "plt.subplot(1, 2, 2)\n",
        "plt.plot(range(1, num_epochs + 1), val_accuracies, label='Validation Accuracy', color='green')\n",
        "plt.xlabel('Epoch')\n",
        "plt.ylabel('Accuracy')\n",
        "plt.title('Validation Accuracy')\n",
        "plt.legend()\n",
        "\n",
        "save_path = \"/content/drive/MyDrive/Colab Notebooks/BBSGD4_plot.png\"\n",
        "plt.savefig(save_path)\n",
        "\n",
        "plt.tight_layout()\n",
        "plt.show()"
      ],
      "id": "LdAuhtj_hpX7"
    },
    {
      "cell_type": "code",
      "execution_count": null,
      "metadata": {
        "colab": {
          "base_uri": "https://localhost:8080/"
        },
        "id": "wJS8JdjChpX7",
        "outputId": "e2198527-f234-45ff-d1eb-259cccc8c082"
      },
      "outputs": [
        {
          "data": {
            "text/plain": [
              "BertForSequenceClassification(\n",
              "  (bert): BertModel(\n",
              "    (embeddings): BertEmbeddings(\n",
              "      (word_embeddings): Embedding(30522, 768, padding_idx=0)\n",
              "      (position_embeddings): Embedding(512, 768)\n",
              "      (token_type_embeddings): Embedding(2, 768)\n",
              "      (LayerNorm): LayerNorm((768,), eps=1e-12, elementwise_affine=True)\n",
              "      (dropout): Dropout(p=0.1, inplace=False)\n",
              "    )\n",
              "    (encoder): BertEncoder(\n",
              "      (layer): ModuleList(\n",
              "        (0-11): 12 x BertLayer(\n",
              "          (attention): BertAttention(\n",
              "            (self): BertSelfAttention(\n",
              "              (query): Linear(in_features=768, out_features=768, bias=True)\n",
              "              (key): Linear(in_features=768, out_features=768, bias=True)\n",
              "              (value): Linear(in_features=768, out_features=768, bias=True)\n",
              "              (dropout): Dropout(p=0.1, inplace=False)\n",
              "            )\n",
              "            (output): BertSelfOutput(\n",
              "              (dense): Linear(in_features=768, out_features=768, bias=True)\n",
              "              (LayerNorm): LayerNorm((768,), eps=1e-12, elementwise_affine=True)\n",
              "              (dropout): Dropout(p=0.1, inplace=False)\n",
              "            )\n",
              "          )\n",
              "          (intermediate): BertIntermediate(\n",
              "            (dense): Linear(in_features=768, out_features=3072, bias=True)\n",
              "            (intermediate_act_fn): GELUActivation()\n",
              "          )\n",
              "          (output): BertOutput(\n",
              "            (dense): Linear(in_features=3072, out_features=768, bias=True)\n",
              "            (LayerNorm): LayerNorm((768,), eps=1e-12, elementwise_affine=True)\n",
              "            (dropout): Dropout(p=0.1, inplace=False)\n",
              "          )\n",
              "        )\n",
              "      )\n",
              "    )\n",
              "    (pooler): BertPooler(\n",
              "      (dense): Linear(in_features=768, out_features=768, bias=True)\n",
              "      (activation): Tanh()\n",
              "    )\n",
              "  )\n",
              "  (dropout): Dropout(p=0.1, inplace=False)\n",
              "  (classifier): Linear(in_features=768, out_features=2, bias=True)\n",
              ")"
            ]
          },
          "execution_count": 56,
          "metadata": {},
          "output_type": "execute_result"
        }
      ],
      "source": [
        "# Loading trained model\n",
        "BERT_Tuned_file = \"/content/drive/MyDrive/Colab Notebooks/BBSGD4.pt\"\n",
        "model.load_state_dict(torch.load(BERT_Tuned_file))\n",
        "model.eval()"
      ],
      "id": "wJS8JdjChpX7"
    },
    {
      "cell_type": "code",
      "execution_count": null,
      "metadata": {
        "colab": {
          "base_uri": "https://localhost:8080/"
        },
        "id": "jZDSP3GPhpX7",
        "outputId": "d2d7f595-0476-4d04-99cc-1ea219efba88"
      },
      "outputs": [
        {
          "name": "stdout",
          "output_type": "stream",
          "text": [
            "Accuracy: 55.83%\n",
            "Classification Report:\n",
            "               precision    recall  f1-score   support\n",
            "\n",
            "    negative       0.60      0.35      0.45     10012\n",
            "    positive       0.54      0.76      0.63      9938\n",
            "\n",
            "    accuracy                           0.56     19950\n",
            "   macro avg       0.57      0.56      0.54     19950\n",
            "weighted avg       0.57      0.56      0.54     19950\n",
            "\n",
            "Confusion Matrix:\n",
            " [[3544 6468]\n",
            " [2344 7594]]\n"
          ]
        }
      ],
      "source": [
        "model.to(device)\n",
        "\n",
        "# Creating dataloaders for test\n",
        "batch_size = 32\n",
        "num_cpu = 12\n",
        "\n",
        "test_dataloader = DataLoader(test_dataset, batch_size=batch_size, num_workers=num_cpu, pin_memory=True, shuffle=False)\n",
        "\n",
        "# Evaluating the model on the test set\n",
        "all_preds = []\n",
        "all_labels = []\n",
        "\n",
        "all_preds.clear()\n",
        "all_labels.clear()\n",
        "\n",
        "with torch.no_grad():\n",
        "        for inputs, attention_masks, labels in test_dataloader:\n",
        "            inputs = inputs.to(device)\n",
        "            attention_masks = attention_masks.to(device)\n",
        "            labels = labels.to(device)\n",
        "\n",
        "            outputs = model(inputs, attention_mask=attention_masks)\n",
        "            _, preds = torch.max(outputs.logits, dim=1)\n",
        "\n",
        "            all_preds.extend(preds.cpu().numpy())\n",
        "            all_labels.extend(labels.cpu().numpy())\n",
        "\n",
        "# Calculating evaluation metrics\n",
        "accuracy = accuracy_score(all_labels, all_preds) * 100\n",
        "\n",
        "class_names = [\"negative\", \"positive\"]\n",
        "class_report = classification_report(all_labels, all_preds, target_names=class_names)\n",
        "conf_matrix = confusion_matrix(all_labels, all_preds)\n",
        "\n",
        "print(f\"Accuracy: {accuracy:.2f}%\")\n",
        "print(\"Classification Report:\\n\", class_report)\n",
        "print(\"Confusion Matrix:\\n\", conf_matrix)"
      ],
      "id": "jZDSP3GPhpX7"
    },
    {
      "cell_type": "code",
      "execution_count": null,
      "metadata": {
        "colab": {
          "base_uri": "https://localhost:8080/"
        },
        "id": "xTkADjqcFgyM",
        "outputId": "2862a1d6-7ea1-47f0-be03-e82d1b971437"
      },
      "outputs": [
        {
          "name": "stdout",
          "output_type": "stream",
          "text": [
            "Enter a sentence: IT'S BAD IS NOT THE SENTENCE YOU SAY FOT THIS .D.F M.OVIE\n",
            "Predicted sentiment: negative\n"
          ]
        }
      ],
      "source": [
        "user_input = input(\"Enter a sentence: \")\n",
        "preprocessed_input = preprocess_text(user_input)\n",
        "encoded_input= tokenizer.batch_encode_plus(\n",
        "    [preprocessed_input],\n",
        "    padding=True,\n",
        "    truncation=True,\n",
        "    max_length=512,\n",
        "    return_tensors='pt'\n",
        ")\n",
        "input_ids = encoded_input['input_ids'].to(device)\n",
        "attention_masks_test = encoded_input['attention_mask'].to(device)\n",
        "\n",
        "with torch.no_grad():\n",
        "    outputs = model(input_ids, attention_mask=attention_masks_test)\n",
        "    logits = outputs.logits\n",
        "    predicted_label = torch.argmax(logits, dim=1).item()\n",
        "\n",
        "class_names = [\"negative\", \"positive\"]\n",
        "predicted_sentiment = class_names[predicted_label]\n",
        "print(\"Predicted sentiment:\", predicted_sentiment)"
      ],
      "id": "xTkADjqcFgyM"
    }
  ],
  "metadata": {
    "accelerator": "GPU",
    "colab": {
      "machine_shape": "hm",
      "provenance": [],
      "gpuType": "T4"
    },
    "kernelspec": {
      "display_name": "Python 3",
      "name": "python3"
    },
    "language_info": {
      "codemirror_mode": {
        "name": "ipython",
        "version": 3
      },
      "file_extension": ".py",
      "mimetype": "text/x-python",
      "name": "python",
      "nbconvert_exporter": "python",
      "pygments_lexer": "ipython3",
      "version": "3.10.9"
    },
    "widgets": {
      "application/vnd.jupyter.widget-state+json": {
        "264be7099d144cabb854b6d814bd3080": {
          "model_module": "@jupyter-widgets/base",
          "model_module_version": "1.2.0",
          "model_name": "LayoutModel",
          "state": {
            "_model_module": "@jupyter-widgets/base",
            "_model_module_version": "1.2.0",
            "_model_name": "LayoutModel",
            "_view_count": null,
            "_view_module": "@jupyter-widgets/base",
            "_view_module_version": "1.2.0",
            "_view_name": "LayoutView",
            "align_content": null,
            "align_items": null,
            "align_self": null,
            "border": null,
            "bottom": null,
            "display": null,
            "flex": null,
            "flex_flow": null,
            "grid_area": null,
            "grid_auto_columns": null,
            "grid_auto_flow": null,
            "grid_auto_rows": null,
            "grid_column": null,
            "grid_gap": null,
            "grid_row": null,
            "grid_template_areas": null,
            "grid_template_columns": null,
            "grid_template_rows": null,
            "height": null,
            "justify_content": null,
            "justify_items": null,
            "left": null,
            "margin": null,
            "max_height": null,
            "max_width": null,
            "min_height": null,
            "min_width": null,
            "object_fit": null,
            "object_position": null,
            "order": null,
            "overflow": null,
            "overflow_x": null,
            "overflow_y": null,
            "padding": null,
            "right": null,
            "top": null,
            "visibility": null,
            "width": null
          }
        },
        "340e56c96f55473590cb905eb5cc4166": {
          "model_module": "@jupyter-widgets/controls",
          "model_module_version": "1.5.0",
          "model_name": "HTMLModel",
          "state": {
            "_dom_classes": [],
            "_model_module": "@jupyter-widgets/controls",
            "_model_module_version": "1.5.0",
            "_model_name": "HTMLModel",
            "_view_count": null,
            "_view_module": "@jupyter-widgets/controls",
            "_view_module_version": "1.5.0",
            "_view_name": "HTMLView",
            "description": "",
            "description_tooltip": null,
            "layout": "IPY_MODEL_264be7099d144cabb854b6d814bd3080",
            "placeholder": "​",
            "style": "IPY_MODEL_809e478cf6ab4eb8aea4fda602d91fab",
            "value": " 440M/440M [00:01&lt;00:00, 431MB/s]"
          }
        },
        "463686cf7bd04421aaa5b144f39fddbb": {
          "model_module": "@jupyter-widgets/controls",
          "model_module_version": "1.5.0",
          "model_name": "ProgressStyleModel",
          "state": {
            "_model_module": "@jupyter-widgets/controls",
            "_model_module_version": "1.5.0",
            "_model_name": "ProgressStyleModel",
            "_view_count": null,
            "_view_module": "@jupyter-widgets/base",
            "_view_module_version": "1.2.0",
            "_view_name": "StyleView",
            "bar_color": null,
            "description_width": ""
          }
        },
        "5ecfafd4923a4048a089ba0bd80abb67": {
          "model_module": "@jupyter-widgets/controls",
          "model_module_version": "1.5.0",
          "model_name": "HTMLModel",
          "state": {
            "_dom_classes": [],
            "_model_module": "@jupyter-widgets/controls",
            "_model_module_version": "1.5.0",
            "_model_name": "HTMLModel",
            "_view_count": null,
            "_view_module": "@jupyter-widgets/controls",
            "_view_module_version": "1.5.0",
            "_view_name": "HTMLView",
            "description": "",
            "description_tooltip": null,
            "layout": "IPY_MODEL_b78fb5f6264147e498919f2d5056a9cd",
            "placeholder": "​",
            "style": "IPY_MODEL_b9f004436675402bbdb03de5c1e20220",
            "value": "Downloading model.safetensors: 100%"
          }
        },
        "6e0ae22bd645491a9ace88994806a05d": {
          "model_module": "@jupyter-widgets/controls",
          "model_module_version": "1.5.0",
          "model_name": "HBoxModel",
          "state": {
            "_dom_classes": [],
            "_model_module": "@jupyter-widgets/controls",
            "_model_module_version": "1.5.0",
            "_model_name": "HBoxModel",
            "_view_count": null,
            "_view_module": "@jupyter-widgets/controls",
            "_view_module_version": "1.5.0",
            "_view_name": "HBoxView",
            "box_style": "",
            "children": [
              "IPY_MODEL_5ecfafd4923a4048a089ba0bd80abb67",
              "IPY_MODEL_e8a46ee4e06945ffa6346275bcbbff15",
              "IPY_MODEL_340e56c96f55473590cb905eb5cc4166"
            ],
            "layout": "IPY_MODEL_6fa04d76665f482fafa789858148fcc0"
          }
        },
        "6fa04d76665f482fafa789858148fcc0": {
          "model_module": "@jupyter-widgets/base",
          "model_module_version": "1.2.0",
          "model_name": "LayoutModel",
          "state": {
            "_model_module": "@jupyter-widgets/base",
            "_model_module_version": "1.2.0",
            "_model_name": "LayoutModel",
            "_view_count": null,
            "_view_module": "@jupyter-widgets/base",
            "_view_module_version": "1.2.0",
            "_view_name": "LayoutView",
            "align_content": null,
            "align_items": null,
            "align_self": null,
            "border": null,
            "bottom": null,
            "display": null,
            "flex": null,
            "flex_flow": null,
            "grid_area": null,
            "grid_auto_columns": null,
            "grid_auto_flow": null,
            "grid_auto_rows": null,
            "grid_column": null,
            "grid_gap": null,
            "grid_row": null,
            "grid_template_areas": null,
            "grid_template_columns": null,
            "grid_template_rows": null,
            "height": null,
            "justify_content": null,
            "justify_items": null,
            "left": null,
            "margin": null,
            "max_height": null,
            "max_width": null,
            "min_height": null,
            "min_width": null,
            "object_fit": null,
            "object_position": null,
            "order": null,
            "overflow": null,
            "overflow_x": null,
            "overflow_y": null,
            "padding": null,
            "right": null,
            "top": null,
            "visibility": null,
            "width": null
          }
        },
        "809e478cf6ab4eb8aea4fda602d91fab": {
          "model_module": "@jupyter-widgets/controls",
          "model_module_version": "1.5.0",
          "model_name": "DescriptionStyleModel",
          "state": {
            "_model_module": "@jupyter-widgets/controls",
            "_model_module_version": "1.5.0",
            "_model_name": "DescriptionStyleModel",
            "_view_count": null,
            "_view_module": "@jupyter-widgets/base",
            "_view_module_version": "1.2.0",
            "_view_name": "StyleView",
            "description_width": ""
          }
        },
        "b78fb5f6264147e498919f2d5056a9cd": {
          "model_module": "@jupyter-widgets/base",
          "model_module_version": "1.2.0",
          "model_name": "LayoutModel",
          "state": {
            "_model_module": "@jupyter-widgets/base",
            "_model_module_version": "1.2.0",
            "_model_name": "LayoutModel",
            "_view_count": null,
            "_view_module": "@jupyter-widgets/base",
            "_view_module_version": "1.2.0",
            "_view_name": "LayoutView",
            "align_content": null,
            "align_items": null,
            "align_self": null,
            "border": null,
            "bottom": null,
            "display": null,
            "flex": null,
            "flex_flow": null,
            "grid_area": null,
            "grid_auto_columns": null,
            "grid_auto_flow": null,
            "grid_auto_rows": null,
            "grid_column": null,
            "grid_gap": null,
            "grid_row": null,
            "grid_template_areas": null,
            "grid_template_columns": null,
            "grid_template_rows": null,
            "height": null,
            "justify_content": null,
            "justify_items": null,
            "left": null,
            "margin": null,
            "max_height": null,
            "max_width": null,
            "min_height": null,
            "min_width": null,
            "object_fit": null,
            "object_position": null,
            "order": null,
            "overflow": null,
            "overflow_x": null,
            "overflow_y": null,
            "padding": null,
            "right": null,
            "top": null,
            "visibility": null,
            "width": null
          }
        },
        "b9f004436675402bbdb03de5c1e20220": {
          "model_module": "@jupyter-widgets/controls",
          "model_module_version": "1.5.0",
          "model_name": "DescriptionStyleModel",
          "state": {
            "_model_module": "@jupyter-widgets/controls",
            "_model_module_version": "1.5.0",
            "_model_name": "DescriptionStyleModel",
            "_view_count": null,
            "_view_module": "@jupyter-widgets/base",
            "_view_module_version": "1.2.0",
            "_view_name": "StyleView",
            "description_width": ""
          }
        },
        "d46c5dbcf9214178921fcf75e7d615e0": {
          "model_module": "@jupyter-widgets/base",
          "model_module_version": "1.2.0",
          "model_name": "LayoutModel",
          "state": {
            "_model_module": "@jupyter-widgets/base",
            "_model_module_version": "1.2.0",
            "_model_name": "LayoutModel",
            "_view_count": null,
            "_view_module": "@jupyter-widgets/base",
            "_view_module_version": "1.2.0",
            "_view_name": "LayoutView",
            "align_content": null,
            "align_items": null,
            "align_self": null,
            "border": null,
            "bottom": null,
            "display": null,
            "flex": null,
            "flex_flow": null,
            "grid_area": null,
            "grid_auto_columns": null,
            "grid_auto_flow": null,
            "grid_auto_rows": null,
            "grid_column": null,
            "grid_gap": null,
            "grid_row": null,
            "grid_template_areas": null,
            "grid_template_columns": null,
            "grid_template_rows": null,
            "height": null,
            "justify_content": null,
            "justify_items": null,
            "left": null,
            "margin": null,
            "max_height": null,
            "max_width": null,
            "min_height": null,
            "min_width": null,
            "object_fit": null,
            "object_position": null,
            "order": null,
            "overflow": null,
            "overflow_x": null,
            "overflow_y": null,
            "padding": null,
            "right": null,
            "top": null,
            "visibility": null,
            "width": null
          }
        },
        "e8a46ee4e06945ffa6346275bcbbff15": {
          "model_module": "@jupyter-widgets/controls",
          "model_module_version": "1.5.0",
          "model_name": "FloatProgressModel",
          "state": {
            "_dom_classes": [],
            "_model_module": "@jupyter-widgets/controls",
            "_model_module_version": "1.5.0",
            "_model_name": "FloatProgressModel",
            "_view_count": null,
            "_view_module": "@jupyter-widgets/controls",
            "_view_module_version": "1.5.0",
            "_view_name": "ProgressView",
            "bar_style": "success",
            "description": "",
            "description_tooltip": null,
            "layout": "IPY_MODEL_d46c5dbcf9214178921fcf75e7d615e0",
            "max": 440449768,
            "min": 0,
            "orientation": "horizontal",
            "style": "IPY_MODEL_463686cf7bd04421aaa5b144f39fddbb",
            "value": 440449768
          }
        },
        "fdebcf7051514ed2872d6f308913256e": {
          "model_module": "@jupyter-widgets/controls",
          "model_name": "HBoxModel",
          "model_module_version": "1.5.0",
          "state": {
            "_dom_classes": [],
            "_model_module": "@jupyter-widgets/controls",
            "_model_module_version": "1.5.0",
            "_model_name": "HBoxModel",
            "_view_count": null,
            "_view_module": "@jupyter-widgets/controls",
            "_view_module_version": "1.5.0",
            "_view_name": "HBoxView",
            "box_style": "",
            "children": [
              "IPY_MODEL_8d9a58e5d0fa4ef1b11cd7830a49b8b2",
              "IPY_MODEL_a979c023f3424eff8452c82b56c03f28",
              "IPY_MODEL_66678f1de34247f2ab1d9de36ac81a1b"
            ],
            "layout": "IPY_MODEL_9e2288289ee44c80a190449f9ac6972e"
          }
        },
        "8d9a58e5d0fa4ef1b11cd7830a49b8b2": {
          "model_module": "@jupyter-widgets/controls",
          "model_name": "HTMLModel",
          "model_module_version": "1.5.0",
          "state": {
            "_dom_classes": [],
            "_model_module": "@jupyter-widgets/controls",
            "_model_module_version": "1.5.0",
            "_model_name": "HTMLModel",
            "_view_count": null,
            "_view_module": "@jupyter-widgets/controls",
            "_view_module_version": "1.5.0",
            "_view_name": "HTMLView",
            "description": "",
            "description_tooltip": null,
            "layout": "IPY_MODEL_7561ee9f8ced4c249dd4e6f56d6b79b7",
            "placeholder": "​",
            "style": "IPY_MODEL_08051f5cb89b47d9be388ea1f4121376",
            "value": "Downloading (…)solve/main/vocab.txt: 100%"
          }
        },
        "a979c023f3424eff8452c82b56c03f28": {
          "model_module": "@jupyter-widgets/controls",
          "model_name": "FloatProgressModel",
          "model_module_version": "1.5.0",
          "state": {
            "_dom_classes": [],
            "_model_module": "@jupyter-widgets/controls",
            "_model_module_version": "1.5.0",
            "_model_name": "FloatProgressModel",
            "_view_count": null,
            "_view_module": "@jupyter-widgets/controls",
            "_view_module_version": "1.5.0",
            "_view_name": "ProgressView",
            "bar_style": "success",
            "description": "",
            "description_tooltip": null,
            "layout": "IPY_MODEL_e15737bbac0f417083c084d58beaff62",
            "max": 231508,
            "min": 0,
            "orientation": "horizontal",
            "style": "IPY_MODEL_7a3ee31a2c0749ea9fcdf093950c1216",
            "value": 231508
          }
        },
        "66678f1de34247f2ab1d9de36ac81a1b": {
          "model_module": "@jupyter-widgets/controls",
          "model_name": "HTMLModel",
          "model_module_version": "1.5.0",
          "state": {
            "_dom_classes": [],
            "_model_module": "@jupyter-widgets/controls",
            "_model_module_version": "1.5.0",
            "_model_name": "HTMLModel",
            "_view_count": null,
            "_view_module": "@jupyter-widgets/controls",
            "_view_module_version": "1.5.0",
            "_view_name": "HTMLView",
            "description": "",
            "description_tooltip": null,
            "layout": "IPY_MODEL_738ac38fae4042a0bf83139a15786acd",
            "placeholder": "​",
            "style": "IPY_MODEL_e65f97cdd5f242e8b7b1e6aa3bc26f89",
            "value": " 232k/232k [00:00&lt;00:00, 8.09MB/s]"
          }
        },
        "9e2288289ee44c80a190449f9ac6972e": {
          "model_module": "@jupyter-widgets/base",
          "model_name": "LayoutModel",
          "model_module_version": "1.2.0",
          "state": {
            "_model_module": "@jupyter-widgets/base",
            "_model_module_version": "1.2.0",
            "_model_name": "LayoutModel",
            "_view_count": null,
            "_view_module": "@jupyter-widgets/base",
            "_view_module_version": "1.2.0",
            "_view_name": "LayoutView",
            "align_content": null,
            "align_items": null,
            "align_self": null,
            "border": null,
            "bottom": null,
            "display": null,
            "flex": null,
            "flex_flow": null,
            "grid_area": null,
            "grid_auto_columns": null,
            "grid_auto_flow": null,
            "grid_auto_rows": null,
            "grid_column": null,
            "grid_gap": null,
            "grid_row": null,
            "grid_template_areas": null,
            "grid_template_columns": null,
            "grid_template_rows": null,
            "height": null,
            "justify_content": null,
            "justify_items": null,
            "left": null,
            "margin": null,
            "max_height": null,
            "max_width": null,
            "min_height": null,
            "min_width": null,
            "object_fit": null,
            "object_position": null,
            "order": null,
            "overflow": null,
            "overflow_x": null,
            "overflow_y": null,
            "padding": null,
            "right": null,
            "top": null,
            "visibility": null,
            "width": null
          }
        },
        "7561ee9f8ced4c249dd4e6f56d6b79b7": {
          "model_module": "@jupyter-widgets/base",
          "model_name": "LayoutModel",
          "model_module_version": "1.2.0",
          "state": {
            "_model_module": "@jupyter-widgets/base",
            "_model_module_version": "1.2.0",
            "_model_name": "LayoutModel",
            "_view_count": null,
            "_view_module": "@jupyter-widgets/base",
            "_view_module_version": "1.2.0",
            "_view_name": "LayoutView",
            "align_content": null,
            "align_items": null,
            "align_self": null,
            "border": null,
            "bottom": null,
            "display": null,
            "flex": null,
            "flex_flow": null,
            "grid_area": null,
            "grid_auto_columns": null,
            "grid_auto_flow": null,
            "grid_auto_rows": null,
            "grid_column": null,
            "grid_gap": null,
            "grid_row": null,
            "grid_template_areas": null,
            "grid_template_columns": null,
            "grid_template_rows": null,
            "height": null,
            "justify_content": null,
            "justify_items": null,
            "left": null,
            "margin": null,
            "max_height": null,
            "max_width": null,
            "min_height": null,
            "min_width": null,
            "object_fit": null,
            "object_position": null,
            "order": null,
            "overflow": null,
            "overflow_x": null,
            "overflow_y": null,
            "padding": null,
            "right": null,
            "top": null,
            "visibility": null,
            "width": null
          }
        },
        "08051f5cb89b47d9be388ea1f4121376": {
          "model_module": "@jupyter-widgets/controls",
          "model_name": "DescriptionStyleModel",
          "model_module_version": "1.5.0",
          "state": {
            "_model_module": "@jupyter-widgets/controls",
            "_model_module_version": "1.5.0",
            "_model_name": "DescriptionStyleModel",
            "_view_count": null,
            "_view_module": "@jupyter-widgets/base",
            "_view_module_version": "1.2.0",
            "_view_name": "StyleView",
            "description_width": ""
          }
        },
        "e15737bbac0f417083c084d58beaff62": {
          "model_module": "@jupyter-widgets/base",
          "model_name": "LayoutModel",
          "model_module_version": "1.2.0",
          "state": {
            "_model_module": "@jupyter-widgets/base",
            "_model_module_version": "1.2.0",
            "_model_name": "LayoutModel",
            "_view_count": null,
            "_view_module": "@jupyter-widgets/base",
            "_view_module_version": "1.2.0",
            "_view_name": "LayoutView",
            "align_content": null,
            "align_items": null,
            "align_self": null,
            "border": null,
            "bottom": null,
            "display": null,
            "flex": null,
            "flex_flow": null,
            "grid_area": null,
            "grid_auto_columns": null,
            "grid_auto_flow": null,
            "grid_auto_rows": null,
            "grid_column": null,
            "grid_gap": null,
            "grid_row": null,
            "grid_template_areas": null,
            "grid_template_columns": null,
            "grid_template_rows": null,
            "height": null,
            "justify_content": null,
            "justify_items": null,
            "left": null,
            "margin": null,
            "max_height": null,
            "max_width": null,
            "min_height": null,
            "min_width": null,
            "object_fit": null,
            "object_position": null,
            "order": null,
            "overflow": null,
            "overflow_x": null,
            "overflow_y": null,
            "padding": null,
            "right": null,
            "top": null,
            "visibility": null,
            "width": null
          }
        },
        "7a3ee31a2c0749ea9fcdf093950c1216": {
          "model_module": "@jupyter-widgets/controls",
          "model_name": "ProgressStyleModel",
          "model_module_version": "1.5.0",
          "state": {
            "_model_module": "@jupyter-widgets/controls",
            "_model_module_version": "1.5.0",
            "_model_name": "ProgressStyleModel",
            "_view_count": null,
            "_view_module": "@jupyter-widgets/base",
            "_view_module_version": "1.2.0",
            "_view_name": "StyleView",
            "bar_color": null,
            "description_width": ""
          }
        },
        "738ac38fae4042a0bf83139a15786acd": {
          "model_module": "@jupyter-widgets/base",
          "model_name": "LayoutModel",
          "model_module_version": "1.2.0",
          "state": {
            "_model_module": "@jupyter-widgets/base",
            "_model_module_version": "1.2.0",
            "_model_name": "LayoutModel",
            "_view_count": null,
            "_view_module": "@jupyter-widgets/base",
            "_view_module_version": "1.2.0",
            "_view_name": "LayoutView",
            "align_content": null,
            "align_items": null,
            "align_self": null,
            "border": null,
            "bottom": null,
            "display": null,
            "flex": null,
            "flex_flow": null,
            "grid_area": null,
            "grid_auto_columns": null,
            "grid_auto_flow": null,
            "grid_auto_rows": null,
            "grid_column": null,
            "grid_gap": null,
            "grid_row": null,
            "grid_template_areas": null,
            "grid_template_columns": null,
            "grid_template_rows": null,
            "height": null,
            "justify_content": null,
            "justify_items": null,
            "left": null,
            "margin": null,
            "max_height": null,
            "max_width": null,
            "min_height": null,
            "min_width": null,
            "object_fit": null,
            "object_position": null,
            "order": null,
            "overflow": null,
            "overflow_x": null,
            "overflow_y": null,
            "padding": null,
            "right": null,
            "top": null,
            "visibility": null,
            "width": null
          }
        },
        "e65f97cdd5f242e8b7b1e6aa3bc26f89": {
          "model_module": "@jupyter-widgets/controls",
          "model_name": "DescriptionStyleModel",
          "model_module_version": "1.5.0",
          "state": {
            "_model_module": "@jupyter-widgets/controls",
            "_model_module_version": "1.5.0",
            "_model_name": "DescriptionStyleModel",
            "_view_count": null,
            "_view_module": "@jupyter-widgets/base",
            "_view_module_version": "1.2.0",
            "_view_name": "StyleView",
            "description_width": ""
          }
        },
        "6c58d21c19284f9692ad00236c7de052": {
          "model_module": "@jupyter-widgets/controls",
          "model_name": "HBoxModel",
          "model_module_version": "1.5.0",
          "state": {
            "_dom_classes": [],
            "_model_module": "@jupyter-widgets/controls",
            "_model_module_version": "1.5.0",
            "_model_name": "HBoxModel",
            "_view_count": null,
            "_view_module": "@jupyter-widgets/controls",
            "_view_module_version": "1.5.0",
            "_view_name": "HBoxView",
            "box_style": "",
            "children": [
              "IPY_MODEL_064ec1ab11c34e3488acf240d6658b82",
              "IPY_MODEL_894e88594c124158807a16bb115d11fb",
              "IPY_MODEL_90f31f840dc448fb8f969fe7e33aeccf"
            ],
            "layout": "IPY_MODEL_d7a1a394243c4c0fba271ea8485f053f"
          }
        },
        "064ec1ab11c34e3488acf240d6658b82": {
          "model_module": "@jupyter-widgets/controls",
          "model_name": "HTMLModel",
          "model_module_version": "1.5.0",
          "state": {
            "_dom_classes": [],
            "_model_module": "@jupyter-widgets/controls",
            "_model_module_version": "1.5.0",
            "_model_name": "HTMLModel",
            "_view_count": null,
            "_view_module": "@jupyter-widgets/controls",
            "_view_module_version": "1.5.0",
            "_view_name": "HTMLView",
            "description": "",
            "description_tooltip": null,
            "layout": "IPY_MODEL_76c1aa6677294abb87ea82900484d742",
            "placeholder": "​",
            "style": "IPY_MODEL_8d475030810341beabd4964184725040",
            "value": "Downloading (…)okenizer_config.json: 100%"
          }
        },
        "894e88594c124158807a16bb115d11fb": {
          "model_module": "@jupyter-widgets/controls",
          "model_name": "FloatProgressModel",
          "model_module_version": "1.5.0",
          "state": {
            "_dom_classes": [],
            "_model_module": "@jupyter-widgets/controls",
            "_model_module_version": "1.5.0",
            "_model_name": "FloatProgressModel",
            "_view_count": null,
            "_view_module": "@jupyter-widgets/controls",
            "_view_module_version": "1.5.0",
            "_view_name": "ProgressView",
            "bar_style": "success",
            "description": "",
            "description_tooltip": null,
            "layout": "IPY_MODEL_7fec0dfb0dee47a9aee407a8d265bd6b",
            "max": 28,
            "min": 0,
            "orientation": "horizontal",
            "style": "IPY_MODEL_d5eff3e8bb744c89b4bbce8aecf88510",
            "value": 28
          }
        },
        "90f31f840dc448fb8f969fe7e33aeccf": {
          "model_module": "@jupyter-widgets/controls",
          "model_name": "HTMLModel",
          "model_module_version": "1.5.0",
          "state": {
            "_dom_classes": [],
            "_model_module": "@jupyter-widgets/controls",
            "_model_module_version": "1.5.0",
            "_model_name": "HTMLModel",
            "_view_count": null,
            "_view_module": "@jupyter-widgets/controls",
            "_view_module_version": "1.5.0",
            "_view_name": "HTMLView",
            "description": "",
            "description_tooltip": null,
            "layout": "IPY_MODEL_a4f085d8830e4dfd9cf917a873cb3aae",
            "placeholder": "​",
            "style": "IPY_MODEL_114ab3c61fbb463c81896b5b39dc88cb",
            "value": " 28.0/28.0 [00:00&lt;00:00, 1.94kB/s]"
          }
        },
        "d7a1a394243c4c0fba271ea8485f053f": {
          "model_module": "@jupyter-widgets/base",
          "model_name": "LayoutModel",
          "model_module_version": "1.2.0",
          "state": {
            "_model_module": "@jupyter-widgets/base",
            "_model_module_version": "1.2.0",
            "_model_name": "LayoutModel",
            "_view_count": null,
            "_view_module": "@jupyter-widgets/base",
            "_view_module_version": "1.2.0",
            "_view_name": "LayoutView",
            "align_content": null,
            "align_items": null,
            "align_self": null,
            "border": null,
            "bottom": null,
            "display": null,
            "flex": null,
            "flex_flow": null,
            "grid_area": null,
            "grid_auto_columns": null,
            "grid_auto_flow": null,
            "grid_auto_rows": null,
            "grid_column": null,
            "grid_gap": null,
            "grid_row": null,
            "grid_template_areas": null,
            "grid_template_columns": null,
            "grid_template_rows": null,
            "height": null,
            "justify_content": null,
            "justify_items": null,
            "left": null,
            "margin": null,
            "max_height": null,
            "max_width": null,
            "min_height": null,
            "min_width": null,
            "object_fit": null,
            "object_position": null,
            "order": null,
            "overflow": null,
            "overflow_x": null,
            "overflow_y": null,
            "padding": null,
            "right": null,
            "top": null,
            "visibility": null,
            "width": null
          }
        },
        "76c1aa6677294abb87ea82900484d742": {
          "model_module": "@jupyter-widgets/base",
          "model_name": "LayoutModel",
          "model_module_version": "1.2.0",
          "state": {
            "_model_module": "@jupyter-widgets/base",
            "_model_module_version": "1.2.0",
            "_model_name": "LayoutModel",
            "_view_count": null,
            "_view_module": "@jupyter-widgets/base",
            "_view_module_version": "1.2.0",
            "_view_name": "LayoutView",
            "align_content": null,
            "align_items": null,
            "align_self": null,
            "border": null,
            "bottom": null,
            "display": null,
            "flex": null,
            "flex_flow": null,
            "grid_area": null,
            "grid_auto_columns": null,
            "grid_auto_flow": null,
            "grid_auto_rows": null,
            "grid_column": null,
            "grid_gap": null,
            "grid_row": null,
            "grid_template_areas": null,
            "grid_template_columns": null,
            "grid_template_rows": null,
            "height": null,
            "justify_content": null,
            "justify_items": null,
            "left": null,
            "margin": null,
            "max_height": null,
            "max_width": null,
            "min_height": null,
            "min_width": null,
            "object_fit": null,
            "object_position": null,
            "order": null,
            "overflow": null,
            "overflow_x": null,
            "overflow_y": null,
            "padding": null,
            "right": null,
            "top": null,
            "visibility": null,
            "width": null
          }
        },
        "8d475030810341beabd4964184725040": {
          "model_module": "@jupyter-widgets/controls",
          "model_name": "DescriptionStyleModel",
          "model_module_version": "1.5.0",
          "state": {
            "_model_module": "@jupyter-widgets/controls",
            "_model_module_version": "1.5.0",
            "_model_name": "DescriptionStyleModel",
            "_view_count": null,
            "_view_module": "@jupyter-widgets/base",
            "_view_module_version": "1.2.0",
            "_view_name": "StyleView",
            "description_width": ""
          }
        },
        "7fec0dfb0dee47a9aee407a8d265bd6b": {
          "model_module": "@jupyter-widgets/base",
          "model_name": "LayoutModel",
          "model_module_version": "1.2.0",
          "state": {
            "_model_module": "@jupyter-widgets/base",
            "_model_module_version": "1.2.0",
            "_model_name": "LayoutModel",
            "_view_count": null,
            "_view_module": "@jupyter-widgets/base",
            "_view_module_version": "1.2.0",
            "_view_name": "LayoutView",
            "align_content": null,
            "align_items": null,
            "align_self": null,
            "border": null,
            "bottom": null,
            "display": null,
            "flex": null,
            "flex_flow": null,
            "grid_area": null,
            "grid_auto_columns": null,
            "grid_auto_flow": null,
            "grid_auto_rows": null,
            "grid_column": null,
            "grid_gap": null,
            "grid_row": null,
            "grid_template_areas": null,
            "grid_template_columns": null,
            "grid_template_rows": null,
            "height": null,
            "justify_content": null,
            "justify_items": null,
            "left": null,
            "margin": null,
            "max_height": null,
            "max_width": null,
            "min_height": null,
            "min_width": null,
            "object_fit": null,
            "object_position": null,
            "order": null,
            "overflow": null,
            "overflow_x": null,
            "overflow_y": null,
            "padding": null,
            "right": null,
            "top": null,
            "visibility": null,
            "width": null
          }
        },
        "d5eff3e8bb744c89b4bbce8aecf88510": {
          "model_module": "@jupyter-widgets/controls",
          "model_name": "ProgressStyleModel",
          "model_module_version": "1.5.0",
          "state": {
            "_model_module": "@jupyter-widgets/controls",
            "_model_module_version": "1.5.0",
            "_model_name": "ProgressStyleModel",
            "_view_count": null,
            "_view_module": "@jupyter-widgets/base",
            "_view_module_version": "1.2.0",
            "_view_name": "StyleView",
            "bar_color": null,
            "description_width": ""
          }
        },
        "a4f085d8830e4dfd9cf917a873cb3aae": {
          "model_module": "@jupyter-widgets/base",
          "model_name": "LayoutModel",
          "model_module_version": "1.2.0",
          "state": {
            "_model_module": "@jupyter-widgets/base",
            "_model_module_version": "1.2.0",
            "_model_name": "LayoutModel",
            "_view_count": null,
            "_view_module": "@jupyter-widgets/base",
            "_view_module_version": "1.2.0",
            "_view_name": "LayoutView",
            "align_content": null,
            "align_items": null,
            "align_self": null,
            "border": null,
            "bottom": null,
            "display": null,
            "flex": null,
            "flex_flow": null,
            "grid_area": null,
            "grid_auto_columns": null,
            "grid_auto_flow": null,
            "grid_auto_rows": null,
            "grid_column": null,
            "grid_gap": null,
            "grid_row": null,
            "grid_template_areas": null,
            "grid_template_columns": null,
            "grid_template_rows": null,
            "height": null,
            "justify_content": null,
            "justify_items": null,
            "left": null,
            "margin": null,
            "max_height": null,
            "max_width": null,
            "min_height": null,
            "min_width": null,
            "object_fit": null,
            "object_position": null,
            "order": null,
            "overflow": null,
            "overflow_x": null,
            "overflow_y": null,
            "padding": null,
            "right": null,
            "top": null,
            "visibility": null,
            "width": null
          }
        },
        "114ab3c61fbb463c81896b5b39dc88cb": {
          "model_module": "@jupyter-widgets/controls",
          "model_name": "DescriptionStyleModel",
          "model_module_version": "1.5.0",
          "state": {
            "_model_module": "@jupyter-widgets/controls",
            "_model_module_version": "1.5.0",
            "_model_name": "DescriptionStyleModel",
            "_view_count": null,
            "_view_module": "@jupyter-widgets/base",
            "_view_module_version": "1.2.0",
            "_view_name": "StyleView",
            "description_width": ""
          }
        },
        "7ee5941c2d2c43a6808c95ef597233b7": {
          "model_module": "@jupyter-widgets/controls",
          "model_name": "HBoxModel",
          "model_module_version": "1.5.0",
          "state": {
            "_dom_classes": [],
            "_model_module": "@jupyter-widgets/controls",
            "_model_module_version": "1.5.0",
            "_model_name": "HBoxModel",
            "_view_count": null,
            "_view_module": "@jupyter-widgets/controls",
            "_view_module_version": "1.5.0",
            "_view_name": "HBoxView",
            "box_style": "",
            "children": [
              "IPY_MODEL_305b788f622d480281e6feff1ecbf393",
              "IPY_MODEL_f0022620a4464e05a687f2ad613942ce",
              "IPY_MODEL_726a8a518c9a41a2b95c76a1389c6473"
            ],
            "layout": "IPY_MODEL_0a319abd8e22467ead954086a03bee45"
          }
        },
        "305b788f622d480281e6feff1ecbf393": {
          "model_module": "@jupyter-widgets/controls",
          "model_name": "HTMLModel",
          "model_module_version": "1.5.0",
          "state": {
            "_dom_classes": [],
            "_model_module": "@jupyter-widgets/controls",
            "_model_module_version": "1.5.0",
            "_model_name": "HTMLModel",
            "_view_count": null,
            "_view_module": "@jupyter-widgets/controls",
            "_view_module_version": "1.5.0",
            "_view_name": "HTMLView",
            "description": "",
            "description_tooltip": null,
            "layout": "IPY_MODEL_153f069ef26843f5b83b6072b66dbf0d",
            "placeholder": "​",
            "style": "IPY_MODEL_fea0f67bec6648e19db2b3c3b6098c7f",
            "value": "Downloading (…)lve/main/config.json: 100%"
          }
        },
        "f0022620a4464e05a687f2ad613942ce": {
          "model_module": "@jupyter-widgets/controls",
          "model_name": "FloatProgressModel",
          "model_module_version": "1.5.0",
          "state": {
            "_dom_classes": [],
            "_model_module": "@jupyter-widgets/controls",
            "_model_module_version": "1.5.0",
            "_model_name": "FloatProgressModel",
            "_view_count": null,
            "_view_module": "@jupyter-widgets/controls",
            "_view_module_version": "1.5.0",
            "_view_name": "ProgressView",
            "bar_style": "success",
            "description": "",
            "description_tooltip": null,
            "layout": "IPY_MODEL_5aedca8cb55c48fc8892291d385708d5",
            "max": 570,
            "min": 0,
            "orientation": "horizontal",
            "style": "IPY_MODEL_cb36ce9d4b804faa93c92a9b377a690e",
            "value": 570
          }
        },
        "726a8a518c9a41a2b95c76a1389c6473": {
          "model_module": "@jupyter-widgets/controls",
          "model_name": "HTMLModel",
          "model_module_version": "1.5.0",
          "state": {
            "_dom_classes": [],
            "_model_module": "@jupyter-widgets/controls",
            "_model_module_version": "1.5.0",
            "_model_name": "HTMLModel",
            "_view_count": null,
            "_view_module": "@jupyter-widgets/controls",
            "_view_module_version": "1.5.0",
            "_view_name": "HTMLView",
            "description": "",
            "description_tooltip": null,
            "layout": "IPY_MODEL_6fd2dafd1afa4705a2c91e9dfad9a622",
            "placeholder": "​",
            "style": "IPY_MODEL_bfce6ea8dd2d48fe9bb1e38eccd58f6d",
            "value": " 570/570 [00:00&lt;00:00, 42.7kB/s]"
          }
        },
        "0a319abd8e22467ead954086a03bee45": {
          "model_module": "@jupyter-widgets/base",
          "model_name": "LayoutModel",
          "model_module_version": "1.2.0",
          "state": {
            "_model_module": "@jupyter-widgets/base",
            "_model_module_version": "1.2.0",
            "_model_name": "LayoutModel",
            "_view_count": null,
            "_view_module": "@jupyter-widgets/base",
            "_view_module_version": "1.2.0",
            "_view_name": "LayoutView",
            "align_content": null,
            "align_items": null,
            "align_self": null,
            "border": null,
            "bottom": null,
            "display": null,
            "flex": null,
            "flex_flow": null,
            "grid_area": null,
            "grid_auto_columns": null,
            "grid_auto_flow": null,
            "grid_auto_rows": null,
            "grid_column": null,
            "grid_gap": null,
            "grid_row": null,
            "grid_template_areas": null,
            "grid_template_columns": null,
            "grid_template_rows": null,
            "height": null,
            "justify_content": null,
            "justify_items": null,
            "left": null,
            "margin": null,
            "max_height": null,
            "max_width": null,
            "min_height": null,
            "min_width": null,
            "object_fit": null,
            "object_position": null,
            "order": null,
            "overflow": null,
            "overflow_x": null,
            "overflow_y": null,
            "padding": null,
            "right": null,
            "top": null,
            "visibility": null,
            "width": null
          }
        },
        "153f069ef26843f5b83b6072b66dbf0d": {
          "model_module": "@jupyter-widgets/base",
          "model_name": "LayoutModel",
          "model_module_version": "1.2.0",
          "state": {
            "_model_module": "@jupyter-widgets/base",
            "_model_module_version": "1.2.0",
            "_model_name": "LayoutModel",
            "_view_count": null,
            "_view_module": "@jupyter-widgets/base",
            "_view_module_version": "1.2.0",
            "_view_name": "LayoutView",
            "align_content": null,
            "align_items": null,
            "align_self": null,
            "border": null,
            "bottom": null,
            "display": null,
            "flex": null,
            "flex_flow": null,
            "grid_area": null,
            "grid_auto_columns": null,
            "grid_auto_flow": null,
            "grid_auto_rows": null,
            "grid_column": null,
            "grid_gap": null,
            "grid_row": null,
            "grid_template_areas": null,
            "grid_template_columns": null,
            "grid_template_rows": null,
            "height": null,
            "justify_content": null,
            "justify_items": null,
            "left": null,
            "margin": null,
            "max_height": null,
            "max_width": null,
            "min_height": null,
            "min_width": null,
            "object_fit": null,
            "object_position": null,
            "order": null,
            "overflow": null,
            "overflow_x": null,
            "overflow_y": null,
            "padding": null,
            "right": null,
            "top": null,
            "visibility": null,
            "width": null
          }
        },
        "fea0f67bec6648e19db2b3c3b6098c7f": {
          "model_module": "@jupyter-widgets/controls",
          "model_name": "DescriptionStyleModel",
          "model_module_version": "1.5.0",
          "state": {
            "_model_module": "@jupyter-widgets/controls",
            "_model_module_version": "1.5.0",
            "_model_name": "DescriptionStyleModel",
            "_view_count": null,
            "_view_module": "@jupyter-widgets/base",
            "_view_module_version": "1.2.0",
            "_view_name": "StyleView",
            "description_width": ""
          }
        },
        "5aedca8cb55c48fc8892291d385708d5": {
          "model_module": "@jupyter-widgets/base",
          "model_name": "LayoutModel",
          "model_module_version": "1.2.0",
          "state": {
            "_model_module": "@jupyter-widgets/base",
            "_model_module_version": "1.2.0",
            "_model_name": "LayoutModel",
            "_view_count": null,
            "_view_module": "@jupyter-widgets/base",
            "_view_module_version": "1.2.0",
            "_view_name": "LayoutView",
            "align_content": null,
            "align_items": null,
            "align_self": null,
            "border": null,
            "bottom": null,
            "display": null,
            "flex": null,
            "flex_flow": null,
            "grid_area": null,
            "grid_auto_columns": null,
            "grid_auto_flow": null,
            "grid_auto_rows": null,
            "grid_column": null,
            "grid_gap": null,
            "grid_row": null,
            "grid_template_areas": null,
            "grid_template_columns": null,
            "grid_template_rows": null,
            "height": null,
            "justify_content": null,
            "justify_items": null,
            "left": null,
            "margin": null,
            "max_height": null,
            "max_width": null,
            "min_height": null,
            "min_width": null,
            "object_fit": null,
            "object_position": null,
            "order": null,
            "overflow": null,
            "overflow_x": null,
            "overflow_y": null,
            "padding": null,
            "right": null,
            "top": null,
            "visibility": null,
            "width": null
          }
        },
        "cb36ce9d4b804faa93c92a9b377a690e": {
          "model_module": "@jupyter-widgets/controls",
          "model_name": "ProgressStyleModel",
          "model_module_version": "1.5.0",
          "state": {
            "_model_module": "@jupyter-widgets/controls",
            "_model_module_version": "1.5.0",
            "_model_name": "ProgressStyleModel",
            "_view_count": null,
            "_view_module": "@jupyter-widgets/base",
            "_view_module_version": "1.2.0",
            "_view_name": "StyleView",
            "bar_color": null,
            "description_width": ""
          }
        },
        "6fd2dafd1afa4705a2c91e9dfad9a622": {
          "model_module": "@jupyter-widgets/base",
          "model_name": "LayoutModel",
          "model_module_version": "1.2.0",
          "state": {
            "_model_module": "@jupyter-widgets/base",
            "_model_module_version": "1.2.0",
            "_model_name": "LayoutModel",
            "_view_count": null,
            "_view_module": "@jupyter-widgets/base",
            "_view_module_version": "1.2.0",
            "_view_name": "LayoutView",
            "align_content": null,
            "align_items": null,
            "align_self": null,
            "border": null,
            "bottom": null,
            "display": null,
            "flex": null,
            "flex_flow": null,
            "grid_area": null,
            "grid_auto_columns": null,
            "grid_auto_flow": null,
            "grid_auto_rows": null,
            "grid_column": null,
            "grid_gap": null,
            "grid_row": null,
            "grid_template_areas": null,
            "grid_template_columns": null,
            "grid_template_rows": null,
            "height": null,
            "justify_content": null,
            "justify_items": null,
            "left": null,
            "margin": null,
            "max_height": null,
            "max_width": null,
            "min_height": null,
            "min_width": null,
            "object_fit": null,
            "object_position": null,
            "order": null,
            "overflow": null,
            "overflow_x": null,
            "overflow_y": null,
            "padding": null,
            "right": null,
            "top": null,
            "visibility": null,
            "width": null
          }
        },
        "bfce6ea8dd2d48fe9bb1e38eccd58f6d": {
          "model_module": "@jupyter-widgets/controls",
          "model_name": "DescriptionStyleModel",
          "model_module_version": "1.5.0",
          "state": {
            "_model_module": "@jupyter-widgets/controls",
            "_model_module_version": "1.5.0",
            "_model_name": "DescriptionStyleModel",
            "_view_count": null,
            "_view_module": "@jupyter-widgets/base",
            "_view_module_version": "1.2.0",
            "_view_name": "StyleView",
            "description_width": ""
          }
        },
        "1ea1de01f8c144b6ac7e52000860ea19": {
          "model_module": "@jupyter-widgets/controls",
          "model_name": "HBoxModel",
          "model_module_version": "1.5.0",
          "state": {
            "_dom_classes": [],
            "_model_module": "@jupyter-widgets/controls",
            "_model_module_version": "1.5.0",
            "_model_name": "HBoxModel",
            "_view_count": null,
            "_view_module": "@jupyter-widgets/controls",
            "_view_module_version": "1.5.0",
            "_view_name": "HBoxView",
            "box_style": "",
            "children": [
              "IPY_MODEL_eca39bb8cfe04d0c9a92ac8b3993a35b",
              "IPY_MODEL_6b13a767893e47cba67dd7d75f507e47",
              "IPY_MODEL_c8156e05b82e498e88250f6769eb8d53"
            ],
            "layout": "IPY_MODEL_315926e762db48cbb60a797d0d80b60a"
          }
        },
        "eca39bb8cfe04d0c9a92ac8b3993a35b": {
          "model_module": "@jupyter-widgets/controls",
          "model_name": "HTMLModel",
          "model_module_version": "1.5.0",
          "state": {
            "_dom_classes": [],
            "_model_module": "@jupyter-widgets/controls",
            "_model_module_version": "1.5.0",
            "_model_name": "HTMLModel",
            "_view_count": null,
            "_view_module": "@jupyter-widgets/controls",
            "_view_module_version": "1.5.0",
            "_view_name": "HTMLView",
            "description": "",
            "description_tooltip": null,
            "layout": "IPY_MODEL_ff2f32dccfc744528c2b06d47d362ebc",
            "placeholder": "​",
            "style": "IPY_MODEL_3967140ae04f43de89acade7c21642c9",
            "value": "Downloading model.safetensors: 100%"
          }
        },
        "6b13a767893e47cba67dd7d75f507e47": {
          "model_module": "@jupyter-widgets/controls",
          "model_name": "FloatProgressModel",
          "model_module_version": "1.5.0",
          "state": {
            "_dom_classes": [],
            "_model_module": "@jupyter-widgets/controls",
            "_model_module_version": "1.5.0",
            "_model_name": "FloatProgressModel",
            "_view_count": null,
            "_view_module": "@jupyter-widgets/controls",
            "_view_module_version": "1.5.0",
            "_view_name": "ProgressView",
            "bar_style": "success",
            "description": "",
            "description_tooltip": null,
            "layout": "IPY_MODEL_d6cc90e28980446682e357e24b5bae6d",
            "max": 440449768,
            "min": 0,
            "orientation": "horizontal",
            "style": "IPY_MODEL_6a908e423d9e4c9dba980b8a474694a2",
            "value": 440449768
          }
        },
        "c8156e05b82e498e88250f6769eb8d53": {
          "model_module": "@jupyter-widgets/controls",
          "model_name": "HTMLModel",
          "model_module_version": "1.5.0",
          "state": {
            "_dom_classes": [],
            "_model_module": "@jupyter-widgets/controls",
            "_model_module_version": "1.5.0",
            "_model_name": "HTMLModel",
            "_view_count": null,
            "_view_module": "@jupyter-widgets/controls",
            "_view_module_version": "1.5.0",
            "_view_name": "HTMLView",
            "description": "",
            "description_tooltip": null,
            "layout": "IPY_MODEL_e6d8ecb054e445aeb6335474ba55e5c5",
            "placeholder": "​",
            "style": "IPY_MODEL_dec1dbd77afc4b23abeb5cc0e1ccb0b4",
            "value": " 440M/440M [00:01&lt;00:00, 421MB/s]"
          }
        },
        "315926e762db48cbb60a797d0d80b60a": {
          "model_module": "@jupyter-widgets/base",
          "model_name": "LayoutModel",
          "model_module_version": "1.2.0",
          "state": {
            "_model_module": "@jupyter-widgets/base",
            "_model_module_version": "1.2.0",
            "_model_name": "LayoutModel",
            "_view_count": null,
            "_view_module": "@jupyter-widgets/base",
            "_view_module_version": "1.2.0",
            "_view_name": "LayoutView",
            "align_content": null,
            "align_items": null,
            "align_self": null,
            "border": null,
            "bottom": null,
            "display": null,
            "flex": null,
            "flex_flow": null,
            "grid_area": null,
            "grid_auto_columns": null,
            "grid_auto_flow": null,
            "grid_auto_rows": null,
            "grid_column": null,
            "grid_gap": null,
            "grid_row": null,
            "grid_template_areas": null,
            "grid_template_columns": null,
            "grid_template_rows": null,
            "height": null,
            "justify_content": null,
            "justify_items": null,
            "left": null,
            "margin": null,
            "max_height": null,
            "max_width": null,
            "min_height": null,
            "min_width": null,
            "object_fit": null,
            "object_position": null,
            "order": null,
            "overflow": null,
            "overflow_x": null,
            "overflow_y": null,
            "padding": null,
            "right": null,
            "top": null,
            "visibility": null,
            "width": null
          }
        },
        "ff2f32dccfc744528c2b06d47d362ebc": {
          "model_module": "@jupyter-widgets/base",
          "model_name": "LayoutModel",
          "model_module_version": "1.2.0",
          "state": {
            "_model_module": "@jupyter-widgets/base",
            "_model_module_version": "1.2.0",
            "_model_name": "LayoutModel",
            "_view_count": null,
            "_view_module": "@jupyter-widgets/base",
            "_view_module_version": "1.2.0",
            "_view_name": "LayoutView",
            "align_content": null,
            "align_items": null,
            "align_self": null,
            "border": null,
            "bottom": null,
            "display": null,
            "flex": null,
            "flex_flow": null,
            "grid_area": null,
            "grid_auto_columns": null,
            "grid_auto_flow": null,
            "grid_auto_rows": null,
            "grid_column": null,
            "grid_gap": null,
            "grid_row": null,
            "grid_template_areas": null,
            "grid_template_columns": null,
            "grid_template_rows": null,
            "height": null,
            "justify_content": null,
            "justify_items": null,
            "left": null,
            "margin": null,
            "max_height": null,
            "max_width": null,
            "min_height": null,
            "min_width": null,
            "object_fit": null,
            "object_position": null,
            "order": null,
            "overflow": null,
            "overflow_x": null,
            "overflow_y": null,
            "padding": null,
            "right": null,
            "top": null,
            "visibility": null,
            "width": null
          }
        },
        "3967140ae04f43de89acade7c21642c9": {
          "model_module": "@jupyter-widgets/controls",
          "model_name": "DescriptionStyleModel",
          "model_module_version": "1.5.0",
          "state": {
            "_model_module": "@jupyter-widgets/controls",
            "_model_module_version": "1.5.0",
            "_model_name": "DescriptionStyleModel",
            "_view_count": null,
            "_view_module": "@jupyter-widgets/base",
            "_view_module_version": "1.2.0",
            "_view_name": "StyleView",
            "description_width": ""
          }
        },
        "d6cc90e28980446682e357e24b5bae6d": {
          "model_module": "@jupyter-widgets/base",
          "model_name": "LayoutModel",
          "model_module_version": "1.2.0",
          "state": {
            "_model_module": "@jupyter-widgets/base",
            "_model_module_version": "1.2.0",
            "_model_name": "LayoutModel",
            "_view_count": null,
            "_view_module": "@jupyter-widgets/base",
            "_view_module_version": "1.2.0",
            "_view_name": "LayoutView",
            "align_content": null,
            "align_items": null,
            "align_self": null,
            "border": null,
            "bottom": null,
            "display": null,
            "flex": null,
            "flex_flow": null,
            "grid_area": null,
            "grid_auto_columns": null,
            "grid_auto_flow": null,
            "grid_auto_rows": null,
            "grid_column": null,
            "grid_gap": null,
            "grid_row": null,
            "grid_template_areas": null,
            "grid_template_columns": null,
            "grid_template_rows": null,
            "height": null,
            "justify_content": null,
            "justify_items": null,
            "left": null,
            "margin": null,
            "max_height": null,
            "max_width": null,
            "min_height": null,
            "min_width": null,
            "object_fit": null,
            "object_position": null,
            "order": null,
            "overflow": null,
            "overflow_x": null,
            "overflow_y": null,
            "padding": null,
            "right": null,
            "top": null,
            "visibility": null,
            "width": null
          }
        },
        "6a908e423d9e4c9dba980b8a474694a2": {
          "model_module": "@jupyter-widgets/controls",
          "model_name": "ProgressStyleModel",
          "model_module_version": "1.5.0",
          "state": {
            "_model_module": "@jupyter-widgets/controls",
            "_model_module_version": "1.5.0",
            "_model_name": "ProgressStyleModel",
            "_view_count": null,
            "_view_module": "@jupyter-widgets/base",
            "_view_module_version": "1.2.0",
            "_view_name": "StyleView",
            "bar_color": null,
            "description_width": ""
          }
        },
        "e6d8ecb054e445aeb6335474ba55e5c5": {
          "model_module": "@jupyter-widgets/base",
          "model_name": "LayoutModel",
          "model_module_version": "1.2.0",
          "state": {
            "_model_module": "@jupyter-widgets/base",
            "_model_module_version": "1.2.0",
            "_model_name": "LayoutModel",
            "_view_count": null,
            "_view_module": "@jupyter-widgets/base",
            "_view_module_version": "1.2.0",
            "_view_name": "LayoutView",
            "align_content": null,
            "align_items": null,
            "align_self": null,
            "border": null,
            "bottom": null,
            "display": null,
            "flex": null,
            "flex_flow": null,
            "grid_area": null,
            "grid_auto_columns": null,
            "grid_auto_flow": null,
            "grid_auto_rows": null,
            "grid_column": null,
            "grid_gap": null,
            "grid_row": null,
            "grid_template_areas": null,
            "grid_template_columns": null,
            "grid_template_rows": null,
            "height": null,
            "justify_content": null,
            "justify_items": null,
            "left": null,
            "margin": null,
            "max_height": null,
            "max_width": null,
            "min_height": null,
            "min_width": null,
            "object_fit": null,
            "object_position": null,
            "order": null,
            "overflow": null,
            "overflow_x": null,
            "overflow_y": null,
            "padding": null,
            "right": null,
            "top": null,
            "visibility": null,
            "width": null
          }
        },
        "dec1dbd77afc4b23abeb5cc0e1ccb0b4": {
          "model_module": "@jupyter-widgets/controls",
          "model_name": "DescriptionStyleModel",
          "model_module_version": "1.5.0",
          "state": {
            "_model_module": "@jupyter-widgets/controls",
            "_model_module_version": "1.5.0",
            "_model_name": "DescriptionStyleModel",
            "_view_count": null,
            "_view_module": "@jupyter-widgets/base",
            "_view_module_version": "1.2.0",
            "_view_name": "StyleView",
            "description_width": ""
          }
        }
      }
    }
  },
  "nbformat": 4,
  "nbformat_minor": 5
}