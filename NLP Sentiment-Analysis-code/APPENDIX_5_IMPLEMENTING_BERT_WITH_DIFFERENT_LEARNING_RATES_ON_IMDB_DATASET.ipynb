{
  "cells": [
    {
      "cell_type": "code",
      "execution_count": null,
      "metadata": {
        "colab": {
          "base_uri": "https://localhost:8080/"
        },
        "id": "6pTNOOd0yNU9",
        "outputId": "aa18b0e6-57c8-40d9-bef4-7848fd8bbdaa"
      },
      "outputs": [
        {
          "output_type": "stream",
          "name": "stdout",
          "text": [
            "Collecting transformers\n",
            "  Downloading transformers-4.33.1-py3-none-any.whl (7.6 MB)\n",
            "\u001b[2K     \u001b[90m━━━━━━━━━━━━━━━━━━━━━━━━━━━━━━━━━━━━━━━━\u001b[0m \u001b[32m7.6/7.6 MB\u001b[0m \u001b[31m66.0 MB/s\u001b[0m eta \u001b[36m0:00:00\u001b[0m\n",
            "\u001b[?25hRequirement already satisfied: filelock in /usr/local/lib/python3.10/dist-packages (from transformers) (3.12.2)\n",
            "Collecting huggingface-hub<1.0,>=0.15.1 (from transformers)\n",
            "  Downloading huggingface_hub-0.16.4-py3-none-any.whl (268 kB)\n",
            "\u001b[2K     \u001b[90m━━━━━━━━━━━━━━━━━━━━━━━━━━━━━━━━━━━━━━\u001b[0m \u001b[32m268.8/268.8 kB\u001b[0m \u001b[31m33.5 MB/s\u001b[0m eta \u001b[36m0:00:00\u001b[0m\n",
            "\u001b[?25hRequirement already satisfied: numpy>=1.17 in /usr/local/lib/python3.10/dist-packages (from transformers) (1.23.5)\n",
            "Requirement already satisfied: packaging>=20.0 in /usr/local/lib/python3.10/dist-packages (from transformers) (23.1)\n",
            "Requirement already satisfied: pyyaml>=5.1 in /usr/local/lib/python3.10/dist-packages (from transformers) (6.0.1)\n",
            "Requirement already satisfied: regex!=2019.12.17 in /usr/local/lib/python3.10/dist-packages (from transformers) (2023.6.3)\n",
            "Requirement already satisfied: requests in /usr/local/lib/python3.10/dist-packages (from transformers) (2.31.0)\n",
            "Collecting tokenizers!=0.11.3,<0.14,>=0.11.1 (from transformers)\n",
            "  Downloading tokenizers-0.13.3-cp310-cp310-manylinux_2_17_x86_64.manylinux2014_x86_64.whl (7.8 MB)\n",
            "\u001b[2K     \u001b[90m━━━━━━━━━━━━━━━━━━━━━━━━━━━━━━━━━━━━━━━━\u001b[0m \u001b[32m7.8/7.8 MB\u001b[0m \u001b[31m107.4 MB/s\u001b[0m eta \u001b[36m0:00:00\u001b[0m\n",
            "\u001b[?25hCollecting safetensors>=0.3.1 (from transformers)\n",
            "  Downloading safetensors-0.3.3-cp310-cp310-manylinux_2_17_x86_64.manylinux2014_x86_64.whl (1.3 MB)\n",
            "\u001b[2K     \u001b[90m━━━━━━━━━━━━━━━━━━━━━━━━━━━━━━━━━━━━━━━━\u001b[0m \u001b[32m1.3/1.3 MB\u001b[0m \u001b[31m81.6 MB/s\u001b[0m eta \u001b[36m0:00:00\u001b[0m\n",
            "\u001b[?25hRequirement already satisfied: tqdm>=4.27 in /usr/local/lib/python3.10/dist-packages (from transformers) (4.66.1)\n",
            "Requirement already satisfied: fsspec in /usr/local/lib/python3.10/dist-packages (from huggingface-hub<1.0,>=0.15.1->transformers) (2023.6.0)\n",
            "Requirement already satisfied: typing-extensions>=3.7.4.3 in /usr/local/lib/python3.10/dist-packages (from huggingface-hub<1.0,>=0.15.1->transformers) (4.5.0)\n",
            "Requirement already satisfied: charset-normalizer<4,>=2 in /usr/local/lib/python3.10/dist-packages (from requests->transformers) (3.2.0)\n",
            "Requirement already satisfied: idna<4,>=2.5 in /usr/local/lib/python3.10/dist-packages (from requests->transformers) (3.4)\n",
            "Requirement already satisfied: urllib3<3,>=1.21.1 in /usr/local/lib/python3.10/dist-packages (from requests->transformers) (2.0.4)\n",
            "Requirement already satisfied: certifi>=2017.4.17 in /usr/local/lib/python3.10/dist-packages (from requests->transformers) (2023.7.22)\n",
            "Installing collected packages: tokenizers, safetensors, huggingface-hub, transformers\n",
            "Successfully installed huggingface-hub-0.16.4 safetensors-0.3.3 tokenizers-0.13.3 transformers-4.33.1\n"
          ]
        }
      ],
      "source": [
        "pip install transformers"
      ],
      "id": "6pTNOOd0yNU9"
    },
    {
      "cell_type": "code",
      "execution_count": null,
      "metadata": {
        "id": "2c9d64ac"
      },
      "outputs": [],
      "source": [
        "#importing all the essential libraries\n",
        "import pandas as pd\n",
        "from sklearn.model_selection import train_test_split\n",
        "from google.colab import drive\n",
        "import matplotlib.pyplot as plt\n",
        "import re #for data pre-processing\n",
        "import unicodedata #library for data pre-processing\n",
        "from transformers import BertTokenizer, BertForSequenceClassification, BertConfig, BertModel\n",
        "import torch\n",
        "import torch.nn as nn\n",
        "import torch.optim as optim\n",
        "import torch.optim.lr_scheduler as lr_scheduler\n",
        "from torch.utils.data import DataLoader, TensorDataset\n",
        "from sklearn.metrics import accuracy_score, classification_report, confusion_matrix"
      ],
      "id": "2c9d64ac"
    },
    {
      "cell_type": "code",
      "execution_count": null,
      "metadata": {
        "colab": {
          "base_uri": "https://localhost:8080/"
        },
        "id": "S8wckJC6jhOZ",
        "outputId": "3cacd7a6-4822-4e8e-b668-6f02b85c90e4"
      },
      "outputs": [
        {
          "output_type": "stream",
          "name": "stdout",
          "text": [
            "Mounted at /content/drive\n"
          ]
        }
      ],
      "source": [
        "#mounting drive to collab\n",
        "drive.mount('/content/drive')"
      ],
      "id": "S8wckJC6jhOZ"
    },
    {
      "cell_type": "code",
      "execution_count": null,
      "metadata": {
        "id": "HXCbexQYjff8"
      },
      "outputs": [],
      "source": [
        "#Reading file from drive\n",
        "df = pd.read_csv('/content/drive/MyDrive/Colab Notebooks/IMDB_Dataset.csv')"
      ],
      "id": "HXCbexQYjff8"
    },
    {
      "cell_type": "code",
      "execution_count": null,
      "metadata": {
        "colab": {
          "base_uri": "https://localhost:8080/",
          "height": 206
        },
        "id": "9a90d8c5",
        "outputId": "2819f4d0-3eda-4a9f-e8fc-e0ebcbdb05f4"
      },
      "outputs": [
        {
          "output_type": "execute_result",
          "data": {
            "text/plain": [
              "                                              review sentiment\n",
              "0  One of the other reviewers has mentioned that ...  positive\n",
              "1  A wonderful little production. <br /><br />The...  positive\n",
              "2  I thought this was a wonderful way to spend ti...  positive\n",
              "3  Basically there's a family where a little boy ...  negative\n",
              "4  Petter Mattei's \"Love in the Time of Money\" is...  positive"
            ],
            "text/html": [
              "\n",
              "  <div id=\"df-962b79c6-fdc9-41ef-95f2-5219429ee3d3\" class=\"colab-df-container\">\n",
              "    <div>\n",
              "<style scoped>\n",
              "    .dataframe tbody tr th:only-of-type {\n",
              "        vertical-align: middle;\n",
              "    }\n",
              "\n",
              "    .dataframe tbody tr th {\n",
              "        vertical-align: top;\n",
              "    }\n",
              "\n",
              "    .dataframe thead th {\n",
              "        text-align: right;\n",
              "    }\n",
              "</style>\n",
              "<table border=\"1\" class=\"dataframe\">\n",
              "  <thead>\n",
              "    <tr style=\"text-align: right;\">\n",
              "      <th></th>\n",
              "      <th>review</th>\n",
              "      <th>sentiment</th>\n",
              "    </tr>\n",
              "  </thead>\n",
              "  <tbody>\n",
              "    <tr>\n",
              "      <th>0</th>\n",
              "      <td>One of the other reviewers has mentioned that ...</td>\n",
              "      <td>positive</td>\n",
              "    </tr>\n",
              "    <tr>\n",
              "      <th>1</th>\n",
              "      <td>A wonderful little production. &lt;br /&gt;&lt;br /&gt;The...</td>\n",
              "      <td>positive</td>\n",
              "    </tr>\n",
              "    <tr>\n",
              "      <th>2</th>\n",
              "      <td>I thought this was a wonderful way to spend ti...</td>\n",
              "      <td>positive</td>\n",
              "    </tr>\n",
              "    <tr>\n",
              "      <th>3</th>\n",
              "      <td>Basically there's a family where a little boy ...</td>\n",
              "      <td>negative</td>\n",
              "    </tr>\n",
              "    <tr>\n",
              "      <th>4</th>\n",
              "      <td>Petter Mattei's \"Love in the Time of Money\" is...</td>\n",
              "      <td>positive</td>\n",
              "    </tr>\n",
              "  </tbody>\n",
              "</table>\n",
              "</div>\n",
              "    <div class=\"colab-df-buttons\">\n",
              "\n",
              "  <div class=\"colab-df-container\">\n",
              "    <button class=\"colab-df-convert\" onclick=\"convertToInteractive('df-962b79c6-fdc9-41ef-95f2-5219429ee3d3')\"\n",
              "            title=\"Convert this dataframe to an interactive table.\"\n",
              "            style=\"display:none;\">\n",
              "\n",
              "  <svg xmlns=\"http://www.w3.org/2000/svg\" height=\"24px\" viewBox=\"0 -960 960 960\">\n",
              "    <path d=\"M120-120v-720h720v720H120Zm60-500h600v-160H180v160Zm220 220h160v-160H400v160Zm0 220h160v-160H400v160ZM180-400h160v-160H180v160Zm440 0h160v-160H620v160ZM180-180h160v-160H180v160Zm440 0h160v-160H620v160Z\"/>\n",
              "  </svg>\n",
              "    </button>\n",
              "\n",
              "  <style>\n",
              "    .colab-df-container {\n",
              "      display:flex;\n",
              "      gap: 12px;\n",
              "    }\n",
              "\n",
              "    .colab-df-convert {\n",
              "      background-color: #E8F0FE;\n",
              "      border: none;\n",
              "      border-radius: 50%;\n",
              "      cursor: pointer;\n",
              "      display: none;\n",
              "      fill: #1967D2;\n",
              "      height: 32px;\n",
              "      padding: 0 0 0 0;\n",
              "      width: 32px;\n",
              "    }\n",
              "\n",
              "    .colab-df-convert:hover {\n",
              "      background-color: #E2EBFA;\n",
              "      box-shadow: 0px 1px 2px rgba(60, 64, 67, 0.3), 0px 1px 3px 1px rgba(60, 64, 67, 0.15);\n",
              "      fill: #174EA6;\n",
              "    }\n",
              "\n",
              "    .colab-df-buttons div {\n",
              "      margin-bottom: 4px;\n",
              "    }\n",
              "\n",
              "    [theme=dark] .colab-df-convert {\n",
              "      background-color: #3B4455;\n",
              "      fill: #D2E3FC;\n",
              "    }\n",
              "\n",
              "    [theme=dark] .colab-df-convert:hover {\n",
              "      background-color: #434B5C;\n",
              "      box-shadow: 0px 1px 3px 1px rgba(0, 0, 0, 0.15);\n",
              "      filter: drop-shadow(0px 1px 2px rgba(0, 0, 0, 0.3));\n",
              "      fill: #FFFFFF;\n",
              "    }\n",
              "  </style>\n",
              "\n",
              "    <script>\n",
              "      const buttonEl =\n",
              "        document.querySelector('#df-962b79c6-fdc9-41ef-95f2-5219429ee3d3 button.colab-df-convert');\n",
              "      buttonEl.style.display =\n",
              "        google.colab.kernel.accessAllowed ? 'block' : 'none';\n",
              "\n",
              "      async function convertToInteractive(key) {\n",
              "        const element = document.querySelector('#df-962b79c6-fdc9-41ef-95f2-5219429ee3d3');\n",
              "        const dataTable =\n",
              "          await google.colab.kernel.invokeFunction('convertToInteractive',\n",
              "                                                    [key], {});\n",
              "        if (!dataTable) return;\n",
              "\n",
              "        const docLinkHtml = 'Like what you see? Visit the ' +\n",
              "          '<a target=\"_blank\" href=https://colab.research.google.com/notebooks/data_table.ipynb>data table notebook</a>'\n",
              "          + ' to learn more about interactive tables.';\n",
              "        element.innerHTML = '';\n",
              "        dataTable['output_type'] = 'display_data';\n",
              "        await google.colab.output.renderOutput(dataTable, element);\n",
              "        const docLink = document.createElement('div');\n",
              "        docLink.innerHTML = docLinkHtml;\n",
              "        element.appendChild(docLink);\n",
              "      }\n",
              "    </script>\n",
              "  </div>\n",
              "\n",
              "\n",
              "<div id=\"df-3e03546e-0c8a-4811-b286-e2e58cdda82e\">\n",
              "  <button class=\"colab-df-quickchart\" onclick=\"quickchart('df-3e03546e-0c8a-4811-b286-e2e58cdda82e')\"\n",
              "            title=\"Suggest charts.\"\n",
              "            style=\"display:none;\">\n",
              "\n",
              "<svg xmlns=\"http://www.w3.org/2000/svg\" height=\"24px\"viewBox=\"0 0 24 24\"\n",
              "     width=\"24px\">\n",
              "    <g>\n",
              "        <path d=\"M19 3H5c-1.1 0-2 .9-2 2v14c0 1.1.9 2 2 2h14c1.1 0 2-.9 2-2V5c0-1.1-.9-2-2-2zM9 17H7v-7h2v7zm4 0h-2V7h2v10zm4 0h-2v-4h2v4z\"/>\n",
              "    </g>\n",
              "</svg>\n",
              "  </button>\n",
              "\n",
              "<style>\n",
              "  .colab-df-quickchart {\n",
              "      --bg-color: #E8F0FE;\n",
              "      --fill-color: #1967D2;\n",
              "      --hover-bg-color: #E2EBFA;\n",
              "      --hover-fill-color: #174EA6;\n",
              "      --disabled-fill-color: #AAA;\n",
              "      --disabled-bg-color: #DDD;\n",
              "  }\n",
              "\n",
              "  [theme=dark] .colab-df-quickchart {\n",
              "      --bg-color: #3B4455;\n",
              "      --fill-color: #D2E3FC;\n",
              "      --hover-bg-color: #434B5C;\n",
              "      --hover-fill-color: #FFFFFF;\n",
              "      --disabled-bg-color: #3B4455;\n",
              "      --disabled-fill-color: #666;\n",
              "  }\n",
              "\n",
              "  .colab-df-quickchart {\n",
              "    background-color: var(--bg-color);\n",
              "    border: none;\n",
              "    border-radius: 50%;\n",
              "    cursor: pointer;\n",
              "    display: none;\n",
              "    fill: var(--fill-color);\n",
              "    height: 32px;\n",
              "    padding: 0;\n",
              "    width: 32px;\n",
              "  }\n",
              "\n",
              "  .colab-df-quickchart:hover {\n",
              "    background-color: var(--hover-bg-color);\n",
              "    box-shadow: 0 1px 2px rgba(60, 64, 67, 0.3), 0 1px 3px 1px rgba(60, 64, 67, 0.15);\n",
              "    fill: var(--button-hover-fill-color);\n",
              "  }\n",
              "\n",
              "  .colab-df-quickchart-complete:disabled,\n",
              "  .colab-df-quickchart-complete:disabled:hover {\n",
              "    background-color: var(--disabled-bg-color);\n",
              "    fill: var(--disabled-fill-color);\n",
              "    box-shadow: none;\n",
              "  }\n",
              "\n",
              "  .colab-df-spinner {\n",
              "    border: 2px solid var(--fill-color);\n",
              "    border-color: transparent;\n",
              "    border-bottom-color: var(--fill-color);\n",
              "    animation:\n",
              "      spin 1s steps(1) infinite;\n",
              "  }\n",
              "\n",
              "  @keyframes spin {\n",
              "    0% {\n",
              "      border-color: transparent;\n",
              "      border-bottom-color: var(--fill-color);\n",
              "      border-left-color: var(--fill-color);\n",
              "    }\n",
              "    20% {\n",
              "      border-color: transparent;\n",
              "      border-left-color: var(--fill-color);\n",
              "      border-top-color: var(--fill-color);\n",
              "    }\n",
              "    30% {\n",
              "      border-color: transparent;\n",
              "      border-left-color: var(--fill-color);\n",
              "      border-top-color: var(--fill-color);\n",
              "      border-right-color: var(--fill-color);\n",
              "    }\n",
              "    40% {\n",
              "      border-color: transparent;\n",
              "      border-right-color: var(--fill-color);\n",
              "      border-top-color: var(--fill-color);\n",
              "    }\n",
              "    60% {\n",
              "      border-color: transparent;\n",
              "      border-right-color: var(--fill-color);\n",
              "    }\n",
              "    80% {\n",
              "      border-color: transparent;\n",
              "      border-right-color: var(--fill-color);\n",
              "      border-bottom-color: var(--fill-color);\n",
              "    }\n",
              "    90% {\n",
              "      border-color: transparent;\n",
              "      border-bottom-color: var(--fill-color);\n",
              "    }\n",
              "  }\n",
              "</style>\n",
              "\n",
              "  <script>\n",
              "    async function quickchart(key) {\n",
              "      const quickchartButtonEl =\n",
              "        document.querySelector('#' + key + ' button');\n",
              "      quickchartButtonEl.disabled = true;  // To prevent multiple clicks.\n",
              "      quickchartButtonEl.classList.add('colab-df-spinner');\n",
              "      try {\n",
              "        const charts = await google.colab.kernel.invokeFunction(\n",
              "            'suggestCharts', [key], {});\n",
              "      } catch (error) {\n",
              "        console.error('Error during call to suggestCharts:', error);\n",
              "      }\n",
              "      quickchartButtonEl.classList.remove('colab-df-spinner');\n",
              "      quickchartButtonEl.classList.add('colab-df-quickchart-complete');\n",
              "    }\n",
              "    (() => {\n",
              "      let quickchartButtonEl =\n",
              "        document.querySelector('#df-3e03546e-0c8a-4811-b286-e2e58cdda82e button');\n",
              "      quickchartButtonEl.style.display =\n",
              "        google.colab.kernel.accessAllowed ? 'block' : 'none';\n",
              "    })();\n",
              "  </script>\n",
              "</div>\n",
              "    </div>\n",
              "  </div>\n"
            ]
          },
          "metadata": {},
          "execution_count": 5
        }
      ],
      "source": [
        "#Printing top 5 rows\n",
        "df.head()"
      ],
      "id": "9a90d8c5"
    },
    {
      "cell_type": "code",
      "execution_count": null,
      "metadata": {
        "colab": {
          "base_uri": "https://localhost:8080/"
        },
        "id": "17b1641f",
        "outputId": "ab7ce3fa-5ed9-4ec5-b1d3-d355163aa249"
      },
      "outputs": [
        {
          "output_type": "execute_result",
          "data": {
            "text/plain": [
              "0        False\n",
              "1        False\n",
              "2        False\n",
              "3        False\n",
              "4        False\n",
              "         ...  \n",
              "49995    False\n",
              "49996    False\n",
              "49997    False\n",
              "49998    False\n",
              "49999    False\n",
              "Name: sentiment, Length: 50000, dtype: bool"
            ]
          },
          "metadata": {},
          "execution_count": 6
        }
      ],
      "source": [
        "#checking for any null values\n",
        "\n",
        "df['sentiment'].isnull()"
      ],
      "id": "17b1641f"
    },
    {
      "cell_type": "code",
      "execution_count": null,
      "metadata": {
        "colab": {
          "base_uri": "https://localhost:8080/"
        },
        "id": "d8e79f07",
        "outputId": "b465753d-4f8c-49bf-f92c-707677706f81"
      },
      "outputs": [
        {
          "output_type": "stream",
          "name": "stdout",
          "text": [
            "<class 'pandas.core.frame.DataFrame'>\n",
            "RangeIndex: 50000 entries, 0 to 49999\n",
            "Data columns (total 2 columns):\n",
            " #   Column     Non-Null Count  Dtype \n",
            "---  ------     --------------  ----- \n",
            " 0   review     50000 non-null  object\n",
            " 1   sentiment  50000 non-null  object\n",
            "dtypes: object(2)\n",
            "memory usage: 781.4+ KB\n"
          ]
        }
      ],
      "source": [
        "df.info()"
      ],
      "id": "d8e79f07"
    },
    {
      "cell_type": "code",
      "execution_count": null,
      "metadata": {
        "id": "751db7a6"
      },
      "outputs": [],
      "source": [
        "#Assigning X & y with review and sentiment respectively\n",
        "\n",
        "X = df['review']\n",
        "y = df['sentiment']"
      ],
      "id": "751db7a6"
    },
    {
      "cell_type": "code",
      "execution_count": null,
      "metadata": {
        "id": "zg6tiVgi6mfx"
      },
      "outputs": [],
      "source": [
        "#splitting values in to train, validation and test sets\n",
        "X_train, X_temp, y_train, y_temp = train_test_split(X, y, test_size=0.7,stratify=y, random_state=42)\n",
        "X_val, X_test, y_val, y_test = train_test_split(X_temp, y_temp, test_size=0.57, random_state=42)"
      ],
      "id": "zg6tiVgi6mfx"
    },
    {
      "cell_type": "code",
      "execution_count": null,
      "metadata": {
        "colab": {
          "base_uri": "https://localhost:8080/"
        },
        "id": "fa8a27d9",
        "outputId": "ec198058-3585-4ea1-a22b-64f36e702cbb"
      },
      "outputs": [
        {
          "output_type": "stream",
          "name": "stdout",
          "text": [
            "Training set size: 15000\n",
            "Test set size: 19950\n",
            "Validation set size: 15050\n"
          ]
        }
      ],
      "source": [
        "#chceking the length of the train, validation and test sets\n",
        "\n",
        "print(\"Training set size:\", len(X_train))\n",
        "print(\"Test set size:\", len(X_test))\n",
        "print(\"Validation set size:\", len(X_val))"
      ],
      "id": "fa8a27d9"
    },
    {
      "cell_type": "code",
      "execution_count": null,
      "metadata": {
        "colab": {
          "base_uri": "https://localhost:8080/"
        },
        "id": "c16cb1a2",
        "outputId": "8de43d4a-9391-40da-c6fe-5929f0eae20a",
        "scrolled": true
      },
      "outputs": [
        {
          "output_type": "stream",
          "name": "stdout",
          "text": [
            "Int64Index([12276,  4319,  4210, 20735, 49290, 39716, 45480,  6587, 17792,\n",
            "            42351,\n",
            "            ...\n",
            "            42187, 36288, 22917,   710, 11540, 17731, 25976, 36837, 35597,\n",
            "            23156],\n",
            "           dtype='int64', length=15000)\n",
            "Int64Index([37705, 15809, 25154, 10620,  6067, 11681, 46162, 44805,  4023,\n",
            "            18822,\n",
            "            ...\n",
            "            14298, 49558, 37247, 48609, 42453,  4235,  2155, 26268, 42437,\n",
            "            21006],\n",
            "           dtype='int64', length=19950)\n",
            "Int64Index([  861, 15012, 42736, 20335, 47365, 43667, 29783,  7072, 14691,\n",
            "            44643,\n",
            "            ...\n",
            "            44013, 26105, 39106,   796, 22364, 33486,  9510, 24406, 45997,\n",
            "            18961],\n",
            "           dtype='int64', length=15050)\n"
          ]
        }
      ],
      "source": [
        "#seeing the index locations for the variables\n",
        "\n",
        "print(X_train.index)\n",
        "print(X_test.index)\n",
        "print(X_val.index)"
      ],
      "id": "c16cb1a2"
    },
    {
      "cell_type": "code",
      "execution_count": null,
      "metadata": {
        "id": "6e6f1bc5"
      },
      "outputs": [],
      "source": [
        "#resetting the index locations\n",
        "\n",
        "X_train = X_train.reset_index(drop=True)\n",
        "X_test = X_test.reset_index(drop=True)\n",
        "X_val = X_val.reset_index(drop=True)"
      ],
      "id": "6e6f1bc5"
    },
    {
      "cell_type": "code",
      "execution_count": null,
      "metadata": {
        "colab": {
          "base_uri": "https://localhost:8080/"
        },
        "id": "cb865597",
        "outputId": "f976e0d6-8904-4424-bb54-130a05073373"
      },
      "outputs": [
        {
          "output_type": "stream",
          "name": "stdout",
          "text": [
            "RangeIndex(start=0, stop=15000, step=1)\n",
            "RangeIndex(start=0, stop=19950, step=1)\n",
            "RangeIndex(start=0, stop=15050, step=1)\n"
          ]
        }
      ],
      "source": [
        "# Verifying the updated index values\n",
        "\n",
        "print(X_train.index)\n",
        "print(X_test.index)\n",
        "print(X_val.index)"
      ],
      "id": "cb865597"
    },
    {
      "cell_type": "code",
      "execution_count": null,
      "metadata": {
        "colab": {
          "base_uri": "https://localhost:8080/"
        },
        "id": "6d46f9da",
        "outputId": "0ddd3ce2-3725-4543-d140-32b4225bd0b5"
      },
      "outputs": [
        {
          "output_type": "stream",
          "name": "stdout",
          "text": [
            "The 4th Pokemon movie made me cry when Celebi died. Don't you dare say that Pokemon sucks! I don't like it when people say that.... I've liked Pokemon for 5 or 6 years, so everyone should enjoy Pokemon, including this movie and other Pokemon movies. So, without further ado, please say that Pokemon is great and should be enjoyed by people for all ages. And also, why do Pokemon-haters give low ratings for all or most of the Pokemon movies? I don't understand.... They shouldn't do that.... There's absolutely no reason why people should just vote without proving that Pokemon sucks besides the fact that: 1) Pokemon is for little kids ONLY. 2) Pokemon is stupid. and 3) People shouldn't like Pokemon. I think this is why people don't like Pokemon.\n",
            "The gimmick, as it were, of this 1934 Paramount comedy is the six comedy performers, paired off into three man-and-woman teams, who all appear together. W. C. Fields and his frequent screen partner Alsion Skipworth appear in the second half of the film and shine in their roles as a small-town sheriff and innkeeper. Fields seems to have been given the latitude to inject plenty of his own one-of-a-kind brand of misanthropic, surreal comedy into his part, and it works wonderfully, especially where he is allowed to do his famous pool table routine, a digression that is totally welcome since it is hilarious.<br /><br />At first thought it might have seemed like a mismatch to conceive of a film to be carried by the subtle domestic comedy of Charlie Ruggles and Mary Boland next to the broad, jokey Vaudeville patter of the great husband-and-wife comedy team of George Burns and Gracie Allen, but here it works perfectly because of the parts George and Gracie are given in the script. They are there are freeloaders hitching a ride to California on Ruggles' and Boland's honeymoon trip and consistently find ways to annoy them at every step, including, brilliantly, while they are each holding on to the side of a cliff for dear life.<br /><br />Making Burns and Allen comic annoyances to two sympathetic characters turns out to be a perfect way to fit their far-out, larger-than-life comedy characters into a real world setting -- the comedy of people reacting to them in a believable way turns out to be as much as a gold-mine as Gracie's famous naive delivery itself.<br /><br />Charlie Ruggles deserves special mention for his performance as the fussy banker \"Pinky\" Whinney. He's marvelously subtle and underplayed, and draws laughs from lines that in another actor's hands might not even have been heard.<br /><br />The script is wonderfully witty all through, and most of the way it's a perfectly extended comedy of frustration in which our sympathies are with the poor Whinneys who can't get a moment alone, and the extra bonus is that what frustrates them is just more first-rate comedy material from Burns and Allen. <br /><br />For the pre-code watchers out there, there is some rather suggestive material in some of the most amusing scenes, as Whinney tries to get across to George just WHY he and his wife want to be alone for a while.<br /><br />There are a few signs of a rushed production here -- the occasional jump cut, one of the most obvious drop sets you will ever see in a movie (right up there with W. C. Field's own short \"The Golf Specialist\"), and the knot in Field's tie is constantly changing in shape. These don't bother me, though, and they shouldn't bother anybody who is enjoying the film.<br /><br />\"Six of a Kind\" is a real little-known gem and one of the funniest movies I've seen in a while. If you're thinking about whether to watch it, the answer should be yes.\n",
            "It isn't TOO bad, but ultimately it lacks the quality that the Australian series has.<br /><br />The jokes are few and far between, the actors are attractive (they shouldn't be), the film makers think far too much about the cinematography (it's supposed to look like a home video) and it's just like a serious version of Kath and Kim... it's stupid.<br /><br />It's too normal to be Kath and Kim. Kath and Kim are supposed to be two curvy, middle-aged women who think they are hot and wear ridiculous clothes. There are no \"Look at me Kimmy!\" jokes. The fat friend of Kim is not fat at all and she's not even slightly stupid. She's a stereotypical black/Latino chick.<br /><br />It's just not as stupid or funny as the Australian series. It doesn't compare. Nothing is the same. I admit, this show is pretty funny at times, but it is NOT anything like the Aussie series. I was looking forward to an American take on a bogan family. They failed. It's supposed to be REALLY stupid and hilarious, but the actors don't act stupid! To me, this is just a typical American TV show. It's a let down if you want it to be anything like the Aussie show.<br /><br />2 Stars because it is an OKAY show, just nothing like what it should be.\n"
          ]
        }
      ],
      "source": [
        "#Printing the data brfore pre processing\n",
        "\n",
        "print(X_train[0])\n",
        "print(X_test[0])\n",
        "print(X_val[0])"
      ],
      "id": "6d46f9da"
    },
    {
      "cell_type": "code",
      "execution_count": null,
      "metadata": {
        "colab": {
          "base_uri": "https://localhost:8080/"
        },
        "id": "a6ed3979",
        "outputId": "beb005b1-b30c-4994-d236-ffeefbda8f63"
      },
      "outputs": [
        {
          "output_type": "stream",
          "name": "stdout",
          "text": [
            "Int64Index([12276,  4319,  4210, 20735, 49290, 39716, 45480,  6587, 17792,\n",
            "            42351,\n",
            "            ...\n",
            "            42187, 36288, 22917,   710, 11540, 17731, 25976, 36837, 35597,\n",
            "            23156],\n",
            "           dtype='int64', length=15000)\n",
            "Int64Index([37705, 15809, 25154, 10620,  6067, 11681, 46162, 44805,  4023,\n",
            "            18822,\n",
            "            ...\n",
            "            14298, 49558, 37247, 48609, 42453,  4235,  2155, 26268, 42437,\n",
            "            21006],\n",
            "           dtype='int64', length=19950)\n",
            "Int64Index([  861, 15012, 42736, 20335, 47365, 43667, 29783,  7072, 14691,\n",
            "            44643,\n",
            "            ...\n",
            "            44013, 26105, 39106,   796, 22364, 33486,  9510, 24406, 45997,\n",
            "            18961],\n",
            "           dtype='int64', length=15050)\n"
          ]
        }
      ],
      "source": [
        "#seeing the index locations for the variables\n",
        "\n",
        "print(y_train.index)\n",
        "print(y_test.index)\n",
        "print(y_val.index)"
      ],
      "id": "a6ed3979"
    },
    {
      "cell_type": "code",
      "execution_count": null,
      "metadata": {
        "id": "aa429b55"
      },
      "outputs": [],
      "source": [
        "#resetting the index locations\n",
        "\n",
        "y_train = y_train.reset_index(drop=True)\n",
        "y_test = y_test.reset_index(drop=True)\n",
        "y_val = y_val.reset_index(drop=True)"
      ],
      "id": "aa429b55"
    },
    {
      "cell_type": "code",
      "execution_count": null,
      "metadata": {
        "colab": {
          "base_uri": "https://localhost:8080/"
        },
        "id": "266952ff",
        "outputId": "6c22fce1-6e1c-4bdd-bad9-9f1a93f963b0"
      },
      "outputs": [
        {
          "output_type": "stream",
          "name": "stdout",
          "text": [
            "RangeIndex(start=0, stop=15000, step=1)\n",
            "RangeIndex(start=0, stop=19950, step=1)\n",
            "RangeIndex(start=0, stop=15050, step=1)\n"
          ]
        }
      ],
      "source": [
        "print(y_train.index)\n",
        "print(y_test.index)\n",
        "print(y_val.index)"
      ],
      "id": "266952ff"
    },
    {
      "cell_type": "code",
      "execution_count": null,
      "metadata": {
        "colab": {
          "base_uri": "https://localhost:8080/"
        },
        "id": "35190789",
        "outputId": "15545bd5-3684-4411-8013-03adc41cd2e0"
      },
      "outputs": [
        {
          "output_type": "stream",
          "name": "stdout",
          "text": [
            "positive\n",
            "positive\n",
            "negative\n"
          ]
        }
      ],
      "source": [
        "print(y_train[0])\n",
        "print(y_test[0])\n",
        "print(y_val[0])"
      ],
      "id": "35190789"
    },
    {
      "cell_type": "code",
      "execution_count": null,
      "metadata": {
        "id": "WfzB5KuXRWf-"
      },
      "outputs": [],
      "source": [
        "def preprocess_text(text):\n",
        "    # Removing HTML tags\n",
        "    text = re.sub('<.*?>', '', text)\n",
        "\n",
        "    # Removing accented characters by normalizing to ASCII\n",
        "    text = unicodedata.normalize('NFKD', text).encode('ascii', 'ignore').decode('utf-8', 'ignore')\n",
        "\n",
        "    # Replacing patterns like n't, nt, and n t with not\n",
        "    text = re.sub(r\"\\b(n['’]?t|n\\s?t)\\b\", ' not', text)\n",
        "\n",
        "    # Removing special characters\n",
        "    text = re.sub(\"[^a-zA-Z0-9,'!]\", ' ', text)\n",
        "\n",
        "    # Converting text to lowercase\n",
        "    text = text.lower()\n",
        "\n",
        "    # Separating text into sentences based on punctuations and then removing punctuations\n",
        "    sentences = re.split(r'[.!?]', text)\n",
        "    sentences = [re.sub('[,]', '', sentence) for sentence in sentences]\n",
        "\n",
        "    # Removing extra spaces\n",
        "    text = ' '.join(' '.join(sentence.split()) for sentence in sentences)\n",
        "\n",
        "    return text"
      ],
      "id": "WfzB5KuXRWf-"
    },
    {
      "cell_type": "code",
      "execution_count": null,
      "metadata": {
        "id": "dc48330c"
      },
      "outputs": [],
      "source": [
        "# Preprocessing the data\n",
        "\n",
        "X_train_preprocessed = [preprocess_text(text) for text in X_train]\n",
        "\n",
        "X_test_preprocessed = [preprocess_text(text) for text in X_test]\n",
        "\n",
        "X_val_preprocessed = [preprocess_text(text) for text in X_val]\n"
      ],
      "id": "dc48330c"
    },
    {
      "cell_type": "code",
      "execution_count": null,
      "metadata": {
        "id": "b5A_WZqOoQlR"
      },
      "outputs": [],
      "source": [
        "# Preprocessing the data\n",
        "\n",
        "y_train_preprocessed = [preprocess_text(text) for text in y_train]\n",
        "\n",
        "y_test_preprocessed = [preprocess_text(text) for text in y_test]\n",
        "\n",
        "y_val_preprocessed = [preprocess_text(text) for text in y_val]\n"
      ],
      "id": "b5A_WZqOoQlR"
    },
    {
      "cell_type": "code",
      "execution_count": null,
      "metadata": {
        "colab": {
          "base_uri": "https://localhost:8080/"
        },
        "id": "244e45ff",
        "outputId": "dd9158d7-de60-4548-a798-e0a85dff31e0",
        "scrolled": true
      },
      "outputs": [
        {
          "output_type": "stream",
          "name": "stdout",
          "text": [
            "the 4th pokemon movie made me cry when celebi died don't you dare say that pokemon sucks i don't like it when people say that i've liked pokemon for 5 or 6 years so everyone should enjoy pokemon including this movie and other pokemon movies so without further ado please say that pokemon is great and should be enjoyed by people for all ages and also why do pokemon haters give low ratings for all or most of the pokemon movies i don't understand they shouldn't do that there's absolutely no reason why people should just vote without proving that pokemon sucks besides the fact that 1 pokemon is for little kids only 2 pokemon is stupid and 3 people shouldn't like pokemon i think this is why people don't like pokemon\n",
            "the gimmick as it were of this 1934 paramount comedy is the six comedy performers paired off into three man and woman teams who all appear together w c fields and his frequent screen partner alsion skipworth appear in the second half of the film and shine in their roles as a small town sheriff and innkeeper fields seems to have been given the latitude to inject plenty of his own one of a kind brand of misanthropic surreal comedy into his part and it works wonderfully especially where he is allowed to do his famous pool table routine a digression that is totally welcome since it is hilarious at first thought it might have seemed like a mismatch to conceive of a film to be carried by the subtle domestic comedy of charlie ruggles and mary boland next to the broad jokey vaudeville patter of the great husband and wife comedy team of george burns and gracie allen but here it works perfectly because of the parts george and gracie are given in the script they are there are freeloaders hitching a ride to california on ruggles' and boland's honeymoon trip and consistently find ways to annoy them at every step including brilliantly while they are each holding on to the side of a cliff for dear life making burns and allen comic annoyances to two sympathetic characters turns out to be a perfect way to fit their far out larger than life comedy characters into a real world setting the comedy of people reacting to them in a believable way turns out to be as much as a gold mine as gracie's famous naive delivery itself charlie ruggles deserves special mention for his performance as the fussy banker pinky whinney he's marvelously subtle and underplayed and draws laughs from lines that in another actor's hands might not even have been heard the script is wonderfully witty all through and most of the way it's a perfectly extended comedy of frustration in which our sympathies are with the poor whinneys who can't get a moment alone and the extra bonus is that what frustrates them is just more first rate comedy material from burns and allen for the pre code watchers out there there is some rather suggestive material in some of the most amusing scenes as whinney tries to get across to george just why he and his wife want to be alone for a while there are a few signs of a rushed production here the occasional jump cut one of the most obvious drop sets you will ever see in a movie right up there with w c field's own short the golf specialist and the knot in field's tie is constantly changing in shape these don't bother me though and they shouldn't bother anybody who is enjoying the film six of a kind is a real little known gem and one of the funniest movies i've seen in a while if you're thinking about whether to watch it the answer should be yes\n",
            "it isn't too bad but ultimately it lacks the quality that the australian series has the jokes are few and far between the actors are attractive they shouldn't be the film makers think far too much about the cinematography it's supposed to look like a home video and it's just like a serious version of kath and kim it's stupid it's too normal to be kath and kim kath and kim are supposed to be two curvy middle aged women who think they are hot and wear ridiculous clothes there are no look at me kimmy jokes the fat friend of kim is not fat at all and she's not even slightly stupid she's a stereotypical black latino chick it's just not as stupid or funny as the australian series it doesn't compare nothing is the same i admit this show is pretty funny at times but it is not anything like the aussie series i was looking forward to an american take on a bogan family they failed it's supposed to be really stupid and hilarious but the actors don't act stupid to me this is just a typical american tv show it's a let down if you want it to be anything like the aussie show 2 stars because it is an okay show just nothing like what it should be\n"
          ]
        }
      ],
      "source": [
        "#Printing pre processed data\n",
        "\n",
        "print(X_train_preprocessed[0])\n",
        "print(X_test_preprocessed[0])\n",
        "print(X_val_preprocessed[0])"
      ],
      "id": "244e45ff"
    },
    {
      "cell_type": "markdown",
      "metadata": {
        "id": "g8cgsBICNtdQ"
      },
      "source": [
        "Tokenizing and creating datasets for train, validation and test sets so they can be used through out different types of training sessions and evaluation of diferent models"
      ],
      "id": "g8cgsBICNtdQ"
    },
    {
      "cell_type": "code",
      "execution_count": null,
      "metadata": {
        "colab": {
          "base_uri": "https://localhost:8080/",
          "height": 197,
          "referenced_widgets": [
            "146bf73c1c8b492f9607369945050540",
            "1c84c79ab53e45259b96254946326e8c",
            "f178cf6be54e486fbe3ab654c8247808",
            "5ae4c9d000bb414ca87eb9b0fd110523",
            "c4ccaa809c68489c88f60dbb9f5f2bbe",
            "e45e208c5d8b4375b9e6a3de14e5fe33",
            "ee4380d95e424efb830b4e334d5c0608",
            "d14a71903590461da1e2453dc77edbe7",
            "a56c1b7dce7e455fbc42a519db055228",
            "cc8904bc1ae4435b99ddfc57a13867d4",
            "56c9a82333e74532abfe10d1d9330acc",
            "b9ac6666aa6042259877ddc7ca062af3",
            "1f52f2940c7a42bc92732951e29d1522",
            "a590ac3ccac642adab3754e39f3bdbea",
            "928978b813814efcbd0d70377160fd42",
            "30480c41987040b7a211129b69aef142",
            "f966e7147fc34026aec607b6d84db27d",
            "2ba998622aa7444b8b06938969409891",
            "8c603a4db4964d0bbfa3fb23d96d2609",
            "cb9da4e0313342e9b17298e281030106",
            "99f8e0ebf846464b88509d4b13d3095e",
            "253b8efbcc76499bae4afb2893f4d177",
            "1cabb17617a74dc2b448fae99e2d0c3f",
            "199d8dcff3fe42d9b821ba291be6776a",
            "239f765d942a43078e92d94eb5e0f026",
            "b76fc845504249b6a06a1f88a542ca32",
            "f9fa3d051ec84ffeb9305d7307780125",
            "2e2f37e40d4248a286d66a648ec8b921",
            "d7350bbeb54d4ff4ad6ba049b48f48af",
            "56316cb4e61c46998d0b9d750aec073d",
            "5e45b3ddfe694423a4b276f5de7cf6e5",
            "5804cd9fdf0e463ca1bc49f19bf7f9e9",
            "448f0e42069044709111d44b2c83f614"
          ]
        },
        "id": "1e9c29f9",
        "outputId": "010a1d94-e8ae-4387-c427-cf12c035bc6a",
        "scrolled": false
      },
      "outputs": [
        {
          "output_type": "display_data",
          "data": {
            "text/plain": [
              "Downloading (…)solve/main/vocab.txt:   0%|          | 0.00/232k [00:00<?, ?B/s]"
            ],
            "application/vnd.jupyter.widget-view+json": {
              "version_major": 2,
              "version_minor": 0,
              "model_id": "146bf73c1c8b492f9607369945050540"
            }
          },
          "metadata": {}
        },
        {
          "output_type": "display_data",
          "data": {
            "text/plain": [
              "Downloading (…)okenizer_config.json:   0%|          | 0.00/28.0 [00:00<?, ?B/s]"
            ],
            "application/vnd.jupyter.widget-view+json": {
              "version_major": 2,
              "version_minor": 0,
              "model_id": "b9ac6666aa6042259877ddc7ca062af3"
            }
          },
          "metadata": {}
        },
        {
          "output_type": "display_data",
          "data": {
            "text/plain": [
              "Downloading (…)lve/main/config.json:   0%|          | 0.00/570 [00:00<?, ?B/s]"
            ],
            "application/vnd.jupyter.widget-view+json": {
              "version_major": 2,
              "version_minor": 0,
              "model_id": "1cabb17617a74dc2b448fae99e2d0c3f"
            }
          },
          "metadata": {}
        }
      ],
      "source": [
        "tokenizer = BertTokenizer.from_pretrained('bert-base-uncased')"
      ],
      "id": "1e9c29f9"
    },
    {
      "cell_type": "code",
      "execution_count": null,
      "metadata": {
        "id": "7H9Kbj8altls"
      },
      "outputs": [],
      "source": [
        "# Tokenizing and encoding the train data\n",
        "X_train_encoded = tokenizer.batch_encode_plus(\n",
        "    X_train_preprocessed,\n",
        "    padding=True,\n",
        "    truncation=True,\n",
        "    max_length=512,\n",
        "    return_tensors='pt'\n",
        ")\n",
        "# Tokenizing and encoding the validation data\n",
        "X_val_encoded = tokenizer.batch_encode_plus(\n",
        "    X_val_preprocessed,\n",
        "    padding=True,\n",
        "    truncation=True,\n",
        "    max_length=512,\n",
        "    return_tensors='pt'\n",
        ")"
      ],
      "id": "7H9Kbj8altls"
    },
    {
      "cell_type": "code",
      "execution_count": null,
      "metadata": {
        "id": "2UHfvfiFlycP"
      },
      "outputs": [],
      "source": [
        "label_map = {\"positive\": 1, \"negative\": 0}\n",
        "\n",
        "# Extracting input tensors from the encoded data\n",
        "input_ids_train = X_train_encoded['input_ids']\n",
        "attention_masks_train = X_train_encoded['attention_mask']\n",
        "labels_train = torch.tensor([label_map[label] for label in y_train_preprocessed])\n",
        "\n",
        "input_ids_val = X_val_encoded['input_ids']\n",
        "attention_masks_val = X_val_encoded['attention_mask']\n",
        "labels_val = torch.tensor([label_map[label] for label in y_val_preprocessed])\n",
        "\n",
        "# Creating datasets\n",
        "train_dataset = TensorDataset(input_ids_train, attention_masks_train, labels_train)\n",
        "val_dataset = TensorDataset(input_ids_val, attention_masks_val, labels_val)"
      ],
      "id": "2UHfvfiFlycP"
    },
    {
      "cell_type": "code",
      "execution_count": null,
      "metadata": {
        "id": "W9ilC5yKNfx2"
      },
      "outputs": [],
      "source": [
        "\n",
        "# Tokenizing and encoding the test data\n",
        "X_test_encoded = tokenizer.batch_encode_plus(\n",
        "    X_test_preprocessed,\n",
        "    padding=True,\n",
        "    truncation=True,\n",
        "    max_length=512,\n",
        "    return_tensors='pt'\n",
        ")"
      ],
      "id": "W9ilC5yKNfx2"
    },
    {
      "cell_type": "code",
      "execution_count": null,
      "metadata": {
        "id": "2NqSgZcGNfx2"
      },
      "outputs": [],
      "source": [
        "# Extracting input tensors and attention masks from the encoded data\n",
        "label_map = {\"positive\": 1, \"negative\": 0}\n",
        "\n",
        "input_ids_test = X_test_encoded['input_ids']\n",
        "attention_masks_test = X_test_encoded['attention_mask']\n",
        "labels_test = torch.tensor([label_map[label] for label in y_test_preprocessed])\n",
        "\n",
        "# Creating datasets\n",
        "test_dataset = TensorDataset(input_ids_test, attention_masks_test, labels_test)"
      ],
      "id": "2NqSgZcGNfx2"
    },
    {
      "cell_type": "code",
      "execution_count": null,
      "metadata": {
        "id": "32035a33",
        "scrolled": true
      },
      "outputs": [],
      "source": [
        "# Setting the device (CPU or GPU)\n",
        "device = torch.device('cuda' if torch.cuda.is_available() else 'cpu')"
      ],
      "id": "32035a33"
    },
    {
      "cell_type": "markdown",
      "metadata": {
        "id": "OL__KiCqBavl"
      },
      "source": [
        "# 1. Adam with 1e-6 Learning Rate"
      ],
      "id": "OL__KiCqBavl"
    },
    {
      "cell_type": "code",
      "execution_count": null,
      "metadata": {
        "colab": {
          "base_uri": "https://localhost:8080/",
          "height": 218,
          "referenced_widgets": [
            "471b2d32dbf34528880a81d799fd8622",
            "2fd789d2775a4e1f8d7e518360af6fa6",
            "a82507427360470bbdd7cb02e9720cce",
            "3e3a8a54647845378982df043c63f47a",
            "087a5b5bc7fc4d189ca1b4cf358a725e",
            "a8fccfcf344a4af78dad58d4bedd5e06",
            "0a04f50c670c4d72bff62e3b01366b5e",
            "fd7870ec61f84edbafab6491689db851",
            "f009b101d0d148149d3680030ee1dd96",
            "328d13d311f247ed90d7bd98d9373626",
            "b749a35027d342819ac0f903ba27f198"
          ]
        },
        "id": "M1sJZs6wB1bE",
        "outputId": "60a01d9f-5674-4e0f-d53e-7bd64b562159"
      },
      "outputs": [
        {
          "data": {
            "application/vnd.jupyter.widget-view+json": {
              "model_id": "471b2d32dbf34528880a81d799fd8622",
              "version_major": 2,
              "version_minor": 0
            },
            "text/plain": [
              "Downloading model.safetensors:   0%|          | 0.00/440M [00:00<?, ?B/s]"
            ]
          },
          "metadata": {},
          "output_type": "display_data"
        },
        {
          "name": "stderr",
          "output_type": "stream",
          "text": [
            "Some weights of BertForSequenceClassification were not initialized from the model checkpoint at bert-base-uncased and are newly initialized: ['classifier.weight', 'classifier.bias']\n",
            "You should probably TRAIN this model on a down-stream task to be able to use it for predictions and inference.\n"
          ]
        },
        {
          "name": "stdout",
          "output_type": "stream",
          "text": [
            "Epoch 1/5, Loss: 0.530764795366923, Validation Accuracy: 0.8853156146179402\n",
            "Epoch 2/5, Loss: 0.29546839621861776, Validation Accuracy: 0.9031893687707642\n",
            "Epoch 3/5, Loss: 0.24287533883253734, Validation Accuracy: 0.9111627906976745\n",
            "Epoch 4/5, Loss: 0.21725701755682628, Validation Accuracy: 0.9158803986710964\n",
            "Epoch 5/5, Loss: 0.19801512318054834, Validation Accuracy: 0.9190697674418604\n"
          ]
        }
      ],
      "source": [
        "model = BertForSequenceClassification.from_pretrained('bert-base-uncased', num_labels=2).to(device)\n",
        "\n",
        "# declaring Hyperparameters\n",
        "batch_size = 32\n",
        "early_stopping_patience = 3\n",
        "epochs_without_improvement = 0\n",
        "num_cpu = 12\n",
        "num_epochs = 5\n",
        "best_accuracy = 0.0\n",
        "train_losses = []\n",
        "val_accuracies = []\n",
        "train_losses.clear()\n",
        "val_accuracies.clear()\n",
        "\n",
        "# optimizer\n",
        "optimizer = optim.Adam(model.parameters(), lr=1e-6)\n",
        "\n",
        "# Creating data loaders\n",
        "train_dataloader = DataLoader(train_dataset, batch_size=batch_size, num_workers=num_cpu, pin_memory=True, shuffle=True)\n",
        "val_dataloader = DataLoader(val_dataset, batch_size=batch_size, num_workers=num_cpu, pin_memory=True, shuffle=False)\n",
        "\n",
        "for epoch in range(num_epochs):\n",
        "    running_loss = 0.0\n",
        "\n",
        "    # Training\n",
        "    model.train()\n",
        "    for inputs, attention_masks, labels in train_dataloader:\n",
        "        inputs = inputs.to(device)\n",
        "        attention_masks = attention_masks.to(device)\n",
        "        labels = labels.to(device)\n",
        "\n",
        "        optimizer.zero_grad()\n",
        "        outputs = model(inputs, attention_mask=attention_masks,labels = labels)\n",
        "\n",
        "        loss = outputs.loss\n",
        "\n",
        "        loss.backward()\n",
        "\n",
        "        optimizer.step()\n",
        "\n",
        "        running_loss += loss.item() * inputs.size(0)\n",
        "\n",
        "\n",
        "    # Calculate average loss for the epoch\n",
        "    epoch_loss = running_loss / len(train_dataset)\n",
        "    train_losses.append(epoch_loss)\n",
        "\n",
        "\n",
        "   # Validation\n",
        "    model.eval()  # Setting model to evaluation mode\n",
        "    correct_predictions = 0\n",
        "    total_predictions = 0\n",
        "\n",
        "    with torch.no_grad():\n",
        "        for inputs, attention_masks, labels in val_dataloader:\n",
        "            inputs = inputs.to(device)\n",
        "            attention_masks = attention_masks.to(device)\n",
        "            labels = labels.to(device)\n",
        "\n",
        "            # Get model's predictions\n",
        "            outputs = model(inputs, attention_mask=attention_masks)\n",
        "            predicted_labels = torch.argmax(outputs.logits, dim=1)\n",
        "\n",
        "            correct_predictions += (predicted_labels == labels).sum().item()\n",
        "            total_predictions += labels.size(0)\n",
        "\n",
        "    accuracy = correct_predictions / total_predictions\n",
        "    val_accuracies.append(accuracy)\n",
        "\n",
        "\n",
        "    if accuracy > best_accuracy:\n",
        "        best_accuracy = accuracy\n",
        "        epochs_without_improvement = 0\n",
        "        best_model_state = model.state_dict()\n",
        "    else:\n",
        "        epochs_without_improvement += 1\n",
        "        if epochs_without_improvement >= early_stopping_patience:\n",
        "            print(\"Early stopping triggered.\")\n",
        "            break\n",
        "\n",
        "    # Printing the loss and accuracy for each epoch\n",
        "    print(f\"Epoch {epoch+1}/{num_epochs}, Loss: {epoch_loss}, Validation Accuracy: {accuracy}\")\n",
        "\n",
        "# Saving the trained model\n",
        "BERT_Tuned_file = \"/content/drive/MyDrive/Colab Notebooks/BBA1.pt\"\n",
        "torch.save(best_model_state, BERT_Tuned_file)"
      ],
      "id": "M1sJZs6wB1bE"
    },
    {
      "cell_type": "code",
      "execution_count": null,
      "metadata": {
        "colab": {
          "base_uri": "https://localhost:8080/",
          "height": 329
        },
        "id": "KeepJ2JVB1bF",
        "outputId": "46cf7d7e-bab9-4891-f833-01ee5980ea1c"
      },
      "outputs": [
        {
          "data": {
            "image/png": "[encoded data removed]",
            "text/plain": [
              "<Figure size 1000x500 with 2 Axes>"
            ]
          },
          "metadata": {},
          "output_type": "display_data"
        }
      ],
      "source": [
        "# Plotting epoch loss and validation accuracy graphs\n",
        "num_epochs = len(train_losses)\n",
        "plt.figure(figsize=(10, 5))\n",
        "plt.subplot(1, 2, 1)\n",
        "plt.plot(range(1, num_epochs + 1), train_losses, label='Train Loss', color='red')\n",
        "plt.xlabel('Epoch')\n",
        "plt.ylabel('Loss')\n",
        "plt.title('Epoch Loss')\n",
        "plt.legend()\n",
        "\n",
        "plt.subplot(1, 2, 2)\n",
        "plt.plot(range(1, num_epochs + 1), val_accuracies, label='Validation Accuracy', color='green')\n",
        "plt.xlabel('Epoch')\n",
        "plt.ylabel('Accuracy')\n",
        "plt.title('Validation Accuracy')\n",
        "plt.legend()\n",
        "\n",
        "save_path = \"/content/drive/MyDrive/Colab Notebooks/BBA1_plot.png\"\n",
        "plt.savefig(save_path)\n",
        "\n",
        "plt.tight_layout()\n",
        "plt.show()"
      ],
      "id": "KeepJ2JVB1bF"
    },
    {
      "cell_type": "code",
      "execution_count": null,
      "metadata": {
        "colab": {
          "base_uri": "https://localhost:8080/"
        },
        "id": "dIwQyh8RB1bF",
        "outputId": "e996e83a-8ee3-4dc7-885e-1312d940245c"
      },
      "outputs": [
        {
          "data": {
            "text/plain": [
              "BertForSequenceClassification(\n",
              "  (bert): BertModel(\n",
              "    (embeddings): BertEmbeddings(\n",
              "      (word_embeddings): Embedding(30522, 768, padding_idx=0)\n",
              "      (position_embeddings): Embedding(512, 768)\n",
              "      (token_type_embeddings): Embedding(2, 768)\n",
              "      (LayerNorm): LayerNorm((768,), eps=1e-12, elementwise_affine=True)\n",
              "      (dropout): Dropout(p=0.1, inplace=False)\n",
              "    )\n",
              "    (encoder): BertEncoder(\n",
              "      (layer): ModuleList(\n",
              "        (0-11): 12 x BertLayer(\n",
              "          (attention): BertAttention(\n",
              "            (self): BertSelfAttention(\n",
              "              (query): Linear(in_features=768, out_features=768, bias=True)\n",
              "              (key): Linear(in_features=768, out_features=768, bias=True)\n",
              "              (value): Linear(in_features=768, out_features=768, bias=True)\n",
              "              (dropout): Dropout(p=0.1, inplace=False)\n",
              "            )\n",
              "            (output): BertSelfOutput(\n",
              "              (dense): Linear(in_features=768, out_features=768, bias=True)\n",
              "              (LayerNorm): LayerNorm((768,), eps=1e-12, elementwise_affine=True)\n",
              "              (dropout): Dropout(p=0.1, inplace=False)\n",
              "            )\n",
              "          )\n",
              "          (intermediate): BertIntermediate(\n",
              "            (dense): Linear(in_features=768, out_features=3072, bias=True)\n",
              "            (intermediate_act_fn): GELUActivation()\n",
              "          )\n",
              "          (output): BertOutput(\n",
              "            (dense): Linear(in_features=3072, out_features=768, bias=True)\n",
              "            (LayerNorm): LayerNorm((768,), eps=1e-12, elementwise_affine=True)\n",
              "            (dropout): Dropout(p=0.1, inplace=False)\n",
              "          )\n",
              "        )\n",
              "      )\n",
              "    )\n",
              "    (pooler): BertPooler(\n",
              "      (dense): Linear(in_features=768, out_features=768, bias=True)\n",
              "      (activation): Tanh()\n",
              "    )\n",
              "  )\n",
              "  (dropout): Dropout(p=0.1, inplace=False)\n",
              "  (classifier): Linear(in_features=768, out_features=2, bias=True)\n",
              ")"
            ]
          },
          "execution_count": 31,
          "metadata": {},
          "output_type": "execute_result"
        }
      ],
      "source": [
        "# Loading trained model\n",
        "BERT_Tuned_file = \"/content/drive/MyDrive/Colab Notebooks/BBA1.pt\"\n",
        "model.load_state_dict(torch.load(BERT_Tuned_file))\n",
        "model.eval()"
      ],
      "id": "dIwQyh8RB1bF"
    },
    {
      "cell_type": "code",
      "execution_count": null,
      "metadata": {
        "colab": {
          "background_save": true
        },
        "id": "7AiuuIiSB1bG",
        "outputId": "2abface6-18e9-42c5-92c0-540df30ba922"
      },
      "outputs": [
        {
          "name": "stdout",
          "output_type": "stream",
          "text": [
            "Accuracy: 91.45%\n",
            "Classification Report:\n",
            "               precision    recall  f1-score   support\n",
            "\n",
            "    negative       0.92      0.90      0.91     10012\n",
            "    positive       0.91      0.93      0.92      9938\n",
            "\n",
            "    accuracy                           0.91     19950\n",
            "   macro avg       0.91      0.91      0.91     19950\n",
            "weighted avg       0.91      0.91      0.91     19950\n",
            "\n",
            "Confusion Matrix:\n",
            " [[9051  961]\n",
            " [ 744 9194]]\n"
          ]
        }
      ],
      "source": [
        "model.to(device)\n",
        "\n",
        "# Creating dataloaders for test\n",
        "batch_size = 32\n",
        "num_cpu = 12\n",
        "\n",
        "test_dataloader = DataLoader(test_dataset, batch_size=batch_size, num_workers=num_cpu, pin_memory=True, shuffle=False)\n",
        "\n",
        "# Evaluating the model on the test set\n",
        "all_preds = []\n",
        "all_labels = []\n",
        "\n",
        "all_preds.clear()\n",
        "all_labels.clear()\n",
        "\n",
        "with torch.no_grad():\n",
        "        for inputs, attention_masks, labels in test_dataloader:\n",
        "            inputs = inputs.to(device)\n",
        "            attention_masks = attention_masks.to(device)\n",
        "            labels = labels.to(device)\n",
        "\n",
        "            outputs = model(inputs, attention_mask=attention_masks)\n",
        "            _, preds = torch.max(outputs.logits, dim=1)\n",
        "\n",
        "            all_preds.extend(preds.cpu().numpy())\n",
        "            all_labels.extend(labels.cpu().numpy())\n",
        "\n",
        "# Calculating evaluation metrics\n",
        "accuracy = accuracy_score(all_labels, all_preds) * 100\n",
        "\n",
        "class_names = [\"negative\", \"positive\"]\n",
        "class_report = classification_report(all_labels, all_preds, target_names=class_names)\n",
        "conf_matrix = confusion_matrix(all_labels, all_preds)\n",
        "\n",
        "print(f\"Accuracy: {accuracy:.2f}%\")\n",
        "print(\"Classification Report:\\n\", class_report)\n",
        "print(\"Confusion Matrix:\\n\", conf_matrix)"
      ],
      "id": "7AiuuIiSB1bG"
    },
    {
      "cell_type": "markdown",
      "metadata": {
        "id": "ekByAwlVhdyq"
      },
      "source": [
        "# 2 Adam with 2e-5 Learning Rate\n",
        "\n"
      ],
      "id": "ekByAwlVhdyq"
    },
    {
      "cell_type": "code",
      "execution_count": null,
      "metadata": {
        "colab": {
          "background_save": true
        },
        "id": "W5IBl9H2G4ei",
        "outputId": "17224516-69cb-4085-ce02-54eb1e13e837"
      },
      "outputs": [
        {
          "name": "stderr",
          "output_type": "stream",
          "text": [
            "Some weights of BertForSequenceClassification were not initialized from the model checkpoint at bert-base-uncased and are newly initialized: ['classifier.weight', 'classifier.bias']\n",
            "You should probably TRAIN this model on a down-stream task to be able to use it for predictions and inference.\n"
          ]
        },
        {
          "name": "stdout",
          "output_type": "stream",
          "text": [
            "Epoch 1/5, Loss: 0.265013098269701, Validation Accuracy: 0.9291029900332226\n",
            "Epoch 2/5, Loss: 0.13862406167586644, Validation Accuracy: 0.9267774086378737\n",
            "Epoch 3/5, Loss: 0.06870558039397001, Validation Accuracy: 0.9200664451827243\n",
            "Early stopping triggered.\n"
          ]
        }
      ],
      "source": [
        "model = BertForSequenceClassification.from_pretrained('bert-base-uncased', num_labels=2).to(device)\n",
        "\n",
        "# declaring Hyperparameters\n",
        "batch_size = 32\n",
        "early_stopping_patience = 3\n",
        "epochs_without_improvement = 0\n",
        "num_cpu = 12\n",
        "num_epochs = 5\n",
        "best_accuracy = 0.0\n",
        "train_losses = []\n",
        "val_accuracies = []\n",
        "train_losses.clear()\n",
        "val_accuracies.clear()\n",
        "\n",
        "# optimizer\n",
        "optimizer = optim.Adam(model.parameters(), lr=2e-5)\n",
        "\n",
        "# Creating data loaders\n",
        "train_dataloader = DataLoader(train_dataset, batch_size=batch_size, num_workers=num_cpu, pin_memory=True, shuffle=True)\n",
        "val_dataloader = DataLoader(val_dataset, batch_size=batch_size, num_workers=num_cpu, pin_memory=True, shuffle=False)\n",
        "\n",
        "for epoch in range(num_epochs):\n",
        "    running_loss = 0.0\n",
        "\n",
        "    # Training\n",
        "    model.train()\n",
        "    for inputs, attention_masks, labels in train_dataloader:\n",
        "        inputs = inputs.to(device)\n",
        "        attention_masks = attention_masks.to(device)\n",
        "        labels = labels.to(device)\n",
        "\n",
        "        optimizer.zero_grad()\n",
        "        outputs = model(inputs, attention_mask=attention_masks, labels = labels)\n",
        "\n",
        "        loss = outputs.loss\n",
        "\n",
        "        loss.backward()\n",
        "\n",
        "        optimizer.step()\n",
        "\n",
        "        running_loss += loss.item() * inputs.size(0)\n",
        "\n",
        "\n",
        "    # Calculate average loss for the epoch\n",
        "    epoch_loss = running_loss / len(train_dataset)\n",
        "    train_losses.append(epoch_loss)\n",
        "\n",
        "\n",
        "   # Validation\n",
        "    model.eval()  # Setting model to evaluation mode\n",
        "    correct_predictions = 0\n",
        "    total_predictions = 0\n",
        "\n",
        "    with torch.no_grad():\n",
        "        for inputs, attention_masks, labels in val_dataloader:\n",
        "            inputs = inputs.to(device)\n",
        "            attention_masks = attention_masks.to(device)\n",
        "            labels = labels.to(device)\n",
        "\n",
        "            # Get model's predictions\n",
        "            outputs = model(inputs, attention_mask=attention_masks)\n",
        "            predicted_labels = torch.argmax(outputs.logits, dim=1)\n",
        "\n",
        "            correct_predictions += (predicted_labels == labels).sum().item()\n",
        "            total_predictions += labels.size(0)\n",
        "\n",
        "    accuracy = correct_predictions / total_predictions\n",
        "    val_accuracies.append(accuracy)\n",
        "\n",
        "\n",
        "    if accuracy > best_accuracy:\n",
        "        best_accuracy = accuracy\n",
        "        epochs_without_improvement = 0\n",
        "        best_model_state = model.state_dict()\n",
        "    else:\n",
        "        epochs_without_improvement += 1\n",
        "        if epochs_without_improvement >= early_stopping_patience:\n",
        "            print(\"Early stopping triggered.\")\n",
        "            break\n",
        "\n",
        "    # Printing the loss and accuracy for each epoch\n",
        "    print(f\"Epoch {epoch+1}/{num_epochs}, Loss: {epoch_loss}, Validation Accuracy: {accuracy}\")\n",
        "\n",
        "# Saving the trained model\n",
        "BERT_Tuned_file = \"/content/drive/MyDrive/Colab Notebooks/BBA2.pt\"\n",
        "torch.save(best_model_state, BERT_Tuned_file)"
      ],
      "id": "W5IBl9H2G4ei"
    },
    {
      "cell_type": "code",
      "execution_count": null,
      "metadata": {
        "colab": {
          "background_save": true
        },
        "id": "Nd4yp5aJbosk",
        "outputId": "3a5e1bf1-e933-4fc3-9ea6-7770eb8bf97f"
      },
      "outputs": [
        {
          "data": {
            "image/png": "[encoded data removed]",
            "text/plain": [
              "<Figure size 1000x500 with 2 Axes>"
            ]
          },
          "metadata": {},
          "output_type": "display_data"
        }
      ],
      "source": [
        "# Plotting epoch loss and validation accuracy graphs\n",
        "num_epochs = len(train_losses)\n",
        "plt.figure(figsize=(10, 5))\n",
        "plt.subplot(1, 2, 1)\n",
        "plt.plot(range(1, num_epochs + 1), train_losses, label='Train Loss', color='red')\n",
        "plt.xlabel('Epoch')\n",
        "plt.ylabel('Loss')\n",
        "plt.title('Epoch Loss')\n",
        "plt.legend()\n",
        "\n",
        "plt.subplot(1, 2, 2)\n",
        "plt.plot(range(1, num_epochs + 1), val_accuracies, label='Validation Accuracy', color='green')\n",
        "plt.xlabel('Epoch')\n",
        "plt.ylabel('Accuracy')\n",
        "plt.title('Validation Accuracy')\n",
        "plt.legend()\n",
        "\n",
        "save_path = \"/content/drive/MyDrive/Colab Notebooks/BBA2_plot.png\"\n",
        "plt.savefig(save_path)\n",
        "\n",
        "plt.tight_layout()\n",
        "plt.show()"
      ],
      "id": "Nd4yp5aJbosk"
    },
    {
      "cell_type": "code",
      "execution_count": null,
      "metadata": {
        "colab": {
          "background_save": true
        },
        "id": "SIjvJPJHbosk",
        "outputId": "cc9b13ad-580b-4c7b-9234-0be808dc9d3d"
      },
      "outputs": [
        {
          "data": {
            "text/plain": [
              "BertForSequenceClassification(\n",
              "  (bert): BertModel(\n",
              "    (embeddings): BertEmbeddings(\n",
              "      (word_embeddings): Embedding(30522, 768, padding_idx=0)\n",
              "      (position_embeddings): Embedding(512, 768)\n",
              "      (token_type_embeddings): Embedding(2, 768)\n",
              "      (LayerNorm): LayerNorm((768,), eps=1e-12, elementwise_affine=True)\n",
              "      (dropout): Dropout(p=0.1, inplace=False)\n",
              "    )\n",
              "    (encoder): BertEncoder(\n",
              "      (layer): ModuleList(\n",
              "        (0-11): 12 x BertLayer(\n",
              "          (attention): BertAttention(\n",
              "            (self): BertSelfAttention(\n",
              "              (query): Linear(in_features=768, out_features=768, bias=True)\n",
              "              (key): Linear(in_features=768, out_features=768, bias=True)\n",
              "              (value): Linear(in_features=768, out_features=768, bias=True)\n",
              "              (dropout): Dropout(p=0.1, inplace=False)\n",
              "            )\n",
              "            (output): BertSelfOutput(\n",
              "              (dense): Linear(in_features=768, out_features=768, bias=True)\n",
              "              (LayerNorm): LayerNorm((768,), eps=1e-12, elementwise_affine=True)\n",
              "              (dropout): Dropout(p=0.1, inplace=False)\n",
              "            )\n",
              "          )\n",
              "          (intermediate): BertIntermediate(\n",
              "            (dense): Linear(in_features=768, out_features=3072, bias=True)\n",
              "            (intermediate_act_fn): GELUActivation()\n",
              "          )\n",
              "          (output): BertOutput(\n",
              "            (dense): Linear(in_features=3072, out_features=768, bias=True)\n",
              "            (LayerNorm): LayerNorm((768,), eps=1e-12, elementwise_affine=True)\n",
              "            (dropout): Dropout(p=0.1, inplace=False)\n",
              "          )\n",
              "        )\n",
              "      )\n",
              "    )\n",
              "    (pooler): BertPooler(\n",
              "      (dense): Linear(in_features=768, out_features=768, bias=True)\n",
              "      (activation): Tanh()\n",
              "    )\n",
              "  )\n",
              "  (dropout): Dropout(p=0.1, inplace=False)\n",
              "  (classifier): Linear(in_features=768, out_features=2, bias=True)\n",
              ")"
            ]
          },
          "execution_count": 35,
          "metadata": {},
          "output_type": "execute_result"
        }
      ],
      "source": [
        "# Loading trained model\n",
        "BERT_Tuned_file = \"/content/drive/MyDrive/Colab Notebooks/BBA2.pt\"\n",
        "model.load_state_dict(torch.load(BERT_Tuned_file))\n",
        "model.eval()"
      ],
      "id": "SIjvJPJHbosk"
    },
    {
      "cell_type": "code",
      "execution_count": null,
      "metadata": {
        "colab": {
          "background_save": true
        },
        "id": "LoctLc5Hbosl",
        "outputId": "4a2d075b-b65d-4976-a58c-31b3cf8b71da"
      },
      "outputs": [
        {
          "name": "stdout",
          "output_type": "stream",
          "text": [
            "Accuracy: 92.87%\n",
            "Classification Report:\n",
            "               precision    recall  f1-score   support\n",
            "\n",
            "    negative       0.93      0.93      0.93     10012\n",
            "    positive       0.93      0.93      0.93      9938\n",
            "\n",
            "    accuracy                           0.93     19950\n",
            "   macro avg       0.93      0.93      0.93     19950\n",
            "weighted avg       0.93      0.93      0.93     19950\n",
            "\n",
            "Confusion Matrix:\n",
            " [[9278  734]\n",
            " [ 689 9249]]\n"
          ]
        }
      ],
      "source": [
        "model.to(device)\n",
        "\n",
        "# Creating dataloaders for test\n",
        "batch_size = 32\n",
        "num_cpu = 12\n",
        "\n",
        "test_dataloader = DataLoader(test_dataset, batch_size=batch_size, num_workers=num_cpu, pin_memory=True, shuffle=False)\n",
        "\n",
        "# Evaluating the model on the test set\n",
        "all_preds = []\n",
        "all_labels = []\n",
        "\n",
        "all_preds.clear()\n",
        "all_labels.clear()\n",
        "\n",
        "with torch.no_grad():\n",
        "        for inputs, attention_masks, labels in test_dataloader:\n",
        "            inputs = inputs.to(device)\n",
        "            attention_masks = attention_masks.to(device)\n",
        "            labels = labels.to(device)\n",
        "\n",
        "            outputs = model(inputs, attention_mask=attention_masks)\n",
        "            _, preds = torch.max(outputs.logits, dim=1)\n",
        "\n",
        "            all_preds.extend(preds.cpu().numpy())\n",
        "            all_labels.extend(labels.cpu().numpy())\n",
        "\n",
        "# Calculating evaluation metrics\n",
        "accuracy = accuracy_score(all_labels, all_preds) * 100\n",
        "\n",
        "class_names = [\"negative\", \"positive\"]\n",
        "class_report = classification_report(all_labels, all_preds, target_names=class_names)\n",
        "conf_matrix = confusion_matrix(all_labels, all_preds)\n",
        "\n",
        "print(f\"Accuracy: {accuracy:.2f}%\")\n",
        "print(\"Classification Report:\\n\", class_report)\n",
        "print(\"Confusion Matrix:\\n\", conf_matrix)"
      ],
      "id": "LoctLc5Hbosl"
    },
    {
      "cell_type": "markdown",
      "metadata": {
        "id": "JSoT7mNonmFq"
      },
      "source": [
        "# 3 Adam with 3e-5 Learning Rate\n",
        "\n",
        "\n"
      ],
      "id": "JSoT7mNonmFq"
    },
    {
      "cell_type": "code",
      "execution_count": null,
      "metadata": {
        "colab": {
          "base_uri": "https://localhost:8080/"
        },
        "id": "dstsuuhXnmFw",
        "outputId": "c862d1d2-31b4-4683-c334-55c5339ac296"
      },
      "outputs": [
        {
          "name": "stderr",
          "output_type": "stream",
          "text": [
            "Some weights of BertForSequenceClassification were not initialized from the model checkpoint at bert-base-uncased and are newly initialized: ['classifier.bias', 'classifier.weight']\n",
            "You should probably TRAIN this model on a down-stream task to be able to use it for predictions and inference.\n"
          ]
        },
        {
          "name": "stdout",
          "output_type": "stream",
          "text": [
            "Epoch 1/5, Loss: 0.26288460963169735, Validation Accuracy: 0.920265780730897\n",
            "Epoch 2/5, Loss: 0.12703045876026153, Validation Accuracy: 0.9285049833887044\n",
            "Epoch 3/5, Loss: 0.05637412293305, Validation Accuracy: 0.9286378737541529\n",
            "Epoch 4/5, Loss: 0.040865068092445535, Validation Accuracy: 0.9237873754152824\n",
            "Epoch 5/5, Loss: 0.030438949005119502, Validation Accuracy: 0.9096345514950166\n"
          ]
        }
      ],
      "source": [
        "model = BertForSequenceClassification.from_pretrained('bert-base-uncased', num_labels=2).to(device)\n",
        "\n",
        "# declaring Hyperparameters\n",
        "batch_size = 32\n",
        "early_stopping_patience = 3\n",
        "epochs_without_improvement = 0\n",
        "num_cpu = 12\n",
        "num_epochs = 5\n",
        "best_accuracy = 0.0\n",
        "train_losses = []\n",
        "val_accuracies = []\n",
        "train_losses.clear()\n",
        "val_accuracies.clear()\n",
        "\n",
        "# optimizer\n",
        "optimizer = optim.Adam(model.parameters(), lr=3e-5)\n",
        "\n",
        "# Creating data loaders\n",
        "train_dataloader = DataLoader(train_dataset, batch_size=batch_size, num_workers=num_cpu, pin_memory=True, shuffle=True)\n",
        "val_dataloader = DataLoader(val_dataset, batch_size=batch_size, num_workers=num_cpu, pin_memory=True, shuffle=False)\n",
        "\n",
        "for epoch in range(num_epochs):\n",
        "    running_loss = 0.0\n",
        "\n",
        "    # Training\n",
        "    model.train()\n",
        "    for inputs, attention_masks, labels in train_dataloader:\n",
        "        inputs = inputs.to(device)\n",
        "        attention_masks = attention_masks.to(device)\n",
        "        labels = labels.to(device)\n",
        "\n",
        "        optimizer.zero_grad()\n",
        "        outputs = model(inputs, attention_mask=attention_masks, labels = labels)\n",
        "\n",
        "        loss = outputs.loss\n",
        "\n",
        "        loss.backward()\n",
        "        optimizer.step()\n",
        "\n",
        "        running_loss += loss.item() * inputs.size(0)\n",
        "\n",
        "\n",
        "    # Calculate average loss for the epoch\n",
        "    epoch_loss = running_loss / len(train_dataset)\n",
        "    train_losses.append(epoch_loss)\n",
        "\n",
        "\n",
        "   # Validation\n",
        "    model.eval()  # Setting model to evaluation mode\n",
        "    correct_predictions = 0\n",
        "    total_predictions = 0\n",
        "\n",
        "    with torch.no_grad():\n",
        "        for inputs, attention_masks, labels in val_dataloader:\n",
        "            inputs = inputs.to(device)\n",
        "            attention_masks = attention_masks.to(device)\n",
        "            labels = labels.to(device)\n",
        "\n",
        "            # Get model's predictions\n",
        "            outputs = model(inputs, attention_mask=attention_masks)\n",
        "            predicted_labels = torch.argmax(outputs.logits, dim=1)\n",
        "\n",
        "            correct_predictions += (predicted_labels == labels).sum().item()\n",
        "            total_predictions += labels.size(0)\n",
        "\n",
        "    accuracy = correct_predictions / total_predictions\n",
        "    val_accuracies.append(accuracy)\n",
        "\n",
        "\n",
        "    if accuracy > best_accuracy:\n",
        "        best_accuracy = accuracy\n",
        "        epochs_without_improvement = 0\n",
        "        best_model_state = model.state_dict()\n",
        "    else:\n",
        "        epochs_without_improvement += 1\n",
        "        if epochs_without_improvement >= early_stopping_patience:\n",
        "            print(\"Early stopping triggered.\")\n",
        "            break\n",
        "\n",
        "    # Printing the loss and accuracy for each epoch\n",
        "    print(f\"Epoch {epoch+1}/{num_epochs}, Loss: {epoch_loss}, Validation Accuracy: {accuracy}\")\n",
        "\n",
        "# Saving the trained model\n",
        "BERT_Tuned_file = \"/content/drive/MyDrive/Colab Notebooks/BBA3.pt\"\n",
        "torch.save(best_model_state, BERT_Tuned_file)"
      ],
      "id": "dstsuuhXnmFw"
    },
    {
      "cell_type": "code",
      "execution_count": null,
      "metadata": {
        "colab": {
          "base_uri": "https://localhost:8080/",
          "height": 348
        },
        "id": "TF3kK7idnmFw",
        "outputId": "c4246194-eac4-4d49-beca-3c6bbcc086d4"
      },
      "outputs": [
        {
          "data": {
            "image/png": "[encoded data removed]",
            "text/plain": [
              "<Figure size 1000x500 with 2 Axes>"
            ]
          },
          "metadata": {},
          "output_type": "display_data"
        }
      ],
      "source": [
        "# Plotting epoch loss and validation accuracy graphs\n",
        "num_epochs = len(train_losses)\n",
        "plt.figure(figsize=(10, 5))\n",
        "plt.subplot(1, 2, 1)\n",
        "plt.plot(range(1, num_epochs + 1), train_losses, label='Train Loss', color='red')\n",
        "plt.xlabel('Epoch')\n",
        "plt.ylabel('Loss')\n",
        "plt.title('Epoch Loss')\n",
        "plt.legend()\n",
        "\n",
        "plt.subplot(1, 2, 2)\n",
        "plt.plot(range(1, num_epochs + 1), val_accuracies, label='Validation Accuracy', color='green')\n",
        "plt.xlabel('Epoch')\n",
        "plt.ylabel('Accuracy')\n",
        "plt.title('Validation Accuracy')\n",
        "plt.legend()\n",
        "\n",
        "save_path = \"/content/drive/MyDrive/Colab Notebooks/BBA3_plot.png\"\n",
        "plt.savefig(save_path)\n",
        "\n",
        "plt.tight_layout()\n",
        "plt.show()"
      ],
      "id": "TF3kK7idnmFw"
    },
    {
      "cell_type": "code",
      "execution_count": null,
      "metadata": {
        "colab": {
          "base_uri": "https://localhost:8080/"
        },
        "id": "T07uMvE4nmFw",
        "outputId": "32d4c582-2128-4a5f-99a5-c5c7a31a9d76"
      },
      "outputs": [
        {
          "data": {
            "text/plain": [
              "BertForSequenceClassification(\n",
              "  (bert): BertModel(\n",
              "    (embeddings): BertEmbeddings(\n",
              "      (word_embeddings): Embedding(30522, 768, padding_idx=0)\n",
              "      (position_embeddings): Embedding(512, 768)\n",
              "      (token_type_embeddings): Embedding(2, 768)\n",
              "      (LayerNorm): LayerNorm((768,), eps=1e-12, elementwise_affine=True)\n",
              "      (dropout): Dropout(p=0.1, inplace=False)\n",
              "    )\n",
              "    (encoder): BertEncoder(\n",
              "      (layer): ModuleList(\n",
              "        (0-11): 12 x BertLayer(\n",
              "          (attention): BertAttention(\n",
              "            (self): BertSelfAttention(\n",
              "              (query): Linear(in_features=768, out_features=768, bias=True)\n",
              "              (key): Linear(in_features=768, out_features=768, bias=True)\n",
              "              (value): Linear(in_features=768, out_features=768, bias=True)\n",
              "              (dropout): Dropout(p=0.1, inplace=False)\n",
              "            )\n",
              "            (output): BertSelfOutput(\n",
              "              (dense): Linear(in_features=768, out_features=768, bias=True)\n",
              "              (LayerNorm): LayerNorm((768,), eps=1e-12, elementwise_affine=True)\n",
              "              (dropout): Dropout(p=0.1, inplace=False)\n",
              "            )\n",
              "          )\n",
              "          (intermediate): BertIntermediate(\n",
              "            (dense): Linear(in_features=768, out_features=3072, bias=True)\n",
              "            (intermediate_act_fn): GELUActivation()\n",
              "          )\n",
              "          (output): BertOutput(\n",
              "            (dense): Linear(in_features=3072, out_features=768, bias=True)\n",
              "            (LayerNorm): LayerNorm((768,), eps=1e-12, elementwise_affine=True)\n",
              "            (dropout): Dropout(p=0.1, inplace=False)\n",
              "          )\n",
              "        )\n",
              "      )\n",
              "    )\n",
              "    (pooler): BertPooler(\n",
              "      (dense): Linear(in_features=768, out_features=768, bias=True)\n",
              "      (activation): Tanh()\n",
              "    )\n",
              "  )\n",
              "  (dropout): Dropout(p=0.1, inplace=False)\n",
              "  (classifier): Linear(in_features=768, out_features=2, bias=True)\n",
              ")"
            ]
          },
          "execution_count": 61,
          "metadata": {},
          "output_type": "execute_result"
        }
      ],
      "source": [
        "# Loading trained model\n",
        "BERT_Tuned_file = \"/content/drive/MyDrive/Colab Notebooks/BBA3.pt\"\n",
        "model.load_state_dict(torch.load(BERT_Tuned_file))\n",
        "model.eval()"
      ],
      "id": "T07uMvE4nmFw"
    },
    {
      "cell_type": "code",
      "execution_count": null,
      "metadata": {
        "colab": {
          "background_save": true
        },
        "id": "Q5HIA11OnmFw",
        "outputId": "fa2aaa5b-ad8e-477f-e523-e459ce98a033"
      },
      "outputs": [
        {
          "name": "stdout",
          "output_type": "stream",
          "text": [
            "Accuracy: 90.66%\n",
            "Classification Report:\n",
            "               precision    recall  f1-score   support\n",
            "\n",
            "    negative       0.96      0.85      0.90     10012\n",
            "    positive       0.86      0.96      0.91      9938\n",
            "\n",
            "    accuracy                           0.91     19950\n",
            "   macro avg       0.91      0.91      0.91     19950\n",
            "weighted avg       0.91      0.91      0.91     19950\n",
            "\n",
            "Confusion Matrix:\n",
            " [[8504 1508]\n",
            " [ 356 9582]]\n"
          ]
        }
      ],
      "source": [
        "model.to(device)\n",
        "\n",
        "# Creating dataloaders for test\n",
        "batch_size = 32\n",
        "num_cpu = 12\n",
        "\n",
        "test_dataloader = DataLoader(test_dataset, batch_size=batch_size, num_workers=num_cpu, pin_memory=True, shuffle=False)\n",
        "\n",
        "# Evaluating the model on the test set\n",
        "all_preds = []\n",
        "all_labels = []\n",
        "\n",
        "all_preds.clear()\n",
        "all_labels.clear()\n",
        "\n",
        "with torch.no_grad():\n",
        "        for inputs, attention_masks, labels in test_dataloader:\n",
        "            inputs = inputs.to(device)\n",
        "            attention_masks = attention_masks.to(device)\n",
        "            labels = labels.to(device)\n",
        "\n",
        "            outputs = model(inputs, attention_mask=attention_masks)\n",
        "            _, preds = torch.max(outputs.logits, dim=1)\n",
        "\n",
        "            all_preds.extend(preds.cpu().numpy())\n",
        "            all_labels.extend(labels.cpu().numpy())\n",
        "\n",
        "# Calculating evaluation metrics\n",
        "accuracy = accuracy_score(all_labels, all_preds) * 100\n",
        "\n",
        "class_names = [\"negative\", \"positive\"]\n",
        "class_report = classification_report(all_labels, all_preds, target_names=class_names)\n",
        "conf_matrix = confusion_matrix(all_labels, all_preds)\n",
        "\n",
        "print(f\"Accuracy: {accuracy:.2f}%\")\n",
        "print(\"Classification Report:\\n\", class_report)\n",
        "print(\"Confusion Matrix:\\n\", conf_matrix)"
      ],
      "id": "Q5HIA11OnmFw"
    },
    {
      "cell_type": "markdown",
      "metadata": {
        "id": "nTIX36MnhpEu"
      },
      "source": [
        "# 4 Adam with 5e-5 Learning Rate\n",
        "\n",
        "\n"
      ],
      "id": "nTIX36MnhpEu"
    },
    {
      "cell_type": "code",
      "execution_count": null,
      "metadata": {
        "id": "5KmrqIoYhpEv",
        "colab": {
          "base_uri": "https://localhost:8080/"
        },
        "outputId": "dcf0445c-9132-4de1-a80e-30155f190677"
      },
      "outputs": [
        {
          "output_type": "stream",
          "name": "stderr",
          "text": [
            "Some weights of BertForSequenceClassification were not initialized from the model checkpoint at bert-base-uncased and are newly initialized: ['classifier.bias', 'classifier.weight']\n",
            "You should probably TRAIN this model on a down-stream task to be able to use it for predictions and inference.\n"
          ]
        },
        {
          "output_type": "stream",
          "name": "stdout",
          "text": [
            "Epoch 1/5, Loss: 0.2788538616259893, Validation Accuracy: 0.9231229235880398\n",
            "Epoch 2/5, Loss: 0.13523887013196945, Validation Accuracy: 0.9177408637873754\n",
            "Epoch 3/5, Loss: 0.07850924093574285, Validation Accuracy: 0.919468438538206\n",
            "Early stopping triggered.\n"
          ]
        }
      ],
      "source": [
        "model = BertForSequenceClassification.from_pretrained('bert-base-uncased', num_labels=2).to(device)\n",
        "\n",
        "batch_size = 32\n",
        "num_cpu = 12\n",
        "\n",
        "# Creating data loaders\n",
        "train_dataloader = DataLoader(train_dataset, batch_size=batch_size, num_workers=num_cpu, pin_memory=True, shuffle=True)\n",
        "val_dataloader = DataLoader(val_dataset, batch_size=batch_size, num_workers=num_cpu, pin_memory=True, shuffle=False)\n",
        "\n",
        "# declaring Hyperparameters\n",
        "\n",
        "early_stopping_patience = 3\n",
        "epochs_without_improvement = 0\n",
        "\n",
        "num_epochs = 5\n",
        "best_accuracy = 0.0\n",
        "train_losses = []\n",
        "val_accuracies = []\n",
        "train_losses.clear()\n",
        "val_accuracies.clear()\n",
        "\n",
        "# optimizer\n",
        "optimizer = optim.Adam(model.parameters(), lr=5e-5)\n",
        "\n",
        "for epoch in range(num_epochs):\n",
        "    running_loss = 0.0\n",
        "\n",
        "    # Training\n",
        "    model.train()\n",
        "    for inputs, attention_masks, labels in train_dataloader:\n",
        "        inputs = inputs.to(device)\n",
        "        attention_masks = attention_masks.to(device)\n",
        "        labels = labels.to(device)\n",
        "\n",
        "        optimizer.zero_grad()\n",
        "        outputs = model(inputs, attention_mask=attention_masks, labels = labels)\n",
        "\n",
        "        loss = outputs.loss\n",
        "\n",
        "        loss.backward()\n",
        "        optimizer.step()\n",
        "\n",
        "        running_loss += loss.item() * inputs.size(0)\n",
        "\n",
        "\n",
        "    # Calculate average loss for the epoch\n",
        "    epoch_loss = running_loss / len(train_dataset)\n",
        "    train_losses.append(epoch_loss)\n",
        "\n",
        "\n",
        "   # Validation\n",
        "    model.eval()  # Setting model to evaluation mode\n",
        "    correct_predictions = 0\n",
        "    total_predictions = 0\n",
        "\n",
        "    with torch.no_grad():\n",
        "        for inputs, attention_masks, labels in val_dataloader:\n",
        "            inputs = inputs.to(device)\n",
        "            attention_masks = attention_masks.to(device)\n",
        "            labels = labels.to(device)\n",
        "\n",
        "            # Get model's predictions\n",
        "            outputs = model(inputs, attention_mask=attention_masks)\n",
        "            predicted_labels = torch.argmax(outputs.logits, dim=1)\n",
        "\n",
        "            correct_predictions += (predicted_labels == labels).sum().item()\n",
        "            total_predictions += labels.size(0)\n",
        "\n",
        "    accuracy = correct_predictions / total_predictions\n",
        "    val_accuracies.append(accuracy)\n",
        "\n",
        "\n",
        "    if accuracy > best_accuracy:\n",
        "        best_accuracy = accuracy\n",
        "        epochs_without_improvement = 0\n",
        "        best_model_state = model.state_dict()\n",
        "    else:\n",
        "        epochs_without_improvement += 1\n",
        "        if epochs_without_improvement >= early_stopping_patience:\n",
        "            print(\"Early stopping triggered.\")\n",
        "            break\n",
        "\n",
        "    # Printing the loss and accuracy for each epoch\n",
        "    print(f\"Epoch {epoch+1}/{num_epochs}, Loss: {epoch_loss}, Validation Accuracy: {accuracy}\")\n",
        "\n",
        "# Saving the trained model\n",
        "BERT_Tuned_file = \"/content/drive/MyDrive/Colab Notebooks/BBA4.pt\"\n",
        "torch.save(best_model_state, BERT_Tuned_file)"
      ],
      "id": "5KmrqIoYhpEv"
    },
    {
      "cell_type": "code",
      "execution_count": null,
      "metadata": {
        "id": "3Xu31KzchpEv",
        "colab": {
          "base_uri": "https://localhost:8080/",
          "height": 348
        },
        "outputId": "63e9942b-59cc-4215-83d8-c60251dc1a31"
      },
      "outputs": [
        {
          "output_type": "display_data",
          "data": {
            "text/plain": [
              "<Figure size 1000x500 with 2 Axes>"
            ],
            "image/png": "[encoded data removed]"
          },
          "metadata": {}
        }
      ],
      "source": [
        "# Plotting epoch loss and validation accuracy graphs\n",
        "num_epochs = len(train_losses)\n",
        "plt.figure(figsize=(10, 5))\n",
        "plt.subplot(1, 2, 1)\n",
        "plt.plot(range(1, num_epochs + 1), train_losses, label='Train Loss', color='red')\n",
        "plt.xlabel('Epoch')\n",
        "plt.ylabel('Loss')\n",
        "plt.title('Epoch Loss')\n",
        "plt.legend()\n",
        "\n",
        "plt.subplot(1, 2, 2)\n",
        "plt.plot(range(1, num_epochs + 1), val_accuracies, label='Validation Accuracy', color='green')\n",
        "plt.xlabel('Epoch')\n",
        "plt.ylabel('Accuracy')\n",
        "plt.title('Validation Accuracy')\n",
        "plt.legend()\n",
        "\n",
        "save_path = \"/content/drive/MyDrive/Colab Notebooks/BBA4_plot.png\"\n",
        "plt.savefig(save_path)\n",
        "\n",
        "plt.tight_layout()\n",
        "plt.show()"
      ],
      "id": "3Xu31KzchpEv"
    },
    {
      "cell_type": "code",
      "execution_count": null,
      "metadata": {
        "id": "eYUYAHCGhpEw",
        "colab": {
          "base_uri": "https://localhost:8080/"
        },
        "outputId": "c62288c3-5d3c-4b14-e37f-7b839b15221a"
      },
      "outputs": [
        {
          "output_type": "execute_result",
          "data": {
            "text/plain": [
              "BertForSequenceClassification(\n",
              "  (bert): BertModel(\n",
              "    (embeddings): BertEmbeddings(\n",
              "      (word_embeddings): Embedding(30522, 768, padding_idx=0)\n",
              "      (position_embeddings): Embedding(512, 768)\n",
              "      (token_type_embeddings): Embedding(2, 768)\n",
              "      (LayerNorm): LayerNorm((768,), eps=1e-12, elementwise_affine=True)\n",
              "      (dropout): Dropout(p=0.1, inplace=False)\n",
              "    )\n",
              "    (encoder): BertEncoder(\n",
              "      (layer): ModuleList(\n",
              "        (0-11): 12 x BertLayer(\n",
              "          (attention): BertAttention(\n",
              "            (self): BertSelfAttention(\n",
              "              (query): Linear(in_features=768, out_features=768, bias=True)\n",
              "              (key): Linear(in_features=768, out_features=768, bias=True)\n",
              "              (value): Linear(in_features=768, out_features=768, bias=True)\n",
              "              (dropout): Dropout(p=0.1, inplace=False)\n",
              "            )\n",
              "            (output): BertSelfOutput(\n",
              "              (dense): Linear(in_features=768, out_features=768, bias=True)\n",
              "              (LayerNorm): LayerNorm((768,), eps=1e-12, elementwise_affine=True)\n",
              "              (dropout): Dropout(p=0.1, inplace=False)\n",
              "            )\n",
              "          )\n",
              "          (intermediate): BertIntermediate(\n",
              "            (dense): Linear(in_features=768, out_features=3072, bias=True)\n",
              "            (intermediate_act_fn): GELUActivation()\n",
              "          )\n",
              "          (output): BertOutput(\n",
              "            (dense): Linear(in_features=3072, out_features=768, bias=True)\n",
              "            (LayerNorm): LayerNorm((768,), eps=1e-12, elementwise_affine=True)\n",
              "            (dropout): Dropout(p=0.1, inplace=False)\n",
              "          )\n",
              "        )\n",
              "      )\n",
              "    )\n",
              "    (pooler): BertPooler(\n",
              "      (dense): Linear(in_features=768, out_features=768, bias=True)\n",
              "      (activation): Tanh()\n",
              "    )\n",
              "  )\n",
              "  (dropout): Dropout(p=0.1, inplace=False)\n",
              "  (classifier): Linear(in_features=768, out_features=2, bias=True)\n",
              ")"
            ]
          },
          "metadata": {},
          "execution_count": 33
        }
      ],
      "source": [
        "# Loading trained model\n",
        "BERT_Tuned_file = \"/content/drive/MyDrive/Colab Notebooks/BBA4.pt\"\n",
        "model.load_state_dict(torch.load(BERT_Tuned_file))\n",
        "model.eval()"
      ],
      "id": "eYUYAHCGhpEw"
    },
    {
      "cell_type": "code",
      "execution_count": null,
      "metadata": {
        "id": "y1sVndIWhpEw",
        "colab": {
          "base_uri": "https://localhost:8080/"
        },
        "outputId": "38b07f23-dac2-44ab-90a9-9ff45f3e9d40"
      },
      "outputs": [
        {
          "output_type": "stream",
          "name": "stdout",
          "text": [
            "Accuracy: 91.75%\n",
            "Classification Report:\n",
            "               precision    recall  f1-score   support\n",
            "\n",
            "    negative       0.89      0.95      0.92     10012\n",
            "    positive       0.95      0.88      0.91      9938\n",
            "\n",
            "    accuracy                           0.92     19950\n",
            "   macro avg       0.92      0.92      0.92     19950\n",
            "weighted avg       0.92      0.92      0.92     19950\n",
            "\n",
            "Confusion Matrix:\n",
            " [[9517  495]\n",
            " [1150 8788]]\n"
          ]
        }
      ],
      "source": [
        "model.to(device)\n",
        "\n",
        "# Creating dataloaders for test\n",
        "batch_size = 32\n",
        "num_cpu = 12\n",
        "\n",
        "test_dataloader = DataLoader(test_dataset, batch_size=batch_size, num_workers=num_cpu, pin_memory=True, shuffle=False)\n",
        "\n",
        "# Evaluating the model on the test set\n",
        "all_preds = []\n",
        "all_labels = []\n",
        "\n",
        "all_preds.clear()\n",
        "all_labels.clear()\n",
        "\n",
        "with torch.no_grad():\n",
        "        for inputs, attention_masks, labels in test_dataloader:\n",
        "            inputs = inputs.to(device)\n",
        "            attention_masks = attention_masks.to(device)\n",
        "            labels = labels.to(device)\n",
        "\n",
        "            outputs = model(inputs, attention_mask=attention_masks)\n",
        "            _, preds = torch.max(outputs.logits, dim=1)\n",
        "\n",
        "            all_preds.extend(preds.cpu().numpy())\n",
        "            all_labels.extend(labels.cpu().numpy())\n",
        "\n",
        "# Calculating evaluation metrics\n",
        "accuracy = accuracy_score(all_labels, all_preds) * 100\n",
        "\n",
        "class_names = [\"negative\", \"positive\"]\n",
        "class_report = classification_report(all_labels, all_preds, target_names=class_names)\n",
        "conf_matrix = confusion_matrix(all_labels, all_preds)\n",
        "\n",
        "print(f\"Accuracy: {accuracy:.2f}%\")\n",
        "print(\"Classification Report:\\n\", class_report)\n",
        "print(\"Confusion Matrix:\\n\", conf_matrix)"
      ],
      "id": "y1sVndIWhpEw"
    },
    {
      "cell_type": "markdown",
      "metadata": {
        "id": "FtTaRS3IhpX6"
      },
      "source": [
        "# 5 Adam with 2e-4 Learning Rate\n",
        "\n",
        "\n"
      ],
      "id": "FtTaRS3IhpX6"
    },
    {
      "cell_type": "code",
      "execution_count": null,
      "metadata": {
        "id": "3tsGoENehpX7",
        "colab": {
          "base_uri": "https://localhost:8080/"
        },
        "outputId": "df040b45-8bb1-4d68-f112-925d7c910180"
      },
      "outputs": [
        {
          "output_type": "stream",
          "name": "stderr",
          "text": [
            "Some weights of BertForSequenceClassification were not initialized from the model checkpoint at bert-base-uncased and are newly initialized: ['classifier.bias', 'classifier.weight']\n",
            "You should probably TRAIN this model on a down-stream task to be able to use it for predictions and inference.\n"
          ]
        },
        {
          "output_type": "stream",
          "name": "stdout",
          "text": [
            "Epoch 1/5, Loss: 0.7071028397878011, Validation Accuracy: 0.49754152823920267\n",
            "Epoch 2/5, Loss: 0.7034422612508138, Validation Accuracy: 0.49754152823920267\n",
            "Epoch 3/5, Loss: 0.7032076621055603, Validation Accuracy: 0.49754152823920267\n",
            "Early stopping triggered.\n"
          ]
        }
      ],
      "source": [
        "model = BertForSequenceClassification.from_pretrained('bert-base-uncased', num_labels=2).to(device)\n",
        "\n",
        "# declaring Hyperparameters\n",
        "batch_size = 32\n",
        "early_stopping_patience = 3\n",
        "epochs_without_improvement = 0\n",
        "num_cpu = 12\n",
        "num_epochs = 5\n",
        "best_accuracy = 0.0\n",
        "train_losses = []\n",
        "val_accuracies = []\n",
        "train_losses.clear()\n",
        "val_accuracies.clear()\n",
        "\n",
        "# optimizer\n",
        "optimizer = optim.Adam(model.parameters(), lr=2e-4)\n",
        "\n",
        "# Creating data loaders\n",
        "train_dataloader = DataLoader(train_dataset, batch_size=batch_size, num_workers=num_cpu, pin_memory=True, shuffle=True)\n",
        "val_dataloader = DataLoader(val_dataset, batch_size=batch_size, num_workers=num_cpu, pin_memory=True, shuffle=False)\n",
        "\n",
        "for epoch in range(num_epochs):\n",
        "    running_loss = 0.0\n",
        "\n",
        "    # Training\n",
        "    model.train()\n",
        "    for inputs, attention_masks, labels in train_dataloader:\n",
        "        inputs = inputs.to(device)\n",
        "        attention_masks = attention_masks.to(device)\n",
        "        labels = labels.to(device)\n",
        "\n",
        "        optimizer.zero_grad()\n",
        "        outputs = model(inputs, attention_mask=attention_masks, labels = labels)\n",
        "\n",
        "        loss = outputs.loss\n",
        "\n",
        "        loss.backward()\n",
        "\n",
        "        optimizer.step()\n",
        "\n",
        "        running_loss += loss.item() * inputs.size(0)\n",
        "\n",
        "\n",
        "    # Calculate average loss for the epoch\n",
        "    epoch_loss = running_loss / len(train_dataset)\n",
        "    train_losses.append(epoch_loss)\n",
        "\n",
        "\n",
        "   # Validation\n",
        "    model.eval()  # Setting model to evaluation mode\n",
        "    correct_predictions = 0\n",
        "    total_predictions = 0\n",
        "\n",
        "    with torch.no_grad():\n",
        "        for inputs, attention_masks, labels in val_dataloader:\n",
        "            inputs = inputs.to(device)\n",
        "            attention_masks = attention_masks.to(device)\n",
        "            labels = labels.to(device)\n",
        "\n",
        "            # Get model's predictions\n",
        "            outputs = model(inputs, attention_mask=attention_masks)\n",
        "            predicted_labels = torch.argmax(outputs.logits, dim=1)\n",
        "\n",
        "            correct_predictions += (predicted_labels == labels).sum().item()\n",
        "            total_predictions += labels.size(0)\n",
        "\n",
        "    accuracy = correct_predictions / total_predictions\n",
        "    val_accuracies.append(accuracy)\n",
        "\n",
        "\n",
        "    if accuracy > best_accuracy:\n",
        "        best_accuracy = accuracy\n",
        "        epochs_without_improvement = 0\n",
        "        best_model_state = model.state_dict()\n",
        "    else:\n",
        "        epochs_without_improvement += 1\n",
        "        if epochs_without_improvement >= early_stopping_patience:\n",
        "            print(\"Early stopping triggered.\")\n",
        "            break\n",
        "\n",
        "    # Printing the loss and accuracy for each epoch\n",
        "    print(f\"Epoch {epoch+1}/{num_epochs}, Loss: {epoch_loss}, Validation Accuracy: {accuracy}\")\n",
        "\n",
        "# Saving the trained model\n",
        "BERT_Tuned_file = \"/content/drive/MyDrive/Colab Notebooks/BBA5.pt\"\n",
        "torch.save(best_model_state, BERT_Tuned_file)"
      ],
      "id": "3tsGoENehpX7"
    },
    {
      "cell_type": "code",
      "execution_count": null,
      "metadata": {
        "id": "LdAuhtj_hpX7",
        "colab": {
          "base_uri": "https://localhost:8080/",
          "height": 348
        },
        "outputId": "4fc611db-1f2c-492b-f2f3-5bd665fd24f8"
      },
      "outputs": [
        {
          "output_type": "display_data",
          "data": {
            "text/plain": [
              "<Figure size 1000x500 with 2 Axes>"
            ],
            "image/png": "[encoded data removed]"
          },
          "metadata": {}
        }
      ],
      "source": [
        "# Plotting epoch loss and validation accuracy graphs\n",
        "num_epochs = len(train_losses)\n",
        "plt.figure(figsize=(10, 5))\n",
        "plt.subplot(1, 2, 1)\n",
        "plt.plot(range(1, num_epochs + 1), train_losses, label='Train Loss', color='red')\n",
        "plt.xlabel('Epoch')\n",
        "plt.ylabel('Loss')\n",
        "plt.title('Epoch Loss')\n",
        "plt.legend()\n",
        "\n",
        "plt.subplot(1, 2, 2)\n",
        "plt.plot(range(1, num_epochs + 1), val_accuracies, label='Validation Accuracy', color='green')\n",
        "plt.xlabel('Epoch')\n",
        "plt.ylabel('Accuracy')\n",
        "plt.title('Validation Accuracy')\n",
        "plt.legend()\n",
        "\n",
        "save_path = \"/content/drive/MyDrive/Colab Notebooks/BBA5_plot.png\"\n",
        "plt.savefig(save_path)\n",
        "\n",
        "plt.tight_layout()\n",
        "plt.show()"
      ],
      "id": "LdAuhtj_hpX7"
    },
    {
      "cell_type": "code",
      "execution_count": null,
      "metadata": {
        "id": "wJS8JdjChpX7",
        "colab": {
          "base_uri": "https://localhost:8080/"
        },
        "outputId": "32bdbd6f-840d-4e36-b4d6-7edb93942317"
      },
      "outputs": [
        {
          "output_type": "execute_result",
          "data": {
            "text/plain": [
              "BertForSequenceClassification(\n",
              "  (bert): BertModel(\n",
              "    (embeddings): BertEmbeddings(\n",
              "      (word_embeddings): Embedding(30522, 768, padding_idx=0)\n",
              "      (position_embeddings): Embedding(512, 768)\n",
              "      (token_type_embeddings): Embedding(2, 768)\n",
              "      (LayerNorm): LayerNorm((768,), eps=1e-12, elementwise_affine=True)\n",
              "      (dropout): Dropout(p=0.1, inplace=False)\n",
              "    )\n",
              "    (encoder): BertEncoder(\n",
              "      (layer): ModuleList(\n",
              "        (0-11): 12 x BertLayer(\n",
              "          (attention): BertAttention(\n",
              "            (self): BertSelfAttention(\n",
              "              (query): Linear(in_features=768, out_features=768, bias=True)\n",
              "              (key): Linear(in_features=768, out_features=768, bias=True)\n",
              "              (value): Linear(in_features=768, out_features=768, bias=True)\n",
              "              (dropout): Dropout(p=0.1, inplace=False)\n",
              "            )\n",
              "            (output): BertSelfOutput(\n",
              "              (dense): Linear(in_features=768, out_features=768, bias=True)\n",
              "              (LayerNorm): LayerNorm((768,), eps=1e-12, elementwise_affine=True)\n",
              "              (dropout): Dropout(p=0.1, inplace=False)\n",
              "            )\n",
              "          )\n",
              "          (intermediate): BertIntermediate(\n",
              "            (dense): Linear(in_features=768, out_features=3072, bias=True)\n",
              "            (intermediate_act_fn): GELUActivation()\n",
              "          )\n",
              "          (output): BertOutput(\n",
              "            (dense): Linear(in_features=3072, out_features=768, bias=True)\n",
              "            (LayerNorm): LayerNorm((768,), eps=1e-12, elementwise_affine=True)\n",
              "            (dropout): Dropout(p=0.1, inplace=False)\n",
              "          )\n",
              "        )\n",
              "      )\n",
              "    )\n",
              "    (pooler): BertPooler(\n",
              "      (dense): Linear(in_features=768, out_features=768, bias=True)\n",
              "      (activation): Tanh()\n",
              "    )\n",
              "  )\n",
              "  (dropout): Dropout(p=0.1, inplace=False)\n",
              "  (classifier): Linear(in_features=768, out_features=2, bias=True)\n",
              ")"
            ]
          },
          "metadata": {},
          "execution_count": 37
        }
      ],
      "source": [
        "# Loading trained model\n",
        "BERT_Tuned_file = \"/content/drive/MyDrive/Colab Notebooks/BBA5.pt\"\n",
        "model.load_state_dict(torch.load(BERT_Tuned_file))\n",
        "model.eval()"
      ],
      "id": "wJS8JdjChpX7"
    },
    {
      "cell_type": "code",
      "execution_count": null,
      "metadata": {
        "id": "jZDSP3GPhpX7",
        "colab": {
          "base_uri": "https://localhost:8080/"
        },
        "outputId": "0b32d797-23bc-4992-be5b-e588e2d11345"
      },
      "outputs": [
        {
          "output_type": "stream",
          "name": "stdout",
          "text": [
            "Accuracy: 50.19%\n",
            "Classification Report:\n",
            "               precision    recall  f1-score   support\n",
            "\n",
            "    negative       0.50      1.00      0.67     10012\n",
            "    positive       0.00      0.00      0.00      9938\n",
            "\n",
            "    accuracy                           0.50     19950\n",
            "   macro avg       0.25      0.50      0.33     19950\n",
            "weighted avg       0.25      0.50      0.34     19950\n",
            "\n",
            "Confusion Matrix:\n",
            " [[10012     0]\n",
            " [ 9938     0]]\n"
          ]
        },
        {
          "output_type": "stream",
          "name": "stderr",
          "text": [
            "/usr/local/lib/python3.10/dist-packages/sklearn/metrics/_classification.py:1344: UndefinedMetricWarning: Precision and F-score are ill-defined and being set to 0.0 in labels with no predicted samples. Use `zero_division` parameter to control this behavior.\n",
            "  _warn_prf(average, modifier, msg_start, len(result))\n",
            "/usr/local/lib/python3.10/dist-packages/sklearn/metrics/_classification.py:1344: UndefinedMetricWarning: Precision and F-score are ill-defined and being set to 0.0 in labels with no predicted samples. Use `zero_division` parameter to control this behavior.\n",
            "  _warn_prf(average, modifier, msg_start, len(result))\n",
            "/usr/local/lib/python3.10/dist-packages/sklearn/metrics/_classification.py:1344: UndefinedMetricWarning: Precision and F-score are ill-defined and being set to 0.0 in labels with no predicted samples. Use `zero_division` parameter to control this behavior.\n",
            "  _warn_prf(average, modifier, msg_start, len(result))\n"
          ]
        }
      ],
      "source": [
        "model.to(device)\n",
        "\n",
        "# Creating dataloaders for test\n",
        "batch_size = 32\n",
        "num_cpu = 12\n",
        "\n",
        "test_dataloader = DataLoader(test_dataset, batch_size=batch_size, num_workers=num_cpu, pin_memory=True, shuffle=False)\n",
        "\n",
        "# Evaluating the model on the test set\n",
        "all_preds = []\n",
        "all_labels = []\n",
        "\n",
        "all_preds.clear()\n",
        "all_labels.clear()\n",
        "\n",
        "with torch.no_grad():\n",
        "        for inputs, attention_masks, labels in test_dataloader:\n",
        "            inputs = inputs.to(device)\n",
        "            attention_masks = attention_masks.to(device)\n",
        "            labels = labels.to(device)\n",
        "\n",
        "            outputs = model(inputs, attention_mask=attention_masks)\n",
        "            _, preds = torch.max(outputs.logits, dim=1)\n",
        "\n",
        "            all_preds.extend(preds.cpu().numpy())\n",
        "            all_labels.extend(labels.cpu().numpy())\n",
        "\n",
        "# Calculating evaluation metrics\n",
        "accuracy = accuracy_score(all_labels, all_preds) * 100\n",
        "\n",
        "class_names = [\"negative\", \"positive\"]\n",
        "class_report = classification_report(all_labels, all_preds, target_names=class_names)\n",
        "conf_matrix = confusion_matrix(all_labels, all_preds)\n",
        "\n",
        "print(f\"Accuracy: {accuracy:.2f}%\")\n",
        "print(\"Classification Report:\\n\", class_report)\n",
        "print(\"Confusion Matrix:\\n\", conf_matrix)"
      ],
      "id": "jZDSP3GPhpX7"
    },
    {
      "cell_type": "code",
      "execution_count": null,
      "metadata": {
        "id": "xTkADjqcFgyM",
        "colab": {
          "base_uri": "https://localhost:8080/"
        },
        "outputId": "44564879-f571-4da7-8fce-d2f34dea7b26"
      },
      "outputs": [
        {
          "output_type": "stream",
          "name": "stdout",
          "text": [
            "Enter a sentence: goog\n",
            "Predicted sentiment: negative\n"
          ]
        }
      ],
      "source": [
        "gooduser_input = input(\"Enter a sentence: \")\n",
        "preprocessed_input = preprocess_text(user_input)\n",
        "encoded_input= tokenizer.batch_encode_plus(\n",
        "    [preprocessed_input],\n",
        "    padding=True,\n",
        "    truncation=True,\n",
        "    max_length=512,\n",
        "    return_tensors='pt'\n",
        ")\n",
        "input_ids = encoded_input['input_ids'].to(device)\n",
        "attention_masks_test = encoded_input['attention_mask'].to(device)\n",
        "\n",
        "with torch.no_grad():\n",
        "    outputs = model(input_ids, attention_mask=attention_masks_test)\n",
        "    logits = outputs.logits\n",
        "    predicted_label = torch.argmax(logits, dim=1).item()\n",
        "\n",
        "class_names = [\"negative\", \"positive\"]\n",
        "predicted_sentiment = class_names[predicted_label]\n",
        "print(\"Predicted sentiment:\", predicted_sentiment)"
      ],
      "id": "xTkADjqcFgyM"
    },
    {
      "cell_type": "code",
      "execution_count": null,
      "metadata": {
        "id": "PanczvUe83ke"
      },
      "outputs": [],
      "source": [],
      "id": "PanczvUe83ke"
    }
  ],
  "metadata": {
    "accelerator": "GPU",
    "colab": {
      "machine_shape": "hm",
      "provenance": [],
      "gpuType": "A100"
    },
    "kernelspec": {
      "display_name": "Python 3",
      "name": "python3"
    },
    "language_info": {
      "codemirror_mode": {
        "name": "ipython",
        "version": 3
      },
      "file_extension": ".py",
      "mimetype": "text/x-python",
      "name": "python",
      "nbconvert_exporter": "python",
      "pygments_lexer": "ipython3",
      "version": "3.10.9"
    },
    "widgets": {
      "application/vnd.jupyter.widget-state+json": {
        "087a5b5bc7fc4d189ca1b4cf358a725e": {
          "model_module": "@jupyter-widgets/base",
          "model_module_version": "1.2.0",
          "model_name": "LayoutModel",
          "state": {
            "_model_module": "@jupyter-widgets/base",
            "_model_module_version": "1.2.0",
            "_model_name": "LayoutModel",
            "_view_count": null,
            "_view_module": "@jupyter-widgets/base",
            "_view_module_version": "1.2.0",
            "_view_name": "LayoutView",
            "align_content": null,
            "align_items": null,
            "align_self": null,
            "border": null,
            "bottom": null,
            "display": null,
            "flex": null,
            "flex_flow": null,
            "grid_area": null,
            "grid_auto_columns": null,
            "grid_auto_flow": null,
            "grid_auto_rows": null,
            "grid_column": null,
            "grid_gap": null,
            "grid_row": null,
            "grid_template_areas": null,
            "grid_template_columns": null,
            "grid_template_rows": null,
            "height": null,
            "justify_content": null,
            "justify_items": null,
            "left": null,
            "margin": null,
            "max_height": null,
            "max_width": null,
            "min_height": null,
            "min_width": null,
            "object_fit": null,
            "object_position": null,
            "order": null,
            "overflow": null,
            "overflow_x": null,
            "overflow_y": null,
            "padding": null,
            "right": null,
            "top": null,
            "visibility": null,
            "width": null
          }
        },
        "0a04f50c670c4d72bff62e3b01366b5e": {
          "model_module": "@jupyter-widgets/controls",
          "model_module_version": "1.5.0",
          "model_name": "DescriptionStyleModel",
          "state": {
            "_model_module": "@jupyter-widgets/controls",
            "_model_module_version": "1.5.0",
            "_model_name": "DescriptionStyleModel",
            "_view_count": null,
            "_view_module": "@jupyter-widgets/base",
            "_view_module_version": "1.2.0",
            "_view_name": "StyleView",
            "description_width": ""
          }
        },
        "2fd789d2775a4e1f8d7e518360af6fa6": {
          "model_module": "@jupyter-widgets/controls",
          "model_module_version": "1.5.0",
          "model_name": "HTMLModel",
          "state": {
            "_dom_classes": [],
            "_model_module": "@jupyter-widgets/controls",
            "_model_module_version": "1.5.0",
            "_model_name": "HTMLModel",
            "_view_count": null,
            "_view_module": "@jupyter-widgets/controls",
            "_view_module_version": "1.5.0",
            "_view_name": "HTMLView",
            "description": "",
            "description_tooltip": null,
            "layout": "IPY_MODEL_a8fccfcf344a4af78dad58d4bedd5e06",
            "placeholder": "​",
            "style": "IPY_MODEL_0a04f50c670c4d72bff62e3b01366b5e",
            "value": "Downloading model.safetensors: 100%"
          }
        },
        "328d13d311f247ed90d7bd98d9373626": {
          "model_module": "@jupyter-widgets/base",
          "model_module_version": "1.2.0",
          "model_name": "LayoutModel",
          "state": {
            "_model_module": "@jupyter-widgets/base",
            "_model_module_version": "1.2.0",
            "_model_name": "LayoutModel",
            "_view_count": null,
            "_view_module": "@jupyter-widgets/base",
            "_view_module_version": "1.2.0",
            "_view_name": "LayoutView",
            "align_content": null,
            "align_items": null,
            "align_self": null,
            "border": null,
            "bottom": null,
            "display": null,
            "flex": null,
            "flex_flow": null,
            "grid_area": null,
            "grid_auto_columns": null,
            "grid_auto_flow": null,
            "grid_auto_rows": null,
            "grid_column": null,
            "grid_gap": null,
            "grid_row": null,
            "grid_template_areas": null,
            "grid_template_columns": null,
            "grid_template_rows": null,
            "height": null,
            "justify_content": null,
            "justify_items": null,
            "left": null,
            "margin": null,
            "max_height": null,
            "max_width": null,
            "min_height": null,
            "min_width": null,
            "object_fit": null,
            "object_position": null,
            "order": null,
            "overflow": null,
            "overflow_x": null,
            "overflow_y": null,
            "padding": null,
            "right": null,
            "top": null,
            "visibility": null,
            "width": null
          }
        },
        "3e3a8a54647845378982df043c63f47a": {
          "model_module": "@jupyter-widgets/controls",
          "model_module_version": "1.5.0",
          "model_name": "HTMLModel",
          "state": {
            "_dom_classes": [],
            "_model_module": "@jupyter-widgets/controls",
            "_model_module_version": "1.5.0",
            "_model_name": "HTMLModel",
            "_view_count": null,
            "_view_module": "@jupyter-widgets/controls",
            "_view_module_version": "1.5.0",
            "_view_name": "HTMLView",
            "description": "",
            "description_tooltip": null,
            "layout": "IPY_MODEL_328d13d311f247ed90d7bd98d9373626",
            "placeholder": "​",
            "style": "IPY_MODEL_b749a35027d342819ac0f903ba27f198",
            "value": " 440M/440M [00:01&lt;00:00, 294MB/s]"
          }
        },
        "471b2d32dbf34528880a81d799fd8622": {
          "model_module": "@jupyter-widgets/controls",
          "model_module_version": "1.5.0",
          "model_name": "HBoxModel",
          "state": {
            "_dom_classes": [],
            "_model_module": "@jupyter-widgets/controls",
            "_model_module_version": "1.5.0",
            "_model_name": "HBoxModel",
            "_view_count": null,
            "_view_module": "@jupyter-widgets/controls",
            "_view_module_version": "1.5.0",
            "_view_name": "HBoxView",
            "box_style": "",
            "children": [
              "IPY_MODEL_2fd789d2775a4e1f8d7e518360af6fa6",
              "IPY_MODEL_a82507427360470bbdd7cb02e9720cce",
              "IPY_MODEL_3e3a8a54647845378982df043c63f47a"
            ],
            "layout": "IPY_MODEL_087a5b5bc7fc4d189ca1b4cf358a725e"
          }
        },
        "a82507427360470bbdd7cb02e9720cce": {
          "model_module": "@jupyter-widgets/controls",
          "model_module_version": "1.5.0",
          "model_name": "FloatProgressModel",
          "state": {
            "_dom_classes": [],
            "_model_module": "@jupyter-widgets/controls",
            "_model_module_version": "1.5.0",
            "_model_name": "FloatProgressModel",
            "_view_count": null,
            "_view_module": "@jupyter-widgets/controls",
            "_view_module_version": "1.5.0",
            "_view_name": "ProgressView",
            "bar_style": "success",
            "description": "",
            "description_tooltip": null,
            "layout": "IPY_MODEL_fd7870ec61f84edbafab6491689db851",
            "max": 440449768,
            "min": 0,
            "orientation": "horizontal",
            "style": "IPY_MODEL_f009b101d0d148149d3680030ee1dd96",
            "value": 440449768
          }
        },
        "a8fccfcf344a4af78dad58d4bedd5e06": {
          "model_module": "@jupyter-widgets/base",
          "model_module_version": "1.2.0",
          "model_name": "LayoutModel",
          "state": {
            "_model_module": "@jupyter-widgets/base",
            "_model_module_version": "1.2.0",
            "_model_name": "LayoutModel",
            "_view_count": null,
            "_view_module": "@jupyter-widgets/base",
            "_view_module_version": "1.2.0",
            "_view_name": "LayoutView",
            "align_content": null,
            "align_items": null,
            "align_self": null,
            "border": null,
            "bottom": null,
            "display": null,
            "flex": null,
            "flex_flow": null,
            "grid_area": null,
            "grid_auto_columns": null,
            "grid_auto_flow": null,
            "grid_auto_rows": null,
            "grid_column": null,
            "grid_gap": null,
            "grid_row": null,
            "grid_template_areas": null,
            "grid_template_columns": null,
            "grid_template_rows": null,
            "height": null,
            "justify_content": null,
            "justify_items": null,
            "left": null,
            "margin": null,
            "max_height": null,
            "max_width": null,
            "min_height": null,
            "min_width": null,
            "object_fit": null,
            "object_position": null,
            "order": null,
            "overflow": null,
            "overflow_x": null,
            "overflow_y": null,
            "padding": null,
            "right": null,
            "top": null,
            "visibility": null,
            "width": null
          }
        },
        "b749a35027d342819ac0f903ba27f198": {
          "model_module": "@jupyter-widgets/controls",
          "model_module_version": "1.5.0",
          "model_name": "DescriptionStyleModel",
          "state": {
            "_model_module": "@jupyter-widgets/controls",
            "_model_module_version": "1.5.0",
            "_model_name": "DescriptionStyleModel",
            "_view_count": null,
            "_view_module": "@jupyter-widgets/base",
            "_view_module_version": "1.2.0",
            "_view_name": "StyleView",
            "description_width": ""
          }
        },
        "f009b101d0d148149d3680030ee1dd96": {
          "model_module": "@jupyter-widgets/controls",
          "model_module_version": "1.5.0",
          "model_name": "ProgressStyleModel",
          "state": {
            "_model_module": "@jupyter-widgets/controls",
            "_model_module_version": "1.5.0",
            "_model_name": "ProgressStyleModel",
            "_view_count": null,
            "_view_module": "@jupyter-widgets/base",
            "_view_module_version": "1.2.0",
            "_view_name": "StyleView",
            "bar_color": null,
            "description_width": ""
          }
        },
        "fd7870ec61f84edbafab6491689db851": {
          "model_module": "@jupyter-widgets/base",
          "model_module_version": "1.2.0",
          "model_name": "LayoutModel",
          "state": {
            "_model_module": "@jupyter-widgets/base",
            "_model_module_version": "1.2.0",
            "_model_name": "LayoutModel",
            "_view_count": null,
            "_view_module": "@jupyter-widgets/base",
            "_view_module_version": "1.2.0",
            "_view_name": "LayoutView",
            "align_content": null,
            "align_items": null,
            "align_self": null,
            "border": null,
            "bottom": null,
            "display": null,
            "flex": null,
            "flex_flow": null,
            "grid_area": null,
            "grid_auto_columns": null,
            "grid_auto_flow": null,
            "grid_auto_rows": null,
            "grid_column": null,
            "grid_gap": null,
            "grid_row": null,
            "grid_template_areas": null,
            "grid_template_columns": null,
            "grid_template_rows": null,
            "height": null,
            "justify_content": null,
            "justify_items": null,
            "left": null,
            "margin": null,
            "max_height": null,
            "max_width": null,
            "min_height": null,
            "min_width": null,
            "object_fit": null,
            "object_position": null,
            "order": null,
            "overflow": null,
            "overflow_x": null,
            "overflow_y": null,
            "padding": null,
            "right": null,
            "top": null,
            "visibility": null,
            "width": null
          }
        },
        "146bf73c1c8b492f9607369945050540": {
          "model_module": "@jupyter-widgets/controls",
          "model_name": "HBoxModel",
          "model_module_version": "1.5.0",
          "state": {
            "_dom_classes": [],
            "_model_module": "@jupyter-widgets/controls",
            "_model_module_version": "1.5.0",
            "_model_name": "HBoxModel",
            "_view_count": null,
            "_view_module": "@jupyter-widgets/controls",
            "_view_module_version": "1.5.0",
            "_view_name": "HBoxView",
            "box_style": "",
            "children": [
              "IPY_MODEL_1c84c79ab53e45259b96254946326e8c",
              "IPY_MODEL_f178cf6be54e486fbe3ab654c8247808",
              "IPY_MODEL_5ae4c9d000bb414ca87eb9b0fd110523"
            ],
            "layout": "IPY_MODEL_c4ccaa809c68489c88f60dbb9f5f2bbe"
          }
        },
        "1c84c79ab53e45259b96254946326e8c": {
          "model_module": "@jupyter-widgets/controls",
          "model_name": "HTMLModel",
          "model_module_version": "1.5.0",
          "state": {
            "_dom_classes": [],
            "_model_module": "@jupyter-widgets/controls",
            "_model_module_version": "1.5.0",
            "_model_name": "HTMLModel",
            "_view_count": null,
            "_view_module": "@jupyter-widgets/controls",
            "_view_module_version": "1.5.0",
            "_view_name": "HTMLView",
            "description": "",
            "description_tooltip": null,
            "layout": "IPY_MODEL_e45e208c5d8b4375b9e6a3de14e5fe33",
            "placeholder": "​",
            "style": "IPY_MODEL_ee4380d95e424efb830b4e334d5c0608",
            "value": "Downloading (…)solve/main/vocab.txt: 100%"
          }
        },
        "f178cf6be54e486fbe3ab654c8247808": {
          "model_module": "@jupyter-widgets/controls",
          "model_name": "FloatProgressModel",
          "model_module_version": "1.5.0",
          "state": {
            "_dom_classes": [],
            "_model_module": "@jupyter-widgets/controls",
            "_model_module_version": "1.5.0",
            "_model_name": "FloatProgressModel",
            "_view_count": null,
            "_view_module": "@jupyter-widgets/controls",
            "_view_module_version": "1.5.0",
            "_view_name": "ProgressView",
            "bar_style": "success",
            "description": "",
            "description_tooltip": null,
            "layout": "IPY_MODEL_d14a71903590461da1e2453dc77edbe7",
            "max": 231508,
            "min": 0,
            "orientation": "horizontal",
            "style": "IPY_MODEL_a56c1b7dce7e455fbc42a519db055228",
            "value": 231508
          }
        },
        "5ae4c9d000bb414ca87eb9b0fd110523": {
          "model_module": "@jupyter-widgets/controls",
          "model_name": "HTMLModel",
          "model_module_version": "1.5.0",
          "state": {
            "_dom_classes": [],
            "_model_module": "@jupyter-widgets/controls",
            "_model_module_version": "1.5.0",
            "_model_name": "HTMLModel",
            "_view_count": null,
            "_view_module": "@jupyter-widgets/controls",
            "_view_module_version": "1.5.0",
            "_view_name": "HTMLView",
            "description": "",
            "description_tooltip": null,
            "layout": "IPY_MODEL_cc8904bc1ae4435b99ddfc57a13867d4",
            "placeholder": "​",
            "style": "IPY_MODEL_56c9a82333e74532abfe10d1d9330acc",
            "value": " 232k/232k [00:00&lt;00:00, 4.19MB/s]"
          }
        },
        "c4ccaa809c68489c88f60dbb9f5f2bbe": {
          "model_module": "@jupyter-widgets/base",
          "model_name": "LayoutModel",
          "model_module_version": "1.2.0",
          "state": {
            "_model_module": "@jupyter-widgets/base",
            "_model_module_version": "1.2.0",
            "_model_name": "LayoutModel",
            "_view_count": null,
            "_view_module": "@jupyter-widgets/base",
            "_view_module_version": "1.2.0",
            "_view_name": "LayoutView",
            "align_content": null,
            "align_items": null,
            "align_self": null,
            "border": null,
            "bottom": null,
            "display": null,
            "flex": null,
            "flex_flow": null,
            "grid_area": null,
            "grid_auto_columns": null,
            "grid_auto_flow": null,
            "grid_auto_rows": null,
            "grid_column": null,
            "grid_gap": null,
            "grid_row": null,
            "grid_template_areas": null,
            "grid_template_columns": null,
            "grid_template_rows": null,
            "height": null,
            "justify_content": null,
            "justify_items": null,
            "left": null,
            "margin": null,
            "max_height": null,
            "max_width": null,
            "min_height": null,
            "min_width": null,
            "object_fit": null,
            "object_position": null,
            "order": null,
            "overflow": null,
            "overflow_x": null,
            "overflow_y": null,
            "padding": null,
            "right": null,
            "top": null,
            "visibility": null,
            "width": null
          }
        },
        "e45e208c5d8b4375b9e6a3de14e5fe33": {
          "model_module": "@jupyter-widgets/base",
          "model_name": "LayoutModel",
          "model_module_version": "1.2.0",
          "state": {
            "_model_module": "@jupyter-widgets/base",
            "_model_module_version": "1.2.0",
            "_model_name": "LayoutModel",
            "_view_count": null,
            "_view_module": "@jupyter-widgets/base",
            "_view_module_version": "1.2.0",
            "_view_name": "LayoutView",
            "align_content": null,
            "align_items": null,
            "align_self": null,
            "border": null,
            "bottom": null,
            "display": null,
            "flex": null,
            "flex_flow": null,
            "grid_area": null,
            "grid_auto_columns": null,
            "grid_auto_flow": null,
            "grid_auto_rows": null,
            "grid_column": null,
            "grid_gap": null,
            "grid_row": null,
            "grid_template_areas": null,
            "grid_template_columns": null,
            "grid_template_rows": null,
            "height": null,
            "justify_content": null,
            "justify_items": null,
            "left": null,
            "margin": null,
            "max_height": null,
            "max_width": null,
            "min_height": null,
            "min_width": null,
            "object_fit": null,
            "object_position": null,
            "order": null,
            "overflow": null,
            "overflow_x": null,
            "overflow_y": null,
            "padding": null,
            "right": null,
            "top": null,
            "visibility": null,
            "width": null
          }
        },
        "ee4380d95e424efb830b4e334d5c0608": {
          "model_module": "@jupyter-widgets/controls",
          "model_name": "DescriptionStyleModel",
          "model_module_version": "1.5.0",
          "state": {
            "_model_module": "@jupyter-widgets/controls",
            "_model_module_version": "1.5.0",
            "_model_name": "DescriptionStyleModel",
            "_view_count": null,
            "_view_module": "@jupyter-widgets/base",
            "_view_module_version": "1.2.0",
            "_view_name": "StyleView",
            "description_width": ""
          }
        },
        "d14a71903590461da1e2453dc77edbe7": {
          "model_module": "@jupyter-widgets/base",
          "model_name": "LayoutModel",
          "model_module_version": "1.2.0",
          "state": {
            "_model_module": "@jupyter-widgets/base",
            "_model_module_version": "1.2.0",
            "_model_name": "LayoutModel",
            "_view_count": null,
            "_view_module": "@jupyter-widgets/base",
            "_view_module_version": "1.2.0",
            "_view_name": "LayoutView",
            "align_content": null,
            "align_items": null,
            "align_self": null,
            "border": null,
            "bottom": null,
            "display": null,
            "flex": null,
            "flex_flow": null,
            "grid_area": null,
            "grid_auto_columns": null,
            "grid_auto_flow": null,
            "grid_auto_rows": null,
            "grid_column": null,
            "grid_gap": null,
            "grid_row": null,
            "grid_template_areas": null,
            "grid_template_columns": null,
            "grid_template_rows": null,
            "height": null,
            "justify_content": null,
            "justify_items": null,
            "left": null,
            "margin": null,
            "max_height": null,
            "max_width": null,
            "min_height": null,
            "min_width": null,
            "object_fit": null,
            "object_position": null,
            "order": null,
            "overflow": null,
            "overflow_x": null,
            "overflow_y": null,
            "padding": null,
            "right": null,
            "top": null,
            "visibility": null,
            "width": null
          }
        },
        "a56c1b7dce7e455fbc42a519db055228": {
          "model_module": "@jupyter-widgets/controls",
          "model_name": "ProgressStyleModel",
          "model_module_version": "1.5.0",
          "state": {
            "_model_module": "@jupyter-widgets/controls",
            "_model_module_version": "1.5.0",
            "_model_name": "ProgressStyleModel",
            "_view_count": null,
            "_view_module": "@jupyter-widgets/base",
            "_view_module_version": "1.2.0",
            "_view_name": "StyleView",
            "bar_color": null,
            "description_width": ""
          }
        },
        "cc8904bc1ae4435b99ddfc57a13867d4": {
          "model_module": "@jupyter-widgets/base",
          "model_name": "LayoutModel",
          "model_module_version": "1.2.0",
          "state": {
            "_model_module": "@jupyter-widgets/base",
            "_model_module_version": "1.2.0",
            "_model_name": "LayoutModel",
            "_view_count": null,
            "_view_module": "@jupyter-widgets/base",
            "_view_module_version": "1.2.0",
            "_view_name": "LayoutView",
            "align_content": null,
            "align_items": null,
            "align_self": null,
            "border": null,
            "bottom": null,
            "display": null,
            "flex": null,
            "flex_flow": null,
            "grid_area": null,
            "grid_auto_columns": null,
            "grid_auto_flow": null,
            "grid_auto_rows": null,
            "grid_column": null,
            "grid_gap": null,
            "grid_row": null,
            "grid_template_areas": null,
            "grid_template_columns": null,
            "grid_template_rows": null,
            "height": null,
            "justify_content": null,
            "justify_items": null,
            "left": null,
            "margin": null,
            "max_height": null,
            "max_width": null,
            "min_height": null,
            "min_width": null,
            "object_fit": null,
            "object_position": null,
            "order": null,
            "overflow": null,
            "overflow_x": null,
            "overflow_y": null,
            "padding": null,
            "right": null,
            "top": null,
            "visibility": null,
            "width": null
          }
        },
        "56c9a82333e74532abfe10d1d9330acc": {
          "model_module": "@jupyter-widgets/controls",
          "model_name": "DescriptionStyleModel",
          "model_module_version": "1.5.0",
          "state": {
            "_model_module": "@jupyter-widgets/controls",
            "_model_module_version": "1.5.0",
            "_model_name": "DescriptionStyleModel",
            "_view_count": null,
            "_view_module": "@jupyter-widgets/base",
            "_view_module_version": "1.2.0",
            "_view_name": "StyleView",
            "description_width": ""
          }
        },
        "b9ac6666aa6042259877ddc7ca062af3": {
          "model_module": "@jupyter-widgets/controls",
          "model_name": "HBoxModel",
          "model_module_version": "1.5.0",
          "state": {
            "_dom_classes": [],
            "_model_module": "@jupyter-widgets/controls",
            "_model_module_version": "1.5.0",
            "_model_name": "HBoxModel",
            "_view_count": null,
            "_view_module": "@jupyter-widgets/controls",
            "_view_module_version": "1.5.0",
            "_view_name": "HBoxView",
            "box_style": "",
            "children": [
              "IPY_MODEL_1f52f2940c7a42bc92732951e29d1522",
              "IPY_MODEL_a590ac3ccac642adab3754e39f3bdbea",
              "IPY_MODEL_928978b813814efcbd0d70377160fd42"
            ],
            "layout": "IPY_MODEL_30480c41987040b7a211129b69aef142"
          }
        },
        "1f52f2940c7a42bc92732951e29d1522": {
          "model_module": "@jupyter-widgets/controls",
          "model_name": "HTMLModel",
          "model_module_version": "1.5.0",
          "state": {
            "_dom_classes": [],
            "_model_module": "@jupyter-widgets/controls",
            "_model_module_version": "1.5.0",
            "_model_name": "HTMLModel",
            "_view_count": null,
            "_view_module": "@jupyter-widgets/controls",
            "_view_module_version": "1.5.0",
            "_view_name": "HTMLView",
            "description": "",
            "description_tooltip": null,
            "layout": "IPY_MODEL_f966e7147fc34026aec607b6d84db27d",
            "placeholder": "​",
            "style": "IPY_MODEL_2ba998622aa7444b8b06938969409891",
            "value": "Downloading (…)okenizer_config.json: 100%"
          }
        },
        "a590ac3ccac642adab3754e39f3bdbea": {
          "model_module": "@jupyter-widgets/controls",
          "model_name": "FloatProgressModel",
          "model_module_version": "1.5.0",
          "state": {
            "_dom_classes": [],
            "_model_module": "@jupyter-widgets/controls",
            "_model_module_version": "1.5.0",
            "_model_name": "FloatProgressModel",
            "_view_count": null,
            "_view_module": "@jupyter-widgets/controls",
            "_view_module_version": "1.5.0",
            "_view_name": "ProgressView",
            "bar_style": "success",
            "description": "",
            "description_tooltip": null,
            "layout": "IPY_MODEL_8c603a4db4964d0bbfa3fb23d96d2609",
            "max": 28,
            "min": 0,
            "orientation": "horizontal",
            "style": "IPY_MODEL_cb9da4e0313342e9b17298e281030106",
            "value": 28
          }
        },
        "928978b813814efcbd0d70377160fd42": {
          "model_module": "@jupyter-widgets/controls",
          "model_name": "HTMLModel",
          "model_module_version": "1.5.0",
          "state": {
            "_dom_classes": [],
            "_model_module": "@jupyter-widgets/controls",
            "_model_module_version": "1.5.0",
            "_model_name": "HTMLModel",
            "_view_count": null,
            "_view_module": "@jupyter-widgets/controls",
            "_view_module_version": "1.5.0",
            "_view_name": "HTMLView",
            "description": "",
            "description_tooltip": null,
            "layout": "IPY_MODEL_99f8e0ebf846464b88509d4b13d3095e",
            "placeholder": "​",
            "style": "IPY_MODEL_253b8efbcc76499bae4afb2893f4d177",
            "value": " 28.0/28.0 [00:00&lt;00:00, 2.59kB/s]"
          }
        },
        "30480c41987040b7a211129b69aef142": {
          "model_module": "@jupyter-widgets/base",
          "model_name": "LayoutModel",
          "model_module_version": "1.2.0",
          "state": {
            "_model_module": "@jupyter-widgets/base",
            "_model_module_version": "1.2.0",
            "_model_name": "LayoutModel",
            "_view_count": null,
            "_view_module": "@jupyter-widgets/base",
            "_view_module_version": "1.2.0",
            "_view_name": "LayoutView",
            "align_content": null,
            "align_items": null,
            "align_self": null,
            "border": null,
            "bottom": null,
            "display": null,
            "flex": null,
            "flex_flow": null,
            "grid_area": null,
            "grid_auto_columns": null,
            "grid_auto_flow": null,
            "grid_auto_rows": null,
            "grid_column": null,
            "grid_gap": null,
            "grid_row": null,
            "grid_template_areas": null,
            "grid_template_columns": null,
            "grid_template_rows": null,
            "height": null,
            "justify_content": null,
            "justify_items": null,
            "left": null,
            "margin": null,
            "max_height": null,
            "max_width": null,
            "min_height": null,
            "min_width": null,
            "object_fit": null,
            "object_position": null,
            "order": null,
            "overflow": null,
            "overflow_x": null,
            "overflow_y": null,
            "padding": null,
            "right": null,
            "top": null,
            "visibility": null,
            "width": null
          }
        },
        "f966e7147fc34026aec607b6d84db27d": {
          "model_module": "@jupyter-widgets/base",
          "model_name": "LayoutModel",
          "model_module_version": "1.2.0",
          "state": {
            "_model_module": "@jupyter-widgets/base",
            "_model_module_version": "1.2.0",
            "_model_name": "LayoutModel",
            "_view_count": null,
            "_view_module": "@jupyter-widgets/base",
            "_view_module_version": "1.2.0",
            "_view_name": "LayoutView",
            "align_content": null,
            "align_items": null,
            "align_self": null,
            "border": null,
            "bottom": null,
            "display": null,
            "flex": null,
            "flex_flow": null,
            "grid_area": null,
            "grid_auto_columns": null,
            "grid_auto_flow": null,
            "grid_auto_rows": null,
            "grid_column": null,
            "grid_gap": null,
            "grid_row": null,
            "grid_template_areas": null,
            "grid_template_columns": null,
            "grid_template_rows": null,
            "height": null,
            "justify_content": null,
            "justify_items": null,
            "left": null,
            "margin": null,
            "max_height": null,
            "max_width": null,
            "min_height": null,
            "min_width": null,
            "object_fit": null,
            "object_position": null,
            "order": null,
            "overflow": null,
            "overflow_x": null,
            "overflow_y": null,
            "padding": null,
            "right": null,
            "top": null,
            "visibility": null,
            "width": null
          }
        },
        "2ba998622aa7444b8b06938969409891": {
          "model_module": "@jupyter-widgets/controls",
          "model_name": "DescriptionStyleModel",
          "model_module_version": "1.5.0",
          "state": {
            "_model_module": "@jupyter-widgets/controls",
            "_model_module_version": "1.5.0",
            "_model_name": "DescriptionStyleModel",
            "_view_count": null,
            "_view_module": "@jupyter-widgets/base",
            "_view_module_version": "1.2.0",
            "_view_name": "StyleView",
            "description_width": ""
          }
        },
        "8c603a4db4964d0bbfa3fb23d96d2609": {
          "model_module": "@jupyter-widgets/base",
          "model_name": "LayoutModel",
          "model_module_version": "1.2.0",
          "state": {
            "_model_module": "@jupyter-widgets/base",
            "_model_module_version": "1.2.0",
            "_model_name": "LayoutModel",
            "_view_count": null,
            "_view_module": "@jupyter-widgets/base",
            "_view_module_version": "1.2.0",
            "_view_name": "LayoutView",
            "align_content": null,
            "align_items": null,
            "align_self": null,
            "border": null,
            "bottom": null,
            "display": null,
            "flex": null,
            "flex_flow": null,
            "grid_area": null,
            "grid_auto_columns": null,
            "grid_auto_flow": null,
            "grid_auto_rows": null,
            "grid_column": null,
            "grid_gap": null,
            "grid_row": null,
            "grid_template_areas": null,
            "grid_template_columns": null,
            "grid_template_rows": null,
            "height": null,
            "justify_content": null,
            "justify_items": null,
            "left": null,
            "margin": null,
            "max_height": null,
            "max_width": null,
            "min_height": null,
            "min_width": null,
            "object_fit": null,
            "object_position": null,
            "order": null,
            "overflow": null,
            "overflow_x": null,
            "overflow_y": null,
            "padding": null,
            "right": null,
            "top": null,
            "visibility": null,
            "width": null
          }
        },
        "cb9da4e0313342e9b17298e281030106": {
          "model_module": "@jupyter-widgets/controls",
          "model_name": "ProgressStyleModel",
          "model_module_version": "1.5.0",
          "state": {
            "_model_module": "@jupyter-widgets/controls",
            "_model_module_version": "1.5.0",
            "_model_name": "ProgressStyleModel",
            "_view_count": null,
            "_view_module": "@jupyter-widgets/base",
            "_view_module_version": "1.2.0",
            "_view_name": "StyleView",
            "bar_color": null,
            "description_width": ""
          }
        },
        "99f8e0ebf846464b88509d4b13d3095e": {
          "model_module": "@jupyter-widgets/base",
          "model_name": "LayoutModel",
          "model_module_version": "1.2.0",
          "state": {
            "_model_module": "@jupyter-widgets/base",
            "_model_module_version": "1.2.0",
            "_model_name": "LayoutModel",
            "_view_count": null,
            "_view_module": "@jupyter-widgets/base",
            "_view_module_version": "1.2.0",
            "_view_name": "LayoutView",
            "align_content": null,
            "align_items": null,
            "align_self": null,
            "border": null,
            "bottom": null,
            "display": null,
            "flex": null,
            "flex_flow": null,
            "grid_area": null,
            "grid_auto_columns": null,
            "grid_auto_flow": null,
            "grid_auto_rows": null,
            "grid_column": null,
            "grid_gap": null,
            "grid_row": null,
            "grid_template_areas": null,
            "grid_template_columns": null,
            "grid_template_rows": null,
            "height": null,
            "justify_content": null,
            "justify_items": null,
            "left": null,
            "margin": null,
            "max_height": null,
            "max_width": null,
            "min_height": null,
            "min_width": null,
            "object_fit": null,
            "object_position": null,
            "order": null,
            "overflow": null,
            "overflow_x": null,
            "overflow_y": null,
            "padding": null,
            "right": null,
            "top": null,
            "visibility": null,
            "width": null
          }
        },
        "253b8efbcc76499bae4afb2893f4d177": {
          "model_module": "@jupyter-widgets/controls",
          "model_name": "DescriptionStyleModel",
          "model_module_version": "1.5.0",
          "state": {
            "_model_module": "@jupyter-widgets/controls",
            "_model_module_version": "1.5.0",
            "_model_name": "DescriptionStyleModel",
            "_view_count": null,
            "_view_module": "@jupyter-widgets/base",
            "_view_module_version": "1.2.0",
            "_view_name": "StyleView",
            "description_width": ""
          }
        },
        "1cabb17617a74dc2b448fae99e2d0c3f": {
          "model_module": "@jupyter-widgets/controls",
          "model_name": "HBoxModel",
          "model_module_version": "1.5.0",
          "state": {
            "_dom_classes": [],
            "_model_module": "@jupyter-widgets/controls",
            "_model_module_version": "1.5.0",
            "_model_name": "HBoxModel",
            "_view_count": null,
            "_view_module": "@jupyter-widgets/controls",
            "_view_module_version": "1.5.0",
            "_view_name": "HBoxView",
            "box_style": "",
            "children": [
              "IPY_MODEL_199d8dcff3fe42d9b821ba291be6776a",
              "IPY_MODEL_239f765d942a43078e92d94eb5e0f026",
              "IPY_MODEL_b76fc845504249b6a06a1f88a542ca32"
            ],
            "layout": "IPY_MODEL_f9fa3d051ec84ffeb9305d7307780125"
          }
        },
        "199d8dcff3fe42d9b821ba291be6776a": {
          "model_module": "@jupyter-widgets/controls",
          "model_name": "HTMLModel",
          "model_module_version": "1.5.0",
          "state": {
            "_dom_classes": [],
            "_model_module": "@jupyter-widgets/controls",
            "_model_module_version": "1.5.0",
            "_model_name": "HTMLModel",
            "_view_count": null,
            "_view_module": "@jupyter-widgets/controls",
            "_view_module_version": "1.5.0",
            "_view_name": "HTMLView",
            "description": "",
            "description_tooltip": null,
            "layout": "IPY_MODEL_2e2f37e40d4248a286d66a648ec8b921",
            "placeholder": "​",
            "style": "IPY_MODEL_d7350bbeb54d4ff4ad6ba049b48f48af",
            "value": "Downloading (…)lve/main/config.json: 100%"
          }
        },
        "239f765d942a43078e92d94eb5e0f026": {
          "model_module": "@jupyter-widgets/controls",
          "model_name": "FloatProgressModel",
          "model_module_version": "1.5.0",
          "state": {
            "_dom_classes": [],
            "_model_module": "@jupyter-widgets/controls",
            "_model_module_version": "1.5.0",
            "_model_name": "FloatProgressModel",
            "_view_count": null,
            "_view_module": "@jupyter-widgets/controls",
            "_view_module_version": "1.5.0",
            "_view_name": "ProgressView",
            "bar_style": "success",
            "description": "",
            "description_tooltip": null,
            "layout": "IPY_MODEL_56316cb4e61c46998d0b9d750aec073d",
            "max": 570,
            "min": 0,
            "orientation": "horizontal",
            "style": "IPY_MODEL_5e45b3ddfe694423a4b276f5de7cf6e5",
            "value": 570
          }
        },
        "b76fc845504249b6a06a1f88a542ca32": {
          "model_module": "@jupyter-widgets/controls",
          "model_name": "HTMLModel",
          "model_module_version": "1.5.0",
          "state": {
            "_dom_classes": [],
            "_model_module": "@jupyter-widgets/controls",
            "_model_module_version": "1.5.0",
            "_model_name": "HTMLModel",
            "_view_count": null,
            "_view_module": "@jupyter-widgets/controls",
            "_view_module_version": "1.5.0",
            "_view_name": "HTMLView",
            "description": "",
            "description_tooltip": null,
            "layout": "IPY_MODEL_5804cd9fdf0e463ca1bc49f19bf7f9e9",
            "placeholder": "​",
            "style": "IPY_MODEL_448f0e42069044709111d44b2c83f614",
            "value": " 570/570 [00:00&lt;00:00, 50.0kB/s]"
          }
        },
        "f9fa3d051ec84ffeb9305d7307780125": {
          "model_module": "@jupyter-widgets/base",
          "model_name": "LayoutModel",
          "model_module_version": "1.2.0",
          "state": {
            "_model_module": "@jupyter-widgets/base",
            "_model_module_version": "1.2.0",
            "_model_name": "LayoutModel",
            "_view_count": null,
            "_view_module": "@jupyter-widgets/base",
            "_view_module_version": "1.2.0",
            "_view_name": "LayoutView",
            "align_content": null,
            "align_items": null,
            "align_self": null,
            "border": null,
            "bottom": null,
            "display": null,
            "flex": null,
            "flex_flow": null,
            "grid_area": null,
            "grid_auto_columns": null,
            "grid_auto_flow": null,
            "grid_auto_rows": null,
            "grid_column": null,
            "grid_gap": null,
            "grid_row": null,
            "grid_template_areas": null,
            "grid_template_columns": null,
            "grid_template_rows": null,
            "height": null,
            "justify_content": null,
            "justify_items": null,
            "left": null,
            "margin": null,
            "max_height": null,
            "max_width": null,
            "min_height": null,
            "min_width": null,
            "object_fit": null,
            "object_position": null,
            "order": null,
            "overflow": null,
            "overflow_x": null,
            "overflow_y": null,
            "padding": null,
            "right": null,
            "top": null,
            "visibility": null,
            "width": null
          }
        },
        "2e2f37e40d4248a286d66a648ec8b921": {
          "model_module": "@jupyter-widgets/base",
          "model_name": "LayoutModel",
          "model_module_version": "1.2.0",
          "state": {
            "_model_module": "@jupyter-widgets/base",
            "_model_module_version": "1.2.0",
            "_model_name": "LayoutModel",
            "_view_count": null,
            "_view_module": "@jupyter-widgets/base",
            "_view_module_version": "1.2.0",
            "_view_name": "LayoutView",
            "align_content": null,
            "align_items": null,
            "align_self": null,
            "border": null,
            "bottom": null,
            "display": null,
            "flex": null,
            "flex_flow": null,
            "grid_area": null,
            "grid_auto_columns": null,
            "grid_auto_flow": null,
            "grid_auto_rows": null,
            "grid_column": null,
            "grid_gap": null,
            "grid_row": null,
            "grid_template_areas": null,
            "grid_template_columns": null,
            "grid_template_rows": null,
            "height": null,
            "justify_content": null,
            "justify_items": null,
            "left": null,
            "margin": null,
            "max_height": null,
            "max_width": null,
            "min_height": null,
            "min_width": null,
            "object_fit": null,
            "object_position": null,
            "order": null,
            "overflow": null,
            "overflow_x": null,
            "overflow_y": null,
            "padding": null,
            "right": null,
            "top": null,
            "visibility": null,
            "width": null
          }
        },
        "d7350bbeb54d4ff4ad6ba049b48f48af": {
          "model_module": "@jupyter-widgets/controls",
          "model_name": "DescriptionStyleModel",
          "model_module_version": "1.5.0",
          "state": {
            "_model_module": "@jupyter-widgets/controls",
            "_model_module_version": "1.5.0",
            "_model_name": "DescriptionStyleModel",
            "_view_count": null,
            "_view_module": "@jupyter-widgets/base",
            "_view_module_version": "1.2.0",
            "_view_name": "StyleView",
            "description_width": ""
          }
        },
        "56316cb4e61c46998d0b9d750aec073d": {
          "model_module": "@jupyter-widgets/base",
          "model_name": "LayoutModel",
          "model_module_version": "1.2.0",
          "state": {
            "_model_module": "@jupyter-widgets/base",
            "_model_module_version": "1.2.0",
            "_model_name": "LayoutModel",
            "_view_count": null,
            "_view_module": "@jupyter-widgets/base",
            "_view_module_version": "1.2.0",
            "_view_name": "LayoutView",
            "align_content": null,
            "align_items": null,
            "align_self": null,
            "border": null,
            "bottom": null,
            "display": null,
            "flex": null,
            "flex_flow": null,
            "grid_area": null,
            "grid_auto_columns": null,
            "grid_auto_flow": null,
            "grid_auto_rows": null,
            "grid_column": null,
            "grid_gap": null,
            "grid_row": null,
            "grid_template_areas": null,
            "grid_template_columns": null,
            "grid_template_rows": null,
            "height": null,
            "justify_content": null,
            "justify_items": null,
            "left": null,
            "margin": null,
            "max_height": null,
            "max_width": null,
            "min_height": null,
            "min_width": null,
            "object_fit": null,
            "object_position": null,
            "order": null,
            "overflow": null,
            "overflow_x": null,
            "overflow_y": null,
            "padding": null,
            "right": null,
            "top": null,
            "visibility": null,
            "width": null
          }
        },
        "5e45b3ddfe694423a4b276f5de7cf6e5": {
          "model_module": "@jupyter-widgets/controls",
          "model_name": "ProgressStyleModel",
          "model_module_version": "1.5.0",
          "state": {
            "_model_module": "@jupyter-widgets/controls",
            "_model_module_version": "1.5.0",
            "_model_name": "ProgressStyleModel",
            "_view_count": null,
            "_view_module": "@jupyter-widgets/base",
            "_view_module_version": "1.2.0",
            "_view_name": "StyleView",
            "bar_color": null,
            "description_width": ""
          }
        },
        "5804cd9fdf0e463ca1bc49f19bf7f9e9": {
          "model_module": "@jupyter-widgets/base",
          "model_name": "LayoutModel",
          "model_module_version": "1.2.0",
          "state": {
            "_model_module": "@jupyter-widgets/base",
            "_model_module_version": "1.2.0",
            "_model_name": "LayoutModel",
            "_view_count": null,
            "_view_module": "@jupyter-widgets/base",
            "_view_module_version": "1.2.0",
            "_view_name": "LayoutView",
            "align_content": null,
            "align_items": null,
            "align_self": null,
            "border": null,
            "bottom": null,
            "display": null,
            "flex": null,
            "flex_flow": null,
            "grid_area": null,
            "grid_auto_columns": null,
            "grid_auto_flow": null,
            "grid_auto_rows": null,
            "grid_column": null,
            "grid_gap": null,
            "grid_row": null,
            "grid_template_areas": null,
            "grid_template_columns": null,
            "grid_template_rows": null,
            "height": null,
            "justify_content": null,
            "justify_items": null,
            "left": null,
            "margin": null,
            "max_height": null,
            "max_width": null,
            "min_height": null,
            "min_width": null,
            "object_fit": null,
            "object_position": null,
            "order": null,
            "overflow": null,
            "overflow_x": null,
            "overflow_y": null,
            "padding": null,
            "right": null,
            "top": null,
            "visibility": null,
            "width": null
          }
        },
        "448f0e42069044709111d44b2c83f614": {
          "model_module": "@jupyter-widgets/controls",
          "model_name": "DescriptionStyleModel",
          "model_module_version": "1.5.0",
          "state": {
            "_model_module": "@jupyter-widgets/controls",
            "_model_module_version": "1.5.0",
            "_model_name": "DescriptionStyleModel",
            "_view_count": null,
            "_view_module": "@jupyter-widgets/base",
            "_view_module_version": "1.2.0",
            "_view_name": "StyleView",
            "description_width": ""
          }
        }
      }
    }
  },
  "nbformat": 4,
  "nbformat_minor": 5
}