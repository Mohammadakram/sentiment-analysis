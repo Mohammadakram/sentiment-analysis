{
  "cells": [
    {
      "cell_type": "code",
      "execution_count": null,
      "metadata": {
        "colab": {
          "base_uri": "https://localhost:8080/"
        },
        "id": "6pTNOOd0yNU9",
        "outputId": "59e79f42-1c03-42c4-eaca-657e84bd54e0"
      },
      "outputs": [
        {
          "output_type": "stream",
          "name": "stdout",
          "text": [
            "Collecting transformers\n",
            "  Downloading transformers-4.33.1-py3-none-any.whl (7.6 MB)\n",
            "\u001b[2K     \u001b[90m━━━━━━━━━━━━━━━━━━━━━━━━━━━━━━━━━━━━━━━━\u001b[0m \u001b[32m7.6/7.6 MB\u001b[0m \u001b[31m58.9 MB/s\u001b[0m eta \u001b[36m0:00:00\u001b[0m\n",
            "\u001b[?25hRequirement already satisfied: filelock in /usr/local/lib/python3.10/dist-packages (from transformers) (3.12.2)\n",
            "Collecting huggingface-hub<1.0,>=0.15.1 (from transformers)\n",
            "  Downloading huggingface_hub-0.16.4-py3-none-any.whl (268 kB)\n",
            "\u001b[2K     \u001b[90m━━━━━━━━━━━━━━━━━━━━━━━━━━━━━━━━━━━━━━\u001b[0m \u001b[32m268.8/268.8 kB\u001b[0m \u001b[31m31.8 MB/s\u001b[0m eta \u001b[36m0:00:00\u001b[0m\n",
            "\u001b[?25hRequirement already satisfied: numpy>=1.17 in /usr/local/lib/python3.10/dist-packages (from transformers) (1.23.5)\n",
            "Requirement already satisfied: packaging>=20.0 in /usr/local/lib/python3.10/dist-packages (from transformers) (23.1)\n",
            "Requirement already satisfied: pyyaml>=5.1 in /usr/local/lib/python3.10/dist-packages (from transformers) (6.0.1)\n",
            "Requirement already satisfied: regex!=2019.12.17 in /usr/local/lib/python3.10/dist-packages (from transformers) (2023.6.3)\n",
            "Requirement already satisfied: requests in /usr/local/lib/python3.10/dist-packages (from transformers) (2.31.0)\n",
            "Collecting tokenizers!=0.11.3,<0.14,>=0.11.1 (from transformers)\n",
            "  Downloading tokenizers-0.13.3-cp310-cp310-manylinux_2_17_x86_64.manylinux2014_x86_64.whl (7.8 MB)\n",
            "\u001b[2K     \u001b[90m━━━━━━━━━━━━━━━━━━━━━━━━━━━━━━━━━━━━━━━━\u001b[0m \u001b[32m7.8/7.8 MB\u001b[0m \u001b[31m114.4 MB/s\u001b[0m eta \u001b[36m0:00:00\u001b[0m\n",
            "\u001b[?25hCollecting safetensors>=0.3.1 (from transformers)\n",
            "  Downloading safetensors-0.3.3-cp310-cp310-manylinux_2_17_x86_64.manylinux2014_x86_64.whl (1.3 MB)\n",
            "\u001b[2K     \u001b[90m━━━━━━━━━━━━━━━━━━━━━━━━━━━━━━━━━━━━━━━━\u001b[0m \u001b[32m1.3/1.3 MB\u001b[0m \u001b[31m82.7 MB/s\u001b[0m eta \u001b[36m0:00:00\u001b[0m\n",
            "\u001b[?25hRequirement already satisfied: tqdm>=4.27 in /usr/local/lib/python3.10/dist-packages (from transformers) (4.66.1)\n",
            "Requirement already satisfied: fsspec in /usr/local/lib/python3.10/dist-packages (from huggingface-hub<1.0,>=0.15.1->transformers) (2023.6.0)\n",
            "Requirement already satisfied: typing-extensions>=3.7.4.3 in /usr/local/lib/python3.10/dist-packages (from huggingface-hub<1.0,>=0.15.1->transformers) (4.5.0)\n",
            "Requirement already satisfied: charset-normalizer<4,>=2 in /usr/local/lib/python3.10/dist-packages (from requests->transformers) (3.2.0)\n",
            "Requirement already satisfied: idna<4,>=2.5 in /usr/local/lib/python3.10/dist-packages (from requests->transformers) (3.4)\n",
            "Requirement already satisfied: urllib3<3,>=1.21.1 in /usr/local/lib/python3.10/dist-packages (from requests->transformers) (2.0.4)\n",
            "Requirement already satisfied: certifi>=2017.4.17 in /usr/local/lib/python3.10/dist-packages (from requests->transformers) (2023.7.22)\n",
            "Installing collected packages: tokenizers, safetensors, huggingface-hub, transformers\n",
            "Successfully installed huggingface-hub-0.16.4 safetensors-0.3.3 tokenizers-0.13.3 transformers-4.33.1\n"
          ]
        }
      ],
      "source": [
        "pip install transformers"
      ],
      "id": "6pTNOOd0yNU9"
    },
    {
      "cell_type": "code",
      "execution_count": null,
      "metadata": {
        "id": "2c9d64ac"
      },
      "outputs": [],
      "source": [
        "#importing all the essential libraries\n",
        "import pandas as pd\n",
        "from sklearn.model_selection import train_test_split\n",
        "from google.colab import drive\n",
        "import matplotlib.pyplot as plt\n",
        "import re #for data pre-processing\n",
        "import unicodedata #library for data pre-processing\n",
        "from transformers import BertTokenizer, BertForSequenceClassification, BertConfig, BertModel\n",
        "import torch\n",
        "import torch.nn as nn\n",
        "import torch.optim as optim\n",
        "import torch.optim.lr_scheduler as lr_scheduler\n",
        "from torch.utils.data import DataLoader, TensorDataset\n",
        "from sklearn.metrics import accuracy_score, classification_report, confusion_matrix"
      ],
      "id": "2c9d64ac"
    },
    {
      "cell_type": "code",
      "execution_count": null,
      "metadata": {
        "colab": {
          "base_uri": "https://localhost:8080/"
        },
        "id": "S8wckJC6jhOZ",
        "outputId": "f422159c-9809-4525-ceaf-89534f9d1438"
      },
      "outputs": [
        {
          "output_type": "stream",
          "name": "stdout",
          "text": [
            "Mounted at /content/drive\n"
          ]
        }
      ],
      "source": [
        "#mounting drive to collab\n",
        "drive.mount('/content/drive')"
      ],
      "id": "S8wckJC6jhOZ"
    },
    {
      "cell_type": "code",
      "execution_count": null,
      "metadata": {
        "id": "HXCbexQYjff8"
      },
      "outputs": [],
      "source": [
        "#Reading file from drive\n",
        "df = pd.read_csv('/content/drive/MyDrive/Colab Notebooks/IMDB_Dataset.csv')"
      ],
      "id": "HXCbexQYjff8"
    },
    {
      "cell_type": "code",
      "execution_count": null,
      "metadata": {
        "colab": {
          "base_uri": "https://localhost:8080/",
          "height": 206
        },
        "id": "9a90d8c5",
        "outputId": "f389445b-b583-4ac6-b8d3-8976a2794e56"
      },
      "outputs": [
        {
          "output_type": "execute_result",
          "data": {
            "text/plain": [
              "                                              review sentiment\n",
              "0  One of the other reviewers has mentioned that ...  positive\n",
              "1  A wonderful little production. <br /><br />The...  positive\n",
              "2  I thought this was a wonderful way to spend ti...  positive\n",
              "3  Basically there's a family where a little boy ...  negative\n",
              "4  Petter Mattei's \"Love in the Time of Money\" is...  positive"
            ],
            "text/html": [
              "\n",
              "  <div id=\"df-a390c4e6-3cd9-4430-87d1-64bc2911b9ac\" class=\"colab-df-container\">\n",
              "    <div>\n",
              "<style scoped>\n",
              "    .dataframe tbody tr th:only-of-type {\n",
              "        vertical-align: middle;\n",
              "    }\n",
              "\n",
              "    .dataframe tbody tr th {\n",
              "        vertical-align: top;\n",
              "    }\n",
              "\n",
              "    .dataframe thead th {\n",
              "        text-align: right;\n",
              "    }\n",
              "</style>\n",
              "<table border=\"1\" class=\"dataframe\">\n",
              "  <thead>\n",
              "    <tr style=\"text-align: right;\">\n",
              "      <th></th>\n",
              "      <th>review</th>\n",
              "      <th>sentiment</th>\n",
              "    </tr>\n",
              "  </thead>\n",
              "  <tbody>\n",
              "    <tr>\n",
              "      <th>0</th>\n",
              "      <td>One of the other reviewers has mentioned that ...</td>\n",
              "      <td>positive</td>\n",
              "    </tr>\n",
              "    <tr>\n",
              "      <th>1</th>\n",
              "      <td>A wonderful little production. &lt;br /&gt;&lt;br /&gt;The...</td>\n",
              "      <td>positive</td>\n",
              "    </tr>\n",
              "    <tr>\n",
              "      <th>2</th>\n",
              "      <td>I thought this was a wonderful way to spend ti...</td>\n",
              "      <td>positive</td>\n",
              "    </tr>\n",
              "    <tr>\n",
              "      <th>3</th>\n",
              "      <td>Basically there's a family where a little boy ...</td>\n",
              "      <td>negative</td>\n",
              "    </tr>\n",
              "    <tr>\n",
              "      <th>4</th>\n",
              "      <td>Petter Mattei's \"Love in the Time of Money\" is...</td>\n",
              "      <td>positive</td>\n",
              "    </tr>\n",
              "  </tbody>\n",
              "</table>\n",
              "</div>\n",
              "    <div class=\"colab-df-buttons\">\n",
              "\n",
              "  <div class=\"colab-df-container\">\n",
              "    <button class=\"colab-df-convert\" onclick=\"convertToInteractive('df-a390c4e6-3cd9-4430-87d1-64bc2911b9ac')\"\n",
              "            title=\"Convert this dataframe to an interactive table.\"\n",
              "            style=\"display:none;\">\n",
              "\n",
              "  <svg xmlns=\"http://www.w3.org/2000/svg\" height=\"24px\" viewBox=\"0 -960 960 960\">\n",
              "    <path d=\"M120-120v-720h720v720H120Zm60-500h600v-160H180v160Zm220 220h160v-160H400v160Zm0 220h160v-160H400v160ZM180-400h160v-160H180v160Zm440 0h160v-160H620v160ZM180-180h160v-160H180v160Zm440 0h160v-160H620v160Z\"/>\n",
              "  </svg>\n",
              "    </button>\n",
              "\n",
              "  <style>\n",
              "    .colab-df-container {\n",
              "      display:flex;\n",
              "      gap: 12px;\n",
              "    }\n",
              "\n",
              "    .colab-df-convert {\n",
              "      background-color: #E8F0FE;\n",
              "      border: none;\n",
              "      border-radius: 50%;\n",
              "      cursor: pointer;\n",
              "      display: none;\n",
              "      fill: #1967D2;\n",
              "      height: 32px;\n",
              "      padding: 0 0 0 0;\n",
              "      width: 32px;\n",
              "    }\n",
              "\n",
              "    .colab-df-convert:hover {\n",
              "      background-color: #E2EBFA;\n",
              "      box-shadow: 0px 1px 2px rgba(60, 64, 67, 0.3), 0px 1px 3px 1px rgba(60, 64, 67, 0.15);\n",
              "      fill: #174EA6;\n",
              "    }\n",
              "\n",
              "    .colab-df-buttons div {\n",
              "      margin-bottom: 4px;\n",
              "    }\n",
              "\n",
              "    [theme=dark] .colab-df-convert {\n",
              "      background-color: #3B4455;\n",
              "      fill: #D2E3FC;\n",
              "    }\n",
              "\n",
              "    [theme=dark] .colab-df-convert:hover {\n",
              "      background-color: #434B5C;\n",
              "      box-shadow: 0px 1px 3px 1px rgba(0, 0, 0, 0.15);\n",
              "      filter: drop-shadow(0px 1px 2px rgba(0, 0, 0, 0.3));\n",
              "      fill: #FFFFFF;\n",
              "    }\n",
              "  </style>\n",
              "\n",
              "    <script>\n",
              "      const buttonEl =\n",
              "        document.querySelector('#df-a390c4e6-3cd9-4430-87d1-64bc2911b9ac button.colab-df-convert');\n",
              "      buttonEl.style.display =\n",
              "        google.colab.kernel.accessAllowed ? 'block' : 'none';\n",
              "\n",
              "      async function convertToInteractive(key) {\n",
              "        const element = document.querySelector('#df-a390c4e6-3cd9-4430-87d1-64bc2911b9ac');\n",
              "        const dataTable =\n",
              "          await google.colab.kernel.invokeFunction('convertToInteractive',\n",
              "                                                    [key], {});\n",
              "        if (!dataTable) return;\n",
              "\n",
              "        const docLinkHtml = 'Like what you see? Visit the ' +\n",
              "          '<a target=\"_blank\" href=https://colab.research.google.com/notebooks/data_table.ipynb>data table notebook</a>'\n",
              "          + ' to learn more about interactive tables.';\n",
              "        element.innerHTML = '';\n",
              "        dataTable['output_type'] = 'display_data';\n",
              "        await google.colab.output.renderOutput(dataTable, element);\n",
              "        const docLink = document.createElement('div');\n",
              "        docLink.innerHTML = docLinkHtml;\n",
              "        element.appendChild(docLink);\n",
              "      }\n",
              "    </script>\n",
              "  </div>\n",
              "\n",
              "\n",
              "<div id=\"df-92ecabf3-ac74-442b-8fe4-3ccafec4a114\">\n",
              "  <button class=\"colab-df-quickchart\" onclick=\"quickchart('df-92ecabf3-ac74-442b-8fe4-3ccafec4a114')\"\n",
              "            title=\"Suggest charts.\"\n",
              "            style=\"display:none;\">\n",
              "\n",
              "<svg xmlns=\"http://www.w3.org/2000/svg\" height=\"24px\"viewBox=\"0 0 24 24\"\n",
              "     width=\"24px\">\n",
              "    <g>\n",
              "        <path d=\"M19 3H5c-1.1 0-2 .9-2 2v14c0 1.1.9 2 2 2h14c1.1 0 2-.9 2-2V5c0-1.1-.9-2-2-2zM9 17H7v-7h2v7zm4 0h-2V7h2v10zm4 0h-2v-4h2v4z\"/>\n",
              "    </g>\n",
              "</svg>\n",
              "  </button>\n",
              "\n",
              "<style>\n",
              "  .colab-df-quickchart {\n",
              "      --bg-color: #E8F0FE;\n",
              "      --fill-color: #1967D2;\n",
              "      --hover-bg-color: #E2EBFA;\n",
              "      --hover-fill-color: #174EA6;\n",
              "      --disabled-fill-color: #AAA;\n",
              "      --disabled-bg-color: #DDD;\n",
              "  }\n",
              "\n",
              "  [theme=dark] .colab-df-quickchart {\n",
              "      --bg-color: #3B4455;\n",
              "      --fill-color: #D2E3FC;\n",
              "      --hover-bg-color: #434B5C;\n",
              "      --hover-fill-color: #FFFFFF;\n",
              "      --disabled-bg-color: #3B4455;\n",
              "      --disabled-fill-color: #666;\n",
              "  }\n",
              "\n",
              "  .colab-df-quickchart {\n",
              "    background-color: var(--bg-color);\n",
              "    border: none;\n",
              "    border-radius: 50%;\n",
              "    cursor: pointer;\n",
              "    display: none;\n",
              "    fill: var(--fill-color);\n",
              "    height: 32px;\n",
              "    padding: 0;\n",
              "    width: 32px;\n",
              "  }\n",
              "\n",
              "  .colab-df-quickchart:hover {\n",
              "    background-color: var(--hover-bg-color);\n",
              "    box-shadow: 0 1px 2px rgba(60, 64, 67, 0.3), 0 1px 3px 1px rgba(60, 64, 67, 0.15);\n",
              "    fill: var(--button-hover-fill-color);\n",
              "  }\n",
              "\n",
              "  .colab-df-quickchart-complete:disabled,\n",
              "  .colab-df-quickchart-complete:disabled:hover {\n",
              "    background-color: var(--disabled-bg-color);\n",
              "    fill: var(--disabled-fill-color);\n",
              "    box-shadow: none;\n",
              "  }\n",
              "\n",
              "  .colab-df-spinner {\n",
              "    border: 2px solid var(--fill-color);\n",
              "    border-color: transparent;\n",
              "    border-bottom-color: var(--fill-color);\n",
              "    animation:\n",
              "      spin 1s steps(1) infinite;\n",
              "  }\n",
              "\n",
              "  @keyframes spin {\n",
              "    0% {\n",
              "      border-color: transparent;\n",
              "      border-bottom-color: var(--fill-color);\n",
              "      border-left-color: var(--fill-color);\n",
              "    }\n",
              "    20% {\n",
              "      border-color: transparent;\n",
              "      border-left-color: var(--fill-color);\n",
              "      border-top-color: var(--fill-color);\n",
              "    }\n",
              "    30% {\n",
              "      border-color: transparent;\n",
              "      border-left-color: var(--fill-color);\n",
              "      border-top-color: var(--fill-color);\n",
              "      border-right-color: var(--fill-color);\n",
              "    }\n",
              "    40% {\n",
              "      border-color: transparent;\n",
              "      border-right-color: var(--fill-color);\n",
              "      border-top-color: var(--fill-color);\n",
              "    }\n",
              "    60% {\n",
              "      border-color: transparent;\n",
              "      border-right-color: var(--fill-color);\n",
              "    }\n",
              "    80% {\n",
              "      border-color: transparent;\n",
              "      border-right-color: var(--fill-color);\n",
              "      border-bottom-color: var(--fill-color);\n",
              "    }\n",
              "    90% {\n",
              "      border-color: transparent;\n",
              "      border-bottom-color: var(--fill-color);\n",
              "    }\n",
              "  }\n",
              "</style>\n",
              "\n",
              "  <script>\n",
              "    async function quickchart(key) {\n",
              "      const quickchartButtonEl =\n",
              "        document.querySelector('#' + key + ' button');\n",
              "      quickchartButtonEl.disabled = true;  // To prevent multiple clicks.\n",
              "      quickchartButtonEl.classList.add('colab-df-spinner');\n",
              "      try {\n",
              "        const charts = await google.colab.kernel.invokeFunction(\n",
              "            'suggestCharts', [key], {});\n",
              "      } catch (error) {\n",
              "        console.error('Error during call to suggestCharts:', error);\n",
              "      }\n",
              "      quickchartButtonEl.classList.remove('colab-df-spinner');\n",
              "      quickchartButtonEl.classList.add('colab-df-quickchart-complete');\n",
              "    }\n",
              "    (() => {\n",
              "      let quickchartButtonEl =\n",
              "        document.querySelector('#df-92ecabf3-ac74-442b-8fe4-3ccafec4a114 button');\n",
              "      quickchartButtonEl.style.display =\n",
              "        google.colab.kernel.accessAllowed ? 'block' : 'none';\n",
              "    })();\n",
              "  </script>\n",
              "</div>\n",
              "    </div>\n",
              "  </div>\n"
            ]
          },
          "metadata": {},
          "execution_count": 5
        }
      ],
      "source": [
        "#Printing top 5 rows\n",
        "df.head()"
      ],
      "id": "9a90d8c5"
    },
    {
      "cell_type": "code",
      "execution_count": null,
      "metadata": {
        "colab": {
          "base_uri": "https://localhost:8080/"
        },
        "id": "17b1641f",
        "outputId": "d14ccf5b-16f1-4ffb-eac0-474fe492f13c"
      },
      "outputs": [
        {
          "output_type": "execute_result",
          "data": {
            "text/plain": [
              "0        False\n",
              "1        False\n",
              "2        False\n",
              "3        False\n",
              "4        False\n",
              "         ...  \n",
              "49995    False\n",
              "49996    False\n",
              "49997    False\n",
              "49998    False\n",
              "49999    False\n",
              "Name: sentiment, Length: 50000, dtype: bool"
            ]
          },
          "metadata": {},
          "execution_count": 6
        }
      ],
      "source": [
        "#checking for any null values\n",
        "\n",
        "df['sentiment'].isnull()"
      ],
      "id": "17b1641f"
    },
    {
      "cell_type": "code",
      "execution_count": null,
      "metadata": {
        "colab": {
          "base_uri": "https://localhost:8080/"
        },
        "id": "d8e79f07",
        "outputId": "350fb495-3a6d-4e59-852e-67f8df86a665"
      },
      "outputs": [
        {
          "output_type": "stream",
          "name": "stdout",
          "text": [
            "<class 'pandas.core.frame.DataFrame'>\n",
            "RangeIndex: 50000 entries, 0 to 49999\n",
            "Data columns (total 2 columns):\n",
            " #   Column     Non-Null Count  Dtype \n",
            "---  ------     --------------  ----- \n",
            " 0   review     50000 non-null  object\n",
            " 1   sentiment  50000 non-null  object\n",
            "dtypes: object(2)\n",
            "memory usage: 781.4+ KB\n"
          ]
        }
      ],
      "source": [
        "df.info()"
      ],
      "id": "d8e79f07"
    },
    {
      "cell_type": "code",
      "execution_count": null,
      "metadata": {
        "id": "751db7a6"
      },
      "outputs": [],
      "source": [
        "#Assigning X & y with review and sentiment respectively\n",
        "\n",
        "X = df['review']\n",
        "y = df['sentiment']"
      ],
      "id": "751db7a6"
    },
    {
      "cell_type": "code",
      "execution_count": null,
      "metadata": {
        "id": "zg6tiVgi6mfx"
      },
      "outputs": [],
      "source": [
        "#splitting values in to train, validation and test sets\n",
        "X_train, X_temp, y_train, y_temp = train_test_split(X, y, test_size=0.7,stratify=y, random_state=42)\n",
        "X_val, X_test, y_val, y_test = train_test_split(X_temp, y_temp, test_size=0.57, random_state=42)"
      ],
      "id": "zg6tiVgi6mfx"
    },
    {
      "cell_type": "code",
      "execution_count": null,
      "metadata": {
        "colab": {
          "base_uri": "https://localhost:8080/"
        },
        "id": "fa8a27d9",
        "outputId": "c4d4d2b6-de22-4f6e-d6b7-e11fe5960803"
      },
      "outputs": [
        {
          "output_type": "stream",
          "name": "stdout",
          "text": [
            "Training set size: 15000\n",
            "Test set size: 19950\n",
            "Validation set size: 15050\n"
          ]
        }
      ],
      "source": [
        "#chceking the length of the train, validation and test sets\n",
        "\n",
        "print(\"Training set size:\", len(X_train))\n",
        "print(\"Test set size:\", len(X_test))\n",
        "print(\"Validation set size:\", len(X_val))"
      ],
      "id": "fa8a27d9"
    },
    {
      "cell_type": "code",
      "execution_count": null,
      "metadata": {
        "colab": {
          "base_uri": "https://localhost:8080/"
        },
        "id": "c16cb1a2",
        "outputId": "10c311c4-c0ae-4159-dffb-622f6112a96a",
        "scrolled": true
      },
      "outputs": [
        {
          "output_type": "stream",
          "name": "stdout",
          "text": [
            "Int64Index([12276,  4319,  4210, 20735, 49290, 39716, 45480,  6587, 17792,\n",
            "            42351,\n",
            "            ...\n",
            "            42187, 36288, 22917,   710, 11540, 17731, 25976, 36837, 35597,\n",
            "            23156],\n",
            "           dtype='int64', length=15000)\n",
            "Int64Index([37705, 15809, 25154, 10620,  6067, 11681, 46162, 44805,  4023,\n",
            "            18822,\n",
            "            ...\n",
            "            14298, 49558, 37247, 48609, 42453,  4235,  2155, 26268, 42437,\n",
            "            21006],\n",
            "           dtype='int64', length=19950)\n",
            "Int64Index([  861, 15012, 42736, 20335, 47365, 43667, 29783,  7072, 14691,\n",
            "            44643,\n",
            "            ...\n",
            "            44013, 26105, 39106,   796, 22364, 33486,  9510, 24406, 45997,\n",
            "            18961],\n",
            "           dtype='int64', length=15050)\n"
          ]
        }
      ],
      "source": [
        "#seeing the index locations for the variables\n",
        "\n",
        "print(X_train.index)\n",
        "print(X_test.index)\n",
        "print(X_val.index)"
      ],
      "id": "c16cb1a2"
    },
    {
      "cell_type": "code",
      "execution_count": null,
      "metadata": {
        "id": "6e6f1bc5"
      },
      "outputs": [],
      "source": [
        "#resetting the index locations\n",
        "\n",
        "X_train = X_train.reset_index(drop=True)\n",
        "X_test = X_test.reset_index(drop=True)\n",
        "X_val = X_val.reset_index(drop=True)"
      ],
      "id": "6e6f1bc5"
    },
    {
      "cell_type": "code",
      "execution_count": null,
      "metadata": {
        "colab": {
          "base_uri": "https://localhost:8080/"
        },
        "id": "cb865597",
        "outputId": "14965d59-2f53-4659-948d-9a06ff27d8a9"
      },
      "outputs": [
        {
          "output_type": "stream",
          "name": "stdout",
          "text": [
            "RangeIndex(start=0, stop=15000, step=1)\n",
            "RangeIndex(start=0, stop=19950, step=1)\n",
            "RangeIndex(start=0, stop=15050, step=1)\n"
          ]
        }
      ],
      "source": [
        "# Verifying the updated index values\n",
        "\n",
        "print(X_train.index)\n",
        "print(X_test.index)\n",
        "print(X_val.index)"
      ],
      "id": "cb865597"
    },
    {
      "cell_type": "code",
      "execution_count": null,
      "metadata": {
        "colab": {
          "base_uri": "https://localhost:8080/"
        },
        "id": "6d46f9da",
        "outputId": "7bc57c2d-c0a5-4e19-e515-edf013970d3e"
      },
      "outputs": [
        {
          "output_type": "stream",
          "name": "stdout",
          "text": [
            "The 4th Pokemon movie made me cry when Celebi died. Don't you dare say that Pokemon sucks! I don't like it when people say that.... I've liked Pokemon for 5 or 6 years, so everyone should enjoy Pokemon, including this movie and other Pokemon movies. So, without further ado, please say that Pokemon is great and should be enjoyed by people for all ages. And also, why do Pokemon-haters give low ratings for all or most of the Pokemon movies? I don't understand.... They shouldn't do that.... There's absolutely no reason why people should just vote without proving that Pokemon sucks besides the fact that: 1) Pokemon is for little kids ONLY. 2) Pokemon is stupid. and 3) People shouldn't like Pokemon. I think this is why people don't like Pokemon.\n",
            "The gimmick, as it were, of this 1934 Paramount comedy is the six comedy performers, paired off into three man-and-woman teams, who all appear together. W. C. Fields and his frequent screen partner Alsion Skipworth appear in the second half of the film and shine in their roles as a small-town sheriff and innkeeper. Fields seems to have been given the latitude to inject plenty of his own one-of-a-kind brand of misanthropic, surreal comedy into his part, and it works wonderfully, especially where he is allowed to do his famous pool table routine, a digression that is totally welcome since it is hilarious.<br /><br />At first thought it might have seemed like a mismatch to conceive of a film to be carried by the subtle domestic comedy of Charlie Ruggles and Mary Boland next to the broad, jokey Vaudeville patter of the great husband-and-wife comedy team of George Burns and Gracie Allen, but here it works perfectly because of the parts George and Gracie are given in the script. They are there are freeloaders hitching a ride to California on Ruggles' and Boland's honeymoon trip and consistently find ways to annoy them at every step, including, brilliantly, while they are each holding on to the side of a cliff for dear life.<br /><br />Making Burns and Allen comic annoyances to two sympathetic characters turns out to be a perfect way to fit their far-out, larger-than-life comedy characters into a real world setting -- the comedy of people reacting to them in a believable way turns out to be as much as a gold-mine as Gracie's famous naive delivery itself.<br /><br />Charlie Ruggles deserves special mention for his performance as the fussy banker \"Pinky\" Whinney. He's marvelously subtle and underplayed, and draws laughs from lines that in another actor's hands might not even have been heard.<br /><br />The script is wonderfully witty all through, and most of the way it's a perfectly extended comedy of frustration in which our sympathies are with the poor Whinneys who can't get a moment alone, and the extra bonus is that what frustrates them is just more first-rate comedy material from Burns and Allen. <br /><br />For the pre-code watchers out there, there is some rather suggestive material in some of the most amusing scenes, as Whinney tries to get across to George just WHY he and his wife want to be alone for a while.<br /><br />There are a few signs of a rushed production here -- the occasional jump cut, one of the most obvious drop sets you will ever see in a movie (right up there with W. C. Field's own short \"The Golf Specialist\"), and the knot in Field's tie is constantly changing in shape. These don't bother me, though, and they shouldn't bother anybody who is enjoying the film.<br /><br />\"Six of a Kind\" is a real little-known gem and one of the funniest movies I've seen in a while. If you're thinking about whether to watch it, the answer should be yes.\n",
            "It isn't TOO bad, but ultimately it lacks the quality that the Australian series has.<br /><br />The jokes are few and far between, the actors are attractive (they shouldn't be), the film makers think far too much about the cinematography (it's supposed to look like a home video) and it's just like a serious version of Kath and Kim... it's stupid.<br /><br />It's too normal to be Kath and Kim. Kath and Kim are supposed to be two curvy, middle-aged women who think they are hot and wear ridiculous clothes. There are no \"Look at me Kimmy!\" jokes. The fat friend of Kim is not fat at all and she's not even slightly stupid. She's a stereotypical black/Latino chick.<br /><br />It's just not as stupid or funny as the Australian series. It doesn't compare. Nothing is the same. I admit, this show is pretty funny at times, but it is NOT anything like the Aussie series. I was looking forward to an American take on a bogan family. They failed. It's supposed to be REALLY stupid and hilarious, but the actors don't act stupid! To me, this is just a typical American TV show. It's a let down if you want it to be anything like the Aussie show.<br /><br />2 Stars because it is an OKAY show, just nothing like what it should be.\n"
          ]
        }
      ],
      "source": [
        "#Printing the data brfore pre processing\n",
        "\n",
        "print(X_train[0])\n",
        "print(X_test[0])\n",
        "print(X_val[0])"
      ],
      "id": "6d46f9da"
    },
    {
      "cell_type": "code",
      "execution_count": null,
      "metadata": {
        "colab": {
          "base_uri": "https://localhost:8080/"
        },
        "id": "a6ed3979",
        "outputId": "3f5ff22a-71b5-4024-f9ba-db4e56e1707c"
      },
      "outputs": [
        {
          "output_type": "stream",
          "name": "stdout",
          "text": [
            "Int64Index([12276,  4319,  4210, 20735, 49290, 39716, 45480,  6587, 17792,\n",
            "            42351,\n",
            "            ...\n",
            "            42187, 36288, 22917,   710, 11540, 17731, 25976, 36837, 35597,\n",
            "            23156],\n",
            "           dtype='int64', length=15000)\n",
            "Int64Index([37705, 15809, 25154, 10620,  6067, 11681, 46162, 44805,  4023,\n",
            "            18822,\n",
            "            ...\n",
            "            14298, 49558, 37247, 48609, 42453,  4235,  2155, 26268, 42437,\n",
            "            21006],\n",
            "           dtype='int64', length=19950)\n",
            "Int64Index([  861, 15012, 42736, 20335, 47365, 43667, 29783,  7072, 14691,\n",
            "            44643,\n",
            "            ...\n",
            "            44013, 26105, 39106,   796, 22364, 33486,  9510, 24406, 45997,\n",
            "            18961],\n",
            "           dtype='int64', length=15050)\n"
          ]
        }
      ],
      "source": [
        "#seeing the index locations for the variables\n",
        "\n",
        "print(y_train.index)\n",
        "print(y_test.index)\n",
        "print(y_val.index)"
      ],
      "id": "a6ed3979"
    },
    {
      "cell_type": "code",
      "execution_count": null,
      "metadata": {
        "id": "aa429b55"
      },
      "outputs": [],
      "source": [
        "#resetting the index locations\n",
        "\n",
        "y_train = y_train.reset_index(drop=True)\n",
        "y_test = y_test.reset_index(drop=True)\n",
        "y_val = y_val.reset_index(drop=True)"
      ],
      "id": "aa429b55"
    },
    {
      "cell_type": "code",
      "execution_count": null,
      "metadata": {
        "colab": {
          "base_uri": "https://localhost:8080/"
        },
        "id": "266952ff",
        "outputId": "bb757d3d-daa0-40d5-ac3c-6d80b74ceddc"
      },
      "outputs": [
        {
          "output_type": "stream",
          "name": "stdout",
          "text": [
            "RangeIndex(start=0, stop=15000, step=1)\n",
            "RangeIndex(start=0, stop=19950, step=1)\n",
            "RangeIndex(start=0, stop=15050, step=1)\n"
          ]
        }
      ],
      "source": [
        "print(y_train.index)\n",
        "print(y_test.index)\n",
        "print(y_val.index)"
      ],
      "id": "266952ff"
    },
    {
      "cell_type": "code",
      "execution_count": null,
      "metadata": {
        "colab": {
          "base_uri": "https://localhost:8080/"
        },
        "id": "35190789",
        "outputId": "a3e20905-b2b8-4f6b-a614-6bf0f376ab0c"
      },
      "outputs": [
        {
          "output_type": "stream",
          "name": "stdout",
          "text": [
            "positive\n",
            "positive\n",
            "negative\n"
          ]
        }
      ],
      "source": [
        "print(y_train[0])\n",
        "print(y_test[0])\n",
        "print(y_val[0])"
      ],
      "id": "35190789"
    },
    {
      "cell_type": "code",
      "execution_count": null,
      "metadata": {
        "colab": {
          "base_uri": "https://localhost:8080/"
        },
        "id": "WfzB5KuXRWf-",
        "outputId": "fb5fb3a8-f08a-49e5-a0d7-42ef2115c989"
      },
      "outputs": [
        {
          "output_type": "stream",
          "name": "stderr",
          "text": [
            "[nltk_data] Downloading package punkt to /root/nltk_data...\n",
            "[nltk_data]   Unzipping tokenizers/punkt.zip.\n",
            "[nltk_data] Downloading package wordnet to /root/nltk_data...\n",
            "[nltk_data] Downloading package stopwords to /root/nltk_data...\n",
            "[nltk_data]   Unzipping corpora/stopwords.zip.\n"
          ]
        }
      ],
      "source": [
        "import nltk\n",
        "from nltk.corpus import stopwords\n",
        "from nltk.tokenize import word_tokenize\n",
        "from nltk.stem import WordNetLemmatizer\n",
        "nltk.download('punkt')\n",
        "nltk.download('wordnet')\n",
        "nltk.download('stopwords')\n",
        "\n",
        "def preprocess_text(text):\n",
        "    # Tokenization\n",
        "    tokens = word_tokenize(text)\n",
        "\n",
        "    # Convert to lowercase\n",
        "    tokens = [token.lower() for token in tokens]\n",
        "\n",
        "    # Remove punctuation and non-alphabetic tokens\n",
        "    tokens = [token for token in tokens if token.isalpha()]\n",
        "\n",
        "    # Remove stop words\n",
        "    stop_words = set(stopwords.words('english'))\n",
        "    filtered_tokens = [token for token in tokens if token not in stop_words]\n",
        "\n",
        "    # Lemmatization\n",
        "    lemmatizer = WordNetLemmatizer()\n",
        "    lemmatized_tokens = [lemmatizer.lemmatize(token) for token in filtered_tokens]\n",
        "\n",
        "    # Join tokens back to a cleaned text\n",
        "    preprocessed_text = ' '.join(lemmatized_tokens)\n",
        "\n",
        "    return preprocessed_text"
      ],
      "id": "WfzB5KuXRWf-"
    },
    {
      "cell_type": "code",
      "execution_count": null,
      "metadata": {
        "id": "dc48330c"
      },
      "outputs": [],
      "source": [
        "# Preprocessing the data\n",
        "\n",
        "X_train_preprocessed = [preprocess_text(text) for text in X_train]\n",
        "\n",
        "X_test_preprocessed = [preprocess_text(text) for text in X_test]\n",
        "\n",
        "X_val_preprocessed = [preprocess_text(text) for text in X_val]\n"
      ],
      "id": "dc48330c"
    },
    {
      "cell_type": "code",
      "execution_count": null,
      "metadata": {
        "id": "b5A_WZqOoQlR"
      },
      "outputs": [],
      "source": [
        "# Preprocessing the data\n",
        "\n",
        "y_train_preprocessed = [preprocess_text(text) for text in y_train]\n",
        "\n",
        "y_test_preprocessed = [preprocess_text(text) for text in y_test]\n",
        "\n",
        "y_val_preprocessed = [preprocess_text(text) for text in y_val]\n"
      ],
      "id": "b5A_WZqOoQlR"
    },
    {
      "cell_type": "code",
      "execution_count": null,
      "metadata": {
        "colab": {
          "base_uri": "https://localhost:8080/"
        },
        "id": "244e45ff",
        "outputId": "9bd61089-d776-4fae-9a7c-a64386aa5bf2",
        "scrolled": true
      },
      "outputs": [
        {
          "output_type": "stream",
          "name": "stdout",
          "text": [
            "pokemon movie made cry celebi died dare say pokemon suck like people say liked pokemon year everyone enjoy pokemon including movie pokemon movie without ado please say pokemon great enjoyed people age also give low rating pokemon movie understand absolutely reason people vote without proving pokemon suck besides fact pokemon little kid pokemon stupid people like pokemon think people like pokemon\n",
            "gimmick paramount comedy six comedy performer paired three team appear together field frequent screen partner alsion skipworth appear second half film shine role sheriff innkeeper field seems given latitude inject plenty brand misanthropic surreal comedy part work wonderfully especially allowed famous pool table routine digression totally welcome since br br first thought might seemed like mismatch conceive film carried subtle domestic comedy charlie ruggles mary boland next broad jokey vaudeville patter great comedy team george burn gracie allen work perfectly part george gracie given script freeloader hitching ride california ruggles boland honeymoon trip consistently find way annoy every step including brilliantly holding side cliff dear br br making burn allen comic annoyance two sympathetic character turn perfect way fit comedy character real world setting comedy people reacting believable way turn much gracie famous naive delivery br br charlie ruggles deserves special mention performance fussy banker pinky whinney marvelously subtle underplayed draw laugh line another actor hand might even br br script wonderfully witty way perfectly extended comedy frustration sympathy poor whinneys ca get moment alone extra bonus frustrates comedy material burn allen br br watcher rather suggestive material amusing scene whinney try get across george wife want alone br br sign rushed production occasional jump cut one obvious drop set ever see movie right field short golf specialist knot field tie constantly changing shape bother though bother anybody enjoying br br six kind real gem one funniest movie seen thinking whether watch answer yes\n",
            "bad ultimately lack quality australian series br br joke far actor attractive film maker think far much cinematography supposed look like home video like serious version kath kim br br normal kath kim kath kim supposed two curvy woman think hot wear ridiculous clothes look kimmy joke fat friend kim fat even slightly stupid stereotypical br br stupid funny australian series compare nothing admit show pretty funny time anything like aussie series looking forward american take bogan family failed supposed really stupid hilarious actor act stupid typical american tv show let want anything like aussie br br star okay show nothing like\n"
          ]
        }
      ],
      "source": [
        "#Printing pre processed data\n",
        "\n",
        "print(X_train_preprocessed[0])\n",
        "print(X_test_preprocessed[0])\n",
        "print(X_val_preprocessed[0])"
      ],
      "id": "244e45ff"
    },
    {
      "cell_type": "markdown",
      "metadata": {
        "id": "g8cgsBICNtdQ"
      },
      "source": [
        "Tokenizing and creating datasets for train, validation and test sets so they can be used through out different types of training sessions and evaluation of diferent models"
      ],
      "id": "g8cgsBICNtdQ"
    },
    {
      "cell_type": "code",
      "execution_count": null,
      "metadata": {
        "colab": {
          "base_uri": "https://localhost:8080/",
          "height": 197,
          "referenced_widgets": [
            "2c5a776f674f4e2c8c5e46c8333baed6",
            "25a39971aa874a9cbfcc40d58233f061",
            "1e7c6684e35e46a998fc1d21e35a62dd",
            "427c6524d75a426f88e01849813c86ba",
            "411a04d6951b4125954b044e79868f4e",
            "e4f44626f1b14ab39d93e2ede2c425e0",
            "ca8faf92eb7146b9aa284bd6750ced5d",
            "27f3b0eacbe44a158fcbdfed43df1948",
            "8f817a7bebc84ed884fbca18fd5e2070",
            "148ef34c39754743af6bbedf573e01fe",
            "8b6c4f43b3264b589e0da89d4381c6b6",
            "387294591e7f444ba49d09cbee63990e",
            "b3c902c942ca4c5d928d32d5948afca7",
            "418095dacae6492589fb603a8a3aac9b",
            "8141adbd0a4a437b89a40a9a9c5b7836",
            "7fbf0b230af04ce1931b23a53a9e2f25",
            "89df6ed05b8747c19be5a1b389b8ed42",
            "78a161e2e63f41049083d48ce6bd7f4f",
            "bc62cd35ea324eaf8f0a0eac243f0207",
            "85a6d8fc449a4dce9616b57c7e13a365",
            "1941045b47c04a5f80e471d9c98f46f5",
            "417bf4a048b346abb37e4f8eb3cd9506",
            "1f02816c18c649bd9de9d96b1658500b",
            "19020187bb734a6d85728261dacd80d5",
            "72894c7b1b1840c48da777eeece5af7e",
            "5c09914bbc394e769e1337e023742588",
            "093594ece8ea40ada6ca39a671c8b786",
            "c6176200aac543429446d956a04ef94f",
            "74b5f05374704df0b5deb93197601445",
            "2da9eec0e7304645944d16df63bae1a4",
            "47fb032026f0428688b836b8d97ce835",
            "d00c7edb447f4f06be365b0e790a855e",
            "847d882f8bad435995a34a7d35f96e44"
          ]
        },
        "id": "1e9c29f9",
        "outputId": "edbfc261-5ae7-438d-bb56-7f4abd6cba0e",
        "scrolled": false
      },
      "outputs": [
        {
          "output_type": "display_data",
          "data": {
            "text/plain": [
              "Downloading (…)solve/main/vocab.txt:   0%|          | 0.00/232k [00:00<?, ?B/s]"
            ],
            "application/vnd.jupyter.widget-view+json": {
              "version_major": 2,
              "version_minor": 0,
              "model_id": "2c5a776f674f4e2c8c5e46c8333baed6"
            }
          },
          "metadata": {}
        },
        {
          "output_type": "display_data",
          "data": {
            "text/plain": [
              "Downloading (…)okenizer_config.json:   0%|          | 0.00/28.0 [00:00<?, ?B/s]"
            ],
            "application/vnd.jupyter.widget-view+json": {
              "version_major": 2,
              "version_minor": 0,
              "model_id": "387294591e7f444ba49d09cbee63990e"
            }
          },
          "metadata": {}
        },
        {
          "output_type": "display_data",
          "data": {
            "text/plain": [
              "Downloading (…)lve/main/config.json:   0%|          | 0.00/570 [00:00<?, ?B/s]"
            ],
            "application/vnd.jupyter.widget-view+json": {
              "version_major": 2,
              "version_minor": 0,
              "model_id": "1f02816c18c649bd9de9d96b1658500b"
            }
          },
          "metadata": {}
        }
      ],
      "source": [
        "tokenizer = BertTokenizer.from_pretrained('bert-base-uncased')"
      ],
      "id": "1e9c29f9"
    },
    {
      "cell_type": "code",
      "execution_count": null,
      "metadata": {
        "id": "7H9Kbj8altls"
      },
      "outputs": [],
      "source": [
        "# Tokenizing and encoding the train data\n",
        "X_train_encoded = tokenizer.batch_encode_plus(\n",
        "    X_train_preprocessed,\n",
        "    padding=True,\n",
        "    truncation=True,\n",
        "    max_length=512,\n",
        "    return_tensors='pt'\n",
        ")\n",
        "# Tokenizing and encoding the validation data\n",
        "X_val_encoded = tokenizer.batch_encode_plus(\n",
        "    X_val_preprocessed,\n",
        "    padding=True,\n",
        "    truncation=True,\n",
        "    max_length=512,\n",
        "    return_tensors='pt'\n",
        ")"
      ],
      "id": "7H9Kbj8altls"
    },
    {
      "cell_type": "code",
      "execution_count": null,
      "metadata": {
        "id": "2UHfvfiFlycP"
      },
      "outputs": [],
      "source": [
        "label_map = {\"positive\": 1, \"negative\": 0}\n",
        "\n",
        "# Extracting input tensors from the encoded data\n",
        "input_ids_train = X_train_encoded['input_ids']\n",
        "attention_masks_train = X_train_encoded['attention_mask']\n",
        "labels_train = torch.tensor([label_map[label] for label in y_train_preprocessed])\n",
        "\n",
        "input_ids_val = X_val_encoded['input_ids']\n",
        "attention_masks_val = X_val_encoded['attention_mask']\n",
        "labels_val = torch.tensor([label_map[label] for label in y_val_preprocessed])\n",
        "\n",
        "# Creating datasets\n",
        "train_dataset = TensorDataset(input_ids_train, attention_masks_train, labels_train)\n",
        "val_dataset = TensorDataset(input_ids_val, attention_masks_val, labels_val)"
      ],
      "id": "2UHfvfiFlycP"
    },
    {
      "cell_type": "code",
      "execution_count": null,
      "metadata": {
        "id": "W9ilC5yKNfx2"
      },
      "outputs": [],
      "source": [
        "# Tokenizing and encoding the test data\n",
        "X_test_encoded = tokenizer.batch_encode_plus(\n",
        "    X_test_preprocessed,\n",
        "    padding=True,\n",
        "    truncation=True,\n",
        "    max_length=512,\n",
        "    return_tensors='pt'\n",
        ")"
      ],
      "id": "W9ilC5yKNfx2"
    },
    {
      "cell_type": "code",
      "execution_count": null,
      "metadata": {
        "id": "2NqSgZcGNfx2"
      },
      "outputs": [],
      "source": [
        "# Extracting input tensors and attention masks from the encoded data\n",
        "label_map = {\"positive\": 1, \"negative\": 0}\n",
        "\n",
        "input_ids_test = X_test_encoded['input_ids']\n",
        "attention_masks_test = X_test_encoded['attention_mask']\n",
        "labels_test = torch.tensor([label_map[label] for label in y_test_preprocessed])\n",
        "\n",
        "# Creating datasets\n",
        "test_dataset = TensorDataset(input_ids_test, attention_masks_test, labels_test)"
      ],
      "id": "2NqSgZcGNfx2"
    },
    {
      "cell_type": "code",
      "execution_count": null,
      "metadata": {
        "id": "32035a33",
        "scrolled": true
      },
      "outputs": [],
      "source": [
        "# Setting the device (CPU or GPU)\n",
        "device = torch.device('cuda' if torch.cuda.is_available() else 'cpu')"
      ],
      "id": "32035a33"
    },
    {
      "cell_type": "markdown",
      "metadata": {
        "id": "OL__KiCqBavl"
      },
      "source": [
        "# 1. Adam Optimizer"
      ],
      "id": "OL__KiCqBavl"
    },
    {
      "cell_type": "code",
      "execution_count": null,
      "metadata": {
        "colab": {
          "base_uri": "https://localhost:8080/",
          "height": 218,
          "referenced_widgets": [
            "023b946034b54111a71fcc2226c486c6",
            "8b4f4ca2c3bb4e76bc80c97cc02b0c90",
            "002db1652f6b4ed2859d68b1833d9ee4",
            "d40c0ab23f334d3caad8d30f9e450228",
            "077d37fc6cf64c5f8c45b30210b4a0df",
            "fd9d011bfe5f4c5aa20a10f4a06828e6",
            "aa51d8fe7bd045cfa7d85c0304c00b2c",
            "35cbb6ebf6314656927eae752fc5636e",
            "b03dc86fdb394b8ba869d60b37f5b256",
            "fb746bfe476d438197f08699a9146145",
            "2f50fb2cc6cc4299bdc49cb2864b2514"
          ]
        },
        "id": "M1sJZs6wB1bE",
        "outputId": "a42a58ed-c46c-4f12-ce39-8684b03f9466"
      },
      "outputs": [
        {
          "data": {
            "application/vnd.jupyter.widget-view+json": {
              "model_id": "023b946034b54111a71fcc2226c486c6",
              "version_major": 2,
              "version_minor": 0
            },
            "text/plain": [
              "Downloading model.safetensors:   0%|          | 0.00/440M [00:00<?, ?B/s]"
            ]
          },
          "metadata": {},
          "output_type": "display_data"
        },
        {
          "name": "stderr",
          "output_type": "stream",
          "text": [
            "Some weights of BertForSequenceClassification were not initialized from the model checkpoint at bert-base-uncased and are newly initialized: ['classifier.weight', 'classifier.bias']\n",
            "You should probably TRAIN this model on a down-stream task to be able to use it for predictions and inference.\n"
          ]
        },
        {
          "name": "stdout",
          "output_type": "stream",
          "text": [
            "Epoch 1/5, Loss: 0.34476617000897725, Validation Accuracy: 0.8925581395348837\n",
            "Epoch 2/5, Loss: 0.19539939400355022, Validation Accuracy: 0.9035215946843854\n",
            "Epoch 3/5, Loss: 0.10683475302855173, Validation Accuracy: 0.899202657807309\n",
            "Epoch 4/5, Loss: 0.07642427409837643, Validation Accuracy: 0.902126245847176\n",
            "Early stopping triggered.\n"
          ]
        }
      ],
      "source": [
        "model = BertForSequenceClassification.from_pretrained('bert-base-uncased', num_labels=2).to(device)\n",
        "\n",
        "# declaring Hyperparameters\n",
        "batch_size = 32\n",
        "early_stopping_patience = 3\n",
        "epochs_without_improvement = 0\n",
        "num_cpu = 12\n",
        "num_epochs = 5\n",
        "best_accuracy = 0.0\n",
        "train_losses = []\n",
        "val_accuracies = []\n",
        "train_losses.clear()\n",
        "val_accuracies.clear()\n",
        "\n",
        "# optimizer\n",
        "optimizer = optim.Adam(model.parameters(), lr=2e-5)\n",
        "\n",
        "# Creating data loaders\n",
        "train_dataloader = DataLoader(train_dataset, batch_size=batch_size, num_workers=num_cpu, pin_memory=True, shuffle=True)\n",
        "val_dataloader = DataLoader(val_dataset, batch_size=batch_size, num_workers=num_cpu, pin_memory=True, shuffle=False)\n",
        "\n",
        "for epoch in range(num_epochs):\n",
        "    running_loss = 0.0\n",
        "\n",
        "    # Training\n",
        "    model.train()\n",
        "    for inputs, attention_masks, labels in train_dataloader:\n",
        "        inputs = inputs.to(device)\n",
        "        attention_masks = attention_masks.to(device)\n",
        "        labels = labels.to(device)\n",
        "\n",
        "        optimizer.zero_grad()\n",
        "        outputs = model(inputs, attention_mask=attention_masks, labels = labels)\n",
        "\n",
        "        loss = outputs.loss\n",
        "\n",
        "        loss.backward()\n",
        "\n",
        "        optimizer.step()\n",
        "\n",
        "        running_loss += loss.item() * inputs.size(0)\n",
        "\n",
        "\n",
        "    # Calculate average loss for the epoch\n",
        "    epoch_loss = running_loss / len(train_dataset)\n",
        "    train_losses.append(epoch_loss)\n",
        "\n",
        "\n",
        "   # Validation\n",
        "    model.eval()  # Setting model to evaluation mode\n",
        "    correct_predictions = 0\n",
        "    total_predictions = 0\n",
        "\n",
        "    with torch.no_grad():\n",
        "        for inputs, attention_masks, labels in val_dataloader:\n",
        "            inputs = inputs.to(device)\n",
        "            attention_masks = attention_masks.to(device)\n",
        "            labels = labels.to(device)\n",
        "\n",
        "            # Get model's predictions\n",
        "            outputs = model(inputs, attention_mask=attention_masks)\n",
        "            predicted_labels = torch.argmax(outputs.logits, dim=1)\n",
        "\n",
        "            correct_predictions += (predicted_labels == labels).sum().item()\n",
        "            total_predictions += labels.size(0)\n",
        "\n",
        "    accuracy = correct_predictions / total_predictions\n",
        "    val_accuracies.append(accuracy)\n",
        "\n",
        "\n",
        "    if accuracy > best_accuracy:\n",
        "        best_accuracy = accuracy\n",
        "        epochs_without_improvement = 0\n",
        "        best_model_state = model.state_dict()\n",
        "    else:\n",
        "        epochs_without_improvement += 1\n",
        "        if epochs_without_improvement >= early_stopping_patience:\n",
        "            print(\"Early stopping triggered.\")\n",
        "            break\n",
        "\n",
        "    # Printing the loss and accuracy for each epoch\n",
        "    print(f\"Epoch {epoch+1}/{num_epochs}, Loss: {epoch_loss}, Validation Accuracy: {accuracy}\")\n",
        "\n",
        "# Saving the trained model\n",
        "BERT_Tuned_file = \"/content/drive/MyDrive/Colab Notebooks/BBAO.pt\"\n",
        "torch.save(best_model_state, BERT_Tuned_file)"
      ],
      "id": "M1sJZs6wB1bE"
    },
    {
      "cell_type": "code",
      "execution_count": null,
      "metadata": {
        "colab": {
          "base_uri": "https://localhost:8080/",
          "height": 329
        },
        "id": "KeepJ2JVB1bF",
        "outputId": "991f1ccd-e3de-44ad-d86a-a585e2b837b2"
      },
      "outputs": [
        {
          "data": {
            "image/png": "[encoded data removed]",
            "text/plain": [
              "<Figure size 1000x500 with 2 Axes>"
            ]
          },
          "metadata": {},
          "output_type": "display_data"
        }
      ],
      "source": [
        "# Plotting epoch loss and validation accuracy graphs\n",
        "num_epochs = len(train_losses)\n",
        "plt.figure(figsize=(10, 5))\n",
        "plt.subplot(1, 2, 1)\n",
        "plt.plot(range(1, num_epochs + 1), train_losses, label='Train Loss', color='red')\n",
        "plt.xlabel('Epoch')\n",
        "plt.ylabel('Loss')\n",
        "plt.title('Epoch Loss')\n",
        "plt.legend()\n",
        "\n",
        "plt.subplot(1, 2, 2)\n",
        "plt.plot(range(1, num_epochs + 1), val_accuracies, label='Validation Accuracy', color='green')\n",
        "plt.xlabel('Epoch')\n",
        "plt.ylabel('Accuracy')\n",
        "plt.title('Validation Accuracy')\n",
        "plt.legend()\n",
        "\n",
        "save_path = \"/content/drive/MyDrive/Colab Notebooks/BBAO_plot.png\"\n",
        "plt.savefig(save_path)\n",
        "\n",
        "plt.tight_layout()\n",
        "plt.show()"
      ],
      "id": "KeepJ2JVB1bF"
    },
    {
      "cell_type": "code",
      "execution_count": null,
      "metadata": {
        "colab": {
          "base_uri": "https://localhost:8080/"
        },
        "id": "dIwQyh8RB1bF",
        "outputId": "024533f3-477c-42a2-aa56-93934a9c969c"
      },
      "outputs": [
        {
          "data": {
            "text/plain": [
              "BertForSequenceClassification(\n",
              "  (bert): BertModel(\n",
              "    (embeddings): BertEmbeddings(\n",
              "      (word_embeddings): Embedding(30522, 768, padding_idx=0)\n",
              "      (position_embeddings): Embedding(512, 768)\n",
              "      (token_type_embeddings): Embedding(2, 768)\n",
              "      (LayerNorm): LayerNorm((768,), eps=1e-12, elementwise_affine=True)\n",
              "      (dropout): Dropout(p=0.1, inplace=False)\n",
              "    )\n",
              "    (encoder): BertEncoder(\n",
              "      (layer): ModuleList(\n",
              "        (0-11): 12 x BertLayer(\n",
              "          (attention): BertAttention(\n",
              "            (self): BertSelfAttention(\n",
              "              (query): Linear(in_features=768, out_features=768, bias=True)\n",
              "              (key): Linear(in_features=768, out_features=768, bias=True)\n",
              "              (value): Linear(in_features=768, out_features=768, bias=True)\n",
              "              (dropout): Dropout(p=0.1, inplace=False)\n",
              "            )\n",
              "            (output): BertSelfOutput(\n",
              "              (dense): Linear(in_features=768, out_features=768, bias=True)\n",
              "              (LayerNorm): LayerNorm((768,), eps=1e-12, elementwise_affine=True)\n",
              "              (dropout): Dropout(p=0.1, inplace=False)\n",
              "            )\n",
              "          )\n",
              "          (intermediate): BertIntermediate(\n",
              "            (dense): Linear(in_features=768, out_features=3072, bias=True)\n",
              "            (intermediate_act_fn): GELUActivation()\n",
              "          )\n",
              "          (output): BertOutput(\n",
              "            (dense): Linear(in_features=3072, out_features=768, bias=True)\n",
              "            (LayerNorm): LayerNorm((768,), eps=1e-12, elementwise_affine=True)\n",
              "            (dropout): Dropout(p=0.1, inplace=False)\n",
              "          )\n",
              "        )\n",
              "      )\n",
              "    )\n",
              "    (pooler): BertPooler(\n",
              "      (dense): Linear(in_features=768, out_features=768, bias=True)\n",
              "      (activation): Tanh()\n",
              "    )\n",
              "  )\n",
              "  (dropout): Dropout(p=0.1, inplace=False)\n",
              "  (classifier): Linear(in_features=768, out_features=2, bias=True)\n",
              ")"
            ]
          },
          "execution_count": 35,
          "metadata": {},
          "output_type": "execute_result"
        }
      ],
      "source": [
        "# Loading trained model\n",
        "BERT_Tuned_file = \"/content/drive/MyDrive/Colab Notebooks/BBAO.pt\"\n",
        "model.load_state_dict(torch.load(BERT_Tuned_file))\n",
        "model.eval()"
      ],
      "id": "dIwQyh8RB1bF"
    },
    {
      "cell_type": "code",
      "execution_count": null,
      "metadata": {
        "colab": {
          "base_uri": "https://localhost:8080/"
        },
        "id": "7AiuuIiSB1bG",
        "outputId": "d3332b2d-aab1-4c76-86a8-94ea42bdbd01"
      },
      "outputs": [
        {
          "name": "stdout",
          "output_type": "stream",
          "text": [
            "Accuracy: 89.23%\n",
            "Classification Report:\n",
            "               precision    recall  f1-score   support\n",
            "\n",
            "    negative       0.89      0.90      0.89     10012\n",
            "    positive       0.90      0.89      0.89      9938\n",
            "\n",
            "    accuracy                           0.89     19950\n",
            "   macro avg       0.89      0.89      0.89     19950\n",
            "weighted avg       0.89      0.89      0.89     19950\n",
            "\n",
            "Confusion Matrix:\n",
            " [[8990 1022]\n",
            " [1127 8811]]\n"
          ]
        }
      ],
      "source": [
        "model.to(device)\n",
        "\n",
        "# Creating dataloaders for test\n",
        "batch_size = 32\n",
        "num_cpu = 12\n",
        "\n",
        "test_dataloader = DataLoader(test_dataset, batch_size=batch_size, num_workers=num_cpu, pin_memory=True, shuffle=False)\n",
        "\n",
        "# Evaluating the model on the test set\n",
        "all_preds = []\n",
        "all_labels = []\n",
        "\n",
        "all_preds.clear()\n",
        "all_labels.clear()\n",
        "\n",
        "with torch.no_grad():\n",
        "        for inputs, attention_masks, labels in test_dataloader:\n",
        "            inputs = inputs.to(device)\n",
        "            attention_masks = attention_masks.to(device)\n",
        "            labels = labels.to(device)\n",
        "\n",
        "            outputs = model(inputs, attention_mask=attention_masks)\n",
        "            _, preds = torch.max(outputs.logits, dim=1)\n",
        "\n",
        "            all_preds.extend(preds.cpu().numpy())\n",
        "            all_labels.extend(labels.cpu().numpy())\n",
        "\n",
        "# Calculating evaluation metrics\n",
        "accuracy = accuracy_score(all_labels, all_preds) * 100\n",
        "\n",
        "class_names = [\"negative\", \"positive\"]\n",
        "class_report = classification_report(all_labels, all_preds, target_names=class_names)\n",
        "conf_matrix = confusion_matrix(all_labels, all_preds)\n",
        "\n",
        "print(f\"Accuracy: {accuracy:.2f}%\")\n",
        "print(\"Classification Report:\\n\", class_report)\n",
        "print(\"Confusion Matrix:\\n\", conf_matrix)"
      ],
      "id": "7AiuuIiSB1bG"
    },
    {
      "cell_type": "markdown",
      "metadata": {
        "id": "ekByAwlVhdyq"
      },
      "source": [
        "# 2 Adam Optimizer with Cosine Anneaing LR Scheduler\n",
        "\n",
        "\n"
      ],
      "id": "ekByAwlVhdyq"
    },
    {
      "cell_type": "code",
      "execution_count": null,
      "metadata": {
        "id": "fMhS5GD9gFAS"
      },
      "outputs": [],
      "source": [
        "from torch.optim.lr_scheduler import CosineAnnealingLR"
      ],
      "id": "fMhS5GD9gFAS"
    },
    {
      "cell_type": "code",
      "execution_count": null,
      "metadata": {
        "colab": {
          "base_uri": "https://localhost:8080/"
        },
        "id": "qwvT0_T9bosk",
        "outputId": "18d8ecf9-9eda-473f-ecdc-5b33b15fd25a"
      },
      "outputs": [
        {
          "name": "stderr",
          "output_type": "stream",
          "text": [
            "Some weights of BertForSequenceClassification were not initialized from the model checkpoint at bert-base-uncased and are newly initialized: ['classifier.weight', 'classifier.bias']\n",
            "You should probably TRAIN this model on a down-stream task to be able to use it for predictions and inference.\n"
          ]
        },
        {
          "name": "stdout",
          "output_type": "stream",
          "text": [
            "Epoch 1/5, Loss: 0.34523651847839354, Validation Accuracy: 0.8790697674418605\n",
            "Epoch 2/5, Loss: 0.20311773319244386, Validation Accuracy: 0.892890365448505\n",
            "Epoch 3/5, Loss: 0.10255431373318036, Validation Accuracy: 0.8960797342192691\n",
            "Epoch 4/5, Loss: 0.04419749468627075, Validation Accuracy: 0.8985382059800664\n",
            "Epoch 5/5, Loss: 0.021350647514437635, Validation Accuracy: 0.9011960132890365\n"
          ]
        }
      ],
      "source": [
        "model = BertForSequenceClassification.from_pretrained('bert-base-uncased', num_labels=2).to(device)\n",
        "\n",
        "# declaring Hyperparameters\n",
        "batch_size = 32\n",
        "early_stopping_patience = 3\n",
        "epochs_without_improvement = 0\n",
        "num_cpu = 12\n",
        "num_epochs = 5\n",
        "best_accuracy = 0.0\n",
        "train_losses = []\n",
        "val_accuracies = []\n",
        "train_losses.clear()\n",
        "val_accuracies.clear()\n",
        "\n",
        "# optimizer\n",
        "optimizer = optim.Adam(model.parameters(), lr=2e-5)\n",
        "scheduler = CosineAnnealingLR(optimizer, T_max=5, eta_min=1e-6)\n",
        "\n",
        "# Creating data loaders\n",
        "train_dataloader = DataLoader(train_dataset, batch_size=batch_size, num_workers=num_cpu, pin_memory=True, shuffle=True)\n",
        "val_dataloader = DataLoader(val_dataset, batch_size=batch_size, num_workers=num_cpu, pin_memory=True, shuffle=False)\n",
        "\n",
        "for epoch in range(num_epochs):\n",
        "    running_loss = 0.0\n",
        "\n",
        "    # Training\n",
        "    model.train()\n",
        "    for inputs, attention_masks, labels in train_dataloader:\n",
        "        inputs = inputs.to(device)\n",
        "        attention_masks = attention_masks.to(device)\n",
        "        labels = labels.to(device)\n",
        "\n",
        "        optimizer.zero_grad()\n",
        "        outputs = model(inputs, attention_mask=attention_masks, labels = labels)\n",
        "\n",
        "        loss = outputs.loss\n",
        "\n",
        "        loss.backward()\n",
        "        optimizer.step()\n",
        "\n",
        "        running_loss += loss.item() * inputs.size(0)\n",
        "\n",
        "\n",
        "    # Calculate average loss for the epoch\n",
        "    epoch_loss = running_loss / len(train_dataset)\n",
        "    train_losses.append(epoch_loss)\n",
        "\n",
        "    scheduler.step()\n",
        "\n",
        "\n",
        "   # Validation\n",
        "    model.eval()  # Setting model to evaluation mode\n",
        "    correct_predictions = 0\n",
        "    total_predictions = 0\n",
        "\n",
        "    with torch.no_grad():\n",
        "        for inputs, attention_masks, labels in val_dataloader:\n",
        "            inputs = inputs.to(device)\n",
        "            attention_masks = attention_masks.to(device)\n",
        "            labels = labels.to(device)\n",
        "\n",
        "            # Get model's predictions\n",
        "            outputs = model(inputs, attention_mask=attention_masks)\n",
        "            predicted_labels = torch.argmax(outputs.logits, dim=1)\n",
        "\n",
        "            correct_predictions += (predicted_labels == labels).sum().item()\n",
        "            total_predictions += labels.size(0)\n",
        "\n",
        "    accuracy = correct_predictions / total_predictions\n",
        "    val_accuracies.append(accuracy)\n",
        "\n",
        "\n",
        "    if accuracy > best_accuracy:\n",
        "        best_accuracy = accuracy\n",
        "        epochs_without_improvement = 0\n",
        "        best_model_state = model.state_dict()\n",
        "    else:\n",
        "        epochs_without_improvement += 1\n",
        "        if epochs_without_improvement >= early_stopping_patience:\n",
        "            print(\"Early stopping triggered.\")\n",
        "            break\n",
        "\n",
        "    # Printing the loss and accuracy for each epoch\n",
        "    print(f\"Epoch {epoch+1}/{num_epochs}, Loss: {epoch_loss}, Validation Accuracy: {accuracy}\")\n",
        "\n",
        "# Saving the trained model\n",
        "BERT_Tuned_file = \"/content/drive/MyDrive/Colab Notebooks/BBAO1.pt\"\n",
        "torch.save(best_model_state, BERT_Tuned_file)"
      ],
      "id": "qwvT0_T9bosk"
    },
    {
      "cell_type": "code",
      "execution_count": null,
      "metadata": {
        "colab": {
          "base_uri": "https://localhost:8080/",
          "height": 329
        },
        "id": "Nd4yp5aJbosk",
        "outputId": "d2124d81-8ea8-4b5c-8ce3-8bf9a47a81e6"
      },
      "outputs": [
        {
          "data": {
            "image/png": "[encoded data removed]",
            "text/plain": [
              "<Figure size 1000x500 with 2 Axes>"
            ]
          },
          "metadata": {},
          "output_type": "display_data"
        }
      ],
      "source": [
        "# Plotting epoch loss and validation accuracy graphs\n",
        "num_epochs = len(train_losses)\n",
        "plt.figure(figsize=(10, 5))\n",
        "plt.subplot(1, 2, 1)\n",
        "plt.plot(range(1, num_epochs + 1), train_losses, label='Train Loss', color='red')\n",
        "plt.xlabel('Epoch')\n",
        "plt.ylabel('Loss')\n",
        "plt.title('Epoch Loss')\n",
        "plt.legend()\n",
        "\n",
        "plt.subplot(1, 2, 2)\n",
        "plt.plot(range(1, num_epochs + 1), val_accuracies, label='Validation Accuracy', color='green')\n",
        "plt.xlabel('Epoch')\n",
        "plt.ylabel('Accuracy')\n",
        "plt.title('Validation Accuracy')\n",
        "plt.legend()\n",
        "\n",
        "save_path = \"/content/drive/MyDrive/Colab Notebooks/BBAO1_plot.png\"\n",
        "plt.savefig(save_path)\n",
        "\n",
        "plt.tight_layout()\n",
        "plt.show()"
      ],
      "id": "Nd4yp5aJbosk"
    },
    {
      "cell_type": "code",
      "execution_count": null,
      "metadata": {
        "colab": {
          "base_uri": "https://localhost:8080/"
        },
        "id": "SIjvJPJHbosk",
        "outputId": "57c61715-56b1-436b-d996-9f6c236ea53d"
      },
      "outputs": [
        {
          "data": {
            "text/plain": [
              "BertForSequenceClassification(\n",
              "  (bert): BertModel(\n",
              "    (embeddings): BertEmbeddings(\n",
              "      (word_embeddings): Embedding(30522, 768, padding_idx=0)\n",
              "      (position_embeddings): Embedding(512, 768)\n",
              "      (token_type_embeddings): Embedding(2, 768)\n",
              "      (LayerNorm): LayerNorm((768,), eps=1e-12, elementwise_affine=True)\n",
              "      (dropout): Dropout(p=0.1, inplace=False)\n",
              "    )\n",
              "    (encoder): BertEncoder(\n",
              "      (layer): ModuleList(\n",
              "        (0-11): 12 x BertLayer(\n",
              "          (attention): BertAttention(\n",
              "            (self): BertSelfAttention(\n",
              "              (query): Linear(in_features=768, out_features=768, bias=True)\n",
              "              (key): Linear(in_features=768, out_features=768, bias=True)\n",
              "              (value): Linear(in_features=768, out_features=768, bias=True)\n",
              "              (dropout): Dropout(p=0.1, inplace=False)\n",
              "            )\n",
              "            (output): BertSelfOutput(\n",
              "              (dense): Linear(in_features=768, out_features=768, bias=True)\n",
              "              (LayerNorm): LayerNorm((768,), eps=1e-12, elementwise_affine=True)\n",
              "              (dropout): Dropout(p=0.1, inplace=False)\n",
              "            )\n",
              "          )\n",
              "          (intermediate): BertIntermediate(\n",
              "            (dense): Linear(in_features=768, out_features=3072, bias=True)\n",
              "            (intermediate_act_fn): GELUActivation()\n",
              "          )\n",
              "          (output): BertOutput(\n",
              "            (dense): Linear(in_features=3072, out_features=768, bias=True)\n",
              "            (LayerNorm): LayerNorm((768,), eps=1e-12, elementwise_affine=True)\n",
              "            (dropout): Dropout(p=0.1, inplace=False)\n",
              "          )\n",
              "        )\n",
              "      )\n",
              "    )\n",
              "    (pooler): BertPooler(\n",
              "      (dense): Linear(in_features=768, out_features=768, bias=True)\n",
              "      (activation): Tanh()\n",
              "    )\n",
              "  )\n",
              "  (dropout): Dropout(p=0.1, inplace=False)\n",
              "  (classifier): Linear(in_features=768, out_features=2, bias=True)\n",
              ")"
            ]
          },
          "execution_count": 40,
          "metadata": {},
          "output_type": "execute_result"
        }
      ],
      "source": [
        "# Loading trained model\n",
        "BERT_Tuned_file = \"/content/drive/MyDrive/Colab Notebooks/BBAO1.pt\"\n",
        "model.load_state_dict(torch.load(BERT_Tuned_file))\n",
        "model.eval()"
      ],
      "id": "SIjvJPJHbosk"
    },
    {
      "cell_type": "code",
      "execution_count": null,
      "metadata": {
        "colab": {
          "base_uri": "https://localhost:8080/"
        },
        "id": "LoctLc5Hbosl",
        "outputId": "0f7e3ae3-951f-4752-8365-dced0f7bb79b"
      },
      "outputs": [
        {
          "name": "stdout",
          "output_type": "stream",
          "text": [
            "Accuracy: 89.72%\n",
            "Classification Report:\n",
            "               precision    recall  f1-score   support\n",
            "\n",
            "    negative       0.88      0.92      0.90     10012\n",
            "    positive       0.91      0.88      0.89      9938\n",
            "\n",
            "    accuracy                           0.90     19950\n",
            "   macro avg       0.90      0.90      0.90     19950\n",
            "weighted avg       0.90      0.90      0.90     19950\n",
            "\n",
            "Confusion Matrix:\n",
            " [[9168  844]\n",
            " [1206 8732]]\n"
          ]
        }
      ],
      "source": [
        "model.to(device)\n",
        "\n",
        "# Creating dataloaders for test\n",
        "batch_size = 32\n",
        "num_cpu = 12\n",
        "\n",
        "test_dataloader = DataLoader(test_dataset, batch_size=batch_size, num_workers=num_cpu, pin_memory=True, shuffle=False)\n",
        "\n",
        "# Evaluating the model on the test set\n",
        "all_preds = []\n",
        "all_labels = []\n",
        "\n",
        "all_preds.clear()\n",
        "all_labels.clear()\n",
        "\n",
        "with torch.no_grad():\n",
        "        for inputs, attention_masks, labels in test_dataloader:\n",
        "            inputs = inputs.to(device)\n",
        "            attention_masks = attention_masks.to(device)\n",
        "            labels = labels.to(device)\n",
        "\n",
        "            outputs = model(inputs, attention_mask=attention_masks)\n",
        "            _, preds = torch.max(outputs.logits, dim=1)\n",
        "\n",
        "            all_preds.extend(preds.cpu().numpy())\n",
        "            all_labels.extend(labels.cpu().numpy())\n",
        "\n",
        "# Calculating evaluation metrics\n",
        "accuracy = accuracy_score(all_labels, all_preds) * 100\n",
        "\n",
        "class_names = [\"negative\", \"positive\"]\n",
        "class_report = classification_report(all_labels, all_preds, target_names=class_names)\n",
        "conf_matrix = confusion_matrix(all_labels, all_preds)\n",
        "\n",
        "print(f\"Accuracy: {accuracy:.2f}%\")\n",
        "print(\"Classification Report:\\n\", class_report)\n",
        "print(\"Confusion Matrix:\\n\", conf_matrix)"
      ],
      "id": "LoctLc5Hbosl"
    },
    {
      "cell_type": "markdown",
      "metadata": {
        "id": "tkoH2gqZhl-w"
      },
      "source": [
        "# 3 Lamb Optimizer with Exponential LR Scheduler\n",
        "\n",
        "\n"
      ],
      "id": "tkoH2gqZhl-w"
    },
    {
      "cell_type": "code",
      "execution_count": null,
      "metadata": {
        "colab": {
          "base_uri": "https://localhost:8080/"
        },
        "id": "2yPTFEr7oLSq",
        "outputId": "90b31906-fed5-44f4-bac2-3df18e99250a"
      },
      "outputs": [
        {
          "name": "stdout",
          "output_type": "stream",
          "text": [
            "Collecting torch_optimizer\n",
            "  Downloading torch_optimizer-0.3.0-py3-none-any.whl (61 kB)\n",
            "\u001b[?25l     \u001b[90m━━━━━━━━━━━━━━━━━━━━━━━━━━━━━━━━━━━━━━━━\u001b[0m \u001b[32m0.0/61.9 kB\u001b[0m \u001b[31m?\u001b[0m eta \u001b[36m-:--:--\u001b[0m\r\u001b[2K     \u001b[90m━━━━━━━━━━━━━━━━━━━━━━━━━━━━━━━━━━━━━━━━\u001b[0m \u001b[32m61.9/61.9 kB\u001b[0m \u001b[31m2.0 MB/s\u001b[0m eta \u001b[36m0:00:00\u001b[0m\n",
            "\u001b[?25hRequirement already satisfied: torch>=1.5.0 in /usr/local/lib/python3.10/dist-packages (from torch_optimizer) (2.0.1+cu118)\n",
            "Collecting pytorch-ranger>=0.1.1 (from torch_optimizer)\n",
            "  Downloading pytorch_ranger-0.1.1-py3-none-any.whl (14 kB)\n",
            "Requirement already satisfied: filelock in /usr/local/lib/python3.10/dist-packages (from torch>=1.5.0->torch_optimizer) (3.12.2)\n",
            "Requirement already satisfied: typing-extensions in /usr/local/lib/python3.10/dist-packages (from torch>=1.5.0->torch_optimizer) (4.5.0)\n",
            "Requirement already satisfied: sympy in /usr/local/lib/python3.10/dist-packages (from torch>=1.5.0->torch_optimizer) (1.12)\n",
            "Requirement already satisfied: networkx in /usr/local/lib/python3.10/dist-packages (from torch>=1.5.0->torch_optimizer) (3.1)\n",
            "Requirement already satisfied: jinja2 in /usr/local/lib/python3.10/dist-packages (from torch>=1.5.0->torch_optimizer) (3.1.2)\n",
            "Requirement already satisfied: triton==2.0.0 in /usr/local/lib/python3.10/dist-packages (from torch>=1.5.0->torch_optimizer) (2.0.0)\n",
            "Requirement already satisfied: cmake in /usr/local/lib/python3.10/dist-packages (from triton==2.0.0->torch>=1.5.0->torch_optimizer) (3.27.4.1)\n",
            "Requirement already satisfied: lit in /usr/local/lib/python3.10/dist-packages (from triton==2.0.0->torch>=1.5.0->torch_optimizer) (16.0.6)\n",
            "Requirement already satisfied: MarkupSafe>=2.0 in /usr/local/lib/python3.10/dist-packages (from jinja2->torch>=1.5.0->torch_optimizer) (2.1.3)\n",
            "Requirement already satisfied: mpmath>=0.19 in /usr/local/lib/python3.10/dist-packages (from sympy->torch>=1.5.0->torch_optimizer) (1.3.0)\n",
            "Installing collected packages: pytorch-ranger, torch_optimizer\n",
            "Successfully installed pytorch-ranger-0.1.1 torch_optimizer-0.3.0\n"
          ]
        }
      ],
      "source": [
        "!pip install torch_optimizer"
      ],
      "id": "2yPTFEr7oLSq"
    },
    {
      "cell_type": "code",
      "execution_count": null,
      "metadata": {
        "id": "4INZgzRwmdCI"
      },
      "outputs": [],
      "source": [
        "from torch_optimizer import Lamb\n",
        "from torch.optim.lr_scheduler import ExponentialLR"
      ],
      "id": "4INZgzRwmdCI"
    },
    {
      "cell_type": "code",
      "execution_count": null,
      "metadata": {
        "colab": {
          "background_save": true,
          "base_uri": "https://localhost:8080/"
        },
        "id": "wfxXe0Rxhl-x",
        "outputId": "b843afd1-28a5-45c2-ac20-452dcb3cf060"
      },
      "outputs": [
        {
          "name": "stderr",
          "output_type": "stream",
          "text": [
            "Some weights of BertForSequenceClassification were not initialized from the model checkpoint at bert-base-uncased and are newly initialized: ['classifier.weight', 'classifier.bias']\n",
            "You should probably TRAIN this model on a down-stream task to be able to use it for predictions and inference.\n"
          ]
        },
        {
          "name": "stdout",
          "output_type": "stream",
          "text": [
            "Epoch 1/5, Loss: 0.6456691488583882, Validation Accuracy: 0.7663787375415282\n",
            "Epoch 2/5, Loss: 0.485677320543925, Validation Accuracy: 0.8483056478405315\n",
            "Epoch 3/5, Loss: 0.37603947857220965, Validation Accuracy: 0.8641860465116279\n",
            "Epoch 4/5, Loss: 0.33342234705289203, Validation Accuracy: 0.8683056478405315\n",
            "Epoch 5/5, Loss: 0.31133826540311177, Validation Accuracy: 0.8765448504983389\n"
          ]
        }
      ],
      "source": [
        "model = BertForSequenceClassification.from_pretrained('bert-base-uncased', num_labels=2).to(device)\n",
        "\n",
        "# declaring Hyperparameters\n",
        "batch_size = 32\n",
        "early_stopping_patience = 3\n",
        "epochs_without_improvement = 0\n",
        "num_cpu = 12\n",
        "num_epochs = 5\n",
        "best_accuracy = 0.0\n",
        "train_losses = []\n",
        "val_accuracies = []\n",
        "train_losses.clear()\n",
        "val_accuracies.clear()\n",
        "\n",
        "# optimizer\n",
        "optimizer = Lamb(model.parameters(), lr= 2e-5)\n",
        "scheduler = ExponentialLR(optimizer, gamma=0.95)\n",
        "\n",
        "# Creating data loaders\n",
        "train_dataloader = DataLoader(train_dataset, batch_size=batch_size, num_workers=num_cpu, pin_memory=True, shuffle=True)\n",
        "val_dataloader = DataLoader(val_dataset, batch_size=batch_size, num_workers=num_cpu, pin_memory=True, shuffle=False)\n",
        "\n",
        "for epoch in range(num_epochs):\n",
        "    running_loss = 0.0\n",
        "\n",
        "    # Training\n",
        "    model.train()\n",
        "    for inputs, attention_masks, labels in train_dataloader:\n",
        "        inputs = inputs.to(device)\n",
        "        attention_masks = attention_masks.to(device)\n",
        "        labels = labels.to(device)\n",
        "\n",
        "        optimizer.zero_grad()\n",
        "        outputs = model(inputs, attention_mask=attention_masks, labels = labels)\n",
        "\n",
        "        loss = outputs.loss\n",
        "\n",
        "        loss.backward()\n",
        "        optimizer.step()\n",
        "\n",
        "        running_loss += loss.item() * inputs.size(0)\n",
        "\n",
        "\n",
        "    # Calculate average loss for the epoch\n",
        "    epoch_loss = running_loss / len(train_dataset)\n",
        "    train_losses.append(epoch_loss)\n",
        "\n",
        "    scheduler.step()\n",
        "\n",
        "\n",
        "   # Validation\n",
        "    model.eval()  # Setting model to evaluation mode\n",
        "    correct_predictions = 0\n",
        "    total_predictions = 0\n",
        "\n",
        "    with torch.no_grad():\n",
        "        for inputs, attention_masks, labels in val_dataloader:\n",
        "            inputs = inputs.to(device)\n",
        "            attention_masks = attention_masks.to(device)\n",
        "            labels = labels.to(device)\n",
        "\n",
        "            # Get model's predictions\n",
        "            outputs = model(inputs, attention_mask=attention_masks)\n",
        "            predicted_labels = torch.argmax(outputs.logits, dim=1)\n",
        "\n",
        "            correct_predictions += (predicted_labels == labels).sum().item()\n",
        "            total_predictions += labels.size(0)\n",
        "\n",
        "    accuracy = correct_predictions / total_predictions\n",
        "    val_accuracies.append(accuracy)\n",
        "\n",
        "\n",
        "    if accuracy > best_accuracy:\n",
        "        best_accuracy = accuracy\n",
        "        epochs_without_improvement = 0\n",
        "        best_model_state = model.state_dict()\n",
        "    else:\n",
        "        epochs_without_improvement += 1\n",
        "        if epochs_without_improvement >= early_stopping_patience:\n",
        "            print(\"Early stopping triggered.\")\n",
        "            break\n",
        "\n",
        "    # Printing the loss and accuracy for each epoch\n",
        "    print(f\"Epoch {epoch+1}/{num_epochs}, Loss: {epoch_loss}, Validation Accuracy: {accuracy}\")\n",
        "\n",
        "# Saving the trained model\n",
        "BERT_Tuned_file = \"/content/drive/MyDrive/Colab Notebooks/BBLO.pt\"\n",
        "torch.save(best_model_state, BERT_Tuned_file)"
      ],
      "id": "wfxXe0Rxhl-x"
    },
    {
      "cell_type": "code",
      "execution_count": null,
      "metadata": {
        "colab": {
          "background_save": true
        },
        "id": "_izoIpSHhl-y",
        "outputId": "df3c985d-0071-4237-b50a-35b2efe84fb5"
      },
      "outputs": [
        {
          "data": {
            "image/png": "[encoded data removed]",
            "text/plain": [
              "<Figure size 1000x500 with 2 Axes>"
            ]
          },
          "metadata": {},
          "output_type": "display_data"
        }
      ],
      "source": [
        "# Plotting epoch loss and validation accuracy graphs\n",
        "num_epochs = len(train_losses)\n",
        "plt.figure(figsize=(10, 5))\n",
        "plt.subplot(1, 2, 1)\n",
        "plt.plot(range(1, num_epochs + 1), train_losses, label='Train Loss', color='red')\n",
        "plt.xlabel('Epoch')\n",
        "plt.ylabel('Loss')\n",
        "plt.title('Epoch Loss')\n",
        "plt.legend()\n",
        "\n",
        "plt.subplot(1, 2, 2)\n",
        "plt.plot(range(1, num_epochs + 1), val_accuracies, label='Validation Accuracy', color='green')\n",
        "plt.xlabel('Epoch')\n",
        "plt.ylabel('Accuracy')\n",
        "plt.title('Validation Accuracy')\n",
        "plt.legend()\n",
        "\n",
        "save_path = \"/content/drive/MyDrive/Colab Notebooks/BBLO_plot.png\"\n",
        "plt.savefig(save_path)\n",
        "\n",
        "plt.tight_layout()\n",
        "plt.show()"
      ],
      "id": "_izoIpSHhl-y"
    },
    {
      "cell_type": "code",
      "execution_count": null,
      "metadata": {
        "colab": {
          "background_save": true
        },
        "id": "EtCCehvEhl-y",
        "outputId": "078ae3c5-9996-4bea-a2d0-05f22b2ec942"
      },
      "outputs": [
        {
          "data": {
            "text/plain": [
              "BertForSequenceClassification(\n",
              "  (bert): BertModel(\n",
              "    (embeddings): BertEmbeddings(\n",
              "      (word_embeddings): Embedding(30522, 768, padding_idx=0)\n",
              "      (position_embeddings): Embedding(512, 768)\n",
              "      (token_type_embeddings): Embedding(2, 768)\n",
              "      (LayerNorm): LayerNorm((768,), eps=1e-12, elementwise_affine=True)\n",
              "      (dropout): Dropout(p=0.1, inplace=False)\n",
              "    )\n",
              "    (encoder): BertEncoder(\n",
              "      (layer): ModuleList(\n",
              "        (0-11): 12 x BertLayer(\n",
              "          (attention): BertAttention(\n",
              "            (self): BertSelfAttention(\n",
              "              (query): Linear(in_features=768, out_features=768, bias=True)\n",
              "              (key): Linear(in_features=768, out_features=768, bias=True)\n",
              "              (value): Linear(in_features=768, out_features=768, bias=True)\n",
              "              (dropout): Dropout(p=0.1, inplace=False)\n",
              "            )\n",
              "            (output): BertSelfOutput(\n",
              "              (dense): Linear(in_features=768, out_features=768, bias=True)\n",
              "              (LayerNorm): LayerNorm((768,), eps=1e-12, elementwise_affine=True)\n",
              "              (dropout): Dropout(p=0.1, inplace=False)\n",
              "            )\n",
              "          )\n",
              "          (intermediate): BertIntermediate(\n",
              "            (dense): Linear(in_features=768, out_features=3072, bias=True)\n",
              "            (intermediate_act_fn): GELUActivation()\n",
              "          )\n",
              "          (output): BertOutput(\n",
              "            (dense): Linear(in_features=3072, out_features=768, bias=True)\n",
              "            (LayerNorm): LayerNorm((768,), eps=1e-12, elementwise_affine=True)\n",
              "            (dropout): Dropout(p=0.1, inplace=False)\n",
              "          )\n",
              "        )\n",
              "      )\n",
              "    )\n",
              "    (pooler): BertPooler(\n",
              "      (dense): Linear(in_features=768, out_features=768, bias=True)\n",
              "      (activation): Tanh()\n",
              "    )\n",
              "  )\n",
              "  (dropout): Dropout(p=0.1, inplace=False)\n",
              "  (classifier): Linear(in_features=768, out_features=2, bias=True)\n",
              ")"
            ]
          },
          "execution_count": 46,
          "metadata": {},
          "output_type": "execute_result"
        }
      ],
      "source": [
        "# Loading trained model\n",
        "BERT_Tuned_file = \"/content/drive/MyDrive/Colab Notebooks/BBLO.pt\"\n",
        "model.load_state_dict(torch.load(BERT_Tuned_file))\n",
        "model.eval()"
      ],
      "id": "EtCCehvEhl-y"
    },
    {
      "cell_type": "code",
      "execution_count": null,
      "metadata": {
        "colab": {
          "background_save": true
        },
        "id": "3QQaZIFkhl-z",
        "outputId": "5f1d94a6-f604-4d81-d87e-414164729bbd"
      },
      "outputs": [
        {
          "name": "stdout",
          "output_type": "stream",
          "text": [
            "Accuracy: 87.09%\n",
            "Classification Report:\n",
            "               precision    recall  f1-score   support\n",
            "\n",
            "    negative       0.87      0.87      0.87     10012\n",
            "    positive       0.87      0.87      0.87      9938\n",
            "\n",
            "    accuracy                           0.87     19950\n",
            "   macro avg       0.87      0.87      0.87     19950\n",
            "weighted avg       0.87      0.87      0.87     19950\n",
            "\n",
            "Confusion Matrix:\n",
            " [[8738 1274]\n",
            " [1302 8636]]\n"
          ]
        }
      ],
      "source": [
        "model.to(device)\n",
        "\n",
        "# Creating dataloaders for test\n",
        "batch_size = 32\n",
        "num_cpu = 12\n",
        "\n",
        "test_dataloader = DataLoader(test_dataset, batch_size=batch_size, num_workers=num_cpu, pin_memory=True, shuffle=False)\n",
        "\n",
        "# Evaluating the model on the test set\n",
        "all_preds = []\n",
        "all_labels = []\n",
        "\n",
        "all_preds.clear()\n",
        "all_labels.clear()\n",
        "\n",
        "with torch.no_grad():\n",
        "        for inputs, attention_masks, labels in test_dataloader:\n",
        "            inputs = inputs.to(device)\n",
        "            attention_masks = attention_masks.to(device)\n",
        "            labels = labels.to(device)\n",
        "\n",
        "            outputs = model(inputs, attention_mask=attention_masks)\n",
        "            _, preds = torch.max(outputs.logits, dim=1)\n",
        "\n",
        "            all_preds.extend(preds.cpu().numpy())\n",
        "            all_labels.extend(labels.cpu().numpy())\n",
        "\n",
        "# Calculating evaluation metrics\n",
        "accuracy = accuracy_score(all_labels, all_preds) * 100\n",
        "\n",
        "class_names = [\"negative\", \"positive\"]\n",
        "class_report = classification_report(all_labels, all_preds, target_names=class_names)\n",
        "conf_matrix = confusion_matrix(all_labels, all_preds)\n",
        "\n",
        "print(f\"Accuracy: {accuracy:.2f}%\")\n",
        "print(\"Classification Report:\\n\", class_report)\n",
        "print(\"Confusion Matrix:\\n\", conf_matrix)"
      ],
      "id": "3QQaZIFkhl-z"
    },
    {
      "cell_type": "markdown",
      "metadata": {
        "id": "nTIX36MnhpEu"
      },
      "source": [
        "# 4 Adagrad Optimizer with reduce LR on Plataeu LR Scheduler\n",
        "\n",
        "\n"
      ],
      "id": "nTIX36MnhpEu"
    },
    {
      "cell_type": "code",
      "execution_count": null,
      "metadata": {
        "id": "3pFZ9ccBpGj3"
      },
      "outputs": [],
      "source": [
        "from torch.optim.lr_scheduler import ReduceLROnPlateau"
      ],
      "id": "3pFZ9ccBpGj3"
    },
    {
      "cell_type": "code",
      "execution_count": null,
      "metadata": {
        "id": "5KmrqIoYhpEv",
        "colab": {
          "base_uri": "https://localhost:8080/"
        },
        "outputId": "92eaf551-69ca-4347-8745-42e9f7c727d9"
      },
      "outputs": [
        {
          "output_type": "stream",
          "name": "stderr",
          "text": [
            "Some weights of BertForSequenceClassification were not initialized from the model checkpoint at bert-base-uncased and are newly initialized: ['classifier.bias', 'classifier.weight']\n",
            "You should probably TRAIN this model on a down-stream task to be able to use it for predictions and inference.\n"
          ]
        },
        {
          "output_type": "stream",
          "name": "stdout",
          "text": [
            "Epoch 1/5, Loss: 0.43724583586057025, Validation Accuracy: 0.8609966777408637\n",
            "Epoch 2/5, Loss: 0.3232245046774546, Validation Accuracy: 0.8757475083056478\n",
            "Epoch 3/5, Loss: 0.30341375857988995, Validation Accuracy: 0.879468438538206\n",
            "Epoch 4/5, Loss: 0.28848015972773233, Validation Accuracy: 0.881063122923588\n",
            "Epoch 5/5, Loss: 0.2775031840085983, Validation Accuracy: 0.8836544850498339\n"
          ]
        }
      ],
      "source": [
        "model = BertForSequenceClassification.from_pretrained('bert-base-uncased', num_labels=2).to(device)\n",
        "\n",
        "batch_size = 32\n",
        "num_cpu = 12\n",
        "\n",
        "# Creating data loaders\n",
        "train_dataloader = DataLoader(train_dataset, batch_size=batch_size, num_workers=num_cpu, pin_memory=True, shuffle=True)\n",
        "val_dataloader = DataLoader(val_dataset, batch_size=batch_size, num_workers=num_cpu, pin_memory=True, shuffle=False)\n",
        "\n",
        "# declaring Hyperparameters\n",
        "\n",
        "early_stopping_patience = 3\n",
        "epochs_without_improvement = 0\n",
        "num_epochs = 5\n",
        "best_accuracy = 0.0\n",
        "train_losses = []\n",
        "val_accuracies = []\n",
        "train_losses.clear()\n",
        "val_accuracies.clear()\n",
        "\n",
        "# optimizer\n",
        "optimizer = optimizer = optim.Adagrad(model.parameters(), lr=2e-5)\n",
        "scheduler = ReduceLROnPlateau(optimizer, mode='min', factor=0.1, patience=1, verbose=True)\n",
        "\n",
        "for epoch in range(num_epochs):\n",
        "    running_loss = 0.0\n",
        "\n",
        "    # Training\n",
        "    model.train()\n",
        "    for inputs, attention_masks, labels in train_dataloader:\n",
        "        inputs = inputs.to(device)\n",
        "        attention_masks = attention_masks.to(device)\n",
        "        labels = labels.to(device)\n",
        "\n",
        "        optimizer.zero_grad()\n",
        "        outputs = model(inputs, attention_mask=attention_masks, labels = labels)\n",
        "\n",
        "        loss = outputs.loss\n",
        "\n",
        "        loss.backward()\n",
        "        optimizer.step()\n",
        "\n",
        "        running_loss += loss.item() * inputs.size(0)\n",
        "\n",
        "\n",
        "    # Calculate average loss for the epoch\n",
        "    epoch_loss = running_loss / len(train_dataset)\n",
        "    train_losses.append(epoch_loss)\n",
        "\n",
        "    scheduler.step(epoch_loss)\n",
        "\n",
        "\n",
        "   # Validation\n",
        "    model.eval()  # Setting model to evaluation mode\n",
        "    correct_predictions = 0\n",
        "    total_predictions = 0\n",
        "\n",
        "    with torch.no_grad():\n",
        "        for inputs, attention_masks, labels in val_dataloader:\n",
        "            inputs = inputs.to(device)\n",
        "            attention_masks = attention_masks.to(device)\n",
        "            labels = labels.to(device)\n",
        "\n",
        "            # Get model's predictions\n",
        "            outputs = model(inputs, attention_mask=attention_masks)\n",
        "            predicted_labels = torch.argmax(outputs.logits, dim=1)\n",
        "\n",
        "            correct_predictions += (predicted_labels == labels).sum().item()\n",
        "            total_predictions += labels.size(0)\n",
        "\n",
        "    accuracy = correct_predictions / total_predictions\n",
        "    val_accuracies.append(accuracy)\n",
        "\n",
        "\n",
        "    if accuracy > best_accuracy:\n",
        "        best_accuracy = accuracy\n",
        "        epochs_without_improvement = 0\n",
        "        best_model_state = model.state_dict()\n",
        "    else:\n",
        "        epochs_without_improvement += 1\n",
        "        if epochs_without_improvement >= early_stopping_patience:\n",
        "            print(\"Early stopping triggered.\")\n",
        "            break\n",
        "\n",
        "    # Printing the loss and accuracy for each epoch\n",
        "    print(f\"Epoch {epoch+1}/{num_epochs}, Loss: {epoch_loss}, Validation Accuracy: {accuracy}\")\n",
        "\n",
        "# Saving the trained model\n",
        "BERT_Tuned_file = \"/content/drive/MyDrive/Colab Notebooks/BBAG.pt\"\n",
        "torch.save(best_model_state, BERT_Tuned_file)"
      ],
      "id": "5KmrqIoYhpEv"
    },
    {
      "cell_type": "code",
      "execution_count": null,
      "metadata": {
        "id": "3Xu31KzchpEv",
        "colab": {
          "base_uri": "https://localhost:8080/",
          "height": 348
        },
        "outputId": "e5d3d4da-0fd5-47fe-fda7-b554a8769161"
      },
      "outputs": [
        {
          "output_type": "display_data",
          "data": {
            "text/plain": [
              "<Figure size 1000x500 with 2 Axes>"
            ],
            "image/png": "[encoded data removed]"
          },
          "metadata": {}
        }
      ],
      "source": [
        "# Plotting epoch loss and validation accuracy graphs\n",
        "num_epochs = len(train_losses)\n",
        "plt.figure(figsize=(10, 5))\n",
        "plt.subplot(1, 2, 1)\n",
        "plt.plot(range(1, num_epochs + 1), train_losses, label='Train Loss', color='red')\n",
        "plt.xlabel('Epoch')\n",
        "plt.ylabel('Loss')\n",
        "plt.title('Epoch Loss')\n",
        "plt.legend()\n",
        "\n",
        "plt.subplot(1, 2, 2)\n",
        "plt.plot(range(1, num_epochs + 1), val_accuracies, label='Validation Accuracy', color='green')\n",
        "plt.xlabel('Epoch')\n",
        "plt.ylabel('Accuracy')\n",
        "plt.title('Validation Accuracy')\n",
        "plt.legend()\n",
        "\n",
        "save_path = \"/content/drive/MyDrive/Colab Notebooks/BBAG_plot.png\"\n",
        "plt.savefig(save_path)\n",
        "\n",
        "plt.tight_layout()\n",
        "plt.show()"
      ],
      "id": "3Xu31KzchpEv"
    },
    {
      "cell_type": "code",
      "execution_count": null,
      "metadata": {
        "id": "eYUYAHCGhpEw",
        "colab": {
          "base_uri": "https://localhost:8080/"
        },
        "outputId": "dc9f9299-bac3-4ba1-d9f8-ca5420bab2d4"
      },
      "outputs": [
        {
          "output_type": "execute_result",
          "data": {
            "text/plain": [
              "BertForSequenceClassification(\n",
              "  (bert): BertModel(\n",
              "    (embeddings): BertEmbeddings(\n",
              "      (word_embeddings): Embedding(30522, 768, padding_idx=0)\n",
              "      (position_embeddings): Embedding(512, 768)\n",
              "      (token_type_embeddings): Embedding(2, 768)\n",
              "      (LayerNorm): LayerNorm((768,), eps=1e-12, elementwise_affine=True)\n",
              "      (dropout): Dropout(p=0.1, inplace=False)\n",
              "    )\n",
              "    (encoder): BertEncoder(\n",
              "      (layer): ModuleList(\n",
              "        (0-11): 12 x BertLayer(\n",
              "          (attention): BertAttention(\n",
              "            (self): BertSelfAttention(\n",
              "              (query): Linear(in_features=768, out_features=768, bias=True)\n",
              "              (key): Linear(in_features=768, out_features=768, bias=True)\n",
              "              (value): Linear(in_features=768, out_features=768, bias=True)\n",
              "              (dropout): Dropout(p=0.1, inplace=False)\n",
              "            )\n",
              "            (output): BertSelfOutput(\n",
              "              (dense): Linear(in_features=768, out_features=768, bias=True)\n",
              "              (LayerNorm): LayerNorm((768,), eps=1e-12, elementwise_affine=True)\n",
              "              (dropout): Dropout(p=0.1, inplace=False)\n",
              "            )\n",
              "          )\n",
              "          (intermediate): BertIntermediate(\n",
              "            (dense): Linear(in_features=768, out_features=3072, bias=True)\n",
              "            (intermediate_act_fn): GELUActivation()\n",
              "          )\n",
              "          (output): BertOutput(\n",
              "            (dense): Linear(in_features=3072, out_features=768, bias=True)\n",
              "            (LayerNorm): LayerNorm((768,), eps=1e-12, elementwise_affine=True)\n",
              "            (dropout): Dropout(p=0.1, inplace=False)\n",
              "          )\n",
              "        )\n",
              "      )\n",
              "    )\n",
              "    (pooler): BertPooler(\n",
              "      (dense): Linear(in_features=768, out_features=768, bias=True)\n",
              "      (activation): Tanh()\n",
              "    )\n",
              "  )\n",
              "  (dropout): Dropout(p=0.1, inplace=False)\n",
              "  (classifier): Linear(in_features=768, out_features=2, bias=True)\n",
              ")"
            ]
          },
          "metadata": {},
          "execution_count": 33
        }
      ],
      "source": [
        "# Loading trained model\n",
        "BERT_Tuned_file = \"/content/drive/MyDrive/Colab Notebooks/BBAG.pt\"\n",
        "model.load_state_dict(torch.load(BERT_Tuned_file))\n",
        "model.eval()"
      ],
      "id": "eYUYAHCGhpEw"
    },
    {
      "cell_type": "code",
      "execution_count": null,
      "metadata": {
        "id": "y1sVndIWhpEw",
        "colab": {
          "base_uri": "https://localhost:8080/"
        },
        "outputId": "44e4bfc6-eee8-4f5a-e1e3-57559912a4b9"
      },
      "outputs": [
        {
          "output_type": "stream",
          "name": "stdout",
          "text": [
            "Accuracy: 87.74%\n",
            "Classification Report:\n",
            "               precision    recall  f1-score   support\n",
            "\n",
            "    negative       0.87      0.88      0.88     10012\n",
            "    positive       0.88      0.87      0.88      9938\n",
            "\n",
            "    accuracy                           0.88     19950\n",
            "   macro avg       0.88      0.88      0.88     19950\n",
            "weighted avg       0.88      0.88      0.88     19950\n",
            "\n",
            "Confusion Matrix:\n",
            " [[8833 1179]\n",
            " [1267 8671]]\n"
          ]
        }
      ],
      "source": [
        "model.to(device)\n",
        "\n",
        "# Creating dataloaders for test\n",
        "batch_size = 32\n",
        "num_cpu = 12\n",
        "\n",
        "test_dataloader = DataLoader(test_dataset, batch_size=batch_size, num_workers=num_cpu, pin_memory=True, shuffle=False)\n",
        "\n",
        "# Evaluating the model on the test set\n",
        "all_preds = []\n",
        "all_labels = []\n",
        "\n",
        "all_preds.clear()\n",
        "all_labels.clear()\n",
        "\n",
        "with torch.no_grad():\n",
        "        for inputs, attention_masks, labels in test_dataloader:\n",
        "            inputs = inputs.to(device)\n",
        "            attention_masks = attention_masks.to(device)\n",
        "            labels = labels.to(device)\n",
        "\n",
        "            outputs = model(inputs, attention_mask=attention_masks)\n",
        "            _, preds = torch.max(outputs.logits, dim=1)\n",
        "\n",
        "            all_preds.extend(preds.cpu().numpy())\n",
        "            all_labels.extend(labels.cpu().numpy())\n",
        "\n",
        "# Calculating evaluation metrics\n",
        "accuracy = accuracy_score(all_labels, all_preds) * 100\n",
        "\n",
        "class_names = [\"negative\", \"positive\"]\n",
        "class_report = classification_report(all_labels, all_preds, target_names=class_names)\n",
        "conf_matrix = confusion_matrix(all_labels, all_preds)\n",
        "\n",
        "print(f\"Accuracy: {accuracy:.2f}%\")\n",
        "print(\"Classification Report:\\n\", class_report)\n",
        "print(\"Confusion Matrix:\\n\", conf_matrix)"
      ],
      "id": "y1sVndIWhpEw"
    },
    {
      "cell_type": "markdown",
      "metadata": {
        "id": "FtTaRS3IhpX6"
      },
      "source": [
        "# 5 AdamW Optimizer with get linear schedule with warm up LR Scheduler\n",
        "\n",
        "\n"
      ],
      "id": "FtTaRS3IhpX6"
    },
    {
      "cell_type": "code",
      "execution_count": null,
      "metadata": {
        "id": "tk1e6y45h_qb"
      },
      "outputs": [],
      "source": [
        "from transformers import get_linear_schedule_with_warmup"
      ],
      "id": "tk1e6y45h_qb"
    },
    {
      "cell_type": "code",
      "execution_count": null,
      "metadata": {
        "id": "3tsGoENehpX7",
        "colab": {
          "base_uri": "https://localhost:8080/"
        },
        "outputId": "132f9ea5-d6fc-478e-a7fc-0df4de81981d"
      },
      "outputs": [
        {
          "output_type": "stream",
          "name": "stderr",
          "text": [
            "Some weights of BertForSequenceClassification were not initialized from the model checkpoint at bert-base-uncased and are newly initialized: ['classifier.bias', 'classifier.weight']\n",
            "You should probably TRAIN this model on a down-stream task to be able to use it for predictions and inference.\n"
          ]
        },
        {
          "output_type": "stream",
          "name": "stdout",
          "text": [
            "Epoch 1/5, Loss: 0.6988629462877909, Validation Accuracy: 0.4825249169435216\n",
            "Epoch 2/5, Loss: 0.6964161300341288, Validation Accuracy: 0.547375415282392\n",
            "Epoch 3/5, Loss: 0.6858415283838908, Validation Accuracy: 0.6665116279069767\n",
            "Epoch 4/5, Loss: 0.630430638217926, Validation Accuracy: 0.7938205980066445\n",
            "Epoch 5/5, Loss: 0.46319122444788613, Validation Accuracy: 0.8539534883720931\n"
          ]
        }
      ],
      "source": [
        "model = BertForSequenceClassification.from_pretrained('bert-base-uncased', num_labels=2).to(device)\n",
        "\n",
        "batch_size = 32\n",
        "num_cpu = 12\n",
        "\n",
        "# Creating data loaders\n",
        "train_dataloader = DataLoader(train_dataset, batch_size=batch_size, num_workers=num_cpu, pin_memory=True, shuffle=True)\n",
        "val_dataloader = DataLoader(val_dataset, batch_size=batch_size, num_workers=num_cpu, pin_memory=True, shuffle=False)\n",
        "\n",
        "# declaring Hyperparameters\n",
        "\n",
        "early_stopping_patience = 3\n",
        "epochs_without_improvement = 0\n",
        "num_epochs = 5\n",
        "steps_per_epoch = len(train_dataloader)\n",
        "total_steps = num_epochs * steps_per_epoch\n",
        "best_accuracy = 0.0\n",
        "train_losses = []\n",
        "val_accuracies = []\n",
        "train_losses.clear()\n",
        "val_accuracies.clear()\n",
        "\n",
        "# optimizer\n",
        "optimizer = optim.AdamW(model.parameters(), lr=2e-5, eps=1e-08)\n",
        "scheduler = get_linear_schedule_with_warmup(optimizer, num_warmup_steps=0.1 * total_steps, num_training_steps=total_steps)\n",
        "\n",
        "\n",
        "for epoch in range(num_epochs):\n",
        "    running_loss = 0.0\n",
        "\n",
        "    # Training\n",
        "    model.train()\n",
        "    for inputs, attention_masks, labels in train_dataloader:\n",
        "        inputs = inputs.to(device)\n",
        "        attention_masks = attention_masks.to(device)\n",
        "        labels = labels.to(device)\n",
        "\n",
        "        optimizer.zero_grad()\n",
        "        outputs = model(inputs, attention_mask=attention_masks, labels = labels)\n",
        "\n",
        "        loss = outputs.loss\n",
        "\n",
        "        loss.backward()\n",
        "\n",
        "        optimizer.step()\n",
        "\n",
        "        running_loss += loss.item() * inputs.size(0)\n",
        "\n",
        "\n",
        "    # Calculate average loss for the epoch\n",
        "    epoch_loss = running_loss / len(train_dataset)\n",
        "    train_losses.append(epoch_loss)\n",
        "\n",
        "    scheduler.step()\n",
        "\n",
        "\n",
        "   # Validation\n",
        "    model.eval()  # Setting model to evaluation mode\n",
        "    correct_predictions = 0\n",
        "    total_predictions = 0\n",
        "\n",
        "    with torch.no_grad():\n",
        "        for inputs, attention_masks, labels in val_dataloader:\n",
        "            inputs = inputs.to(device)\n",
        "            attention_masks = attention_masks.to(device)\n",
        "            labels = labels.to(device)\n",
        "\n",
        "            # Get model's predictions\n",
        "            outputs = model(inputs, attention_mask=attention_masks)\n",
        "            predicted_labels = torch.argmax(outputs.logits, dim=1)\n",
        "\n",
        "            correct_predictions += (predicted_labels == labels).sum().item()\n",
        "            total_predictions += labels.size(0)\n",
        "\n",
        "    accuracy = correct_predictions / total_predictions\n",
        "    val_accuracies.append(accuracy)\n",
        "\n",
        "\n",
        "    if accuracy > best_accuracy:\n",
        "        best_accuracy = accuracy\n",
        "        epochs_without_improvement = 0\n",
        "        best_model_state = model.state_dict()\n",
        "    else:\n",
        "        epochs_without_improvement += 1\n",
        "        if epochs_without_improvement >= early_stopping_patience:\n",
        "            print(\"Early stopping triggered.\")\n",
        "            break\n",
        "\n",
        "    # Printing the loss and accuracy for each epoch\n",
        "    print(f\"Epoch {epoch+1}/{num_epochs}, Loss: {epoch_loss}, Validation Accuracy: {accuracy}\")\n",
        "\n",
        "# Saving the trained model\n",
        "BERT_Tuned_file = \"/content/drive/MyDrive/Colab Notebooks/BBAW.pt\"\n",
        "torch.save(best_model_state, BERT_Tuned_file)"
      ],
      "id": "3tsGoENehpX7"
    },
    {
      "cell_type": "code",
      "execution_count": null,
      "metadata": {
        "id": "LdAuhtj_hpX7",
        "colab": {
          "base_uri": "https://localhost:8080/",
          "height": 348
        },
        "outputId": "d9421cf1-1ce4-40c9-deda-460f6cf90a60"
      },
      "outputs": [
        {
          "output_type": "display_data",
          "data": {
            "text/plain": [
              "<Figure size 1000x500 with 2 Axes>"
            ],
            "image/png": "[encoded data removed]"
          },
          "metadata": {}
        }
      ],
      "source": [
        "# Plotting epoch loss and validation accuracy graphs\n",
        "num_epochs = len(train_losses)\n",
        "plt.figure(figsize=(10, 5))\n",
        "plt.subplot(1, 2, 1)\n",
        "plt.plot(range(1, num_epochs + 1), train_losses, label='Train Loss', color='red')\n",
        "plt.xlabel('Epoch')\n",
        "plt.ylabel('Loss')\n",
        "plt.title('Epoch Loss')\n",
        "plt.legend()\n",
        "\n",
        "plt.subplot(1, 2, 2)\n",
        "plt.plot(range(1, num_epochs + 1), val_accuracies, label='Validation Accuracy', color='green')\n",
        "plt.xlabel('Epoch')\n",
        "plt.ylabel('Accuracy')\n",
        "plt.title('Validation Accuracy')\n",
        "plt.legend()\n",
        "\n",
        "save_path = \"/content/drive/MyDrive/Colab Notebooks/BBAW_plot.png\"\n",
        "plt.savefig(save_path)\n",
        "\n",
        "plt.tight_layout()\n",
        "plt.show()"
      ],
      "id": "LdAuhtj_hpX7"
    },
    {
      "cell_type": "code",
      "execution_count": null,
      "metadata": {
        "id": "wJS8JdjChpX7",
        "colab": {
          "base_uri": "https://localhost:8080/"
        },
        "outputId": "e8648733-6ff4-435f-f362-7eb0073495d2"
      },
      "outputs": [
        {
          "output_type": "execute_result",
          "data": {
            "text/plain": [
              "BertForSequenceClassification(\n",
              "  (bert): BertModel(\n",
              "    (embeddings): BertEmbeddings(\n",
              "      (word_embeddings): Embedding(30522, 768, padding_idx=0)\n",
              "      (position_embeddings): Embedding(512, 768)\n",
              "      (token_type_embeddings): Embedding(2, 768)\n",
              "      (LayerNorm): LayerNorm((768,), eps=1e-12, elementwise_affine=True)\n",
              "      (dropout): Dropout(p=0.1, inplace=False)\n",
              "    )\n",
              "    (encoder): BertEncoder(\n",
              "      (layer): ModuleList(\n",
              "        (0-11): 12 x BertLayer(\n",
              "          (attention): BertAttention(\n",
              "            (self): BertSelfAttention(\n",
              "              (query): Linear(in_features=768, out_features=768, bias=True)\n",
              "              (key): Linear(in_features=768, out_features=768, bias=True)\n",
              "              (value): Linear(in_features=768, out_features=768, bias=True)\n",
              "              (dropout): Dropout(p=0.1, inplace=False)\n",
              "            )\n",
              "            (output): BertSelfOutput(\n",
              "              (dense): Linear(in_features=768, out_features=768, bias=True)\n",
              "              (LayerNorm): LayerNorm((768,), eps=1e-12, elementwise_affine=True)\n",
              "              (dropout): Dropout(p=0.1, inplace=False)\n",
              "            )\n",
              "          )\n",
              "          (intermediate): BertIntermediate(\n",
              "            (dense): Linear(in_features=768, out_features=3072, bias=True)\n",
              "            (intermediate_act_fn): GELUActivation()\n",
              "          )\n",
              "          (output): BertOutput(\n",
              "            (dense): Linear(in_features=3072, out_features=768, bias=True)\n",
              "            (LayerNorm): LayerNorm((768,), eps=1e-12, elementwise_affine=True)\n",
              "            (dropout): Dropout(p=0.1, inplace=False)\n",
              "          )\n",
              "        )\n",
              "      )\n",
              "    )\n",
              "    (pooler): BertPooler(\n",
              "      (dense): Linear(in_features=768, out_features=768, bias=True)\n",
              "      (activation): Tanh()\n",
              "    )\n",
              "  )\n",
              "  (dropout): Dropout(p=0.1, inplace=False)\n",
              "  (classifier): Linear(in_features=768, out_features=2, bias=True)\n",
              ")"
            ]
          },
          "metadata": {},
          "execution_count": 38
        }
      ],
      "source": [
        "# Loading trained model\n",
        "BERT_Tuned_file = \"/content/drive/MyDrive/Colab Notebooks/BBAW.pt\"\n",
        "model.load_state_dict(torch.load(BERT_Tuned_file))\n",
        "model.eval()"
      ],
      "id": "wJS8JdjChpX7"
    },
    {
      "cell_type": "code",
      "execution_count": null,
      "metadata": {
        "id": "jZDSP3GPhpX7",
        "colab": {
          "base_uri": "https://localhost:8080/"
        },
        "outputId": "d5ca60ae-6b5b-4529-eb23-07eb3f18702c"
      },
      "outputs": [
        {
          "output_type": "stream",
          "name": "stdout",
          "text": [
            "Accuracy: 84.34%\n",
            "Classification Report:\n",
            "               precision    recall  f1-score   support\n",
            "\n",
            "    negative       0.83      0.86      0.85     10012\n",
            "    positive       0.85      0.83      0.84      9938\n",
            "\n",
            "    accuracy                           0.84     19950\n",
            "   macro avg       0.84      0.84      0.84     19950\n",
            "weighted avg       0.84      0.84      0.84     19950\n",
            "\n",
            "Confusion Matrix:\n",
            " [[8613 1399]\n",
            " [1726 8212]]\n"
          ]
        }
      ],
      "source": [
        "model.to(device)\n",
        "\n",
        "# Creating dataloaders for test\n",
        "batch_size = 32\n",
        "num_cpu = 12\n",
        "\n",
        "test_dataloader = DataLoader(test_dataset, batch_size=batch_size, num_workers=num_cpu, pin_memory=True, shuffle=False)\n",
        "\n",
        "# Evaluating the model on the test set\n",
        "all_preds = []\n",
        "all_labels = []\n",
        "\n",
        "all_preds.clear()\n",
        "all_labels.clear()\n",
        "\n",
        "with torch.no_grad():\n",
        "        for inputs, attention_masks, labels in test_dataloader:\n",
        "            inputs = inputs.to(device)\n",
        "            attention_masks = attention_masks.to(device)\n",
        "            labels = labels.to(device)\n",
        "\n",
        "            outputs = model(inputs, attention_mask=attention_masks)\n",
        "            _, preds = torch.max(outputs.logits, dim=1)\n",
        "\n",
        "            all_preds.extend(preds.cpu().numpy())\n",
        "            all_labels.extend(labels.cpu().numpy())\n",
        "\n",
        "# Calculating evaluation metrics\n",
        "accuracy = accuracy_score(all_labels, all_preds) * 100\n",
        "\n",
        "class_names = [\"negative\", \"positive\"]\n",
        "class_report = classification_report(all_labels, all_preds, target_names=class_names)\n",
        "conf_matrix = confusion_matrix(all_labels, all_preds)\n",
        "\n",
        "print(f\"Accuracy: {accuracy:.2f}%\")\n",
        "print(\"Classification Report:\\n\", class_report)\n",
        "print(\"Confusion Matrix:\\n\", conf_matrix)"
      ],
      "id": "jZDSP3GPhpX7"
    },
    {
      "cell_type": "code",
      "execution_count": null,
      "metadata": {
        "id": "xTkADjqcFgyM",
        "colab": {
          "base_uri": "https://localhost:8080/"
        },
        "outputId": "d27cc3bd-b540-4f0b-f969-059b34d26726"
      },
      "outputs": [
        {
          "output_type": "stream",
          "name": "stdout",
          "text": [
            "Enter a sentence: good\n",
            "Predicted sentiment: positive\n"
          ]
        }
      ],
      "source": [
        "user_input = input(\"Enter a sentence: \")\n",
        "preprocessed_input = preprocess_text(user_input)\n",
        "encoded_input= tokenizer.batch_encode_plus(\n",
        "    [preprocessed_input],\n",
        "    padding=True,\n",
        "    truncation=True,\n",
        "    max_length=512,\n",
        "    return_tensors='pt'\n",
        ")\n",
        "input_ids = encoded_input['input_ids'].to(device)\n",
        "attention_masks_test = encoded_input['attention_mask'].to(device)\n",
        "\n",
        "with torch.no_grad():\n",
        "    outputs = model(input_ids, attention_mask=attention_masks_test)\n",
        "    logits = outputs.logits\n",
        "    predicted_label = torch.argmax(logits, dim=1).item()\n",
        "\n",
        "class_names = [\"negative\", \"positive\"]\n",
        "predicted_sentiment = class_names[predicted_label]\n",
        "print(\"Predicted sentiment:\", predicted_sentiment)"
      ],
      "id": "xTkADjqcFgyM"
    },
    {
      "cell_type": "code",
      "execution_count": null,
      "metadata": {
        "id": "KKTtQYvRsW-y"
      },
      "outputs": [],
      "source": [],
      "id": "KKTtQYvRsW-y"
    }
  ],
  "metadata": {
    "accelerator": "GPU",
    "colab": {
      "machine_shape": "hm",
      "provenance": [],
      "gpuType": "A100"
    },
    "kernelspec": {
      "display_name": "Python 3",
      "name": "python3"
    },
    "language_info": {
      "codemirror_mode": {
        "name": "ipython",
        "version": 3
      },
      "file_extension": ".py",
      "mimetype": "text/x-python",
      "name": "python",
      "nbconvert_exporter": "python",
      "pygments_lexer": "ipython3",
      "version": "3.10.9"
    },
    "widgets": {
      "application/vnd.jupyter.widget-state+json": {
        "002db1652f6b4ed2859d68b1833d9ee4": {
          "model_module": "@jupyter-widgets/controls",
          "model_module_version": "1.5.0",
          "model_name": "FloatProgressModel",
          "state": {
            "_dom_classes": [],
            "_model_module": "@jupyter-widgets/controls",
            "_model_module_version": "1.5.0",
            "_model_name": "FloatProgressModel",
            "_view_count": null,
            "_view_module": "@jupyter-widgets/controls",
            "_view_module_version": "1.5.0",
            "_view_name": "ProgressView",
            "bar_style": "success",
            "description": "",
            "description_tooltip": null,
            "layout": "IPY_MODEL_35cbb6ebf6314656927eae752fc5636e",
            "max": 440449768,
            "min": 0,
            "orientation": "horizontal",
            "style": "IPY_MODEL_b03dc86fdb394b8ba869d60b37f5b256",
            "value": 440449768
          }
        },
        "023b946034b54111a71fcc2226c486c6": {
          "model_module": "@jupyter-widgets/controls",
          "model_module_version": "1.5.0",
          "model_name": "HBoxModel",
          "state": {
            "_dom_classes": [],
            "_model_module": "@jupyter-widgets/controls",
            "_model_module_version": "1.5.0",
            "_model_name": "HBoxModel",
            "_view_count": null,
            "_view_module": "@jupyter-widgets/controls",
            "_view_module_version": "1.5.0",
            "_view_name": "HBoxView",
            "box_style": "",
            "children": [
              "IPY_MODEL_8b4f4ca2c3bb4e76bc80c97cc02b0c90",
              "IPY_MODEL_002db1652f6b4ed2859d68b1833d9ee4",
              "IPY_MODEL_d40c0ab23f334d3caad8d30f9e450228"
            ],
            "layout": "IPY_MODEL_077d37fc6cf64c5f8c45b30210b4a0df"
          }
        },
        "077d37fc6cf64c5f8c45b30210b4a0df": {
          "model_module": "@jupyter-widgets/base",
          "model_module_version": "1.2.0",
          "model_name": "LayoutModel",
          "state": {
            "_model_module": "@jupyter-widgets/base",
            "_model_module_version": "1.2.0",
            "_model_name": "LayoutModel",
            "_view_count": null,
            "_view_module": "@jupyter-widgets/base",
            "_view_module_version": "1.2.0",
            "_view_name": "LayoutView",
            "align_content": null,
            "align_items": null,
            "align_self": null,
            "border": null,
            "bottom": null,
            "display": null,
            "flex": null,
            "flex_flow": null,
            "grid_area": null,
            "grid_auto_columns": null,
            "grid_auto_flow": null,
            "grid_auto_rows": null,
            "grid_column": null,
            "grid_gap": null,
            "grid_row": null,
            "grid_template_areas": null,
            "grid_template_columns": null,
            "grid_template_rows": null,
            "height": null,
            "justify_content": null,
            "justify_items": null,
            "left": null,
            "margin": null,
            "max_height": null,
            "max_width": null,
            "min_height": null,
            "min_width": null,
            "object_fit": null,
            "object_position": null,
            "order": null,
            "overflow": null,
            "overflow_x": null,
            "overflow_y": null,
            "padding": null,
            "right": null,
            "top": null,
            "visibility": null,
            "width": null
          }
        },
        "2f50fb2cc6cc4299bdc49cb2864b2514": {
          "model_module": "@jupyter-widgets/controls",
          "model_module_version": "1.5.0",
          "model_name": "DescriptionStyleModel",
          "state": {
            "_model_module": "@jupyter-widgets/controls",
            "_model_module_version": "1.5.0",
            "_model_name": "DescriptionStyleModel",
            "_view_count": null,
            "_view_module": "@jupyter-widgets/base",
            "_view_module_version": "1.2.0",
            "_view_name": "StyleView",
            "description_width": ""
          }
        },
        "35cbb6ebf6314656927eae752fc5636e": {
          "model_module": "@jupyter-widgets/base",
          "model_module_version": "1.2.0",
          "model_name": "LayoutModel",
          "state": {
            "_model_module": "@jupyter-widgets/base",
            "_model_module_version": "1.2.0",
            "_model_name": "LayoutModel",
            "_view_count": null,
            "_view_module": "@jupyter-widgets/base",
            "_view_module_version": "1.2.0",
            "_view_name": "LayoutView",
            "align_content": null,
            "align_items": null,
            "align_self": null,
            "border": null,
            "bottom": null,
            "display": null,
            "flex": null,
            "flex_flow": null,
            "grid_area": null,
            "grid_auto_columns": null,
            "grid_auto_flow": null,
            "grid_auto_rows": null,
            "grid_column": null,
            "grid_gap": null,
            "grid_row": null,
            "grid_template_areas": null,
            "grid_template_columns": null,
            "grid_template_rows": null,
            "height": null,
            "justify_content": null,
            "justify_items": null,
            "left": null,
            "margin": null,
            "max_height": null,
            "max_width": null,
            "min_height": null,
            "min_width": null,
            "object_fit": null,
            "object_position": null,
            "order": null,
            "overflow": null,
            "overflow_x": null,
            "overflow_y": null,
            "padding": null,
            "right": null,
            "top": null,
            "visibility": null,
            "width": null
          }
        },
        "8b4f4ca2c3bb4e76bc80c97cc02b0c90": {
          "model_module": "@jupyter-widgets/controls",
          "model_module_version": "1.5.0",
          "model_name": "HTMLModel",
          "state": {
            "_dom_classes": [],
            "_model_module": "@jupyter-widgets/controls",
            "_model_module_version": "1.5.0",
            "_model_name": "HTMLModel",
            "_view_count": null,
            "_view_module": "@jupyter-widgets/controls",
            "_view_module_version": "1.5.0",
            "_view_name": "HTMLView",
            "description": "",
            "description_tooltip": null,
            "layout": "IPY_MODEL_fd9d011bfe5f4c5aa20a10f4a06828e6",
            "placeholder": "​",
            "style": "IPY_MODEL_aa51d8fe7bd045cfa7d85c0304c00b2c",
            "value": "Downloading model.safetensors: 100%"
          }
        },
        "aa51d8fe7bd045cfa7d85c0304c00b2c": {
          "model_module": "@jupyter-widgets/controls",
          "model_module_version": "1.5.0",
          "model_name": "DescriptionStyleModel",
          "state": {
            "_model_module": "@jupyter-widgets/controls",
            "_model_module_version": "1.5.0",
            "_model_name": "DescriptionStyleModel",
            "_view_count": null,
            "_view_module": "@jupyter-widgets/base",
            "_view_module_version": "1.2.0",
            "_view_name": "StyleView",
            "description_width": ""
          }
        },
        "b03dc86fdb394b8ba869d60b37f5b256": {
          "model_module": "@jupyter-widgets/controls",
          "model_module_version": "1.5.0",
          "model_name": "ProgressStyleModel",
          "state": {
            "_model_module": "@jupyter-widgets/controls",
            "_model_module_version": "1.5.0",
            "_model_name": "ProgressStyleModel",
            "_view_count": null,
            "_view_module": "@jupyter-widgets/base",
            "_view_module_version": "1.2.0",
            "_view_name": "StyleView",
            "bar_color": null,
            "description_width": ""
          }
        },
        "d40c0ab23f334d3caad8d30f9e450228": {
          "model_module": "@jupyter-widgets/controls",
          "model_module_version": "1.5.0",
          "model_name": "HTMLModel",
          "state": {
            "_dom_classes": [],
            "_model_module": "@jupyter-widgets/controls",
            "_model_module_version": "1.5.0",
            "_model_name": "HTMLModel",
            "_view_count": null,
            "_view_module": "@jupyter-widgets/controls",
            "_view_module_version": "1.5.0",
            "_view_name": "HTMLView",
            "description": "",
            "description_tooltip": null,
            "layout": "IPY_MODEL_fb746bfe476d438197f08699a9146145",
            "placeholder": "​",
            "style": "IPY_MODEL_2f50fb2cc6cc4299bdc49cb2864b2514",
            "value": " 440M/440M [00:01&lt;00:00, 347MB/s]"
          }
        },
        "fb746bfe476d438197f08699a9146145": {
          "model_module": "@jupyter-widgets/base",
          "model_module_version": "1.2.0",
          "model_name": "LayoutModel",
          "state": {
            "_model_module": "@jupyter-widgets/base",
            "_model_module_version": "1.2.0",
            "_model_name": "LayoutModel",
            "_view_count": null,
            "_view_module": "@jupyter-widgets/base",
            "_view_module_version": "1.2.0",
            "_view_name": "LayoutView",
            "align_content": null,
            "align_items": null,
            "align_self": null,
            "border": null,
            "bottom": null,
            "display": null,
            "flex": null,
            "flex_flow": null,
            "grid_area": null,
            "grid_auto_columns": null,
            "grid_auto_flow": null,
            "grid_auto_rows": null,
            "grid_column": null,
            "grid_gap": null,
            "grid_row": null,
            "grid_template_areas": null,
            "grid_template_columns": null,
            "grid_template_rows": null,
            "height": null,
            "justify_content": null,
            "justify_items": null,
            "left": null,
            "margin": null,
            "max_height": null,
            "max_width": null,
            "min_height": null,
            "min_width": null,
            "object_fit": null,
            "object_position": null,
            "order": null,
            "overflow": null,
            "overflow_x": null,
            "overflow_y": null,
            "padding": null,
            "right": null,
            "top": null,
            "visibility": null,
            "width": null
          }
        },
        "fd9d011bfe5f4c5aa20a10f4a06828e6": {
          "model_module": "@jupyter-widgets/base",
          "model_module_version": "1.2.0",
          "model_name": "LayoutModel",
          "state": {
            "_model_module": "@jupyter-widgets/base",
            "_model_module_version": "1.2.0",
            "_model_name": "LayoutModel",
            "_view_count": null,
            "_view_module": "@jupyter-widgets/base",
            "_view_module_version": "1.2.0",
            "_view_name": "LayoutView",
            "align_content": null,
            "align_items": null,
            "align_self": null,
            "border": null,
            "bottom": null,
            "display": null,
            "flex": null,
            "flex_flow": null,
            "grid_area": null,
            "grid_auto_columns": null,
            "grid_auto_flow": null,
            "grid_auto_rows": null,
            "grid_column": null,
            "grid_gap": null,
            "grid_row": null,
            "grid_template_areas": null,
            "grid_template_columns": null,
            "grid_template_rows": null,
            "height": null,
            "justify_content": null,
            "justify_items": null,
            "left": null,
            "margin": null,
            "max_height": null,
            "max_width": null,
            "min_height": null,
            "min_width": null,
            "object_fit": null,
            "object_position": null,
            "order": null,
            "overflow": null,
            "overflow_x": null,
            "overflow_y": null,
            "padding": null,
            "right": null,
            "top": null,
            "visibility": null,
            "width": null
          }
        },
        "2c5a776f674f4e2c8c5e46c8333baed6": {
          "model_module": "@jupyter-widgets/controls",
          "model_name": "HBoxModel",
          "model_module_version": "1.5.0",
          "state": {
            "_dom_classes": [],
            "_model_module": "@jupyter-widgets/controls",
            "_model_module_version": "1.5.0",
            "_model_name": "HBoxModel",
            "_view_count": null,
            "_view_module": "@jupyter-widgets/controls",
            "_view_module_version": "1.5.0",
            "_view_name": "HBoxView",
            "box_style": "",
            "children": [
              "IPY_MODEL_25a39971aa874a9cbfcc40d58233f061",
              "IPY_MODEL_1e7c6684e35e46a998fc1d21e35a62dd",
              "IPY_MODEL_427c6524d75a426f88e01849813c86ba"
            ],
            "layout": "IPY_MODEL_411a04d6951b4125954b044e79868f4e"
          }
        },
        "25a39971aa874a9cbfcc40d58233f061": {
          "model_module": "@jupyter-widgets/controls",
          "model_name": "HTMLModel",
          "model_module_version": "1.5.0",
          "state": {
            "_dom_classes": [],
            "_model_module": "@jupyter-widgets/controls",
            "_model_module_version": "1.5.0",
            "_model_name": "HTMLModel",
            "_view_count": null,
            "_view_module": "@jupyter-widgets/controls",
            "_view_module_version": "1.5.0",
            "_view_name": "HTMLView",
            "description": "",
            "description_tooltip": null,
            "layout": "IPY_MODEL_e4f44626f1b14ab39d93e2ede2c425e0",
            "placeholder": "​",
            "style": "IPY_MODEL_ca8faf92eb7146b9aa284bd6750ced5d",
            "value": "Downloading (…)solve/main/vocab.txt: 100%"
          }
        },
        "1e7c6684e35e46a998fc1d21e35a62dd": {
          "model_module": "@jupyter-widgets/controls",
          "model_name": "FloatProgressModel",
          "model_module_version": "1.5.0",
          "state": {
            "_dom_classes": [],
            "_model_module": "@jupyter-widgets/controls",
            "_model_module_version": "1.5.0",
            "_model_name": "FloatProgressModel",
            "_view_count": null,
            "_view_module": "@jupyter-widgets/controls",
            "_view_module_version": "1.5.0",
            "_view_name": "ProgressView",
            "bar_style": "success",
            "description": "",
            "description_tooltip": null,
            "layout": "IPY_MODEL_27f3b0eacbe44a158fcbdfed43df1948",
            "max": 231508,
            "min": 0,
            "orientation": "horizontal",
            "style": "IPY_MODEL_8f817a7bebc84ed884fbca18fd5e2070",
            "value": 231508
          }
        },
        "427c6524d75a426f88e01849813c86ba": {
          "model_module": "@jupyter-widgets/controls",
          "model_name": "HTMLModel",
          "model_module_version": "1.5.0",
          "state": {
            "_dom_classes": [],
            "_model_module": "@jupyter-widgets/controls",
            "_model_module_version": "1.5.0",
            "_model_name": "HTMLModel",
            "_view_count": null,
            "_view_module": "@jupyter-widgets/controls",
            "_view_module_version": "1.5.0",
            "_view_name": "HTMLView",
            "description": "",
            "description_tooltip": null,
            "layout": "IPY_MODEL_148ef34c39754743af6bbedf573e01fe",
            "placeholder": "​",
            "style": "IPY_MODEL_8b6c4f43b3264b589e0da89d4381c6b6",
            "value": " 232k/232k [00:00&lt;00:00, 11.5MB/s]"
          }
        },
        "411a04d6951b4125954b044e79868f4e": {
          "model_module": "@jupyter-widgets/base",
          "model_name": "LayoutModel",
          "model_module_version": "1.2.0",
          "state": {
            "_model_module": "@jupyter-widgets/base",
            "_model_module_version": "1.2.0",
            "_model_name": "LayoutModel",
            "_view_count": null,
            "_view_module": "@jupyter-widgets/base",
            "_view_module_version": "1.2.0",
            "_view_name": "LayoutView",
            "align_content": null,
            "align_items": null,
            "align_self": null,
            "border": null,
            "bottom": null,
            "display": null,
            "flex": null,
            "flex_flow": null,
            "grid_area": null,
            "grid_auto_columns": null,
            "grid_auto_flow": null,
            "grid_auto_rows": null,
            "grid_column": null,
            "grid_gap": null,
            "grid_row": null,
            "grid_template_areas": null,
            "grid_template_columns": null,
            "grid_template_rows": null,
            "height": null,
            "justify_content": null,
            "justify_items": null,
            "left": null,
            "margin": null,
            "max_height": null,
            "max_width": null,
            "min_height": null,
            "min_width": null,
            "object_fit": null,
            "object_position": null,
            "order": null,
            "overflow": null,
            "overflow_x": null,
            "overflow_y": null,
            "padding": null,
            "right": null,
            "top": null,
            "visibility": null,
            "width": null
          }
        },
        "e4f44626f1b14ab39d93e2ede2c425e0": {
          "model_module": "@jupyter-widgets/base",
          "model_name": "LayoutModel",
          "model_module_version": "1.2.0",
          "state": {
            "_model_module": "@jupyter-widgets/base",
            "_model_module_version": "1.2.0",
            "_model_name": "LayoutModel",
            "_view_count": null,
            "_view_module": "@jupyter-widgets/base",
            "_view_module_version": "1.2.0",
            "_view_name": "LayoutView",
            "align_content": null,
            "align_items": null,
            "align_self": null,
            "border": null,
            "bottom": null,
            "display": null,
            "flex": null,
            "flex_flow": null,
            "grid_area": null,
            "grid_auto_columns": null,
            "grid_auto_flow": null,
            "grid_auto_rows": null,
            "grid_column": null,
            "grid_gap": null,
            "grid_row": null,
            "grid_template_areas": null,
            "grid_template_columns": null,
            "grid_template_rows": null,
            "height": null,
            "justify_content": null,
            "justify_items": null,
            "left": null,
            "margin": null,
            "max_height": null,
            "max_width": null,
            "min_height": null,
            "min_width": null,
            "object_fit": null,
            "object_position": null,
            "order": null,
            "overflow": null,
            "overflow_x": null,
            "overflow_y": null,
            "padding": null,
            "right": null,
            "top": null,
            "visibility": null,
            "width": null
          }
        },
        "ca8faf92eb7146b9aa284bd6750ced5d": {
          "model_module": "@jupyter-widgets/controls",
          "model_name": "DescriptionStyleModel",
          "model_module_version": "1.5.0",
          "state": {
            "_model_module": "@jupyter-widgets/controls",
            "_model_module_version": "1.5.0",
            "_model_name": "DescriptionStyleModel",
            "_view_count": null,
            "_view_module": "@jupyter-widgets/base",
            "_view_module_version": "1.2.0",
            "_view_name": "StyleView",
            "description_width": ""
          }
        },
        "27f3b0eacbe44a158fcbdfed43df1948": {
          "model_module": "@jupyter-widgets/base",
          "model_name": "LayoutModel",
          "model_module_version": "1.2.0",
          "state": {
            "_model_module": "@jupyter-widgets/base",
            "_model_module_version": "1.2.0",
            "_model_name": "LayoutModel",
            "_view_count": null,
            "_view_module": "@jupyter-widgets/base",
            "_view_module_version": "1.2.0",
            "_view_name": "LayoutView",
            "align_content": null,
            "align_items": null,
            "align_self": null,
            "border": null,
            "bottom": null,
            "display": null,
            "flex": null,
            "flex_flow": null,
            "grid_area": null,
            "grid_auto_columns": null,
            "grid_auto_flow": null,
            "grid_auto_rows": null,
            "grid_column": null,
            "grid_gap": null,
            "grid_row": null,
            "grid_template_areas": null,
            "grid_template_columns": null,
            "grid_template_rows": null,
            "height": null,
            "justify_content": null,
            "justify_items": null,
            "left": null,
            "margin": null,
            "max_height": null,
            "max_width": null,
            "min_height": null,
            "min_width": null,
            "object_fit": null,
            "object_position": null,
            "order": null,
            "overflow": null,
            "overflow_x": null,
            "overflow_y": null,
            "padding": null,
            "right": null,
            "top": null,
            "visibility": null,
            "width": null
          }
        },
        "8f817a7bebc84ed884fbca18fd5e2070": {
          "model_module": "@jupyter-widgets/controls",
          "model_name": "ProgressStyleModel",
          "model_module_version": "1.5.0",
          "state": {
            "_model_module": "@jupyter-widgets/controls",
            "_model_module_version": "1.5.0",
            "_model_name": "ProgressStyleModel",
            "_view_count": null,
            "_view_module": "@jupyter-widgets/base",
            "_view_module_version": "1.2.0",
            "_view_name": "StyleView",
            "bar_color": null,
            "description_width": ""
          }
        },
        "148ef34c39754743af6bbedf573e01fe": {
          "model_module": "@jupyter-widgets/base",
          "model_name": "LayoutModel",
          "model_module_version": "1.2.0",
          "state": {
            "_model_module": "@jupyter-widgets/base",
            "_model_module_version": "1.2.0",
            "_model_name": "LayoutModel",
            "_view_count": null,
            "_view_module": "@jupyter-widgets/base",
            "_view_module_version": "1.2.0",
            "_view_name": "LayoutView",
            "align_content": null,
            "align_items": null,
            "align_self": null,
            "border": null,
            "bottom": null,
            "display": null,
            "flex": null,
            "flex_flow": null,
            "grid_area": null,
            "grid_auto_columns": null,
            "grid_auto_flow": null,
            "grid_auto_rows": null,
            "grid_column": null,
            "grid_gap": null,
            "grid_row": null,
            "grid_template_areas": null,
            "grid_template_columns": null,
            "grid_template_rows": null,
            "height": null,
            "justify_content": null,
            "justify_items": null,
            "left": null,
            "margin": null,
            "max_height": null,
            "max_width": null,
            "min_height": null,
            "min_width": null,
            "object_fit": null,
            "object_position": null,
            "order": null,
            "overflow": null,
            "overflow_x": null,
            "overflow_y": null,
            "padding": null,
            "right": null,
            "top": null,
            "visibility": null,
            "width": null
          }
        },
        "8b6c4f43b3264b589e0da89d4381c6b6": {
          "model_module": "@jupyter-widgets/controls",
          "model_name": "DescriptionStyleModel",
          "model_module_version": "1.5.0",
          "state": {
            "_model_module": "@jupyter-widgets/controls",
            "_model_module_version": "1.5.0",
            "_model_name": "DescriptionStyleModel",
            "_view_count": null,
            "_view_module": "@jupyter-widgets/base",
            "_view_module_version": "1.2.0",
            "_view_name": "StyleView",
            "description_width": ""
          }
        },
        "387294591e7f444ba49d09cbee63990e": {
          "model_module": "@jupyter-widgets/controls",
          "model_name": "HBoxModel",
          "model_module_version": "1.5.0",
          "state": {
            "_dom_classes": [],
            "_model_module": "@jupyter-widgets/controls",
            "_model_module_version": "1.5.0",
            "_model_name": "HBoxModel",
            "_view_count": null,
            "_view_module": "@jupyter-widgets/controls",
            "_view_module_version": "1.5.0",
            "_view_name": "HBoxView",
            "box_style": "",
            "children": [
              "IPY_MODEL_b3c902c942ca4c5d928d32d5948afca7",
              "IPY_MODEL_418095dacae6492589fb603a8a3aac9b",
              "IPY_MODEL_8141adbd0a4a437b89a40a9a9c5b7836"
            ],
            "layout": "IPY_MODEL_7fbf0b230af04ce1931b23a53a9e2f25"
          }
        },
        "b3c902c942ca4c5d928d32d5948afca7": {
          "model_module": "@jupyter-widgets/controls",
          "model_name": "HTMLModel",
          "model_module_version": "1.5.0",
          "state": {
            "_dom_classes": [],
            "_model_module": "@jupyter-widgets/controls",
            "_model_module_version": "1.5.0",
            "_model_name": "HTMLModel",
            "_view_count": null,
            "_view_module": "@jupyter-widgets/controls",
            "_view_module_version": "1.5.0",
            "_view_name": "HTMLView",
            "description": "",
            "description_tooltip": null,
            "layout": "IPY_MODEL_89df6ed05b8747c19be5a1b389b8ed42",
            "placeholder": "​",
            "style": "IPY_MODEL_78a161e2e63f41049083d48ce6bd7f4f",
            "value": "Downloading (…)okenizer_config.json: 100%"
          }
        },
        "418095dacae6492589fb603a8a3aac9b": {
          "model_module": "@jupyter-widgets/controls",
          "model_name": "FloatProgressModel",
          "model_module_version": "1.5.0",
          "state": {
            "_dom_classes": [],
            "_model_module": "@jupyter-widgets/controls",
            "_model_module_version": "1.5.0",
            "_model_name": "FloatProgressModel",
            "_view_count": null,
            "_view_module": "@jupyter-widgets/controls",
            "_view_module_version": "1.5.0",
            "_view_name": "ProgressView",
            "bar_style": "success",
            "description": "",
            "description_tooltip": null,
            "layout": "IPY_MODEL_bc62cd35ea324eaf8f0a0eac243f0207",
            "max": 28,
            "min": 0,
            "orientation": "horizontal",
            "style": "IPY_MODEL_85a6d8fc449a4dce9616b57c7e13a365",
            "value": 28
          }
        },
        "8141adbd0a4a437b89a40a9a9c5b7836": {
          "model_module": "@jupyter-widgets/controls",
          "model_name": "HTMLModel",
          "model_module_version": "1.5.0",
          "state": {
            "_dom_classes": [],
            "_model_module": "@jupyter-widgets/controls",
            "_model_module_version": "1.5.0",
            "_model_name": "HTMLModel",
            "_view_count": null,
            "_view_module": "@jupyter-widgets/controls",
            "_view_module_version": "1.5.0",
            "_view_name": "HTMLView",
            "description": "",
            "description_tooltip": null,
            "layout": "IPY_MODEL_1941045b47c04a5f80e471d9c98f46f5",
            "placeholder": "​",
            "style": "IPY_MODEL_417bf4a048b346abb37e4f8eb3cd9506",
            "value": " 28.0/28.0 [00:00&lt;00:00, 2.26kB/s]"
          }
        },
        "7fbf0b230af04ce1931b23a53a9e2f25": {
          "model_module": "@jupyter-widgets/base",
          "model_name": "LayoutModel",
          "model_module_version": "1.2.0",
          "state": {
            "_model_module": "@jupyter-widgets/base",
            "_model_module_version": "1.2.0",
            "_model_name": "LayoutModel",
            "_view_count": null,
            "_view_module": "@jupyter-widgets/base",
            "_view_module_version": "1.2.0",
            "_view_name": "LayoutView",
            "align_content": null,
            "align_items": null,
            "align_self": null,
            "border": null,
            "bottom": null,
            "display": null,
            "flex": null,
            "flex_flow": null,
            "grid_area": null,
            "grid_auto_columns": null,
            "grid_auto_flow": null,
            "grid_auto_rows": null,
            "grid_column": null,
            "grid_gap": null,
            "grid_row": null,
            "grid_template_areas": null,
            "grid_template_columns": null,
            "grid_template_rows": null,
            "height": null,
            "justify_content": null,
            "justify_items": null,
            "left": null,
            "margin": null,
            "max_height": null,
            "max_width": null,
            "min_height": null,
            "min_width": null,
            "object_fit": null,
            "object_position": null,
            "order": null,
            "overflow": null,
            "overflow_x": null,
            "overflow_y": null,
            "padding": null,
            "right": null,
            "top": null,
            "visibility": null,
            "width": null
          }
        },
        "89df6ed05b8747c19be5a1b389b8ed42": {
          "model_module": "@jupyter-widgets/base",
          "model_name": "LayoutModel",
          "model_module_version": "1.2.0",
          "state": {
            "_model_module": "@jupyter-widgets/base",
            "_model_module_version": "1.2.0",
            "_model_name": "LayoutModel",
            "_view_count": null,
            "_view_module": "@jupyter-widgets/base",
            "_view_module_version": "1.2.0",
            "_view_name": "LayoutView",
            "align_content": null,
            "align_items": null,
            "align_self": null,
            "border": null,
            "bottom": null,
            "display": null,
            "flex": null,
            "flex_flow": null,
            "grid_area": null,
            "grid_auto_columns": null,
            "grid_auto_flow": null,
            "grid_auto_rows": null,
            "grid_column": null,
            "grid_gap": null,
            "grid_row": null,
            "grid_template_areas": null,
            "grid_template_columns": null,
            "grid_template_rows": null,
            "height": null,
            "justify_content": null,
            "justify_items": null,
            "left": null,
            "margin": null,
            "max_height": null,
            "max_width": null,
            "min_height": null,
            "min_width": null,
            "object_fit": null,
            "object_position": null,
            "order": null,
            "overflow": null,
            "overflow_x": null,
            "overflow_y": null,
            "padding": null,
            "right": null,
            "top": null,
            "visibility": null,
            "width": null
          }
        },
        "78a161e2e63f41049083d48ce6bd7f4f": {
          "model_module": "@jupyter-widgets/controls",
          "model_name": "DescriptionStyleModel",
          "model_module_version": "1.5.0",
          "state": {
            "_model_module": "@jupyter-widgets/controls",
            "_model_module_version": "1.5.0",
            "_model_name": "DescriptionStyleModel",
            "_view_count": null,
            "_view_module": "@jupyter-widgets/base",
            "_view_module_version": "1.2.0",
            "_view_name": "StyleView",
            "description_width": ""
          }
        },
        "bc62cd35ea324eaf8f0a0eac243f0207": {
          "model_module": "@jupyter-widgets/base",
          "model_name": "LayoutModel",
          "model_module_version": "1.2.0",
          "state": {
            "_model_module": "@jupyter-widgets/base",
            "_model_module_version": "1.2.0",
            "_model_name": "LayoutModel",
            "_view_count": null,
            "_view_module": "@jupyter-widgets/base",
            "_view_module_version": "1.2.0",
            "_view_name": "LayoutView",
            "align_content": null,
            "align_items": null,
            "align_self": null,
            "border": null,
            "bottom": null,
            "display": null,
            "flex": null,
            "flex_flow": null,
            "grid_area": null,
            "grid_auto_columns": null,
            "grid_auto_flow": null,
            "grid_auto_rows": null,
            "grid_column": null,
            "grid_gap": null,
            "grid_row": null,
            "grid_template_areas": null,
            "grid_template_columns": null,
            "grid_template_rows": null,
            "height": null,
            "justify_content": null,
            "justify_items": null,
            "left": null,
            "margin": null,
            "max_height": null,
            "max_width": null,
            "min_height": null,
            "min_width": null,
            "object_fit": null,
            "object_position": null,
            "order": null,
            "overflow": null,
            "overflow_x": null,
            "overflow_y": null,
            "padding": null,
            "right": null,
            "top": null,
            "visibility": null,
            "width": null
          }
        },
        "85a6d8fc449a4dce9616b57c7e13a365": {
          "model_module": "@jupyter-widgets/controls",
          "model_name": "ProgressStyleModel",
          "model_module_version": "1.5.0",
          "state": {
            "_model_module": "@jupyter-widgets/controls",
            "_model_module_version": "1.5.0",
            "_model_name": "ProgressStyleModel",
            "_view_count": null,
            "_view_module": "@jupyter-widgets/base",
            "_view_module_version": "1.2.0",
            "_view_name": "StyleView",
            "bar_color": null,
            "description_width": ""
          }
        },
        "1941045b47c04a5f80e471d9c98f46f5": {
          "model_module": "@jupyter-widgets/base",
          "model_name": "LayoutModel",
          "model_module_version": "1.2.0",
          "state": {
            "_model_module": "@jupyter-widgets/base",
            "_model_module_version": "1.2.0",
            "_model_name": "LayoutModel",
            "_view_count": null,
            "_view_module": "@jupyter-widgets/base",
            "_view_module_version": "1.2.0",
            "_view_name": "LayoutView",
            "align_content": null,
            "align_items": null,
            "align_self": null,
            "border": null,
            "bottom": null,
            "display": null,
            "flex": null,
            "flex_flow": null,
            "grid_area": null,
            "grid_auto_columns": null,
            "grid_auto_flow": null,
            "grid_auto_rows": null,
            "grid_column": null,
            "grid_gap": null,
            "grid_row": null,
            "grid_template_areas": null,
            "grid_template_columns": null,
            "grid_template_rows": null,
            "height": null,
            "justify_content": null,
            "justify_items": null,
            "left": null,
            "margin": null,
            "max_height": null,
            "max_width": null,
            "min_height": null,
            "min_width": null,
            "object_fit": null,
            "object_position": null,
            "order": null,
            "overflow": null,
            "overflow_x": null,
            "overflow_y": null,
            "padding": null,
            "right": null,
            "top": null,
            "visibility": null,
            "width": null
          }
        },
        "417bf4a048b346abb37e4f8eb3cd9506": {
          "model_module": "@jupyter-widgets/controls",
          "model_name": "DescriptionStyleModel",
          "model_module_version": "1.5.0",
          "state": {
            "_model_module": "@jupyter-widgets/controls",
            "_model_module_version": "1.5.0",
            "_model_name": "DescriptionStyleModel",
            "_view_count": null,
            "_view_module": "@jupyter-widgets/base",
            "_view_module_version": "1.2.0",
            "_view_name": "StyleView",
            "description_width": ""
          }
        },
        "1f02816c18c649bd9de9d96b1658500b": {
          "model_module": "@jupyter-widgets/controls",
          "model_name": "HBoxModel",
          "model_module_version": "1.5.0",
          "state": {
            "_dom_classes": [],
            "_model_module": "@jupyter-widgets/controls",
            "_model_module_version": "1.5.0",
            "_model_name": "HBoxModel",
            "_view_count": null,
            "_view_module": "@jupyter-widgets/controls",
            "_view_module_version": "1.5.0",
            "_view_name": "HBoxView",
            "box_style": "",
            "children": [
              "IPY_MODEL_19020187bb734a6d85728261dacd80d5",
              "IPY_MODEL_72894c7b1b1840c48da777eeece5af7e",
              "IPY_MODEL_5c09914bbc394e769e1337e023742588"
            ],
            "layout": "IPY_MODEL_093594ece8ea40ada6ca39a671c8b786"
          }
        },
        "19020187bb734a6d85728261dacd80d5": {
          "model_module": "@jupyter-widgets/controls",
          "model_name": "HTMLModel",
          "model_module_version": "1.5.0",
          "state": {
            "_dom_classes": [],
            "_model_module": "@jupyter-widgets/controls",
            "_model_module_version": "1.5.0",
            "_model_name": "HTMLModel",
            "_view_count": null,
            "_view_module": "@jupyter-widgets/controls",
            "_view_module_version": "1.5.0",
            "_view_name": "HTMLView",
            "description": "",
            "description_tooltip": null,
            "layout": "IPY_MODEL_c6176200aac543429446d956a04ef94f",
            "placeholder": "​",
            "style": "IPY_MODEL_74b5f05374704df0b5deb93197601445",
            "value": "Downloading (…)lve/main/config.json: 100%"
          }
        },
        "72894c7b1b1840c48da777eeece5af7e": {
          "model_module": "@jupyter-widgets/controls",
          "model_name": "FloatProgressModel",
          "model_module_version": "1.5.0",
          "state": {
            "_dom_classes": [],
            "_model_module": "@jupyter-widgets/controls",
            "_model_module_version": "1.5.0",
            "_model_name": "FloatProgressModel",
            "_view_count": null,
            "_view_module": "@jupyter-widgets/controls",
            "_view_module_version": "1.5.0",
            "_view_name": "ProgressView",
            "bar_style": "success",
            "description": "",
            "description_tooltip": null,
            "layout": "IPY_MODEL_2da9eec0e7304645944d16df63bae1a4",
            "max": 570,
            "min": 0,
            "orientation": "horizontal",
            "style": "IPY_MODEL_47fb032026f0428688b836b8d97ce835",
            "value": 570
          }
        },
        "5c09914bbc394e769e1337e023742588": {
          "model_module": "@jupyter-widgets/controls",
          "model_name": "HTMLModel",
          "model_module_version": "1.5.0",
          "state": {
            "_dom_classes": [],
            "_model_module": "@jupyter-widgets/controls",
            "_model_module_version": "1.5.0",
            "_model_name": "HTMLModel",
            "_view_count": null,
            "_view_module": "@jupyter-widgets/controls",
            "_view_module_version": "1.5.0",
            "_view_name": "HTMLView",
            "description": "",
            "description_tooltip": null,
            "layout": "IPY_MODEL_d00c7edb447f4f06be365b0e790a855e",
            "placeholder": "​",
            "style": "IPY_MODEL_847d882f8bad435995a34a7d35f96e44",
            "value": " 570/570 [00:00&lt;00:00, 52.0kB/s]"
          }
        },
        "093594ece8ea40ada6ca39a671c8b786": {
          "model_module": "@jupyter-widgets/base",
          "model_name": "LayoutModel",
          "model_module_version": "1.2.0",
          "state": {
            "_model_module": "@jupyter-widgets/base",
            "_model_module_version": "1.2.0",
            "_model_name": "LayoutModel",
            "_view_count": null,
            "_view_module": "@jupyter-widgets/base",
            "_view_module_version": "1.2.0",
            "_view_name": "LayoutView",
            "align_content": null,
            "align_items": null,
            "align_self": null,
            "border": null,
            "bottom": null,
            "display": null,
            "flex": null,
            "flex_flow": null,
            "grid_area": null,
            "grid_auto_columns": null,
            "grid_auto_flow": null,
            "grid_auto_rows": null,
            "grid_column": null,
            "grid_gap": null,
            "grid_row": null,
            "grid_template_areas": null,
            "grid_template_columns": null,
            "grid_template_rows": null,
            "height": null,
            "justify_content": null,
            "justify_items": null,
            "left": null,
            "margin": null,
            "max_height": null,
            "max_width": null,
            "min_height": null,
            "min_width": null,
            "object_fit": null,
            "object_position": null,
            "order": null,
            "overflow": null,
            "overflow_x": null,
            "overflow_y": null,
            "padding": null,
            "right": null,
            "top": null,
            "visibility": null,
            "width": null
          }
        },
        "c6176200aac543429446d956a04ef94f": {
          "model_module": "@jupyter-widgets/base",
          "model_name": "LayoutModel",
          "model_module_version": "1.2.0",
          "state": {
            "_model_module": "@jupyter-widgets/base",
            "_model_module_version": "1.2.0",
            "_model_name": "LayoutModel",
            "_view_count": null,
            "_view_module": "@jupyter-widgets/base",
            "_view_module_version": "1.2.0",
            "_view_name": "LayoutView",
            "align_content": null,
            "align_items": null,
            "align_self": null,
            "border": null,
            "bottom": null,
            "display": null,
            "flex": null,
            "flex_flow": null,
            "grid_area": null,
            "grid_auto_columns": null,
            "grid_auto_flow": null,
            "grid_auto_rows": null,
            "grid_column": null,
            "grid_gap": null,
            "grid_row": null,
            "grid_template_areas": null,
            "grid_template_columns": null,
            "grid_template_rows": null,
            "height": null,
            "justify_content": null,
            "justify_items": null,
            "left": null,
            "margin": null,
            "max_height": null,
            "max_width": null,
            "min_height": null,
            "min_width": null,
            "object_fit": null,
            "object_position": null,
            "order": null,
            "overflow": null,
            "overflow_x": null,
            "overflow_y": null,
            "padding": null,
            "right": null,
            "top": null,
            "visibility": null,
            "width": null
          }
        },
        "74b5f05374704df0b5deb93197601445": {
          "model_module": "@jupyter-widgets/controls",
          "model_name": "DescriptionStyleModel",
          "model_module_version": "1.5.0",
          "state": {
            "_model_module": "@jupyter-widgets/controls",
            "_model_module_version": "1.5.0",
            "_model_name": "DescriptionStyleModel",
            "_view_count": null,
            "_view_module": "@jupyter-widgets/base",
            "_view_module_version": "1.2.0",
            "_view_name": "StyleView",
            "description_width": ""
          }
        },
        "2da9eec0e7304645944d16df63bae1a4": {
          "model_module": "@jupyter-widgets/base",
          "model_name": "LayoutModel",
          "model_module_version": "1.2.0",
          "state": {
            "_model_module": "@jupyter-widgets/base",
            "_model_module_version": "1.2.0",
            "_model_name": "LayoutModel",
            "_view_count": null,
            "_view_module": "@jupyter-widgets/base",
            "_view_module_version": "1.2.0",
            "_view_name": "LayoutView",
            "align_content": null,
            "align_items": null,
            "align_self": null,
            "border": null,
            "bottom": null,
            "display": null,
            "flex": null,
            "flex_flow": null,
            "grid_area": null,
            "grid_auto_columns": null,
            "grid_auto_flow": null,
            "grid_auto_rows": null,
            "grid_column": null,
            "grid_gap": null,
            "grid_row": null,
            "grid_template_areas": null,
            "grid_template_columns": null,
            "grid_template_rows": null,
            "height": null,
            "justify_content": null,
            "justify_items": null,
            "left": null,
            "margin": null,
            "max_height": null,
            "max_width": null,
            "min_height": null,
            "min_width": null,
            "object_fit": null,
            "object_position": null,
            "order": null,
            "overflow": null,
            "overflow_x": null,
            "overflow_y": null,
            "padding": null,
            "right": null,
            "top": null,
            "visibility": null,
            "width": null
          }
        },
        "47fb032026f0428688b836b8d97ce835": {
          "model_module": "@jupyter-widgets/controls",
          "model_name": "ProgressStyleModel",
          "model_module_version": "1.5.0",
          "state": {
            "_model_module": "@jupyter-widgets/controls",
            "_model_module_version": "1.5.0",
            "_model_name": "ProgressStyleModel",
            "_view_count": null,
            "_view_module": "@jupyter-widgets/base",
            "_view_module_version": "1.2.0",
            "_view_name": "StyleView",
            "bar_color": null,
            "description_width": ""
          }
        },
        "d00c7edb447f4f06be365b0e790a855e": {
          "model_module": "@jupyter-widgets/base",
          "model_name": "LayoutModel",
          "model_module_version": "1.2.0",
          "state": {
            "_model_module": "@jupyter-widgets/base",
            "_model_module_version": "1.2.0",
            "_model_name": "LayoutModel",
            "_view_count": null,
            "_view_module": "@jupyter-widgets/base",
            "_view_module_version": "1.2.0",
            "_view_name": "LayoutView",
            "align_content": null,
            "align_items": null,
            "align_self": null,
            "border": null,
            "bottom": null,
            "display": null,
            "flex": null,
            "flex_flow": null,
            "grid_area": null,
            "grid_auto_columns": null,
            "grid_auto_flow": null,
            "grid_auto_rows": null,
            "grid_column": null,
            "grid_gap": null,
            "grid_row": null,
            "grid_template_areas": null,
            "grid_template_columns": null,
            "grid_template_rows": null,
            "height": null,
            "justify_content": null,
            "justify_items": null,
            "left": null,
            "margin": null,
            "max_height": null,
            "max_width": null,
            "min_height": null,
            "min_width": null,
            "object_fit": null,
            "object_position": null,
            "order": null,
            "overflow": null,
            "overflow_x": null,
            "overflow_y": null,
            "padding": null,
            "right": null,
            "top": null,
            "visibility": null,
            "width": null
          }
        },
        "847d882f8bad435995a34a7d35f96e44": {
          "model_module": "@jupyter-widgets/controls",
          "model_name": "DescriptionStyleModel",
          "model_module_version": "1.5.0",
          "state": {
            "_model_module": "@jupyter-widgets/controls",
            "_model_module_version": "1.5.0",
            "_model_name": "DescriptionStyleModel",
            "_view_count": null,
            "_view_module": "@jupyter-widgets/base",
            "_view_module_version": "1.2.0",
            "_view_name": "StyleView",
            "description_width": ""
          }
        }
      }
    }
  },
  "nbformat": 4,
  "nbformat_minor": 5
}